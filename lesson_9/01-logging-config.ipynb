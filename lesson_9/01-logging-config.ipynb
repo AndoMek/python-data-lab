{
 "cells": [
  {
   "cell_type": "markdown",
   "metadata": {},
   "source": [
    "# logging.config — Logging configuration\n",
    "[logging.config in documentation](https://docs.python.org/3/library/logging.config.html)"
   ]
  },
  {
   "cell_type": "markdown",
   "metadata": {},
   "source": [
    "## Logging Additional info\n",
    "* [Basic Logging Configuration](https://docs.python.org/3/howto/logging.html#logging-basic-tutorial)\n",
    "* [Advanced Logging Tutorial](https://docs.python.org/3/howto/logging.html#logging-advanced-tutorial)\n",
    "* [Logging Cookbook](https://docs.python.org/3/howto/logging-cookbook.html#logging-cookbook)"
   ]
  },
  {
   "cell_type": "code",
   "execution_count": 1,
   "metadata": {
    "ExecuteTime": {
     "end_time": "2021-02-01T07:34:45.292334Z",
     "start_time": "2021-02-01T07:34:45.288903Z"
    }
   },
   "outputs": [
    {
     "name": "stdout",
     "output_type": "stream",
     "text": [
      "name = 'concurrent.futures', logger_object = <Logger concurrent.futures (WARNING)>\n",
      "name = 'concurrent', logger_object = <logging.PlaceHolder object at 0x7f5db76c98b0>\n",
      "name = 'asyncio', logger_object = <Logger asyncio (WARNING)>\n",
      "name = 'parso.python.diff', logger_object = <Logger parso.python.diff (WARNING)>\n",
      "name = 'parso.python', logger_object = <logging.PlaceHolder object at 0x7f5db7eb50a0>\n",
      "name = 'parso', logger_object = <logging.PlaceHolder object at 0x7f5db7eb5100>\n",
      "name = 'parso.cache', logger_object = <Logger parso.cache (WARNING)>\n",
      "name = 'tornado.access', logger_object = <Logger tornado.access (WARNING)>\n",
      "name = 'tornado', logger_object = <Logger tornado (WARNING)>\n",
      "name = 'tornado.application', logger_object = <Logger tornado.application (WARNING)>\n",
      "name = 'tornado.general', logger_object = <Logger tornado.general (WARNING)>\n",
      "name = 'IPKernelApp', logger_object = <Logger IPKernelApp (WARNING)>\n"
     ]
    }
   ],
   "source": [
    "import logging\n",
    "\n",
    "\n",
    "for name, logger_object in logging.root.manager.loggerDict.items():\n",
    "    print(f\"{name = }, {logger_object = }\")"
   ]
  },
  {
   "cell_type": "code",
   "execution_count": null,
   "metadata": {},
   "outputs": [],
   "source": []
  },
  {
   "cell_type": "code",
   "execution_count": null,
   "metadata": {},
   "outputs": [],
   "source": []
  },
  {
   "cell_type": "code",
   "execution_count": 5,
   "metadata": {
    "ExecuteTime": {
     "end_time": "2021-02-01T07:36:27.804883Z",
     "start_time": "2021-02-01T07:36:27.801128Z"
    }
   },
   "outputs": [
    {
     "name": "stdout",
     "output_type": "stream",
     "text": [
      "name = 'concurrent.futures', logger_object = <Logger concurrent.futures (WARNING)>\n",
      "Non initialised logger: name = 'concurrent', logger_object = <logging.PlaceHolder object at 0x7f5db76c98b0>\n",
      "name = 'asyncio', logger_object = <Logger asyncio (WARNING)>\n",
      "name = 'parso.python.diff', logger_object = <Logger parso.python.diff (WARNING)>\n",
      "Non initialised logger: name = 'parso.python', logger_object = <logging.PlaceHolder object at 0x7f5db7eb50a0>\n",
      "Non initialised logger: name = 'parso', logger_object = <logging.PlaceHolder object at 0x7f5db7eb5100>\n",
      "name = 'parso.cache', logger_object = <Logger parso.cache (WARNING)>\n",
      "name = 'tornado.access', logger_object = <Logger tornado.access (WARNING)>\n",
      "name = 'tornado', logger_object = <Logger tornado (WARNING)>\n",
      "name = 'tornado.application', logger_object = <Logger tornado.application (WARNING)>\n",
      "name = 'tornado.general', logger_object = <Logger tornado.general (WARNING)>\n",
      "name = 'IPKernelApp', logger_object = <Logger IPKernelApp (WARNING)>\n"
     ]
    }
   ],
   "source": [
    "import logging\n",
    "\n",
    "\n",
    "for name, logger_object in logging.root.manager.loggerDict.items():\n",
    "    if isinstance(logger_object, logging.Logger):\n",
    "        print(f\"{name = }, {logger_object = }\")\n",
    "    else:\n",
    "        print(f\"Non initialised logger: {name = }, {logger_object = }\")\n"
   ]
  },
  {
   "cell_type": "code",
   "execution_count": null,
   "metadata": {},
   "outputs": [],
   "source": []
  },
  {
   "cell_type": "code",
   "execution_count": 7,
   "metadata": {
    "ExecuteTime": {
     "end_time": "2021-02-01T07:38:10.305335Z",
     "start_time": "2021-02-01T07:38:10.297913Z"
    }
   },
   "outputs": [
    {
     "name": "stdout",
     "output_type": "stream",
     "text": [
      "name = 'concurrent.futures', logger_object = <Logger concurrent.futures (WARNING)>\n",
      "Non initialised logger: name = 'concurrent', logger_object = <logging.PlaceHolder object at 0x7f5db76c98b0>\n"
     ]
    },
    {
     "ename": "AttributeError",
     "evalue": "'PlaceHolder' object has no attribute 'debug'",
     "output_type": "error",
     "traceback": [
      "\u001b[0;31m---------------------------------------------------------------------------\u001b[0m",
      "\u001b[0;31mAttributeError\u001b[0m                            Traceback (most recent call last)",
      "\u001b[0;32m<ipython-input-7-aaf30627cdc6>\u001b[0m in \u001b[0;36m<module>\u001b[0;34m\u001b[0m\n\u001b[1;32m      8\u001b[0m         \u001b[0mprint\u001b[0m\u001b[0;34m(\u001b[0m\u001b[0;34mf\"Non initialised logger: {name = }, {logger_object = }\"\u001b[0m\u001b[0;34m)\u001b[0m\u001b[0;34m\u001b[0m\u001b[0;34m\u001b[0m\u001b[0m\n\u001b[1;32m      9\u001b[0m         \u001b[0;31m# logging.PlaceHolder doesn't have all methods of logging.Logger\u001b[0m\u001b[0;34m\u001b[0m\u001b[0;34m\u001b[0m\u001b[0;34m\u001b[0m\u001b[0m\n\u001b[0;32m---> 10\u001b[0;31m         \u001b[0mlogger_object\u001b[0m\u001b[0;34m.\u001b[0m\u001b[0mdebug\u001b[0m\u001b[0;34m(\u001b[0m\u001b[0;34m\"sss\"\u001b[0m\u001b[0;34m)\u001b[0m\u001b[0;34m\u001b[0m\u001b[0;34m\u001b[0m\u001b[0m\n\u001b[0m\u001b[1;32m     11\u001b[0m \u001b[0;34m\u001b[0m\u001b[0m\n\u001b[1;32m     12\u001b[0m     \u001b[0;31m# Do not work directly `logger_object` - it could be placeholder\u001b[0m\u001b[0;34m\u001b[0m\u001b[0;34m\u001b[0m\u001b[0;34m\u001b[0m\u001b[0m\n",
      "\u001b[0;31mAttributeError\u001b[0m: 'PlaceHolder' object has no attribute 'debug'"
     ]
    }
   ],
   "source": [
    "import logging\n",
    "\n",
    "\n",
    "for name, logger_object in logging.root.manager.loggerDict.items():\n",
    "    if isinstance(logger_object, logging.Logger):\n",
    "        print(f\"{name = }, {logger_object = }\")\n",
    "    else:\n",
    "        print(f\"Non initialised logger: {name = }, {logger_object = }\")\n",
    "        # logging.PlaceHolder doesn't have all methods of logging.Logger\n",
    "        logger_object.debug(\"sss\")\n",
    "        \n",
    "    # Do not work directly `logger_object` - it could be placeholder"
   ]
  },
  {
   "cell_type": "code",
   "execution_count": null,
   "metadata": {},
   "outputs": [],
   "source": []
  },
  {
   "cell_type": "code",
   "execution_count": null,
   "metadata": {},
   "outputs": [],
   "source": []
  },
  {
   "cell_type": "code",
   "execution_count": 8,
   "metadata": {
    "ExecuteTime": {
     "end_time": "2021-02-01T07:38:40.623599Z",
     "start_time": "2021-02-01T07:38:40.618481Z"
    }
   },
   "outputs": [
    {
     "name": "stdout",
     "output_type": "stream",
     "text": [
      "name = 'concurrent.futures', logger_object = <Logger concurrent.futures (WARNING)>\n",
      "name = 'concurrent.futures', actual_logger = <Logger concurrent.futures (WARNING)>\n",
      "\n",
      "name = 'concurrent', logger_object = <logging.PlaceHolder object at 0x7f5db76c98b0>\n",
      "name = 'concurrent', actual_logger = <Logger concurrent (WARNING)>\n",
      "\n",
      "name = 'asyncio', logger_object = <Logger asyncio (WARNING)>\n",
      "name = 'asyncio', actual_logger = <Logger asyncio (WARNING)>\n",
      "\n",
      "name = 'parso.python.diff', logger_object = <Logger parso.python.diff (WARNING)>\n",
      "name = 'parso.python.diff', actual_logger = <Logger parso.python.diff (WARNING)>\n",
      "\n",
      "name = 'parso.python', logger_object = <logging.PlaceHolder object at 0x7f5db7eb50a0>\n",
      "name = 'parso.python', actual_logger = <Logger parso.python (WARNING)>\n",
      "\n",
      "name = 'parso', logger_object = <logging.PlaceHolder object at 0x7f5db7eb5100>\n",
      "name = 'parso', actual_logger = <Logger parso (WARNING)>\n",
      "\n",
      "name = 'parso.cache', logger_object = <Logger parso.cache (WARNING)>\n",
      "name = 'parso.cache', actual_logger = <Logger parso.cache (WARNING)>\n",
      "\n",
      "name = 'tornado.access', logger_object = <Logger tornado.access (WARNING)>\n",
      "name = 'tornado.access', actual_logger = <Logger tornado.access (WARNING)>\n",
      "\n",
      "name = 'tornado', logger_object = <Logger tornado (WARNING)>\n",
      "name = 'tornado', actual_logger = <Logger tornado (WARNING)>\n",
      "\n",
      "name = 'tornado.application', logger_object = <Logger tornado.application (WARNING)>\n",
      "name = 'tornado.application', actual_logger = <Logger tornado.application (WARNING)>\n",
      "\n",
      "name = 'tornado.general', logger_object = <Logger tornado.general (WARNING)>\n",
      "name = 'tornado.general', actual_logger = <Logger tornado.general (WARNING)>\n",
      "\n",
      "name = 'IPKernelApp', logger_object = <Logger IPKernelApp (WARNING)>\n",
      "name = 'IPKernelApp', actual_logger = <Logger IPKernelApp (WARNING)>\n",
      "\n"
     ]
    }
   ],
   "source": [
    "import logging\n",
    "\n",
    "\n",
    "for name, logger_object in logging.root.manager.loggerDict.items():\n",
    "    print(f\"{name = }, {logger_object = }\")\n",
    "    actual_logger = logging.getLogger(name)  # will initialised logging.PlaceHolder\n",
    "    print(f\"{name = }, {actual_logger = }\")\n",
    "    print()\n"
   ]
  },
  {
   "cell_type": "code",
   "execution_count": null,
   "metadata": {},
   "outputs": [],
   "source": []
  },
  {
   "cell_type": "code",
   "execution_count": 9,
   "metadata": {
    "ExecuteTime": {
     "end_time": "2021-02-01T07:39:22.124870Z",
     "start_time": "2021-02-01T07:39:22.120941Z"
    }
   },
   "outputs": [
    {
     "name": "stdout",
     "output_type": "stream",
     "text": [
      "name = 'concurrent.futures', logger_object = <Logger concurrent.futures (WARNING)>\n",
      "name = 'concurrent', logger_object = <Logger concurrent (WARNING)>\n",
      "name = 'asyncio', logger_object = <Logger asyncio (WARNING)>\n",
      "name = 'parso.python.diff', logger_object = <Logger parso.python.diff (WARNING)>\n",
      "name = 'parso.python', logger_object = <Logger parso.python (WARNING)>\n",
      "name = 'parso', logger_object = <Logger parso (WARNING)>\n",
      "name = 'parso.cache', logger_object = <Logger parso.cache (WARNING)>\n",
      "name = 'tornado.access', logger_object = <Logger tornado.access (WARNING)>\n",
      "name = 'tornado', logger_object = <Logger tornado (WARNING)>\n",
      "name = 'tornado.application', logger_object = <Logger tornado.application (WARNING)>\n",
      "name = 'tornado.general', logger_object = <Logger tornado.general (WARNING)>\n",
      "name = 'IPKernelApp', logger_object = <Logger IPKernelApp (WARNING)>\n"
     ]
    }
   ],
   "source": [
    "# Run again to check\n",
    "\n",
    "import logging\n",
    "\n",
    "\n",
    "for name, logger_object in logging.root.manager.loggerDict.items():\n",
    "    if isinstance(logger_object, logging.Logger):\n",
    "        print(f\"{name = }, {logger_object = }\")\n",
    "    else:\n",
    "        print(f\"Non initialised logger: {name = }, {logger_object = }\")\n",
    "        \n",
    "# Do not direct use logger_object instead of get logger by logging.getLogger(name)\n",
    "# Don't do that Andrey did in the past"
   ]
  },
  {
   "cell_type": "code",
   "execution_count": null,
   "metadata": {},
   "outputs": [],
   "source": []
  },
  {
   "cell_type": "code",
   "execution_count": null,
   "metadata": {},
   "outputs": [],
   "source": []
  },
  {
   "cell_type": "code",
   "execution_count": null,
   "metadata": {},
   "outputs": [],
   "source": []
  },
  {
   "cell_type": "code",
   "execution_count": 1,
   "metadata": {
    "ExecuteTime": {
     "end_time": "2021-02-01T08:03:43.996631Z",
     "start_time": "2021-02-01T08:03:43.993287Z"
    }
   },
   "outputs": [],
   "source": [
    "import logging\n",
    "\n",
    "\n",
    "def print_logging_info():\n",
    "    # logging.getLogger('') or logging.getLogger(None) its logging.RootLogger\n",
    "    loggers_name = [None, *logging.root.manager.loggerDict]\n",
    "    \n",
    "    for name in loggers_name:\n",
    "        log = logging.getLogger(name)\n",
    "        parent_name = log.parent.name if isinstance(log.parent, logging.Logger) else log.parent\n",
    "        \n",
    "        print(f\"{log.name!r}: Enabled: {not log.disabled}, Handlers: {log.handlers}, \"\n",
    "              f\"Level(int): {log.level}, Propagade: {log.propagate}, \"\n",
    "              f\"Parent: {parent_name!r}\")"
   ]
  },
  {
   "cell_type": "code",
   "execution_count": null,
   "metadata": {},
   "outputs": [],
   "source": []
  },
  {
   "cell_type": "code",
   "execution_count": 11,
   "metadata": {
    "ExecuteTime": {
     "end_time": "2021-02-01T07:40:33.149513Z",
     "start_time": "2021-02-01T07:40:33.144887Z"
    }
   },
   "outputs": [
    {
     "name": "stdout",
     "output_type": "stream",
     "text": [
      "'root': Enabled: True, Handlers: [], Level(int): 30, Propagade: True, Parent: None\n",
      "'concurrent.futures': Enabled: True, Handlers: [], Level(int): 0, Propagade: True, Parent: 'concurrent'\n",
      "'concurrent': Enabled: True, Handlers: [], Level(int): 0, Propagade: True, Parent: 'root'\n",
      "'asyncio': Enabled: True, Handlers: [], Level(int): 0, Propagade: True, Parent: 'root'\n",
      "'parso.python.diff': Enabled: True, Handlers: [], Level(int): 0, Propagade: True, Parent: 'parso.python'\n",
      "'parso.python': Enabled: True, Handlers: [], Level(int): 0, Propagade: True, Parent: 'parso'\n",
      "'parso': Enabled: True, Handlers: [], Level(int): 0, Propagade: True, Parent: 'root'\n",
      "'parso.cache': Enabled: True, Handlers: [], Level(int): 0, Propagade: True, Parent: 'parso'\n",
      "'tornado.access': Enabled: True, Handlers: [], Level(int): 0, Propagade: True, Parent: 'tornado'\n",
      "'tornado': Enabled: True, Handlers: [<StreamHandler <stderr> (NOTSET)>], Level(int): 0, Propagade: True, Parent: 'root'\n",
      "'tornado.application': Enabled: True, Handlers: [], Level(int): 0, Propagade: True, Parent: 'tornado'\n",
      "'tornado.general': Enabled: True, Handlers: [], Level(int): 0, Propagade: True, Parent: 'tornado'\n",
      "'IPKernelApp': Enabled: True, Handlers: [<StreamHandler <stderr> (NOTSET)>], Level(int): 30, Propagade: False, Parent: 'root'\n"
     ]
    }
   ],
   "source": [
    "print_logging_info()"
   ]
  },
  {
   "cell_type": "code",
   "execution_count": null,
   "metadata": {},
   "outputs": [],
   "source": []
  },
  {
   "cell_type": "markdown",
   "metadata": {},
   "source": [
    "## Existed logging.config classes and class-fabrics\n",
    "\n",
    "* `logging.config.dictConfig` - Takes the logging configuration from a dictionary. \n",
    "* `logging.config.fileConfig` - Reads the logging configuration from a [configparser](https://docs.python.org/3/library/configparser.html#module-configparser)-format file.\n",
    "* `logging.config.listen` - Starts up a socket server on the specified port, and listens for new configurations"
   ]
  },
  {
   "cell_type": "code",
   "execution_count": 12,
   "metadata": {
    "ExecuteTime": {
     "end_time": "2021-02-01T07:41:24.991191Z",
     "start_time": "2021-02-01T07:41:24.984802Z"
    }
   },
   "outputs": [],
   "source": [
    "from logging.config import dictConfig"
   ]
  },
  {
   "cell_type": "code",
   "execution_count": 13,
   "metadata": {
    "ExecuteTime": {
     "end_time": "2021-02-01T07:41:26.909144Z",
     "start_time": "2021-02-01T07:41:26.906313Z"
    }
   },
   "outputs": [
    {
     "name": "stdout",
     "output_type": "stream",
     "text": [
      "Help on function dictConfig in module logging.config:\n",
      "\n",
      "dictConfig(config)\n",
      "    Configure logging using a dictionary.\n",
      "\n"
     ]
    }
   ],
   "source": [
    "help(dictConfig)"
   ]
  },
  {
   "cell_type": "code",
   "execution_count": null,
   "metadata": {},
   "outputs": [],
   "source": []
  },
  {
   "cell_type": "code",
   "execution_count": 14,
   "metadata": {
    "ExecuteTime": {
     "end_time": "2021-02-01T07:49:23.131412Z",
     "start_time": "2021-02-01T07:49:23.081322Z"
    }
   },
   "outputs": [
    {
     "data": {
      "text/plain": [
       "{'version': 1,\n",
       " 'disable_existing_loggers': False,\n",
       " 'formatters': {'simple': {'format': '%(asctime)s %(name)s %(levelname)s %(module)s %(message)s'},\n",
       "  'fancy': {'format': '%(asctime)s|%(name)s %(levelname)s|%(module)s.%(funcName)s:%(lineno)-2s|%(message)s'},\n",
       "  'debug': {'format': '%(asctime)s|%(name)s %(levelname)s|%(pathname)s:%(funcName)s:%(lineno)-2s|%(message)s'}},\n",
       " 'handlers': {'console_stdout': {'class': 'logging.StreamHandler',\n",
       "   'level': 'DEBUG',\n",
       "   'formatter': 'simple',\n",
       "   'stream': 'ext://sys.stdout'},\n",
       "  'console_stderr': {'class': 'logging.StreamHandler',\n",
       "   'level': 'WARNING',\n",
       "   'formatter': 'fancy',\n",
       "   'stream': 'ext://sys.stderr'}},\n",
       " 'loggers': {'urllib3': {'level': 'DEBUG',\n",
       "   'handlers': ['console_stderr'],\n",
       "   'propagate': False},\n",
       "  'requests': {'level': 'DEBUG',\n",
       "   'handlers': ['console_stdout'],\n",
       "   'propagate': False}},\n",
       " 'root': {'level': 'NOTSET', 'handlers': ['console_stdout']}}"
      ]
     },
     "execution_count": 14,
     "metadata": {},
     "output_type": "execute_result"
    }
   ],
   "source": [
    "from logging.config import dictConfig\n",
    "import yaml   #  PyYAML - https://pypi.org/project/PyYAML/ ; https://pyyaml.org/wiki/PyYAMLDocumentation\n",
    "\n",
    "with open(\"logger-01.yml\", \"r\") as fp:\n",
    "    config_01 = yaml.safe_load(fp)\n",
    "\n",
    "config_01"
   ]
  },
  {
   "cell_type": "code",
   "execution_count": 15,
   "metadata": {
    "ExecuteTime": {
     "end_time": "2021-02-01T07:49:28.604649Z",
     "start_time": "2021-02-01T07:49:28.600803Z"
    }
   },
   "outputs": [
    {
     "data": {
      "text/plain": [
       "dict"
      ]
     },
     "execution_count": 15,
     "metadata": {},
     "output_type": "execute_result"
    }
   ],
   "source": [
    "type(config_01)"
   ]
  },
  {
   "cell_type": "code",
   "execution_count": null,
   "metadata": {},
   "outputs": [],
   "source": []
  },
  {
   "cell_type": "code",
   "execution_count": null,
   "metadata": {},
   "outputs": [],
   "source": []
  },
  {
   "cell_type": "code",
   "execution_count": null,
   "metadata": {},
   "outputs": [],
   "source": []
  },
  {
   "cell_type": "code",
   "execution_count": 16,
   "metadata": {
    "ExecuteTime": {
     "end_time": "2021-02-01T07:49:32.957154Z",
     "start_time": "2021-02-01T07:49:32.953005Z"
    }
   },
   "outputs": [
    {
     "name": "stdout",
     "output_type": "stream",
     "text": [
      "'root': Enabled: True, Handlers: [<StreamHandler stdout (DEBUG)>], Level(int): 0, Propagade: True, Parent: None\n",
      "'concurrent.futures': Enabled: True, Handlers: [], Level(int): 0, Propagade: True, Parent: 'concurrent'\n",
      "'concurrent': Enabled: True, Handlers: [], Level(int): 0, Propagade: True, Parent: 'root'\n",
      "'asyncio': Enabled: True, Handlers: [], Level(int): 0, Propagade: True, Parent: 'root'\n",
      "'parso.python.diff': Enabled: True, Handlers: [], Level(int): 0, Propagade: True, Parent: 'parso.python'\n",
      "'parso.python': Enabled: True, Handlers: [], Level(int): 0, Propagade: True, Parent: 'parso'\n",
      "'parso': Enabled: True, Handlers: [], Level(int): 0, Propagade: True, Parent: 'root'\n",
      "'parso.cache': Enabled: True, Handlers: [], Level(int): 0, Propagade: True, Parent: 'parso'\n",
      "'tornado.access': Enabled: True, Handlers: [], Level(int): 0, Propagade: True, Parent: 'tornado'\n",
      "'tornado': Enabled: True, Handlers: [<StreamHandler <stderr> (NOTSET)>], Level(int): 0, Propagade: True, Parent: 'root'\n",
      "'tornado.application': Enabled: True, Handlers: [], Level(int): 0, Propagade: True, Parent: 'tornado'\n",
      "'tornado.general': Enabled: True, Handlers: [], Level(int): 0, Propagade: True, Parent: 'tornado'\n",
      "'IPKernelApp': Enabled: True, Handlers: [<StreamHandler <stderr> (NOTSET)>], Level(int): 30, Propagade: False, Parent: 'root'\n",
      "'urllib3': Enabled: True, Handlers: [<StreamHandler stderr (WARNING)>], Level(int): 10, Propagade: False, Parent: 'root'\n",
      "'requests': Enabled: True, Handlers: [<StreamHandler stdout (DEBUG)>], Level(int): 10, Propagade: False, Parent: 'root'\n"
     ]
    }
   ],
   "source": [
    "dictConfig(config_01)\n",
    "\n",
    "print_logging_info()"
   ]
  },
  {
   "cell_type": "code",
   "execution_count": null,
   "metadata": {},
   "outputs": [],
   "source": []
  },
  {
   "cell_type": "code",
   "execution_count": 17,
   "metadata": {
    "ExecuteTime": {
     "end_time": "2021-02-01T07:50:36.941319Z",
     "start_time": "2021-02-01T07:50:36.904989Z"
    }
   },
   "outputs": [
    {
     "name": "stdout",
     "output_type": "stream",
     "text": [
      "'root': Enabled: True, Handlers: [<StreamHandler stdout (DEBUG)>], Level(int): 0, Propagade: True, Parent: None\n",
      "'concurrent.futures': Enabled: False, Handlers: [], Level(int): 0, Propagade: True, Parent: 'concurrent'\n",
      "'concurrent': Enabled: False, Handlers: [], Level(int): 0, Propagade: True, Parent: 'root'\n",
      "'asyncio': Enabled: False, Handlers: [], Level(int): 0, Propagade: True, Parent: 'root'\n",
      "'parso.python.diff': Enabled: False, Handlers: [], Level(int): 0, Propagade: True, Parent: 'parso.python'\n",
      "'parso.python': Enabled: False, Handlers: [], Level(int): 0, Propagade: True, Parent: 'parso'\n",
      "'parso': Enabled: False, Handlers: [], Level(int): 0, Propagade: True, Parent: 'root'\n",
      "'parso.cache': Enabled: False, Handlers: [], Level(int): 0, Propagade: True, Parent: 'parso'\n",
      "'tornado.access': Enabled: False, Handlers: [], Level(int): 0, Propagade: True, Parent: 'tornado'\n",
      "'tornado': Enabled: False, Handlers: [<StreamHandler <stderr> (NOTSET)>], Level(int): 0, Propagade: True, Parent: 'root'\n",
      "'tornado.application': Enabled: False, Handlers: [], Level(int): 0, Propagade: True, Parent: 'tornado'\n",
      "'tornado.general': Enabled: False, Handlers: [], Level(int): 0, Propagade: True, Parent: 'tornado'\n",
      "'IPKernelApp': Enabled: False, Handlers: [<StreamHandler <stderr> (NOTSET)>], Level(int): 30, Propagade: False, Parent: 'root'\n",
      "'urllib3': Enabled: False, Handlers: [<StreamHandler stderr (WARNING)>, <NullHandler (NOTSET)>], Level(int): 10, Propagade: False, Parent: 'root'\n",
      "'requests': Enabled: False, Handlers: [<StreamHandler stdout (DEBUG)>, <NullHandler (NOTSET)>], Level(int): 10, Propagade: False, Parent: 'root'\n",
      "'urllib3.util.retry': Enabled: False, Handlers: [], Level(int): 0, Propagade: True, Parent: 'urllib3'\n",
      "'urllib3.util': Enabled: True, Handlers: [], Level(int): 0, Propagade: True, Parent: 'urllib3'\n",
      "'urllib3.connection': Enabled: False, Handlers: [], Level(int): 0, Propagade: True, Parent: 'urllib3'\n",
      "'urllib3.response': Enabled: False, Handlers: [], Level(int): 0, Propagade: True, Parent: 'urllib3'\n",
      "'urllib3.connectionpool': Enabled: False, Handlers: [], Level(int): 0, Propagade: True, Parent: 'urllib3'\n",
      "'urllib3.poolmanager': Enabled: False, Handlers: [], Level(int): 0, Propagade: True, Parent: 'urllib3'\n",
      "'__main__': Enabled: True, Handlers: [<StreamHandler stderr (WARNING)>], Level(int): 30, Propagade: False, Parent: 'root'\n"
     ]
    }
   ],
   "source": [
    "# disable_existing_loggers: true\n",
    "from logging.config import dictConfig\n",
    "import yaml\n",
    "import requests\n",
    "\n",
    "\n",
    "with open(\"logger-02.yml\", \"r\") as fp:\n",
    "    config_02 = yaml.safe_load(fp)\n",
    "\n",
    "dictConfig(config_02)\n",
    "\n",
    "print_logging_info()"
   ]
  },
  {
   "cell_type": "code",
   "execution_count": null,
   "metadata": {},
   "outputs": [],
   "source": []
  },
  {
   "cell_type": "code",
   "execution_count": null,
   "metadata": {},
   "outputs": [],
   "source": []
  },
  {
   "cell_type": "code",
   "execution_count": 18,
   "metadata": {
    "ExecuteTime": {
     "end_time": "2021-02-01T07:53:23.114864Z",
     "start_time": "2021-02-01T07:53:23.112548Z"
    }
   },
   "outputs": [],
   "source": [
    "import requests"
   ]
  },
  {
   "cell_type": "code",
   "execution_count": 19,
   "metadata": {
    "ExecuteTime": {
     "end_time": "2021-02-01T07:53:24.749904Z",
     "start_time": "2021-02-01T07:53:24.745625Z"
    }
   },
   "outputs": [
    {
     "name": "stdout",
     "output_type": "stream",
     "text": [
      "'root': Enabled: True, Handlers: [<StreamHandler stdout (DEBUG)>], Level(int): 0, Propagade: True, Parent: None\n",
      "'concurrent.futures': Enabled: False, Handlers: [], Level(int): 0, Propagade: True, Parent: 'concurrent'\n",
      "'concurrent': Enabled: False, Handlers: [], Level(int): 0, Propagade: True, Parent: 'root'\n",
      "'asyncio': Enabled: False, Handlers: [], Level(int): 0, Propagade: True, Parent: 'root'\n",
      "'parso.python.diff': Enabled: False, Handlers: [], Level(int): 0, Propagade: True, Parent: 'parso.python'\n",
      "'parso.python': Enabled: False, Handlers: [], Level(int): 0, Propagade: True, Parent: 'parso'\n",
      "'parso': Enabled: False, Handlers: [], Level(int): 0, Propagade: True, Parent: 'root'\n",
      "'parso.cache': Enabled: False, Handlers: [], Level(int): 0, Propagade: True, Parent: 'parso'\n",
      "'tornado.access': Enabled: False, Handlers: [], Level(int): 0, Propagade: True, Parent: 'tornado'\n",
      "'tornado': Enabled: False, Handlers: [<StreamHandler <stderr> (NOTSET)>], Level(int): 0, Propagade: True, Parent: 'root'\n",
      "'tornado.application': Enabled: False, Handlers: [], Level(int): 0, Propagade: True, Parent: 'tornado'\n",
      "'tornado.general': Enabled: False, Handlers: [], Level(int): 0, Propagade: True, Parent: 'tornado'\n",
      "'IPKernelApp': Enabled: False, Handlers: [<StreamHandler <stderr> (NOTSET)>], Level(int): 30, Propagade: False, Parent: 'root'\n",
      "'urllib3': Enabled: False, Handlers: [<StreamHandler stderr (WARNING)>, <NullHandler (NOTSET)>], Level(int): 10, Propagade: False, Parent: 'root'\n",
      "'requests': Enabled: False, Handlers: [<StreamHandler stdout (DEBUG)>, <NullHandler (NOTSET)>], Level(int): 10, Propagade: False, Parent: 'root'\n",
      "'urllib3.util.retry': Enabled: False, Handlers: [], Level(int): 0, Propagade: True, Parent: 'urllib3.util'\n",
      "'urllib3.util': Enabled: True, Handlers: [], Level(int): 0, Propagade: True, Parent: 'urllib3'\n",
      "'urllib3.connection': Enabled: False, Handlers: [], Level(int): 0, Propagade: True, Parent: 'urllib3'\n",
      "'urllib3.response': Enabled: False, Handlers: [], Level(int): 0, Propagade: True, Parent: 'urllib3'\n",
      "'urllib3.connectionpool': Enabled: False, Handlers: [], Level(int): 0, Propagade: True, Parent: 'urllib3'\n",
      "'urllib3.poolmanager': Enabled: False, Handlers: [], Level(int): 0, Propagade: True, Parent: 'urllib3'\n",
      "'__main__': Enabled: True, Handlers: [<StreamHandler stderr (WARNING)>], Level(int): 30, Propagade: False, Parent: 'root'\n"
     ]
    }
   ],
   "source": [
    "print_logging_info()"
   ]
  },
  {
   "cell_type": "code",
   "execution_count": 20,
   "metadata": {
    "ExecuteTime": {
     "end_time": "2021-02-01T07:53:42.945050Z",
     "start_time": "2021-02-01T07:53:42.184926Z"
    }
   },
   "outputs": [
    {
     "data": {
      "text/plain": [
       "<Response [500]>"
      ]
     },
     "execution_count": 20,
     "metadata": {},
     "output_type": "execute_result"
    }
   ],
   "source": [
    "requests.get(\"https://httpbin.org/status/500\")"
   ]
  },
  {
   "cell_type": "code",
   "execution_count": null,
   "metadata": {},
   "outputs": [],
   "source": []
  },
  {
   "cell_type": "code",
   "execution_count": 21,
   "metadata": {
    "ExecuteTime": {
     "end_time": "2021-02-01T07:55:02.001728Z",
     "start_time": "2021-02-01T07:55:01.992852Z"
    }
   },
   "outputs": [
    {
     "name": "stdout",
     "output_type": "stream",
     "text": [
      "'root': Enabled: True, Handlers: [<StreamHandler stdout (DEBUG)>], Level(int): 0, Propagade: True, Parent: None\n",
      "'concurrent.futures': Enabled: False, Handlers: [], Level(int): 0, Propagade: True, Parent: 'concurrent'\n",
      "'concurrent': Enabled: False, Handlers: [], Level(int): 0, Propagade: True, Parent: 'root'\n",
      "'asyncio': Enabled: False, Handlers: [], Level(int): 0, Propagade: True, Parent: 'root'\n",
      "'parso.python.diff': Enabled: False, Handlers: [], Level(int): 0, Propagade: True, Parent: 'parso.python'\n",
      "'parso.python': Enabled: False, Handlers: [], Level(int): 0, Propagade: True, Parent: 'parso'\n",
      "'parso': Enabled: False, Handlers: [], Level(int): 0, Propagade: True, Parent: 'root'\n",
      "'parso.cache': Enabled: False, Handlers: [], Level(int): 0, Propagade: True, Parent: 'parso'\n",
      "'tornado.access': Enabled: False, Handlers: [], Level(int): 0, Propagade: True, Parent: 'tornado'\n",
      "'tornado': Enabled: False, Handlers: [<StreamHandler <stderr> (NOTSET)>], Level(int): 0, Propagade: True, Parent: 'root'\n",
      "'tornado.application': Enabled: False, Handlers: [], Level(int): 0, Propagade: True, Parent: 'tornado'\n",
      "'tornado.general': Enabled: False, Handlers: [], Level(int): 0, Propagade: True, Parent: 'tornado'\n",
      "'IPKernelApp': Enabled: False, Handlers: [<StreamHandler <stderr> (NOTSET)>], Level(int): 30, Propagade: False, Parent: 'root'\n",
      "'urllib3': Enabled: False, Handlers: [<StreamHandler stderr (WARNING)>], Level(int): 10, Propagade: False, Parent: 'root'\n",
      "'requests': Enabled: False, Handlers: [<StreamHandler stdout (DEBUG)>], Level(int): 10, Propagade: False, Parent: 'root'\n",
      "'urllib3.util.retry': Enabled: False, Handlers: [], Level(int): 0, Propagade: True, Parent: 'urllib3.util'\n",
      "'urllib3.util': Enabled: True, Handlers: [], Level(int): 0, Propagade: True, Parent: 'urllib3'\n",
      "'urllib3.connection': Enabled: False, Handlers: [], Level(int): 0, Propagade: True, Parent: 'urllib3'\n",
      "'urllib3.response': Enabled: False, Handlers: [], Level(int): 0, Propagade: True, Parent: 'urllib3'\n",
      "'urllib3.connectionpool': Enabled: False, Handlers: [], Level(int): 0, Propagade: True, Parent: 'urllib3'\n",
      "'urllib3.poolmanager': Enabled: False, Handlers: [], Level(int): 0, Propagade: True, Parent: 'urllib3'\n",
      "'__main__': Enabled: False, Handlers: [<StreamHandler stderr (WARNING)>], Level(int): 30, Propagade: False, Parent: 'root'\n"
     ]
    }
   ],
   "source": [
    "# propagade: false\n",
    "\n",
    "from logging.config import dictConfig\n",
    "import yaml\n",
    "\n",
    "with open(\"logger-03.yml\", \"r\") as fp:\n",
    "    config_03 = yaml.safe_load(fp)\n",
    "\n",
    "dictConfig(config_03)\n",
    "\n",
    "print_logging_info()"
   ]
  },
  {
   "cell_type": "code",
   "execution_count": 22,
   "metadata": {
    "ExecuteTime": {
     "end_time": "2021-02-01T07:55:09.596111Z",
     "start_time": "2021-02-01T07:55:09.593870Z"
    }
   },
   "outputs": [],
   "source": [
    "import requests"
   ]
  },
  {
   "cell_type": "code",
   "execution_count": 23,
   "metadata": {
    "ExecuteTime": {
     "end_time": "2021-02-01T07:55:12.473042Z",
     "start_time": "2021-02-01T07:55:11.881781Z"
    }
   },
   "outputs": [
    {
     "data": {
      "text/plain": [
       "<Response [500]>"
      ]
     },
     "execution_count": 23,
     "metadata": {},
     "output_type": "execute_result"
    }
   ],
   "source": [
    "requests.get(\"https://httpbin.org/status/500\")"
   ]
  },
  {
   "cell_type": "code",
   "execution_count": null,
   "metadata": {},
   "outputs": [],
   "source": []
  },
  {
   "cell_type": "code",
   "execution_count": 26,
   "metadata": {
    "ExecuteTime": {
     "end_time": "2021-02-01T07:58:21.012477Z",
     "start_time": "2021-02-01T07:58:21.001343Z"
    }
   },
   "outputs": [
    {
     "name": "stdout",
     "output_type": "stream",
     "text": [
      "'root': Enabled: True, Handlers: [<StreamHandler stdout (DEBUG)>], Level(int): 0, Propagade: True, Parent: None\n",
      "'concurrent.futures': Enabled: False, Handlers: [], Level(int): 0, Propagade: True, Parent: 'concurrent'\n",
      "'concurrent': Enabled: False, Handlers: [], Level(int): 0, Propagade: True, Parent: 'root'\n",
      "'asyncio': Enabled: False, Handlers: [], Level(int): 0, Propagade: True, Parent: 'root'\n",
      "'parso.python.diff': Enabled: False, Handlers: [], Level(int): 0, Propagade: True, Parent: 'parso.python'\n",
      "'parso.python': Enabled: False, Handlers: [], Level(int): 0, Propagade: True, Parent: 'parso'\n",
      "'parso': Enabled: False, Handlers: [], Level(int): 0, Propagade: True, Parent: 'root'\n",
      "'parso.cache': Enabled: False, Handlers: [], Level(int): 0, Propagade: True, Parent: 'parso'\n",
      "'tornado.access': Enabled: False, Handlers: [], Level(int): 0, Propagade: True, Parent: 'tornado'\n",
      "'tornado': Enabled: False, Handlers: [<StreamHandler <stderr> (NOTSET)>], Level(int): 0, Propagade: True, Parent: 'root'\n",
      "'tornado.application': Enabled: False, Handlers: [], Level(int): 0, Propagade: True, Parent: 'tornado'\n",
      "'tornado.general': Enabled: False, Handlers: [], Level(int): 0, Propagade: True, Parent: 'tornado'\n",
      "'IPKernelApp': Enabled: False, Handlers: [<StreamHandler <stderr> (NOTSET)>], Level(int): 30, Propagade: False, Parent: 'root'\n",
      "'urllib3': Enabled: False, Handlers: [<StreamHandler stderr (WARNING)>], Level(int): 10, Propagade: True, Parent: 'root'\n",
      "'requests': Enabled: False, Handlers: [<StreamHandler stdout (DEBUG)>], Level(int): 10, Propagade: False, Parent: 'root'\n",
      "'urllib3.util.retry': Enabled: False, Handlers: [], Level(int): 0, Propagade: True, Parent: 'urllib3.util'\n",
      "'urllib3.util': Enabled: True, Handlers: [], Level(int): 0, Propagade: True, Parent: 'urllib3'\n",
      "'urllib3.connection': Enabled: False, Handlers: [], Level(int): 0, Propagade: True, Parent: 'urllib3'\n",
      "'urllib3.response': Enabled: False, Handlers: [], Level(int): 0, Propagade: True, Parent: 'urllib3'\n",
      "'urllib3.connectionpool': Enabled: False, Handlers: [], Level(int): 0, Propagade: True, Parent: 'urllib3'\n",
      "'urllib3.poolmanager': Enabled: False, Handlers: [], Level(int): 0, Propagade: True, Parent: 'urllib3'\n",
      "'__main__': Enabled: False, Handlers: [<StreamHandler stderr (WARNING)>], Level(int): 30, Propagade: False, Parent: 'root'\n"
     ]
    }
   ],
   "source": [
    "# propagade: true\n",
    "\n",
    "from logging.config import dictConfig\n",
    "import yaml\n",
    "\n",
    "with open(\"logger-04.yml\", \"r\") as fp:\n",
    "    config_04 = yaml.safe_load(fp)\n",
    "\n",
    "dictConfig(config_04)\n",
    "\n",
    "print_logging_info()"
   ]
  },
  {
   "cell_type": "code",
   "execution_count": null,
   "metadata": {},
   "outputs": [],
   "source": []
  },
  {
   "cell_type": "code",
   "execution_count": 25,
   "metadata": {
    "ExecuteTime": {
     "end_time": "2021-02-01T07:56:11.802148Z",
     "start_time": "2021-02-01T07:56:11.240353Z"
    },
    "scrolled": true
   },
   "outputs": [
    {
     "data": {
      "text/plain": [
       "<Response [500]>"
      ]
     },
     "execution_count": 25,
     "metadata": {},
     "output_type": "execute_result"
    }
   ],
   "source": [
    "requests.get(\"https://httpbin.org/status/500\")"
   ]
  },
  {
   "cell_type": "markdown",
   "metadata": {},
   "source": [
    "In jupyter we need to restart kernel to properly returned propagaded Loggers output\n",
    "\n",
    "__output In Real Application__\n",
    "```\n",
    "2021-02-01 13:49:27,300 urllib3.connectionpool DEBUG connectionpool Starting new HTTPS connection (1): httpbin.org:443\n",
    "2021-02-01 13:49:27,881 urllib3.connectionpool DEBUG connectionpool https://httpbin.org:443 \"GET /status/500 HTTP/1.1\" 500 0\n",
    "```\n",
    "\n"
   ]
  },
  {
   "cell_type": "code",
   "execution_count": null,
   "metadata": {},
   "outputs": [],
   "source": []
  },
  {
   "cell_type": "code",
   "execution_count": null,
   "metadata": {},
   "outputs": [],
   "source": []
  },
  {
   "cell_type": "code",
   "execution_count": null,
   "metadata": {},
   "outputs": [],
   "source": []
  },
  {
   "cell_type": "code",
   "execution_count": null,
   "metadata": {},
   "outputs": [],
   "source": []
  },
  {
   "cell_type": "code",
   "execution_count": 5,
   "metadata": {
    "ExecuteTime": {
     "end_time": "2021-02-01T08:05:42.022114Z",
     "start_time": "2021-02-01T08:05:42.009807Z"
    },
    "scrolled": true
   },
   "outputs": [
    {
     "name": "stdout",
     "output_type": "stream",
     "text": [
      "'root': Enabled: True, Handlers: [<StreamHandler stdout (DEBUG)>], Level(int): 0, Propagade: True, Parent: None\n",
      "'concurrent.futures': Enabled: False, Handlers: [], Level(int): 0, Propagade: True, Parent: 'concurrent'\n",
      "'concurrent': Enabled: False, Handlers: [], Level(int): 0, Propagade: True, Parent: 'root'\n",
      "'asyncio': Enabled: False, Handlers: [], Level(int): 0, Propagade: True, Parent: 'root'\n",
      "'parso.python.diff': Enabled: False, Handlers: [], Level(int): 0, Propagade: True, Parent: 'parso.python'\n",
      "'parso.python': Enabled: False, Handlers: [], Level(int): 0, Propagade: True, Parent: 'parso'\n",
      "'parso': Enabled: False, Handlers: [], Level(int): 0, Propagade: True, Parent: 'root'\n",
      "'parso.cache': Enabled: False, Handlers: [], Level(int): 0, Propagade: True, Parent: 'parso'\n",
      "'tornado.access': Enabled: False, Handlers: [], Level(int): 0, Propagade: True, Parent: 'tornado'\n",
      "'tornado': Enabled: False, Handlers: [<StreamHandler <stderr> (NOTSET)>], Level(int): 0, Propagade: True, Parent: 'root'\n",
      "'tornado.application': Enabled: False, Handlers: [], Level(int): 0, Propagade: True, Parent: 'tornado'\n",
      "'tornado.general': Enabled: False, Handlers: [], Level(int): 0, Propagade: True, Parent: 'tornado'\n",
      "'IPKernelApp': Enabled: False, Handlers: [<StreamHandler <stderr> (NOTSET)>], Level(int): 30, Propagade: False, Parent: 'root'\n",
      "'urllib3': Enabled: True, Handlers: [<StreamHandler stdout (DEBUG)>], Level(int): 10, Propagade: False, Parent: 'root'\n",
      "'urllib3.connectionpool': Enabled: True, Handlers: [<StreamHandler stdout (DEBUG)>], Level(int): 10, Propagade: False, Parent: 'urllib3'\n",
      "'urllib3.poolmanager': Enabled: True, Handlers: [<StreamHandler stdout (DEBUG)>], Level(int): 10, Propagade: False, Parent: 'urllib3'\n",
      "'requests': Enabled: True, Handlers: [<StreamHandler stdout (DEBUG)>], Level(int): 10, Propagade: False, Parent: 'root'\n",
      "'urllib3.util.retry': Enabled: True, Handlers: [], Level(int): 0, Propagade: True, Parent: 'urllib3'\n",
      "'urllib3.util': Enabled: True, Handlers: [], Level(int): 0, Propagade: True, Parent: 'urllib3'\n",
      "'urllib3.connection': Enabled: True, Handlers: [], Level(int): 0, Propagade: True, Parent: 'urllib3'\n",
      "'urllib3.response': Enabled: True, Handlers: [], Level(int): 0, Propagade: True, Parent: 'urllib3'\n"
     ]
    }
   ],
   "source": [
    "from logging.config import dictConfig\n",
    "import yaml\n",
    "\n",
    "with open(\"logger-05.yml\", \"r\") as fp:\n",
    "    config_05 = yaml.safe_load(fp)\n",
    "\n",
    "dictConfig(config_05)\n",
    "\n",
    "print_logging_info()"
   ]
  },
  {
   "cell_type": "code",
   "execution_count": 6,
   "metadata": {
    "ExecuteTime": {
     "end_time": "2021-02-01T08:05:45.640371Z",
     "start_time": "2021-02-01T08:05:45.050860Z"
    }
   },
   "outputs": [
    {
     "name": "stdout",
     "output_type": "stream",
     "text": [
      "2021-02-01 11:05:45,052 urllib3.connectionpool DEBUG connectionpool Starting new HTTPS connection (1): httpbin.org:443\n",
      "2021-02-01 11:05:45,636 urllib3.connectionpool DEBUG connectionpool https://httpbin.org:443 \"GET /status/500 HTTP/1.1\" 500 0\n"
     ]
    },
    {
     "data": {
      "text/plain": [
       "<Response [500]>"
      ]
     },
     "execution_count": 6,
     "metadata": {},
     "output_type": "execute_result"
    }
   ],
   "source": [
    "import requests\n",
    "\n",
    "requests.get(\"https://httpbin.org/status/500\")"
   ]
  },
  {
   "cell_type": "code",
   "execution_count": null,
   "metadata": {},
   "outputs": [],
   "source": []
  },
  {
   "cell_type": "code",
   "execution_count": null,
   "metadata": {},
   "outputs": [],
   "source": []
  },
  {
   "cell_type": "code",
   "execution_count": null,
   "metadata": {},
   "outputs": [],
   "source": []
  },
  {
   "cell_type": "code",
   "execution_count": null,
   "metadata": {},
   "outputs": [],
   "source": []
  },
  {
   "cell_type": "code",
   "execution_count": null,
   "metadata": {},
   "outputs": [],
   "source": []
  },
  {
   "cell_type": "code",
   "execution_count": null,
   "metadata": {},
   "outputs": [],
   "source": []
  },
  {
   "cell_type": "code",
   "execution_count": null,
   "metadata": {},
   "outputs": [],
   "source": []
  },
  {
   "cell_type": "code",
   "execution_count": null,
   "metadata": {},
   "outputs": [],
   "source": []
  },
  {
   "cell_type": "code",
   "execution_count": null,
   "metadata": {},
   "outputs": [],
   "source": []
  },
  {
   "cell_type": "code",
   "execution_count": 7,
   "metadata": {
    "ExecuteTime": {
     "end_time": "2021-02-01T08:10:35.340764Z",
     "start_time": "2021-02-01T08:10:35.337932Z"
    }
   },
   "outputs": [],
   "source": [
    "import logging\n",
    "\n",
    "class CustomStreamHandler(logging.StreamHandler):\n",
    "    _some_value = \"I'm custom StreamHandler\"\n",
    "    \n"
   ]
  },
  {
   "cell_type": "code",
   "execution_count": 8,
   "metadata": {
    "ExecuteTime": {
     "end_time": "2021-02-01T08:10:41.860643Z",
     "start_time": "2021-02-01T08:10:41.850073Z"
    }
   },
   "outputs": [
    {
     "name": "stdout",
     "output_type": "stream",
     "text": [
      "'root': Enabled: True, Handlers: [<CustomStreamHandler stdout (DEBUG)>], Level(int): 0, Propagade: True, Parent: None\n",
      "'concurrent.futures': Enabled: False, Handlers: [], Level(int): 0, Propagade: True, Parent: 'concurrent'\n",
      "'concurrent': Enabled: False, Handlers: [], Level(int): 0, Propagade: True, Parent: 'root'\n",
      "'asyncio': Enabled: False, Handlers: [], Level(int): 0, Propagade: True, Parent: 'root'\n",
      "'parso.python.diff': Enabled: False, Handlers: [], Level(int): 0, Propagade: True, Parent: 'parso.python'\n",
      "'parso.python': Enabled: False, Handlers: [], Level(int): 0, Propagade: True, Parent: 'parso'\n",
      "'parso': Enabled: False, Handlers: [], Level(int): 0, Propagade: True, Parent: 'root'\n",
      "'parso.cache': Enabled: False, Handlers: [], Level(int): 0, Propagade: True, Parent: 'parso'\n",
      "'tornado.access': Enabled: False, Handlers: [], Level(int): 0, Propagade: True, Parent: 'tornado'\n",
      "'tornado': Enabled: False, Handlers: [<StreamHandler <stderr> (NOTSET)>], Level(int): 0, Propagade: True, Parent: 'root'\n",
      "'tornado.application': Enabled: False, Handlers: [], Level(int): 0, Propagade: True, Parent: 'tornado'\n",
      "'tornado.general': Enabled: False, Handlers: [], Level(int): 0, Propagade: True, Parent: 'tornado'\n",
      "'IPKernelApp': Enabled: False, Handlers: [<StreamHandler <stderr> (NOTSET)>], Level(int): 30, Propagade: False, Parent: 'root'\n",
      "'urllib3': Enabled: True, Handlers: [<CustomStreamHandler stdout (DEBUG)>], Level(int): 10, Propagade: False, Parent: 'root'\n",
      "'urllib3.connectionpool': Enabled: True, Handlers: [<StreamHandler stderr (WARNING)>], Level(int): 30, Propagade: False, Parent: 'urllib3'\n",
      "'urllib3.poolmanager': Enabled: True, Handlers: [<StreamHandler stderr (WARNING)>], Level(int): 30, Propagade: False, Parent: 'urllib3'\n",
      "'requests': Enabled: True, Handlers: [<CustomStreamHandler stdout (DEBUG)>], Level(int): 10, Propagade: False, Parent: 'root'\n",
      "'urllib3.util.retry': Enabled: True, Handlers: [], Level(int): 0, Propagade: True, Parent: 'urllib3.util'\n",
      "'urllib3.util': Enabled: True, Handlers: [], Level(int): 0, Propagade: True, Parent: 'urllib3'\n",
      "'urllib3.connection': Enabled: True, Handlers: [], Level(int): 0, Propagade: True, Parent: 'urllib3'\n",
      "'urllib3.response': Enabled: True, Handlers: [], Level(int): 0, Propagade: True, Parent: 'urllib3'\n"
     ]
    }
   ],
   "source": [
    "from logging.config import dictConfig\n",
    "import yaml\n",
    "\n",
    "with open(\"logger-06.yml\", \"r\") as fp:\n",
    "    config_06 = yaml.safe_load(fp)\n",
    "\n",
    "dictConfig(config_06)\n",
    "\n",
    "print_logging_info()"
   ]
  },
  {
   "cell_type": "code",
   "execution_count": 9,
   "metadata": {
    "ExecuteTime": {
     "end_time": "2021-02-01T08:11:02.683473Z",
     "start_time": "2021-02-01T08:11:02.681229Z"
    }
   },
   "outputs": [],
   "source": [
    "log_object = logging.getLogger(\"requests\")\n"
   ]
  },
  {
   "cell_type": "code",
   "execution_count": 12,
   "metadata": {
    "ExecuteTime": {
     "end_time": "2021-02-01T08:11:29.982475Z",
     "start_time": "2021-02-01T08:11:29.979492Z"
    }
   },
   "outputs": [
    {
     "data": {
      "text/plain": [
       "\"I'm custom StreamHandler\""
      ]
     },
     "execution_count": 12,
     "metadata": {},
     "output_type": "execute_result"
    }
   ],
   "source": [
    "log_object.handlers[0]._some_value"
   ]
  },
  {
   "cell_type": "code",
   "execution_count": null,
   "metadata": {},
   "outputs": [],
   "source": []
  },
  {
   "cell_type": "code",
   "execution_count": 13,
   "metadata": {
    "ExecuteTime": {
     "end_time": "2021-02-01T08:12:33.869563Z",
     "start_time": "2021-02-01T08:12:33.867219Z"
    }
   },
   "outputs": [],
   "source": [
    "from logging import Filter\n",
    "\n",
    "class LowerThanFilter(Filter):\n",
    "    def __init__(self, level):\n",
    "        self.level = level\n",
    "        print(f\"{self = }, {self.level = }\")  # Just for show value\n",
    "\n",
    "    def filter(self, record):\n",
    "        return record.levelno < self.level\n"
   ]
  },
  {
   "cell_type": "code",
   "execution_count": 14,
   "metadata": {
    "ExecuteTime": {
     "end_time": "2021-02-01T08:12:48.046542Z",
     "start_time": "2021-02-01T08:12:48.009567Z"
    }
   },
   "outputs": [
    {
     "ename": "ValueError",
     "evalue": "Unable to configure filter 'lower_than_warnings'",
     "output_type": "error",
     "traceback": [
      "\u001b[0;31m---------------------------------------------------------------------------\u001b[0m",
      "\u001b[0;31mAttributeError\u001b[0m                            Traceback (most recent call last)",
      "\u001b[0;32m/usr/lib/python3.8/logging/config.py\u001b[0m in \u001b[0;36mconfigure\u001b[0;34m(self)\u001b[0m\n\u001b[1;32m    550\u001b[0m                     \u001b[0;32mtry\u001b[0m\u001b[0;34m:\u001b[0m\u001b[0;34m\u001b[0m\u001b[0;34m\u001b[0m\u001b[0m\n\u001b[0;32m--> 551\u001b[0;31m                         \u001b[0mfilters\u001b[0m\u001b[0;34m[\u001b[0m\u001b[0mname\u001b[0m\u001b[0;34m]\u001b[0m \u001b[0;34m=\u001b[0m \u001b[0mself\u001b[0m\u001b[0;34m.\u001b[0m\u001b[0mconfigure_filter\u001b[0m\u001b[0;34m(\u001b[0m\u001b[0mfilters\u001b[0m\u001b[0;34m[\u001b[0m\u001b[0mname\u001b[0m\u001b[0;34m]\u001b[0m\u001b[0;34m)\u001b[0m\u001b[0;34m\u001b[0m\u001b[0;34m\u001b[0m\u001b[0m\n\u001b[0m\u001b[1;32m    552\u001b[0m                     \u001b[0;32mexcept\u001b[0m \u001b[0mException\u001b[0m \u001b[0;32mas\u001b[0m \u001b[0me\u001b[0m\u001b[0;34m:\u001b[0m\u001b[0;34m\u001b[0m\u001b[0;34m\u001b[0m\u001b[0m\n",
      "\u001b[0;32m/usr/lib/python3.8/logging/config.py\u001b[0m in \u001b[0;36mconfigure_filter\u001b[0;34m(self, config)\u001b[0m\n\u001b[1;32m    689\u001b[0m         \u001b[0;32melse\u001b[0m\u001b[0;34m:\u001b[0m\u001b[0;34m\u001b[0m\u001b[0;34m\u001b[0m\u001b[0m\n\u001b[0;32m--> 690\u001b[0;31m             \u001b[0mname\u001b[0m \u001b[0;34m=\u001b[0m \u001b[0mconfig\u001b[0m\u001b[0;34m.\u001b[0m\u001b[0mget\u001b[0m\u001b[0;34m(\u001b[0m\u001b[0;34m'name'\u001b[0m\u001b[0;34m,\u001b[0m \u001b[0;34m''\u001b[0m\u001b[0;34m)\u001b[0m\u001b[0;34m\u001b[0m\u001b[0;34m\u001b[0m\u001b[0m\n\u001b[0m\u001b[1;32m    691\u001b[0m             \u001b[0mresult\u001b[0m \u001b[0;34m=\u001b[0m \u001b[0mlogging\u001b[0m\u001b[0;34m.\u001b[0m\u001b[0mFilter\u001b[0m\u001b[0;34m(\u001b[0m\u001b[0mname\u001b[0m\u001b[0;34m)\u001b[0m\u001b[0;34m\u001b[0m\u001b[0;34m\u001b[0m\u001b[0m\n",
      "\u001b[0;31mAttributeError\u001b[0m: 'str' object has no attribute 'get'",
      "\nThe above exception was the direct cause of the following exception:\n",
      "\u001b[0;31mValueError\u001b[0m                                Traceback (most recent call last)",
      "\u001b[0;32m<ipython-input-14-c815a7819bd8>\u001b[0m in \u001b[0;36m<module>\u001b[0;34m\u001b[0m\n\u001b[1;32m      5\u001b[0m     \u001b[0mconfig_07\u001b[0m \u001b[0;34m=\u001b[0m \u001b[0myaml\u001b[0m\u001b[0;34m.\u001b[0m\u001b[0msafe_load\u001b[0m\u001b[0;34m(\u001b[0m\u001b[0mfp\u001b[0m\u001b[0;34m)\u001b[0m\u001b[0;34m\u001b[0m\u001b[0;34m\u001b[0m\u001b[0m\n\u001b[1;32m      6\u001b[0m \u001b[0;34m\u001b[0m\u001b[0m\n\u001b[0;32m----> 7\u001b[0;31m \u001b[0mdictConfig\u001b[0m\u001b[0;34m(\u001b[0m\u001b[0mconfig_07\u001b[0m\u001b[0;34m)\u001b[0m\u001b[0;34m\u001b[0m\u001b[0;34m\u001b[0m\u001b[0m\n\u001b[0m\u001b[1;32m      8\u001b[0m \u001b[0;34m\u001b[0m\u001b[0m\n\u001b[1;32m      9\u001b[0m \u001b[0mprint_logging_info\u001b[0m\u001b[0;34m(\u001b[0m\u001b[0;34m)\u001b[0m\u001b[0;34m\u001b[0m\u001b[0;34m\u001b[0m\u001b[0m\n",
      "\u001b[0;32m/usr/lib/python3.8/logging/config.py\u001b[0m in \u001b[0;36mdictConfig\u001b[0;34m(config)\u001b[0m\n\u001b[1;32m    806\u001b[0m \u001b[0;32mdef\u001b[0m \u001b[0mdictConfig\u001b[0m\u001b[0;34m(\u001b[0m\u001b[0mconfig\u001b[0m\u001b[0;34m)\u001b[0m\u001b[0;34m:\u001b[0m\u001b[0;34m\u001b[0m\u001b[0;34m\u001b[0m\u001b[0m\n\u001b[1;32m    807\u001b[0m     \u001b[0;34m\"\"\"Configure logging using a dictionary.\"\"\"\u001b[0m\u001b[0;34m\u001b[0m\u001b[0;34m\u001b[0m\u001b[0m\n\u001b[0;32m--> 808\u001b[0;31m     \u001b[0mdictConfigClass\u001b[0m\u001b[0;34m(\u001b[0m\u001b[0mconfig\u001b[0m\u001b[0;34m)\u001b[0m\u001b[0;34m.\u001b[0m\u001b[0mconfigure\u001b[0m\u001b[0;34m(\u001b[0m\u001b[0;34m)\u001b[0m\u001b[0;34m\u001b[0m\u001b[0;34m\u001b[0m\u001b[0m\n\u001b[0m\u001b[1;32m    809\u001b[0m \u001b[0;34m\u001b[0m\u001b[0m\n\u001b[1;32m    810\u001b[0m \u001b[0;34m\u001b[0m\u001b[0m\n",
      "\u001b[0;32m/usr/lib/python3.8/logging/config.py\u001b[0m in \u001b[0;36mconfigure\u001b[0;34m(self)\u001b[0m\n\u001b[1;32m    551\u001b[0m                         \u001b[0mfilters\u001b[0m\u001b[0;34m[\u001b[0m\u001b[0mname\u001b[0m\u001b[0;34m]\u001b[0m \u001b[0;34m=\u001b[0m \u001b[0mself\u001b[0m\u001b[0;34m.\u001b[0m\u001b[0mconfigure_filter\u001b[0m\u001b[0;34m(\u001b[0m\u001b[0mfilters\u001b[0m\u001b[0;34m[\u001b[0m\u001b[0mname\u001b[0m\u001b[0;34m]\u001b[0m\u001b[0;34m)\u001b[0m\u001b[0;34m\u001b[0m\u001b[0;34m\u001b[0m\u001b[0m\n\u001b[1;32m    552\u001b[0m                     \u001b[0;32mexcept\u001b[0m \u001b[0mException\u001b[0m \u001b[0;32mas\u001b[0m \u001b[0me\u001b[0m\u001b[0;34m:\u001b[0m\u001b[0;34m\u001b[0m\u001b[0;34m\u001b[0m\u001b[0m\n\u001b[0;32m--> 553\u001b[0;31m                         raise ValueError('Unable to configure '\n\u001b[0m\u001b[1;32m    554\u001b[0m                                          'filter %r' % name) from e\n\u001b[1;32m    555\u001b[0m \u001b[0;34m\u001b[0m\u001b[0m\n",
      "\u001b[0;31mValueError\u001b[0m: Unable to configure filter 'lower_than_warnings'"
     ]
    }
   ],
   "source": [
    "from logging.config import dictConfig\n",
    "import yaml\n",
    "\n",
    "with open(\"logger-07.yml\", \"r\") as fp:\n",
    "    config_07 = yaml.safe_load(fp)\n",
    "\n",
    "dictConfig(config_07)\n",
    "\n",
    "print_logging_info()"
   ]
  },
  {
   "cell_type": "code",
   "execution_count": null,
   "metadata": {},
   "outputs": [],
   "source": []
  },
  {
   "cell_type": "code",
   "execution_count": null,
   "metadata": {},
   "outputs": [],
   "source": []
  },
  {
   "cell_type": "code",
   "execution_count": null,
   "metadata": {},
   "outputs": [],
   "source": []
  },
  {
   "cell_type": "code",
   "execution_count": null,
   "metadata": {},
   "outputs": [],
   "source": []
  },
  {
   "cell_type": "code",
   "execution_count": null,
   "metadata": {},
   "outputs": [],
   "source": []
  },
  {
   "cell_type": "code",
   "execution_count": null,
   "metadata": {},
   "outputs": [],
   "source": []
  },
  {
   "cell_type": "code",
   "execution_count": 15,
   "metadata": {
    "ExecuteTime": {
     "end_time": "2021-02-01T08:13:52.035194Z",
     "start_time": "2021-02-01T08:13:52.025527Z"
    }
   },
   "outputs": [
    {
     "name": "stdout",
     "output_type": "stream",
     "text": [
      "self = <__main__.LowerThanFilter object at 0x7f87048316a0>, self.level = 'logging.WARNING'\n",
      "'root': Enabled: True, Handlers: [<CustomStreamHandler stdout (DEBUG)>], Level(int): 0, Propagade: True, Parent: None\n",
      "'concurrent.futures': Enabled: False, Handlers: [], Level(int): 0, Propagade: True, Parent: 'concurrent'\n",
      "'concurrent': Enabled: False, Handlers: [], Level(int): 0, Propagade: True, Parent: 'root'\n",
      "'asyncio': Enabled: False, Handlers: [], Level(int): 0, Propagade: True, Parent: 'root'\n",
      "'parso.python.diff': Enabled: False, Handlers: [], Level(int): 0, Propagade: True, Parent: 'parso.python'\n",
      "'parso.python': Enabled: False, Handlers: [], Level(int): 0, Propagade: True, Parent: 'parso'\n",
      "'parso': Enabled: False, Handlers: [], Level(int): 0, Propagade: True, Parent: 'root'\n",
      "'parso.cache': Enabled: False, Handlers: [], Level(int): 0, Propagade: True, Parent: 'parso'\n",
      "'tornado.access': Enabled: False, Handlers: [], Level(int): 0, Propagade: True, Parent: 'tornado'\n",
      "'tornado': Enabled: False, Handlers: [<StreamHandler <stderr> (NOTSET)>], Level(int): 0, Propagade: True, Parent: 'root'\n",
      "'tornado.application': Enabled: False, Handlers: [], Level(int): 0, Propagade: True, Parent: 'tornado'\n",
      "'tornado.general': Enabled: False, Handlers: [], Level(int): 0, Propagade: True, Parent: 'tornado'\n",
      "'IPKernelApp': Enabled: False, Handlers: [<StreamHandler <stderr> (NOTSET)>], Level(int): 30, Propagade: False, Parent: 'root'\n",
      "'urllib3': Enabled: True, Handlers: [<CustomStreamHandler stdout (DEBUG)>], Level(int): 10, Propagade: False, Parent: 'root'\n",
      "'urllib3.connectionpool': Enabled: True, Handlers: [<StreamHandler stderr (WARNING)>], Level(int): 30, Propagade: False, Parent: 'urllib3'\n",
      "'urllib3.poolmanager': Enabled: True, Handlers: [<StreamHandler stderr (WARNING)>], Level(int): 30, Propagade: False, Parent: 'urllib3'\n",
      "'requests': Enabled: True, Handlers: [<CustomStreamHandler stdout (DEBUG)>], Level(int): 10, Propagade: False, Parent: 'root'\n",
      "'urllib3.util.retry': Enabled: True, Handlers: [], Level(int): 0, Propagade: True, Parent: 'urllib3.util'\n",
      "'urllib3.util': Enabled: True, Handlers: [], Level(int): 0, Propagade: True, Parent: 'urllib3'\n",
      "'urllib3.connection': Enabled: True, Handlers: [], Level(int): 0, Propagade: True, Parent: 'urllib3'\n",
      "'urllib3.response': Enabled: True, Handlers: [], Level(int): 0, Propagade: True, Parent: 'urllib3'\n"
     ]
    }
   ],
   "source": [
    "from logging.config import dictConfig\n",
    "import yaml\n",
    "\n",
    "with open(\"logger-08.yml\", \"r\") as fp:\n",
    "    config_08 = yaml.safe_load(fp)\n",
    "\n",
    "dictConfig(config_08)\n",
    "\n",
    "print_logging_info()"
   ]
  },
  {
   "cell_type": "code",
   "execution_count": null,
   "metadata": {},
   "outputs": [],
   "source": []
  },
  {
   "cell_type": "code",
   "execution_count": null,
   "metadata": {},
   "outputs": [],
   "source": []
  },
  {
   "cell_type": "code",
   "execution_count": null,
   "metadata": {},
   "outputs": [],
   "source": []
  },
  {
   "cell_type": "code",
   "execution_count": null,
   "metadata": {},
   "outputs": [],
   "source": []
  },
  {
   "cell_type": "code",
   "execution_count": null,
   "metadata": {},
   "outputs": [],
   "source": []
  },
  {
   "cell_type": "code",
   "execution_count": 18,
   "metadata": {
    "ExecuteTime": {
     "end_time": "2021-02-01T08:15:45.502063Z",
     "start_time": "2021-02-01T08:15:45.499372Z"
    }
   },
   "outputs": [],
   "source": [
    "from logging import Filter\n",
    "\n",
    "class LowerThanFilter_2(Filter):\n",
    "    def __init__(self, level):\n",
    "        print(f\"{level = }\")  # Just for show value\n",
    "        self.level = logging._checkLevel(level)  # use private logging function\n",
    "        print(f\"{self = }, {self.level = }\")  # Just for show value\n",
    "        \n",
    "    def filter(self, record):\n",
    "        return record.levelno < self.level\n"
   ]
  },
  {
   "cell_type": "code",
   "execution_count": 19,
   "metadata": {
    "ExecuteTime": {
     "end_time": "2021-02-01T08:15:47.366314Z",
     "start_time": "2021-02-01T08:15:47.355185Z"
    }
   },
   "outputs": [
    {
     "name": "stdout",
     "output_type": "stream",
     "text": [
      "level = 'WARNING'\n",
      "self = <__main__.LowerThanFilter_2 object at 0x7f870485cdc0>, self.level = 30\n",
      "'root': Enabled: True, Handlers: [<CustomStreamHandler stdout (DEBUG)>], Level(int): 0, Propagade: True, Parent: None\n",
      "'concurrent.futures': Enabled: False, Handlers: [], Level(int): 0, Propagade: True, Parent: 'concurrent'\n",
      "'concurrent': Enabled: False, Handlers: [], Level(int): 0, Propagade: True, Parent: 'root'\n",
      "'asyncio': Enabled: False, Handlers: [], Level(int): 0, Propagade: True, Parent: 'root'\n",
      "'parso.python.diff': Enabled: False, Handlers: [], Level(int): 0, Propagade: True, Parent: 'parso.python'\n",
      "'parso.python': Enabled: False, Handlers: [], Level(int): 0, Propagade: True, Parent: 'parso'\n",
      "'parso': Enabled: False, Handlers: [], Level(int): 0, Propagade: True, Parent: 'root'\n",
      "'parso.cache': Enabled: False, Handlers: [], Level(int): 0, Propagade: True, Parent: 'parso'\n",
      "'tornado.access': Enabled: False, Handlers: [], Level(int): 0, Propagade: True, Parent: 'tornado'\n",
      "'tornado': Enabled: False, Handlers: [<StreamHandler <stderr> (NOTSET)>], Level(int): 0, Propagade: True, Parent: 'root'\n",
      "'tornado.application': Enabled: False, Handlers: [], Level(int): 0, Propagade: True, Parent: 'tornado'\n",
      "'tornado.general': Enabled: False, Handlers: [], Level(int): 0, Propagade: True, Parent: 'tornado'\n",
      "'IPKernelApp': Enabled: False, Handlers: [<StreamHandler <stderr> (NOTSET)>], Level(int): 30, Propagade: False, Parent: 'root'\n",
      "'urllib3': Enabled: True, Handlers: [<CustomStreamHandler stdout (DEBUG)>], Level(int): 10, Propagade: False, Parent: 'root'\n",
      "'urllib3.connectionpool': Enabled: True, Handlers: [<StreamHandler stderr (WARNING)>], Level(int): 30, Propagade: False, Parent: 'urllib3'\n",
      "'urllib3.poolmanager': Enabled: True, Handlers: [<StreamHandler stderr (WARNING)>], Level(int): 30, Propagade: False, Parent: 'urllib3'\n",
      "'requests': Enabled: True, Handlers: [<CustomStreamHandler stdout (DEBUG)>], Level(int): 10, Propagade: False, Parent: 'root'\n",
      "'urllib3.util.retry': Enabled: True, Handlers: [], Level(int): 0, Propagade: True, Parent: 'urllib3.util'\n",
      "'urllib3.util': Enabled: True, Handlers: [], Level(int): 0, Propagade: True, Parent: 'urllib3'\n",
      "'urllib3.connection': Enabled: True, Handlers: [], Level(int): 0, Propagade: True, Parent: 'urllib3'\n",
      "'urllib3.response': Enabled: True, Handlers: [], Level(int): 0, Propagade: True, Parent: 'urllib3'\n"
     ]
    }
   ],
   "source": [
    "from logging.config import dictConfig\n",
    "import yaml\n",
    "\n",
    "with open(\"logger-09.yml\", \"r\") as fp:\n",
    "    config_09 = yaml.safe_load(fp)\n",
    "\n",
    "dictConfig(config_09)\n",
    "\n",
    "print_logging_info()"
   ]
  }
 ],
 "metadata": {
  "kernelspec": {
   "display_name": "Python 3",
   "language": "python",
   "name": "python3"
  },
  "language_info": {
   "codemirror_mode": {
    "name": "ipython",
    "version": 3
   },
   "file_extension": ".py",
   "mimetype": "text/x-python",
   "name": "python",
   "nbconvert_exporter": "python",
   "pygments_lexer": "ipython3",
   "version": "3.8.5"
  }
 },
 "nbformat": 4,
 "nbformat_minor": 4
}

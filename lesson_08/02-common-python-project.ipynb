{
 "cells": [
  {
   "cell_type": "markdown",
   "metadata": {},
   "source": [
    "# Repository Gitlab:\n",
    "\n",
    "+ [Simple Project: No Pip package creation](https://gitlab.godeltech.com/a.anshin/python-data-lab-project-sample/-/tree/simple-project-non-package)\n",
    "+ [Simple Project + Makefile: No Pip package creation](https://gitlab.godeltech.com/a.anshin/python-data-lab-project-sample/-/tree/simple-project-advanced-non-package)\n",
    "+ [Project with Pip package creation](https://gitlab.godeltech.com/a.anshin/python-data-lab-project-sample/-/tree/project-package)\n",
    "+ [Project with Pip package creation from single module](https://gitlab.godeltech.com/a.anshin/python-data-lab-project-sample/-/tree/project-package-single-module)\n",
    "+ [Project with Pip package creation and shell scripts](https://gitlab.godeltech.com/a.anshin/python-data-lab-project-sample/-/tree/project-package-executables)"
   ]
  },
  {
   "cell_type": "markdown",
   "metadata": {},
   "source": [
    "# Packaging Python Projects\n",
    "\n",
    "[Tutorial](https://packaging.python.org/tutorials/packaging-projects/)"
   ]
  },
  {
   "cell_type": "markdown",
   "metadata": {
    "ExecuteTime": {
     "end_time": "2021-01-28T20:40:11.348836Z",
     "start_time": "2021-01-28T20:40:11.346658Z"
    }
   },
   "source": [
    "## setuptools\n",
    "\n",
    "```doc\n",
    "Setuptools is a collection of enhancements to the Python distutils that allow developers to more easily build and distribute Python packages, especially ones that have dependencies on other packages.\n",
    "\n",
    "Packages built and distributed using setuptools look to the user like ordinary Python packages based on the distutils.\n",
    "```\n",
    "\n",
    "1. [Documentation](https://setuptools.readthedocs.io/en/latest/setuptools.html)\n",
    "2. [setuptools.setup() keywords](https://setuptools.readthedocs.io/en/latest/references/keywords.html)\n",
    "3. [PyPI Classifiers](https://pypi.org/classifiers/)"
   ]
  },
  {
   "cell_type": "markdown",
   "metadata": {},
   "source": [
    "## wheel\n",
    "\n",
    "\n",
    "```doc\n",
    "This library is the reference implementation of the Python wheel packaging standard, as defined in PEP 427.\n",
    "\n",
    "It has two different roles:\n",
    "\n",
    "    A setuptools extension for building wheels that provides the bdist_wheel setuptools command\n",
    "    A command line tool for working with wheel files\n",
    "\n",
    "It should be noted that wheel is not intended to be used as a library, and as such there is no stable, public API.\n",
    "```\n",
    "\n",
    "1. [Documentation](https://wheel.readthedocs.io/en/stable/)"
   ]
  },
  {
   "cell_type": "markdown",
   "metadata": {},
   "source": [
    "## twine\n",
    "\n",
    "Utility for publishing Python packages on PyPI.\n",
    "\n",
    "1. [Documentation](https://twine.readthedocs.io/en/latest/)"
   ]
  },
  {
   "cell_type": "code",
   "execution_count": null,
   "metadata": {},
   "outputs": [],
   "source": []
  },
  {
   "cell_type": "markdown",
   "metadata": {},
   "source": [
    "## Useful Stuff\n",
    "\n",
    "### How to find rule for in .gitignore for file\n",
    "\n",
    "```shell\n",
    "git check-ignore -v path-to-file\n",
    "```\n",
    "\n",
    "### Generate project from templates\n",
    "[Cookiecutter: Better Project Templates](https://cookiecutter.readthedocs.io/en/1.7.2/)\n"
   ]
  }
 ],
 "metadata": {
  "kernelspec": {
   "display_name": "Python 3",
   "language": "python",
   "name": "python3"
  },
  "language_info": {
   "codemirror_mode": {
    "name": "ipython",
    "version": 3
   },
   "file_extension": ".py",
   "mimetype": "text/x-python",
   "name": "python",
   "nbconvert_exporter": "python",
   "pygments_lexer": "ipython3",
   "version": "3.8.5"
  }
 },
 "nbformat": 4,
 "nbformat_minor": 4
}

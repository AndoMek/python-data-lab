{
 "cells": [
  {
   "cell_type": "markdown",
   "metadata": {},
   "source": [
    "# Python and HTTP"
   ]
  },
  {
   "cell_type": "markdown",
   "metadata": {},
   "source": [
    "[http.client — HTTP protocol client](https://docs.python.org/3/library/http.client.html) - low lewel client\n",
    "\n",
    "[urllib.request — Extensible library for opening URLs](https://docs.python.org/3/library/urllib.request.html#module-urllib.request) - high level client\n",
    "\n"
   ]
  },
  {
   "cell_type": "code",
   "execution_count": null,
   "metadata": {},
   "outputs": [],
   "source": []
  },
  {
   "cell_type": "markdown",
   "metadata": {
    "ExecuteTime": {
     "end_time": "2021-01-21T16:15:18.769304Z",
     "start_time": "2021-01-21T16:15:18.766267Z"
    }
   },
   "source": [
    "```The Requests package is recommended for a higher-level HTTP client interface.```"
   ]
  },
  {
   "cell_type": "markdown",
   "metadata": {
    "ExecuteTime": {
     "end_time": "2021-01-21T16:06:38.321655Z",
     "start_time": "2021-01-21T16:06:38.318522Z"
    }
   },
   "source": [
    "## Requests (third-party package)"
   ]
  },
  {
   "cell_type": "markdown",
   "metadata": {
    "ExecuteTime": {
     "end_time": "2021-01-21T16:06:59.330279Z",
     "start_time": "2021-01-21T16:06:59.327300Z"
    }
   },
   "source": [
    "[Requests: HTTP for Humans](https://requests.readthedocs.io/en/master/)\n",
    "\n",
    "[Requests on Github](https://github.com/psf/requests)\n",
    "\n"
   ]
  },
  {
   "cell_type": "code",
   "execution_count": 1,
   "metadata": {
    "ExecuteTime": {
     "end_time": "2021-01-22T09:01:29.974132Z",
     "start_time": "2021-01-22T09:01:29.841489Z"
    }
   },
   "outputs": [],
   "source": [
    "import requests"
   ]
  },
  {
   "cell_type": "code",
   "execution_count": null,
   "metadata": {},
   "outputs": [],
   "source": []
  },
  {
   "cell_type": "markdown",
   "metadata": {},
   "source": [
    "1. [HTTP request methods](https://developer.mozilla.org/en-US/docs/Web/HTTP/Methods)\n",
    "2. [httpbin.org](http://httpbin.org)"
   ]
  },
  {
   "cell_type": "code",
   "execution_count": 2,
   "metadata": {
    "ExecuteTime": {
     "end_time": "2021-01-22T09:02:58.210214Z",
     "start_time": "2021-01-22T09:02:57.878109Z"
    }
   },
   "outputs": [
    {
     "data": {
      "text/plain": [
       "<Response [200]>"
      ]
     },
     "execution_count": 2,
     "metadata": {},
     "output_type": "execute_result"
    }
   ],
   "source": [
    "res = requests.get(\"http://httpbin.org/headers\")\n",
    "\n",
    "res"
   ]
  },
  {
   "cell_type": "code",
   "execution_count": 3,
   "metadata": {
    "ExecuteTime": {
     "end_time": "2021-01-22T09:03:45.295286Z",
     "start_time": "2021-01-22T09:03:45.292562Z"
    }
   },
   "outputs": [
    {
     "data": {
      "text/plain": [
       "'{\\n  \"headers\": {\\n    \"Accept\": \"*/*\", \\n    \"Accept-Encoding\": \"gzip, deflate\", \\n    \"Host\": \"httpbin.org\", \\n    \"User-Agent\": \"python-requests/2.25.1\", \\n    \"X-Amzn-Trace-Id\": \"Root=1-600a94bc-7bd6be171ee2d12b1348aa8e\"\\n  }\\n}\\n'"
      ]
     },
     "execution_count": 3,
     "metadata": {},
     "output_type": "execute_result"
    }
   ],
   "source": [
    "res.text"
   ]
  },
  {
   "cell_type": "code",
   "execution_count": 4,
   "metadata": {
    "ExecuteTime": {
     "end_time": "2021-01-22T09:04:21.837734Z",
     "start_time": "2021-01-22T09:04:21.834738Z"
    }
   },
   "outputs": [
    {
     "data": {
      "text/plain": [
       "{'Date': 'Fri, 22 Jan 2021 09:02:52 GMT', 'Content-Type': 'application/json', 'Content-Length': '225', 'Connection': 'keep-alive', 'Server': 'gunicorn/19.9.0', 'Access-Control-Allow-Origin': '*', 'Access-Control-Allow-Credentials': 'true'}"
      ]
     },
     "execution_count": 4,
     "metadata": {},
     "output_type": "execute_result"
    }
   ],
   "source": [
    "res.headers"
   ]
  },
  {
   "cell_type": "code",
   "execution_count": 5,
   "metadata": {
    "ExecuteTime": {
     "end_time": "2021-01-22T09:05:24.718426Z",
     "start_time": "2021-01-22T09:05:24.715764Z"
    }
   },
   "outputs": [
    {
     "data": {
      "text/plain": [
       "b'{\\n  \"headers\": {\\n    \"Accept\": \"*/*\", \\n    \"Accept-Encoding\": \"gzip, deflate\", \\n    \"Host\": \"httpbin.org\", \\n    \"User-Agent\": \"python-requests/2.25.1\", \\n    \"X-Amzn-Trace-Id\": \"Root=1-600a94bc-7bd6be171ee2d12b1348aa8e\"\\n  }\\n}\\n'"
      ]
     },
     "execution_count": 5,
     "metadata": {},
     "output_type": "execute_result"
    }
   ],
   "source": [
    "res.content"
   ]
  },
  {
   "cell_type": "code",
   "execution_count": 6,
   "metadata": {
    "ExecuteTime": {
     "end_time": "2021-01-22T09:08:11.513595Z",
     "start_time": "2021-01-22T09:08:11.510894Z"
    }
   },
   "outputs": [
    {
     "data": {
      "text/plain": [
       "{'headers': {'Accept': '*/*',\n",
       "  'Accept-Encoding': 'gzip, deflate',\n",
       "  'Host': 'httpbin.org',\n",
       "  'User-Agent': 'python-requests/2.25.1',\n",
       "  'X-Amzn-Trace-Id': 'Root=1-600a94bc-7bd6be171ee2d12b1348aa8e'}}"
      ]
     },
     "execution_count": 6,
     "metadata": {},
     "output_type": "execute_result"
    }
   ],
   "source": [
    "res.json()"
   ]
  },
  {
   "cell_type": "code",
   "execution_count": 7,
   "metadata": {
    "ExecuteTime": {
     "end_time": "2021-01-22T09:08:31.232495Z",
     "start_time": "2021-01-22T09:08:31.229184Z"
    }
   },
   "outputs": [
    {
     "name": "stdout",
     "output_type": "stream",
     "text": [
      "Help on function get in module requests.api:\n",
      "\n",
      "get(url, params=None, **kwargs)\n",
      "    Sends a GET request.\n",
      "    \n",
      "    :param url: URL for the new :class:`Request` object.\n",
      "    :param params: (optional) Dictionary, list of tuples or bytes to send\n",
      "        in the query string for the :class:`Request`.\n",
      "    :param \\*\\*kwargs: Optional arguments that ``request`` takes.\n",
      "    :return: :class:`Response <Response>` object\n",
      "    :rtype: requests.Response\n",
      "\n"
     ]
    }
   ],
   "source": [
    "help(requests.get)"
   ]
  },
  {
   "cell_type": "code",
   "execution_count": 8,
   "metadata": {
    "ExecuteTime": {
     "end_time": "2021-01-22T09:10:32.149563Z",
     "start_time": "2021-01-22T09:10:32.145301Z"
    }
   },
   "outputs": [
    {
     "name": "stdout",
     "output_type": "stream",
     "text": [
      "Help on function request in module requests.api:\n",
      "\n",
      "request(method, url, **kwargs)\n",
      "    Constructs and sends a :class:`Request <Request>`.\n",
      "    \n",
      "    :param method: method for the new :class:`Request` object: ``GET``, ``OPTIONS``, ``HEAD``, ``POST``, ``PUT``, ``PATCH``, or ``DELETE``.\n",
      "    :param url: URL for the new :class:`Request` object.\n",
      "    :param params: (optional) Dictionary, list of tuples or bytes to send\n",
      "        in the query string for the :class:`Request`.\n",
      "    :param data: (optional) Dictionary, list of tuples, bytes, or file-like\n",
      "        object to send in the body of the :class:`Request`.\n",
      "    :param json: (optional) A JSON serializable Python object to send in the body of the :class:`Request`.\n",
      "    :param headers: (optional) Dictionary of HTTP Headers to send with the :class:`Request`.\n",
      "    :param cookies: (optional) Dict or CookieJar object to send with the :class:`Request`.\n",
      "    :param files: (optional) Dictionary of ``'name': file-like-objects`` (or ``{'name': file-tuple}``) for multipart encoding upload.\n",
      "        ``file-tuple`` can be a 2-tuple ``('filename', fileobj)``, 3-tuple ``('filename', fileobj, 'content_type')``\n",
      "        or a 4-tuple ``('filename', fileobj, 'content_type', custom_headers)``, where ``'content-type'`` is a string\n",
      "        defining the content type of the given file and ``custom_headers`` a dict-like object containing additional headers\n",
      "        to add for the file.\n",
      "    :param auth: (optional) Auth tuple to enable Basic/Digest/Custom HTTP Auth.\n",
      "    :param timeout: (optional) How many seconds to wait for the server to send data\n",
      "        before giving up, as a float, or a :ref:`(connect timeout, read\n",
      "        timeout) <timeouts>` tuple.\n",
      "    :type timeout: float or tuple\n",
      "    :param allow_redirects: (optional) Boolean. Enable/disable GET/OPTIONS/POST/PUT/PATCH/DELETE/HEAD redirection. Defaults to ``True``.\n",
      "    :type allow_redirects: bool\n",
      "    :param proxies: (optional) Dictionary mapping protocol to the URL of the proxy.\n",
      "    :param verify: (optional) Either a boolean, in which case it controls whether we verify\n",
      "            the server's TLS certificate, or a string, in which case it must be a path\n",
      "            to a CA bundle to use. Defaults to ``True``.\n",
      "    :param stream: (optional) if ``False``, the response content will be immediately downloaded.\n",
      "    :param cert: (optional) if String, path to ssl client cert file (.pem). If Tuple, ('cert', 'key') pair.\n",
      "    :return: :class:`Response <Response>` object\n",
      "    :rtype: requests.Response\n",
      "    \n",
      "    Usage::\n",
      "    \n",
      "      >>> import requests\n",
      "      >>> req = requests.request('GET', 'https://httpbin.org/get')\n",
      "      >>> req\n",
      "      <Response [200]>\n",
      "\n"
     ]
    }
   ],
   "source": [
    "help(requests.request)"
   ]
  },
  {
   "cell_type": "code",
   "execution_count": null,
   "metadata": {},
   "outputs": [],
   "source": []
  },
  {
   "cell_type": "code",
   "execution_count": 9,
   "metadata": {
    "ExecuteTime": {
     "end_time": "2021-01-22T09:10:58.884038Z",
     "start_time": "2021-01-22T09:10:58.563889Z"
    }
   },
   "outputs": [
    {
     "data": {
      "text/plain": [
       "<Response [200]>"
      ]
     },
     "execution_count": 9,
     "metadata": {},
     "output_type": "execute_result"
    }
   ],
   "source": [
    "res = requests.get(\"http://httpbin.org/anything\", params={\"a\": \"1\", \"b\": 2})\n",
    "\n",
    "res"
   ]
  },
  {
   "cell_type": "code",
   "execution_count": null,
   "metadata": {},
   "outputs": [],
   "source": []
  },
  {
   "cell_type": "code",
   "execution_count": 10,
   "metadata": {
    "ExecuteTime": {
     "end_time": "2021-01-22T09:11:02.341119Z",
     "start_time": "2021-01-22T09:11:02.337901Z"
    }
   },
   "outputs": [
    {
     "data": {
      "text/plain": [
       "{'args': {'a': '1', 'b': '2'},\n",
       " 'data': '',\n",
       " 'files': {},\n",
       " 'form': {},\n",
       " 'headers': {'Accept': '*/*',\n",
       "  'Accept-Encoding': 'gzip, deflate',\n",
       "  'Host': 'httpbin.org',\n",
       "  'User-Agent': 'python-requests/2.25.1',\n",
       "  'X-Amzn-Trace-Id': 'Root=1-600a969d-32d159767fe72a522388c3da'},\n",
       " 'json': None,\n",
       " 'method': 'GET',\n",
       " 'origin': '178.121.74.184',\n",
       " 'url': 'http://httpbin.org/anything?a=1&b=2'}"
      ]
     },
     "execution_count": 10,
     "metadata": {},
     "output_type": "execute_result"
    }
   ],
   "source": [
    "res.json()"
   ]
  },
  {
   "cell_type": "code",
   "execution_count": 11,
   "metadata": {
    "ExecuteTime": {
     "end_time": "2021-01-22T09:11:36.974684Z",
     "start_time": "2021-01-22T09:11:36.640540Z"
    }
   },
   "outputs": [],
   "source": [
    "res = requests.get(\"http://httpbin.org/anything\", params={\"a\": \"1\", \"b\": 2})"
   ]
  },
  {
   "cell_type": "code",
   "execution_count": 12,
   "metadata": {
    "ExecuteTime": {
     "end_time": "2021-01-22T09:11:45.104285Z",
     "start_time": "2021-01-22T09:11:45.100126Z"
    }
   },
   "outputs": [
    {
     "data": {
      "text/plain": [
       "{'args': {'a': '1', 'b': '2'},\n",
       " 'data': '',\n",
       " 'files': {},\n",
       " 'form': {},\n",
       " 'headers': {'Accept': '*/*',\n",
       "  'Accept-Encoding': 'gzip, deflate',\n",
       "  'Host': 'httpbin.org',\n",
       "  'User-Agent': 'python-requests/2.25.1',\n",
       "  'X-Amzn-Trace-Id': 'Root=1-600a96c3-6f7b7b9e4cd1dd1d33bd4d67'},\n",
       " 'json': None,\n",
       " 'method': 'GET',\n",
       " 'origin': '178.121.74.184',\n",
       " 'url': 'http://httpbin.org/anything?a=1&b=2'}"
      ]
     },
     "execution_count": 12,
     "metadata": {},
     "output_type": "execute_result"
    }
   ],
   "source": [
    "res.json()"
   ]
  },
  {
   "cell_type": "code",
   "execution_count": 13,
   "metadata": {
    "ExecuteTime": {
     "end_time": "2021-01-22T09:11:51.387779Z",
     "start_time": "2021-01-22T09:11:51.384970Z"
    }
   },
   "outputs": [
    {
     "data": {
      "text/plain": [
       "{'Date': 'Fri, 22 Jan 2021 09:11:31 GMT', 'Content-Type': 'application/json', 'Content-Length': '434', 'Connection': 'keep-alive', 'Server': 'gunicorn/19.9.0', 'Access-Control-Allow-Origin': '*', 'Access-Control-Allow-Credentials': 'true'}"
      ]
     },
     "execution_count": 13,
     "metadata": {},
     "output_type": "execute_result"
    }
   ],
   "source": [
    "res.headers"
   ]
  },
  {
   "cell_type": "code",
   "execution_count": 14,
   "metadata": {
    "ExecuteTime": {
     "end_time": "2021-01-22T09:12:04.598261Z",
     "start_time": "2021-01-22T09:12:04.595027Z"
    }
   },
   "outputs": [
    {
     "data": {
      "text/plain": [
       "<PreparedRequest [GET]>"
      ]
     },
     "execution_count": 14,
     "metadata": {},
     "output_type": "execute_result"
    }
   ],
   "source": [
    "res.request"
   ]
  },
  {
   "cell_type": "code",
   "execution_count": 15,
   "metadata": {
    "ExecuteTime": {
     "end_time": "2021-01-22T09:12:16.144761Z",
     "start_time": "2021-01-22T09:12:16.141654Z"
    }
   },
   "outputs": [
    {
     "data": {
      "text/plain": [
       "'http://httpbin.org/anything?a=1&b=2'"
      ]
     },
     "execution_count": 15,
     "metadata": {},
     "output_type": "execute_result"
    }
   ],
   "source": [
    "res.request.url"
   ]
  },
  {
   "cell_type": "code",
   "execution_count": 17,
   "metadata": {
    "ExecuteTime": {
     "end_time": "2021-01-22T09:13:16.914081Z",
     "start_time": "2021-01-22T09:13:16.911133Z"
    }
   },
   "outputs": [
    {
     "data": {
      "text/plain": [
       "'http://httpbin.org/anything?a=1&b=2'"
      ]
     },
     "execution_count": 17,
     "metadata": {},
     "output_type": "execute_result"
    }
   ],
   "source": [
    "a, b = 1, 2\n",
    "\n",
    "f\"http://httpbin.org/anything?a={a}&b={b}\""
   ]
  },
  {
   "cell_type": "code",
   "execution_count": null,
   "metadata": {},
   "outputs": [],
   "source": []
  },
  {
   "cell_type": "code",
   "execution_count": 21,
   "metadata": {
    "ExecuteTime": {
     "end_time": "2021-01-22T09:16:03.079938Z",
     "start_time": "2021-01-22T09:16:02.764418Z"
    }
   },
   "outputs": [
    {
     "data": {
      "text/plain": [
       "'http://httpbin.org/anything?a=%D0%AF%D0%BD%2F%D0%B4%5C%D0%B5%D0%BA%D1%81'"
      ]
     },
     "execution_count": 21,
     "metadata": {},
     "output_type": "execute_result"
    }
   ],
   "source": [
    "a = \"Ян/д\\екс\"\n",
    "\n",
    "res = requests.get(\"http://httpbin.org/anything\", params={\"a\": a})\n",
    "\n",
    "res.request.url"
   ]
  },
  {
   "cell_type": "code",
   "execution_count": 20,
   "metadata": {
    "ExecuteTime": {
     "end_time": "2021-01-22T09:15:57.889916Z",
     "start_time": "2021-01-22T09:15:57.886895Z"
    }
   },
   "outputs": [
    {
     "data": {
      "text/plain": [
       "'http://httpbin.org/anything?a=Ян/д\\\\екс'"
      ]
     },
     "execution_count": 20,
     "metadata": {},
     "output_type": "execute_result"
    }
   ],
   "source": [
    "a = \"Ян/д\\екс\"\n",
    "\n",
    "f\"http://httpbin.org/anything?a={a}\""
   ]
  },
  {
   "cell_type": "code",
   "execution_count": null,
   "metadata": {},
   "outputs": [],
   "source": []
  },
  {
   "cell_type": "code",
   "execution_count": 23,
   "metadata": {
    "ExecuteTime": {
     "end_time": "2021-01-22T09:17:13.249964Z",
     "start_time": "2021-01-22T09:17:12.936798Z"
    }
   },
   "outputs": [
    {
     "data": {
      "text/plain": [
       "{'args': {'a': 'Ян/д\\\\екс'},\n",
       " 'data': '',\n",
       " 'files': {},\n",
       " 'form': {},\n",
       " 'headers': {'Accept': '*/*',\n",
       "  'Accept-Encoding': 'gzip, deflate',\n",
       "  'Content-Length': '0',\n",
       "  'Host': 'httpbin.org',\n",
       "  'User-Agent': 'python-requests/2.25.1',\n",
       "  'X-Amzn-Trace-Id': 'Root=1-600a9814-72bfd5440cb235636d159162'},\n",
       " 'json': None,\n",
       " 'method': 'POST',\n",
       " 'origin': '178.121.74.184',\n",
       " 'url': 'http://httpbin.org/anything?a=Ян%2Fд\\\\екс'}"
      ]
     },
     "execution_count": 23,
     "metadata": {},
     "output_type": "execute_result"
    }
   ],
   "source": [
    "res = requests.post(\"http://httpbin.org/anything\", params={\"a\": a})\n",
    "\n",
    "res.json()"
   ]
  },
  {
   "cell_type": "code",
   "execution_count": 25,
   "metadata": {
    "ExecuteTime": {
     "end_time": "2021-01-22T09:17:53.373957Z",
     "start_time": "2021-01-22T09:17:53.061831Z"
    }
   },
   "outputs": [
    {
     "data": {
      "text/plain": [
       "{'args': {},\n",
       " 'data': 'sdadadasd',\n",
       " 'files': {},\n",
       " 'form': {},\n",
       " 'headers': {'Accept': '*/*',\n",
       "  'Accept-Encoding': 'gzip, deflate',\n",
       "  'Content-Length': '9',\n",
       "  'Host': 'httpbin.org',\n",
       "  'User-Agent': 'python-requests/2.25.1',\n",
       "  'X-Amzn-Trace-Id': 'Root=1-600a983c-41c8d9815277785c62c5171b'},\n",
       " 'json': None,\n",
       " 'method': 'POST',\n",
       " 'origin': '178.121.74.184',\n",
       " 'url': 'http://httpbin.org/anything'}"
      ]
     },
     "execution_count": 25,
     "metadata": {},
     "output_type": "execute_result"
    }
   ],
   "source": [
    "res = requests.post(\"http://httpbin.org/anything\", data=b'sdadadasd')\n",
    "\n",
    "res.json()"
   ]
  },
  {
   "cell_type": "code",
   "execution_count": 28,
   "metadata": {
    "ExecuteTime": {
     "end_time": "2021-01-22T09:18:42.007071Z",
     "start_time": "2021-01-22T09:18:41.965551Z"
    }
   },
   "outputs": [
    {
     "ename": "TypeError",
     "evalue": "Object of type set is not JSON serializable",
     "output_type": "error",
     "traceback": [
      "\u001b[0;31m---------------------------------------------------------------------------\u001b[0m",
      "\u001b[0;31mTypeError\u001b[0m                                 Traceback (most recent call last)",
      "\u001b[0;32m<ipython-input-28-6b53bdb96edc>\u001b[0m in \u001b[0;36m<module>\u001b[0;34m\u001b[0m\n\u001b[0;32m----> 1\u001b[0;31m \u001b[0mres\u001b[0m \u001b[0;34m=\u001b[0m \u001b[0mrequests\u001b[0m\u001b[0;34m.\u001b[0m\u001b[0mpost\u001b[0m\u001b[0;34m(\u001b[0m\u001b[0;34m\"http://httpbin.org/anything\"\u001b[0m\u001b[0;34m,\u001b[0m \u001b[0mjson\u001b[0m\u001b[0;34m=\u001b[0m\u001b[0;34m{\u001b[0m\u001b[0;34m'sdadadasd'\u001b[0m\u001b[0;34m}\u001b[0m\u001b[0;34m)\u001b[0m\u001b[0;34m\u001b[0m\u001b[0;34m\u001b[0m\u001b[0m\n\u001b[0m\u001b[1;32m      2\u001b[0m \u001b[0;34m\u001b[0m\u001b[0m\n\u001b[1;32m      3\u001b[0m \u001b[0mres\u001b[0m\u001b[0;34m.\u001b[0m\u001b[0mjson\u001b[0m\u001b[0;34m(\u001b[0m\u001b[0;34m)\u001b[0m\u001b[0;34m\u001b[0m\u001b[0;34m\u001b[0m\u001b[0m\n",
      "\u001b[0;32m~/.local/lib/python3.8/site-packages/requests/api.py\u001b[0m in \u001b[0;36mpost\u001b[0;34m(url, data, json, **kwargs)\u001b[0m\n\u001b[1;32m    117\u001b[0m     \"\"\"\n\u001b[1;32m    118\u001b[0m \u001b[0;34m\u001b[0m\u001b[0m\n\u001b[0;32m--> 119\u001b[0;31m     \u001b[0;32mreturn\u001b[0m \u001b[0mrequest\u001b[0m\u001b[0;34m(\u001b[0m\u001b[0;34m'post'\u001b[0m\u001b[0;34m,\u001b[0m \u001b[0murl\u001b[0m\u001b[0;34m,\u001b[0m \u001b[0mdata\u001b[0m\u001b[0;34m=\u001b[0m\u001b[0mdata\u001b[0m\u001b[0;34m,\u001b[0m \u001b[0mjson\u001b[0m\u001b[0;34m=\u001b[0m\u001b[0mjson\u001b[0m\u001b[0;34m,\u001b[0m \u001b[0;34m**\u001b[0m\u001b[0mkwargs\u001b[0m\u001b[0;34m)\u001b[0m\u001b[0;34m\u001b[0m\u001b[0;34m\u001b[0m\u001b[0m\n\u001b[0m\u001b[1;32m    120\u001b[0m \u001b[0;34m\u001b[0m\u001b[0m\n\u001b[1;32m    121\u001b[0m \u001b[0;34m\u001b[0m\u001b[0m\n",
      "\u001b[0;32m~/.local/lib/python3.8/site-packages/requests/api.py\u001b[0m in \u001b[0;36mrequest\u001b[0;34m(method, url, **kwargs)\u001b[0m\n\u001b[1;32m     59\u001b[0m     \u001b[0;31m# cases, and look like a memory leak in others.\u001b[0m\u001b[0;34m\u001b[0m\u001b[0;34m\u001b[0m\u001b[0;34m\u001b[0m\u001b[0m\n\u001b[1;32m     60\u001b[0m     \u001b[0;32mwith\u001b[0m \u001b[0msessions\u001b[0m\u001b[0;34m.\u001b[0m\u001b[0mSession\u001b[0m\u001b[0;34m(\u001b[0m\u001b[0;34m)\u001b[0m \u001b[0;32mas\u001b[0m \u001b[0msession\u001b[0m\u001b[0;34m:\u001b[0m\u001b[0;34m\u001b[0m\u001b[0;34m\u001b[0m\u001b[0m\n\u001b[0;32m---> 61\u001b[0;31m         \u001b[0;32mreturn\u001b[0m \u001b[0msession\u001b[0m\u001b[0;34m.\u001b[0m\u001b[0mrequest\u001b[0m\u001b[0;34m(\u001b[0m\u001b[0mmethod\u001b[0m\u001b[0;34m=\u001b[0m\u001b[0mmethod\u001b[0m\u001b[0;34m,\u001b[0m \u001b[0murl\u001b[0m\u001b[0;34m=\u001b[0m\u001b[0murl\u001b[0m\u001b[0;34m,\u001b[0m \u001b[0;34m**\u001b[0m\u001b[0mkwargs\u001b[0m\u001b[0;34m)\u001b[0m\u001b[0;34m\u001b[0m\u001b[0;34m\u001b[0m\u001b[0m\n\u001b[0m\u001b[1;32m     62\u001b[0m \u001b[0;34m\u001b[0m\u001b[0m\n\u001b[1;32m     63\u001b[0m \u001b[0;34m\u001b[0m\u001b[0m\n",
      "\u001b[0;32m~/.local/lib/python3.8/site-packages/requests/sessions.py\u001b[0m in \u001b[0;36mrequest\u001b[0;34m(self, method, url, params, data, headers, cookies, files, auth, timeout, allow_redirects, proxies, hooks, stream, verify, cert, json)\u001b[0m\n\u001b[1;32m    526\u001b[0m             \u001b[0mhooks\u001b[0m\u001b[0;34m=\u001b[0m\u001b[0mhooks\u001b[0m\u001b[0;34m,\u001b[0m\u001b[0;34m\u001b[0m\u001b[0;34m\u001b[0m\u001b[0m\n\u001b[1;32m    527\u001b[0m         )\n\u001b[0;32m--> 528\u001b[0;31m         \u001b[0mprep\u001b[0m \u001b[0;34m=\u001b[0m \u001b[0mself\u001b[0m\u001b[0;34m.\u001b[0m\u001b[0mprepare_request\u001b[0m\u001b[0;34m(\u001b[0m\u001b[0mreq\u001b[0m\u001b[0;34m)\u001b[0m\u001b[0;34m\u001b[0m\u001b[0;34m\u001b[0m\u001b[0m\n\u001b[0m\u001b[1;32m    529\u001b[0m \u001b[0;34m\u001b[0m\u001b[0m\n\u001b[1;32m    530\u001b[0m         \u001b[0mproxies\u001b[0m \u001b[0;34m=\u001b[0m \u001b[0mproxies\u001b[0m \u001b[0;32mor\u001b[0m \u001b[0;34m{\u001b[0m\u001b[0;34m}\u001b[0m\u001b[0;34m\u001b[0m\u001b[0;34m\u001b[0m\u001b[0m\n",
      "\u001b[0;32m~/.local/lib/python3.8/site-packages/requests/sessions.py\u001b[0m in \u001b[0;36mprepare_request\u001b[0;34m(self, request)\u001b[0m\n\u001b[1;32m    454\u001b[0m \u001b[0;34m\u001b[0m\u001b[0m\n\u001b[1;32m    455\u001b[0m         \u001b[0mp\u001b[0m \u001b[0;34m=\u001b[0m \u001b[0mPreparedRequest\u001b[0m\u001b[0;34m(\u001b[0m\u001b[0;34m)\u001b[0m\u001b[0;34m\u001b[0m\u001b[0;34m\u001b[0m\u001b[0m\n\u001b[0;32m--> 456\u001b[0;31m         p.prepare(\n\u001b[0m\u001b[1;32m    457\u001b[0m             \u001b[0mmethod\u001b[0m\u001b[0;34m=\u001b[0m\u001b[0mrequest\u001b[0m\u001b[0;34m.\u001b[0m\u001b[0mmethod\u001b[0m\u001b[0;34m.\u001b[0m\u001b[0mupper\u001b[0m\u001b[0;34m(\u001b[0m\u001b[0;34m)\u001b[0m\u001b[0;34m,\u001b[0m\u001b[0;34m\u001b[0m\u001b[0;34m\u001b[0m\u001b[0m\n\u001b[1;32m    458\u001b[0m             \u001b[0murl\u001b[0m\u001b[0;34m=\u001b[0m\u001b[0mrequest\u001b[0m\u001b[0;34m.\u001b[0m\u001b[0murl\u001b[0m\u001b[0;34m,\u001b[0m\u001b[0;34m\u001b[0m\u001b[0;34m\u001b[0m\u001b[0m\n",
      "\u001b[0;32m~/.local/lib/python3.8/site-packages/requests/models.py\u001b[0m in \u001b[0;36mprepare\u001b[0;34m(self, method, url, headers, files, data, params, auth, cookies, hooks, json)\u001b[0m\n\u001b[1;32m    317\u001b[0m         \u001b[0mself\u001b[0m\u001b[0;34m.\u001b[0m\u001b[0mprepare_headers\u001b[0m\u001b[0;34m(\u001b[0m\u001b[0mheaders\u001b[0m\u001b[0;34m)\u001b[0m\u001b[0;34m\u001b[0m\u001b[0;34m\u001b[0m\u001b[0m\n\u001b[1;32m    318\u001b[0m         \u001b[0mself\u001b[0m\u001b[0;34m.\u001b[0m\u001b[0mprepare_cookies\u001b[0m\u001b[0;34m(\u001b[0m\u001b[0mcookies\u001b[0m\u001b[0;34m)\u001b[0m\u001b[0;34m\u001b[0m\u001b[0;34m\u001b[0m\u001b[0m\n\u001b[0;32m--> 319\u001b[0;31m         \u001b[0mself\u001b[0m\u001b[0;34m.\u001b[0m\u001b[0mprepare_body\u001b[0m\u001b[0;34m(\u001b[0m\u001b[0mdata\u001b[0m\u001b[0;34m,\u001b[0m \u001b[0mfiles\u001b[0m\u001b[0;34m,\u001b[0m \u001b[0mjson\u001b[0m\u001b[0;34m)\u001b[0m\u001b[0;34m\u001b[0m\u001b[0;34m\u001b[0m\u001b[0m\n\u001b[0m\u001b[1;32m    320\u001b[0m         \u001b[0mself\u001b[0m\u001b[0;34m.\u001b[0m\u001b[0mprepare_auth\u001b[0m\u001b[0;34m(\u001b[0m\u001b[0mauth\u001b[0m\u001b[0;34m,\u001b[0m \u001b[0murl\u001b[0m\u001b[0;34m)\u001b[0m\u001b[0;34m\u001b[0m\u001b[0;34m\u001b[0m\u001b[0m\n\u001b[1;32m    321\u001b[0m \u001b[0;34m\u001b[0m\u001b[0m\n",
      "\u001b[0;32m~/.local/lib/python3.8/site-packages/requests/models.py\u001b[0m in \u001b[0;36mprepare_body\u001b[0;34m(self, data, files, json)\u001b[0m\n\u001b[1;32m    467\u001b[0m             \u001b[0;31m# provides this natively, but Python 3 gives a Unicode string.\u001b[0m\u001b[0;34m\u001b[0m\u001b[0;34m\u001b[0m\u001b[0;34m\u001b[0m\u001b[0m\n\u001b[1;32m    468\u001b[0m             \u001b[0mcontent_type\u001b[0m \u001b[0;34m=\u001b[0m \u001b[0;34m'application/json'\u001b[0m\u001b[0;34m\u001b[0m\u001b[0;34m\u001b[0m\u001b[0m\n\u001b[0;32m--> 469\u001b[0;31m             \u001b[0mbody\u001b[0m \u001b[0;34m=\u001b[0m \u001b[0mcomplexjson\u001b[0m\u001b[0;34m.\u001b[0m\u001b[0mdumps\u001b[0m\u001b[0;34m(\u001b[0m\u001b[0mjson\u001b[0m\u001b[0;34m)\u001b[0m\u001b[0;34m\u001b[0m\u001b[0;34m\u001b[0m\u001b[0m\n\u001b[0m\u001b[1;32m    470\u001b[0m             \u001b[0;32mif\u001b[0m \u001b[0;32mnot\u001b[0m \u001b[0misinstance\u001b[0m\u001b[0;34m(\u001b[0m\u001b[0mbody\u001b[0m\u001b[0;34m,\u001b[0m \u001b[0mbytes\u001b[0m\u001b[0;34m)\u001b[0m\u001b[0;34m:\u001b[0m\u001b[0;34m\u001b[0m\u001b[0;34m\u001b[0m\u001b[0m\n\u001b[1;32m    471\u001b[0m                 \u001b[0mbody\u001b[0m \u001b[0;34m=\u001b[0m \u001b[0mbody\u001b[0m\u001b[0;34m.\u001b[0m\u001b[0mencode\u001b[0m\u001b[0;34m(\u001b[0m\u001b[0;34m'utf-8'\u001b[0m\u001b[0;34m)\u001b[0m\u001b[0;34m\u001b[0m\u001b[0;34m\u001b[0m\u001b[0m\n",
      "\u001b[0;32m/usr/lib/python3/dist-packages/simplejson/__init__.py\u001b[0m in \u001b[0;36mdumps\u001b[0;34m(obj, skipkeys, ensure_ascii, check_circular, allow_nan, cls, indent, separators, encoding, default, use_decimal, namedtuple_as_object, tuple_as_array, bigint_as_string, sort_keys, item_sort_key, for_json, ignore_nan, int_as_string_bitcount, iterable_as_array, **kw)\u001b[0m\n\u001b[1;32m    380\u001b[0m         \u001b[0;32mand\u001b[0m \u001b[0;32mnot\u001b[0m \u001b[0mkw\u001b[0m\u001b[0;34m\u001b[0m\u001b[0;34m\u001b[0m\u001b[0m\n\u001b[1;32m    381\u001b[0m     ):\n\u001b[0;32m--> 382\u001b[0;31m         \u001b[0;32mreturn\u001b[0m \u001b[0m_default_encoder\u001b[0m\u001b[0;34m.\u001b[0m\u001b[0mencode\u001b[0m\u001b[0;34m(\u001b[0m\u001b[0mobj\u001b[0m\u001b[0;34m)\u001b[0m\u001b[0;34m\u001b[0m\u001b[0;34m\u001b[0m\u001b[0m\n\u001b[0m\u001b[1;32m    383\u001b[0m     \u001b[0;32mif\u001b[0m \u001b[0mcls\u001b[0m \u001b[0;32mis\u001b[0m \u001b[0;32mNone\u001b[0m\u001b[0;34m:\u001b[0m\u001b[0;34m\u001b[0m\u001b[0;34m\u001b[0m\u001b[0m\n\u001b[1;32m    384\u001b[0m         \u001b[0mcls\u001b[0m \u001b[0;34m=\u001b[0m \u001b[0mJSONEncoder\u001b[0m\u001b[0;34m\u001b[0m\u001b[0;34m\u001b[0m\u001b[0m\n",
      "\u001b[0;32m/usr/lib/python3/dist-packages/simplejson/encoder.py\u001b[0m in \u001b[0;36mencode\u001b[0;34m(self, o)\u001b[0m\n\u001b[1;32m    294\u001b[0m         \u001b[0;31m# exceptions aren't as detailed.  The list call should be roughly\u001b[0m\u001b[0;34m\u001b[0m\u001b[0;34m\u001b[0m\u001b[0;34m\u001b[0m\u001b[0m\n\u001b[1;32m    295\u001b[0m         \u001b[0;31m# equivalent to the PySequence_Fast that ''.join() would do.\u001b[0m\u001b[0;34m\u001b[0m\u001b[0;34m\u001b[0m\u001b[0;34m\u001b[0m\u001b[0m\n\u001b[0;32m--> 296\u001b[0;31m         \u001b[0mchunks\u001b[0m \u001b[0;34m=\u001b[0m \u001b[0mself\u001b[0m\u001b[0;34m.\u001b[0m\u001b[0miterencode\u001b[0m\u001b[0;34m(\u001b[0m\u001b[0mo\u001b[0m\u001b[0;34m,\u001b[0m \u001b[0m_one_shot\u001b[0m\u001b[0;34m=\u001b[0m\u001b[0;32mTrue\u001b[0m\u001b[0;34m)\u001b[0m\u001b[0;34m\u001b[0m\u001b[0;34m\u001b[0m\u001b[0m\n\u001b[0m\u001b[1;32m    297\u001b[0m         \u001b[0;32mif\u001b[0m \u001b[0;32mnot\u001b[0m \u001b[0misinstance\u001b[0m\u001b[0;34m(\u001b[0m\u001b[0mchunks\u001b[0m\u001b[0;34m,\u001b[0m \u001b[0;34m(\u001b[0m\u001b[0mlist\u001b[0m\u001b[0;34m,\u001b[0m \u001b[0mtuple\u001b[0m\u001b[0;34m)\u001b[0m\u001b[0;34m)\u001b[0m\u001b[0;34m:\u001b[0m\u001b[0;34m\u001b[0m\u001b[0;34m\u001b[0m\u001b[0m\n\u001b[1;32m    298\u001b[0m             \u001b[0mchunks\u001b[0m \u001b[0;34m=\u001b[0m \u001b[0mlist\u001b[0m\u001b[0;34m(\u001b[0m\u001b[0mchunks\u001b[0m\u001b[0;34m)\u001b[0m\u001b[0;34m\u001b[0m\u001b[0;34m\u001b[0m\u001b[0m\n",
      "\u001b[0;32m/usr/lib/python3/dist-packages/simplejson/encoder.py\u001b[0m in \u001b[0;36miterencode\u001b[0;34m(self, o, _one_shot)\u001b[0m\n\u001b[1;32m    376\u001b[0m                 self.iterable_as_array, Decimal=decimal.Decimal)\n\u001b[1;32m    377\u001b[0m         \u001b[0;32mtry\u001b[0m\u001b[0;34m:\u001b[0m\u001b[0;34m\u001b[0m\u001b[0;34m\u001b[0m\u001b[0m\n\u001b[0;32m--> 378\u001b[0;31m             \u001b[0;32mreturn\u001b[0m \u001b[0m_iterencode\u001b[0m\u001b[0;34m(\u001b[0m\u001b[0mo\u001b[0m\u001b[0;34m,\u001b[0m \u001b[0;36m0\u001b[0m\u001b[0;34m)\u001b[0m\u001b[0;34m\u001b[0m\u001b[0;34m\u001b[0m\u001b[0m\n\u001b[0m\u001b[1;32m    379\u001b[0m         \u001b[0;32mfinally\u001b[0m\u001b[0;34m:\u001b[0m\u001b[0;34m\u001b[0m\u001b[0;34m\u001b[0m\u001b[0m\n\u001b[1;32m    380\u001b[0m             \u001b[0mkey_memo\u001b[0m\u001b[0;34m.\u001b[0m\u001b[0mclear\u001b[0m\u001b[0;34m(\u001b[0m\u001b[0;34m)\u001b[0m\u001b[0;34m\u001b[0m\u001b[0;34m\u001b[0m\u001b[0m\n",
      "\u001b[0;32m/usr/lib/python3/dist-packages/simplejson/encoder.py\u001b[0m in \u001b[0;36mdefault\u001b[0;34m(self, o)\u001b[0m\n\u001b[1;32m    270\u001b[0m \u001b[0;34m\u001b[0m\u001b[0m\n\u001b[1;32m    271\u001b[0m         \"\"\"\n\u001b[0;32m--> 272\u001b[0;31m         raise TypeError('Object of type %s is not JSON serializable' %\n\u001b[0m\u001b[1;32m    273\u001b[0m                         o.__class__.__name__)\n\u001b[1;32m    274\u001b[0m \u001b[0;34m\u001b[0m\u001b[0m\n",
      "\u001b[0;31mTypeError\u001b[0m: Object of type set is not JSON serializable"
     ]
    }
   ],
   "source": [
    "res = requests.post(\"http://httpbin.org/anything\", json={'sdadadasd'}) # send set\n",
    "\n",
    "res.json()"
   ]
  },
  {
   "cell_type": "code",
   "execution_count": 29,
   "metadata": {
    "ExecuteTime": {
     "end_time": "2021-01-22T09:19:10.954641Z",
     "start_time": "2021-01-22T09:19:10.638133Z"
    }
   },
   "outputs": [
    {
     "data": {
      "text/plain": [
       "{'args': {},\n",
       " 'data': '{\"sdadadasd\": 1}',\n",
       " 'files': {},\n",
       " 'form': {},\n",
       " 'headers': {'Accept': '*/*',\n",
       "  'Accept-Encoding': 'gzip, deflate',\n",
       "  'Content-Length': '16',\n",
       "  'Content-Type': 'application/json',\n",
       "  'Host': 'httpbin.org',\n",
       "  'User-Agent': 'python-requests/2.25.1',\n",
       "  'X-Amzn-Trace-Id': 'Root=1-600a988a-4fe72d112f810ee05fc5c45d'},\n",
       " 'json': {'sdadadasd': 1},\n",
       " 'method': 'POST',\n",
       " 'origin': '178.121.74.184',\n",
       " 'url': 'http://httpbin.org/anything'}"
      ]
     },
     "execution_count": 29,
     "metadata": {},
     "output_type": "execute_result"
    }
   ],
   "source": [
    "res = requests.post(\"http://httpbin.org/anything\", json={'sdadadasd': 1}) # send dict\n",
    "\n",
    "res.json()"
   ]
  },
  {
   "cell_type": "code",
   "execution_count": null,
   "metadata": {},
   "outputs": [],
   "source": []
  },
  {
   "cell_type": "code",
   "execution_count": null,
   "metadata": {},
   "outputs": [],
   "source": []
  },
  {
   "cell_type": "code",
   "execution_count": null,
   "metadata": {},
   "outputs": [],
   "source": []
  },
  {
   "cell_type": "code",
   "execution_count": null,
   "metadata": {},
   "outputs": [],
   "source": []
  },
  {
   "cell_type": "code",
   "execution_count": 30,
   "metadata": {
    "ExecuteTime": {
     "end_time": "2021-01-22T09:20:11.089792Z",
     "start_time": "2021-01-22T09:20:11.087983Z"
    }
   },
   "outputs": [],
   "source": [
    "TXT_SAMPLE = \"https://tools.ietf.org/rfc/rfc4180.txt\""
   ]
  },
  {
   "cell_type": "code",
   "execution_count": 32,
   "metadata": {
    "ExecuteTime": {
     "end_time": "2021-01-22T09:20:30.277977Z",
     "start_time": "2021-01-22T09:20:29.176134Z"
    }
   },
   "outputs": [
    {
     "data": {
      "text/plain": [
       "'\\n\\n\\n\\n\\n\\nNetwork Working Group                                    Y. Shafranovich\\nRequest for Comments: 4180                SolidMatrix Technologies, Inc.\\nCategory: Informational                                     October 2005\\n\\n\\n   Common Format and MIME Type for Comma-Separated Values (CSV) Files\\n\\nStatus of This Memo\\n\\n   This memo provides information for the Internet community.  It does\\n   not specify an Internet standard of any kind.  Distribution of this\\n   memo is unlimited.\\n\\nCopyright Notice\\n\\n   Copyright (C) The Internet Society (2005).\\n\\nAbstract\\n\\n   This RFC documents the format used for Comma-Separated Values (CSV)\\n   files and registers the associated MIME type \"text/csv\".\\n\\nTable of Contents\\n\\n   1. Introduction ....................................................2\\n   2. Definition of the CSV Format ....................................2\\n   3. MIME Type Registration of text/csv ..............................4\\n   4. IANA Considerations .............................................5\\n   5. Security Considerations .........................................5\\n   6. Acknowledgments .................................................6\\n   7. References ......................................................6\\n      7.1. Normative References .......................................6\\n      7.2. Informative References .....................................6\\n\\n\\n\\n\\n\\n\\n\\n\\n\\n\\n\\n\\n\\n\\n\\n\\n\\n\\nShafranovich                 Informational                      [Page 1]\\n\\x0c\\nRFC 4180       Common Format and MIME Type for CSV Files    October 2005\\n\\n\\n1.  Introduction\\n\\n   The comma separated values format (CSV) has been used for exchanging\\n   and converting data between various spreadsheet programs for quite\\n   some time.  Surprisingly, while this format is very common, it has\\n   never been formally documented.  Additionally, while the IANA MIME\\n   registration tree includes a registration for\\n   \"text/tab-separated-values\" type, no MIME types have ever been\\n   registered with IANA for CSV.  At the same time, various programs and\\n   operating systems have begun to use different MIME types for this\\n   format.  This RFC documents the format of comma separated values\\n   (CSV) files and formally registers the \"text/csv\" MIME type for CSV\\n   in accordance with RFC 2048 [1].\\n\\n2.  Definition of the CSV Format\\n\\n   While there are various specifications and implementations for the\\n   CSV format (for ex. [4], [5], [6] and [7]), there is no formal\\n   specification in existence, which allows for a wide variety of\\n   interpretations of CSV files.  This section documents the format that\\n   seems to be followed by most implementations:\\n\\n   1.  Each record is located on a separate line, delimited by a line\\n       break (CRLF).  For example:\\n\\n       aaa,bbb,ccc CRLF\\n       zzz,yyy,xxx CRLF\\n\\n   2.  The last record in the file may or may not have an ending line\\n       break.  For example:\\n\\n       aaa,bbb,ccc CRLF\\n       zzz,yyy,xxx\\n\\n   3.  There maybe an optional header line appearing as the first line\\n       of the file with the same format as normal record lines.  This\\n       header will contain names corresponding to the fields in the file\\n       and should contain the same number of fields as the records in\\n       the rest of the file (the presence or absence of the header line\\n       should be indicated via the optional \"header\" parameter of this\\n       MIME type).  For example:\\n\\n       field_name,field_name,field_name CRLF\\n       aaa,bbb,ccc CRLF\\n       zzz,yyy,xxx CRLF\\n\\n\\n\\n\\n\\n\\nShafranovich                 Informational                      [Page 2]\\n\\x0c\\nRFC 4180       Common Format and MIME Type for CSV Files    October 2005\\n\\n\\n   4.  Within the header and each record, there may be one or more\\n       fields, separated by commas.  Each line should contain the same\\n       number of fields throughout the file.  Spaces are considered part\\n       of a field and should not be ignored.  The last field in the\\n       record must not be followed by a comma.  For example:\\n\\n       aaa,bbb,ccc\\n\\n   5.  Each field may or may not be enclosed in double quotes (however\\n       some programs, such as Microsoft Excel, do not use double quotes\\n       at all).  If fields are not enclosed with double quotes, then\\n       double quotes may not appear inside the fields.  For example:\\n\\n       \"aaa\",\"bbb\",\"ccc\" CRLF\\n       zzz,yyy,xxx\\n\\n   6.  Fields containing line breaks (CRLF), double quotes, and commas\\n       should be enclosed in double-quotes.  For example:\\n\\n       \"aaa\",\"b CRLF\\n       bb\",\"ccc\" CRLF\\n       zzz,yyy,xxx\\n\\n   7.  If double-quotes are used to enclose fields, then a double-quote\\n       appearing inside a field must be escaped by preceding it with\\n       another double quote.  For example:\\n\\n       \"aaa\",\"b\"\"bb\",\"ccc\"\\n\\n   The ABNF grammar [2] appears as follows:\\n\\n   file = [header CRLF] record *(CRLF record) [CRLF]\\n\\n   header = name *(COMMA name)\\n\\n   record = field *(COMMA field)\\n\\n   name = field\\n\\n   field = (escaped / non-escaped)\\n\\n   escaped = DQUOTE *(TEXTDATA / COMMA / CR / LF / 2DQUOTE) DQUOTE\\n\\n   non-escaped = *TEXTDATA\\n\\n   COMMA = %x2C\\n\\n   CR = %x0D ;as per section 6.1 of RFC 2234 [2]\\n\\n\\n\\nShafranovich                 Informational                      [Page 3]\\n\\x0c\\nRFC 4180       Common Format and MIME Type for CSV Files    October 2005\\n\\n\\n   DQUOTE =  %x22 ;as per section 6.1 of RFC 2234 [2]\\n\\n   LF = %x0A ;as per section 6.1 of RFC 2234 [2]\\n\\n   CRLF = CR LF ;as per section 6.1 of RFC 2234 [2]\\n\\n   TEXTDATA =  %x20-21 / %x23-2B / %x2D-7E\\n\\n3.  MIME Type Registration of text/csv\\n\\n   This section provides the media-type registration application (as per\\n   RFC 2048 [1].\\n\\n   To: ietf-types@iana.org\\n\\n   Subject: Registration of MIME media type text/csv\\n\\n   MIME media type name: text\\n\\n   MIME subtype name: csv\\n\\n   Required parameters: none\\n\\n   Optional parameters: charset, header\\n\\n      Common usage of CSV is US-ASCII, but other character sets defined\\n      by IANA for the \"text\" tree may be used in conjunction with the\\n      \"charset\" parameter.\\n\\n      The \"header\" parameter indicates the presence or absence of the\\n      header line.  Valid values are \"present\" or \"absent\".\\n      Implementors choosing not to use this parameter must make their\\n      own decisions as to whether the header line is present or absent.\\n\\n   Encoding considerations:\\n\\n      As per section 4.1.1. of RFC 2046 [3], this media type uses CRLF\\n      to denote line breaks.  However, implementors should be aware that\\n      some implementations may use other values.\\n\\n   Security considerations:\\n\\n      CSV files contain passive text data that should not pose any\\n      risks.  However, it is possible in theory that malicious binary\\n      data may be included in order to exploit potential buffer overruns\\n      in the program processing CSV data.  Additionally, private data\\n      may be shared via this format (which of course applies to any text\\n      data).\\n\\n\\n\\nShafranovich                 Informational                      [Page 4]\\n\\x0c\\nRFC 4180       Common Format and MIME Type for CSV Files    October 2005\\n\\n\\n   Interoperability considerations:\\n\\n      Due to lack of a single specification, there are considerable\\n      differences among implementations.  Implementors should \"be\\n      conservative in what you do, be liberal in what you accept from\\n      others\" (RFC 793 [8]) when processing CSV files.  An attempt at a\\n      common definition can be found in Section 2.\\n\\n      Implementations deciding not to use the optional \"header\"\\n      parameter must make their own decision as to whether the header is\\n      absent or present.\\n\\n   Published specification:\\n\\n      While numerous private specifications exist for various programs\\n      and systems, there is no single \"master\" specification for this\\n      format.  An attempt at a common definition can be found in Section\\n      2.\\n\\n   Applications that use this media type:\\n\\n      Spreadsheet programs and various data conversion utilities\\n\\n   Additional information:\\n\\n      Magic number(s): none\\n\\n      File extension(s): CSV\\n\\n      Macintosh File Type Code(s): TEXT\\n\\n   Person & email address to contact for further information:\\n\\n      Yakov Shafranovich <ietf@shaftek.org>\\n\\n   Intended usage: COMMON\\n\\n   Author/Change controller: IESG\\n\\n4.  IANA Considerations\\n\\n   The IANA has registered the MIME type \"text/csv\" using the\\n   application provided in Section 3 of this document.\\n\\n5.  Security Considerations\\n\\n   See discussion above in section 3.\\n\\n\\n\\n\\nShafranovich                 Informational                      [Page 5]\\n\\x0c\\nRFC 4180       Common Format and MIME Type for CSV Files    October 2005\\n\\n\\n6.  Acknowledgments\\n\\n   The author would like to thank Dave Crocker, Martin Duerst, Joel M.\\n   Halpern, Clyde Ingram, Graham Klyne, Bruce Lilly, Chris Lilley, and\\n   members of the IESG for their helpful suggestions.  A special word of\\n   thanks goes to Dave for helping with the ABNF grammar.\\n\\n   The author would also like to thank Henrik Lefkowetz, Marshall Rose,\\n   and the folks at xml.resource.org for providing many of the tools\\n   used for preparing RFCs and Internet drafts.\\n\\n   A special thank you goes to L.T.S.\\n\\n7.  References\\n\\n7.1.  Normative References\\n\\n   [1]  Freed, N., Klensin, J., and J. Postel, \"Multipurpose Internet\\n        Mail Extensions (MIME) Part Four: Registration Procedures\", BCP\\n        13, RFC 2048, November 1996.\\n\\n   [2]  Crocker, D. and P. Overell, \"Augmented BNF for Syntax\\n        Specifications: ABNF\", RFC 2234, November 1997.\\n\\n   [3]  Freed, N. and N. Borenstein, \"Multipurpose Internet Mail\\n        Extensions (MIME) Part Two: Media Types\", RFC 2046, November\\n        1996.\\n\\n7.2.  Informative References\\n\\n   [4]  Repici, J., \"HOW-TO: The Comma Separated Value (CSV) File\\n        Format\", 2004,\\n        <http://www.creativyst.com/Doc/Articles/CSV/CSV01.htm>.\\n\\n   [5]  Edoceo, Inc., \"CSV Standard File Format\", 2004,\\n        <http://www.edoceo.com/utilis/csv-file-format.php>.\\n\\n   [6]  Rodger, R. and O. Shanaghy, \"Documentation for Ricebridge CSV\\n        Manager\", February 2005,\\n        <http://www.ricebridge.com/products/csvman/reference.htm>.\\n\\n   [7]  Raymond, E., \"The Art of Unix Programming, Chapter 5\", September\\n        2003,\\n        <http://www.catb.org/~esr/writings/taoup/html/ch05s02.html>.\\n\\n   [8]  Postel, J., \"Transmission Control Protocol\", STD 7, RFC 793,\\n        September 1981.\\n\\n\\n\\n\\nShafranovich                 Informational                      [Page 6]\\n\\x0c\\nRFC 4180       Common Format and MIME Type for CSV Files    October 2005\\n\\n\\nAuthor\\'s Address\\n\\n   Yakov Shafranovich\\n   SolidMatrix Technologies, Inc.\\n\\n   EMail: ietf@shaftek.org\\n   URI:   http://www.shaftek.org\\n\\n\\n\\n\\n\\n\\n\\n\\n\\n\\n\\n\\n\\n\\n\\n\\n\\n\\n\\n\\n\\n\\n\\n\\n\\n\\n\\n\\n\\n\\n\\n\\n\\n\\n\\n\\n\\n\\n\\n\\n\\n\\n\\n\\nShafranovich                 Informational                      [Page 7]\\n\\x0c\\nRFC 4180       Common Format and MIME Type for CSV Files    October 2005\\n\\n\\nFull Copyright Statement\\n\\n   Copyright (C) The Internet Society (2005).\\n\\n   This document is subject to the rights, licenses and restrictions\\n   contained in BCP 78, and except as set forth therein, the authors\\n   retain all their rights.\\n\\n   This document and the information contained herein are provided on an\\n   \"AS IS\" basis and THE CONTRIBUTOR, THE ORGANIZATION HE/SHE REPRESENTS\\n   OR IS SPONSORED BY (IF ANY), THE INTERNET SOCIETY AND THE INTERNET\\n   ENGINEERING TASK FORCE DISCLAIM ALL WARRANTIES, EXPRESS OR IMPLIED,\\n   INCLUDING BUT NOT LIMITED TO ANY WARRANTY THAT THE USE OF THE\\n   INFORMATION HEREIN WILL NOT INFRINGE ANY RIGHTS OR ANY IMPLIED\\n   WARRANTIES OF MERCHANTABILITY OR FITNESS FOR A PARTICULAR PURPOSE.\\n\\nIntellectual Property\\n\\n   The IETF takes no position regarding the validity or scope of any\\n   Intellectual Property Rights or other rights that might be claimed to\\n   pertain to the implementation or use of the technology described in\\n   this document or the extent to which any license under such rights\\n   might or might not be available; nor does it represent that it has\\n   made any independent effort to identify any such rights.  Information\\n   on the procedures with respect to rights in RFC documents can be\\n   found in BCP 78 and BCP 79.\\n\\n   Copies of IPR disclosures made to the IETF Secretariat and any\\n   assurances of licenses to be made available, or the result of an\\n   attempt made to obtain a general license or permission for the use of\\n   such proprietary rights by implementers or users of this\\n   specification can be obtained from the IETF on-line IPR repository at\\n   http://www.ietf.org/ipr.\\n\\n   The IETF invites any interested party to bring to its attention any\\n   copyrights, patents or patent applications, or other proprietary\\n   rights that may cover technology that may be required to implement\\n   this standard.  Please address the information to the IETF at ietf-\\n   ipr@ietf.org.\\n\\nAcknowledgement\\n\\n   Funding for the RFC Editor function is currently provided by the\\n   Internet Society.\\n\\n\\n\\n\\n\\n\\n\\nShafranovich                 Informational                      [Page 8]\\n\\x0c\\n'"
      ]
     },
     "execution_count": 32,
     "metadata": {},
     "output_type": "execute_result"
    }
   ],
   "source": [
    "with requests.Session() as s:\n",
    "    res = s.get(TXT_SAMPLE)\n",
    "    \n",
    "res.text"
   ]
  },
  {
   "cell_type": "code",
   "execution_count": 38,
   "metadata": {
    "ExecuteTime": {
     "end_time": "2021-01-22T09:26:17.232751Z",
     "start_time": "2021-01-22T09:26:16.442275Z"
    },
    "scrolled": true
   },
   "outputs": [
    {
     "name": "stdout",
     "output_type": "stream",
     "text": [
      "27 b'\\n\\n\\n\\n\\n\\nNetwork Working Group'\n",
      "211 b'                                    Y. Shafranovich\\nRequest for Comments: 4180                SolidMatrix Technologies, Inc.\\nCategory: Informational                                     October 2005\\n\\n\\n   Common F'\n",
      "163 b'ormat and MIME Type for Comma-Separated Values (CSV) Files\\n\\nStatus of This Memo\\n\\n   This memo provides information for the Internet community.  It does\\n   not spec'\n",
      "193 b'ify an Internet standard of any kind.  Distribution of this\\n   memo is unlimited.\\n\\nCopyright Notice\\n\\n   Copyright (C) The Internet Society (2005).\\n\\nAbstract\\n\\n   This RFC documents the format us'\n",
      "339 b'ed for Comma-Separated Values (CSV)\\n   files and registers the associated MIME type \"text/csv\".\\n\\nTable of Contents\\n\\n   1. Introduction ....................................................2\\n   2. Definition of the CSV Format ....................................2\\n   3. MIME Type Registration of text/csv ..............................4\\n   4'\n",
      "525 b'. IANA Considerations .............................................5\\n   5. Security Considerations .........................................5\\n   6. Acknowledgments .................................................6\\n   7. References ......................................................6\\n      7.1. Normative References .......................................6\\n      7.2. Informative References .....................................6\\n\\n\\n\\n\\n\\n\\n\\n\\n\\n\\n\\n\\n\\n\\n\\n\\n\\n\\nShafranovich                 Informational                      [Page 1]\\n'\n",
      "242 b'\\x0c\\nRFC 4180       Common Format and MIME Type for CSV Files    October 2005\\n\\n\\n1.  Introduction\\n\\n   The comma separated values format (CSV) has been used for exchanging\\n   and converting data between various spreadsheet programs for quite\\n   so'\n",
      "223 b'me time.  Surprisingly, while this format is very common, it has\\n   never been formally documented.  Additionally, while the IANA MIME\\n   registration tree includes a registration for\\n   \"text/tab-separated-values\" type, no'\n",
      "318 b' MIME types have ever been\\n   registered with IANA for CSV.  At the same time, various programs and\\n   operating systems have begun to use different MIME types for this\\n   format.  This RFC documents the format of comma separated values\\n   (CSV) files and formally registers the \"text/csv\" MIME type for CSV\\n   in acco'\n",
      "231 b'rdance with RFC 2048 [1].\\n\\n2.  Definition of the CSV Format\\n\\n   While there are various specifications and implementations for the\\n   CSV format (for ex. [4], [5], [6] and [7]), there is no formal\\n   specification in existence, whi'\n"
     ]
    }
   ],
   "source": [
    "with requests.Session() as s:\n",
    "    res = s.get(TXT_SAMPLE, stream=True)\n",
    "    \n",
    "    # By bytes but not guarantee\n",
    "    gen = res.iter_content(100)\n",
    "    \n",
    "    for _ in range(10):\n",
    "        b = next(gen)\n",
    "        print(len(b), b)\n"
   ]
  },
  {
   "cell_type": "code",
   "execution_count": 40,
   "metadata": {
    "ExecuteTime": {
     "end_time": "2021-01-22T09:27:16.346687Z",
     "start_time": "2021-01-22T09:27:15.580846Z"
    }
   },
   "outputs": [
    {
     "name": "stdout",
     "output_type": "stream",
     "text": [
      "\n",
      "\n",
      "\n",
      "\n",
      "\n",
      "\n",
      "Network Working Group                                    Y. Shafranovich\n",
      "Request for Comments: 4180                SolidMatrix Technologies, Inc.\n",
      "Category: Informational                                     October 2005\n",
      "\n",
      "\n",
      "   Common Format and MIME Type for Comma-Separated Values (CSV) Files\n",
      "\n",
      "Status of This Memo\n",
      "\n",
      "   This memo provides information for the Internet community.  It does\n",
      "   not specify an Internet standard of any kind.  Distribution of this\n",
      "   memo is unlimited.\n",
      "\n",
      "Copyright Notice\n",
      "\n",
      "   Copyright (C) The Internet Society (2005).\n",
      "\n",
      "Abstract\n",
      "\n",
      "   This RFC documents the format used for Comma-Separated Values (CSV)\n",
      "   files and registers the associated MIME type \"text/csv\".\n",
      "\n",
      "Table of Contents\n",
      "\n",
      "   1. Introduction ....................................................2\n",
      "   2. Definition of the CSV Format ....................................2\n",
      "   3. MIME Type Registration of text/csv ..............................4\n",
      "   4. IANA Considerations .............................................5\n",
      "   5. Security Considerations .........................................5\n",
      "   6. Acknowledgments .................................................6\n",
      "   7. References ......................................................6\n",
      "      7.1. Normative References .......................................6\n",
      "      7.2. Informative References .....................................6\n",
      "\n",
      "\n",
      "\n",
      "\n",
      "\n",
      "\n",
      "\n",
      "\n",
      "\n",
      "\n",
      "\n",
      "\n",
      "\n",
      "\n",
      "\n",
      "\n",
      "\n",
      "\n",
      "Shafranovich                 Informational                      [Page 1]\n",
      "\f",
      "\n",
      "RFC 4180       Common Format and MIME Type for CSV Files    October 2005\n",
      "\n",
      "\n",
      "1.  Introduction\n",
      "\n",
      "   The comma separated values format (CSV) has been used for exchanging\n",
      "   and converting data between various spreadsheet programs for quite\n",
      "   some time.  Surprisingly, while this format is very common, it has\n",
      "   never been formally documented.  Additionally, while the IANA MIME\n",
      "   registration tree includes a registration for\n",
      "   \"text/tab-separated-values\" type, no MIME types have ever been\n",
      "   registered with IANA for CSV.  At the same time, various programs and\n",
      "   operating systems have begun to use different MIME types for this\n",
      "   format.  This RFC documents the format of comma separated values\n",
      "   (CSV) files and formally registers the \"text/csv\" MIME type for CSV\n",
      "   in accordance with RFC 2048 [1].\n",
      "\n",
      "2.  Definition of the CSV Format\n",
      "\n",
      "   While there are various specifications and implementations for the\n",
      "   CSV format (for ex. [4], [5], [6] and [7]), there is no formal\n",
      "   specification in existence, which allows for a wide variety of\n",
      "   interpretations of CSV files.  This section documents the format that\n",
      "   seems to be followed by most implementations:\n",
      "\n",
      "   1.  Each record is located on a separate line, delimited by a line\n",
      "       break (CRLF).  For example:\n",
      "\n",
      "       aaa,bbb,ccc CRLF\n",
      "       zzz,yyy,xxx CRLF\n",
      "\n",
      "   2.  The last record in the file may or may not have an ending line\n",
      "       break.  For example:\n",
      "\n",
      "       aaa,bbb,ccc CRLF\n",
      "       zzz,yyy,xxx\n",
      "\n",
      "   3.  There maybe an optional header line appearing as the first line\n",
      "       of the file with the same format as normal record lines.  This\n",
      "       header will contain names corresponding to the fields in the file\n",
      "       and should contain the same number of fields as the records in\n",
      "       the rest of the file (the presence or absence of the header line\n",
      "       should be indicated via the optional \"header\" parameter of this\n",
      "       MIME type).  For example:\n",
      "\n",
      "       field_name,field_name,field_name CRLF\n",
      "       aaa,bbb,ccc CRLF\n",
      "       zzz,yyy,xxx CRLF\n",
      "\n",
      "\n",
      "\n",
      "\n",
      "\n",
      "\n",
      "Shafranovich                 Informational                      [Page 2]\n",
      "\f",
      "\n",
      "RFC 4180       Common Format and MIME Type for CSV Files    October 2005\n",
      "\n",
      "\n",
      "   4.  Within the header and each record, there may be one or more\n",
      "       fields, separated by commas.  Each line should contain the same\n",
      "       number of fields throughout the file.  Spaces are considered part\n",
      "       of a field and should not be ignored.  The last field in the\n",
      "       record must not be followed by a comma.  For example:\n",
      "\n",
      "       aaa,bbb,ccc\n",
      "\n",
      "   5.  Each field may or may not be enclosed in double quotes (however\n",
      "       some programs, such as Microsoft Excel, do not use double quotes\n",
      "       at all).  If fields are not enclosed with double quotes, then\n",
      "       double quotes may not appear inside the fields.  For example:\n",
      "\n",
      "       \"aaa\",\"bbb\",\"ccc\" CRLF\n",
      "       zzz,yyy,xxx\n",
      "\n",
      "   6.  Fields containing line breaks (CRLF), double quotes, and commas\n",
      "       should be enclosed in double-quotes.  For example:\n",
      "\n",
      "       \"aaa\",\"b CRLF\n",
      "       bb\",\"ccc\" CRLF\n",
      "       zzz,yyy,xxx\n",
      "\n",
      "   7.  If double-quotes are used to enclose fields, then a double-quote\n",
      "       appearing inside a field must be escaped by preceding it with\n",
      "       another double quote.  For example:\n",
      "\n",
      "       \"aaa\",\"b\"\"bb\",\"ccc\"\n",
      "\n",
      "   The ABNF grammar [2] appears as follows:\n",
      "\n",
      "   file = [header CRLF] record *(CRLF record) [CRLF]\n",
      "\n",
      "   header = name *(COMMA name)\n",
      "\n",
      "   record = field *(COMMA field)\n",
      "\n",
      "   name = field\n",
      "\n",
      "   field = (escaped / non-escaped)\n",
      "\n",
      "   escaped = DQUOTE *(TEXTDATA / COMMA / CR / LF / 2DQUOTE) DQUOTE\n",
      "\n",
      "   non-escaped = *TEXTDATA\n",
      "\n",
      "   COMMA = %x2C\n",
      "\n",
      "   CR = %x0D ;as per section 6.1 of RFC 2234 [2]\n",
      "\n",
      "\n",
      "\n",
      "Shafranovich                 Informational                      [Page 3]\n",
      "\f",
      "\n",
      "RFC 4180       Common Format and MIME Type for CSV Files    October 2005\n",
      "\n",
      "\n",
      "   DQUOTE =  %x22 ;as per section 6.1 of RFC 2234 [2]\n",
      "\n",
      "   LF = %x0A ;as per section 6.1 of RFC 2234 [2]\n",
      "\n",
      "   CRLF = CR LF ;as per section 6.1 of RFC 2234 [2]\n",
      "\n",
      "   TEXTDATA =  %x20-21 / %x23-2B / %x2D-7E\n",
      "\n",
      "3.  MIME Type Registration of text/csv\n",
      "\n",
      "   This section provides the media-type registration application (as per\n",
      "   RFC 2048 [1].\n",
      "\n",
      "   To: ietf-types@iana.org\n",
      "\n",
      "   Subject: Registration of MIME media type text/csv\n",
      "\n",
      "   MIME media type name: text\n",
      "\n",
      "   MIME subtype name: csv\n",
      "\n",
      "   Required parameters: none\n",
      "\n",
      "   Optional parameters: charset, header\n",
      "\n",
      "      Common usage of CSV is US-ASCII, but other character sets defined\n",
      "      by IANA for the \"text\" tree may be used in conjunction with the\n",
      "      \"charset\" parameter.\n",
      "\n",
      "      The \"header\" parameter indicates the presence or absence of the\n",
      "      header line.  Valid values are \"present\" or \"absent\".\n",
      "      Implementors choosing not to use this parameter must make their\n",
      "      own decisions as to whether the header line is present or absent.\n",
      "\n",
      "   Encoding considerations:\n",
      "\n",
      "      As per section 4.1.1. of RFC 2046 [3], this media type uses CRLF\n",
      "      to denote line breaks.  However, implementors should be aware that\n",
      "      some implementations may use other values.\n",
      "\n",
      "   Security considerations:\n",
      "\n",
      "      CSV files contain passive text data that should not pose any\n",
      "      risks.  However, it is possible in theory that malicious binary\n",
      "      data may be included in order to exploit potential buffer overruns\n",
      "      in the program processing CSV data.  Additionally, private data\n",
      "      may be shared via this format (which of course applies to any text\n",
      "      data).\n",
      "\n",
      "\n",
      "\n",
      "Shafranovich                 Informational                      [Page 4]\n",
      "\f",
      "\n",
      "RFC 4180       Common Format and MIME Type for CSV Files    October 2005\n",
      "\n",
      "\n",
      "   Interoperability considerations:\n",
      "\n",
      "      Due to lack of a single specification, there are considerable\n",
      "      differences among implementations.  Implementors should \"be\n",
      "      conservative in what you do, be liberal in what you accept from\n",
      "      others\" (RFC 793 [8]) when processing CSV files.  An attempt at a\n",
      "      common definition can be found in Section 2.\n",
      "\n",
      "      Implementations deciding not to use the optional \"header\"\n",
      "      parameter must make their own decision as to whether the header is\n",
      "      absent or present.\n",
      "\n",
      "   Published specification:\n",
      "\n",
      "      While numerous private specifications exist for various programs\n",
      "      and systems, there is no single \"master\" specification for this\n",
      "      format.  An attempt at a common definition can be found in Section\n",
      "      2.\n",
      "\n",
      "   Applications that use this media type:\n",
      "\n",
      "      Spreadsheet programs and various data conversion utilities\n",
      "\n",
      "   Additional information:\n",
      "\n",
      "      Magic number(s): none\n",
      "\n",
      "      File extension(s): CSV\n",
      "\n",
      "      Macintosh File Type Code(s): TEXT\n",
      "\n",
      "   Person & email address to contact for further information:\n",
      "\n",
      "      Yakov Shafranovich <ietf@shaftek.org>\n",
      "\n",
      "   Intended usage: COMMON\n",
      "\n",
      "   Author/Change controller: IESG\n",
      "\n",
      "4.  IANA Considerations\n",
      "\n",
      "   The IANA has registered the MIME type \"text/csv\" using the\n",
      "   application provided in Section 3 of this document.\n",
      "\n",
      "5.  Security Considerations\n",
      "\n",
      "   See discussion above in section 3.\n",
      "\n",
      "\n",
      "\n",
      "\n",
      "Shafranovich                 Informational                      [Page 5]\n",
      "\f",
      "\n",
      "RFC 4180       Common Format and MIME Type for CSV Files    October 2005\n",
      "\n",
      "\n",
      "6.  Acknowledgments\n",
      "\n",
      "   The author would like to thank Dave Crocker, Martin Duerst, Joel M.\n",
      "   Halpern, Clyde Ingram, Graham Klyne, Bruce Lilly, Chris Lilley, and\n",
      "   members of the IESG for their helpful suggestions.  A special word of\n",
      "   thanks goes to Dave for helping with the ABNF grammar.\n",
      "\n",
      "   The author would also like to thank Henrik Lefkowetz, Marshall Rose,\n",
      "   and the folks at xml.resource.org for providing many of the tools\n",
      "   used for preparing RFCs and Internet drafts.\n",
      "\n",
      "   A special thank you goes to L.T.S.\n",
      "\n",
      "7.  References\n",
      "\n",
      "7.1.  Normative References\n",
      "\n",
      "   [1]  Freed, N., Klensin, J., and J. Postel, \"Multipurpose Internet\n",
      "        Mail Extensions (MIME) Part Four: Registration Procedures\", BCP\n",
      "        13, RFC 2048, November 1996.\n",
      "\n",
      "   [2]  Crocker, D. and P. Overell, \"Augmented BNF for Syntax\n",
      "        Specifications: ABNF\", RFC 2234, November 1997.\n",
      "\n",
      "   [3]  Freed, N. and N. Borenstein, \"Multipurpose Internet Mail\n",
      "        Extensions (MIME) Part Two: Media Types\", RFC 2046, November\n",
      "        1996.\n",
      "\n",
      "7.2.  Informative References\n",
      "\n",
      "   [4]  Repici, J., \"HOW-TO: The Comma Separated Value (CSV) File\n",
      "        Format\", 2004,\n",
      "        <http://www.creativyst.com/Doc/Articles/CSV/CSV01.htm>.\n",
      "\n",
      "   [5]  Edoceo, Inc., \"CSV Standard File Format\", 2004,\n",
      "        <http://www.edoceo.com/utilis/csv-file-format.php>.\n",
      "\n",
      "   [6]  Rodger, R. and O. Shanaghy, \"Documentation for Ricebridge CSV\n",
      "        Manager\", February 2005,\n",
      "        <http://www.ricebridge.com/products/csvman/reference.htm>.\n",
      "\n",
      "   [7]  Raymond, E., \"The Art of Unix Programming, Chapter 5\", September\n",
      "        2003,\n",
      "        <http://www.catb.org/~esr/writings/taoup/html/ch05s02.html>.\n",
      "\n",
      "   [8]  Postel, J., \"Transmission Control Protocol\", STD 7, RFC 793,\n",
      "        September 1981.\n",
      "\n",
      "\n",
      "\n",
      "\n",
      "Shafranovich                 Informational                      [Page 6]\n",
      "\f",
      "\n",
      "RFC 4180       Common Format and MIME Type for CSV Files    October 2005\n",
      "\n",
      "\n",
      "Author's Address\n",
      "\n",
      "   Yakov Shafranovich\n",
      "   SolidMatrix Technologies, Inc.\n",
      "\n",
      "   EMail: ietf@shaftek.org\n",
      "   URI:   http://www.shaftek.org\n",
      "\n",
      "\n",
      "\n",
      "\n",
      "\n",
      "\n",
      "\n",
      "\n",
      "\n",
      "\n",
      "\n",
      "\n",
      "\n",
      "\n",
      "\n",
      "\n",
      "\n",
      "\n",
      "\n",
      "\n",
      "\n",
      "\n",
      "\n",
      "\n",
      "\n",
      "\n",
      "\n",
      "\n",
      "\n",
      "\n",
      "\n",
      "\n",
      "\n",
      "\n",
      "\n",
      "\n",
      "\n",
      "\n",
      "\n",
      "\n",
      "\n",
      "\n",
      "\n",
      "\n",
      "Shafranovich                 Informational                      [Page 7]\n",
      "\f",
      "\n",
      "RFC 4180       Common Format and MIME Type for CSV Files    October 2005\n",
      "\n",
      "\n",
      "Full Copyright Statement\n",
      "\n",
      "   Copyright (C) The Internet Society (2005).\n",
      "\n",
      "   This document is subject to the rights, licenses and restrictions\n",
      "   contained in BCP 78, and except as set forth therein, the authors\n",
      "   retain all their rights.\n",
      "\n",
      "   This document and the information contained herein are provided on an\n",
      "   \"AS IS\" basis and THE CONTRIBUTOR, THE ORGANIZATION HE/SHE REPRESENTS\n",
      "   OR IS SPONSORED BY (IF ANY), THE INTERNET SOCIETY AND THE INTERNET\n",
      "   ENGINEERING TASK FORCE DISCLAIM ALL WARRANTIES, EXPRESS OR IMPLIED,\n",
      "   INCLUDING BUT NOT LIMITED TO ANY WARRANTY THAT THE USE OF THE\n",
      "   INFORMATION HEREIN WILL NOT INFRINGE ANY RIGHTS OR ANY IMPLIED\n",
      "   WARRANTIES OF MERCHANTABILITY OR FITNESS FOR A PARTICULAR PURPOSE.\n",
      "\n",
      "Intellectual Property\n",
      "\n",
      "   The IETF takes no position regarding the validity or scope of any\n",
      "   Intellectual Property Rights or other rights that might be claimed to\n",
      "   pertain to the implementation or use of the technology described in\n",
      "   this document or the extent to which any license under such rights\n",
      "   might or might not be available; nor does it represent that it has\n",
      "   made any independent effort to identify any such rights.  Information\n",
      "   on the procedures with respect to rights in RFC documents can be\n",
      "   found in BCP 78 and BCP 79.\n",
      "\n",
      "   Copies of IPR disclosures made to the IETF Secretariat and any\n",
      "   assurances of licenses to be made available, or the result of an\n",
      "   attempt made to obtain a general license or permission for the use of\n",
      "   such proprietary rights by implementers or users of this\n",
      "   specification can be obtained from the IETF on-line IPR repository at\n",
      "   http://www.ietf.org/ipr.\n",
      "\n",
      "   The IETF invites any interested party to bring to its attention any\n",
      "   copyrights, patents or patent applications, or other proprietary\n",
      "   rights that may cover technology that may be required to implement\n",
      "   this standard.  Please address the information to the IETF at ietf-\n",
      "   ipr@ietf.org.\n",
      "\n",
      "Acknowledgement\n",
      "\n",
      "   Funding for the RFC Editor function is currently provided by the\n",
      "   Internet Society.\n",
      "\n",
      "\n",
      "\n",
      "\n",
      "\n",
      "\n",
      "\n",
      "Shafranovich                 Informational                      [Page 8]\n",
      "\f",
      "\n"
     ]
    }
   ],
   "source": [
    "with requests.Session() as s:\n",
    "    res = s.get(TXT_SAMPLE, stream=True)\n",
    "    \n",
    "    # By bytes but not guarantee\n",
    "    for line in res.iter_lines():\n",
    "        print(line.decode(\"utf-8\"))\n",
    "    "
   ]
  },
  {
   "cell_type": "code",
   "execution_count": 41,
   "metadata": {
    "ExecuteTime": {
     "end_time": "2021-01-22T09:28:32.339535Z",
     "start_time": "2021-01-22T09:28:31.606769Z"
    }
   },
   "outputs": [
    {
     "name": "stdout",
     "output_type": "stream",
     "text": [
      "\n",
      "\n",
      "\n",
      "\n",
      "\n",
      "\n",
      "Network Working Group                                    Y. Shafranovich\n",
      "Request for Comments: 4180                SolidMatrix Technologies, Inc.\n",
      "Category: Informational                                     October 2005\n",
      "\n",
      "\n",
      "   Common Format and MIME Type for Comma-Separated Values (CSV) Files\n",
      "\n",
      "Status of This Memo\n",
      "\n",
      "   This memo provides information for the Internet community.  It does\n",
      "   not specify an Internet standard of any kind.  Distribution of this\n",
      "   memo is unlimited.\n",
      "\n",
      "Copyright Notice\n",
      "\n",
      "   Copyright (C) The Internet Society (2005).\n",
      "\n",
      "Abstract\n",
      "\n",
      "   This RFC documents the format used for Comma-Separated Values (CSV)\n",
      "   files and registers the associated MIME type \"text/csv\".\n",
      "\n",
      "Table of Contents\n",
      "\n",
      "   1. Introduction ....................................................2\n",
      "   2. Definition of the CSV Format ....................................2\n",
      "   3. MIME Type Registration of text/csv ..............................4\n",
      "   4. IANA Considerations .............................................5\n",
      "   5. Security Considerations .........................................5\n",
      "   6. Acknowledgments .................................................6\n",
      "   7. References ......................................................6\n",
      "      7.1. Normative References .......................................6\n",
      "      7.2. Informative References .....................................6\n",
      "\n",
      "\n",
      "\n",
      "\n",
      "\n",
      "\n",
      "\n",
      "\n",
      "\n",
      "\n",
      "\n",
      "\n",
      "\n",
      "\n",
      "\n",
      "\n",
      "\n",
      "\n",
      "Shafranovich                 Informational                      [Page 1]\n",
      "\f",
      "\n",
      "RFC 4180       Common Format and MIME Type for CSV Files    October 2005\n",
      "\n",
      "\n",
      "1.  Introduction\n",
      "\n",
      "   The comma separated values format (CSV) has been used for exchanging\n",
      "   and converting data between various spreadsheet programs for quite\n",
      "   some time.  Surprisingly, while this format is very common, it has\n",
      "   never been formally documented.  Additionally, while the IANA MIME\n",
      "   registration tree includes a registration for\n",
      "   \"text/tab-separated-values\" type, no MIME types have ever been\n",
      "   registered with IANA for CSV.  At the same time, various programs and\n",
      "   operating systems have begun to use different MIME types for this\n",
      "   format.  This RFC documents the format of comma separated values\n",
      "   (CSV) files and formally registers the \"text/csv\" MIME type for CSV\n",
      "   in accordance with RFC 2048 [1].\n",
      "\n",
      "2.  Definition of the CSV Format\n",
      "\n",
      "   While there are various specifications and implementations for the\n",
      "   CSV format (for ex. [4], [5], [6] and [7]), there is no formal\n",
      "   specification in existence, which allows for a wide variety of\n",
      "   interpretations of CSV files.  This section documents the format that\n",
      "   seems to be followed by most implementations:\n",
      "\n",
      "   1.  Each record is located on a separate line, delimited by a line\n",
      "       break (CRLF).  For example:\n",
      "\n",
      "       aaa,bbb,ccc CRLF\n",
      "       zzz,yyy,xxx CRLF\n",
      "\n",
      "   2.  The last record in the file may or may not have an ending line\n",
      "       break.  For example:\n",
      "\n",
      "       aaa,bbb,ccc CRLF\n",
      "       zzz,yyy,xxx\n",
      "\n",
      "   3.  There maybe an optional header line appearing as the first line\n",
      "       of the file with the same format as normal record lines.  This\n",
      "       header will contain names corresponding to the fields in the file\n",
      "       and should contain the same number of fields as the records in\n",
      "       the rest of the file (the presence or absence of the header line\n",
      "       should be indicated via the optional \"header\" parameter of this\n",
      "       MIME type).  For example:\n",
      "\n",
      "       field_name,field_name,field_name CRLF\n",
      "       aaa,bbb,ccc CRLF\n",
      "       zzz,yyy,xxx CRLF\n",
      "\n",
      "\n",
      "\n",
      "\n",
      "\n",
      "\n",
      "Shafranovich                 Informational                      [Page 2]\n",
      "\f",
      "\n",
      "RFC 4180       Common Format and MIME Type for CSV Files    October 2005\n",
      "\n",
      "\n",
      "   4.  Within the header and each record, there may be one or more\n",
      "       fields, separated by commas.  Each line should contain the same\n",
      "       number of fields throughout the file.  Spaces are considered part\n",
      "       of a field and should not be ignored.  The last field in the\n",
      "       record must not be followed by a comma.  For example:\n",
      "\n",
      "       aaa,bbb,ccc\n",
      "\n",
      "   5.  Each field may or may not be enclosed in double quotes (however\n",
      "       some programs, such as Microsoft Excel, do not use double quotes\n",
      "       at all).  If fields are not enclosed with double quotes, then\n",
      "       double quotes may not appear inside the fields.  For example:\n",
      "\n",
      "       \"aaa\",\"bbb\",\"ccc\" CRLF\n",
      "       zzz,yyy,xxx\n",
      "\n",
      "   6.  Fields containing line breaks (CRLF), double quotes, and commas\n",
      "       should be enclosed in double-quotes.  For example:\n",
      "\n",
      "       \"aaa\",\"b CRLF\n",
      "       bb\",\"ccc\" CRLF\n",
      "       zzz,yyy,xxx\n",
      "\n",
      "   7.  If double-quotes are used to enclose fields, then a double-quote\n",
      "       appearing inside a field must be escaped by preceding it with\n",
      "       another double quote.  For example:\n",
      "\n",
      "       \"aaa\",\"b\"\"bb\",\"ccc\"\n",
      "\n",
      "   The ABNF grammar [2] appears as follows:\n",
      "\n",
      "   file = [header CRLF] record *(CRLF record) [CRLF]\n",
      "\n",
      "   header = name *(COMMA name)\n",
      "\n",
      "   record = field *(COMMA field)\n",
      "\n",
      "   name = field\n",
      "\n",
      "   field = (escaped / non-escaped)\n",
      "\n",
      "   escaped = DQUOTE *(TEXTDATA / COMMA / CR / LF / 2DQUOTE) DQUOTE\n",
      "\n",
      "   non-escaped = *TEXTDATA\n",
      "\n",
      "   COMMA = %x2C\n",
      "\n",
      "   CR = %x0D ;as per section 6.1 of RFC 2234 [2]\n",
      "\n",
      "\n",
      "\n",
      "Shafranovich                 Informational                      [Page 3]\n",
      "\f",
      "\n",
      "RFC 4180       Common Format and MIME Type for CSV Files    October 2005\n",
      "\n",
      "\n",
      "   DQUOTE =  %x22 ;as per section 6.1 of RFC 2234 [2]\n",
      "\n",
      "   LF = %x0A ;as per section 6.1 of RFC 2234 [2]\n",
      "\n",
      "   CRLF = CR LF ;as per section 6.1 of RFC 2234 [2]\n",
      "\n",
      "   TEXTDATA =  %x20-21 / %x23-2B / %x2D-7E\n",
      "\n",
      "3.  MIME Type Registration of text/csv\n",
      "\n",
      "   This section provides the media-type registration application (as per\n",
      "   RFC 2048 [1].\n",
      "\n",
      "   To: ietf-types@iana.org\n",
      "\n",
      "   Subject: Registration of MIME media type text/csv\n",
      "\n",
      "   MIME media type name: text\n",
      "\n",
      "   MIME subtype name: csv\n",
      "\n",
      "   Required parameters: none\n",
      "\n",
      "   Optional parameters: charset, header\n",
      "\n",
      "      Common usage of CSV is US-ASCII, but other character sets defined\n",
      "      by IANA for the \"text\" tree may be used in conjunction with the\n",
      "      \"charset\" parameter.\n",
      "\n",
      "      The \"header\" parameter indicates the presence or absence of the\n",
      "      header line.  Valid values are \"present\" or \"absent\".\n",
      "      Implementors choosing not to use this parameter must make their\n",
      "      own decisions as to whether the header line is present or absent.\n",
      "\n",
      "   Encoding considerations:\n",
      "\n",
      "      As per section 4.1.1. of RFC 2046 [3], this media type uses CRLF\n",
      "      to denote line breaks.  However, implementors should be aware that\n",
      "      some implementations may use other values.\n",
      "\n",
      "   Security considerations:\n",
      "\n",
      "      CSV files contain passive text data that should not pose any\n",
      "      risks.  However, it is possible in theory that malicious binary\n",
      "      data may be included in order to exploit potential buffer overruns\n",
      "      in the program processing CSV data.  Additionally, private data\n",
      "      may be shared via this format (which of course applies to any text\n",
      "      data).\n",
      "\n",
      "\n",
      "\n",
      "Shafranovich                 Informational                      [Page 4]\n",
      "\f",
      "\n",
      "RFC 4180       Common Format and MIME Type for CSV Files    October 2005\n",
      "\n",
      "\n",
      "   Interoperability considerations:\n",
      "\n",
      "      Due to lack of a single specification, there are considerable\n",
      "      differences among implementations.  Implementors should \"be\n",
      "      conservative in what you do, be liberal in what you accept from\n",
      "      others\" (RFC 793 [8]) when processing CSV files.  An attempt at a\n",
      "      common definition can be found in Section 2.\n",
      "\n",
      "      Implementations deciding not to use the optional \"header\"\n",
      "      parameter must make their own decision as to whether the header is\n",
      "      absent or present.\n",
      "\n",
      "   Published specification:\n",
      "\n",
      "      While numerous private specifications exist for various programs\n",
      "      and systems, there is no single \"master\" specification for this\n",
      "      format.  An attempt at a common definition can be found in Section\n",
      "      2.\n",
      "\n",
      "   Applications that use this media type:\n",
      "\n",
      "      Spreadsheet programs and various data conversion utilities\n",
      "\n",
      "   Additional information:\n",
      "\n",
      "      Magic number(s): none\n",
      "\n",
      "      File extension(s): CSV\n",
      "\n",
      "      Macintosh File Type Code(s): TEXT\n",
      "\n",
      "   Person & email address to contact for further information:\n",
      "\n",
      "      Yakov Shafranovich <ietf@shaftek.org>\n",
      "\n",
      "   Intended usage: COMMON\n",
      "\n",
      "   Author/Change controller: IESG\n",
      "\n",
      "4.  IANA Considerations\n",
      "\n",
      "   The IANA has registered the MIME type \"text/csv\" using the\n",
      "   application provided in Section 3 of this document.\n",
      "\n",
      "5.  Security Considerations\n",
      "\n",
      "   See discussion above in section 3.\n",
      "\n",
      "\n",
      "\n",
      "\n",
      "Shafranovich                 Informational                      [Page 5]\n",
      "\f",
      "\n",
      "RFC 4180       Common Format and MIME Type for CSV Files    October 2005\n",
      "\n",
      "\n",
      "6.  Acknowledgments\n",
      "\n",
      "   The author would like to thank Dave Crocker, Martin Duerst, Joel M.\n",
      "   Halpern, Clyde Ingram, Graham Klyne, Bruce Lilly, Chris Lilley, and\n",
      "   members of the IESG for their helpful suggestions.  A special word of\n",
      "   thanks goes to Dave for helping with the ABNF grammar.\n",
      "\n",
      "   The author would also like to thank Henrik Lefkowetz, Marshall Rose,\n",
      "   and the folks at xml.resource.org for providing many of the tools\n",
      "   used for preparing RFCs and Internet drafts.\n",
      "\n",
      "   A special thank you goes to L.T.S.\n",
      "\n",
      "7.  References\n",
      "\n",
      "7.1.  Normative References\n",
      "\n",
      "   [1]  Freed, N., Klensin, J., and J. Postel, \"Multipurpose Internet\n",
      "        Mail Extensions (MIME) Part Four: Registration Procedures\", BCP\n",
      "        13, RFC 2048, November 1996.\n",
      "\n",
      "   [2]  Crocker, D. and P. Overell, \"Augmented BNF for Syntax\n",
      "        Specifications: ABNF\", RFC 2234, November 1997.\n",
      "\n",
      "   [3]  Freed, N. and N. Borenstein, \"Multipurpose Internet Mail\n",
      "        Extensions (MIME) Part Two: Media Types\", RFC 2046, November\n",
      "        1996.\n",
      "\n",
      "7.2.  Informative References\n",
      "\n",
      "   [4]  Repici, J., \"HOW-TO: The Comma Separated Value (CSV) File\n",
      "        Format\", 2004,\n",
      "        <http://www.creativyst.com/Doc/Articles/CSV/CSV01.htm>.\n",
      "\n",
      "   [5]  Edoceo, Inc., \"CSV Standard File Format\", 2004,\n",
      "        <http://www.edoceo.com/utilis/csv-file-format.php>.\n",
      "\n",
      "   [6]  Rodger, R. and O. Shanaghy, \"Documentation for Ricebridge CSV\n",
      "        Manager\", February 2005,\n",
      "        <http://www.ricebridge.com/products/csvman/reference.htm>.\n",
      "\n",
      "   [7]  Raymond, E., \"The Art of Unix Programming, Chapter 5\", September\n",
      "        2003,\n",
      "        <http://www.catb.org/~esr/writings/taoup/html/ch05s02.html>.\n",
      "\n",
      "   [8]  Postel, J., \"Transmission Control Protocol\", STD 7, RFC 793,\n",
      "        September 1981.\n",
      "\n",
      "\n",
      "\n",
      "\n",
      "Shafranovich                 Informational                      [Page 6]\n",
      "\f",
      "\n",
      "RFC 4180       Common Format and MIME Type for CSV Files    October 2005\n",
      "\n",
      "\n",
      "Author's Address\n",
      "\n",
      "   Yakov Shafranovich\n",
      "   SolidMatrix Technologies, Inc.\n",
      "\n",
      "   EMail: ietf@shaftek.org\n",
      "   URI:   http://www.shaftek.org\n",
      "\n",
      "\n",
      "\n",
      "\n",
      "\n",
      "\n",
      "\n",
      "\n",
      "\n",
      "\n",
      "\n",
      "\n",
      "\n",
      "\n",
      "\n",
      "\n",
      "\n",
      "\n",
      "\n",
      "\n",
      "\n",
      "\n",
      "\n",
      "\n",
      "\n",
      "\n",
      "\n",
      "\n",
      "\n",
      "\n",
      "\n",
      "\n",
      "\n",
      "\n",
      "\n",
      "\n",
      "\n",
      "\n",
      "\n",
      "\n",
      "\n",
      "\n",
      "\n",
      "\n",
      "Shafranovich                 Informational                      [Page 7]\n",
      "\f",
      "\n",
      "RFC 4180       Common Format and MIME Type for CSV Files    October 2005\n",
      "\n",
      "\n",
      "Full Copyright Statement\n",
      "\n",
      "   Copyright (C) The Internet Society (2005).\n",
      "\n",
      "   This document is subject to the rights, licenses and restrictions\n",
      "   contained in BCP 78, and except as set forth therein, the authors\n",
      "   retain all their rights.\n",
      "\n",
      "   This document and the information contained herein are provided on an\n",
      "   \"AS IS\" basis and THE CONTRIBUTOR, THE ORGANIZATION HE/SHE REPRESENTS\n",
      "   OR IS SPONSORED BY (IF ANY), THE INTERNET SOCIETY AND THE INTERNET\n",
      "   ENGINEERING TASK FORCE DISCLAIM ALL WARRANTIES, EXPRESS OR IMPLIED,\n",
      "   INCLUDING BUT NOT LIMITED TO ANY WARRANTY THAT THE USE OF THE\n",
      "   INFORMATION HEREIN WILL NOT INFRINGE ANY RIGHTS OR ANY IMPLIED\n",
      "   WARRANTIES OF MERCHANTABILITY OR FITNESS FOR A PARTICULAR PURPOSE.\n",
      "\n",
      "Intellectual Property\n",
      "\n",
      "   The IETF takes no position regarding the validity or scope of any\n",
      "   Intellectual Property Rights or other rights that might be claimed to\n",
      "   pertain to the implementation or use of the technology described in\n",
      "   this document or the extent to which any license under such rights\n",
      "   might or might not be available; nor does it represent that it has\n",
      "   made any independent effort to identify any such rights.  Information\n",
      "   on the procedures with respect to rights in RFC documents can be\n",
      "   found in BCP 78 and BCP 79.\n",
      "\n",
      "   Copies of IPR disclosures made to the IETF Secretariat and any\n",
      "   assurances of licenses to be made available, or the result of an\n",
      "   attempt made to obtain a general license or permission for the use of\n",
      "   such proprietary rights by implementers or users of this\n",
      "   specification can be obtained from the IETF on-line IPR repository at\n",
      "   http://www.ietf.org/ipr.\n",
      "\n",
      "   The IETF invites any interested party to bring to its attention any\n",
      "   copyrights, patents or patent applications, or other proprietary\n",
      "   rights that may cover technology that may be required to implement\n",
      "   this standard.  Please address the information to the IETF at ietf-\n",
      "   ipr@ietf.org.\n",
      "\n",
      "Acknowledgement\n",
      "\n",
      "   Funding for the RFC Editor function is currently provided by the\n",
      "   Internet Society.\n",
      "\n",
      "\n",
      "\n",
      "\n",
      "\n",
      "\n",
      "\n",
      "Shafranovich                 Informational                      [Page 8]\n",
      "\f",
      "\n"
     ]
    }
   ],
   "source": [
    "# Work even without stream=True\n",
    "\n",
    "with requests.Session() as s:\n",
    "    res = s.get(TXT_SAMPLE)\n",
    "    \n",
    "    # By bytes but not guarantee\n",
    "    for line in res.iter_lines():\n",
    "        print(line.decode(\"utf-8\"))\n",
    "    "
   ]
  }
 ],
 "metadata": {
  "kernelspec": {
   "display_name": "Python 3",
   "language": "python",
   "name": "python3"
  },
  "language_info": {
   "codemirror_mode": {
    "name": "ipython",
    "version": 3
   },
   "file_extension": ".py",
   "mimetype": "text/x-python",
   "name": "python",
   "nbconvert_exporter": "python",
   "pygments_lexer": "ipython3",
   "version": "3.8.5"
  }
 },
 "nbformat": 4,
 "nbformat_minor": 4
}

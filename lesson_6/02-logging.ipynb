{
 "cells": [
  {
   "cell_type": "markdown",
   "metadata": {},
   "source": [
    "# logging — Logging facility for Python\n",
    "\n",
    "https://docs.python.org/3/library/logging.html"
   ]
  },
  {
   "cell_type": "code",
   "execution_count": 1,
   "metadata": {
    "ExecuteTime": {
     "end_time": "2021-01-25T08:30:26.111700Z",
     "start_time": "2021-01-25T08:30:26.109053Z"
    }
   },
   "outputs": [],
   "source": [
    "import logging"
   ]
  },
  {
   "cell_type": "code",
   "execution_count": null,
   "metadata": {},
   "outputs": [],
   "source": []
  },
  {
   "cell_type": "code",
   "execution_count": 2,
   "metadata": {
    "ExecuteTime": {
     "end_time": "2021-01-25T08:32:07.841906Z",
     "start_time": "2021-01-25T08:32:07.837230Z"
    }
   },
   "outputs": [
    {
     "name": "stderr",
     "output_type": "stream",
     "text": [
      "WARNING:root:This is a warning message\n",
      "ERROR:root:This is an error message\n",
      "CRITICAL:root:This is a critical message\n"
     ]
    }
   ],
   "source": [
    "logging.debug('This is a debug message')\n",
    "logging.info('This is an info message')\n",
    "logging.warning('This is a warning message')\n",
    "# logger.warn(This is a warning message)  # Depricated - use .warning()\n",
    "logging.error('This is an error message')\n",
    "logging.critical('This is a critical message')\n",
    "# logger.fatal('This is a fatal message')  # Same as critical"
   ]
  },
  {
   "cell_type": "code",
   "execution_count": null,
   "metadata": {},
   "outputs": [],
   "source": []
  },
  {
   "cell_type": "code",
   "execution_count": null,
   "metadata": {},
   "outputs": [],
   "source": [
    "## Show pass arguments"
   ]
  },
  {
   "cell_type": "code",
   "execution_count": 3,
   "metadata": {
    "ExecuteTime": {
     "end_time": "2021-01-25T08:33:03.247765Z",
     "start_time": "2021-01-25T08:33:03.244932Z"
    }
   },
   "outputs": [
    {
     "name": "stderr",
     "output_type": "stream",
     "text": [
      "WARNING:root:This is a warning message: Some Text 42\n"
     ]
    }
   ],
   "source": [
    "logging.warning('This is a warning message: %s %s', \"Some Text\", 42)"
   ]
  },
  {
   "cell_type": "code",
   "execution_count": null,
   "metadata": {},
   "outputs": [],
   "source": []
  },
  {
   "cell_type": "markdown",
   "metadata": {
    "ExecuteTime": {
     "end_time": "2021-01-24T17:58:10.211693Z",
     "start_time": "2021-01-24T17:58:10.209093Z"
    }
   },
   "source": [
    "## Logging Severity Levels\n",
    "\n",
    "\n",
    "```python\n",
    "CRITICAL = 50\n",
    "FATAL = CRITICAL\n",
    "ERROR = 40\n",
    "WARNING = 30\n",
    "WARN = WARNING\n",
    "INFO = 20\n",
    "DEBUG = 10\n",
    "NOTSET = 0\n",
    "```"
   ]
  },
  {
   "cell_type": "code",
   "execution_count": null,
   "metadata": {},
   "outputs": [],
   "source": []
  },
  {
   "cell_type": "code",
   "execution_count": null,
   "metadata": {},
   "outputs": [],
   "source": []
  },
  {
   "cell_type": "markdown",
   "metadata": {},
   "source": [
    "## logging.basicConfig\n",
    "\n",
    "https://docs.python.org/3/library/logging.html#logging.basicConfig"
   ]
  },
  {
   "cell_type": "markdown",
   "metadata": {
    "ExecuteTime": {
     "end_time": "2021-01-24T18:16:42.886498Z",
     "start_time": "2021-01-24T18:16:42.882471Z"
    }
   },
   "source": [
    "Does basic configuration for the logging system by creating a StreamHandler with a default Formatter and adding it to the root logger. The functions debug(), info(), warning(), error() and critical() will call basicConfig() automatically if no handlers are defined for the root logger.\n",
    "\n",
    "This function does nothing if the root logger already has handlers configured for it\n",
    "\n",
    "Jupyter Notebook already call .basicConfig or set handler) somewhere\n",
    "\n",
    "```python\n",
    "import logging\n",
    "\n",
    "logging.basicConfig(level=logging.DEBUG)\n",
    "\n",
    "\n",
    "logging.debug('This is a debug message')\n",
    "logging.info('This is an info message')\n",
    "logging.warning('This is a warning message')\n",
    "logging.error('This is an error message')\n",
    "logging.critical('This is a critical message')\n",
    "```\n",
    "\n",
    "\n",
    "__Output:__\n",
    "```log\n",
    "DEBUG:root:This is a debug message\n",
    "INFO:root:This is an info message\n",
    "WARNING:root:This is a warning message\n",
    "ERROR:root:This is an error message\n",
    "CRITICAL:root:This is a critical message\n",
    "```"
   ]
  },
  {
   "cell_type": "code",
   "execution_count": null,
   "metadata": {},
   "outputs": [],
   "source": []
  },
  {
   "cell_type": "code",
   "execution_count": 5,
   "metadata": {
    "ExecuteTime": {
     "end_time": "2021-01-25T08:37:36.362458Z",
     "start_time": "2021-01-25T08:37:36.335689Z"
    }
   },
   "outputs": [
    {
     "name": "stderr",
     "output_type": "stream",
     "text": [
      "ERROR:root:Exception occurred\n"
     ]
    },
    {
     "ename": "ZeroDivisionError",
     "evalue": "division by zero",
     "output_type": "error",
     "traceback": [
      "\u001b[0;31m---------------------------------------------------------------------------\u001b[0m",
      "\u001b[0;31mZeroDivisionError\u001b[0m                         Traceback (most recent call last)",
      "\u001b[0;32m<ipython-input-5-1a9b1f035e9d>\u001b[0m in \u001b[0;36m<module>\u001b[0;34m\u001b[0m\n\u001b[1;32m      2\u001b[0m \u001b[0;34m\u001b[0m\u001b[0m\n\u001b[1;32m      3\u001b[0m \u001b[0;32mtry\u001b[0m\u001b[0;34m:\u001b[0m\u001b[0;34m\u001b[0m\u001b[0;34m\u001b[0m\u001b[0m\n\u001b[0;32m----> 4\u001b[0;31m     \u001b[0;36m1\u001b[0m \u001b[0;34m/\u001b[0m \u001b[0;36m0\u001b[0m\u001b[0;34m\u001b[0m\u001b[0;34m\u001b[0m\u001b[0m\n\u001b[0m\u001b[1;32m      5\u001b[0m \u001b[0;32mexcept\u001b[0m \u001b[0mZeroDivisionError\u001b[0m\u001b[0;34m:\u001b[0m\u001b[0;34m\u001b[0m\u001b[0;34m\u001b[0m\u001b[0m\n\u001b[1;32m      6\u001b[0m     \u001b[0mlogging\u001b[0m\u001b[0;34m.\u001b[0m\u001b[0merror\u001b[0m\u001b[0;34m(\u001b[0m\u001b[0;34m\"Exception occurred\"\u001b[0m\u001b[0;34m)\u001b[0m\u001b[0;34m\u001b[0m\u001b[0;34m\u001b[0m\u001b[0m\n",
      "\u001b[0;31mZeroDivisionError\u001b[0m: division by zero"
     ]
    }
   ],
   "source": [
    "import logging\n",
    "\n",
    "try:\n",
    "    1 / 0\n",
    "except ZeroDivisionError:\n",
    "    logging.error(\"Exception occurred\")\n",
    "    raise "
   ]
  },
  {
   "cell_type": "code",
   "execution_count": 6,
   "metadata": {
    "ExecuteTime": {
     "end_time": "2021-01-25T08:38:03.075015Z",
     "start_time": "2021-01-25T08:38:03.068419Z"
    }
   },
   "outputs": [
    {
     "name": "stderr",
     "output_type": "stream",
     "text": [
      "ERROR:root:Exception occurred\n",
      "Traceback (most recent call last):\n",
      "  File \"<ipython-input-6-a6275a3b0428>\", line 4, in <module>\n",
      "    1 / 0\n",
      "ZeroDivisionError: division by zero\n"
     ]
    },
    {
     "ename": "ZeroDivisionError",
     "evalue": "division by zero",
     "output_type": "error",
     "traceback": [
      "\u001b[0;31m---------------------------------------------------------------------------\u001b[0m",
      "\u001b[0;31mZeroDivisionError\u001b[0m                         Traceback (most recent call last)",
      "\u001b[0;32m<ipython-input-6-a6275a3b0428>\u001b[0m in \u001b[0;36m<module>\u001b[0;34m\u001b[0m\n\u001b[1;32m      2\u001b[0m \u001b[0;34m\u001b[0m\u001b[0m\n\u001b[1;32m      3\u001b[0m \u001b[0;32mtry\u001b[0m\u001b[0;34m:\u001b[0m\u001b[0;34m\u001b[0m\u001b[0;34m\u001b[0m\u001b[0m\n\u001b[0;32m----> 4\u001b[0;31m     \u001b[0;36m1\u001b[0m \u001b[0;34m/\u001b[0m \u001b[0;36m0\u001b[0m\u001b[0;34m\u001b[0m\u001b[0;34m\u001b[0m\u001b[0m\n\u001b[0m\u001b[1;32m      5\u001b[0m \u001b[0;32mexcept\u001b[0m \u001b[0mZeroDivisionError\u001b[0m\u001b[0;34m:\u001b[0m\u001b[0;34m\u001b[0m\u001b[0;34m\u001b[0m\u001b[0m\n\u001b[1;32m      6\u001b[0m     \u001b[0mlogging\u001b[0m\u001b[0;34m.\u001b[0m\u001b[0merror\u001b[0m\u001b[0;34m(\u001b[0m\u001b[0;34m\"Exception occurred\"\u001b[0m\u001b[0;34m,\u001b[0m \u001b[0mexc_info\u001b[0m\u001b[0;34m=\u001b[0m\u001b[0;32mTrue\u001b[0m\u001b[0;34m)\u001b[0m\u001b[0;34m\u001b[0m\u001b[0;34m\u001b[0m\u001b[0m\n",
      "\u001b[0;31mZeroDivisionError\u001b[0m: division by zero"
     ]
    }
   ],
   "source": [
    "# exc_info=\n",
    "\n",
    "try:\n",
    "    1 / 0\n",
    "except ZeroDivisionError:\n",
    "    logging.error(\"Exception occurred\", exc_info=True)\n",
    "    raise "
   ]
  },
  {
   "cell_type": "code",
   "execution_count": null,
   "metadata": {},
   "outputs": [],
   "source": []
  },
  {
   "cell_type": "code",
   "execution_count": null,
   "metadata": {},
   "outputs": [],
   "source": [
    "# exception"
   ]
  },
  {
   "cell_type": "code",
   "execution_count": 7,
   "metadata": {
    "ExecuteTime": {
     "end_time": "2021-01-25T08:38:39.554052Z",
     "start_time": "2021-01-25T08:38:39.548562Z"
    }
   },
   "outputs": [
    {
     "name": "stderr",
     "output_type": "stream",
     "text": [
      "ERROR:root:Exception occurred\n",
      "Traceback (most recent call last):\n",
      "  File \"<ipython-input-7-c3d79bb05d9c>\", line 2, in <module>\n",
      "    1 / 0\n",
      "ZeroDivisionError: division by zero\n"
     ]
    },
    {
     "ename": "ZeroDivisionError",
     "evalue": "division by zero",
     "output_type": "error",
     "traceback": [
      "\u001b[0;31m---------------------------------------------------------------------------\u001b[0m",
      "\u001b[0;31mZeroDivisionError\u001b[0m                         Traceback (most recent call last)",
      "\u001b[0;32m<ipython-input-7-c3d79bb05d9c>\u001b[0m in \u001b[0;36m<module>\u001b[0;34m\u001b[0m\n\u001b[1;32m      1\u001b[0m \u001b[0;32mtry\u001b[0m\u001b[0;34m:\u001b[0m\u001b[0;34m\u001b[0m\u001b[0;34m\u001b[0m\u001b[0m\n\u001b[0;32m----> 2\u001b[0;31m     \u001b[0;36m1\u001b[0m \u001b[0;34m/\u001b[0m \u001b[0;36m0\u001b[0m\u001b[0;34m\u001b[0m\u001b[0;34m\u001b[0m\u001b[0m\n\u001b[0m\u001b[1;32m      3\u001b[0m \u001b[0;32mexcept\u001b[0m \u001b[0mZeroDivisionError\u001b[0m\u001b[0;34m:\u001b[0m\u001b[0;34m\u001b[0m\u001b[0;34m\u001b[0m\u001b[0m\n\u001b[1;32m      4\u001b[0m     \u001b[0mlogging\u001b[0m\u001b[0;34m.\u001b[0m\u001b[0mexception\u001b[0m\u001b[0;34m(\u001b[0m\u001b[0;34m\"Exception occurred\"\u001b[0m\u001b[0;34m)\u001b[0m\u001b[0;34m\u001b[0m\u001b[0;34m\u001b[0m\u001b[0m\n\u001b[1;32m      5\u001b[0m     \u001b[0;32mraise\u001b[0m\u001b[0;34m\u001b[0m\u001b[0;34m\u001b[0m\u001b[0m\n",
      "\u001b[0;31mZeroDivisionError\u001b[0m: division by zero"
     ]
    }
   ],
   "source": [
    "try:\n",
    "    1 / 0\n",
    "except ZeroDivisionError:\n",
    "    logging.exception(\"Exception occurred\")  # If level = ERROR we can use .exception()\n",
    "    raise "
   ]
  },
  {
   "cell_type": "code",
   "execution_count": 8,
   "metadata": {
    "ExecuteTime": {
     "end_time": "2021-01-25T08:39:39.523381Z",
     "start_time": "2021-01-25T08:39:39.517944Z"
    }
   },
   "outputs": [
    {
     "name": "stderr",
     "output_type": "stream",
     "text": [
      "CRITICAL:root:Exception occurred\n",
      "Traceback (most recent call last):\n",
      "  File \"<ipython-input-8-12fbe7b95e2d>\", line 4, in <module>\n",
      "    1 / 0\n",
      "ZeroDivisionError: division by zero\n"
     ]
    },
    {
     "ename": "ZeroDivisionError",
     "evalue": "division by zero",
     "output_type": "error",
     "traceback": [
      "\u001b[0;31m---------------------------------------------------------------------------\u001b[0m",
      "\u001b[0;31mZeroDivisionError\u001b[0m                         Traceback (most recent call last)",
      "\u001b[0;32m<ipython-input-8-12fbe7b95e2d>\u001b[0m in \u001b[0;36m<module>\u001b[0;34m\u001b[0m\n\u001b[1;32m      2\u001b[0m \u001b[0;34m\u001b[0m\u001b[0m\n\u001b[1;32m      3\u001b[0m \u001b[0;32mtry\u001b[0m\u001b[0;34m:\u001b[0m\u001b[0;34m\u001b[0m\u001b[0;34m\u001b[0m\u001b[0m\n\u001b[0;32m----> 4\u001b[0;31m     \u001b[0;36m1\u001b[0m \u001b[0;34m/\u001b[0m \u001b[0;36m0\u001b[0m\u001b[0;34m\u001b[0m\u001b[0;34m\u001b[0m\u001b[0m\n\u001b[0m\u001b[1;32m      5\u001b[0m \u001b[0;32mexcept\u001b[0m \u001b[0mZeroDivisionError\u001b[0m\u001b[0;34m:\u001b[0m\u001b[0;34m\u001b[0m\u001b[0;34m\u001b[0m\u001b[0m\n\u001b[1;32m      6\u001b[0m     \u001b[0mlogging\u001b[0m\u001b[0;34m.\u001b[0m\u001b[0mcritical\u001b[0m\u001b[0;34m(\u001b[0m\u001b[0;34m\"Exception occurred\"\u001b[0m\u001b[0;34m,\u001b[0m \u001b[0mexc_info\u001b[0m\u001b[0;34m=\u001b[0m\u001b[0;32mTrue\u001b[0m\u001b[0;34m)\u001b[0m\u001b[0;34m\u001b[0m\u001b[0;34m\u001b[0m\u001b[0m\n",
      "\u001b[0;31mZeroDivisionError\u001b[0m: division by zero"
     ]
    }
   ],
   "source": [
    "# exc_info=\n",
    "\n",
    "try:\n",
    "    1 / 0\n",
    "except ZeroDivisionError:\n",
    "    logging.critical(\"Exception occurred\", exc_info=True)\n",
    "    raise \n",
    "\n"
   ]
  },
  {
   "cell_type": "code",
   "execution_count": 9,
   "metadata": {
    "ExecuteTime": {
     "end_time": "2021-01-25T08:39:52.334819Z",
     "start_time": "2021-01-25T08:39:52.331998Z"
    }
   },
   "outputs": [
    {
     "name": "stderr",
     "output_type": "stream",
     "text": [
      "WARNING:root:Exception occurred\n",
      "Traceback (most recent call last):\n",
      "  File \"<ipython-input-9-0fec4ae89f0c>\", line 4, in <module>\n",
      "    1 / 0\n",
      "ZeroDivisionError: division by zero\n"
     ]
    }
   ],
   "source": [
    "# exc_info=\n",
    "\n",
    "try:\n",
    "    1 / 0\n",
    "except ZeroDivisionError:\n",
    "    logging.warning(\"Exception occurred\", exc_info=True)\n"
   ]
  },
  {
   "cell_type": "code",
   "execution_count": 10,
   "metadata": {
    "ExecuteTime": {
     "end_time": "2021-01-25T08:40:48.240231Z",
     "start_time": "2021-01-25T08:40:48.237425Z"
    }
   },
   "outputs": [
    {
     "name": "stdout",
     "output_type": "stream",
     "text": [
      "Help on function exception in module logging:\n",
      "\n",
      "exception(msg, *args, exc_info=True, **kwargs)\n",
      "    Log a message with severity 'ERROR' on the root logger, with exception\n",
      "    information. If the logger has no handlers, basicConfig() is called to add\n",
      "    a console handler with a pre-defined format.\n",
      "\n"
     ]
    }
   ],
   "source": [
    "help(logging.exception)"
   ]
  },
  {
   "cell_type": "code",
   "execution_count": null,
   "metadata": {},
   "outputs": [],
   "source": []
  },
  {
   "cell_type": "markdown",
   "metadata": {
    "ExecuteTime": {
     "end_time": "2021-01-24T18:10:09.348577Z",
     "start_time": "2021-01-24T18:10:09.345690Z"
    }
   },
   "source": [
    "## LogRecord Attributes\n",
    "\n",
    "https://docs.python.org/3/library/logging.html#logrecord-attributes"
   ]
  },
  {
   "cell_type": "markdown",
   "metadata": {
    "ExecuteTime": {
     "end_time": "2021-01-24T18:12:59.862183Z",
     "start_time": "2021-01-24T18:12:59.857828Z"
    }
   },
   "source": [
    "```python\n",
    "import logging\n",
    "\n",
    "logging.basicConfig(\n",
    "    level=logging.DEBUG,\n",
    "    format='%(asctime)s %(name)-12s: %(levelname)-8s %(message)s'\n",
    ")\n",
    "\n",
    "\n",
    "logging.debug('This is a debug message')\n",
    "logging.info('This is an info message')\n",
    "logging.warning('This is a warning message')\n",
    "logging.error('This is an error message')\n",
    "logging.critical('This is a critical message')\n",
    "```\n",
    "\n",
    "__Output__:\n",
    "```log\n",
    "2021-01-24 21:25:06,825 root        : DEBUG    This is a debug message\n",
    "2021-01-24 21:25:06,825 root        : INFO     This is an info message\n",
    "2021-01-24 21:25:06,825 root        : WARNING  This is a warning message\n",
    "2021-01-24 21:25:06,825 root        : ERROR    This is an error message\n",
    "2021-01-24 21:25:06,825 root        : CRITICAL This is a critical message\n",
    "```"
   ]
  },
  {
   "cell_type": "code",
   "execution_count": null,
   "metadata": {},
   "outputs": [],
   "source": []
  },
  {
   "cell_type": "markdown",
   "metadata": {},
   "source": [
    "```python\n",
    "import logging\n",
    "\n",
    "logging.basicConfig(\n",
    "    level=logging.WARNING,\n",
    "    filename='app.log', filemode='w',\n",
    "    format='%(asctime)s|%(levelname)s|%(pathname)s:%(funcName)s:%(lineno)-2s|%(message)s'\n",
    ")\n",
    "\n",
    "logging.debug('This is a debug message')\n",
    "logging.info('This is an info message')\n",
    "logging.warning('This is a warning message')\n",
    "logging.error('This is an error message')\n",
    "logging.critical('This is a critical message')\n",
    "```\n",
    "\n",
    "__Output__:"
   ]
  },
  {
   "cell_type": "code",
   "execution_count": null,
   "metadata": {},
   "outputs": [],
   "source": []
  },
  {
   "cell_type": "markdown",
   "metadata": {},
   "source": [
    "```Note: filemode='w' overwrite file everytime on start logger, filemode='a' - append to file```"
   ]
  },
  {
   "cell_type": "code",
   "execution_count": null,
   "metadata": {},
   "outputs": [],
   "source": []
  },
  {
   "cell_type": "code",
   "execution_count": null,
   "metadata": {},
   "outputs": [],
   "source": []
  },
  {
   "cell_type": "markdown",
   "metadata": {},
   "source": [
    "## logging most uses objects\n",
    "\n",
    "1. Logger: This is the class whose objects will be used in the application code directly to call the functions.\n",
    "2. LogRecord: Loggers automatically create LogRecord objects that have all the information related to the event being logged, like the name of the logger, the function, the line number, the message, and more.\n",
    "3. Handler: Handlers send the LogRecord to the required output destination, like the console or a file. Handler is a base for subclasses like StreamHandler, FileHandler, SMTPHandler, HTTPHandler, and more. These subclasses send the logging outputs to corresponding destinations, like sys.stdout or a disk file.\n",
    "4. Formatter: This is where you specify the format of the output by specifying a string format that lists out the attributes that the output should contain.\n",
    "5. Filter: Filter some LogRecord\n"
   ]
  },
  {
   "cell_type": "code",
   "execution_count": null,
   "metadata": {},
   "outputs": [],
   "source": []
  },
  {
   "cell_type": "markdown",
   "metadata": {},
   "source": [
    "### Logger"
   ]
  },
  {
   "cell_type": "code",
   "execution_count": 11,
   "metadata": {
    "ExecuteTime": {
     "end_time": "2021-01-25T08:59:34.052784Z",
     "start_time": "2021-01-25T08:59:34.046981Z"
    }
   },
   "outputs": [
    {
     "name": "stderr",
     "output_type": "stream",
     "text": [
      "DEBUG:__main__:This is a debug message\n",
      "INFO:__main__:This is an info message\n",
      "WARNING:__main__:This is a warning message\n",
      "ERROR:__main__:This is an error message\n",
      "CRITICAL:__main__:This is a critical message\n"
     ]
    }
   ],
   "source": [
    "logger = logging.getLogger(__name__)  # __name__ - is common practice to define logger name\n",
    "\n",
    "logger.setLevel(logging.DEBUG)\n",
    "\n",
    "logger.debug('This is a debug message')\n",
    "logger.info('This is an info message')\n",
    "logger.warning('This is a warning message')\n",
    "logger.error('This is an error message')\n",
    "logger.critical('This is a critical message')"
   ]
  },
  {
   "cell_type": "code",
   "execution_count": null,
   "metadata": {},
   "outputs": [],
   "source": []
  },
  {
   "cell_type": "code",
   "execution_count": null,
   "metadata": {},
   "outputs": [],
   "source": []
  },
  {
   "cell_type": "markdown",
   "metadata": {},
   "source": [
    "## Handler"
   ]
  },
  {
   "cell_type": "code",
   "execution_count": 12,
   "metadata": {
    "ExecuteTime": {
     "end_time": "2021-01-25T09:03:33.312364Z",
     "start_time": "2021-01-25T09:03:33.310220Z"
    }
   },
   "outputs": [],
   "source": [
    "# Delete Jupyter notebook root logger handler\n",
    "\n",
    "root_logger = logging.getLogger()\n",
    "root_logger.handlers = []"
   ]
  },
  {
   "cell_type": "code",
   "execution_count": 13,
   "metadata": {
    "ExecuteTime": {
     "end_time": "2021-01-25T09:04:19.056517Z",
     "start_time": "2021-01-25T09:04:19.052964Z"
    }
   },
   "outputs": [],
   "source": [
    "def logger_info(log):\n",
    "    print(log.name, log.level, log.handlers, log.hasHandlers())\n",
    "\n",
    "def cleanup_handlers(log):\n",
    "    # For next samples we should remove all handlers\n",
    "    handlers = [x for x in logger.handlers]\n",
    "    for handler in handlers:\n",
    "        logger.removeHandler(handler)"
   ]
  },
  {
   "cell_type": "code",
   "execution_count": 19,
   "metadata": {
    "ExecuteTime": {
     "end_time": "2021-01-25T09:05:27.456086Z",
     "start_time": "2021-01-25T09:05:27.452617Z"
    }
   },
   "outputs": [
    {
     "name": "stdout",
     "output_type": "stream",
     "text": [
      "__main__ 10 [<NullHandler (NOTSET)>, <NullHandler (NOTSET)>] True\n",
      "__main__ 10 [] False\n"
     ]
    }
   ],
   "source": [
    "logger_info(logger)\n",
    "cleanup_handlers(logger)\n",
    "logger_info(logger)"
   ]
  },
  {
   "cell_type": "code",
   "execution_count": 20,
   "metadata": {
    "ExecuteTime": {
     "end_time": "2021-01-25T09:05:38.975050Z",
     "start_time": "2021-01-25T09:05:38.972276Z"
    }
   },
   "outputs": [
    {
     "name": "stdout",
     "output_type": "stream",
     "text": [
      "__main__ 10 [<NullHandler (DEBUG)>] True\n"
     ]
    }
   ],
   "source": [
    "null_handler = logging.NullHandler() # No output\n",
    "null_handler.setLevel(logging.DEBUG)\n",
    "\n",
    "logger.addHandler(null_handler)\n",
    "\n",
    "logger_info(logger)"
   ]
  },
  {
   "cell_type": "code",
   "execution_count": 21,
   "metadata": {
    "ExecuteTime": {
     "end_time": "2021-01-25T09:05:45.200544Z",
     "start_time": "2021-01-25T09:05:45.196660Z"
    }
   },
   "outputs": [],
   "source": [
    "logger.debug('This is a debug message')\n",
    "logger.info('This is an info message')\n",
    "logger.warning('This is a warning message')\n",
    "logger.error('This is an error message')\n",
    "logger.critical('This is a critical message')"
   ]
  },
  {
   "cell_type": "code",
   "execution_count": null,
   "metadata": {},
   "outputs": [],
   "source": []
  },
  {
   "cell_type": "code",
   "execution_count": 22,
   "metadata": {
    "ExecuteTime": {
     "end_time": "2021-01-25T09:06:15.918000Z",
     "start_time": "2021-01-25T09:06:15.916145Z"
    }
   },
   "outputs": [],
   "source": [
    "cleanup_handlers(logger)"
   ]
  },
  {
   "cell_type": "code",
   "execution_count": null,
   "metadata": {},
   "outputs": [],
   "source": []
  },
  {
   "cell_type": "code",
   "execution_count": 23,
   "metadata": {
    "ExecuteTime": {
     "end_time": "2021-01-25T09:07:01.649864Z",
     "start_time": "2021-01-25T09:07:01.646610Z"
    }
   },
   "outputs": [
    {
     "name": "stdout",
     "output_type": "stream",
     "text": [
      "__main__ 10 [<StreamHandler stderr (DEBUG)>] True\n"
     ]
    }
   ],
   "source": [
    "stream_handler = logging.StreamHandler()  # if not specify ``stream`` send to sys.stderr\n",
    "stream_handler.setLevel(logging.DEBUG)\n",
    "logger.addHandler(stream_handler)\n",
    "\n",
    "logger_info(logger)"
   ]
  },
  {
   "cell_type": "code",
   "execution_count": 24,
   "metadata": {
    "ExecuteTime": {
     "end_time": "2021-01-25T09:07:05.776947Z",
     "start_time": "2021-01-25T09:07:05.772467Z"
    }
   },
   "outputs": [
    {
     "name": "stderr",
     "output_type": "stream",
     "text": [
      "This is a debug message\n",
      "This is an info message\n",
      "This is a warning message\n",
      "This is an error message\n",
      "This is a critical message\n"
     ]
    }
   ],
   "source": [
    "logger.debug('This is a debug message')\n",
    "logger.info('This is an info message')\n",
    "logger.warning('This is a warning message')\n",
    "logger.error('This is an error message')\n",
    "logger.critical('This is a critical message')"
   ]
  },
  {
   "cell_type": "code",
   "execution_count": 25,
   "metadata": {
    "ExecuteTime": {
     "end_time": "2021-01-25T09:07:49.872930Z",
     "start_time": "2021-01-25T09:07:49.868923Z"
    }
   },
   "outputs": [
    {
     "name": "stdout",
     "output_type": "stream",
     "text": [
      "__main__ 10 [<StreamHandler stdout (INFO)>] True\n"
     ]
    }
   ],
   "source": [
    "import sys\n",
    "\n",
    "cleanup_handlers(logger)\n",
    "\n",
    "stream_handler = logging.StreamHandler(stream=sys.stdout)  # if not specify ``stream`` send to sys.stderr\n",
    "stream_handler.setLevel(logging.INFO)\n",
    "logger.addHandler(stream_handler)\n",
    "\n",
    "logger_info(logger)\n"
   ]
  },
  {
   "cell_type": "code",
   "execution_count": 26,
   "metadata": {
    "ExecuteTime": {
     "end_time": "2021-01-25T09:08:02.992594Z",
     "start_time": "2021-01-25T09:08:02.988993Z"
    }
   },
   "outputs": [
    {
     "name": "stdout",
     "output_type": "stream",
     "text": [
      "This is an info message\n",
      "This is a warning message\n",
      "This is an error message\n",
      "This is a critical message\n"
     ]
    }
   ],
   "source": [
    "logger.debug('This is a debug message')\n",
    "logger.info('This is an info message')\n",
    "logger.warning('This is a warning message')\n",
    "logger.error('This is an error message')\n",
    "logger.critical('This is a critical message')"
   ]
  },
  {
   "cell_type": "code",
   "execution_count": null,
   "metadata": {},
   "outputs": [],
   "source": []
  },
  {
   "cell_type": "code",
   "execution_count": 27,
   "metadata": {
    "ExecuteTime": {
     "end_time": "2021-01-25T09:09:02.608766Z",
     "start_time": "2021-01-25T09:09:02.604967Z"
    }
   },
   "outputs": [
    {
     "name": "stdout",
     "output_type": "stream",
     "text": [
      "__main__ 10 [<FileHandler /home/student/PycharmProjects/python-data-lab/lesson_6/output.log (WARNING)>] True\n"
     ]
    }
   ],
   "source": [
    "cleanup_handlers(logger)\n",
    "\n",
    "file_handler = logging.FileHandler(\"output.log\") # Output to ``filename``\n",
    "file_handler.setLevel(logging.WARNING)\n",
    "\n",
    "logger.addHandler(file_handler)\n",
    "logger_info(logger)"
   ]
  },
  {
   "cell_type": "code",
   "execution_count": 28,
   "metadata": {
    "ExecuteTime": {
     "end_time": "2021-01-25T09:09:14.127515Z",
     "start_time": "2021-01-25T09:09:14.124543Z"
    }
   },
   "outputs": [],
   "source": [
    "logger.debug('This is a debug message')\n",
    "logger.info('This is an info message')\n",
    "logger.warning('This is a warning message')\n",
    "logger.error('This is an error message')\n",
    "logger.critical('This is a critical message')"
   ]
  },
  {
   "cell_type": "code",
   "execution_count": null,
   "metadata": {},
   "outputs": [],
   "source": []
  },
  {
   "cell_type": "markdown",
   "metadata": {},
   "source": [
    "And other handlers: https://docs.python.org/3/library/logging.handlers.html"
   ]
  },
  {
   "cell_type": "code",
   "execution_count": null,
   "metadata": {},
   "outputs": [],
   "source": []
  },
  {
   "cell_type": "code",
   "execution_count": null,
   "metadata": {},
   "outputs": [],
   "source": []
  },
  {
   "cell_type": "code",
   "execution_count": 29,
   "metadata": {
    "ExecuteTime": {
     "end_time": "2021-01-25T09:10:46.335815Z",
     "start_time": "2021-01-25T09:10:46.333113Z"
    }
   },
   "outputs": [
    {
     "name": "stdout",
     "output_type": "stream",
     "text": [
      "__main__ 10 [<NullHandler (NOTSET)>, <StreamHandler stderr (NOTSET)>, <FileHandler /home/student/PycharmProjects/python-data-lab/lesson_6/output2.log (NOTSET)>] True\n"
     ]
    }
   ],
   "source": [
    "cleanup_handlers(logger)\n",
    "\n",
    "logger.addHandler(logging.NullHandler())\n",
    "logger.addHandler(logging.StreamHandler())\n",
    "logger.addHandler(logging.FileHandler(\"output2.log\"))\n",
    "\n",
    "logger_info(logger)"
   ]
  },
  {
   "cell_type": "code",
   "execution_count": 30,
   "metadata": {
    "ExecuteTime": {
     "end_time": "2021-01-25T09:11:05.234620Z",
     "start_time": "2021-01-25T09:11:05.229209Z"
    },
    "scrolled": true
   },
   "outputs": [
    {
     "name": "stderr",
     "output_type": "stream",
     "text": [
      "This is a debug message\n",
      "This is an info message\n",
      "This is a warning message\n",
      "This is an error message\n",
      "This is a critical message\n"
     ]
    }
   ],
   "source": [
    "logger.debug('This is a debug message')\n",
    "logger.info('This is an info message')\n",
    "logger.warning('This is a warning message')\n",
    "logger.error('This is an error message')\n",
    "logger.critical('This is a critical message')"
   ]
  },
  {
   "cell_type": "code",
   "execution_count": null,
   "metadata": {},
   "outputs": [],
   "source": []
  },
  {
   "cell_type": "code",
   "execution_count": null,
   "metadata": {},
   "outputs": [],
   "source": []
  },
  {
   "cell_type": "code",
   "execution_count": null,
   "metadata": {},
   "outputs": [],
   "source": []
  },
  {
   "cell_type": "code",
   "execution_count": null,
   "metadata": {},
   "outputs": [],
   "source": []
  },
  {
   "cell_type": "code",
   "execution_count": 31,
   "metadata": {
    "ExecuteTime": {
     "end_time": "2021-01-25T09:11:30.116525Z",
     "start_time": "2021-01-25T09:11:30.108798Z"
    }
   },
   "outputs": [
    {
     "data": {
      "text/plain": [
       "10"
      ]
     },
     "execution_count": 31,
     "metadata": {},
     "output_type": "execute_result"
    }
   ],
   "source": [
    "logger.level"
   ]
  },
  {
   "cell_type": "code",
   "execution_count": 32,
   "metadata": {
    "ExecuteTime": {
     "end_time": "2021-01-25T09:11:46.174181Z",
     "start_time": "2021-01-25T09:11:46.172252Z"
    }
   },
   "outputs": [],
   "source": [
    "logger.setLevel(logging.INFO)"
   ]
  },
  {
   "cell_type": "code",
   "execution_count": 33,
   "metadata": {
    "ExecuteTime": {
     "end_time": "2021-01-25T09:11:56.867901Z",
     "start_time": "2021-01-25T09:11:56.864260Z"
    }
   },
   "outputs": [
    {
     "name": "stdout",
     "output_type": "stream",
     "text": [
      "__main__ 20 [<StreamHandler stderr (DEBUG)>, <FileHandler /home/student/PycharmProjects/python-data-lab/lesson_6/output3.log (WARNING)>] True\n"
     ]
    }
   ],
   "source": [
    "cleanup_handlers(logger)\n",
    "\n",
    "\n",
    "sh = logging.StreamHandler()\n",
    "sh.setLevel(logging.DEBUG)\n",
    "\n",
    "\n",
    "fh = logging.FileHandler(\"output3.log\")\n",
    "fh.setLevel(logging.WARNING)\n",
    "\n",
    "logger.addHandler(sh)\n",
    "logger.addHandler(fh)\n",
    "\n",
    "logger_info(logger)"
   ]
  },
  {
   "cell_type": "code",
   "execution_count": 35,
   "metadata": {
    "ExecuteTime": {
     "end_time": "2021-01-25T09:13:03.122427Z",
     "start_time": "2021-01-25T09:13:03.117369Z"
    }
   },
   "outputs": [
    {
     "name": "stderr",
     "output_type": "stream",
     "text": [
      "This is an info message\n",
      "This is a warning message\n",
      "This is an error message\n",
      "This is a critical message\n"
     ]
    }
   ],
   "source": [
    "logger.debug('This is a debug message')\n",
    "logger.info('This is an info message')\n",
    "logger.warning('This is a warning message')\n",
    "logger.error('This is an error message')\n",
    "logger.critical('This is a critical message')"
   ]
  },
  {
   "cell_type": "code",
   "execution_count": null,
   "metadata": {},
   "outputs": [],
   "source": []
  },
  {
   "cell_type": "code",
   "execution_count": null,
   "metadata": {},
   "outputs": [],
   "source": []
  },
  {
   "cell_type": "code",
   "execution_count": null,
   "metadata": {},
   "outputs": [],
   "source": []
  },
  {
   "cell_type": "code",
   "execution_count": null,
   "metadata": {},
   "outputs": [],
   "source": []
  },
  {
   "cell_type": "markdown",
   "metadata": {},
   "source": [
    "### Formatter\n",
    "\n",
    "```class logging.Formatter(fmt=None, datefmt=None, style='%', validate=True)```\n",
    "\n",
    "https://docs.python.org/3/library/logging.html?highlight=formatter#logging.Formatter"
   ]
  },
  {
   "cell_type": "code",
   "execution_count": null,
   "metadata": {},
   "outputs": [],
   "source": []
  },
  {
   "cell_type": "code",
   "execution_count": 36,
   "metadata": {
    "ExecuteTime": {
     "end_time": "2021-01-25T09:15:31.519220Z",
     "start_time": "2021-01-25T09:15:31.516733Z"
    }
   },
   "outputs": [],
   "source": [
    "console_formatter = logging.Formatter(\n",
    "    fmt=\"%(asctime)s %(levelname)s %(module)s %(message)s\",\n",
    ")\n",
    "\n",
    "file_formatter = logging.Formatter(\n",
    "    fmt=\"%(asctime)s.%(msecs)06d|%(levelname)s|%(pathname)s:%(funcName)s:%(lineno)-2s|%(message)s\",\n",
    "    datefmt=\"%Y-%m-%d,%H:%M:%S\",\n",
    ")"
   ]
  },
  {
   "cell_type": "code",
   "execution_count": null,
   "metadata": {},
   "outputs": [],
   "source": []
  },
  {
   "cell_type": "code",
   "execution_count": 37,
   "metadata": {
    "ExecuteTime": {
     "end_time": "2021-01-25T09:15:54.718806Z",
     "start_time": "2021-01-25T09:15:54.716772Z"
    }
   },
   "outputs": [],
   "source": [
    "logger.setLevel(10)  # 10 == logging.DEBUG"
   ]
  },
  {
   "cell_type": "code",
   "execution_count": 38,
   "metadata": {
    "ExecuteTime": {
     "end_time": "2021-01-25T09:16:16.161366Z",
     "start_time": "2021-01-25T09:16:16.157216Z"
    }
   },
   "outputs": [
    {
     "name": "stdout",
     "output_type": "stream",
     "text": [
      "__main__ 10 [<StreamHandler stderr (DEBUG)>, <FileHandler /home/student/PycharmProjects/python-data-lab/lesson_6/output4.log (WARNING)>] True\n"
     ]
    }
   ],
   "source": [
    "cleanup_handlers(logger)\n",
    "\n",
    "sh = logging.StreamHandler()\n",
    "sh.setLevel(logging.DEBUG)\n",
    "sh.setFormatter(console_formatter)\n",
    "\n",
    "\n",
    "fh = logging.FileHandler(\"output4.log\")\n",
    "fh.setLevel(logging.WARNING)\n",
    "fh.setFormatter(file_formatter)\n",
    "\n",
    "logger.addHandler(sh)\n",
    "logger.addHandler(fh)\n",
    "\n",
    "logger_info(logger)"
   ]
  },
  {
   "cell_type": "code",
   "execution_count": 39,
   "metadata": {
    "ExecuteTime": {
     "end_time": "2021-01-25T09:16:23.858028Z",
     "start_time": "2021-01-25T09:16:23.852953Z"
    }
   },
   "outputs": [
    {
     "name": "stderr",
     "output_type": "stream",
     "text": [
      "2021-01-25 12:16:23,853 DEBUG <ipython-input-39-31790cc98758> This is a debug message\n",
      "2021-01-25 12:16:23,854 INFO <ipython-input-39-31790cc98758> This is an info message\n",
      "2021-01-25 12:16:23,855 WARNING <ipython-input-39-31790cc98758> This is a warning message\n",
      "2021-01-25 12:16:23,855 ERROR <ipython-input-39-31790cc98758> This is an error message\n",
      "2021-01-25 12:16:23,856 CRITICAL <ipython-input-39-31790cc98758> This is a critical message\n"
     ]
    }
   ],
   "source": [
    "logger.debug('This is a debug message')\n",
    "logger.info('This is an info message')\n",
    "logger.warning('This is a warning message')\n",
    "logger.error('This is an error message')\n",
    "logger.critical('This is a critical message')"
   ]
  },
  {
   "cell_type": "code",
   "execution_count": null,
   "metadata": {},
   "outputs": [],
   "source": []
  },
  {
   "cell_type": "markdown",
   "metadata": {
    "ExecuteTime": {
     "end_time": "2021-01-24T19:45:27.597234Z",
     "start_time": "2021-01-24T19:45:27.594542Z"
    }
   },
   "source": [
    "### Filter objects\n",
    "\n",
    "\n",
    "https://docs.python.org/3/library/logging.html#filter-objects\n"
   ]
  },
  {
   "cell_type": "code",
   "execution_count": null,
   "metadata": {},
   "outputs": [],
   "source": []
  },
  {
   "cell_type": "code",
   "execution_count": 40,
   "metadata": {
    "ExecuteTime": {
     "end_time": "2021-01-25T09:18:29.504987Z",
     "start_time": "2021-01-25T09:18:29.502592Z"
    }
   },
   "outputs": [],
   "source": [
    "from logging import Filter\n",
    "\n",
    "\n",
    "class LowerThanFilter(Filter):\n",
    "    def __init__(self, level):\n",
    "        self.level = level\n",
    "\n",
    "    def filter(self, record):\n",
    "        return record.levelno < self.level"
   ]
  },
  {
   "cell_type": "code",
   "execution_count": null,
   "metadata": {},
   "outputs": [],
   "source": []
  },
  {
   "cell_type": "code",
   "execution_count": 42,
   "metadata": {
    "ExecuteTime": {
     "end_time": "2021-01-25T09:19:42.001620Z",
     "start_time": "2021-01-25T09:19:41.997781Z"
    }
   },
   "outputs": [
    {
     "name": "stdout",
     "output_type": "stream",
     "text": [
      "__main__ 10 [<StreamHandler stderr (DEBUG)>] True\n"
     ]
    }
   ],
   "source": [
    "cleanup_handlers(logger)\n",
    "\n",
    "# Initialise filter\n",
    "ltw = LowerThanFilter(logging.WARNING)\n",
    "\n",
    "sh = logging.StreamHandler()\n",
    "sh.setLevel(logging.DEBUG)\n",
    "sh.addFilter(ltw)  # add filter\n",
    "\n",
    "logger.addHandler(sh)\n",
    "\n",
    "logger_info(logger)"
   ]
  },
  {
   "cell_type": "code",
   "execution_count": 43,
   "metadata": {
    "ExecuteTime": {
     "end_time": "2021-01-25T09:19:45.855928Z",
     "start_time": "2021-01-25T09:19:45.852644Z"
    }
   },
   "outputs": [
    {
     "name": "stderr",
     "output_type": "stream",
     "text": [
      "This is a debug message\n",
      "This is an info message\n"
     ]
    }
   ],
   "source": [
    "logger.debug('This is a debug message')\n",
    "logger.info('This is an info message')\n",
    "logger.warning('This is a warning message')\n",
    "logger.error('This is an error message')\n",
    "logger.critical('This is a critical message')"
   ]
  },
  {
   "cell_type": "code",
   "execution_count": null,
   "metadata": {},
   "outputs": [],
   "source": []
  },
  {
   "cell_type": "code",
   "execution_count": null,
   "metadata": {},
   "outputs": [],
   "source": []
  },
  {
   "cell_type": "markdown",
   "metadata": {},
   "source": [
    "## Module logging sample\n",
    "\n",
    "```python\n",
    "import logging\n",
    "\n",
    "logger = logging.getLogger(__name__)\n",
    "\n",
    "if __name__ == '__main__':\n",
    "    logger_handler = logging.StreamHandler()\n",
    "    handler_formatter = logging.Formatter(\"%(asctime)s %(levelname)s %(module)r: %(message)s\")\n",
    "\n",
    "    logger_handler.setLevel(logging.DEBUG)\n",
    "    logger_handler.setFormatter(handler_formatter)\n",
    "\n",
    "    logger.addHandler(logger_handler)\n",
    "\n",
    "```"
   ]
  }
 ],
 "metadata": {
  "kernelspec": {
   "display_name": "Python 3",
   "language": "python",
   "name": "python3"
  },
  "language_info": {
   "codemirror_mode": {
    "name": "ipython",
    "version": 3
   },
   "file_extension": ".py",
   "mimetype": "text/x-python",
   "name": "python",
   "nbconvert_exporter": "python",
   "pygments_lexer": "ipython3",
   "version": "3.8.5"
  }
 },
 "nbformat": 4,
 "nbformat_minor": 4
}

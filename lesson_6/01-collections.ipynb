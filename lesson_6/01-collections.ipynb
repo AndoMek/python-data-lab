{
 "cells": [
  {
   "cell_type": "markdown",
   "metadata": {},
   "source": [
    "# collections — Container datatypes\n",
    "\n",
    "https://docs.python.org/3/library/collections.html"
   ]
  },
  {
   "cell_type": "markdown",
   "metadata": {},
   "source": [
    "| Name         | Description                                                          | Covered by Python Mastery |\n",
    "| :- | :- | :-: |\n",
    "| [namedtuple()](https://docs.python.org/3/library/collections.html#collections.namedtuple) | factory function for creating tuple subclasses with named fields     | __Yes__                       |\n",
    "| [deque](https://docs.python.org/3/library/collections.html#collections.deque)        | list-like container with fast appends and pops on either end         | __Yes__                       |\n",
    "| [ChainMap](https://docs.python.org/3/library/collections.html#collections.ChainMap)     | dict-like class for creating a single view of multiple mappings      | No                       |\n",
    "| [Counter](https://docs.python.org/3/library/collections.html#collections.Counter)      | dict subclass for counting hashable objects                          | No                       |\n",
    "| [OrderedDict](https://docs.python.org/3/library/collections.html#collections.OrderedDict)  | dict subclass that remembers the order entries were added            | __Yes__                       |\n",
    "| [defaultdict](https://docs.python.org/3/library/collections.html#collections.defaultdict)  | dict subclass that calls a factory function to supply missing values | __Yes__                       |\n",
    "| [UserDict](https://docs.python.org/3/library/collections.html#collections.UserDict)     | wrapper around dictionary objects for easier dict subclassing        | No                        |\n",
    "| [UserList](https://docs.python.org/3/library/collections.html#collections.UserList)     | wrapper around list objects for easier list subclassing              | No                        |\n",
    "| [UserString](https://docs.python.org/3/library/collections.html#collections.UserString)   | wrapper around string objects for easier string subclassing          | No                        |"
   ]
  },
  {
   "cell_type": "code",
   "execution_count": null,
   "metadata": {},
   "outputs": [],
   "source": []
  },
  {
   "cell_type": "markdown",
   "metadata": {},
   "source": [
    "## OrderedDict"
   ]
  },
  {
   "cell_type": "markdown",
   "metadata": {},
   "source": [
    "### Insert Order\n",
    "\n",
    "For CPython interptreter prior Python 3.6 insert keys order not guaranties\n",
    "\n",
    "\n",
    "```python\n",
    "Python 2.7.18 (default, Sep  5 2020, 11:17:26) \n",
    "[GCC 10.2.0] on linux2\n",
    "Type \"help\", \"copyright\", \"credits\" or \"license\" for more information.\n",
    ">>> {\"a\": 1, \"b\": 2, \"c\": 3}\n",
    "{'a': 1, 'c': 3, 'b': 2}\n",
    "```\n",
    "\n",
    "\n",
    "Since CPython 3.6 and all interpreters of Python 3.7+ insert keys order preserved\n",
    "\n",
    "\n",
    "```python\n",
    "Python 3.7.9 (default, Dec 19 2020, 15:41:39) \n",
    "[GCC 10.2.0] on linux\n",
    "Type \"help\", \"copyright\", \"credits\" or \"license\" for more information.\n",
    ">>> {\"a\": 1, \"b\": 2, \"c\": 3}\n",
    "{'a': 1, 'b': 2, 'c': 3}\n",
    "\n",
    "```"
   ]
  },
  {
   "cell_type": "code",
   "execution_count": 1,
   "metadata": {
    "ExecuteTime": {
     "end_time": "2021-01-25T07:41:31.758747Z",
     "start_time": "2021-01-25T07:41:31.756437Z"
    }
   },
   "outputs": [],
   "source": [
    "from collections import OrderedDict"
   ]
  },
  {
   "cell_type": "code",
   "execution_count": null,
   "metadata": {},
   "outputs": [],
   "source": []
  },
  {
   "cell_type": "code",
   "execution_count": 2,
   "metadata": {
    "ExecuteTime": {
     "end_time": "2021-01-25T07:42:10.611211Z",
     "start_time": "2021-01-25T07:42:10.604667Z"
    }
   },
   "outputs": [
    {
     "data": {
      "text/plain": [
       "True"
      ]
     },
     "execution_count": 2,
     "metadata": {},
     "output_type": "execute_result"
    }
   ],
   "source": [
    "d1 = {\"a\": 1, \"b\": 2, \"c\": 3, }\n",
    "d2 = {\"a\": 1, \"c\": 3, \"b\": 2, }\n",
    "\n",
    "\n",
    "d1 == d2  # __eq__ between dict key order doesn't matter "
   ]
  },
  {
   "cell_type": "code",
   "execution_count": 3,
   "metadata": {
    "ExecuteTime": {
     "end_time": "2021-01-25T07:42:46.479150Z",
     "start_time": "2021-01-25T07:42:46.476113Z"
    }
   },
   "outputs": [
    {
     "ename": "SyntaxError",
     "evalue": "invalid syntax (<ipython-input-3-72f7609aaa9c>, line 1)",
     "output_type": "error",
     "traceback": [
      "\u001b[0;36m  File \u001b[0;32m\"<ipython-input-3-72f7609aaa9c>\"\u001b[0;36m, line \u001b[0;32m1\u001b[0m\n\u001b[0;31m    od1 = OrderedDict(\"a\": 1, \"b\": 2, \"c\": 3,)\u001b[0m\n\u001b[0m                         ^\u001b[0m\n\u001b[0;31mSyntaxError\u001b[0m\u001b[0;31m:\u001b[0m invalid syntax\n"
     ]
    }
   ],
   "source": [
    "od1 = OrderedDict(\"a\": 1, \"b\": 2, \"c\": 3,)\n"
   ]
  },
  {
   "cell_type": "code",
   "execution_count": null,
   "metadata": {},
   "outputs": [],
   "source": []
  },
  {
   "cell_type": "code",
   "execution_count": 4,
   "metadata": {
    "ExecuteTime": {
     "end_time": "2021-01-25T07:43:23.421889Z",
     "start_time": "2021-01-25T07:43:23.419525Z"
    }
   },
   "outputs": [],
   "source": [
    "od1 = OrderedDict(a=1, b=2, c=3,)\n",
    "od2 = OrderedDict([\n",
    "    (\"a\", 1), (\"c\", 3), (\"b\", 2)\n",
    "])"
   ]
  },
  {
   "cell_type": "code",
   "execution_count": 6,
   "metadata": {
    "ExecuteTime": {
     "end_time": "2021-01-25T07:44:27.375482Z",
     "start_time": "2021-01-25T07:44:27.372313Z"
    }
   },
   "outputs": [
    {
     "data": {
      "text/plain": [
       "False"
      ]
     },
     "execution_count": 6,
     "metadata": {},
     "output_type": "execute_result"
    }
   ],
   "source": [
    "od1 == od2  # __eq__ between OrderedDict key order matter "
   ]
  },
  {
   "cell_type": "code",
   "execution_count": 7,
   "metadata": {
    "ExecuteTime": {
     "end_time": "2021-01-25T07:44:57.566270Z",
     "start_time": "2021-01-25T07:44:57.563377Z"
    }
   },
   "outputs": [
    {
     "data": {
      "text/plain": [
       "True"
      ]
     },
     "execution_count": 7,
     "metadata": {},
     "output_type": "execute_result"
    }
   ],
   "source": [
    "## Create new object based on actual order in dict. \n",
    "## CPython 3.6+ example - dict precerve creation order key\n",
    "od3 = OrderedDict(d1)  \n",
    "\n",
    "od3 == od1"
   ]
  },
  {
   "cell_type": "code",
   "execution_count": null,
   "metadata": {},
   "outputs": [],
   "source": []
  },
  {
   "cell_type": "code",
   "execution_count": 8,
   "metadata": {
    "ExecuteTime": {
     "end_time": "2021-01-25T07:45:23.790284Z",
     "start_time": "2021-01-25T07:45:23.787300Z"
    },
    "scrolled": true
   },
   "outputs": [
    {
     "data": {
      "text/plain": [
       "['__dict__', 'move_to_end']"
      ]
     },
     "execution_count": 8,
     "metadata": {},
     "output_type": "execute_result"
    }
   ],
   "source": [
    "[a for a in dir(OrderedDict) if a not in dir(dict)]"
   ]
  },
  {
   "cell_type": "code",
   "execution_count": null,
   "metadata": {},
   "outputs": [],
   "source": []
  },
  {
   "cell_type": "code",
   "execution_count": 9,
   "metadata": {
    "ExecuteTime": {
     "end_time": "2021-01-25T07:46:46.751432Z",
     "start_time": "2021-01-25T07:46:46.747839Z"
    }
   },
   "outputs": [
    {
     "data": {
      "text/plain": [
       "OrderedDict([('c', {'a': 1, 'b': 2, 'c': 3}), ('b', 2), ('a', 1)])"
      ]
     },
     "execution_count": 9,
     "metadata": {},
     "output_type": "execute_result"
    }
   ],
   "source": [
    "od_new = OrderedDict([\n",
    "    (\"a\", 1), (\"c\", {\"a\": 1, \"b\": 2, \"c\": 3, }), (\"b\", 2)\n",
    "])\n",
    "\n",
    "od_new.move_to_end(\"a\", last=True)\n",
    "od_new"
   ]
  },
  {
   "cell_type": "code",
   "execution_count": 10,
   "metadata": {
    "ExecuteTime": {
     "end_time": "2021-01-25T07:47:27.326213Z",
     "start_time": "2021-01-25T07:47:27.323179Z"
    }
   },
   "outputs": [
    {
     "data": {
      "text/plain": [
       "OrderedDict([('b', 2), ('c', {'a': 1, 'b': 2, 'c': 3}), ('a', 1)])"
      ]
     },
     "execution_count": 10,
     "metadata": {},
     "output_type": "execute_result"
    }
   ],
   "source": [
    "## last=False\n",
    "\n",
    "od_new.move_to_end(\"b\", last=False)\n",
    "od_new"
   ]
  },
  {
   "cell_type": "code",
   "execution_count": null,
   "metadata": {},
   "outputs": [],
   "source": []
  },
  {
   "cell_type": "code",
   "execution_count": null,
   "metadata": {},
   "outputs": [],
   "source": []
  },
  {
   "cell_type": "code",
   "execution_count": null,
   "metadata": {},
   "outputs": [],
   "source": []
  },
  {
   "cell_type": "code",
   "execution_count": null,
   "metadata": {},
   "outputs": [],
   "source": []
  },
  {
   "cell_type": "code",
   "execution_count": null,
   "metadata": {},
   "outputs": [],
   "source": []
  },
  {
   "cell_type": "code",
   "execution_count": null,
   "metadata": {},
   "outputs": [],
   "source": []
  },
  {
   "cell_type": "markdown",
   "metadata": {},
   "source": [
    "## deque"
   ]
  },
  {
   "cell_type": "code",
   "execution_count": 11,
   "metadata": {
    "ExecuteTime": {
     "end_time": "2021-01-25T07:48:31.006923Z",
     "start_time": "2021-01-25T07:48:31.004576Z"
    }
   },
   "outputs": [],
   "source": [
    "from collections import deque"
   ]
  },
  {
   "cell_type": "code",
   "execution_count": 12,
   "metadata": {
    "ExecuteTime": {
     "end_time": "2021-01-25T07:48:37.102144Z",
     "start_time": "2021-01-25T07:48:37.099269Z"
    }
   },
   "outputs": [
    {
     "data": {
      "text/plain": [
       "[0, 1, 2, 3, 4, 5, 6, 7, 8, 9]"
      ]
     },
     "execution_count": 12,
     "metadata": {},
     "output_type": "execute_result"
    }
   ],
   "source": [
    "ll = [x for x in range(10)]\n",
    "ll"
   ]
  },
  {
   "cell_type": "code",
   "execution_count": null,
   "metadata": {},
   "outputs": [],
   "source": []
  },
  {
   "cell_type": "code",
   "execution_count": 13,
   "metadata": {
    "ExecuteTime": {
     "end_time": "2021-01-25T07:49:29.709108Z",
     "start_time": "2021-01-25T07:49:29.706950Z"
    }
   },
   "outputs": [],
   "source": [
    "dq = deque(ll)"
   ]
  },
  {
   "cell_type": "code",
   "execution_count": 14,
   "metadata": {
    "ExecuteTime": {
     "end_time": "2021-01-25T07:49:36.143737Z",
     "start_time": "2021-01-25T07:49:36.139626Z"
    }
   },
   "outputs": [
    {
     "data": {
      "text/plain": [
       "deque([0, 1, 2, 3, 4, 5, 6, 7, 8, 9])"
      ]
     },
     "execution_count": 14,
     "metadata": {},
     "output_type": "execute_result"
    }
   ],
   "source": [
    "dq"
   ]
  },
  {
   "cell_type": "code",
   "execution_count": 15,
   "metadata": {
    "ExecuteTime": {
     "end_time": "2021-01-25T07:49:42.942810Z",
     "start_time": "2021-01-25T07:49:42.939792Z"
    }
   },
   "outputs": [
    {
     "data": {
      "text/plain": [
       "1"
      ]
     },
     "execution_count": 15,
     "metadata": {},
     "output_type": "execute_result"
    }
   ],
   "source": [
    "dq[1]"
   ]
  },
  {
   "cell_type": "code",
   "execution_count": 16,
   "metadata": {
    "ExecuteTime": {
     "end_time": "2021-01-25T07:49:55.215661Z",
     "start_time": "2021-01-25T07:49:55.179237Z"
    }
   },
   "outputs": [
    {
     "ename": "TypeError",
     "evalue": "sequence index must be integer, not 'slice'",
     "output_type": "error",
     "traceback": [
      "\u001b[0;31m---------------------------------------------------------------------------\u001b[0m",
      "\u001b[0;31mTypeError\u001b[0m                                 Traceback (most recent call last)",
      "\u001b[0;32m<ipython-input-16-76b84784827c>\u001b[0m in \u001b[0;36m<module>\u001b[0;34m\u001b[0m\n\u001b[0;32m----> 1\u001b[0;31m \u001b[0mdq\u001b[0m\u001b[0;34m[\u001b[0m\u001b[0;36m1\u001b[0m\u001b[0;34m:\u001b[0m\u001b[0;34m]\u001b[0m\u001b[0;34m\u001b[0m\u001b[0;34m\u001b[0m\u001b[0m\n\u001b[0m",
      "\u001b[0;31mTypeError\u001b[0m: sequence index must be integer, not 'slice'"
     ]
    }
   ],
   "source": [
    "dq[1:]"
   ]
  },
  {
   "cell_type": "code",
   "execution_count": null,
   "metadata": {},
   "outputs": [],
   "source": []
  },
  {
   "cell_type": "code",
   "execution_count": null,
   "metadata": {},
   "outputs": [],
   "source": []
  },
  {
   "cell_type": "code",
   "execution_count": null,
   "metadata": {},
   "outputs": [],
   "source": [
    "# rotate"
   ]
  },
  {
   "cell_type": "code",
   "execution_count": 18,
   "metadata": {
    "ExecuteTime": {
     "end_time": "2021-01-25T07:51:18.224567Z",
     "start_time": "2021-01-25T07:51:18.220207Z"
    }
   },
   "outputs": [
    {
     "data": {
      "text/plain": [
       "deque([8, 9, 0, 1, 2, 3, 4, 5, 6, 7])"
      ]
     },
     "execution_count": 18,
     "metadata": {},
     "output_type": "execute_result"
    }
   ],
   "source": [
    "dq.rotate(2)  ## move elements to left\n",
    "\n",
    "dq"
   ]
  },
  {
   "cell_type": "code",
   "execution_count": null,
   "metadata": {
    "scrolled": true
   },
   "outputs": [],
   "source": []
  },
  {
   "cell_type": "code",
   "execution_count": null,
   "metadata": {},
   "outputs": [],
   "source": [
    "# maxlen"
   ]
  },
  {
   "cell_type": "code",
   "execution_count": null,
   "metadata": {},
   "outputs": [],
   "source": []
  },
  {
   "cell_type": "code",
   "execution_count": 19,
   "metadata": {
    "ExecuteTime": {
     "end_time": "2021-01-25T07:52:18.914617Z",
     "start_time": "2021-01-25T07:52:18.909779Z"
    }
   },
   "outputs": [
    {
     "data": {
      "text/plain": [
       "deque([1, 2, 3, 4])"
      ]
     },
     "execution_count": 19,
     "metadata": {},
     "output_type": "execute_result"
    }
   ],
   "source": [
    "dq2 = deque([1, 2, 3, 4], maxlen=5)\n",
    "\n",
    "dq2"
   ]
  },
  {
   "cell_type": "code",
   "execution_count": 20,
   "metadata": {
    "ExecuteTime": {
     "end_time": "2021-01-25T07:52:23.519513Z",
     "start_time": "2021-01-25T07:52:23.516106Z"
    }
   },
   "outputs": [
    {
     "data": {
      "text/plain": [
       "deque([1, 2, 3, 4, 5])"
      ]
     },
     "execution_count": 20,
     "metadata": {},
     "output_type": "execute_result"
    }
   ],
   "source": [
    "dq2.append(5)\n",
    "\n",
    "dq2"
   ]
  },
  {
   "cell_type": "code",
   "execution_count": 21,
   "metadata": {
    "ExecuteTime": {
     "end_time": "2021-01-25T07:53:05.069872Z",
     "start_time": "2021-01-25T07:53:05.066939Z"
    }
   },
   "outputs": [
    {
     "data": {
      "text/plain": [
       "deque([2,\n",
       "       3,\n",
       "       4,\n",
       "       5,\n",
       "       'append add element to the end and remove in the begin of deque'])"
      ]
     },
     "execution_count": 21,
     "metadata": {},
     "output_type": "execute_result"
    }
   ],
   "source": [
    "dq2.append(\"append add element to the end and remove in the begin of deque\")\n",
    "\n",
    "dq2"
   ]
  },
  {
   "cell_type": "code",
   "execution_count": 22,
   "metadata": {
    "ExecuteTime": {
     "end_time": "2021-01-25T07:53:16.717804Z",
     "start_time": "2021-01-25T07:53:16.714938Z"
    }
   },
   "outputs": [
    {
     "data": {
      "text/plain": [
       "deque(['appendleft add element to the begin and remove in the end of deque',\n",
       "       2,\n",
       "       3,\n",
       "       4,\n",
       "       5])"
      ]
     },
     "execution_count": 22,
     "metadata": {},
     "output_type": "execute_result"
    }
   ],
   "source": [
    "dq2.appendleft(\"appendleft add element to the begin and remove in the end of deque\")\n",
    "\n",
    "dq2"
   ]
  },
  {
   "cell_type": "code",
   "execution_count": 23,
   "metadata": {
    "ExecuteTime": {
     "end_time": "2021-01-25T07:54:40.207467Z",
     "start_time": "2021-01-25T07:54:40.204191Z"
    }
   },
   "outputs": [
    {
     "data": {
      "text/plain": [
       "deque([7, 8, 9])"
      ]
     },
     "execution_count": 23,
     "metadata": {},
     "output_type": "execute_result"
    }
   ],
   "source": [
    "deque(ll, 3)"
   ]
  },
  {
   "cell_type": "code",
   "execution_count": null,
   "metadata": {},
   "outputs": [],
   "source": []
  },
  {
   "cell_type": "code",
   "execution_count": 24,
   "metadata": {
    "ExecuteTime": {
     "end_time": "2021-01-25T07:59:14.190962Z",
     "start_time": "2021-01-25T07:59:14.187824Z"
    }
   },
   "outputs": [],
   "source": [
    "# Some modified Vadim's solution for skip last n elements (footer)\n",
    "import itertools\n",
    "\n",
    "\n",
    "def skip_last_n(it, n=0):\n",
    "    if n <= 0:\n",
    "        yield from it\n",
    "        return\n",
    "    \n",
    "    # Create new buffer deque max size equal to n\n",
    "    # And fill from it (Iterator \\ Generator) fir n values\n",
    "    buffer = deque(itertools.islice(it, n), n)\n",
    "    for item in it:\n",
    "        # Yield value from the left of deque `buffer`\n",
    "        yield buffer.popleft()\n",
    "        # Append value to the right of deque `buffer`\n",
    "        buffer.append(item)"
   ]
  },
  {
   "cell_type": "code",
   "execution_count": 25,
   "metadata": {
    "ExecuteTime": {
     "end_time": "2021-01-25T07:59:23.311540Z",
     "start_time": "2021-01-25T07:59:23.307810Z"
    },
    "scrolled": true
   },
   "outputs": [
    {
     "name": "stdout",
     "output_type": "stream",
     "text": [
      "0\n",
      "1\n",
      "2\n",
      "3\n",
      "4\n",
      "5\n",
      "6\n",
      "7\n",
      "8\n",
      "9\n"
     ]
    }
   ],
   "source": [
    "for item in skip_last_n(iter(ll)):\n",
    "    print(item)"
   ]
  },
  {
   "cell_type": "code",
   "execution_count": 26,
   "metadata": {
    "ExecuteTime": {
     "end_time": "2021-01-25T08:00:01.742167Z",
     "start_time": "2021-01-25T08:00:01.739606Z"
    }
   },
   "outputs": [
    {
     "name": "stdout",
     "output_type": "stream",
     "text": [
      "0\n",
      "1\n",
      "2\n",
      "3\n",
      "4\n"
     ]
    }
   ],
   "source": [
    "for item in skip_last_n(iter(ll), n=5):\n",
    "    print(item)"
   ]
  },
  {
   "cell_type": "code",
   "execution_count": 28,
   "metadata": {
    "ExecuteTime": {
     "end_time": "2021-01-25T08:01:25.837963Z",
     "start_time": "2021-01-25T08:01:25.835993Z"
    }
   },
   "outputs": [],
   "source": [
    "for item in skip_last_n(iter(ll), n=10):\n",
    "    print(item)"
   ]
  },
  {
   "cell_type": "code",
   "execution_count": null,
   "metadata": {},
   "outputs": [],
   "source": []
  },
  {
   "cell_type": "code",
   "execution_count": null,
   "metadata": {},
   "outputs": [],
   "source": []
  },
  {
   "cell_type": "code",
   "execution_count": null,
   "metadata": {},
   "outputs": [],
   "source": []
  },
  {
   "cell_type": "code",
   "execution_count": null,
   "metadata": {},
   "outputs": [],
   "source": []
  },
  {
   "cell_type": "code",
   "execution_count": null,
   "metadata": {},
   "outputs": [],
   "source": []
  },
  {
   "cell_type": "markdown",
   "metadata": {},
   "source": [
    "## defaultdict\n",
    "\n",
    "```class collections.defaultdict([default_factory[, ...]])```"
   ]
  },
  {
   "cell_type": "code",
   "execution_count": 30,
   "metadata": {
    "ExecuteTime": {
     "end_time": "2021-01-25T08:02:57.294710Z",
     "start_time": "2021-01-25T08:02:57.292573Z"
    }
   },
   "outputs": [],
   "source": [
    "from collections import defaultdict"
   ]
  },
  {
   "cell_type": "code",
   "execution_count": null,
   "metadata": {},
   "outputs": [],
   "source": []
  },
  {
   "cell_type": "code",
   "execution_count": 31,
   "metadata": {
    "ExecuteTime": {
     "end_time": "2021-01-25T08:03:12.430680Z",
     "start_time": "2021-01-25T08:03:12.428243Z"
    }
   },
   "outputs": [],
   "source": [
    "s1 = \"Lorem ipsum dolor sit amet, consectetur adipiscing elit. Phasellus pellentesque nulla gravida ligula mollis, vitae tristique ex ornare. Nulla semper eget enim id tincidunt. Nunc quis ultricies neque. In bibendum nisi risus, non pellentesque diam auctor eget. Mauris eleifend aliquet est non molestie. Nulla urna leo, hendrerit non nisi at.\""
   ]
  },
  {
   "cell_type": "code",
   "execution_count": null,
   "metadata": {},
   "outputs": [],
   "source": []
  },
  {
   "cell_type": "code",
   "execution_count": 32,
   "metadata": {
    "ExecuteTime": {
     "end_time": "2021-01-25T08:03:30.514751Z",
     "start_time": "2021-01-25T08:03:30.510698Z"
    },
    "scrolled": true
   },
   "outputs": [
    {
     "data": {
      "text/plain": [
       "{'l': 24,\n",
       " 'o': 12,\n",
       " 'r': 15,\n",
       " 'e': 39,\n",
       " 'm': 10,\n",
       " ' ': 49,\n",
       " 'i': 32,\n",
       " 'p': 6,\n",
       " 's': 20,\n",
       " 'u': 21,\n",
       " 'd': 9,\n",
       " 't': 21,\n",
       " 'a': 17,\n",
       " ',': 4,\n",
       " 'c': 7,\n",
       " 'n': 27,\n",
       " 'g': 5,\n",
       " '.': 7,\n",
       " 'h': 2,\n",
       " 'q': 6,\n",
       " 'v': 2,\n",
       " 'x': 1,\n",
       " 'b': 2,\n",
       " 'f': 1}"
      ]
     },
     "execution_count": 32,
     "metadata": {},
     "output_type": "execute_result"
    }
   ],
   "source": [
    "d1 = {}\n",
    "\n",
    "for item in s1.lower():\n",
    "    try:\n",
    "        d1[item] += 1\n",
    "    except KeyError:\n",
    "        d1[item] = 1\n",
    "        \n",
    "d1"
   ]
  },
  {
   "cell_type": "code",
   "execution_count": 33,
   "metadata": {
    "ExecuteTime": {
     "end_time": "2021-01-25T08:03:41.567114Z",
     "start_time": "2021-01-25T08:03:41.564146Z"
    }
   },
   "outputs": [
    {
     "data": {
      "text/plain": [
       "39"
      ]
     },
     "execution_count": 33,
     "metadata": {},
     "output_type": "execute_result"
    }
   ],
   "source": [
    "d1[\"e\"]"
   ]
  },
  {
   "cell_type": "code",
   "execution_count": 34,
   "metadata": {
    "ExecuteTime": {
     "end_time": "2021-01-25T08:03:45.614925Z",
     "start_time": "2021-01-25T08:03:45.612112Z"
    }
   },
   "outputs": [
    {
     "data": {
      "text/plain": [
       "24"
      ]
     },
     "execution_count": 34,
     "metadata": {},
     "output_type": "execute_result"
    }
   ],
   "source": [
    "d1[\"l\"]"
   ]
  },
  {
   "cell_type": "code",
   "execution_count": 35,
   "metadata": {
    "ExecuteTime": {
     "end_time": "2021-01-25T08:03:48.304437Z",
     "start_time": "2021-01-25T08:03:48.299833Z"
    },
    "scrolled": true
   },
   "outputs": [
    {
     "ename": "KeyError",
     "evalue": "'z'",
     "output_type": "error",
     "traceback": [
      "\u001b[0;31m---------------------------------------------------------------------------\u001b[0m",
      "\u001b[0;31mKeyError\u001b[0m                                  Traceback (most recent call last)",
      "\u001b[0;32m<ipython-input-35-ac386b36c5e4>\u001b[0m in \u001b[0;36m<module>\u001b[0;34m\u001b[0m\n\u001b[0;32m----> 1\u001b[0;31m \u001b[0md1\u001b[0m\u001b[0;34m[\u001b[0m\u001b[0;34m\"z\"\u001b[0m\u001b[0;34m]\u001b[0m\u001b[0;34m\u001b[0m\u001b[0;34m\u001b[0m\u001b[0m\n\u001b[0m",
      "\u001b[0;31mKeyError\u001b[0m: 'z'"
     ]
    }
   ],
   "source": [
    "d1[\"z\"]"
   ]
  },
  {
   "cell_type": "code",
   "execution_count": null,
   "metadata": {},
   "outputs": [],
   "source": []
  },
  {
   "cell_type": "code",
   "execution_count": null,
   "metadata": {},
   "outputs": [],
   "source": []
  },
  {
   "cell_type": "code",
   "execution_count": 36,
   "metadata": {
    "ExecuteTime": {
     "end_time": "2021-01-25T08:05:02.978784Z",
     "start_time": "2021-01-25T08:05:02.974505Z"
    }
   },
   "outputs": [
    {
     "data": {
      "text/plain": [
       "defaultdict(int,\n",
       "            {'l': 24,\n",
       "             'o': 12,\n",
       "             'r': 15,\n",
       "             'e': 39,\n",
       "             'm': 10,\n",
       "             ' ': 49,\n",
       "             'i': 32,\n",
       "             'p': 6,\n",
       "             's': 20,\n",
       "             'u': 21,\n",
       "             'd': 9,\n",
       "             't': 21,\n",
       "             'a': 17,\n",
       "             ',': 4,\n",
       "             'c': 7,\n",
       "             'n': 27,\n",
       "             'g': 5,\n",
       "             '.': 7,\n",
       "             'h': 2,\n",
       "             'q': 6,\n",
       "             'v': 2,\n",
       "             'x': 1,\n",
       "             'b': 2,\n",
       "             'f': 1})"
      ]
     },
     "execution_count": 36,
     "metadata": {},
     "output_type": "execute_result"
    }
   ],
   "source": [
    "dd1 = defaultdict(int)\n",
    "\n",
    "for item in s1.lower():\n",
    "    dd1[item] += 1\n",
    "\n",
    "dd1"
   ]
  },
  {
   "cell_type": "code",
   "execution_count": 37,
   "metadata": {
    "ExecuteTime": {
     "end_time": "2021-01-25T08:05:21.487378Z",
     "start_time": "2021-01-25T08:05:21.484128Z"
    },
    "scrolled": true
   },
   "outputs": [
    {
     "data": {
      "text/plain": [
       "{'l': 24,\n",
       " 'o': 12,\n",
       " 'r': 15,\n",
       " 'e': 39,\n",
       " 'm': 10,\n",
       " ' ': 49,\n",
       " 'i': 32,\n",
       " 'p': 6,\n",
       " 's': 20,\n",
       " 'u': 21,\n",
       " 'd': 9,\n",
       " 't': 21,\n",
       " 'a': 17,\n",
       " ',': 4,\n",
       " 'c': 7,\n",
       " 'n': 27,\n",
       " 'g': 5,\n",
       " '.': 7,\n",
       " 'h': 2,\n",
       " 'q': 6,\n",
       " 'v': 2,\n",
       " 'x': 1,\n",
       " 'b': 2,\n",
       " 'f': 1}"
      ]
     },
     "execution_count": 37,
     "metadata": {},
     "output_type": "execute_result"
    }
   ],
   "source": [
    "dict(dd1)"
   ]
  },
  {
   "cell_type": "code",
   "execution_count": 38,
   "metadata": {
    "ExecuteTime": {
     "end_time": "2021-01-25T08:05:28.991692Z",
     "start_time": "2021-01-25T08:05:28.988499Z"
    }
   },
   "outputs": [
    {
     "data": {
      "text/plain": [
       "39"
      ]
     },
     "execution_count": 38,
     "metadata": {},
     "output_type": "execute_result"
    }
   ],
   "source": [
    "dd1[\"e\"]"
   ]
  },
  {
   "cell_type": "code",
   "execution_count": 39,
   "metadata": {
    "ExecuteTime": {
     "end_time": "2021-01-25T08:05:30.866955Z",
     "start_time": "2021-01-25T08:05:30.863906Z"
    }
   },
   "outputs": [
    {
     "data": {
      "text/plain": [
       "24"
      ]
     },
     "execution_count": 39,
     "metadata": {},
     "output_type": "execute_result"
    }
   ],
   "source": [
    "dd1[\"l\"]"
   ]
  },
  {
   "cell_type": "code",
   "execution_count": 40,
   "metadata": {
    "ExecuteTime": {
     "end_time": "2021-01-25T08:05:33.984843Z",
     "start_time": "2021-01-25T08:05:33.982020Z"
    },
    "scrolled": false
   },
   "outputs": [
    {
     "data": {
      "text/plain": [
       "0"
      ]
     },
     "execution_count": 40,
     "metadata": {},
     "output_type": "execute_result"
    }
   ],
   "source": [
    "dd1[\"z\"]"
   ]
  },
  {
   "cell_type": "code",
   "execution_count": 41,
   "metadata": {
    "ExecuteTime": {
     "end_time": "2021-01-25T08:06:27.471418Z",
     "start_time": "2021-01-25T08:06:27.468451Z"
    }
   },
   "outputs": [
    {
     "data": {
      "text/plain": [
       "0"
      ]
     },
     "execution_count": 41,
     "metadata": {},
     "output_type": "execute_result"
    }
   ],
   "source": [
    "dd1.get(\"z\")"
   ]
  },
  {
   "cell_type": "code",
   "execution_count": 42,
   "metadata": {
    "ExecuteTime": {
     "end_time": "2021-01-25T08:06:39.872177Z",
     "start_time": "2021-01-25T08:06:39.868890Z"
    }
   },
   "outputs": [
    {
     "data": {
      "text/plain": [
       "0"
      ]
     },
     "execution_count": 42,
     "metadata": {},
     "output_type": "execute_result"
    }
   ],
   "source": [
    "dd1.get(\"z\", 1)"
   ]
  },
  {
   "cell_type": "code",
   "execution_count": 48,
   "metadata": {
    "ExecuteTime": {
     "end_time": "2021-01-25T08:09:20.193190Z",
     "start_time": "2021-01-25T08:09:20.189438Z"
    }
   },
   "outputs": [
    {
     "data": {
      "text/plain": [
       "1"
      ]
     },
     "execution_count": 48,
     "metadata": {},
     "output_type": "execute_result"
    }
   ],
   "source": [
    "dd1.get(\"z2\", 1)"
   ]
  },
  {
   "cell_type": "code",
   "execution_count": null,
   "metadata": {},
   "outputs": [],
   "source": []
  },
  {
   "cell_type": "code",
   "execution_count": null,
   "metadata": {},
   "outputs": [],
   "source": []
  },
  {
   "cell_type": "code",
   "execution_count": 49,
   "metadata": {
    "ExecuteTime": {
     "end_time": "2021-01-25T08:09:58.769595Z",
     "start_time": "2021-01-25T08:09:56.956321Z"
    }
   },
   "outputs": [
    {
     "name": "stdout",
     "output_type": "stream",
     "text": [
      "22.4 µs ± 1.13 µs per loop (mean ± std. dev. of 7 runs, 10000 loops each)\n"
     ]
    }
   ],
   "source": [
    "%%timeit\n",
    "\n",
    "d1 = {}\n",
    "\n",
    "# EAFP principle\n",
    "for item in s1.lower():\n",
    "    try:\n",
    "        d1[item] += 1\n",
    "    except KeyError:\n",
    "        d1[item] = 1\n"
   ]
  },
  {
   "cell_type": "code",
   "execution_count": 50,
   "metadata": {
    "ExecuteTime": {
     "end_time": "2021-01-25T08:10:02.412959Z",
     "start_time": "2021-01-25T08:10:00.604714Z"
    }
   },
   "outputs": [
    {
     "name": "stdout",
     "output_type": "stream",
     "text": [
      "22.2 µs ± 1.17 µs per loop (mean ± std. dev. of 7 runs, 10000 loops each)\n"
     ]
    }
   ],
   "source": [
    "%%timeit\n",
    "\n",
    "d1 = {}\n",
    "\n",
    "# Check\n",
    "for item in s1.lower():\n",
    "    if item in d1:\n",
    "        d1[item] += 1\n",
    "    else:\n",
    "        d1[item] = 1\n"
   ]
  },
  {
   "cell_type": "code",
   "execution_count": 52,
   "metadata": {
    "ExecuteTime": {
     "end_time": "2021-01-25T08:10:39.456961Z",
     "start_time": "2021-01-25T08:10:24.301641Z"
    }
   },
   "outputs": [
    {
     "name": "stdout",
     "output_type": "stream",
     "text": [
      "18.7 µs ± 280 ns per loop (mean ± std. dev. of 7 runs, 100000 loops each)\n"
     ]
    }
   ],
   "source": [
    "%%timeit\n",
    "\n",
    "dd1 = defaultdict(int)\n",
    "\n",
    "for item in s1.lower():\n",
    "    dd1[item] += 1"
   ]
  },
  {
   "cell_type": "code",
   "execution_count": null,
   "metadata": {},
   "outputs": [],
   "source": []
  },
  {
   "cell_type": "code",
   "execution_count": null,
   "metadata": {},
   "outputs": [],
   "source": []
  },
  {
   "cell_type": "code",
   "execution_count": null,
   "metadata": {},
   "outputs": [],
   "source": []
  },
  {
   "cell_type": "code",
   "execution_count": 53,
   "metadata": {
    "ExecuteTime": {
     "end_time": "2021-01-25T08:11:02.592028Z",
     "start_time": "2021-01-25T08:11:02.588630Z"
    }
   },
   "outputs": [
    {
     "name": "stdout",
     "output_type": "stream",
     "text": [
      "[('c', 0), ('b', 1), ('a', 2), ('a', 3), ('a', 4), ('b', 5), ('b', 6), ('b', 7), ('c', 8), ('c', 9), ('b', 10), ('c', 11), ('a', 12), ('a', 13), ('a', 14), ('a', 15), ('a', 16), ('c', 17), ('a', 18), ('a', 19), ('b', 20), ('c', 21), ('b', 22), ('b', 23), ('b', 24), ('b', 25), ('c', 26), ('c', 27), ('b', 28), ('b', 29), ('c', 30), ('b', 31), ('a', 32), ('b', 33), ('a', 34), ('c', 35), ('c', 36), ('a', 37), ('c', 38), ('b', 39), ('b', 40), ('c', 41), ('b', 42), ('b', 43), ('c', 44), ('a', 45), ('a', 46), ('a', 47), ('c', 48), ('b', 49), ('c', 50), ('c', 51), ('b', 52), ('a', 53), ('b', 54), ('c', 55), ('a', 56), ('a', 57), ('c', 58), ('a', 59), ('a', 60), ('c', 61), ('a', 62), ('b', 63), ('c', 64), ('c', 65), ('b', 66), ('a', 67), ('a', 68), ('c', 69), ('c', 70), ('b', 71), ('b', 72), ('a', 73), ('b', 74), ('c', 75), ('c', 76), ('b', 77), ('c', 78), ('c', 79), ('b', 80), ('a', 81), ('a', 82), ('c', 83), ('c', 84), ('c', 85), ('c', 86), ('b', 87), ('a', 88), ('a', 89), ('a', 90), ('b', 91), ('c', 92), ('c', 93), ('a', 94), ('c', 95), ('c', 96), ('a', 97), ('a', 98), ('c', 99)]\n"
     ]
    }
   ],
   "source": [
    "import random\n",
    "\n",
    "ll = [(random.choice('abc'), ix) for ix in range(100)]\n",
    "print(ll)"
   ]
  },
  {
   "cell_type": "code",
   "execution_count": 54,
   "metadata": {
    "ExecuteTime": {
     "end_time": "2021-01-25T08:11:49.633176Z",
     "start_time": "2021-01-25T08:11:49.629943Z"
    }
   },
   "outputs": [
    {
     "name": "stdout",
     "output_type": "stream",
     "text": [
      "defaultdict(<class 'list'>, {'c': [0, 8, 9, 11, 17, 21, 26, 27, 30, 35, 36, 38, 41, 44, 48, 50, 51, 55, 58, 61, 64, 65, 69, 70, 75, 76, 78, 79, 83, 84, 85, 86, 92, 93, 95, 96, 99], 'b': [1, 5, 6, 7, 10, 20, 22, 23, 24, 25, 28, 29, 31, 33, 39, 40, 42, 43, 49, 52, 54, 63, 66, 71, 72, 74, 77, 80, 87, 91], 'a': [2, 3, 4, 12, 13, 14, 15, 16, 18, 19, 32, 34, 37, 45, 46, 47, 53, 56, 57, 59, 60, 62, 67, 68, 73, 81, 82, 88, 89, 90, 94, 97, 98]})\n"
     ]
    }
   ],
   "source": [
    "dd2 = defaultdict(list)\n",
    "\n",
    "for key, value in ll:\n",
    "    dd2[key].append(value)\n",
    "    \n",
    "print(dd2)"
   ]
  },
  {
   "cell_type": "code",
   "execution_count": 55,
   "metadata": {
    "ExecuteTime": {
     "end_time": "2021-01-25T08:12:30.624274Z",
     "start_time": "2021-01-25T08:12:30.621333Z"
    }
   },
   "outputs": [
    {
     "name": "stdout",
     "output_type": "stream",
     "text": [
      "{'c': [0, 8, 9, 11, 17, 21, 26, 27, 30, 35, 36, 38, 41, 44, 48, 50, 51, 55, 58, 61, 64, 65, 69, 70, 75, 76, 78, 79, 83, 84, 85, 86, 92, 93, 95, 96, 99], 'b': [1, 5, 6, 7, 10, 20, 22, 23, 24, 25, 28, 29, 31, 33, 39, 40, 42, 43, 49, 52, 54, 63, 66, 71, 72, 74, 77, 80, 87, 91], 'a': [2, 3, 4, 12, 13, 14, 15, 16, 18, 19, 32, 34, 37, 45, 46, 47, 53, 56, 57, 59, 60, 62, 67, 68, 73, 81, 82, 88, 89, 90, 94, 97, 98]}\n"
     ]
    }
   ],
   "source": [
    "d2 = {}\n",
    "\n",
    "for key, value in ll:\n",
    "    d2.setdefault(key, []).append(value)\n",
    "    \n",
    "print(d2)"
   ]
  },
  {
   "cell_type": "code",
   "execution_count": 56,
   "metadata": {
    "ExecuteTime": {
     "end_time": "2021-01-25T08:12:49.775531Z",
     "start_time": "2021-01-25T08:12:45.293214Z"
    }
   },
   "outputs": [
    {
     "name": "stdout",
     "output_type": "stream",
     "text": [
      "5.54 µs ± 102 ns per loop (mean ± std. dev. of 7 runs, 100000 loops each)\n"
     ]
    }
   ],
   "source": [
    "%%timeit\n",
    "\n",
    "dd2 = defaultdict(list)\n",
    "\n",
    "for key, value in ll:\n",
    "    dd2[key].append(value)"
   ]
  },
  {
   "cell_type": "code",
   "execution_count": 57,
   "metadata": {
    "ExecuteTime": {
     "end_time": "2021-01-25T08:12:55.653660Z",
     "start_time": "2021-01-25T08:12:49.776991Z"
    }
   },
   "outputs": [
    {
     "name": "stdout",
     "output_type": "stream",
     "text": [
      "7.2 µs ± 209 ns per loop (mean ± std. dev. of 7 runs, 100000 loops each)\n"
     ]
    }
   ],
   "source": [
    "%%timeit\n",
    "\n",
    "d2 = {}\n",
    "\n",
    "for key, value in ll:\n",
    "    d2.setdefault(key, []).append(value)"
   ]
  },
  {
   "cell_type": "code",
   "execution_count": null,
   "metadata": {},
   "outputs": [],
   "source": []
  },
  {
   "cell_type": "code",
   "execution_count": 58,
   "metadata": {
    "ExecuteTime": {
     "end_time": "2021-01-25T08:13:50.320044Z",
     "start_time": "2021-01-25T08:13:50.317593Z"
    }
   },
   "outputs": [],
   "source": [
    "ll_geo = [\n",
    "    (\"Minsk\", (53.893009, 27.567444)),\n",
    "    (\"London\", (51.50853, -0.12574)),\n",
    "    (\"Manchester\", (53.48095, -2.23743)),\n",
    "]"
   ]
  },
  {
   "cell_type": "code",
   "execution_count": null,
   "metadata": {},
   "outputs": [],
   "source": []
  },
  {
   "cell_type": "code",
   "execution_count": null,
   "metadata": {},
   "outputs": [],
   "source": []
  },
  {
   "cell_type": "code",
   "execution_count": 59,
   "metadata": {
    "ExecuteTime": {
     "end_time": "2021-01-25T08:15:30.416907Z",
     "start_time": "2021-01-25T08:15:30.413351Z"
    }
   },
   "outputs": [
    {
     "data": {
      "text/plain": [
       "defaultdict(<function __main__.geo()>,\n",
       "            {'Minsk': (53.893009, 27.567444),\n",
       "             'London': (51.50853, -0.12574),\n",
       "             'Manchester': (53.48095, -2.23743)})"
      ]
     },
     "execution_count": 59,
     "metadata": {},
     "output_type": "execute_result"
    }
   ],
   "source": [
    "def geo():\n",
    "    return (None, None)  # IRL not recommend use some default lat/long because you can set to some property\n",
    "\n",
    "\n",
    "dd3 = defaultdict(geo)\n",
    "\n",
    "\n",
    "for city, pos in ll_geo:\n",
    "    dd3[city] = pos\n",
    "\n",
    "dd3"
   ]
  },
  {
   "cell_type": "code",
   "execution_count": 60,
   "metadata": {
    "ExecuteTime": {
     "end_time": "2021-01-25T08:15:34.704403Z",
     "start_time": "2021-01-25T08:15:34.701687Z"
    }
   },
   "outputs": [
    {
     "data": {
      "text/plain": [
       "(53.893009, 27.567444)"
      ]
     },
     "execution_count": 60,
     "metadata": {},
     "output_type": "execute_result"
    }
   ],
   "source": [
    "dd3[\"Minsk\"]"
   ]
  },
  {
   "cell_type": "code",
   "execution_count": 61,
   "metadata": {
    "ExecuteTime": {
     "end_time": "2021-01-25T08:15:37.152066Z",
     "start_time": "2021-01-25T08:15:37.149066Z"
    }
   },
   "outputs": [
    {
     "data": {
      "text/plain": [
       "(None, None)"
      ]
     },
     "execution_count": 61,
     "metadata": {},
     "output_type": "execute_result"
    }
   ],
   "source": [
    "dd3[\"Moscow\"]"
   ]
  },
  {
   "cell_type": "code",
   "execution_count": null,
   "metadata": {},
   "outputs": [],
   "source": []
  },
  {
   "cell_type": "markdown",
   "metadata": {},
   "source": [
    "## namedtuple\n",
    "\n",
    "`collections.namedtuple(typename, field_names, *, rename=False, defaults=None, module=None)`"
   ]
  },
  {
   "cell_type": "code",
   "execution_count": 62,
   "metadata": {
    "ExecuteTime": {
     "end_time": "2021-01-25T08:16:46.015546Z",
     "start_time": "2021-01-25T08:16:46.013635Z"
    }
   },
   "outputs": [],
   "source": [
    "from collections import namedtuple"
   ]
  },
  {
   "cell_type": "code",
   "execution_count": 63,
   "metadata": {
    "ExecuteTime": {
     "end_time": "2021-01-25T08:17:30.031089Z",
     "start_time": "2021-01-25T08:17:30.028954Z"
    }
   },
   "outputs": [],
   "source": [
    "# Note for namedtupple is ok to use UpperCamelCase\n",
    "\n",
    "Config = namedtuple(\"AwesomeConfig\", [\"user\", \"first_name\", \"last_name\"])"
   ]
  },
  {
   "cell_type": "code",
   "execution_count": null,
   "metadata": {},
   "outputs": [],
   "source": []
  },
  {
   "cell_type": "code",
   "execution_count": 65,
   "metadata": {
    "ExecuteTime": {
     "end_time": "2021-01-25T08:18:25.536742Z",
     "start_time": "2021-01-25T08:18:25.533245Z"
    }
   },
   "outputs": [
    {
     "data": {
      "text/plain": [
       "AwesomeConfig(user='a.anshin', first_name='Andrey', last_name='Anshin')"
      ]
     },
     "execution_count": 65,
     "metadata": {},
     "output_type": "execute_result"
    }
   ],
   "source": [
    "# keyword only\n",
    "conf = Config(first_name=\"Andrey\", last_name=\"Anshin\", user=\"a.anshin\")\n",
    "\n",
    "conf"
   ]
  },
  {
   "cell_type": "code",
   "execution_count": null,
   "metadata": {},
   "outputs": [],
   "source": []
  },
  {
   "cell_type": "code",
   "execution_count": 66,
   "metadata": {
    "ExecuteTime": {
     "end_time": "2021-01-25T08:18:43.823832Z",
     "start_time": "2021-01-25T08:18:43.820796Z"
    }
   },
   "outputs": [
    {
     "data": {
      "text/plain": [
       "AwesomeConfig(user='a.anshin', first_name='Andrey', last_name='Anshin')"
      ]
     },
     "execution_count": 66,
     "metadata": {},
     "output_type": "execute_result"
    }
   ],
   "source": [
    "# positional only\n",
    "conf = Config(\"a.anshin\", \"Andrey\", \"Anshin\")\n",
    "\n",
    "conf"
   ]
  },
  {
   "cell_type": "code",
   "execution_count": 67,
   "metadata": {
    "ExecuteTime": {
     "end_time": "2021-01-25T08:18:52.177825Z",
     "start_time": "2021-01-25T08:18:52.173138Z"
    }
   },
   "outputs": [
    {
     "data": {
      "text/plain": [
       "AwesomeConfig(user='a.anshin', first_name='Andrey', last_name='Anshin')"
      ]
     },
     "execution_count": 67,
     "metadata": {},
     "output_type": "execute_result"
    }
   ],
   "source": [
    "# mixin (positional -> keyword)\n",
    "conf = Config(\"a.anshin\", last_name=\"Anshin\", first_name=\"Andrey\")\n",
    "\n",
    "conf"
   ]
  },
  {
   "cell_type": "code",
   "execution_count": 68,
   "metadata": {
    "ExecuteTime": {
     "end_time": "2021-01-25T08:18:58.576097Z",
     "start_time": "2021-01-25T08:18:58.573367Z"
    }
   },
   "outputs": [
    {
     "ename": "SyntaxError",
     "evalue": "positional argument follows keyword argument (<ipython-input-68-b1783d470e43>, line 2)",
     "output_type": "error",
     "traceback": [
      "\u001b[0;36m  File \u001b[0;32m\"<ipython-input-68-b1783d470e43>\"\u001b[0;36m, line \u001b[0;32m2\u001b[0m\n\u001b[0;31m    Config(\"a.anshin\", first_name=\"Andrey\", \"Anshin\")\u001b[0m\n\u001b[0m                                            ^\u001b[0m\n\u001b[0;31mSyntaxError\u001b[0m\u001b[0;31m:\u001b[0m positional argument follows keyword argument\n"
     ]
    }
   ],
   "source": [
    "# mixin (wrong raises error)\n",
    "Config(\"a.anshin\", first_name=\"Andrey\", \"Anshin\")"
   ]
  },
  {
   "cell_type": "code",
   "execution_count": 69,
   "metadata": {
    "ExecuteTime": {
     "end_time": "2021-01-25T08:19:10.383791Z",
     "start_time": "2021-01-25T08:19:10.380996Z"
    }
   },
   "outputs": [
    {
     "data": {
      "text/plain": [
       "type"
      ]
     },
     "execution_count": 69,
     "metadata": {},
     "output_type": "execute_result"
    }
   ],
   "source": [
    "type(Config)  # It is class, not class instance"
   ]
  },
  {
   "cell_type": "code",
   "execution_count": 70,
   "metadata": {
    "ExecuteTime": {
     "end_time": "2021-01-25T08:19:13.040827Z",
     "start_time": "2021-01-25T08:19:13.037628Z"
    }
   },
   "outputs": [
    {
     "data": {
      "text/plain": [
       "__main__.AwesomeConfig"
      ]
     },
     "execution_count": 70,
     "metadata": {},
     "output_type": "execute_result"
    }
   ],
   "source": [
    "type(conf)  # Class Instance (Object) "
   ]
  },
  {
   "cell_type": "code",
   "execution_count": 71,
   "metadata": {
    "ExecuteTime": {
     "end_time": "2021-01-25T08:19:37.152948Z",
     "start_time": "2021-01-25T08:19:37.149159Z"
    }
   },
   "outputs": [
    {
     "data": {
      "text/plain": [
       "'a.anshin'"
      ]
     },
     "execution_count": 71,
     "metadata": {},
     "output_type": "execute_result"
    }
   ],
   "source": [
    "conf.user"
   ]
  },
  {
   "cell_type": "code",
   "execution_count": 72,
   "metadata": {
    "ExecuteTime": {
     "end_time": "2021-01-25T08:19:39.266416Z",
     "start_time": "2021-01-25T08:19:39.262814Z"
    }
   },
   "outputs": [
    {
     "data": {
      "text/plain": [
       "'Anshin'"
      ]
     },
     "execution_count": 72,
     "metadata": {},
     "output_type": "execute_result"
    }
   ],
   "source": [
    "conf.last_name"
   ]
  },
  {
   "cell_type": "code",
   "execution_count": null,
   "metadata": {},
   "outputs": [],
   "source": []
  },
  {
   "cell_type": "code",
   "execution_count": 73,
   "metadata": {
    "ExecuteTime": {
     "end_time": "2021-01-25T08:20:10.626440Z",
     "start_time": "2021-01-25T08:20:10.620934Z"
    }
   },
   "outputs": [
    {
     "name": "stdout",
     "output_type": "stream",
     "text": [
      "Help on class AwesomeConfig in module __main__:\n",
      "\n",
      "class AwesomeConfig(builtins.tuple)\n",
      " |  AwesomeConfig(user, first_name, last_name)\n",
      " |  \n",
      " |  AwesomeConfig(user, first_name, last_name)\n",
      " |  \n",
      " |  Method resolution order:\n",
      " |      AwesomeConfig\n",
      " |      builtins.tuple\n",
      " |      builtins.object\n",
      " |  \n",
      " |  Methods defined here:\n",
      " |  \n",
      " |  __getnewargs__(self)\n",
      " |      Return self as a plain tuple.  Used by copy and pickle.\n",
      " |  \n",
      " |  __repr__(self)\n",
      " |      Return a nicely formatted representation string\n",
      " |  \n",
      " |  _asdict(self)\n",
      " |      Return a new dict which maps field names to their values.\n",
      " |  \n",
      " |  _replace(self, /, **kwds)\n",
      " |      Return a new AwesomeConfig object replacing specified fields with new values\n",
      " |  \n",
      " |  ----------------------------------------------------------------------\n",
      " |  Class methods defined here:\n",
      " |  \n",
      " |  _make(iterable) from builtins.type\n",
      " |      Make a new AwesomeConfig object from a sequence or iterable\n",
      " |  \n",
      " |  ----------------------------------------------------------------------\n",
      " |  Static methods defined here:\n",
      " |  \n",
      " |  __new__(_cls, user, first_name, last_name)\n",
      " |      Create new instance of AwesomeConfig(user, first_name, last_name)\n",
      " |  \n",
      " |  ----------------------------------------------------------------------\n",
      " |  Data descriptors defined here:\n",
      " |  \n",
      " |  user\n",
      " |      Alias for field number 0\n",
      " |  \n",
      " |  first_name\n",
      " |      Alias for field number 1\n",
      " |  \n",
      " |  last_name\n",
      " |      Alias for field number 2\n",
      " |  \n",
      " |  ----------------------------------------------------------------------\n",
      " |  Data and other attributes defined here:\n",
      " |  \n",
      " |  _field_defaults = {}\n",
      " |  \n",
      " |  _fields = ('user', 'first_name', 'last_name')\n",
      " |  \n",
      " |  _fields_defaults = {}\n",
      " |  \n",
      " |  ----------------------------------------------------------------------\n",
      " |  Methods inherited from builtins.tuple:\n",
      " |  \n",
      " |  __add__(self, value, /)\n",
      " |      Return self+value.\n",
      " |  \n",
      " |  __contains__(self, key, /)\n",
      " |      Return key in self.\n",
      " |  \n",
      " |  __eq__(self, value, /)\n",
      " |      Return self==value.\n",
      " |  \n",
      " |  __ge__(self, value, /)\n",
      " |      Return self>=value.\n",
      " |  \n",
      " |  __getattribute__(self, name, /)\n",
      " |      Return getattr(self, name).\n",
      " |  \n",
      " |  __getitem__(self, key, /)\n",
      " |      Return self[key].\n",
      " |  \n",
      " |  __gt__(self, value, /)\n",
      " |      Return self>value.\n",
      " |  \n",
      " |  __hash__(self, /)\n",
      " |      Return hash(self).\n",
      " |  \n",
      " |  __iter__(self, /)\n",
      " |      Implement iter(self).\n",
      " |  \n",
      " |  __le__(self, value, /)\n",
      " |      Return self<=value.\n",
      " |  \n",
      " |  __len__(self, /)\n",
      " |      Return len(self).\n",
      " |  \n",
      " |  __lt__(self, value, /)\n",
      " |      Return self<value.\n",
      " |  \n",
      " |  __mul__(self, value, /)\n",
      " |      Return self*value.\n",
      " |  \n",
      " |  __ne__(self, value, /)\n",
      " |      Return self!=value.\n",
      " |  \n",
      " |  __rmul__(self, value, /)\n",
      " |      Return value*self.\n",
      " |  \n",
      " |  count(self, value, /)\n",
      " |      Return number of occurrences of value.\n",
      " |  \n",
      " |  index(self, value, start=0, stop=9223372036854775807, /)\n",
      " |      Return first index of value.\n",
      " |      \n",
      " |      Raises ValueError if the value is not present.\n",
      "\n"
     ]
    }
   ],
   "source": [
    "help(Config)"
   ]
  },
  {
   "cell_type": "code",
   "execution_count": 74,
   "metadata": {
    "ExecuteTime": {
     "end_time": "2021-01-25T08:20:59.809129Z",
     "start_time": "2021-01-25T08:20:59.805923Z"
    }
   },
   "outputs": [
    {
     "data": {
      "text/plain": [
       "{'user': 'a.anshin', 'first_name': 'Andrey', 'last_name': 'Anshin'}"
      ]
     },
     "execution_count": 74,
     "metadata": {},
     "output_type": "execute_result"
    }
   ],
   "source": [
    "conf._asdict()"
   ]
  },
  {
   "cell_type": "code",
   "execution_count": null,
   "metadata": {},
   "outputs": [],
   "source": []
  },
  {
   "cell_type": "code",
   "execution_count": null,
   "metadata": {},
   "outputs": [],
   "source": []
  },
  {
   "cell_type": "code",
   "execution_count": 75,
   "metadata": {
    "ExecuteTime": {
     "end_time": "2021-01-25T08:22:49.712225Z",
     "start_time": "2021-01-25T08:22:49.709556Z"
    }
   },
   "outputs": [],
   "source": [
    "Config2 = namedtuple(\n",
    "    \"AwesomeConfig\", \n",
    "    [\"user\", \"first_name\", \"last_name\", \"company\"],\n",
    "    defaults=[\"lastNamePlaceHolder\", \"GodelTech\"]\n",
    ")"
   ]
  },
  {
   "cell_type": "code",
   "execution_count": 76,
   "metadata": {
    "ExecuteTime": {
     "end_time": "2021-01-25T08:22:57.331866Z",
     "start_time": "2021-01-25T08:22:57.325502Z"
    },
    "scrolled": true
   },
   "outputs": [
    {
     "name": "stdout",
     "output_type": "stream",
     "text": [
      "Help on class AwesomeConfig in module __main__:\n",
      "\n",
      "class AwesomeConfig(builtins.tuple)\n",
      " |  AwesomeConfig(user, first_name, last_name='lastNamePlaceHolder', company='GodelTech')\n",
      " |  \n",
      " |  AwesomeConfig(user, first_name, last_name, company)\n",
      " |  \n",
      " |  Method resolution order:\n",
      " |      AwesomeConfig\n",
      " |      builtins.tuple\n",
      " |      builtins.object\n",
      " |  \n",
      " |  Methods defined here:\n",
      " |  \n",
      " |  __getnewargs__(self)\n",
      " |      Return self as a plain tuple.  Used by copy and pickle.\n",
      " |  \n",
      " |  __repr__(self)\n",
      " |      Return a nicely formatted representation string\n",
      " |  \n",
      " |  _asdict(self)\n",
      " |      Return a new dict which maps field names to their values.\n",
      " |  \n",
      " |  _replace(self, /, **kwds)\n",
      " |      Return a new AwesomeConfig object replacing specified fields with new values\n",
      " |  \n",
      " |  ----------------------------------------------------------------------\n",
      " |  Class methods defined here:\n",
      " |  \n",
      " |  _make(iterable) from builtins.type\n",
      " |      Make a new AwesomeConfig object from a sequence or iterable\n",
      " |  \n",
      " |  ----------------------------------------------------------------------\n",
      " |  Static methods defined here:\n",
      " |  \n",
      " |  __new__(_cls, user, first_name, last_name='lastNamePlaceHolder', company='GodelTech')\n",
      " |      Create new instance of AwesomeConfig(user, first_name, last_name, company)\n",
      " |  \n",
      " |  ----------------------------------------------------------------------\n",
      " |  Data descriptors defined here:\n",
      " |  \n",
      " |  user\n",
      " |      Alias for field number 0\n",
      " |  \n",
      " |  first_name\n",
      " |      Alias for field number 1\n",
      " |  \n",
      " |  last_name\n",
      " |      Alias for field number 2\n",
      " |  \n",
      " |  company\n",
      " |      Alias for field number 3\n",
      " |  \n",
      " |  ----------------------------------------------------------------------\n",
      " |  Data and other attributes defined here:\n",
      " |  \n",
      " |  _field_defaults = {'company': 'GodelTech', 'last_name': 'lastNamePlace...\n",
      " |  \n",
      " |  _fields = ('user', 'first_name', 'last_name', 'company')\n",
      " |  \n",
      " |  _fields_defaults = {'company': 'GodelTech', 'last_name': 'lastNamePlac...\n",
      " |  \n",
      " |  ----------------------------------------------------------------------\n",
      " |  Methods inherited from builtins.tuple:\n",
      " |  \n",
      " |  __add__(self, value, /)\n",
      " |      Return self+value.\n",
      " |  \n",
      " |  __contains__(self, key, /)\n",
      " |      Return key in self.\n",
      " |  \n",
      " |  __eq__(self, value, /)\n",
      " |      Return self==value.\n",
      " |  \n",
      " |  __ge__(self, value, /)\n",
      " |      Return self>=value.\n",
      " |  \n",
      " |  __getattribute__(self, name, /)\n",
      " |      Return getattr(self, name).\n",
      " |  \n",
      " |  __getitem__(self, key, /)\n",
      " |      Return self[key].\n",
      " |  \n",
      " |  __gt__(self, value, /)\n",
      " |      Return self>value.\n",
      " |  \n",
      " |  __hash__(self, /)\n",
      " |      Return hash(self).\n",
      " |  \n",
      " |  __iter__(self, /)\n",
      " |      Implement iter(self).\n",
      " |  \n",
      " |  __le__(self, value, /)\n",
      " |      Return self<=value.\n",
      " |  \n",
      " |  __len__(self, /)\n",
      " |      Return len(self).\n",
      " |  \n",
      " |  __lt__(self, value, /)\n",
      " |      Return self<value.\n",
      " |  \n",
      " |  __mul__(self, value, /)\n",
      " |      Return self*value.\n",
      " |  \n",
      " |  __ne__(self, value, /)\n",
      " |      Return self!=value.\n",
      " |  \n",
      " |  __rmul__(self, value, /)\n",
      " |      Return value*self.\n",
      " |  \n",
      " |  count(self, value, /)\n",
      " |      Return number of occurrences of value.\n",
      " |  \n",
      " |  index(self, value, start=0, stop=9223372036854775807, /)\n",
      " |      Return first index of value.\n",
      " |      \n",
      " |      Raises ValueError if the value is not present.\n",
      "\n"
     ]
    }
   ],
   "source": [
    "help(Config2)"
   ]
  },
  {
   "cell_type": "code",
   "execution_count": null,
   "metadata": {},
   "outputs": [],
   "source": []
  },
  {
   "cell_type": "code",
   "execution_count": 77,
   "metadata": {
    "ExecuteTime": {
     "end_time": "2021-01-25T08:23:31.841252Z",
     "start_time": "2021-01-25T08:23:31.837276Z"
    }
   },
   "outputs": [
    {
     "data": {
      "text/plain": [
       "AwesomeConfig(user='a.anshin', first_name='Andrey', last_name='Anshin', company='GodelTech')"
      ]
     },
     "execution_count": 77,
     "metadata": {},
     "output_type": "execute_result"
    }
   ],
   "source": [
    "conf = Config2(\"a.anshin\", \"Andrey\", \"Anshin\")\n",
    "conf"
   ]
  },
  {
   "cell_type": "code",
   "execution_count": 78,
   "metadata": {
    "ExecuteTime": {
     "end_time": "2021-01-25T08:23:56.512447Z",
     "start_time": "2021-01-25T08:23:56.509349Z"
    }
   },
   "outputs": [
    {
     "data": {
      "text/plain": [
       "'GodelTech'"
      ]
     },
     "execution_count": 78,
     "metadata": {},
     "output_type": "execute_result"
    }
   ],
   "source": [
    "conf.company"
   ]
  },
  {
   "cell_type": "code",
   "execution_count": null,
   "metadata": {},
   "outputs": [],
   "source": []
  },
  {
   "cell_type": "code",
   "execution_count": null,
   "metadata": {},
   "outputs": [],
   "source": []
  },
  {
   "cell_type": "code",
   "execution_count": null,
   "metadata": {},
   "outputs": [],
   "source": []
  },
  {
   "cell_type": "markdown",
   "metadata": {},
   "source": [
    "### keyword — Testing for Python keywords\n",
    "\n",
    "https://docs.python.org/3/library/keyword.html#module-keyword\n"
   ]
  },
  {
   "cell_type": "code",
   "execution_count": null,
   "metadata": {},
   "outputs": [],
   "source": [
    "from keyword import kwlist\n",
    "\n",
    "print(kwlist)"
   ]
  },
  {
   "cell_type": "code",
   "execution_count": 79,
   "metadata": {
    "ExecuteTime": {
     "end_time": "2021-01-25T08:24:44.837226Z",
     "start_time": "2021-01-25T08:24:44.831131Z"
    }
   },
   "outputs": [
    {
     "ename": "ValueError",
     "evalue": "Type names and field names cannot be a keyword: 'from'",
     "output_type": "error",
     "traceback": [
      "\u001b[0;31m---------------------------------------------------------------------------\u001b[0m",
      "\u001b[0;31mValueError\u001b[0m                                Traceback (most recent call last)",
      "\u001b[0;32m<ipython-input-79-123c03ecf168>\u001b[0m in \u001b[0;36m<module>\u001b[0;34m\u001b[0m\n\u001b[0;32m----> 1\u001b[0;31m \u001b[0mConfig3\u001b[0m \u001b[0;34m=\u001b[0m \u001b[0mnamedtuple\u001b[0m\u001b[0;34m(\u001b[0m\u001b[0;34m\"AwesomeConfig\"\u001b[0m\u001b[0;34m,\u001b[0m \u001b[0;34m[\u001b[0m\u001b[0;34m\"user\"\u001b[0m\u001b[0;34m,\u001b[0m \u001b[0;34m\"first_name\"\u001b[0m\u001b[0;34m,\u001b[0m \u001b[0;34m\"last_name\"\u001b[0m\u001b[0;34m,\u001b[0m \u001b[0;34m\"from\"\u001b[0m\u001b[0;34m]\u001b[0m\u001b[0;34m)\u001b[0m\u001b[0;34m\u001b[0m\u001b[0;34m\u001b[0m\u001b[0m\n\u001b[0m",
      "\u001b[0;32m/usr/lib/python3.8/collections/__init__.py\u001b[0m in \u001b[0;36mnamedtuple\u001b[0;34m(typename, field_names, rename, defaults, module)\u001b[0m\n\u001b[1;32m    359\u001b[0m                              f'identifiers: {name!r}')\n\u001b[1;32m    360\u001b[0m         \u001b[0;32mif\u001b[0m \u001b[0m_iskeyword\u001b[0m\u001b[0;34m(\u001b[0m\u001b[0mname\u001b[0m\u001b[0;34m)\u001b[0m\u001b[0;34m:\u001b[0m\u001b[0;34m\u001b[0m\u001b[0;34m\u001b[0m\u001b[0m\n\u001b[0;32m--> 361\u001b[0;31m             raise ValueError('Type names and field names cannot be a '\n\u001b[0m\u001b[1;32m    362\u001b[0m                              f'keyword: {name!r}')\n\u001b[1;32m    363\u001b[0m \u001b[0;34m\u001b[0m\u001b[0m\n",
      "\u001b[0;31mValueError\u001b[0m: Type names and field names cannot be a keyword: 'from'"
     ]
    }
   ],
   "source": [
    "Config3 = namedtuple(\"AwesomeConfig\", [\"user\", \"first_name\", \"last_name\", \"from\"])"
   ]
  },
  {
   "cell_type": "code",
   "execution_count": 80,
   "metadata": {
    "ExecuteTime": {
     "end_time": "2021-01-25T08:25:15.888712Z",
     "start_time": "2021-01-25T08:25:15.885844Z"
    }
   },
   "outputs": [],
   "source": [
    "Config3 = namedtuple(\"AwesomeConfig\", [\"user\", \"first_name\", \"last_name\", \"from\"], rename=True)"
   ]
  },
  {
   "cell_type": "code",
   "execution_count": 82,
   "metadata": {
    "ExecuteTime": {
     "end_time": "2021-01-25T08:25:32.884701Z",
     "start_time": "2021-01-25T08:25:32.878723Z"
    }
   },
   "outputs": [
    {
     "name": "stdout",
     "output_type": "stream",
     "text": [
      "Help on class AwesomeConfig in module __main__:\n",
      "\n",
      "class AwesomeConfig(builtins.tuple)\n",
      " |  AwesomeConfig(user, first_name, last_name, _3)\n",
      " |  \n",
      " |  AwesomeConfig(user, first_name, last_name, _3)\n",
      " |  \n",
      " |  Method resolution order:\n",
      " |      AwesomeConfig\n",
      " |      builtins.tuple\n",
      " |      builtins.object\n",
      " |  \n",
      " |  Methods defined here:\n",
      " |  \n",
      " |  __getnewargs__(self)\n",
      " |      Return self as a plain tuple.  Used by copy and pickle.\n",
      " |  \n",
      " |  __repr__(self)\n",
      " |      Return a nicely formatted representation string\n",
      " |  \n",
      " |  _asdict(self)\n",
      " |      Return a new dict which maps field names to their values.\n",
      " |  \n",
      " |  _replace(self, /, **kwds)\n",
      " |      Return a new AwesomeConfig object replacing specified fields with new values\n",
      " |  \n",
      " |  ----------------------------------------------------------------------\n",
      " |  Class methods defined here:\n",
      " |  \n",
      " |  _make(iterable) from builtins.type\n",
      " |      Make a new AwesomeConfig object from a sequence or iterable\n",
      " |  \n",
      " |  ----------------------------------------------------------------------\n",
      " |  Static methods defined here:\n",
      " |  \n",
      " |  __new__(_cls, user, first_name, last_name, _3)\n",
      " |      Create new instance of AwesomeConfig(user, first_name, last_name, _3)\n",
      " |  \n",
      " |  ----------------------------------------------------------------------\n",
      " |  Data descriptors defined here:\n",
      " |  \n",
      " |  user\n",
      " |      Alias for field number 0\n",
      " |  \n",
      " |  first_name\n",
      " |      Alias for field number 1\n",
      " |  \n",
      " |  last_name\n",
      " |      Alias for field number 2\n",
      " |  \n",
      " |  _3\n",
      " |      Alias for field number 3\n",
      " |  \n",
      " |  ----------------------------------------------------------------------\n",
      " |  Data and other attributes defined here:\n",
      " |  \n",
      " |  _field_defaults = {}\n",
      " |  \n",
      " |  _fields = ('user', 'first_name', 'last_name', '_3')\n",
      " |  \n",
      " |  _fields_defaults = {}\n",
      " |  \n",
      " |  ----------------------------------------------------------------------\n",
      " |  Methods inherited from builtins.tuple:\n",
      " |  \n",
      " |  __add__(self, value, /)\n",
      " |      Return self+value.\n",
      " |  \n",
      " |  __contains__(self, key, /)\n",
      " |      Return key in self.\n",
      " |  \n",
      " |  __eq__(self, value, /)\n",
      " |      Return self==value.\n",
      " |  \n",
      " |  __ge__(self, value, /)\n",
      " |      Return self>=value.\n",
      " |  \n",
      " |  __getattribute__(self, name, /)\n",
      " |      Return getattr(self, name).\n",
      " |  \n",
      " |  __getitem__(self, key, /)\n",
      " |      Return self[key].\n",
      " |  \n",
      " |  __gt__(self, value, /)\n",
      " |      Return self>value.\n",
      " |  \n",
      " |  __hash__(self, /)\n",
      " |      Return hash(self).\n",
      " |  \n",
      " |  __iter__(self, /)\n",
      " |      Implement iter(self).\n",
      " |  \n",
      " |  __le__(self, value, /)\n",
      " |      Return self<=value.\n",
      " |  \n",
      " |  __len__(self, /)\n",
      " |      Return len(self).\n",
      " |  \n",
      " |  __lt__(self, value, /)\n",
      " |      Return self<value.\n",
      " |  \n",
      " |  __mul__(self, value, /)\n",
      " |      Return self*value.\n",
      " |  \n",
      " |  __ne__(self, value, /)\n",
      " |      Return self!=value.\n",
      " |  \n",
      " |  __rmul__(self, value, /)\n",
      " |      Return value*self.\n",
      " |  \n",
      " |  count(self, value, /)\n",
      " |      Return number of occurrences of value.\n",
      " |  \n",
      " |  index(self, value, start=0, stop=9223372036854775807, /)\n",
      " |      Return first index of value.\n",
      " |      \n",
      " |      Raises ValueError if the value is not present.\n",
      "\n"
     ]
    }
   ],
   "source": [
    "help(Config3)"
   ]
  },
  {
   "cell_type": "code",
   "execution_count": null,
   "metadata": {},
   "outputs": [],
   "source": []
  },
  {
   "cell_type": "code",
   "execution_count": null,
   "metadata": {},
   "outputs": [],
   "source": []
  },
  {
   "cell_type": "markdown",
   "metadata": {},
   "source": [
    "### Annotaitions for namedtuple\n",
    "\n",
    "https://docs.python.org/3/library/typing.html#typing.NamedTuple"
   ]
  },
  {
   "cell_type": "code",
   "execution_count": null,
   "metadata": {},
   "outputs": [],
   "source": []
  },
  {
   "cell_type": "code",
   "execution_count": 85,
   "metadata": {
    "ExecuteTime": {
     "end_time": "2021-01-25T08:27:27.523496Z",
     "start_time": "2021-01-25T08:27:27.519016Z"
    }
   },
   "outputs": [
    {
     "data": {
      "text/plain": [
       "Config4(user='a.anshin', first_name='Andrey', last_name='Anshin', company='GodelTech')"
      ]
     },
     "execution_count": 85,
     "metadata": {},
     "output_type": "execute_result"
    }
   ],
   "source": [
    "from typing import NamedTuple\n",
    "\n",
    "\n",
    "class Config4(NamedTuple):\n",
    "    user: str\n",
    "    first_name: str\n",
    "    last_name: str\n",
    "    company: str = 'GodelTech'\n",
    "\n",
    "\n",
    "conf = Config4(user='a.anshin', first_name='Andrey', last_name='Anshin')\n",
    "\n",
    "conf"
   ]
  },
  {
   "cell_type": "code",
   "execution_count": 86,
   "metadata": {
    "ExecuteTime": {
     "end_time": "2021-01-25T08:27:33.026001Z",
     "start_time": "2021-01-25T08:27:33.022135Z"
    },
    "scrolled": true
   },
   "outputs": [
    {
     "name": "stdout",
     "output_type": "stream",
     "text": [
      "Help on class NamedTuple in module typing:\n",
      "\n",
      "class NamedTuple(builtins.object)\n",
      " |  NamedTuple(typename, fields=None, /, **kwargs)\n",
      " |  \n",
      " |  Typed version of namedtuple.\n",
      " |  \n",
      " |  Usage in Python versions >= 3.6::\n",
      " |  \n",
      " |      class Employee(NamedTuple):\n",
      " |          name: str\n",
      " |          id: int\n",
      " |  \n",
      " |  This is equivalent to::\n",
      " |  \n",
      " |      Employee = collections.namedtuple('Employee', ['name', 'id'])\n",
      " |  \n",
      " |  The resulting class has an extra __annotations__ attribute, giving a\n",
      " |  dict that maps field names to types.  (The field names are also in\n",
      " |  the _fields attribute, which is part of the namedtuple API.)\n",
      " |  Alternative equivalent keyword syntax is also accepted::\n",
      " |  \n",
      " |      Employee = NamedTuple('Employee', name=str, id=int)\n",
      " |  \n",
      " |  In Python versions <= 3.5 use::\n",
      " |  \n",
      " |      Employee = NamedTuple('Employee', [('name', str), ('id', int)])\n",
      " |  \n",
      " |  Static methods defined here:\n",
      " |  \n",
      " |  __new__(cls, typename, fields=None, /, **kwargs)\n",
      " |      Create and return a new object.  See help(type) for accurate signature.\n",
      " |  \n",
      " |  ----------------------------------------------------------------------\n",
      " |  Data descriptors defined here:\n",
      " |  \n",
      " |  __dict__\n",
      " |      dictionary for instance variables (if defined)\n",
      " |  \n",
      " |  __weakref__\n",
      " |      list of weak references to the object (if defined)\n",
      "\n"
     ]
    }
   ],
   "source": [
    "help(NamedTuple)"
   ]
  },
  {
   "cell_type": "code",
   "execution_count": null,
   "metadata": {},
   "outputs": [],
   "source": []
  }
 ],
 "metadata": {
  "kernelspec": {
   "display_name": "Python 3",
   "language": "python",
   "name": "python3"
  },
  "language_info": {
   "codemirror_mode": {
    "name": "ipython",
    "version": 3
   },
   "file_extension": ".py",
   "mimetype": "text/x-python",
   "name": "python",
   "nbconvert_exporter": "python",
   "pygments_lexer": "ipython3",
   "version": "3.8.5"
  }
 },
 "nbformat": 4,
 "nbformat_minor": 5
}

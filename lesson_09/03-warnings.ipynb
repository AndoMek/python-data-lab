{
 "cells": [
  {
   "cell_type": "markdown",
   "metadata": {},
   "source": [
    "# [warnings](https://docs.python.org/3/library/warnings.html) — Warning control\n"
   ]
  },
  {
   "cell_type": "code",
   "execution_count": null,
   "metadata": {},
   "outputs": [],
   "source": []
  },
  {
   "cell_type": "markdown",
   "metadata": {
    "ExecuteTime": {
     "end_time": "2021-01-31T19:59:28.819201Z",
     "start_time": "2021-01-31T19:59:28.792476Z"
    }
   },
   "source": [
    "## Python build-in warnings\n",
    "\n",
    "```\n",
    "BaseException\n",
    " +-- Exception\n",
    "       +-- Warning\n",
    "           +-- DeprecationWarning\n",
    "           +-- PendingDeprecationWarning\n",
    "           +-- RuntimeWarning\n",
    "           +-- SyntaxWarning\n",
    "           +-- UserWarning\n",
    "           +-- FutureWarning\n",
    "           +-- ImportWarning\n",
    "           +-- UnicodeWarning\n",
    "           +-- BytesWarning\n",
    "           +-- ResourceWarning\n",
    "```"
   ]
  },
  {
   "cell_type": "code",
   "execution_count": null,
   "metadata": {},
   "outputs": [],
   "source": []
  },
  {
   "cell_type": "code",
   "execution_count": 1,
   "metadata": {
    "ExecuteTime": {
     "end_time": "2021-02-01T08:53:15.367490Z",
     "start_time": "2021-02-01T08:53:15.364397Z"
    }
   },
   "outputs": [],
   "source": [
    "def awesome_function(kw_1=1, kw_2=2):\n",
    "    # awesome_function ver 0.0.1\n",
    "    print(f\"{kw_1 = }, {kw_2 = }\")"
   ]
  },
  {
   "cell_type": "code",
   "execution_count": 2,
   "metadata": {
    "ExecuteTime": {
     "end_time": "2021-02-01T08:53:17.086480Z",
     "start_time": "2021-02-01T08:53:17.083671Z"
    }
   },
   "outputs": [
    {
     "name": "stdout",
     "output_type": "stream",
     "text": [
      "kw_1 = 1, kw_2 = 2\n"
     ]
    }
   ],
   "source": [
    "awesome_function()"
   ]
  },
  {
   "cell_type": "code",
   "execution_count": 3,
   "metadata": {
    "ExecuteTime": {
     "end_time": "2021-02-01T08:53:20.092736Z",
     "start_time": "2021-02-01T08:53:20.090209Z"
    }
   },
   "outputs": [
    {
     "name": "stdout",
     "output_type": "stream",
     "text": [
      "kw_1 = 100, kw_2 = 200\n"
     ]
    }
   ],
   "source": [
    "awesome_function(kw_1=100, kw_2=200)"
   ]
  },
  {
   "cell_type": "code",
   "execution_count": null,
   "metadata": {},
   "outputs": [],
   "source": []
  },
  {
   "cell_type": "code",
   "execution_count": 4,
   "metadata": {
    "ExecuteTime": {
     "end_time": "2021-02-01T08:55:02.269763Z",
     "start_time": "2021-02-01T08:55:02.267444Z"
    }
   },
   "outputs": [],
   "source": [
    "def awesome_function(kw_1=1, kw_2=None, kw_3=None):\n",
    "    # awesome_function ver 1.0.0\n",
    "    if not kw_3 and kw_2:\n",
    "        raise DeprecationWarning(\"'kw_2' is depricated and will remove in future releases use 'kw_3'\")\n",
    "        kw_3 = kw_2\n",
    "    kw_3 = kw_3 or 2\n",
    "\n",
    "    print(f\"{kw_1 = }, {kw_3 = }\")"
   ]
  },
  {
   "cell_type": "code",
   "execution_count": 5,
   "metadata": {
    "ExecuteTime": {
     "end_time": "2021-02-01T08:55:04.350429Z",
     "start_time": "2021-02-01T08:55:04.347677Z"
    }
   },
   "outputs": [
    {
     "name": "stdout",
     "output_type": "stream",
     "text": [
      "kw_1 = 1, kw_3 = 2\n"
     ]
    }
   ],
   "source": [
    "awesome_function()"
   ]
  },
  {
   "cell_type": "code",
   "execution_count": 6,
   "metadata": {
    "ExecuteTime": {
     "end_time": "2021-02-01T08:55:18.189390Z",
     "start_time": "2021-02-01T08:55:18.186507Z"
    }
   },
   "outputs": [
    {
     "name": "stdout",
     "output_type": "stream",
     "text": [
      "kw_1 = 1, kw_3 = 100000000000000000000000000000000000000000000000000000000000000000000000000000000000000000000000000000000000000000000000000000000000000000000000000000000000000000000000000000000000000000000000000000000\n"
     ]
    }
   ],
   "source": [
    "awesome_function(kw_3 = 100**100)"
   ]
  },
  {
   "cell_type": "code",
   "execution_count": 7,
   "metadata": {
    "ExecuteTime": {
     "end_time": "2021-02-01T08:55:36.859550Z",
     "start_time": "2021-02-01T08:55:36.826597Z"
    }
   },
   "outputs": [
    {
     "ename": "DeprecationWarning",
     "evalue": "'kw_2' is depricated and will remove in future releases use 'kw_3'",
     "output_type": "error",
     "traceback": [
      "\u001b[0;31m---------------------------------------------------------------------------\u001b[0m",
      "\u001b[0;31mDeprecationWarning\u001b[0m                        Traceback (most recent call last)",
      "\u001b[0;32m<ipython-input-7-1a31b7cefa60>\u001b[0m in \u001b[0;36m<module>\u001b[0;34m\u001b[0m\n\u001b[1;32m      1\u001b[0m \u001b[0;31m# Old usage\u001b[0m\u001b[0;34m\u001b[0m\u001b[0;34m\u001b[0m\u001b[0;34m\u001b[0m\u001b[0m\n\u001b[0;32m----> 2\u001b[0;31m \u001b[0mawesome_function\u001b[0m\u001b[0;34m(\u001b[0m\u001b[0mkw_1\u001b[0m\u001b[0;34m=\u001b[0m\u001b[0;36m100\u001b[0m\u001b[0;34m,\u001b[0m \u001b[0mkw_2\u001b[0m\u001b[0;34m=\u001b[0m\u001b[0;36m200\u001b[0m\u001b[0;34m)\u001b[0m\u001b[0;34m\u001b[0m\u001b[0;34m\u001b[0m\u001b[0m\n\u001b[0m",
      "\u001b[0;32m<ipython-input-4-e6d846330a76>\u001b[0m in \u001b[0;36mawesome_function\u001b[0;34m(kw_1, kw_2, kw_3)\u001b[0m\n\u001b[1;32m      2\u001b[0m     \u001b[0;31m# awesome_function ver 1.0.0\u001b[0m\u001b[0;34m\u001b[0m\u001b[0;34m\u001b[0m\u001b[0;34m\u001b[0m\u001b[0m\n\u001b[1;32m      3\u001b[0m     \u001b[0;32mif\u001b[0m \u001b[0;32mnot\u001b[0m \u001b[0mkw_3\u001b[0m \u001b[0;32mand\u001b[0m \u001b[0mkw_2\u001b[0m\u001b[0;34m:\u001b[0m\u001b[0;34m\u001b[0m\u001b[0;34m\u001b[0m\u001b[0m\n\u001b[0;32m----> 4\u001b[0;31m         \u001b[0;32mraise\u001b[0m \u001b[0mDeprecationWarning\u001b[0m\u001b[0;34m(\u001b[0m\u001b[0;34m\"'kw_2' is depricated and will remove in future releases use 'kw_3'\"\u001b[0m\u001b[0;34m)\u001b[0m\u001b[0;34m\u001b[0m\u001b[0;34m\u001b[0m\u001b[0m\n\u001b[0m\u001b[1;32m      5\u001b[0m         \u001b[0mkw_3\u001b[0m \u001b[0;34m=\u001b[0m \u001b[0mkw_2\u001b[0m\u001b[0;34m\u001b[0m\u001b[0;34m\u001b[0m\u001b[0m\n\u001b[1;32m      6\u001b[0m     \u001b[0mkw_3\u001b[0m \u001b[0;34m=\u001b[0m \u001b[0mkw_3\u001b[0m \u001b[0;32mor\u001b[0m \u001b[0;36m2\u001b[0m\u001b[0;34m\u001b[0m\u001b[0;34m\u001b[0m\u001b[0m\n",
      "\u001b[0;31mDeprecationWarning\u001b[0m: 'kw_2' is depricated and will remove in future releases use 'kw_3'"
     ]
    }
   ],
   "source": [
    "# Old usage\n",
    "awesome_function(kw_1=100, kw_2=200)"
   ]
  },
  {
   "cell_type": "code",
   "execution_count": null,
   "metadata": {},
   "outputs": [],
   "source": []
  },
  {
   "cell_type": "code",
   "execution_count": 8,
   "metadata": {
    "ExecuteTime": {
     "end_time": "2021-02-01T08:56:09.004475Z",
     "start_time": "2021-02-01T08:56:09.002436Z"
    }
   },
   "outputs": [],
   "source": [
    "import warnings"
   ]
  },
  {
   "cell_type": "code",
   "execution_count": 9,
   "metadata": {
    "ExecuteTime": {
     "end_time": "2021-02-01T08:56:16.398133Z",
     "start_time": "2021-02-01T08:56:16.395123Z"
    }
   },
   "outputs": [
    {
     "name": "stdout",
     "output_type": "stream",
     "text": [
      "Help on built-in function warn in module _warnings:\n",
      "\n",
      "warn(message, category=None, stacklevel=1, source=None)\n",
      "    Issue a warning, or maybe ignore it or raise an exception.\n",
      "\n"
     ]
    }
   ],
   "source": [
    "help(warnings.warn)"
   ]
  },
  {
   "cell_type": "code",
   "execution_count": null,
   "metadata": {},
   "outputs": [],
   "source": []
  },
  {
   "cell_type": "code",
   "execution_count": null,
   "metadata": {},
   "outputs": [],
   "source": []
  },
  {
   "cell_type": "code",
   "execution_count": 22,
   "metadata": {
    "ExecuteTime": {
     "end_time": "2021-02-01T08:59:55.324116Z",
     "start_time": "2021-02-01T08:59:55.321912Z"
    }
   },
   "outputs": [],
   "source": [
    "def awesome_function(kw_1=1, kw_2=None, kw_3=None):\n",
    "    # awesome_function ver 1.0.0\n",
    "    if not kw_3 and kw_2:\n",
    "        warnings.warn(\"'kw_2' is depricated and will remove in future releases use 'kw_3'\", DeprecationWarning)\n",
    "        kw_3 = kw_2\n",
    "    kw_3 = kw_3 or 2\n",
    "\n",
    "    print(f\"{kw_1 = }, {kw_3 = }\")"
   ]
  },
  {
   "cell_type": "code",
   "execution_count": 23,
   "metadata": {
    "ExecuteTime": {
     "end_time": "2021-02-01T08:59:57.356816Z",
     "start_time": "2021-02-01T08:59:57.354337Z"
    }
   },
   "outputs": [
    {
     "name": "stdout",
     "output_type": "stream",
     "text": [
      "kw_1 = 1, kw_3 = 2\n"
     ]
    }
   ],
   "source": [
    "awesome_function()"
   ]
  },
  {
   "cell_type": "code",
   "execution_count": 24,
   "metadata": {
    "ExecuteTime": {
     "end_time": "2021-02-01T08:59:58.844773Z",
     "start_time": "2021-02-01T08:59:58.842033Z"
    }
   },
   "outputs": [
    {
     "name": "stdout",
     "output_type": "stream",
     "text": [
      "kw_1 = 1, kw_3 = 100000000000000000000000000000000000000000000000000000000000000000000000000000000000000000000000000000000000000000000000000000000000000000000000000000000000000000000000000000000000000000000000000000000\n"
     ]
    }
   ],
   "source": [
    "awesome_function(kw_3 = 100**100)"
   ]
  },
  {
   "cell_type": "code",
   "execution_count": 25,
   "metadata": {
    "ExecuteTime": {
     "end_time": "2021-02-01T09:00:00.925834Z",
     "start_time": "2021-02-01T09:00:00.922599Z"
    }
   },
   "outputs": [
    {
     "name": "stdout",
     "output_type": "stream",
     "text": [
      "kw_1 = 100, kw_3 = 200\n"
     ]
    },
    {
     "name": "stderr",
     "output_type": "stream",
     "text": [
      "<ipython-input-22-95939c915ac2>:4: DeprecationWarning: 'kw_2' is depricated and will remove in future releases use 'kw_3'\n",
      "  warnings.warn(\"'kw_2' is depricated and will remove in future releases use 'kw_3'\", DeprecationWarning)\n"
     ]
    }
   ],
   "source": [
    "awesome_function(kw_1=100, kw_2=200)"
   ]
  },
  {
   "cell_type": "code",
   "execution_count": 26,
   "metadata": {
    "ExecuteTime": {
     "end_time": "2021-02-01T09:00:05.324447Z",
     "start_time": "2021-02-01T09:00:05.321950Z"
    }
   },
   "outputs": [
    {
     "name": "stdout",
     "output_type": "stream",
     "text": [
      "kw_1 = 100, kw_3 = 200\n",
      "kw_1 = 100, kw_3 = 200\n"
     ]
    },
    {
     "name": "stderr",
     "output_type": "stream",
     "text": [
      "<ipython-input-22-95939c915ac2>:4: DeprecationWarning: 'kw_2' is depricated and will remove in future releases use 'kw_3'\n",
      "  warnings.warn(\"'kw_2' is depricated and will remove in future releases use 'kw_3'\", DeprecationWarning)\n"
     ]
    }
   ],
   "source": [
    "awesome_function(kw_1=100, kw_2=200)\n",
    "awesome_function(kw_1=100, kw_2=200)"
   ]
  },
  {
   "cell_type": "code",
   "execution_count": null,
   "metadata": {},
   "outputs": [],
   "source": []
  },
  {
   "cell_type": "markdown",
   "metadata": {
    "ExecuteTime": {
     "end_time": "2021-01-31T20:32:26.654527Z",
     "start_time": "2021-01-31T20:32:26.649233Z"
    }
   },
   "source": [
    "## The Warnings Filter\n",
    "https://docs.python.org/3/library/warnings.html#the-warnings-filter\n",
    "\n",
    "\n",
    "* ```warnings.filterwarnings(action, message='', category=Warning, module='', lineno=0, append=False)```\n",
    "* ```warnings.simplefilter(action, category=Warning, lineno=0, append=False)```\n",
    "\n",
    "\n",
    "\n",
    "### Warning Filter Action\n",
    "|Value|Disposition|\n",
    "|:-|:-|\n",
    "| \"default\" | print the first occurrence of matching warnings for each location (module + line number) where the warning is issued    |\n",
    "| \"error\"   | turn matching warnings into exceptions                                                                                  |\n",
    "| \"ignore\"  | never print matching warnings                                                                                           |\n",
    "| \"always\"  | always print matching warnings                                                                                          |\n",
    "| \"module\"  | print the first occurrence of matching warnings for each module where the warning is issued (regardless of line number) |\n",
    "| \"once\"    | print only the first occurrence of matching warnings, regardless of location                                            |\n"
   ]
  },
  {
   "cell_type": "code",
   "execution_count": null,
   "metadata": {},
   "outputs": [],
   "source": []
  },
  {
   "cell_type": "code",
   "execution_count": 27,
   "metadata": {
    "ExecuteTime": {
     "end_time": "2021-02-01T09:02:30.797440Z",
     "start_time": "2021-02-01T09:02:30.794373Z"
    }
   },
   "outputs": [
    {
     "name": "stdout",
     "output_type": "stream",
     "text": [
      "kw_1 = 100, kw_3 = 200\n"
     ]
    }
   ],
   "source": [
    "import warnings\n",
    "warnings.filterwarnings('ignore', category=DeprecationWarning)\n",
    "\n",
    "awesome_function(kw_1=100, kw_2=200)\n",
    "\n",
    "# Return standard dehaiviour for Jupyter not need in real code\n",
    "warnings.filterwarnings('ignore', category=DeprecationWarning, module='ipykernel.ipkernel')"
   ]
  },
  {
   "cell_type": "code",
   "execution_count": 28,
   "metadata": {
    "ExecuteTime": {
     "end_time": "2021-02-01T09:02:44.412220Z",
     "start_time": "2021-02-01T09:02:44.409762Z"
    },
    "scrolled": true
   },
   "outputs": [
    {
     "name": "stdout",
     "output_type": "stream",
     "text": [
      "kw_1 = 100, kw_3 = 200\n"
     ]
    }
   ],
   "source": [
    "awesome_function(kw_1=100, kw_2=200)"
   ]
  },
  {
   "cell_type": "code",
   "execution_count": null,
   "metadata": {},
   "outputs": [],
   "source": []
  },
  {
   "cell_type": "code",
   "execution_count": 29,
   "metadata": {
    "ExecuteTime": {
     "end_time": "2021-02-01T09:03:26.974341Z",
     "start_time": "2021-02-01T09:03:26.971055Z"
    }
   },
   "outputs": [
    {
     "name": "stdout",
     "output_type": "stream",
     "text": [
      "kw_1 = 100, kw_3 = 200\n",
      "kw_1 = 100, kw_3 = 200\n"
     ]
    },
    {
     "name": "stderr",
     "output_type": "stream",
     "text": [
      "<ipython-input-22-95939c915ac2>:4: DeprecationWarning: 'kw_2' is depricated and will remove in future releases use 'kw_3'\n",
      "  warnings.warn(\"'kw_2' is depricated and will remove in future releases use 'kw_3'\", DeprecationWarning)\n",
      "<ipython-input-22-95939c915ac2>:4: DeprecationWarning: 'kw_2' is depricated and will remove in future releases use 'kw_3'\n",
      "  warnings.warn(\"'kw_2' is depricated and will remove in future releases use 'kw_3'\", DeprecationWarning)\n"
     ]
    }
   ],
   "source": [
    "import warnings\n",
    "warnings.filterwarnings('always', category=DeprecationWarning)\n",
    "\n",
    "awesome_function(kw_1=100, kw_2=200)\n",
    "awesome_function(kw_1=100, kw_2=200)\n",
    "\n",
    "# Return standard dehaiviour for Jupyter not need in real code\n",
    "warnings.filterwarnings('ignore', category=DeprecationWarning, module='ipykernel.ipkernel')"
   ]
  },
  {
   "cell_type": "code",
   "execution_count": 30,
   "metadata": {
    "ExecuteTime": {
     "end_time": "2021-02-01T09:03:34.604048Z",
     "start_time": "2021-02-01T09:03:34.601471Z"
    }
   },
   "outputs": [
    {
     "name": "stdout",
     "output_type": "stream",
     "text": [
      "kw_1 = 100, kw_3 = 200\n"
     ]
    },
    {
     "name": "stderr",
     "output_type": "stream",
     "text": [
      "<ipython-input-22-95939c915ac2>:4: DeprecationWarning: 'kw_2' is depricated and will remove in future releases use 'kw_3'\n",
      "  warnings.warn(\"'kw_2' is depricated and will remove in future releases use 'kw_3'\", DeprecationWarning)\n"
     ]
    }
   ],
   "source": [
    "awesome_function(kw_1=100, kw_2=200)"
   ]
  },
  {
   "cell_type": "code",
   "execution_count": null,
   "metadata": {},
   "outputs": [],
   "source": []
  },
  {
   "cell_type": "code",
   "execution_count": null,
   "metadata": {},
   "outputs": [],
   "source": []
  },
  {
   "cell_type": "code",
   "execution_count": 36,
   "metadata": {
    "ExecuteTime": {
     "end_time": "2021-02-01T09:05:53.564681Z",
     "start_time": "2021-02-01T09:05:53.562601Z"
    }
   },
   "outputs": [],
   "source": [
    "warnings.filterwarnings('default', category=DeprecationWarning)\n",
    "warnings.filterwarnings('ignore', category=DeprecationWarning, module='ipykernel.ipkernel')"
   ]
  },
  {
   "cell_type": "code",
   "execution_count": null,
   "metadata": {},
   "outputs": [],
   "source": []
  },
  {
   "cell_type": "code",
   "execution_count": null,
   "metadata": {},
   "outputs": [],
   "source": []
  },
  {
   "cell_type": "code",
   "execution_count": 37,
   "metadata": {
    "ExecuteTime": {
     "end_time": "2021-02-01T09:06:24.205586Z",
     "start_time": "2021-02-01T09:06:24.202475Z"
    }
   },
   "outputs": [
    {
     "name": "stdout",
     "output_type": "stream",
     "text": [
      "kw_1 = 100, kw_3 = 200\n",
      "kw_1 = 100, kw_3 = 200\n"
     ]
    }
   ],
   "source": [
    "import warnings\n",
    "warnings.filterwarnings('ignore', message=\"'kw_2' is depricated and will remove in future releases use 'kw_3'\")\n",
    "awesome_function(kw_1=100, kw_2=200)\n",
    "awesome_function(kw_1=100, kw_2=200)\n",
    "\n",
    "# Return standard dehaiviour for Jupyter\n",
    "warnings.filterwarnings('default', message=\"'kw_2' is depricated and will remove in future releases use 'kw_3'\")"
   ]
  },
  {
   "cell_type": "code",
   "execution_count": 38,
   "metadata": {
    "ExecuteTime": {
     "end_time": "2021-02-01T09:06:30.268923Z",
     "start_time": "2021-02-01T09:06:30.266221Z"
    }
   },
   "outputs": [
    {
     "name": "stdout",
     "output_type": "stream",
     "text": [
      "kw_1 = 100, kw_3 = 200\n",
      "kw_1 = 100, kw_3 = 200\n",
      "kw_1 = 100, kw_3 = 200\n"
     ]
    },
    {
     "name": "stderr",
     "output_type": "stream",
     "text": [
      "<ipython-input-22-95939c915ac2>:4: DeprecationWarning: 'kw_2' is depricated and will remove in future releases use 'kw_3'\n",
      "  warnings.warn(\"'kw_2' is depricated and will remove in future releases use 'kw_3'\", DeprecationWarning)\n"
     ]
    }
   ],
   "source": [
    "awesome_function(kw_1=100, kw_2=200)\n",
    "awesome_function(kw_1=100, kw_2=200)\n",
    "awesome_function(kw_1=100, kw_2=200)"
   ]
  },
  {
   "cell_type": "code",
   "execution_count": null,
   "metadata": {},
   "outputs": [],
   "source": []
  },
  {
   "cell_type": "code",
   "execution_count": 39,
   "metadata": {
    "ExecuteTime": {
     "end_time": "2021-02-01T09:07:21.953081Z",
     "start_time": "2021-02-01T09:07:21.946582Z"
    }
   },
   "outputs": [
    {
     "ename": "DeprecationWarning",
     "evalue": "'kw_2' is depricated and will remove in future releases use 'kw_3'",
     "output_type": "error",
     "traceback": [
      "\u001b[0;31m---------------------------------------------------------------------------\u001b[0m",
      "\u001b[0;31mDeprecationWarning\u001b[0m                        Traceback (most recent call last)",
      "\u001b[0;32m<ipython-input-39-56f74f36cfb6>\u001b[0m in \u001b[0;36m<module>\u001b[0;34m\u001b[0m\n\u001b[1;32m      3\u001b[0m \u001b[0;32mimport\u001b[0m \u001b[0mwarnings\u001b[0m\u001b[0;34m\u001b[0m\u001b[0;34m\u001b[0m\u001b[0m\n\u001b[1;32m      4\u001b[0m \u001b[0mwarnings\u001b[0m\u001b[0;34m.\u001b[0m\u001b[0mfilterwarnings\u001b[0m\u001b[0;34m(\u001b[0m\u001b[0;34m'error'\u001b[0m\u001b[0;34m,\u001b[0m \u001b[0mmessage\u001b[0m\u001b[0;34m=\u001b[0m\u001b[0;34m\"'kw_2' is depricated and will remove in future releases use 'kw_3'\"\u001b[0m\u001b[0;34m)\u001b[0m\u001b[0;34m\u001b[0m\u001b[0;34m\u001b[0m\u001b[0m\n\u001b[0;32m----> 5\u001b[0;31m \u001b[0mawesome_function\u001b[0m\u001b[0;34m(\u001b[0m\u001b[0mkw_1\u001b[0m\u001b[0;34m=\u001b[0m\u001b[0;36m100\u001b[0m\u001b[0;34m,\u001b[0m \u001b[0mkw_2\u001b[0m\u001b[0;34m=\u001b[0m\u001b[0;36m200\u001b[0m\u001b[0;34m)\u001b[0m\u001b[0;34m\u001b[0m\u001b[0;34m\u001b[0m\u001b[0m\n\u001b[0m\u001b[1;32m      6\u001b[0m \u001b[0mprint\u001b[0m\u001b[0;34m(\u001b[0m\u001b[0;36m1\u001b[0m\u001b[0;34m)\u001b[0m\u001b[0;34m\u001b[0m\u001b[0;34m\u001b[0m\u001b[0m\n\u001b[1;32m      7\u001b[0m \u001b[0mawesome_function\u001b[0m\u001b[0;34m(\u001b[0m\u001b[0mkw_1\u001b[0m\u001b[0;34m=\u001b[0m\u001b[0;36m100\u001b[0m\u001b[0;34m,\u001b[0m \u001b[0mkw_2\u001b[0m\u001b[0;34m=\u001b[0m\u001b[0;36m200\u001b[0m\u001b[0;34m)\u001b[0m\u001b[0;34m\u001b[0m\u001b[0;34m\u001b[0m\u001b[0m\n",
      "\u001b[0;32m<ipython-input-22-95939c915ac2>\u001b[0m in \u001b[0;36mawesome_function\u001b[0;34m(kw_1, kw_2, kw_3)\u001b[0m\n\u001b[1;32m      2\u001b[0m     \u001b[0;31m# awesome_function ver 1.0.0\u001b[0m\u001b[0;34m\u001b[0m\u001b[0;34m\u001b[0m\u001b[0;34m\u001b[0m\u001b[0m\n\u001b[1;32m      3\u001b[0m     \u001b[0;32mif\u001b[0m \u001b[0;32mnot\u001b[0m \u001b[0mkw_3\u001b[0m \u001b[0;32mand\u001b[0m \u001b[0mkw_2\u001b[0m\u001b[0;34m:\u001b[0m\u001b[0;34m\u001b[0m\u001b[0;34m\u001b[0m\u001b[0m\n\u001b[0;32m----> 4\u001b[0;31m         \u001b[0mwarnings\u001b[0m\u001b[0;34m.\u001b[0m\u001b[0mwarn\u001b[0m\u001b[0;34m(\u001b[0m\u001b[0;34m\"'kw_2' is depricated and will remove in future releases use 'kw_3'\"\u001b[0m\u001b[0;34m,\u001b[0m \u001b[0mDeprecationWarning\u001b[0m\u001b[0;34m)\u001b[0m\u001b[0;34m\u001b[0m\u001b[0;34m\u001b[0m\u001b[0m\n\u001b[0m\u001b[1;32m      5\u001b[0m         \u001b[0mkw_3\u001b[0m \u001b[0;34m=\u001b[0m \u001b[0mkw_2\u001b[0m\u001b[0;34m\u001b[0m\u001b[0;34m\u001b[0m\u001b[0m\n\u001b[1;32m      6\u001b[0m     \u001b[0mkw_3\u001b[0m \u001b[0;34m=\u001b[0m \u001b[0mkw_3\u001b[0m \u001b[0;32mor\u001b[0m \u001b[0;36m2\u001b[0m\u001b[0;34m\u001b[0m\u001b[0;34m\u001b[0m\u001b[0m\n",
      "\u001b[0;31mDeprecationWarning\u001b[0m: 'kw_2' is depricated and will remove in future releases use 'kw_3'"
     ]
    }
   ],
   "source": [
    "## raise error\n",
    "\n",
    "import warnings\n",
    "warnings.filterwarnings('error', message=\"'kw_2' is depricated and will remove in future releases use 'kw_3'\")\n",
    "awesome_function(kw_1=100, kw_2=200)\n",
    "print(1)\n",
    "awesome_function(kw_1=100, kw_2=200)\n",
    "\n",
    "# Return standard dehaiviour for Jupyter\n",
    "warnings.filterwarnings('default', message=\"'kw_2' is depricated and will remove in future releases use 'kw_3'\")"
   ]
  },
  {
   "cell_type": "code",
   "execution_count": null,
   "metadata": {},
   "outputs": [],
   "source": []
  },
  {
   "cell_type": "code",
   "execution_count": 42,
   "metadata": {
    "ExecuteTime": {
     "end_time": "2021-02-01T09:07:55.918064Z",
     "start_time": "2021-02-01T09:07:55.915893Z"
    }
   },
   "outputs": [],
   "source": [
    "# Return to default\n",
    "\n",
    "import warnings\n",
    "warnings.filterwarnings('default', message=\"'kw_2' is depricated and will remove in future releases use 'kw_3'\")"
   ]
  },
  {
   "cell_type": "code",
   "execution_count": 41,
   "metadata": {
    "ExecuteTime": {
     "end_time": "2021-02-01T09:07:47.004717Z",
     "start_time": "2021-02-01T09:07:47.002237Z"
    },
    "scrolled": true
   },
   "outputs": [
    {
     "name": "stdout",
     "output_type": "stream",
     "text": [
      "kw_1 = 100, kw_3 = 200\n"
     ]
    },
    {
     "name": "stderr",
     "output_type": "stream",
     "text": [
      "<ipython-input-22-95939c915ac2>:4: DeprecationWarning: 'kw_2' is depricated and will remove in future releases use 'kw_3'\n",
      "  warnings.warn(\"'kw_2' is depricated and will remove in future releases use 'kw_3'\", DeprecationWarning)\n"
     ]
    }
   ],
   "source": [
    "awesome_function(kw_1=100, kw_2=200)"
   ]
  },
  {
   "cell_type": "code",
   "execution_count": null,
   "metadata": {},
   "outputs": [],
   "source": []
  },
  {
   "cell_type": "code",
   "execution_count": null,
   "metadata": {},
   "outputs": [],
   "source": []
  },
  {
   "cell_type": "code",
   "execution_count": null,
   "metadata": {},
   "outputs": [],
   "source": []
  },
  {
   "cell_type": "code",
   "execution_count": null,
   "metadata": {},
   "outputs": [],
   "source": []
  },
  {
   "cell_type": "code",
   "execution_count": null,
   "metadata": {},
   "outputs": [],
   "source": []
  },
  {
   "cell_type": "markdown",
   "metadata": {},
   "source": [
    "### Describing Warning Filters\n",
    "\n",
    "```action:message:category:module:line```\n",
    "\n",
    "https://docs.python.org/3/library/warnings.html#describing-warning-filters"
   ]
  },
  {
   "cell_type": "code",
   "execution_count": 43,
   "metadata": {
    "ExecuteTime": {
     "end_time": "2021-02-01T09:10:07.340547Z",
     "start_time": "2021-02-01T09:10:07.338578Z"
    }
   },
   "outputs": [],
   "source": [
    "import os\n",
    "\n",
    "os.environ.get(\"PYTHONWARNINGS\")"
   ]
  },
  {
   "cell_type": "code",
   "execution_count": 44,
   "metadata": {
    "ExecuteTime": {
     "end_time": "2021-02-01T09:10:15.309225Z",
     "start_time": "2021-02-01T09:10:15.306464Z"
    }
   },
   "outputs": [
    {
     "data": {
      "text/plain": [
       "os._Environ"
      ]
     },
     "execution_count": 44,
     "metadata": {},
     "output_type": "execute_result"
    }
   ],
   "source": [
    "type(os.environ)"
   ]
  },
  {
   "cell_type": "code",
   "execution_count": 45,
   "metadata": {
    "ExecuteTime": {
     "end_time": "2021-02-01T09:10:32.158130Z",
     "start_time": "2021-02-01T09:10:32.154695Z"
    }
   },
   "outputs": [
    {
     "data": {
      "text/plain": [
       "True"
      ]
     },
     "execution_count": 45,
     "metadata": {},
     "output_type": "execute_result"
    }
   ],
   "source": [
    "from typing import MutableMapping\n",
    "\n",
    "isinstance(os.environ, MutableMapping)"
   ]
  },
  {
   "cell_type": "code",
   "execution_count": null,
   "metadata": {},
   "outputs": [],
   "source": []
  },
  {
   "cell_type": "code",
   "execution_count": 46,
   "metadata": {
    "ExecuteTime": {
     "end_time": "2021-02-01T09:11:06.670212Z",
     "start_time": "2021-02-01T09:11:06.667283Z"
    },
    "scrolled": true
   },
   "outputs": [
    {
     "name": "stdout",
     "output_type": "stream",
     "text": [
      "kw_1 = 100, kw_3 = 200\n"
     ]
    },
    {
     "name": "stderr",
     "output_type": "stream",
     "text": [
      "<ipython-input-22-95939c915ac2>:4: DeprecationWarning: 'kw_2' is depricated and will remove in future releases use 'kw_3'\n",
      "  warnings.warn(\"'kw_2' is depricated and will remove in future releases use 'kw_3'\", DeprecationWarning)\n"
     ]
    }
   ],
   "source": [
    "os.environ[\"PYTHONWARNINGS\"] = \"ignore::DeprecationWarning\"\n",
    "\n",
    "awesome_function(kw_1=100, kw_2=200)\n",
    "\n",
    "# Conclusion: PYTHONWARNINGS environment variable only use on Python Interpreter Start"
   ]
  },
  {
   "cell_type": "code",
   "execution_count": null,
   "metadata": {},
   "outputs": [],
   "source": []
  },
  {
   "cell_type": "code",
   "execution_count": null,
   "metadata": {},
   "outputs": [],
   "source": []
  },
  {
   "cell_type": "code",
   "execution_count": null,
   "metadata": {},
   "outputs": [],
   "source": []
  },
  {
   "cell_type": "markdown",
   "metadata": {},
   "source": [
    "### Integration with the logging module\n",
    "\n",
    "https://docs.python.org/3/library/logging.html#integration-with-the-warnings-module\n",
    "\n",
    "```logging.captureWarnings(capture)```"
   ]
  },
  {
   "cell_type": "code",
   "execution_count": null,
   "metadata": {},
   "outputs": [],
   "source": []
  },
  {
   "cell_type": "code",
   "execution_count": 47,
   "metadata": {
    "ExecuteTime": {
     "end_time": "2021-02-01T09:15:58.719092Z",
     "start_time": "2021-02-01T09:15:58.715179Z"
    }
   },
   "outputs": [
    {
     "name": "stderr",
     "output_type": "stream",
     "text": [
      "2021-02-01 12:15:58,716 py.warnings WARNING 'warnings': <ipython-input-22-95939c915ac2>:4: DeprecationWarning: 'kw_2' is depricated and will remove in future releases use 'kw_3'\n",
      "  warnings.warn(\"'kw_2' is depricated and will remove in future releases use 'kw_3'\", DeprecationWarning)\n",
      "\n"
     ]
    },
    {
     "name": "stdout",
     "output_type": "stream",
     "text": [
      "kw_1 = 100, kw_3 = 200\n"
     ]
    }
   ],
   "source": [
    "import logging\n",
    "\n",
    "logging.captureWarnings(True)\n",
    "\n",
    "logger = logging.getLogger(\"py.warnings\")  # get py.warnings logger\n",
    "logger.handlers = []  # Remove handlers just for Jupyter warnings to logging demonstration\n",
    "\n",
    "logger_handler = logging.StreamHandler()\n",
    "handler_formatter = logging.Formatter(\"%(asctime)s %(name)s %(levelname)s %(module)r: %(message)s\")\n",
    "logger_handler.setLevel(logging.DEBUG)\n",
    "logger_handler.setFormatter(handler_formatter)\n",
    "logger.addHandler(logger_handler)\n",
    "\n",
    "\n",
    "awesome_function(kw_1=100, kw_2=200)"
   ]
  },
  {
   "cell_type": "code",
   "execution_count": null,
   "metadata": {},
   "outputs": [],
   "source": []
  },
  {
   "cell_type": "code",
   "execution_count": null,
   "metadata": {},
   "outputs": [],
   "source": []
  },
  {
   "cell_type": "code",
   "execution_count": 48,
   "metadata": {
    "ExecuteTime": {
     "end_time": "2021-02-01T09:16:31.885177Z",
     "start_time": "2021-02-01T09:16:31.882845Z"
    }
   },
   "outputs": [
    {
     "name": "stdout",
     "output_type": "stream",
     "text": [
      "kw_1 = 100, kw_3 = 200\n"
     ]
    },
    {
     "name": "stderr",
     "output_type": "stream",
     "text": [
      "<ipython-input-22-95939c915ac2>:4: DeprecationWarning: 'kw_2' is depricated and will remove in future releases use 'kw_3'\n",
      "  warnings.warn(\"'kw_2' is depricated and will remove in future releases use 'kw_3'\", DeprecationWarning)\n"
     ]
    }
   ],
   "source": [
    "logging.captureWarnings(False)\n",
    "\n",
    "awesome_function(kw_1=100, kw_2=200)"
   ]
  }
 ],
 "metadata": {
  "kernelspec": {
   "display_name": "Python 3",
   "language": "python",
   "name": "python3"
  },
  "language_info": {
   "codemirror_mode": {
    "name": "ipython",
    "version": 3
   },
   "file_extension": ".py",
   "mimetype": "text/x-python",
   "name": "python",
   "nbconvert_exporter": "python",
   "pygments_lexer": "ipython3",
   "version": "3.8.5"
  }
 },
 "nbformat": 4,
 "nbformat_minor": 4
}

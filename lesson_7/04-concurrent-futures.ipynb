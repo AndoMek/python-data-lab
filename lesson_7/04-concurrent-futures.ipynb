{
 "cells": [
  {
   "cell_type": "markdown",
   "metadata": {},
   "source": [
    "# `concurrent.futures` — Launching parallel tasks\n",
    "\n",
    "https://docs.python.org/3/library/concurrent.futures.html"
   ]
  },
  {
   "cell_type": "code",
   "execution_count": null,
   "metadata": {},
   "outputs": [],
   "source": []
  },
  {
   "cell_type": "code",
   "execution_count": 2,
   "metadata": {
    "ExecuteTime": {
     "end_time": "2021-01-27T11:13:03.553002Z",
     "start_time": "2021-01-27T11:13:03.547134Z"
    }
   },
   "outputs": [],
   "source": [
    "from concurrent.futures import ThreadPoolExecutor, ProcessPoolExecutor"
   ]
  },
  {
   "cell_type": "code",
   "execution_count": 4,
   "metadata": {
    "ExecuteTime": {
     "end_time": "2021-01-27T11:13:16.510317Z",
     "start_time": "2021-01-27T11:13:16.506870Z"
    },
    "scrolled": true
   },
   "outputs": [
    {
     "name": "stdout",
     "output_type": "stream",
     "text": [
      "Help on class ThreadPoolExecutor in module concurrent.futures.thread:\n",
      "\n",
      "class ThreadPoolExecutor(concurrent.futures._base.Executor)\n",
      " |  ThreadPoolExecutor(max_workers=None, thread_name_prefix='', initializer=None, initargs=())\n",
      " |  \n",
      " |  This is an abstract base class for concrete asynchronous executors.\n",
      " |  \n",
      " |  Method resolution order:\n",
      " |      ThreadPoolExecutor\n",
      " |      concurrent.futures._base.Executor\n",
      " |      builtins.object\n",
      " |  \n",
      " |  Methods defined here:\n",
      " |  \n",
      " |  __init__(self, max_workers=None, thread_name_prefix='', initializer=None, initargs=())\n",
      " |      Initializes a new ThreadPoolExecutor instance.\n",
      " |      \n",
      " |      Args:\n",
      " |          max_workers: The maximum number of threads that can be used to\n",
      " |              execute the given calls.\n",
      " |          thread_name_prefix: An optional name prefix to give our threads.\n",
      " |          initializer: A callable used to initialize worker threads.\n",
      " |          initargs: A tuple of arguments to pass to the initializer.\n",
      " |  \n",
      " |  shutdown(self, wait=True)\n",
      " |      Clean-up the resources associated with the Executor.\n",
      " |      \n",
      " |      It is safe to call this method several times. Otherwise, no other\n",
      " |      methods can be called after this one.\n",
      " |      \n",
      " |      Args:\n",
      " |          wait: If True then shutdown will not return until all running\n",
      " |              futures have finished executing and the resources used by the\n",
      " |              executor have been reclaimed.\n",
      " |  \n",
      " |  submit(self, fn, /, *args, **kwargs)\n",
      " |      Submits a callable to be executed with the given arguments.\n",
      " |      \n",
      " |      Schedules the callable to be executed as fn(*args, **kwargs) and returns\n",
      " |      a Future instance representing the execution of the callable.\n",
      " |      \n",
      " |      Returns:\n",
      " |          A Future representing the given call.\n",
      " |  \n",
      " |  ----------------------------------------------------------------------\n",
      " |  Methods inherited from concurrent.futures._base.Executor:\n",
      " |  \n",
      " |  __enter__(self)\n",
      " |  \n",
      " |  __exit__(self, exc_type, exc_val, exc_tb)\n",
      " |  \n",
      " |  map(self, fn, *iterables, timeout=None, chunksize=1)\n",
      " |      Returns an iterator equivalent to map(fn, iter).\n",
      " |      \n",
      " |      Args:\n",
      " |          fn: A callable that will take as many arguments as there are\n",
      " |              passed iterables.\n",
      " |          timeout: The maximum number of seconds to wait. If None, then there\n",
      " |              is no limit on the wait time.\n",
      " |          chunksize: The size of the chunks the iterable will be broken into\n",
      " |              before being passed to a child process. This argument is only\n",
      " |              used by ProcessPoolExecutor; it is ignored by\n",
      " |              ThreadPoolExecutor.\n",
      " |      \n",
      " |      Returns:\n",
      " |          An iterator equivalent to: map(func, *iterables) but the calls may\n",
      " |          be evaluated out-of-order.\n",
      " |      \n",
      " |      Raises:\n",
      " |          TimeoutError: If the entire result iterator could not be generated\n",
      " |              before the given timeout.\n",
      " |          Exception: If fn(*args) raises for any values.\n",
      " |  \n",
      " |  ----------------------------------------------------------------------\n",
      " |  Data descriptors inherited from concurrent.futures._base.Executor:\n",
      " |  \n",
      " |  __dict__\n",
      " |      dictionary for instance variables (if defined)\n",
      " |  \n",
      " |  __weakref__\n",
      " |      list of weak references to the object (if defined)\n",
      "\n"
     ]
    }
   ],
   "source": [
    "help(ThreadPoolExecutor)"
   ]
  },
  {
   "cell_type": "code",
   "execution_count": 3,
   "metadata": {
    "ExecuteTime": {
     "end_time": "2021-01-27T11:13:05.373725Z",
     "start_time": "2021-01-27T11:13:05.369369Z"
    },
    "scrolled": true
   },
   "outputs": [
    {
     "name": "stdout",
     "output_type": "stream",
     "text": [
      "Help on class ProcessPoolExecutor in module concurrent.futures.process:\n",
      "\n",
      "class ProcessPoolExecutor(concurrent.futures._base.Executor)\n",
      " |  ProcessPoolExecutor(max_workers=None, mp_context=None, initializer=None, initargs=())\n",
      " |  \n",
      " |  This is an abstract base class for concrete asynchronous executors.\n",
      " |  \n",
      " |  Method resolution order:\n",
      " |      ProcessPoolExecutor\n",
      " |      concurrent.futures._base.Executor\n",
      " |      builtins.object\n",
      " |  \n",
      " |  Methods defined here:\n",
      " |  \n",
      " |  __init__(self, max_workers=None, mp_context=None, initializer=None, initargs=())\n",
      " |      Initializes a new ProcessPoolExecutor instance.\n",
      " |      \n",
      " |      Args:\n",
      " |          max_workers: The maximum number of processes that can be used to\n",
      " |              execute the given calls. If None or not given then as many\n",
      " |              worker processes will be created as the machine has processors.\n",
      " |          mp_context: A multiprocessing context to launch the workers. This\n",
      " |              object should provide SimpleQueue, Queue and Process.\n",
      " |          initializer: A callable used to initialize worker processes.\n",
      " |          initargs: A tuple of arguments to pass to the initializer.\n",
      " |  \n",
      " |  map(self, fn, *iterables, timeout=None, chunksize=1)\n",
      " |      Returns an iterator equivalent to map(fn, iter).\n",
      " |      \n",
      " |      Args:\n",
      " |          fn: A callable that will take as many arguments as there are\n",
      " |              passed iterables.\n",
      " |          timeout: The maximum number of seconds to wait. If None, then there\n",
      " |              is no limit on the wait time.\n",
      " |          chunksize: If greater than one, the iterables will be chopped into\n",
      " |              chunks of size chunksize and submitted to the process pool.\n",
      " |              If set to one, the items in the list will be sent one at a time.\n",
      " |      \n",
      " |      Returns:\n",
      " |          An iterator equivalent to: map(func, *iterables) but the calls may\n",
      " |          be evaluated out-of-order.\n",
      " |      \n",
      " |      Raises:\n",
      " |          TimeoutError: If the entire result iterator could not be generated\n",
      " |              before the given timeout.\n",
      " |          Exception: If fn(*args) raises for any values.\n",
      " |  \n",
      " |  shutdown(self, wait=True)\n",
      " |      Clean-up the resources associated with the Executor.\n",
      " |      \n",
      " |      It is safe to call this method several times. Otherwise, no other\n",
      " |      methods can be called after this one.\n",
      " |      \n",
      " |      Args:\n",
      " |          wait: If True then shutdown will not return until all running\n",
      " |              futures have finished executing and the resources used by the\n",
      " |              executor have been reclaimed.\n",
      " |  \n",
      " |  submit(self, fn, /, *args, **kwargs)\n",
      " |      Submits a callable to be executed with the given arguments.\n",
      " |      \n",
      " |      Schedules the callable to be executed as fn(*args, **kwargs) and returns\n",
      " |      a Future instance representing the execution of the callable.\n",
      " |      \n",
      " |      Returns:\n",
      " |          A Future representing the given call.\n",
      " |  \n",
      " |  ----------------------------------------------------------------------\n",
      " |  Methods inherited from concurrent.futures._base.Executor:\n",
      " |  \n",
      " |  __enter__(self)\n",
      " |  \n",
      " |  __exit__(self, exc_type, exc_val, exc_tb)\n",
      " |  \n",
      " |  ----------------------------------------------------------------------\n",
      " |  Data descriptors inherited from concurrent.futures._base.Executor:\n",
      " |  \n",
      " |  __dict__\n",
      " |      dictionary for instance variables (if defined)\n",
      " |  \n",
      " |  __weakref__\n",
      " |      list of weak references to the object (if defined)\n",
      "\n"
     ]
    }
   ],
   "source": [
    "help(ProcessPoolExecutor)"
   ]
  },
  {
   "cell_type": "code",
   "execution_count": null,
   "metadata": {},
   "outputs": [],
   "source": []
  },
  {
   "cell_type": "code",
   "execution_count": 5,
   "metadata": {
    "ExecuteTime": {
     "end_time": "2021-01-27T11:14:56.364653Z",
     "start_time": "2021-01-27T11:14:56.361204Z"
    }
   },
   "outputs": [],
   "source": [
    "import threading\n",
    "import os\n",
    "from functools import wraps\n",
    "import time\n",
    "\n",
    "def thread_info(fn):\n",
    "\n",
    "    @wraps(fn)\n",
    "    def wrapper(*args, **kwargs):\n",
    "        print(f\"{threading.current_thread().name}. Start function: {fn.__name__}. {args = }, {kwargs = }\")\n",
    "        try:\n",
    "            return fn(*args, **kwargs)\n",
    "        finally:\n",
    "            print(f\"{threading.current_thread().name}. End function: {fn.__name__}\")\n",
    "\n",
    "    return wrapper\n",
    "\n",
    "\n",
    "def process_info(fn):\n",
    "\n",
    "    @wraps(fn)\n",
    "    def wrapper(*args, **kwargs):\n",
    "        print(f\"Process ID: {os.getpid()}. Parrent Process: {os.getppid()}. Start function: {fn.__name__}. {args = }, {kwargs = }\")\n",
    "        try:\n",
    "            return fn(*args, **kwargs)\n",
    "        finally:\n",
    "            print(f\"Process ID: {os.getpid()}. End function: {fn.__name__}\")\n",
    "\n",
    "    return wrapper"
   ]
  },
  {
   "cell_type": "code",
   "execution_count": null,
   "metadata": {},
   "outputs": [],
   "source": []
  },
  {
   "cell_type": "code",
   "execution_count": null,
   "metadata": {},
   "outputs": [],
   "source": []
  },
  {
   "cell_type": "code",
   "execution_count": null,
   "metadata": {},
   "outputs": [],
   "source": []
  },
  {
   "cell_type": "markdown",
   "metadata": {},
   "source": [
    "## `submit(fn, /, *args, **kwargs`)"
   ]
  },
  {
   "cell_type": "code",
   "execution_count": 9,
   "metadata": {
    "ExecuteTime": {
     "end_time": "2021-01-27T11:17:14.221936Z",
     "start_time": "2021-01-27T11:17:14.218390Z"
    }
   },
   "outputs": [
    {
     "name": "stdout",
     "output_type": "stream",
     "text": [
      "Process ID: 12742. Parrent Process: 4691. Start function: squares. args = (1,), kwargs = {}\n",
      "ThreadPoolExecutor-2_0. Start function: squares. args = (1,), kwargs = {}\n",
      "ThreadPoolExecutor-2_0. End function: squares\n",
      "Process ID: 12742. End function: squares\n",
      "future = <Future at 0x7f598c690100 state=finished returned int>, future.result() = 1\n"
     ]
    }
   ],
   "source": [
    "from concurrent.futures import ThreadPoolExecutor\n",
    "\n",
    "@process_info\n",
    "@thread_info\n",
    "def squares(x):\n",
    "    return x ** 2\n",
    "\n",
    "\n",
    "with ThreadPoolExecutor(max_workers=1) as executor:\n",
    "    future = executor.submit(squares, 1)\n",
    "    \n",
    "    print(f\"{future = }, {future.result() = }\")\n"
   ]
  },
  {
   "cell_type": "code",
   "execution_count": null,
   "metadata": {},
   "outputs": [],
   "source": []
  },
  {
   "cell_type": "code",
   "execution_count": 10,
   "metadata": {
    "ExecuteTime": {
     "end_time": "2021-01-27T11:17:36.748654Z",
     "start_time": "2021-01-27T11:17:36.730331Z"
    }
   },
   "outputs": [
    {
     "name": "stdout",
     "output_type": "stream",
     "text": [
      "Process ID: 19544. Parrent Process: 12742. Start function: squares. args = (1,), kwargs = {}\n",
      "MainThread. Start function: squares. args = (1,), kwargs = {}\n",
      "MainThread. End function: squares\n",
      "Process ID: 19544. End function: squares\n",
      "future = <Future at 0x7f598c680040 state=running>, future.result() = 1\n"
     ]
    }
   ],
   "source": [
    "from concurrent.futures import ProcessPoolExecutor\n",
    "\n",
    "\n",
    "@process_info\n",
    "@thread_info\n",
    "def squares(x):\n",
    "    return x ** 2\n",
    "\n",
    "\n",
    "with ProcessPoolExecutor(max_workers=1) as executor:\n",
    "    future = executor.submit(squares, 1)\n",
    "    \n",
    "    print(f\"{future = }, {future.result() = }\")"
   ]
  },
  {
   "cell_type": "code",
   "execution_count": null,
   "metadata": {},
   "outputs": [],
   "source": []
  },
  {
   "cell_type": "markdown",
   "metadata": {},
   "source": [
    "## `map(func, *iterables, timeout=None, chunksize=1)`"
   ]
  },
  {
   "cell_type": "code",
   "execution_count": null,
   "metadata": {},
   "outputs": [],
   "source": []
  },
  {
   "cell_type": "code",
   "execution_count": 14,
   "metadata": {
    "ExecuteTime": {
     "end_time": "2021-01-27T11:20:14.310286Z",
     "start_time": "2021-01-27T11:20:14.297352Z"
    }
   },
   "outputs": [
    {
     "name": "stdout",
     "output_type": "stream",
     "text": [
      "Process ID: 12742. Parrent Process: 4691. Start function: squares. args = (0,), kwargs = {}future_result = <generator object Executor.map.<locals>.result_iterator at 0x7f598c2e2eb0>\n",
      "\n",
      "ThreadPoolExecutor-6_0. Start function: squares. args = (0,), kwargs = {}\n",
      "ThreadPoolExecutor-6_0. End function: squares\n",
      "Process ID: 12742. End function: squares\n",
      "Process ID: 12742. Parrent Process: 4691. Start function: squares. args = (1,), kwargs = {}\n",
      "ThreadPoolExecutor-6_0. Start function: squares. args = (1,), kwargs = {}\n",
      "ThreadPoolExecutor-6_0. End function: squares\n",
      "Process ID: 12742. End function: squares\n",
      "Process ID: 12742. Parrent Process: 4691. Start function: squares. args = (2,), kwargs = {}\n",
      "ThreadPoolExecutor-6_0. Start function: squares. args = (2,), kwargs = {}\n",
      "ThreadPoolExecutor-6_0. End function: squares\n",
      "Process ID: 12742. End function: squares\n",
      "Process ID: 12742. Parrent Process: 4691. Start function: squares. args = (3,), kwargs = {}\n",
      "ThreadPoolExecutor-6_0. Start function: squares. args = (3,), kwargs = {}\n",
      "ThreadPoolExecutor-6_0. End function: squares\n",
      "Process ID: 12742. End function: squares0\n",
      "1\n",
      "4\n",
      "\n",
      "Process ID: 12742. Parrent Process: 4691. Start function: squares. args = (4,), kwargs = {}\n",
      "ThreadPoolExecutor-6_0. Start function: squares. args = (4,), kwargs = {}\n",
      "ThreadPoolExecutor-6_0. End function: squares\n",
      "Process ID: 12742. End function: squares\n",
      "Process ID: 12742. Parrent Process: 4691. Start function: squares. args = (5,), kwargs = {}\n",
      "ThreadPoolExecutor-6_0. Start function: squares. args = (5,), kwargs = {}\n",
      "ThreadPoolExecutor-6_0. End function: squares\n",
      "Process ID: 12742. End function: squares\n",
      "Process ID: 12742. Parrent Process: 4691. Start function: squares. args = (6,), kwargs = {}\n",
      "ThreadPoolExecutor-6_0. Start function: squares. args = (6,), kwargs = {}\n",
      "ThreadPoolExecutor-6_0. End function: squares\n",
      "9\n",
      "16\n",
      "25\n",
      "Process ID: 12742. End function: squares\n",
      "Process ID: 12742. Parrent Process: 4691. Start function: squares. args = (7,), kwargs = {}\n",
      "ThreadPoolExecutor-6_0. Start function: squares. args = (7,), kwargs = {}\n",
      "ThreadPoolExecutor-6_0. End function: squares\n",
      "Process ID: 12742. End function: squares\n",
      "Process ID: 12742. Parrent Process: 4691. Start function: squares. args = (8,), kwargs = {}\n",
      "ThreadPoolExecutor-6_0. Start function: squares. args = (8,), kwargs = {}\n",
      "ThreadPoolExecutor-6_0. End function: squares\n",
      "Process ID: 12742. End function: squares36\n",
      "49\n",
      "\n",
      "Process ID: 12742. Parrent Process: 4691. Start function: squares. args = (9,), kwargs = {}\n",
      "ThreadPoolExecutor-6_0. Start function: squares. args = (9,), kwargs = {}\n",
      "ThreadPoolExecutor-6_0. End function: squares\n",
      "Process ID: 12742. End function: squares\n",
      "64\n",
      "81\n"
     ]
    }
   ],
   "source": [
    "from concurrent.futures import ThreadPoolExecutor\n",
    "import time\n",
    "\n",
    "@process_info\n",
    "@thread_info\n",
    "def squares(x):\n",
    "    return x ** 2\n",
    "\n",
    "\n",
    "with ThreadPoolExecutor(max_workers=1) as executor:\n",
    "    future_result = executor.map(squares, range(10))\n",
    "   \n",
    "    print(f\"{future_result = }\")\n",
    "    for item in future_result:\n",
    "        print(item)\n",
    "        "
   ]
  },
  {
   "cell_type": "code",
   "execution_count": null,
   "metadata": {},
   "outputs": [],
   "source": []
  },
  {
   "cell_type": "code",
   "execution_count": 20,
   "metadata": {
    "ExecuteTime": {
     "end_time": "2021-01-27T11:22:16.937833Z",
     "start_time": "2021-01-27T11:22:16.922424Z"
    }
   },
   "outputs": [
    {
     "name": "stdout",
     "output_type": "stream",
     "text": [
      "Process ID: 12742. Parrent Process: 4691. Start function: squares. args = (0,), kwargs = {}\n",
      "ThreadPoolExecutor-12_0. Start function: squares. args = (0,), kwargs = {}\n",
      "ThreadPoolExecutor-12_0. End function: squares\n",
      "Process ID: 12742. End function: squares\n",
      "Process ID: 12742. Parrent Process: 4691. Start function: squares. args = (1,), kwargs = {}\n",
      "ThreadPoolExecutor-12_0. Start function: squares. args = (1,), kwargs = {}\n",
      "ThreadPoolExecutor-12_0. End function: squares\n",
      "Process ID: 12742. End function: squares\n",
      "Process ID: 12742. Parrent Process: 4691. Start function: squares. args = (2,), kwargs = {}\n",
      "ThreadPoolExecutor-12_0. Start function: squares. args = (2,), kwargs = {}\n",
      "ThreadPoolExecutor-12_0. End function: squares\n",
      "Process ID: 12742. End function: squares\n",
      "Process ID: 12742. Parrent Process: 4691. Start function: squares. args = (3,), kwargs = {}\n",
      "ThreadPoolExecutor-12_0. Start function: squares. args = (3,), kwargs = {}\n",
      "ThreadPoolExecutor-12_0. End function: squares\n",
      "Process ID: 12742. End function: squares\n",
      "Process ID: 12742. Parrent Process: 4691. Start function: squares. args = (4,), kwargs = {}\n",
      "ThreadPoolExecutor-12_3. Start function: squares. args = (4,), kwargs = {}\n",
      "ThreadPoolExecutor-12_3. End function: squares\n",
      "Process ID: 12742. End function: squaresProcess ID: 12742. Parrent Process: 4691. Start function: squares. args = (5,), kwargs = {}\n",
      "ThreadPoolExecutor-12_4. Start function: squares. args = (5,), kwargs = {}\n",
      "ThreadPoolExecutor-12_4. End function: squares\n",
      "Process ID: 12742. End function: squares\n",
      "Process ID: 12742. Parrent Process: 4691. Start function: squares. args = (6,), kwargs = {}\n",
      "ThreadPoolExecutor-12_4. Start function: squares. args = (6,), kwargs = {}\n",
      "Process ID: 12742. Parrent Process: 4691. Start function: squares. args = (7,), kwargs = {}\n",
      "Process ID: 12742. Parrent Process: 4691. Start function: squares. args = (8,), kwargs = {}\n",
      "ThreadPoolExecutor-12_2. Start function: squares. args = (8,), kwargs = {}\n",
      "ThreadPoolExecutor-12_2. End function: squares\n",
      "ThreadPoolExecutor-12_1. Start function: squares. args = (7,), kwargs = {}\n",
      "ThreadPoolExecutor-12_1. End function: squares\n",
      "Process ID: 12742. End function: squaresThreadPoolExecutor-12_4. End function: squares\n",
      "Process ID: 12742. End function: squares\n",
      "Process ID: 12742. Parrent Process: 4691. Start function: squares. args = (9,), kwargs = {}\n",
      "ThreadPoolExecutor-12_5. Start function: squares. args = (9,), kwargs = {}\n",
      "ThreadPoolExecutor-12_5. End function: squares\n",
      "Process ID: 12742. End function: squares\n",
      "Process ID: 12742. Parrent Process: 4691. Start function: squares. args = (10,), kwargs = {}\n",
      "ThreadPoolExecutor-12_5. Start function: squares. args = (10,), kwargs = {}\n",
      "ThreadPoolExecutor-12_5. End function: squares\n",
      "Process ID: 12742. End function: squares\n",
      "Process ID: 12742. Parrent Process: 4691. Start function: squares. args = (11,), kwargs = {}\n",
      "ThreadPoolExecutor-12_5. Start function: squares. args = (11,), kwargs = {}\n",
      "\n",
      "\n",
      "Process ID: 12742. End function: squares\n",
      "Process ID: 12742. Parrent Process: 4691. Start function: squares. args = (12,), kwargs = {}\n",
      "ThreadPoolExecutor-12_4. Start function: squares. args = (12,), kwargs = {}\n",
      "ThreadPoolExecutor-12_4. End function: squares\n",
      "Process ID: 12742. End function: squares\n",
      "Process ID: 12742. Parrent Process: 4691. Start function: squares. args = (13,), kwargs = {}\n",
      "ThreadPoolExecutor-12_4. Start function: squares. args = (13,), kwargs = {}\n",
      "ThreadPoolExecutor-12_4. End function: squares\n",
      "Process ID: 12742. End function: squares\n",
      "Process ID: 12742. Parrent Process: 4691. Start function: squares. args = (14,), kwargs = {}\n",
      "Process ID: 12742. Parrent Process: 4691. Start function: squares. args = (15,), kwargs = {}\n",
      "ThreadPoolExecutor-12_1. Start function: squares. args = (15,), kwargs = {}\n",
      "ThreadPoolExecutor-12_1. End function: squares\n",
      "Process ID: 12742. End function: squares\n",
      "ThreadPoolExecutor-12_4. Start function: squares. args = (14,), kwargs = {}\n",
      "ThreadPoolExecutor-12_4. End function: squares\n",
      "Process ID: 12742. End function: squares\n",
      "ThreadPoolExecutor-12_5. End function: squares\n",
      "Process ID: 12742. End function: squares\n",
      "future_result = <generator object Executor.map.<locals>.result_iterator at 0x7f598c07b970>Process ID: 12742. Parrent Process: 4691. Start function: squares. args = (16,), kwargs = {}\n",
      "\n",
      "0\n",
      "1\n",
      "4\n",
      "ThreadPoolExecutor-12_0. Start function: squares. args = (16,), kwargs = {}\n",
      "ThreadPoolExecutor-12_0. End function: squares\n",
      "Process ID: 12742. End function: squares\n",
      "Process ID: 12742. Parrent Process: 4691. Start function: squares. args = (17,), kwargs = {}\n",
      "Process ID: 12742. Parrent Process: 4691. Start function: squares. args = (18,), kwargs = {}\n",
      "ThreadPoolExecutor-12_2. Start function: squares. args = (18,), kwargs = {}\n",
      "ThreadPoolExecutor-12_2. End function: squares\n",
      "Process ID: 12742. End function: squares\n",
      "Process ID: 12742. Parrent Process: 4691. Start function: squares. args = (19,), kwargs = {}\n",
      "ThreadPoolExecutor-12_2. Start function: squares. args = (19,), kwargs = {}\n",
      "ThreadPoolExecutor-12_2. End function: squares\n",
      "Process ID: 12742. End function: squares\n",
      "ThreadPoolExecutor-12_0. Start function: squares. args = (17,), kwargs = {}\n",
      "ThreadPoolExecutor-12_0. End function: squares\n",
      "Process ID: 12742. End function: squares\n",
      "9\n",
      "16\n",
      "25\n",
      "36\n",
      "49\n",
      "64\n",
      "81\n",
      "100\n",
      "121\n",
      "144\n",
      "169\n",
      "196\n",
      "225\n",
      "256\n",
      "289\n",
      "324\n",
      "361\n",
      " >>>>>>> executor._max_workers = 10\n"
     ]
    }
   ],
   "source": [
    "from concurrent.futures import ThreadPoolExecutor\n",
    "import time\n",
    "\n",
    "@process_info\n",
    "@thread_info\n",
    "def squares(x):\n",
    "    return x ** 2\n",
    "\n",
    "\n",
    "with ThreadPoolExecutor(max_workers=None) as executor:\n",
    "    future_result = executor.map(squares, range(20))\n",
    "   \n",
    "    print(f\"{future_result = }\")\n",
    "\n",
    "\n",
    "    for item in future_result:\n",
    "        print(item)\n",
    "    print(f\" >>>>>>> {executor._max_workers = }\")"
   ]
  },
  {
   "cell_type": "code",
   "execution_count": null,
   "metadata": {},
   "outputs": [],
   "source": []
  },
  {
   "cell_type": "code",
   "execution_count": null,
   "metadata": {},
   "outputs": [],
   "source": []
  },
  {
   "cell_type": "code",
   "execution_count": null,
   "metadata": {},
   "outputs": [],
   "source": []
  },
  {
   "cell_type": "code",
   "execution_count": null,
   "metadata": {},
   "outputs": [],
   "source": []
  },
  {
   "cell_type": "code",
   "execution_count": null,
   "metadata": {},
   "outputs": [],
   "source": []
  },
  {
   "cell_type": "code",
   "execution_count": null,
   "metadata": {},
   "outputs": [],
   "source": []
  },
  {
   "cell_type": "code",
   "execution_count": null,
   "metadata": {},
   "outputs": [],
   "source": []
  },
  {
   "cell_type": "code",
   "execution_count": null,
   "metadata": {},
   "outputs": [],
   "source": []
  },
  {
   "cell_type": "code",
   "execution_count": null,
   "metadata": {},
   "outputs": [],
   "source": []
  },
  {
   "cell_type": "code",
   "execution_count": null,
   "metadata": {},
   "outputs": [],
   "source": []
  },
  {
   "cell_type": "code",
   "execution_count": null,
   "metadata": {},
   "outputs": [],
   "source": []
  },
  {
   "cell_type": "code",
   "execution_count": 21,
   "metadata": {
    "ExecuteTime": {
     "end_time": "2021-01-27T11:22:55.129883Z",
     "start_time": "2021-01-27T11:22:55.049634Z"
    }
   },
   "outputs": [
    {
     "name": "stdout",
     "output_type": "stream",
     "text": [
      "Process ID: 19662. Parrent Process: 12742. Start function: squares. args = (3,), kwargs = {}Process ID: 19661. Parrent Process: 12742. Start function: squares. args = (2,), kwargs = {}Process ID: 19663. Parrent Process: 12742. Start function: squares. args = (4,), kwargs = {}Process ID: 19660. Parrent Process: 12742. Start function: squares. args = (1,), kwargs = {}Process ID: 19659. Parrent Process: 12742. Start function: squares. args = (0,), kwargs = {}\n",
      "\n",
      "Process ID: 19664. Parrent Process: 12742. Start function: squares. args = (5,), kwargs = {}\n",
      "\n",
      "MainThread. Start function: squares. args = (1,), kwargs = {}MainThread. Start function: squares. args = (0,), kwargs = {}\n",
      "MainThread. Start function: squares. args = (4,), kwargs = {}MainThread. Start function: squares. args = (5,), kwargs = {}\n",
      "\n",
      "MainThread. Start function: squares. args = (3,), kwargs = {}MainThread. End function: squares\n",
      "MainThread. End function: squares\n",
      "MainThread. End function: squares\n",
      "\n",
      "MainThread. End function: squares\n",
      "\n",
      "Process ID: 19660. End function: squares\n",
      "MainThread. End function: squares\n",
      "\n",
      "Process ID: 19664. End function: squaresProcess ID: 19662. End function: squaresProcess ID: 19659. End function: squares\n",
      "\n",
      "Process ID: 19663. End function: squaresProcess ID: 19662. Parrent Process: 12742. Start function: squares. args = (6,), kwargs = {}\n",
      "Process ID: 19660. Parrent Process: 12742. Start function: squares. args = (7,), kwargs = {}\n",
      "\n",
      "\n",
      "Process ID: 19663. Parrent Process: 12742. Start function: squares. args = (8,), kwargs = {}MainThread. Start function: squares. args = (6,), kwargs = {}MainThread. Start function: squares. args = (7,), kwargs = {}MainThread. Start function: squares. args = (2,), kwargs = {}\n",
      "\n",
      "\n",
      "MainThread. End function: squaresMainThread. End function: squares\n",
      "Process ID: 19659. Parrent Process: 12742. Start function: squares. args = (9,), kwargs = {}MainThread. Start function: squares. args = (8,), kwargs = {}Process ID: 19660. End function: squares\n",
      "\n",
      "\n",
      "\n",
      "Process ID: 19662. End function: squares\n",
      "MainThread. Start function: squares. args = (9,), kwargs = {}\n",
      "MainThread. End function: squaresMainThread. End function: squares\n",
      "\n",
      "\n",
      "Process ID: 19663. End function: squares\n",
      "\n",
      "MainThread. End function: squaresProcess ID: 19661. End function: squares\n",
      "Process ID: 19659. End function: squares\n",
      "\n",
      "future = <generator object _chain_from_iterable_of_lists at 0x7f598c07b900>\n",
      "item = 0\n",
      "item = 1\n",
      "item = 4\n",
      "item = 9\n",
      "item = 16\n",
      "item = 25\n",
      "item = 36\n",
      "item = 49\n",
      "item = 64\n",
      "item = 81\n",
      " >>>>> executor._max_workers = 6\n"
     ]
    }
   ],
   "source": [
    "from concurrent.futures import ProcessPoolExecutor\n",
    "\n",
    "\n",
    "@process_info\n",
    "@thread_info\n",
    "def squares(x):\n",
    "    return x ** 2\n",
    "\n",
    "\n",
    "with ProcessPoolExecutor(max_workers=None) as executor:\n",
    "    future = executor.map(squares, range(10))\n",
    "    \n",
    "    print(f\"{future = }\")\n",
    "    \n",
    "    for item in future:\n",
    "        print(f\"{item = }\")\n",
    "        \n",
    "    print(f\" >>>>> {executor._max_workers = }\")"
   ]
  },
  {
   "cell_type": "code",
   "execution_count": null,
   "metadata": {},
   "outputs": [],
   "source": []
  },
  {
   "cell_type": "code",
   "execution_count": null,
   "metadata": {},
   "outputs": [],
   "source": []
  },
  {
   "cell_type": "code",
   "execution_count": 22,
   "metadata": {
    "ExecuteTime": {
     "end_time": "2021-01-27T11:23:21.855053Z",
     "start_time": "2021-01-27T11:23:21.850358Z"
    },
    "scrolled": true
   },
   "outputs": [
    {
     "name": "stdout",
     "output_type": "stream",
     "text": [
      "future = <generator object Executor.map.<locals>.result_iterator at 0x7f598c07beb0>\n",
      "item = 1\n",
      "item = 2\n",
      "item = 3\n",
      "item = 4\n",
      "item = 5\n",
      "item = 6\n",
      "item = 7\n",
      "item = 8\n",
      "item = 9\n",
      "item = 10\n"
     ]
    }
   ],
   "source": [
    "from concurrent.futures import ThreadPoolExecutor\n",
    "import operator\n",
    "import itertools\n",
    "\n",
    "\n",
    "with ThreadPoolExecutor(max_workers=1) as executor:\n",
    "    future = executor.map(operator.add, range(10), itertools.repeat(1))\n",
    "    \n",
    "    print(f\"{future = }\")\n",
    "    \n",
    "    for item in future:\n",
    "        print(f\"{item = }\")"
   ]
  },
  {
   "cell_type": "code",
   "execution_count": null,
   "metadata": {},
   "outputs": [],
   "source": []
  }
 ],
 "metadata": {
  "kernelspec": {
   "display_name": "Python 3",
   "language": "python",
   "name": "python3"
  },
  "language_info": {
   "codemirror_mode": {
    "name": "ipython",
    "version": 3
   },
   "file_extension": ".py",
   "mimetype": "text/x-python",
   "name": "python",
   "nbconvert_exporter": "python",
   "pygments_lexer": "ipython3",
   "version": "3.8.5"
  }
 },
 "nbformat": 4,
 "nbformat_minor": 5
}

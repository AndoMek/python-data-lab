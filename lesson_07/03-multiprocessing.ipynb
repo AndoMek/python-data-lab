{
 "cells": [
  {
   "cell_type": "code",
   "execution_count": 1,
   "metadata": {
    "ExecuteTime": {
     "end_time": "2021-01-27T09:58:29.614456Z",
     "start_time": "2021-01-27T09:58:29.610715Z"
    }
   },
   "outputs": [],
   "source": [
    "import multiprocessing as mp"
   ]
  },
  {
   "cell_type": "markdown",
   "metadata": {},
   "source": [
    "# multiprocessing — Process-based parallelism\n",
    "\n",
    "https://docs.python.org/3/library/multiprocessing.html"
   ]
  },
  {
   "cell_type": "code",
   "execution_count": null,
   "metadata": {},
   "outputs": [],
   "source": []
  },
  {
   "cell_type": "markdown",
   "metadata": {},
   "source": [
    "_Depending on the platform, multiprocessing supports three ways to start a process. These start methods are_\n",
    "\n",
    "\n",
    "__spawn__:\n",
    "\n",
    "The parent process starts a fresh python interpreter process. The child process will only inherit those resources necessary to run the process object’s run() method. In particular, unnecessary file descriptors and handles from the parent process will not be inherited. Starting a process using this method is rather slow compared to using fork or forkserver.\n",
    "\n",
    "Available on Unix and Windows. The default on Windows (always) and macOS (since python 3.8+).\n",
    "\n",
    "__fork__:\n",
    "\n",
    "The parent process uses `os.fork()` to fork the Python interpreter. The child process, when it begins, is effectively identical to the parent process. All resources of the parent are inherited by the child process. Note that safely forking a multithreaded process is problematic.\n",
    "\n",
    "Available on Unix only. The default on Unix.\n",
    "\n",
    "\n",
    "__forkserver__:\n",
    "\n",
    "When the program starts and selects the forkserver start method, a server process is started. From then on, whenever a new process is needed, the parent process connects to the server and requests that it fork a new process. The fork server process is single threaded so it is safe for it to use `os.fork()`. No unnecessary resources are inherited.\n",
    "\n",
    "Available on Unix platforms which support passing file descriptors over Unix pipes.\n"
   ]
  },
  {
   "cell_type": "code",
   "execution_count": null,
   "metadata": {},
   "outputs": [],
   "source": []
  },
  {
   "cell_type": "code",
   "execution_count": null,
   "metadata": {},
   "outputs": [],
   "source": []
  },
  {
   "cell_type": "markdown",
   "metadata": {},
   "source": [
    "## spawn\n",
    "\n",
    "<img src=\"http://www.bnikolic.co.uk/blog/assets/2019-11-13-python-forkserver-preload/python-forkserver-1.png\" align=\"left\"/>"
   ]
  },
  {
   "cell_type": "markdown",
   "metadata": {},
   "source": [
    "## fork\n",
    "\n",
    "<img src=\"http://www.bnikolic.co.uk/blog/assets/2019-11-13-python-forkserver-preload/python-forkserver-0.png\" align=\"left\"/>\n"
   ]
  },
  {
   "cell_type": "markdown",
   "metadata": {},
   "source": [
    "## forkserver\n",
    "\n",
    "<img src=\"http://www.bnikolic.co.uk/blog/assets/2019-11-13-python-forkserver-preload/python-forkserver-2.png\" align=\"left\"/>"
   ]
  },
  {
   "cell_type": "code",
   "execution_count": null,
   "metadata": {},
   "outputs": [],
   "source": []
  },
  {
   "cell_type": "markdown",
   "metadata": {},
   "source": [
    "[Python forkserver and set_forkserver_preload](http://www.bnikolic.co.uk/blog/python/parallelism/2019/11/13/python-forkserver-preload.html)"
   ]
  },
  {
   "cell_type": "code",
   "execution_count": null,
   "metadata": {},
   "outputs": [],
   "source": []
  },
  {
   "cell_type": "markdown",
   "metadata": {
    "ExecuteTime": {
     "end_time": "2021-01-27T04:40:35.924420Z",
     "start_time": "2021-01-27T04:40:35.919338Z"
    }
   },
   "source": [
    "## multiprocessing context"
   ]
  },
  {
   "cell_type": "code",
   "execution_count": 2,
   "metadata": {
    "ExecuteTime": {
     "end_time": "2021-01-27T10:06:54.141473Z",
     "start_time": "2021-01-27T10:06:54.139486Z"
    },
    "scrolled": true
   },
   "outputs": [],
   "source": [
    "import multiprocessing as mp\n",
    "\n",
    "\n",
    "if __name__ == \"__main__\":\n",
    "    mp.set_start_method(\"fork\")"
   ]
  },
  {
   "cell_type": "code",
   "execution_count": null,
   "metadata": {},
   "outputs": [],
   "source": []
  },
  {
   "cell_type": "code",
   "execution_count": 3,
   "metadata": {
    "ExecuteTime": {
     "end_time": "2021-01-27T10:07:21.428996Z",
     "start_time": "2021-01-27T10:07:21.401019Z"
    },
    "scrolled": true
   },
   "outputs": [
    {
     "ename": "RuntimeError",
     "evalue": "context has already been set",
     "output_type": "error",
     "traceback": [
      "\u001b[0;31m---------------------------------------------------------------------------\u001b[0m",
      "\u001b[0;31mRuntimeError\u001b[0m                              Traceback (most recent call last)",
      "\u001b[0;32m<ipython-input-3-a2ee1f11d738>\u001b[0m in \u001b[0;36m<module>\u001b[0;34m\u001b[0m\n\u001b[1;32m      3\u001b[0m \u001b[0;34m\u001b[0m\u001b[0m\n\u001b[1;32m      4\u001b[0m \u001b[0;32mif\u001b[0m \u001b[0m__name__\u001b[0m \u001b[0;34m==\u001b[0m \u001b[0;34m\"__main__\"\u001b[0m\u001b[0;34m:\u001b[0m\u001b[0;34m\u001b[0m\u001b[0;34m\u001b[0m\u001b[0m\n\u001b[0;32m----> 5\u001b[0;31m     \u001b[0mmp\u001b[0m\u001b[0;34m.\u001b[0m\u001b[0mset_start_method\u001b[0m\u001b[0;34m(\u001b[0m\u001b[0;34m\"fork\"\u001b[0m\u001b[0;34m)\u001b[0m\u001b[0;34m\u001b[0m\u001b[0;34m\u001b[0m\u001b[0m\n\u001b[0m",
      "\u001b[0;32m/usr/lib/python3.8/multiprocessing/context.py\u001b[0m in \u001b[0;36mset_start_method\u001b[0;34m(self, method, force)\u001b[0m\n\u001b[1;32m    241\u001b[0m     \u001b[0;32mdef\u001b[0m \u001b[0mset_start_method\u001b[0m\u001b[0;34m(\u001b[0m\u001b[0mself\u001b[0m\u001b[0;34m,\u001b[0m \u001b[0mmethod\u001b[0m\u001b[0;34m,\u001b[0m \u001b[0mforce\u001b[0m\u001b[0;34m=\u001b[0m\u001b[0;32mFalse\u001b[0m\u001b[0;34m)\u001b[0m\u001b[0;34m:\u001b[0m\u001b[0;34m\u001b[0m\u001b[0;34m\u001b[0m\u001b[0m\n\u001b[1;32m    242\u001b[0m         \u001b[0;32mif\u001b[0m \u001b[0mself\u001b[0m\u001b[0;34m.\u001b[0m\u001b[0m_actual_context\u001b[0m \u001b[0;32mis\u001b[0m \u001b[0;32mnot\u001b[0m \u001b[0;32mNone\u001b[0m \u001b[0;32mand\u001b[0m \u001b[0;32mnot\u001b[0m \u001b[0mforce\u001b[0m\u001b[0;34m:\u001b[0m\u001b[0;34m\u001b[0m\u001b[0;34m\u001b[0m\u001b[0m\n\u001b[0;32m--> 243\u001b[0;31m             \u001b[0;32mraise\u001b[0m \u001b[0mRuntimeError\u001b[0m\u001b[0;34m(\u001b[0m\u001b[0;34m'context has already been set'\u001b[0m\u001b[0;34m)\u001b[0m\u001b[0;34m\u001b[0m\u001b[0;34m\u001b[0m\u001b[0m\n\u001b[0m\u001b[1;32m    244\u001b[0m         \u001b[0;32mif\u001b[0m \u001b[0mmethod\u001b[0m \u001b[0;32mis\u001b[0m \u001b[0;32mNone\u001b[0m \u001b[0;32mand\u001b[0m \u001b[0mforce\u001b[0m\u001b[0;34m:\u001b[0m\u001b[0;34m\u001b[0m\u001b[0;34m\u001b[0m\u001b[0m\n\u001b[1;32m    245\u001b[0m             \u001b[0mself\u001b[0m\u001b[0;34m.\u001b[0m\u001b[0m_actual_context\u001b[0m \u001b[0;34m=\u001b[0m \u001b[0;32mNone\u001b[0m\u001b[0;34m\u001b[0m\u001b[0;34m\u001b[0m\u001b[0m\n",
      "\u001b[0;31mRuntimeError\u001b[0m: context has already been set"
     ]
    }
   ],
   "source": [
    "import multiprocessing as mp\n",
    "\n",
    "\n",
    "if __name__ == \"__main__\":\n",
    "    mp.set_start_method(\"fork\")"
   ]
  },
  {
   "cell_type": "code",
   "execution_count": null,
   "metadata": {},
   "outputs": [],
   "source": []
  },
  {
   "cell_type": "code",
   "execution_count": 4,
   "metadata": {
    "ExecuteTime": {
     "end_time": "2021-01-27T10:08:06.940863Z",
     "start_time": "2021-01-27T10:08:06.937650Z"
    }
   },
   "outputs": [
    {
     "name": "stdout",
     "output_type": "stream",
     "text": [
      "'spawn': <multiprocessing.context.SpawnContext object at 0x7efda80f7820>: f['Array', 'AuthenticationError', 'Barrier', 'BoundedSemaphore', 'BufferTooShort', 'Condition', 'Event', 'JoinableQueue', 'Lock', 'Manager', 'Pipe', 'Pool', 'Process', 'ProcessError', 'Queue', 'RLock', 'RawArray', 'RawValue', 'Semaphore', 'SimpleQueue', 'TimeoutError', 'Value', '__class__', '__delattr__', '__dict__', '__dir__', '__doc__', '__eq__', '__format__', '__ge__', '__getattribute__', '__gt__', '__hash__', '__init__', '__init_subclass__', '__le__', '__lt__', '__module__', '__ne__', '__new__', '__reduce__', '__reduce_ex__', '__repr__', '__setattr__', '__sizeof__', '__str__', '__subclasshook__', '__weakref__', '_check_available', '_name', 'active_children', 'allow_connection_pickling', 'cpu_count', 'current_process', 'freeze_support', 'get_context', 'get_logger', 'get_start_method', 'log_to_stderr', 'parent_process', 'reducer', 'set_executable', 'set_forkserver_preload', 'set_start_method']\n",
      "\n",
      "\n",
      "'fork': <multiprocessing.context.ForkContext object at 0x7efda80f7700>: f['Array', 'AuthenticationError', 'Barrier', 'BoundedSemaphore', 'BufferTooShort', 'Condition', 'Event', 'JoinableQueue', 'Lock', 'Manager', 'Pipe', 'Pool', 'Process', 'ProcessError', 'Queue', 'RLock', 'RawArray', 'RawValue', 'Semaphore', 'SimpleQueue', 'TimeoutError', 'Value', '__class__', '__delattr__', '__dict__', '__dir__', '__doc__', '__eq__', '__format__', '__ge__', '__getattribute__', '__gt__', '__hash__', '__init__', '__init_subclass__', '__le__', '__lt__', '__module__', '__ne__', '__new__', '__reduce__', '__reduce_ex__', '__repr__', '__setattr__', '__sizeof__', '__str__', '__subclasshook__', '__weakref__', '_check_available', '_name', 'active_children', 'allow_connection_pickling', 'cpu_count', 'current_process', 'freeze_support', 'get_context', 'get_logger', 'get_start_method', 'log_to_stderr', 'parent_process', 'reducer', 'set_executable', 'set_forkserver_preload', 'set_start_method']\n",
      "\n",
      "\n",
      "'forkserver': <multiprocessing.context.ForkServerContext object at 0x7efda80f78e0>: f['Array', 'AuthenticationError', 'Barrier', 'BoundedSemaphore', 'BufferTooShort', 'Condition', 'Event', 'JoinableQueue', 'Lock', 'Manager', 'Pipe', 'Pool', 'Process', 'ProcessError', 'Queue', 'RLock', 'RawArray', 'RawValue', 'Semaphore', 'SimpleQueue', 'TimeoutError', 'Value', '__class__', '__delattr__', '__dict__', '__dir__', '__doc__', '__eq__', '__format__', '__ge__', '__getattribute__', '__gt__', '__hash__', '__init__', '__init_subclass__', '__le__', '__lt__', '__module__', '__ne__', '__new__', '__reduce__', '__reduce_ex__', '__repr__', '__setattr__', '__sizeof__', '__str__', '__subclasshook__', '__weakref__', '_check_available', '_name', 'active_children', 'allow_connection_pickling', 'cpu_count', 'current_process', 'freeze_support', 'get_context', 'get_logger', 'get_start_method', 'log_to_stderr', 'parent_process', 'reducer', 'set_executable', 'set_forkserver_preload', 'set_start_method']\n",
      "\n",
      "\n",
      "mp: <module 'multiprocessing' from '/usr/lib/python3.8/multiprocessing/__init__.py'>: f['Array', 'AuthenticationError', 'Barrier', 'BoundedSemaphore', 'BufferTooShort', 'Condition', 'Event', 'JoinableQueue', 'Lock', 'Manager', 'Pipe', 'Pool', 'Process', 'ProcessError', 'Queue', 'RLock', 'RawArray', 'RawValue', 'Semaphore', 'SimpleQueue', 'TimeoutError', 'Value', '__class__', '__delattr__', '__dict__', '__dir__', '__doc__', '__eq__', '__format__', '__ge__', '__getattribute__', '__gt__', '__hash__', '__init__', '__init_subclass__', '__le__', '__lt__', '__module__', '__ne__', '__new__', '__reduce__', '__reduce_ex__', '__repr__', '__setattr__', '__sizeof__', '__str__', '__subclasshook__', '__weakref__', '_check_available', '_name', 'active_children', 'allow_connection_pickling', 'cpu_count', 'current_process', 'freeze_support', 'get_context', 'get_logger', 'get_start_method', 'log_to_stderr', 'parent_process', 'reducer', 'set_executable', 'set_forkserver_preload', 'set_start_method']\n",
      "\n",
      "\n"
     ]
    }
   ],
   "source": [
    "import multiprocessing as mp\n",
    "\n",
    "\n",
    "if __name__ == \"__main__\":\n",
    "    for methods in (\"spawn\", \"fork\", \"forkserver\"):\n",
    "        mp_context = mp.get_context(methods)\n",
    "        print(f\"{methods!r}: {mp_context}: f{dir(mp_context)}\\n\\n\")\n",
    "    \n",
    "    print(f\"mp: {mp}: f{dir(mp_context)}\\n\\n\")"
   ]
  },
  {
   "cell_type": "code",
   "execution_count": null,
   "metadata": {},
   "outputs": [],
   "source": []
  },
  {
   "cell_type": "markdown",
   "metadata": {},
   "source": [
    "## Process Objects\n",
    "\n",
    "`multiprocessing.Process(group=None, target=None, name=None, args=(), kwargs={}, *, daemon=None)`"
   ]
  },
  {
   "cell_type": "code",
   "execution_count": 5,
   "metadata": {
    "ExecuteTime": {
     "end_time": "2021-01-27T10:09:29.276465Z",
     "start_time": "2021-01-27T10:09:29.273095Z"
    },
    "scrolled": true
   },
   "outputs": [
    {
     "name": "stdout",
     "output_type": "stream",
     "text": [
      "Help on class Process in module multiprocessing.context:\n",
      "\n",
      "class Process(multiprocessing.process.BaseProcess)\n",
      " |  Process(group=None, target=None, name=None, args=(), kwargs={}, *, daemon=None)\n",
      " |  \n",
      " |  Process objects represent activity that is run in a separate process\n",
      " |  \n",
      " |  The class is analogous to `threading.Thread`\n",
      " |  \n",
      " |  Method resolution order:\n",
      " |      Process\n",
      " |      multiprocessing.process.BaseProcess\n",
      " |      builtins.object\n",
      " |  \n",
      " |  Methods inherited from multiprocessing.process.BaseProcess:\n",
      " |  \n",
      " |  __init__(self, group=None, target=None, name=None, args=(), kwargs={}, *, daemon=None)\n",
      " |      Initialize self.  See help(type(self)) for accurate signature.\n",
      " |  \n",
      " |  __repr__(self)\n",
      " |      Return repr(self).\n",
      " |  \n",
      " |  close(self)\n",
      " |      Close the Process object.\n",
      " |      \n",
      " |      This method releases resources held by the Process object.  It is\n",
      " |      an error to call this method if the child process is still running.\n",
      " |  \n",
      " |  is_alive(self)\n",
      " |      Return whether process is alive\n",
      " |  \n",
      " |  join(self, timeout=None)\n",
      " |      Wait until child process terminates\n",
      " |  \n",
      " |  kill(self)\n",
      " |      Terminate process; sends SIGKILL signal or uses TerminateProcess()\n",
      " |  \n",
      " |  run(self)\n",
      " |      Method to be run in sub-process; can be overridden in sub-class\n",
      " |  \n",
      " |  start(self)\n",
      " |      Start child process\n",
      " |  \n",
      " |  terminate(self)\n",
      " |      Terminate process; sends SIGTERM signal or uses TerminateProcess()\n",
      " |  \n",
      " |  ----------------------------------------------------------------------\n",
      " |  Readonly properties inherited from multiprocessing.process.BaseProcess:\n",
      " |  \n",
      " |  exitcode\n",
      " |      Return exit code of process or `None` if it has yet to stop\n",
      " |  \n",
      " |  ident\n",
      " |      Return identifier (PID) of process or `None` if it has yet to start\n",
      " |  \n",
      " |  pid\n",
      " |      Return identifier (PID) of process or `None` if it has yet to start\n",
      " |  \n",
      " |  sentinel\n",
      " |      Return a file descriptor (Unix) or handle (Windows) suitable for\n",
      " |      waiting for process termination.\n",
      " |  \n",
      " |  ----------------------------------------------------------------------\n",
      " |  Data descriptors inherited from multiprocessing.process.BaseProcess:\n",
      " |  \n",
      " |  __dict__\n",
      " |      dictionary for instance variables (if defined)\n",
      " |  \n",
      " |  __weakref__\n",
      " |      list of weak references to the object (if defined)\n",
      " |  \n",
      " |  authkey\n",
      " |  \n",
      " |  daemon\n",
      " |      Return whether process is a daemon\n",
      " |  \n",
      " |  name\n",
      "\n"
     ]
    }
   ],
   "source": [
    "help(mp.Process)"
   ]
  },
  {
   "cell_type": "code",
   "execution_count": null,
   "metadata": {},
   "outputs": [],
   "source": []
  },
  {
   "cell_type": "code",
   "execution_count": 1,
   "metadata": {
    "ExecuteTime": {
     "end_time": "2021-01-27T10:36:52.829418Z",
     "start_time": "2021-01-27T10:36:52.825755Z"
    }
   },
   "outputs": [],
   "source": [
    "import threading\n",
    "import os\n",
    "from functools import wraps\n",
    "import time\n",
    "\n",
    "def thread_info(fn):\n",
    "\n",
    "    @wraps(fn)\n",
    "    def wrapper(*args, **kwargs):\n",
    "        print(f\"{threading.current_thread().name}. Start function: {fn.__name__}. {args = }, {kwargs = }\")\n",
    "        try:\n",
    "            return fn(*args, **kwargs)\n",
    "        finally:\n",
    "            print(f\"{threading.current_thread().name}. End function: {fn.__name__}\")\n",
    "\n",
    "    return wrapper\n",
    "\n",
    "\n",
    "def process_info(fn):\n",
    "\n",
    "    @wraps(fn)\n",
    "    def wrapper(*args, **kwargs):\n",
    "        print(f\"Process ID: {os.getpid()}. Parrent Process: {os.getppid()}. {__name__ = }. Start function: {fn.__name__}. {args = }, {kwargs = }\")\n",
    "        try:\n",
    "            return fn(*args, **kwargs)\n",
    "        finally:\n",
    "            print(f\"Process ID: {os.getpid()}. End function: {fn.__name__}\")\n",
    "\n",
    "    return wrapper"
   ]
  },
  {
   "cell_type": "code",
   "execution_count": null,
   "metadata": {},
   "outputs": [],
   "source": []
  },
  {
   "cell_type": "code",
   "execution_count": null,
   "metadata": {},
   "outputs": [],
   "source": []
  },
  {
   "cell_type": "code",
   "execution_count": null,
   "metadata": {},
   "outputs": [],
   "source": []
  },
  {
   "cell_type": "code",
   "execution_count": 9,
   "metadata": {
    "ExecuteTime": {
     "end_time": "2021-01-27T10:14:54.259512Z",
     "start_time": "2021-01-27T10:14:54.233513Z"
    }
   },
   "outputs": [
    {
     "name": "stdout",
     "output_type": "stream",
     "text": [
      "Execute application. PID: 12132\n",
      "PID: 12132. IMMUTABLE = 1 9784864, MUTABLE = ['1', '2', '3', '4'] 139627910972992\n",
      "Process ID: 14770. Parrent Process: 12132. __name__ = '__main__'. Start function: function_run_in_mp. args = (1, 2), kwargs = {'kwarg1': 3, 'kwarg2': 4}\n",
      "MainThread. Start function: function_run_in_mp. args = (1, 2), kwargs = {'kwarg1': 3, 'kwarg2': 4}\n",
      "arg1 = 1, arg2 = 2, kwarg1 = 3, kwarg2 = 4\n",
      "MainThread. End function: function_run_in_mp\n",
      "Process ID: 14770. End function: function_run_in_mp\n"
     ]
    },
    {
     "name": "stderr",
     "output_type": "stream",
     "text": [
      "Process Process-1:\n",
      "Traceback (most recent call last):\n",
      "  File \"/usr/lib/python3.8/multiprocessing/process.py\", line 315, in _bootstrap\n",
      "    self.run()\n",
      "  File \"/usr/lib/python3.8/multiprocessing/process.py\", line 108, in run\n",
      "    self._target(*self._args, **self._kwargs)\n",
      "  File \"<ipython-input-8-eeaff565bd70>\", line 25, in wrapper\n",
      "    return fn(*args, **kwargs)\n",
      "  File \"<ipython-input-8-eeaff565bd70>\", line 12, in wrapper\n",
      "    return fn(*args, **kwargs)\n",
      "  File \"<ipython-input-9-94e5b2d9f819>\", line 11, in function_run_in_mp\n",
      "    print(f\"PID: {os.getpid()}. {IMMUTABLE = } {id(IMMUTABLE)}, {MUTABLE = } {id(MUTABLE)}\")\n",
      "UnboundLocalError: local variable 'IMMUTABLE' referenced before assignment\n"
     ]
    },
    {
     "name": "stdout",
     "output_type": "stream",
     "text": [
      "PID: 12132. IMMUTABLE = 1 9784864, MUTABLE = ['1', '2', '3', '4'] 139627910972992\n",
      "Complete. PID: 12132\n"
     ]
    }
   ],
   "source": [
    "import multiprocessing as mp\n",
    "import os\n",
    "\n",
    "IMMUTABLE = 1\n",
    "MUTABLE = [\"1\", \"2\", \"3\", \"4\"]\n",
    "\n",
    "@process_info\n",
    "@thread_info\n",
    "def function_run_in_mp(arg1, arg2, kwarg1=None, kwarg2=None):\n",
    "    print(f\"{arg1 = }, {arg2 = }, {kwarg1 = }, {kwarg2 = }\")\n",
    "    print(f\"PID: {os.getpid()}. {IMMUTABLE = } {id(IMMUTABLE)}, {MUTABLE = } {id(MUTABLE)}\")\n",
    "    time.sleep(4)\n",
    "    \n",
    "    IMMUTABLE += 1\n",
    "    MUTABLE[0] = [\"value\"]\n",
    "    \n",
    "    print(f\"PID: {os.getpid()}. {IMMUTABLE = } {id(IMMUTABLE)}, {MUTABLE = } {id(MUTABLE)}\")\n",
    "    print(\"Thats All Folks\")\n",
    "\n",
    "    \n",
    "if __name__ == \"__main__\":   # Mandatory\n",
    "    print(f\"Execute application. PID: {os.getpid()}\")\n",
    "    print(f\"PID: {os.getpid()}. {IMMUTABLE = } {id(IMMUTABLE)}, {MUTABLE = } {id(MUTABLE)}\")\n",
    "    \n",
    "    pr = mp.Process(target=function_run_in_mp, args=(1, 2), kwargs={\"kwarg1\": 3, \"kwarg2\": 4})\n",
    "    pr.start()\n",
    "    pr.join()\n",
    "    \n",
    "    print(f\"PID: {os.getpid()}. {IMMUTABLE = } {id(IMMUTABLE)}, {MUTABLE = } {id(MUTABLE)}\")\n",
    "    print(f\"Complete. PID: {os.getpid()}\")"
   ]
  },
  {
   "cell_type": "code",
   "execution_count": null,
   "metadata": {},
   "outputs": [],
   "source": []
  },
  {
   "cell_type": "code",
   "execution_count": null,
   "metadata": {},
   "outputs": [],
   "source": []
  },
  {
   "cell_type": "code",
   "execution_count": null,
   "metadata": {},
   "outputs": [],
   "source": []
  },
  {
   "cell_type": "code",
   "execution_count": 12,
   "metadata": {
    "ExecuteTime": {
     "end_time": "2021-01-27T10:20:36.601290Z",
     "start_time": "2021-01-27T10:20:32.570178Z"
    }
   },
   "outputs": [
    {
     "name": "stdout",
     "output_type": "stream",
     "text": [
      "Execute application. PID: 12132\n",
      "PID: 12132. IMMUTABLE = 1 9784864, MUTABLE = ['1', '2', '3', '4'] 139627910915840\n",
      "Process ID: 14896. Parrent Process: 12132. __name__ = '__main__'. Start function: function_run_in_mp. args = (1, ['1', '2', '3', '4']), kwargs = {}\n",
      "MainThread. Start function: function_run_in_mp. args = (1, ['1', '2', '3', '4']), kwargs = {}\n",
      "arg1 = 1, arg2 = ['1', '2', '3', '4'], kwarg1 = None, kwarg2 = None\n",
      "PID: 14896. IMMUTABLE = 1 9784864, MUTABLE = ['1', '2', '3', '4'] 139627910915840\n",
      "PID: 14896. IMMUTABLE = 2 9784896, MUTABLE = ['value', '2', '3', '4'] 139627910915840\n",
      "Thats All Folks\n",
      "MainThread. End function: function_run_in_mp\n",
      "Process ID: 14896. End function: function_run_in_mp\n",
      "PID: 12132. IMMUTABLE = 1 9784864, MUTABLE = ['1', '2', '3', '4'] 139627910915840\n",
      "Complete. PID: 12132\n"
     ]
    }
   ],
   "source": [
    "import multiprocessing as mp\n",
    "import os\n",
    "\n",
    "IMMUTABLE = 1\n",
    "MUTABLE = [\"1\", \"2\", \"3\", \"4\"]\n",
    "\n",
    "@process_info\n",
    "@thread_info\n",
    "def function_run_in_mp(arg1, arg2, kwarg1=None, kwarg2=None):\n",
    "    print(f\"{arg1 = }, {arg2 = }, {kwarg1 = }, {kwarg2 = }\")\n",
    "    \n",
    "    IMMUTABLE = arg1\n",
    "    MUTABLE = arg2\n",
    "    \n",
    "    print(f\"PID: {os.getpid()}. {IMMUTABLE = } {id(IMMUTABLE)}, {MUTABLE = } {id(MUTABLE)}\")\n",
    "    time.sleep(4)\n",
    "    \n",
    "    IMMUTABLE += 1\n",
    "    MUTABLE[0] = \"value\"\n",
    "    \n",
    "    print(f\"PID: {os.getpid()}. {IMMUTABLE = } {id(IMMUTABLE)}, {MUTABLE = } {id(MUTABLE)}\")\n",
    "    print(\"Thats All Folks\")\n",
    "\n",
    "    \n",
    "if __name__ == \"__main__\":\n",
    "    \n",
    "    print(f\"Execute application. PID: {os.getpid()}\")\n",
    "    print(f\"PID: {os.getpid()}. {IMMUTABLE = } {id(IMMUTABLE)}, {MUTABLE = } {id(MUTABLE)}\")\n",
    "    \n",
    "    pr = mp.Process(target=function_run_in_mp, args=(IMMUTABLE, MUTABLE))\n",
    "    pr.start()\n",
    "    pr.join()\n",
    "    \n",
    "    print(f\"PID: {os.getpid()}. {IMMUTABLE = } {id(IMMUTABLE)}, {MUTABLE = } {id(MUTABLE)}\")\n",
    "    print(f\"Complete. PID: {os.getpid()}\")"
   ]
  },
  {
   "cell_type": "code",
   "execution_count": null,
   "metadata": {},
   "outputs": [],
   "source": []
  },
  {
   "cell_type": "code",
   "execution_count": 13,
   "metadata": {
    "ExecuteTime": {
     "end_time": "2021-01-27T10:21:51.681516Z",
     "start_time": "2021-01-27T10:21:47.658271Z"
    }
   },
   "outputs": [
    {
     "name": "stdout",
     "output_type": "stream",
     "text": [
      "Execute application. PID: 12132\n",
      "Process ID: 14935. Parrent Process: 12132. __name__ = '__main__'. Start function: function_run_in_mp. args = (1, 2), kwargs = {'kwarg1': 3, 'kwarg2': 4}\n",
      "MainThread. Start function: function_run_in_mp. args = (1, 2), kwargs = {'kwarg1': 3, 'kwarg2': 4}\n",
      "arg1 = 1, arg2 = 2, kwarg1 = 3, kwarg2 = 4\n",
      "Thats All Folks\n",
      "MainThread. End function: function_run_in_mp\n",
      "Process ID: 14935. End function: function_run_in_mp\n",
      "Complete. PID: 12132\n"
     ]
    }
   ],
   "source": [
    "import multiprocessing as mp\n",
    "\n",
    "\n",
    "@process_info\n",
    "@thread_info\n",
    "def function_run_in_mp(arg1, arg2, kwarg1=None, kwarg2=None):\n",
    "    print(f\"{arg1 = }, {arg2 = }, {kwarg1 = }, {kwarg2 = }\")\n",
    "    time.sleep(4)\n",
    "    print(\"Thats All Folks\")\n",
    "\n",
    "    \n",
    "if __name__ == \"__main__\":\n",
    "    import os\n",
    "    print(f\"Execute application. PID: {os.getpid()}\")\n",
    "    \n",
    "    context = mp.get_context(\"fork\")\n",
    "    \n",
    "    # Create from mp context\n",
    "    pr = context.Process(target=function_run_in_mp, args=(1, 2), kwargs={\"kwarg1\": 3, \"kwarg2\": 4})\n",
    "    pr.start()\n",
    "    pr.join()\n",
    "    \n",
    "    print(f\"Complete. PID: {os.getpid()}\")"
   ]
  },
  {
   "cell_type": "code",
   "execution_count": null,
   "metadata": {},
   "outputs": [],
   "source": []
  },
  {
   "cell_type": "code",
   "execution_count": null,
   "metadata": {},
   "outputs": [],
   "source": []
  },
  {
   "cell_type": "code",
   "execution_count": 16,
   "metadata": {
    "ExecuteTime": {
     "end_time": "2021-01-27T10:27:47.905863Z",
     "start_time": "2021-01-27T10:27:43.867756Z"
    }
   },
   "outputs": [],
   "source": [
    "import multiprocessing as mp\n",
    "\n",
    "\n",
    "@process_info\n",
    "@thread_info\n",
    "def function_run_in_mp(arg1, arg2, kwarg1=None, kwarg2=None):\n",
    "    print(f\"{arg1 = }, {arg2 = }, {kwarg1 = }, {kwarg2 = }\")\n",
    "    time.sleep(4)\n",
    "    print(\"Thats All Folks\")\n",
    "\n",
    "    \n",
    "if __name__ == \"__main__\":\n",
    "    import os\n",
    "    print(f\"Execute application. PID: {os.getpid()}\")\n",
    "    \n",
    "    processes = []\n",
    "    for _ in range(4):\n",
    "        pr = mp.Process(target=function_run_in_mp, args=(1, 2), kwargs={\"kwarg1\": 3, \"kwarg2\": 4})\n",
    "        pr.start()\n",
    "        processes.append(pr)\n",
    "        \n",
    "    for pr in processes:\n",
    "        pr.join()\n",
    "    \n",
    "    print(f\"Complete. PID: {os.getpid()}\")"
   ]
  },
  {
   "cell_type": "code",
   "execution_count": null,
   "metadata": {},
   "outputs": [],
   "source": []
  },
  {
   "cell_type": "code",
   "execution_count": 1,
   "metadata": {
    "ExecuteTime": {
     "end_time": "2021-01-27T10:29:05.841283Z",
     "start_time": "2021-01-27T10:29:05.834284Z"
    }
   },
   "outputs": [
    {
     "name": "stdout",
     "output_type": "stream",
     "text": [
      "mp.Queue = <bound method BaseContext.Queue of <multiprocessing.context.DefaultContext object at 0x7f99084cda90>>, diff with queue.Queue _get, _init, _put, _qsize, all_tasks_done, join, maxsize, mutex, not_empty, not_full, queue, task_done, unfinished_tasks\n",
      "\n",
      "mp.JoinableQueue = <bound method BaseContext.JoinableQueue of <multiprocessing.context.DefaultContext object at 0x7f99084cda90>>, diff with queue.Queue _get, _init, _put, _qsize, all_tasks_done, maxsize, mutex, not_empty, not_full, queue, unfinished_tasks\n"
     ]
    }
   ],
   "source": [
    "import multiprocessing as mp\n",
    "import queue\n",
    "\n",
    "attr_queue = dir(queue.Queue())\n",
    "attr_mp_queue = dir(mp.Queue())\n",
    "attr_mp_joinable_queue = dir(mp.JoinableQueue())\n",
    "\n",
    "print(f\"{mp.Queue = }, diff with queue.Queue {', '.join(x for x in attr_queue if x not in attr_mp_queue)}\")\n",
    "print()\n",
    "print(f\"{mp.JoinableQueue = }, diff with queue.Queue {', '.join(x for x in attr_queue if x not in attr_mp_joinable_queue)}\")"
   ]
  },
  {
   "cell_type": "code",
   "execution_count": null,
   "metadata": {},
   "outputs": [],
   "source": []
  },
  {
   "cell_type": "markdown",
   "metadata": {},
   "source": [
    "## pickle — Python object serialization\n",
    "\n",
    "https://docs.python.org/3/library/pickle.html"
   ]
  },
  {
   "cell_type": "code",
   "execution_count": null,
   "metadata": {},
   "outputs": [],
   "source": []
  },
  {
   "cell_type": "code",
   "execution_count": 4,
   "metadata": {
    "ExecuteTime": {
     "end_time": "2021-01-27T10:34:35.373358Z",
     "start_time": "2021-01-27T10:34:35.370125Z"
    }
   },
   "outputs": [
    {
     "name": "stdout",
     "output_type": "stream",
     "text": [
      "{0: 0, 1: 1, 2: 2, 3: 3, 4: 4, 5: 5, 6: 6, 7: 7, 8: 8, 9: 9} 140294870281728 {0: 0, 1: 1, 2: 2, 3: 3, 4: 4, 5: 5, 6: 6, 7: 7, 8: 8, 9: 9} 140294870450624\n"
     ]
    }
   ],
   "source": [
    "import pickle\n",
    "\n",
    "d = dict(zip(range(10), range(10)))\n",
    "d_pickled = pickle.dumps(d)\n",
    "d1 = pickle.loads(d_pickled)\n",
    "\n",
    "print(d, id(d), d1, id(d1))"
   ]
  },
  {
   "cell_type": "code",
   "execution_count": 5,
   "metadata": {
    "ExecuteTime": {
     "end_time": "2021-01-27T10:35:14.124806Z",
     "start_time": "2021-01-27T10:35:14.121892Z"
    }
   },
   "outputs": [
    {
     "data": {
      "text/plain": [
       "b'\\x80\\x04\\x95-\\x00\\x00\\x00\\x00\\x00\\x00\\x00}\\x94(K\\x00K\\x00K\\x01K\\x01K\\x02K\\x02K\\x03K\\x03K\\x04K\\x04K\\x05K\\x05K\\x06K\\x06K\\x07K\\x07K\\x08K\\x08K\\tK\\tu.'"
      ]
     },
     "execution_count": 5,
     "metadata": {},
     "output_type": "execute_result"
    }
   ],
   "source": [
    "d_pickled"
   ]
  },
  {
   "cell_type": "code",
   "execution_count": null,
   "metadata": {},
   "outputs": [],
   "source": []
  },
  {
   "cell_type": "code",
   "execution_count": null,
   "metadata": {},
   "outputs": [],
   "source": []
  },
  {
   "cell_type": "markdown",
   "metadata": {},
   "source": [
    "Basic work with mp.queues (Pseudo Code)\n",
    "\n",
    "1. o = pickle.dump(input_object)\n",
    "2. o -> put_into_queue()\n",
    "3. raw = get_from_queue() -> o\n",
    "4. output_object = pickle.load(raw)"
   ]
  },
  {
   "cell_type": "code",
   "execution_count": null,
   "metadata": {},
   "outputs": [],
   "source": []
  },
  {
   "cell_type": "code",
   "execution_count": 8,
   "metadata": {
    "ExecuteTime": {
     "end_time": "2021-01-27T10:37:04.126059Z",
     "start_time": "2021-01-27T10:37:03.081491Z"
    }
   },
   "outputs": [
    {
     "name": "stdout",
     "output_type": "stream",
     "text": [
      "Execute application. PID: 17684\n",
      "Origin: MUTTABLE = {'origin': 'value'} 140294867034944\n",
      "Process ID: 17771. Parrent Process: 17684. __name__ = '__main__'. Start function: add_to_storage. args = (5, {'origin': 'value'}), kwargs = {}\n",
      "MainThread. Start function: add_to_storage. args = (5, {'origin': 'value'}), kwargs = {}Process ID: 17774. Parrent Process: 17684. __name__ = '__main__'. Start function: read_from_storage. args = (), kwargs = {}\n",
      "\n",
      "Put: value = {'origin': 'value', 0: 0} 140294867034944MainThread. Start function: read_from_storage. args = (), kwargs = {}\n",
      "\n",
      "Get: value = {'origin': 'value', 0: 0} 140294866929152Put: value = {'origin': 'value', 0: 0, 1: 1} 140294867034944\n",
      "\n",
      "Get: value = {'origin': 'value', 0: 0, 1: 1} 140294866930560Put: value = {'origin': 'value', 0: 0, 1: 1, 2: 2} 140294867034944\n",
      "\n",
      "Get: value = {'origin': 'value', 0: 0, 1: 1, 2: 2} 140294869845120Put: value = {'origin': 'value', 0: 0, 1: 1, 2: 2, 3: 3} 140294867034944\n",
      "\n",
      "Put: value = {'origin': 'value', 0: 0, 1: 1, 2: 2, 3: 3, 4: 4} 140294867034944Get: value = {'origin': 'value', 0: 0, 1: 1, 2: 2, 3: 3} 140294866929216\n",
      "MainThread. End function: add_to_storage\n",
      "Process ID: 17771. End function: add_to_storage\n",
      "\n",
      "Get: value = {'origin': 'value', 0: 0, 1: 1, 2: 2, 3: 3, 4: 4} 140294870391040\n",
      "MainThread. End function: read_from_storage\n",
      "Process ID: 17774. End function: read_from_storage\n",
      "Origin: MUTTABLE = {'origin': 'value'} 140294867034944\n",
      "Complete. PID: 17684\n"
     ]
    }
   ],
   "source": [
    "from queue import Empty\n",
    "import multiprocessing as mp\n",
    "\n",
    "\n",
    "storage = mp.Queue()\n",
    "\n",
    "@process_info\n",
    "@thread_info\n",
    "def add_to_storage(x, value={}):\n",
    "    for i in range(x):\n",
    "        value[i] = i\n",
    "        print(f\"Put: {value = } {id(value)}\")\n",
    "        \n",
    "        storage.put(value)\n",
    "        time.sleep(0.0001)  # Let's simulate I/O operation\n",
    "\n",
    "@process_info\n",
    "@thread_info\n",
    "def read_from_storage():\n",
    "    while True:\n",
    "        try:\n",
    "            value = storage.get(timeout=1)\n",
    "        except Empty:\n",
    "            break\n",
    "               \n",
    "        print(f\"Get: {value = } {id(value)}\")\n",
    "        value[\"origin\"] = \"new_value\"\n",
    "        \n",
    "            \n",
    "if __name__ == \"__main__\":\n",
    "    print(f\"Execute application. PID: {os.getpid()}\")\n",
    "    \n",
    "    MUTTABLE = {\"origin\": \"value\"}\n",
    "    print(f\"Origin: {MUTTABLE = } {id(MUTTABLE)}\")\n",
    "    \n",
    "    \n",
    "    write_worker = mp.Process(target=add_to_storage, name=\"Writer-Process\", args=(5, MUTTABLE, ))\n",
    "    read_worker = mp.Process(target=read_from_storage, name=\"Reader-Process\")\n",
    "        \n",
    "    write_worker.start()\n",
    "    read_worker.start()\n",
    "        \n",
    "    write_worker.join()\n",
    "    read_worker.join()\n",
    "    \n",
    "    print(f\"Origin: {MUTTABLE = } {id(MUTTABLE)}\")\n",
    "    print(f\"Complete. PID: {os.getpid()}\")"
   ]
  },
  {
   "cell_type": "code",
   "execution_count": null,
   "metadata": {},
   "outputs": [],
   "source": []
  },
  {
   "cell_type": "code",
   "execution_count": null,
   "metadata": {},
   "outputs": [],
   "source": []
  },
  {
   "cell_type": "code",
   "execution_count": null,
   "metadata": {},
   "outputs": [],
   "source": []
  },
  {
   "cell_type": "markdown",
   "metadata": {},
   "source": [
    "## `Pipe(duplex=True)`"
   ]
  },
  {
   "cell_type": "code",
   "execution_count": 9,
   "metadata": {
    "ExecuteTime": {
     "end_time": "2021-01-27T10:39:18.092476Z",
     "start_time": "2021-01-27T10:39:18.089359Z"
    }
   },
   "outputs": [
    {
     "name": "stdout",
     "output_type": "stream",
     "text": [
      "Help on method Pipe in module multiprocessing.context:\n",
      "\n",
      "Pipe(duplex=True) method of multiprocessing.context.DefaultContext instance\n",
      "    Returns two connection object connected by a pipe\n",
      "\n"
     ]
    }
   ],
   "source": [
    "help(mp.Pipe)"
   ]
  },
  {
   "cell_type": "code",
   "execution_count": 11,
   "metadata": {
    "ExecuteTime": {
     "end_time": "2021-01-27T10:40:59.645688Z",
     "start_time": "2021-01-27T10:40:59.626891Z"
    }
   },
   "outputs": [
    {
     "name": "stdout",
     "output_type": "stream",
     "text": [
      "Execute application. PID: 17684\n",
      "\n",
      "\n",
      "Process ID: 17859. Parrent Process: 17684. __name__ = '__main__'. Start function: pipe_sample. args = (<multiprocessing.connection.Connection object at 0x7f98f1b8cdc0>,), kwargs = {}\n",
      "MainThread. Start function: pipe_sample. args = (<multiprocessing.connection.Connection object at 0x7f98f1b8cdc0>,), kwargs = {}\n",
      "MainThread. End function: pipe_sample\n",
      "Process ID: 17859. End function: pipe_sample\n",
      "parent_conn = <multiprocessing.connection.Connection object at 0x7f98f1ed8490>: 42\n",
      "parent_conn = <multiprocessing.connection.Connection object at 0x7f98f1ed8490>: None\n",
      "parent_conn = <multiprocessing.connection.Connection object at 0x7f98f1ed8490>: True\n",
      "\n",
      "\n",
      "Complete. PID: 17684\n"
     ]
    }
   ],
   "source": [
    "import multiprocessing as mp\n",
    "import os\n",
    "\n",
    "\n",
    "@process_info\n",
    "@thread_info\n",
    "def pipe_sample(pipe_connection):\n",
    "    pipe_connection.send(42)\n",
    "    pipe_connection.send(None)\n",
    "    pipe_connection.send(True)\n",
    "    pipe_connection.close()\n",
    "\n",
    "if __name__ == '__main__':\n",
    "    print(f\"Execute application. PID: {os.getpid()}\\n\\n\")\n",
    "    \n",
    "    \n",
    "    parent_conn, child_conn = mp.Pipe()\n",
    "    \n",
    "    pr = mp.Process(target=pipe_sample, args=(child_conn,))\n",
    "    pr.start()\n",
    "    \n",
    "    for _ in range(3):\n",
    "        print(f\"{parent_conn = }: {parent_conn.recv()}\")\n",
    "    \n",
    "    pr.join()\n",
    "    \n",
    "    print(f\"\\n\\nComplete. PID: {os.getpid()}\")"
   ]
  },
  {
   "cell_type": "code",
   "execution_count": null,
   "metadata": {},
   "outputs": [],
   "source": []
  },
  {
   "cell_type": "code",
   "execution_count": 15,
   "metadata": {
    "ExecuteTime": {
     "end_time": "2021-01-27T10:44:12.959405Z",
     "start_time": "2021-01-27T10:44:12.938966Z"
    }
   },
   "outputs": [
    {
     "name": "stdout",
     "output_type": "stream",
     "text": [
      "Execute application. PID: 17684\n",
      "\n",
      "\n",
      "Process ID: 17935. Parrent Process: 17684. __name__ = '__main__'. Start function: pipe_sample. args = (<multiprocessing.connection.Connection object at 0x7f98f1ed8700>,), kwargs = {}\n",
      "MainThread. Start function: pipe_sample. args = (<multiprocessing.connection.Connection object at 0x7f98f1ed8700>,), kwargs = {}\n",
      "MainThread. End function: pipe_sample\n",
      "Process ID: 17935. End function: pipe_sample\n",
      "parent_conn = <multiprocessing.connection.Connection object at 0x7f98f1b6f880>: value = 42\n",
      "parent_conn = <multiprocessing.connection.Connection object at 0x7f98f1b6f880>: value = True\n",
      "\n",
      "\n",
      "Complete. PID: 17684\n"
     ]
    }
   ],
   "source": [
    "import multiprocessing as mp\n",
    "import os\n",
    "\n",
    "\n",
    "@process_info\n",
    "@thread_info\n",
    "def pipe_sample(pipe_connection):\n",
    "    pipe_connection.send(42)\n",
    "    pipe_connection.send(True)\n",
    "    pipe_connection.send(None)\n",
    "    pipe_connection.close()\n",
    "\n",
    "if __name__ == '__main__':\n",
    "    print(f\"Execute application. PID: {os.getpid()}\\n\\n\")\n",
    "    \n",
    "    \n",
    "    parent_conn, child_conn = mp.Pipe()\n",
    "        \n",
    "    pr = mp.Process(target=pipe_sample, args=(child_conn,))\n",
    "    pr.start()\n",
    "    \n",
    "    while True:\n",
    "        value = parent_conn.recv()\n",
    "        if value is None:\n",
    "            break\n",
    "        print(f\"{parent_conn = }: {value = }\")\n",
    "    \n",
    "    pr.join()\n",
    "    \n",
    "    print(f\"\\n\\nComplete. PID: {os.getpid()}\")"
   ]
  },
  {
   "cell_type": "code",
   "execution_count": null,
   "metadata": {},
   "outputs": [],
   "source": []
  },
  {
   "cell_type": "code",
   "execution_count": null,
   "metadata": {},
   "outputs": [],
   "source": []
  },
  {
   "cell_type": "code",
   "execution_count": null,
   "metadata": {},
   "outputs": [],
   "source": []
  },
  {
   "cell_type": "code",
   "execution_count": null,
   "metadata": {},
   "outputs": [],
   "source": []
  },
  {
   "cell_type": "code",
   "execution_count": null,
   "metadata": {},
   "outputs": [],
   "source": []
  },
  {
   "cell_type": "code",
   "execution_count": null,
   "metadata": {},
   "outputs": [],
   "source": []
  },
  {
   "cell_type": "code",
   "execution_count": 17,
   "metadata": {
    "ExecuteTime": {
     "end_time": "2021-01-27T10:47:19.533093Z",
     "start_time": "2021-01-27T10:47:19.530504Z"
    }
   },
   "outputs": [
    {
     "name": "stdout",
     "output_type": "stream",
     "text": [
      "Help on method Pool in module multiprocessing.context:\n",
      "\n",
      "Pool(processes=None, initializer=None, initargs=(), maxtasksperchild=None) method of multiprocessing.context.DefaultContext instance\n",
      "    Returns a process pool object\n",
      "\n"
     ]
    }
   ],
   "source": [
    "help(mp.Pool)"
   ]
  },
  {
   "cell_type": "markdown",
   "metadata": {},
   "source": [
    "## `Pool(processes=None, initializer=None, initargs=(), maxtasksperchild=None)`"
   ]
  },
  {
   "cell_type": "markdown",
   "metadata": {},
   "source": [
    "### `.apply(func[, args[, kwds]])`"
   ]
  },
  {
   "cell_type": "code",
   "execution_count": 22,
   "metadata": {
    "ExecuteTime": {
     "end_time": "2021-01-27T10:50:16.048569Z",
     "start_time": "2021-01-27T10:50:16.012147Z"
    }
   },
   "outputs": [
    {
     "name": "stdout",
     "output_type": "stream",
     "text": [
      "Process ID: 18118. Parrent Process: 17684. __name__ = '__main__'. Start function: squares. args = (1,), kwargs = {}\n",
      "MainThread. Start function: squares. args = (1,), kwargs = {}\n",
      "MainThread. End function: squares\n",
      "Process ID: 18118. End function: squares\n",
      "Process ID: 18119. Parrent Process: 17684. __name__ = '__main__'. Start function: squares. args = (2,), kwargs = {}\n",
      "MainThread. Start function: squares. args = (2,), kwargs = {}\n",
      "MainThread. End function: squares\n",
      "Process ID: 18119. End function: squares\n",
      "Process ID: 18118. Parrent Process: 17684. __name__ = '__main__'. Start function: squares. args = (3,), kwargs = {}\n",
      "MainThread. Start function: squares. args = (3,), kwargs = {}\n",
      "MainThread. End function: squares\n",
      "Process ID: 18118. End function: squares\n",
      "\n",
      "\n",
      "Complete. PID: 17684. Result = 1, <class 'int'>\n",
      "\n",
      "\n",
      "Complete. PID: 17684. Result = 4, <class 'int'>\n",
      "\n",
      "\n",
      "Complete. PID: 17684. Result = 9, <class 'int'>\n"
     ]
    }
   ],
   "source": [
    "import multiprocessing as mp\n",
    "\n",
    "\n",
    "@process_info\n",
    "@thread_info\n",
    "def squares(x):\n",
    "    return x ** 2\n",
    "\n",
    "\n",
    "if __name__ == '__main__':\n",
    "    \n",
    "    with mp.Pool(processes=2) as pool:\n",
    "        result = pool.apply(squares, args=(1, ) )\n",
    "        print(f\"\\n\\nComplete. PID: {os.getpid()}. Result = {result}, {type(result)}\")\n",
    "        \n",
    "        result = pool.apply(squares, args=(2, ) )\n",
    "        print(f\"\\n\\nComplete. PID: {os.getpid()}. Result = {result}, {type(result)}\")\n",
    "        \n",
    "        result = pool.apply(squares, args=(3, ) )\n",
    "        print(f\"\\n\\nComplete. PID: {os.getpid()}. Result = {result}, {type(result)}\")"
   ]
  },
  {
   "cell_type": "code",
   "execution_count": null,
   "metadata": {},
   "outputs": [],
   "source": []
  },
  {
   "cell_type": "markdown",
   "metadata": {},
   "source": [
    "### `.map(func, iterable[, chunksize])`"
   ]
  },
  {
   "cell_type": "code",
   "execution_count": 23,
   "metadata": {
    "ExecuteTime": {
     "end_time": "2021-01-27T10:52:40.804755Z",
     "start_time": "2021-01-27T10:52:40.730425Z"
    },
    "scrolled": true
   },
   "outputs": [
    {
     "name": "stdout",
     "output_type": "stream",
     "text": [
      "Process ID: 18188. Parrent Process: 17684. __name__ = '__main__'. Start function: squares. args = (0,), kwargs = {}Process ID: 18189. Parrent Process: 17684. __name__ = '__main__'. Start function: squares. args = (1,), kwargs = {}Process ID: 18190. Parrent Process: 17684. __name__ = '__main__'. Start function: squares. args = (2,), kwargs = {}\n",
      "\n",
      "\n",
      "MainThread. Start function: squares. args = (0,), kwargs = {}MainThread. Start function: squares. args = (1,), kwargs = {}MainThread. Start function: squares. args = (2,), kwargs = {}\n",
      "\n",
      "\n",
      "MainThread. End function: squaresMainThread. End function: squares\n",
      "\n",
      "Process ID: 18190. End function: squaresProcess ID: 18189. End function: squares\n",
      "\n",
      "Process ID: 18190. Parrent Process: 17684. __name__ = '__main__'. Start function: squares. args = (3,), kwargs = {}Process ID: 18189. Parrent Process: 17684. __name__ = '__main__'. Start function: squares. args = (4,), kwargs = {}\n",
      "MainThread. End function: squares\n",
      "\n",
      "MainThread. Start function: squares. args = (4,), kwargs = {}Process ID: 18188. End function: squaresMainThread. Start function: squares. args = (3,), kwargs = {}\n",
      "\n",
      "MainThread. End function: squaresMainThread. End function: squares\n",
      "\n",
      "Process ID: 18190. End function: squares\n",
      "Process ID: 18189. End function: squares\n",
      "\n",
      "Process ID: 18190. Parrent Process: 17684. __name__ = '__main__'. Start function: squares. args = (5,), kwargs = {}Process ID: 18188. Parrent Process: 17684. __name__ = '__main__'. Start function: squares. args = (6,), kwargs = {}Process ID: 18189. Parrent Process: 17684. __name__ = '__main__'. Start function: squares. args = (7,), kwargs = {}\n",
      "\n",
      "MainThread. Start function: squares. args = (7,), kwargs = {}\n",
      "\n",
      "MainThread. Start function: squares. args = (5,), kwargs = {}MainThread. Start function: squares. args = (6,), kwargs = {}\n",
      "\n",
      "MainThread. End function: squaresMainThread. End function: squaresMainThread. End function: squares\n",
      "\n",
      "\n",
      "Process ID: 18190. End function: squaresProcess ID: 18189. End function: squaresProcess ID: 18188. End function: squares\n",
      "\n",
      "\n",
      "Process ID: 18190. Parrent Process: 17684. __name__ = '__main__'. Start function: squares. args = (8,), kwargs = {}Process ID: 18188. Parrent Process: 17684. __name__ = '__main__'. Start function: squares. args = (9,), kwargs = {}\n",
      "MainThread. Start function: squares. args = (8,), kwargs = {}\n",
      "MainThread. End function: squares\n",
      "Process ID: 18190. End function: squares\n",
      "\n",
      "MainThread. Start function: squares. args = (9,), kwargs = {}\n",
      "MainThread. End function: squares\n",
      "Process ID: 18188. End function: squares\n",
      "\n",
      "\n",
      "Complete. PID: 17684. Result = [0, 1, 4, 9, 16, 25, 36, 49, 64, 81], <class 'list'>\n"
     ]
    }
   ],
   "source": [
    "import multiprocessing as mp\n",
    "\n",
    "\n",
    "@process_info\n",
    "@thread_info\n",
    "def squares(x):\n",
    "    return x ** 2\n",
    "\n",
    "\n",
    "if __name__ == '__main__':\n",
    "    \n",
    "    with mp.Pool(processes=3) as pool:\n",
    "        result = pool.map(squares, range(10))\n",
    "        print(f\"\\n\\nComplete. PID: {os.getpid()}. Result = {result}, {type(result)}\")"
   ]
  },
  {
   "cell_type": "code",
   "execution_count": null,
   "metadata": {},
   "outputs": [],
   "source": []
  },
  {
   "cell_type": "markdown",
   "metadata": {},
   "source": [
    "### `.imap(func, iterable[, chunksize])`"
   ]
  },
  {
   "cell_type": "code",
   "execution_count": 28,
   "metadata": {
    "ExecuteTime": {
     "end_time": "2021-01-27T10:54:50.599510Z",
     "start_time": "2021-01-27T10:54:50.522407Z"
    }
   },
   "outputs": [
    {
     "name": "stdout",
     "output_type": "stream",
     "text": [
      "Process ID: 18367. Parrent Process: 17684. __name__ = '__main__'. Start function: squares. args = (1,), kwargs = {}Process ID: 18368. Parrent Process: 17684. __name__ = '__main__'. Start function: squares. args = (2,), kwargs = {}\n",
      "Process ID: 18366. Parrent Process: 17684. __name__ = '__main__'. Start function: squares. args = (0,), kwargs = {}\n",
      "MainThread. Start function: squares. args = (1,), kwargs = {}MainThread. Start function: squares. args = (2,), kwargs = {}\n",
      "\n",
      "\n",
      "MainThread. End function: squaresMainThread. End function: squares\n",
      "MainThread. Start function: squares. args = (0,), kwargs = {}\n",
      "Process ID: 18368. End function: squares\n",
      "\n",
      "Process ID: 18367. End function: squares\n",
      "MainThread. End function: squares\n",
      "Process ID: 18367. Parrent Process: 17684. __name__ = '__main__'. Start function: squares. args = (3,), kwargs = {}Process ID: 18368. Parrent Process: 17684. __name__ = '__main__'. Start function: squares. args = (4,), kwargs = {}\n",
      "Process ID: 18366. End function: squares\n",
      "\n",
      "MainThread. Start function: squares. args = (4,), kwargs = {}Process ID: 18366. Parrent Process: 17684. __name__ = '__main__'. Start function: squares. args = (5,), kwargs = {}MainThread. Start function: squares. args = (3,), kwargs = {}\n",
      "\n",
      "MainThread. End function: squares\n",
      "\n",
      "MainThread. Start function: squares. args = (5,), kwargs = {}\n",
      "MainThread. End function: squaresMainThread. End function: squares\n",
      "Process ID: 18368. End function: squaresProcess ID: 18367. End function: squares\n",
      "\n",
      "Process ID: 18367. Parrent Process: 17684. __name__ = '__main__'. Start function: squares. args = (6,), kwargs = {}\n",
      "Process ID: 18368. Parrent Process: 17684. __name__ = '__main__'. Start function: squares. args = (7,), kwargs = {}Process ID: 18366. End function: squares\n",
      "MainThread. Start function: squares. args = (7,), kwargs = {}\n",
      "\n",
      "Process ID: 18366. Parrent Process: 17684. __name__ = '__main__'. Start function: squares. args = (8,), kwargs = {}MainThread. Start function: squares. args = (6,), kwargs = {}\n",
      "\n",
      "MainThread. Start function: squares. args = (8,), kwargs = {}\n",
      "\n",
      "MainThread. End function: squaresMainThread. End function: squares\n",
      "MainThread. End function: squaresProcess ID: 18367. End function: squares\n",
      "\n",
      "\n",
      "Process ID: 18368. End function: squares\n",
      "Process ID: 18367. Parrent Process: 17684. __name__ = '__main__'. Start function: squares. args = (9,), kwargs = {}\n",
      "MainThread. Start function: squares. args = (9,), kwargs = {}\n",
      "Process ID: 18366. End function: squaresMainThread. End function: squares\n",
      "\n",
      "Process ID: 18367. End function: squares\n",
      "\n",
      "\n",
      "Complete. PID: 17684. Result = <multiprocessing.pool.IMapIterator object at 0x7f98f1b6daf0>, <class 'multiprocessing.pool.IMapIterator'>\n",
      "0\n",
      "1\n",
      "4\n",
      "9\n",
      "16\n",
      "25\n",
      "36\n",
      "49\n",
      "64\n",
      "81\n"
     ]
    }
   ],
   "source": [
    "import multiprocessing as mp\n",
    "\n",
    "\n",
    "@process_info\n",
    "@thread_info\n",
    "def squares(x):\n",
    "    return x ** 2\n",
    "\n",
    "\n",
    "if __name__ == '__main__':\n",
    "    \n",
    "    with mp.Pool(processes=3) as pool:\n",
    "        result = pool.imap(squares, range(10))  # Lazy\n",
    "        print(f\"\\n\\nComplete. PID: {os.getpid()}. Result = {result}, {type(result)}\")\n",
    "        \n",
    "        \n",
    "        for x in result:\n",
    "            print(x)"
   ]
  },
  {
   "cell_type": "code",
   "execution_count": 26,
   "metadata": {
    "ExecuteTime": {
     "end_time": "2021-01-27T10:54:10.124679Z",
     "start_time": "2021-01-27T10:54:10.122430Z"
    }
   },
   "outputs": [
    {
     "name": "stdout",
     "output_type": "stream",
     "text": [
      "['__class__', '__delattr__', '__dict__', '__dir__', '__doc__', '__eq__', '__format__', '__ge__', '__getattribute__', '__gt__', '__hash__', '__init__', '__init_subclass__', '__iter__', '__le__', '__lt__', '__module__', '__ne__', '__new__', '__next__', '__reduce__', '__reduce_ex__', '__repr__', '__setattr__', '__sizeof__', '__str__', '__subclasshook__', '__weakref__', '_cache', '_cond', '_index', '_items', '_job', '_length', '_pool', '_set', '_set_length', '_unsorted', 'next']\n"
     ]
    }
   ],
   "source": [
    "print(dir(result))"
   ]
  },
  {
   "cell_type": "code",
   "execution_count": null,
   "metadata": {},
   "outputs": [],
   "source": []
  },
  {
   "cell_type": "code",
   "execution_count": null,
   "metadata": {},
   "outputs": [],
   "source": []
  },
  {
   "cell_type": "markdown",
   "metadata": {},
   "source": [
    "### `.imap_unordered(func, iterable[, chunksize])`"
   ]
  },
  {
   "cell_type": "code",
   "execution_count": 30,
   "metadata": {
    "ExecuteTime": {
     "end_time": "2021-01-27T10:57:15.801021Z",
     "start_time": "2021-01-27T10:57:15.722288Z"
    }
   },
   "outputs": [
    {
     "name": "stdout",
     "output_type": "stream",
     "text": [
      "Process ID: 18559. Parrent Process: 17684. __name__ = '__main__'. Start function: squares. args = (0,), kwargs = {}Process ID: 18560. Parrent Process: 17684. __name__ = '__main__'. Start function: squares. args = (1,), kwargs = {}Process ID: 18561. Parrent Process: 17684. __name__ = '__main__'. Start function: squares. args = (2,), kwargs = {}\n",
      "\n",
      "\n",
      "MainThread. Start function: squares. args = (0,), kwargs = {}MainThread. Start function: squares. args = (1,), kwargs = {}MainThread. Start function: squares. args = (2,), kwargs = {}\n",
      "\n",
      "MainThread. End function: squaresMainThread. End function: squares\n",
      "\n",
      "Process ID: 18561. End function: squaresProcess ID: 18559. End function: squares\n",
      "\n",
      "Process ID: 18561. Parrent Process: 17684. __name__ = '__main__'. Start function: squares. args = (3,), kwargs = {}Process ID: 18559. Parrent Process: 17684. __name__ = '__main__'. Start function: squares. args = (4,), kwargs = {}\n",
      "MainThread. Start function: squares. args = (3,), kwargs = {}\n",
      "MainThread. Start function: squares. args = (4,), kwargs = {}\n",
      "\n",
      "MainThread. End function: squaresMainThread. End function: squares\n",
      "\n",
      "Process ID: 18561. End function: squaresProcess ID: 18559. End function: squares\n",
      "\n",
      "Process ID: 18561. Parrent Process: 17684. __name__ = '__main__'. Start function: squares. args = (5,), kwargs = {}Process ID: 18559. Parrent Process: 17684. __name__ = '__main__'. Start function: squares. args = (6,), kwargs = {}\n",
      "MainThread. Start function: squares. args = (6,), kwargs = {}\n",
      "\n",
      "\n",
      "MainThread. End function: squaresMainThread. End function: squaresMainThread. Start function: squares. args = (5,), kwargs = {}\n",
      "\n",
      "Process ID: 18559. End function: squaresProcess ID: 18560. End function: squares\n",
      "Process ID: 18559. Parrent Process: 17684. __name__ = '__main__'. Start function: squares. args = (7,), kwargs = {}\n",
      "\n",
      "Process ID: 18560. Parrent Process: 17684. __name__ = '__main__'. Start function: squares. args = (8,), kwargs = {}\n",
      "\n",
      "MainThread. Start function: squares. args = (8,), kwargs = {}MainThread. Start function: squares. args = (7,), kwargs = {}\n",
      "\n",
      "MainThread. End function: squaresMainThread. End function: squares\n",
      "\n",
      "Process ID: 18561. End function: squaresProcess ID: 18559. End function: squares\n",
      "\n",
      "Process ID: 18561. Parrent Process: 17684. __name__ = '__main__'. Start function: squares. args = (9,), kwargs = {}\n",
      "MainThread. Start function: squares. args = (9,), kwargs = {}\n",
      "MainThread. End function: squares\n",
      "MainThread. End function: squares\n",
      "Process ID: 18560. End function: squares\n",
      "Process ID: 18561. End function: squares\n",
      "\n",
      "\n",
      "Complete. PID: 17684. Result = <multiprocessing.pool.IMapUnorderedIterator object at 0x7f98f1ebc160>, <class 'multiprocessing.pool.IMapUnorderedIterator'>\n",
      "4\n",
      "0\n",
      "9\n",
      "16\n",
      "36\n",
      "1\n",
      "25\n",
      "49\n",
      "64\n",
      "81\n"
     ]
    }
   ],
   "source": [
    "import multiprocessing as mp\n",
    "\n",
    "\n",
    "@process_info\n",
    "@thread_info\n",
    "def squares(x):\n",
    "    return x ** 2\n",
    "\n",
    "\n",
    "if __name__ == '__main__':\n",
    "    \n",
    "    with mp.Pool(processes=3) as pool:\n",
    "        result = pool.imap_unordered(squares, range(10))  # Doesn't guaranties order\n",
    "        print(f\"\\n\\nComplete. PID: {os.getpid()}. Result = {result}, {type(result)}\")\n",
    "        \n",
    "        for x in result:\n",
    "            print(x)"
   ]
  },
  {
   "cell_type": "code",
   "execution_count": null,
   "metadata": {},
   "outputs": [],
   "source": []
  },
  {
   "cell_type": "markdown",
   "metadata": {},
   "source": [
    "### `.starmap(func, iterable, chunksize=None)`"
   ]
  },
  {
   "cell_type": "code",
   "execution_count": 33,
   "metadata": {
    "ExecuteTime": {
     "end_time": "2021-01-27T10:59:30.128202Z",
     "start_time": "2021-01-27T10:59:30.109567Z"
    }
   },
   "outputs": [
    {
     "name": "stdout",
     "output_type": "stream",
     "text": [
      "arguments = [(0, 0), (1, 1), (2, 2), (3, 3), (4, 4), (5, 5), (6, 6), (7, 7), (8, 8), (9, 9)]\n",
      "\n",
      "\n",
      "Complete. PID: 17684. Result = [0, 2, 4, 6, 8, 10, 12, 14, 16, 18], <class 'list'>\n"
     ]
    }
   ],
   "source": [
    "import multiprocessing as mp\n",
    "import operator\n",
    "\n",
    "if __name__ == '__main__':\n",
    "    \n",
    "    with mp.Pool(processes=3) as pool:\n",
    "        arguments = list(zip(range(10), range(10)))\n",
    "        # arguments = zip(range(10), range(10))\n",
    "\n",
    "        print(f\"{arguments = }\")\n",
    "        \n",
    "        result = pool.starmap(operator.add, arguments)\n",
    "        print(f\"\\n\\nComplete. PID: {os.getpid()}. Result = {result}, {type(result)}\")\n",
    "        "
   ]
  },
  {
   "cell_type": "code",
   "execution_count": 34,
   "metadata": {
    "ExecuteTime": {
     "end_time": "2021-01-27T10:59:54.956294Z",
     "start_time": "2021-01-27T10:59:54.938023Z"
    }
   },
   "outputs": [
    {
     "name": "stdout",
     "output_type": "stream",
     "text": [
      "arguments = <zip object at 0x7f98f1b2dd40>\n",
      "\n",
      "\n",
      "Complete. PID: 17684. Result = [0, 2, 4, 6, 8, 10, 12, 14, 16, 18], <class 'list'>\n"
     ]
    }
   ],
   "source": [
    "import multiprocessing as mp\n",
    "import operator\n",
    "\n",
    "if __name__ == '__main__':\n",
    "    \n",
    "    with mp.Pool(processes=3) as pool:\n",
    "#         arguments = list(zip(range(10), range(10)))\n",
    "        arguments = zip(range(10), range(10))\n",
    "\n",
    "        print(f\"{arguments = }\")\n",
    "        \n",
    "        result = pool.starmap(operator.add, arguments)\n",
    "        print(f\"\\n\\nComplete. PID: {os.getpid()}. Result = {result}, {type(result)}\")\n",
    "        "
   ]
  },
  {
   "cell_type": "code",
   "execution_count": null,
   "metadata": {},
   "outputs": [],
   "source": []
  },
  {
   "cell_type": "markdown",
   "metadata": {},
   "source": [
    "### `multiprocessing.pool.AsyncResult`"
   ]
  },
  {
   "cell_type": "markdown",
   "metadata": {},
   "source": [
    "#### `apply_async(func[, args[, kwds[, callback[, error_callback]]]]`"
   ]
  },
  {
   "cell_type": "code",
   "execution_count": 35,
   "metadata": {
    "ExecuteTime": {
     "end_time": "2021-01-27T11:00:49.308522Z",
     "start_time": "2021-01-27T11:00:49.290699Z"
    }
   },
   "outputs": [
    {
     "name": "stdout",
     "output_type": "stream",
     "text": [
      "Process ID: 18758. Parrent Process: 17684. __name__ = '__main__'. Start function: squares. args = (1,), kwargs = {}\n",
      "\n",
      "Complete. PID: 17684. Result = <multiprocessing.pool.ApplyResult object at 0x7f98f1b6d550>, <class 'multiprocessing.pool.ApplyResult'>\n",
      "\n",
      "\n",
      "Complete. PID: 17684. Result = <multiprocessing.pool.ApplyResult object at 0x7f98f1b6dbe0>, <class 'multiprocessing.pool.ApplyResult'>\n"
     ]
    }
   ],
   "source": [
    "import multiprocessing as mp\n",
    "\n",
    "\n",
    "@process_info\n",
    "@thread_info\n",
    "def squares(x):\n",
    "    return x ** 2\n",
    "\n",
    "\n",
    "if __name__ == '__main__':\n",
    "    \n",
    "    with mp.Pool(processes=3) as pool:\n",
    "        result = pool.apply_async(squares, args=(1, ) )\n",
    "        print(f\"\\n\\nComplete. PID: {os.getpid()}. Result = {result}, {type(result)}\")\n",
    "        \n",
    "        result = pool.apply_async(squares, args=(2, ) )\n",
    "        print(f\"\\n\\nComplete. PID: {os.getpid()}. Result = {result}, {type(result)}\")\n"
   ]
  },
  {
   "cell_type": "code",
   "execution_count": null,
   "metadata": {},
   "outputs": [],
   "source": []
  },
  {
   "cell_type": "code",
   "execution_count": null,
   "metadata": {},
   "outputs": [],
   "source": []
  },
  {
   "cell_type": "code",
   "execution_count": null,
   "metadata": {},
   "outputs": [],
   "source": []
  },
  {
   "cell_type": "code",
   "execution_count": 36,
   "metadata": {
    "ExecuteTime": {
     "end_time": "2021-01-27T11:01:41.629418Z",
     "start_time": "2021-01-27T11:01:41.594905Z"
    }
   },
   "outputs": [
    {
     "name": "stdout",
     "output_type": "stream",
     "text": [
      "Process ID: 18768. Parrent Process: 17684. __name__ = '__main__'. Start function: squares. args = (1,), kwargs = {}\n",
      "MainThread. Start function: squares. args = (1,), kwargs = {}\n",
      "MainThread. End function: squares\n",
      "Process ID: 18768. End function: squares\n",
      "Process ID: 18769. Parrent Process: 17684. __name__ = '__main__'. Start function: squares. args = (2,), kwargs = {}\n",
      "MainThread. Start function: squares. args = (2,), kwargs = {}\n",
      "MainThread. End function: squares\n",
      "Process ID: 18769. End function: squares\n",
      "\n",
      "\n",
      "Complete. PID: 17684. Result = <multiprocessing.pool.ApplyResult object at 0x7f98f1eb65b0>, <class 'multiprocessing.pool.ApplyResult'>\n",
      "result.get() = 1\n",
      "\n",
      "\n",
      "Complete. PID: 17684. Result = <multiprocessing.pool.ApplyResult object at 0x7f98f1eafb50>, <class 'multiprocessing.pool.ApplyResult'>\n",
      "result.get(timeout=1) = 4\n"
     ]
    }
   ],
   "source": [
    "import multiprocessing as mp\n",
    "\n",
    "\n",
    "@process_info\n",
    "@thread_info\n",
    "def squares(x):\n",
    "    return x ** 2\n",
    "\n",
    "\n",
    "if __name__ == '__main__':\n",
    "    \n",
    "    with mp.Pool(processes=3) as pool:\n",
    "        result = pool.apply_async(squares, args=(1, ) )\n",
    "        print(f\"\\n\\nComplete. PID: {os.getpid()}. Result = {result}, {type(result)}\")\n",
    "        print(f\"{result.get() = }\")\n",
    "        \n",
    "        result = pool.apply_async(squares, args=(2, ) )\n",
    "        print(f\"\\n\\nComplete. PID: {os.getpid()}. Result = {result}, {type(result)}\")\n",
    "        print(f\"{result.get(timeout=1) = }\")"
   ]
  },
  {
   "cell_type": "code",
   "execution_count": 37,
   "metadata": {
    "ExecuteTime": {
     "end_time": "2021-01-27T11:02:48.646052Z",
     "start_time": "2021-01-27T11:02:47.625706Z"
    }
   },
   "outputs": [
    {
     "name": "stdout",
     "output_type": "stream",
     "text": [
      "\n",
      "\n",
      "Complete. PID: 17684. Result = <multiprocessing.pool.ApplyResult object at 0x7f98f18ad9d0>, <class 'multiprocessing.pool.ApplyResult'>\n"
     ]
    },
    {
     "ename": "TimeoutError",
     "evalue": "",
     "output_type": "error",
     "traceback": [
      "\u001b[0;31m---------------------------------------------------------------------------\u001b[0m",
      "\u001b[0;31mTimeoutError\u001b[0m                              Traceback (most recent call last)",
      "\u001b[0;32m<ipython-input-37-036f1101ab9d>\u001b[0m in \u001b[0;36m<module>\u001b[0;34m\u001b[0m\n\u001b[1;32m     13\u001b[0m         \u001b[0mresult\u001b[0m \u001b[0;34m=\u001b[0m \u001b[0mpool\u001b[0m\u001b[0;34m.\u001b[0m\u001b[0mapply_async\u001b[0m\u001b[0;34m(\u001b[0m\u001b[0mtime\u001b[0m\u001b[0;34m.\u001b[0m\u001b[0msleep\u001b[0m\u001b[0;34m,\u001b[0m \u001b[0margs\u001b[0m\u001b[0;34m=\u001b[0m\u001b[0;34m(\u001b[0m\u001b[0;36m10\u001b[0m\u001b[0;34m,\u001b[0m \u001b[0;34m)\u001b[0m \u001b[0;34m)\u001b[0m\u001b[0;34m\u001b[0m\u001b[0;34m\u001b[0m\u001b[0m\n\u001b[1;32m     14\u001b[0m         \u001b[0mprint\u001b[0m\u001b[0;34m(\u001b[0m\u001b[0;34mf\"\\n\\nComplete. PID: {os.getpid()}. Result = {result}, {type(result)}\"\u001b[0m\u001b[0;34m)\u001b[0m\u001b[0;34m\u001b[0m\u001b[0;34m\u001b[0m\u001b[0m\n\u001b[0;32m---> 15\u001b[0;31m         \u001b[0mprint\u001b[0m\u001b[0;34m(\u001b[0m\u001b[0;34mf\"{result.get(timeout=1) = }\"\u001b[0m\u001b[0;34m)\u001b[0m  \u001b[0;31m# Should Raise\u001b[0m\u001b[0;34m\u001b[0m\u001b[0;34m\u001b[0m\u001b[0m\n\u001b[0m",
      "\u001b[0;32m/usr/lib/python3.8/multiprocessing/pool.py\u001b[0m in \u001b[0;36mget\u001b[0;34m(self, timeout)\u001b[0m\n\u001b[1;32m    765\u001b[0m         \u001b[0mself\u001b[0m\u001b[0;34m.\u001b[0m\u001b[0mwait\u001b[0m\u001b[0;34m(\u001b[0m\u001b[0mtimeout\u001b[0m\u001b[0;34m)\u001b[0m\u001b[0;34m\u001b[0m\u001b[0;34m\u001b[0m\u001b[0m\n\u001b[1;32m    766\u001b[0m         \u001b[0;32mif\u001b[0m \u001b[0;32mnot\u001b[0m \u001b[0mself\u001b[0m\u001b[0;34m.\u001b[0m\u001b[0mready\u001b[0m\u001b[0;34m(\u001b[0m\u001b[0;34m)\u001b[0m\u001b[0;34m:\u001b[0m\u001b[0;34m\u001b[0m\u001b[0;34m\u001b[0m\u001b[0m\n\u001b[0;32m--> 767\u001b[0;31m             \u001b[0;32mraise\u001b[0m \u001b[0mTimeoutError\u001b[0m\u001b[0;34m\u001b[0m\u001b[0;34m\u001b[0m\u001b[0m\n\u001b[0m\u001b[1;32m    768\u001b[0m         \u001b[0;32mif\u001b[0m \u001b[0mself\u001b[0m\u001b[0;34m.\u001b[0m\u001b[0m_success\u001b[0m\u001b[0;34m:\u001b[0m\u001b[0;34m\u001b[0m\u001b[0;34m\u001b[0m\u001b[0m\n\u001b[1;32m    769\u001b[0m             \u001b[0;32mreturn\u001b[0m \u001b[0mself\u001b[0m\u001b[0;34m.\u001b[0m\u001b[0m_value\u001b[0m\u001b[0;34m\u001b[0m\u001b[0;34m\u001b[0m\u001b[0m\n",
      "\u001b[0;31mTimeoutError\u001b[0m: "
     ]
    }
   ],
   "source": [
    "import multiprocessing as mp\n",
    "import time\n",
    "\n",
    "@process_info\n",
    "@thread_info\n",
    "def squares(x):\n",
    "    return x ** 2\n",
    "\n",
    "\n",
    "if __name__ == '__main__':\n",
    "    \n",
    "    with mp.Pool(processes=3) as pool:\n",
    "        result = pool.apply_async(time.sleep, args=(10, ) )\n",
    "        print(f\"\\n\\nComplete. PID: {os.getpid()}. Result = {result}, {type(result)}\")\n",
    "        print(f\"{result.get(timeout=1) = }\")  # Should Raise\n"
   ]
  },
  {
   "cell_type": "code",
   "execution_count": null,
   "metadata": {},
   "outputs": [],
   "source": []
  },
  {
   "cell_type": "markdown",
   "metadata": {},
   "source": [
    "#### `map_async(func, iterable[, chunksize[, callback[, error_callback]]])`"
   ]
  },
  {
   "cell_type": "code",
   "execution_count": 39,
   "metadata": {
    "ExecuteTime": {
     "end_time": "2021-01-27T11:03:37.108073Z",
     "start_time": "2021-01-27T11:03:37.019093Z"
    }
   },
   "outputs": [
    {
     "name": "stdout",
     "output_type": "stream",
     "text": [
      "Process ID: 18981. Parrent Process: 17684. __name__ = '__main__'. Start function: squares. args = (0,), kwargs = {}\n",
      "MainThread. Start function: squares. args = (0,), kwargs = {}\n",
      "MainThread. End function: squares\n",
      "Process ID: 18981. End function: squares\n",
      "Process ID: 18981. Parrent Process: 17684. __name__ = '__main__'. Start function: squares. args = (3,), kwargs = {}\n",
      "MainThread. Start function: squares. args = (3,), kwargs = {}\n",
      "MainThread. End function: squares\n",
      "Process ID: 18981. End function: squares\n",
      "Process ID: 18981. Parrent Process: 17684. __name__ = '__main__'. Start function: squares. args = (4,), kwargs = {}\n",
      "MainThread. Start function: squares. args = (4,), kwargs = {}\n",
      "MainThread. End function: squares\n",
      "Process ID: 18983. Parrent Process: 17684. __name__ = '__main__'. Start function: squares. args = (2,), kwargs = {}Process ID: 18981. End function: squares\n",
      "MainThread. Start function: squares. args = (2,), kwargs = {}\n",
      "\n",
      "MainThread. End function: squares\n",
      "Process ID: 18983. End function: squares\n",
      "Process ID: 18981. Parrent Process: 17684. __name__ = '__main__'. Start function: squares. args = (5,), kwargs = {}Process ID: 18982. Parrent Process: 17684. __name__ = '__main__'. Start function: squares. args = (1,), kwargs = {}\n",
      "\n",
      "Process ID: 18983. Parrent Process: 17684. __name__ = '__main__'. Start function: squares. args = (6,), kwargs = {}MainThread. Start function: squares. args = (1,), kwargs = {}MainThread. Start function: squares. args = (5,), kwargs = {}\n",
      "\n",
      "MainThread. Start function: squares. args = (6,), kwargs = {}\n",
      "\n",
      "MainThread. End function: squaresMainThread. End function: squares\n",
      "MainThread. End function: squaresProcess ID: 18982. End function: squares\n",
      "\n",
      "\n",
      "Process ID: 18983. End function: squaresProcess ID: 18981. End function: squares\n",
      "Process ID: 18982. Parrent Process: 17684. __name__ = '__main__'. Start function: squares. args = (7,), kwargs = {}\n",
      "Process ID: 18983. Parrent Process: 17684. __name__ = '__main__'. Start function: squares. args = (8,), kwargs = {}\n",
      "Process ID: 18981. Parrent Process: 17684. __name__ = '__main__'. Start function: squares. args = (9,), kwargs = {}\n",
      "MainThread. Start function: squares. args = (7,), kwargs = {}\n",
      "MainThread. End function: squares\n",
      "\n",
      "MainThread. Start function: squares. args = (8,), kwargs = {}\n",
      "MainThread. Start function: squares. args = (9,), kwargs = {}MainThread. End function: squares\n",
      "\n",
      "MainThread. End function: squares\n",
      "Process ID: 18982. End function: squares\n",
      "Process ID: 18981. End function: squares\n",
      "Process ID: 18983. End function: squares\n",
      "\n",
      "\n",
      "Complete. PID: 17684. Result = <multiprocessing.pool.MapResult object at 0x7f98f1ea95e0>, <class 'multiprocessing.pool.MapResult'>\n",
      "[0, 1, 4, 9, 16, 25, 36, 49, 64, 81]\n"
     ]
    }
   ],
   "source": [
    "import multiprocessing as mp\n",
    "import time\n",
    "\n",
    "@process_info\n",
    "@thread_info\n",
    "def squares(x):\n",
    "    return x ** 2\n",
    "\n",
    "\n",
    "if __name__ == '__main__':\n",
    "    \n",
    "    with mp.Pool(processes=3) as pool:\n",
    "        result = pool.map_async(squares, range(10))\n",
    "        print(f\"\\n\\nComplete. PID: {os.getpid()}. Result = {result}, {type(result)}\")\n",
    "        \n",
    "        print(result.get(timeout=1))"
   ]
  },
  {
   "cell_type": "code",
   "execution_count": null,
   "metadata": {},
   "outputs": [],
   "source": []
  },
  {
   "cell_type": "code",
   "execution_count": null,
   "metadata": {},
   "outputs": [],
   "source": []
  },
  {
   "cell_type": "code",
   "execution_count": null,
   "metadata": {},
   "outputs": [],
   "source": []
  },
  {
   "cell_type": "code",
   "execution_count": 41,
   "metadata": {
    "ExecuteTime": {
     "end_time": "2021-01-27T11:05:38.501865Z",
     "start_time": "2021-01-27T11:05:38.282684Z"
    },
    "scrolled": true
   },
   "outputs": [
    {
     "name": "stdout",
     "output_type": "stream",
     "text": [
      "Process ID: 19319. Parrent Process: 17684. __name__ = '__main__'. Start function: squares. args = (0,), kwargs = {}\n",
      "MainThread. Start function: squares. args = (0,), kwargs = {}\n",
      "MainThread. End function: squares\n",
      "Process ID: 19319. End function: squares\n",
      "Process ID: 19319. Parrent Process: 17684. __name__ = '__main__'. Start function: squares. args = (3,), kwargs = {}\n",
      "MainThread. Start function: squares. args = (3,), kwargs = {}\n",
      "MainThread. End function: squares\n",
      "Process ID: 19319. End function: squares\n",
      "Process ID: 19319. Parrent Process: 17684. __name__ = '__main__'. Start function: squares. args = (4,), kwargs = {}\n",
      "MainThread. Start function: squares. args = (4,), kwargs = {}\n",
      "Process ID: 19320. Parrent Process: 17684. __name__ = '__main__'. Start function: squares. args = (1,), kwargs = {}\n",
      "MainThread. End function: squares\n",
      "MainThread. Start function: squares. args = (1,), kwargs = {}\n",
      "Process ID: 19319. End function: squaresProcess ID: 19321. Parrent Process: 17684. __name__ = '__main__'. Start function: squares. args = (2,), kwargs = {}\n",
      "MainThread. Start function: squares. args = (2,), kwargs = {}\n",
      "MainThread. End function: squaresProcess ID: 19319. Parrent Process: 17684. __name__ = '__main__'. Start function: squares. args = (5,), kwargs = {}\n",
      "\n",
      "Process ID: 19320. End function: squares\n",
      "MainThread. Start function: squares. args = (5,), kwargs = {}Process ID: 19320. Parrent Process: 17684. __name__ = '__main__'. Start function: squares. args = (6,), kwargs = {}\n",
      "\n",
      "MainThread. End function: squaresMainThread. Start function: squares. args = (6,), kwargs = {}\n",
      "\n",
      "MainThread. End function: squares\n",
      "\n",
      "Process ID: 19320. End function: squaresProcess ID: 19319. End function: squares\n",
      "MainThread. End function: squaresProcess ID: 19319. Parrent Process: 17684. __name__ = '__main__'. Start function: squares. args = (7,), kwargs = {}\n",
      "\n",
      "MainThread. Start function: squares. args = (7,), kwargs = {}Process ID: 19321. End function: squares\n",
      "\n",
      "MainThread. End function: squaresProcess ID: 19320. Parrent Process: 17684. __name__ = '__main__'. Start function: squares. args = (8,), kwargs = {}\n",
      "\n",
      "Process ID: 19321. Parrent Process: 17684. __name__ = '__main__'. Start function: squares. args = (9,), kwargs = {}\n",
      "MainThread. Start function: squares. args = (8,), kwargs = {}MainThread. Start function: squares. args = (9,), kwargs = {}\n",
      "\n",
      "\n",
      "Process ID: 19319. End function: squaresMainThread. End function: squares\n",
      "\n",
      "MainThread. End function: squaresProcess ID: 19321. End function: squares\n",
      "\n",
      "Process ID: 19320. End function: squares\n",
      "\n",
      "\n",
      "Complete. PID: 17684. Result = <multiprocessing.pool.MapResult object at 0x7f98f1dc52e0>, <class 'multiprocessing.pool.MapResult'>\n",
      "NOT READY\n",
      "[0, 1, 4, 9, 16, 25, 36, 49, 64, 81]\n"
     ]
    }
   ],
   "source": [
    "import multiprocessing as mp\n",
    "import time\n",
    "\n",
    "@process_info\n",
    "@thread_info\n",
    "def squares(x):\n",
    "    return x ** 2\n",
    "\n",
    "\n",
    "if __name__ == '__main__':\n",
    "    \n",
    "    with mp.Pool(processes=3) as pool:\n",
    "        result = pool.map_async(squares, range(10))  # Doesn't guaranties order\n",
    "        print(f\"\\n\\nComplete. PID: {os.getpid()}. Result = {result}, {type(result)}\")\n",
    "        \n",
    "        while not result.ready():\n",
    "            print(\"NOT READY\")\n",
    "            time.sleep(0.2)\n",
    "        \n",
    "        result.successful()\n",
    "        print(result.get(timeout=1))"
   ]
  },
  {
   "cell_type": "code",
   "execution_count": null,
   "metadata": {},
   "outputs": [],
   "source": []
  },
  {
   "cell_type": "code",
   "execution_count": null,
   "metadata": {},
   "outputs": [],
   "source": []
  },
  {
   "cell_type": "code",
   "execution_count": null,
   "metadata": {},
   "outputs": [],
   "source": []
  },
  {
   "cell_type": "code",
   "execution_count": null,
   "metadata": {},
   "outputs": [],
   "source": []
  },
  {
   "cell_type": "code",
   "execution_count": null,
   "metadata": {},
   "outputs": [],
   "source": []
  },
  {
   "cell_type": "code",
   "execution_count": null,
   "metadata": {},
   "outputs": [],
   "source": []
  },
  {
   "cell_type": "markdown",
   "metadata": {},
   "source": [
    "#### `starmap_async(func, iterable[, chunksize[, callback[, error_callback]]])`"
   ]
  },
  {
   "cell_type": "code",
   "execution_count": null,
   "metadata": {},
   "outputs": [],
   "source": []
  },
  {
   "cell_type": "code",
   "execution_count": 43,
   "metadata": {
    "ExecuteTime": {
     "end_time": "2021-01-27T11:06:29.414937Z",
     "start_time": "2021-01-27T11:06:29.195487Z"
    }
   },
   "outputs": [
    {
     "name": "stdout",
     "output_type": "stream",
     "text": [
      "arguments = [(0, 0), (1, 1), (2, 2), (3, 3), (4, 4), (5, 5), (6, 6), (7, 7), (8, 8), (9, 9)]\n",
      "\n",
      "\n",
      "Complete. PID: 17684. Result = <multiprocessing.pool.MapResult object at 0x7f98f1e316a0>, <class 'multiprocessing.pool.MapResult'>\n",
      "[0, 2, 4, 6, 8, 10, 12, 14, 16, 18]\n"
     ]
    }
   ],
   "source": [
    "import multiprocessing as mp\n",
    "import operator\n",
    "\n",
    "\n",
    "if __name__ == '__main__':\n",
    "    \n",
    "    with mp.Pool(processes=3) as pool:\n",
    "        arguments = list(zip(range(10), range(10)))\n",
    "        # arguments = zip(range(10), range(10))\n",
    "\n",
    "        print(f\"{arguments = }\")\n",
    "        \n",
    "        result = pool.starmap_async(operator.add, arguments)\n",
    "        print(f\"\\n\\nComplete. PID: {os.getpid()}. Result = {result}, {type(result)}\")\n",
    "        \n",
    "        while not result.ready():\n",
    "            time.sleep(0.2)\n",
    "        \n",
    "        result.successful()\n",
    "        print(result.get(timeout=1))"
   ]
  },
  {
   "cell_type": "code",
   "execution_count": null,
   "metadata": {},
   "outputs": [],
   "source": []
  }
 ],
 "metadata": {
  "kernelspec": {
   "display_name": "Python 3",
   "language": "python",
   "name": "python3"
  },
  "language_info": {
   "codemirror_mode": {
    "name": "ipython",
    "version": 3
   },
   "file_extension": ".py",
   "mimetype": "text/x-python",
   "name": "python",
   "nbconvert_exporter": "python",
   "pygments_lexer": "ipython3",
   "version": "3.8.5"
  }
 },
 "nbformat": 4,
 "nbformat_minor": 5
}

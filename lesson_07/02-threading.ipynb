{
 "cells": [
  {
   "cell_type": "code",
   "execution_count": 2,
   "metadata": {
    "ExecuteTime": {
     "end_time": "2021-01-27T08:40:22.715803Z",
     "start_time": "2021-01-27T08:40:22.713384Z"
    }
   },
   "outputs": [],
   "source": [
    "import threading"
   ]
  },
  {
   "cell_type": "markdown",
   "metadata": {},
   "source": [
    "# threading — Thread-based parallelism\n",
    "\n",
    "https://docs.python.org/3/library/threading.html"
   ]
  },
  {
   "cell_type": "code",
   "execution_count": null,
   "metadata": {},
   "outputs": [],
   "source": []
  },
  {
   "cell_type": "markdown",
   "metadata": {},
   "source": [
    "## GIL (CPython)\n",
    "\n",
    "[Global Interpreter Lock](https://en.wikipedia.org/wiki/Global_interpreter_lock)\n",
    "\n",
    "[Inside the Python GIL](http://www.dabeaz.com/python/GIL.pdf)"
   ]
  },
  {
   "cell_type": "markdown",
   "metadata": {},
   "source": [
    "<img src=\"https://upload.wikimedia.org/wikipedia/commons/0/09/GIL_description.gif\" align=\"left\"/>"
   ]
  },
  {
   "cell_type": "code",
   "execution_count": null,
   "metadata": {},
   "outputs": [],
   "source": []
  },
  {
   "cell_type": "code",
   "execution_count": 2,
   "metadata": {
    "ExecuteTime": {
     "end_time": "2021-01-27T08:42:37.007400Z",
     "start_time": "2021-01-27T08:42:37.000040Z"
    }
   },
   "outputs": [
    {
     "data": {
      "text/plain": [
       "5"
      ]
     },
     "execution_count": 2,
     "metadata": {},
     "output_type": "execute_result"
    }
   ],
   "source": [
    "threading.active_count()\n",
    "\n",
    "# Note Jupyter create their own threads"
   ]
  },
  {
   "cell_type": "code",
   "execution_count": null,
   "metadata": {},
   "outputs": [],
   "source": []
  },
  {
   "cell_type": "code",
   "execution_count": 3,
   "metadata": {
    "ExecuteTime": {
     "end_time": "2021-01-27T08:42:51.370089Z",
     "start_time": "2021-01-27T08:42:51.367319Z"
    }
   },
   "outputs": [
    {
     "data": {
      "text/plain": [
       "<_MainThread(MainThread, started 140475845437248)>"
      ]
     },
     "execution_count": 3,
     "metadata": {},
     "output_type": "execute_result"
    }
   ],
   "source": [
    "threading.current_thread()"
   ]
  },
  {
   "cell_type": "code",
   "execution_count": 4,
   "metadata": {
    "ExecuteTime": {
     "end_time": "2021-01-27T08:43:00.747066Z",
     "start_time": "2021-01-27T08:43:00.743827Z"
    }
   },
   "outputs": [
    {
     "name": "stdout",
     "output_type": "stream",
     "text": [
      "['__class__', '__delattr__', '__dict__', '__dir__', '__doc__', '__eq__', '__format__', '__ge__', '__getattribute__', '__gt__', '__hash__', '__init__', '__init_subclass__', '__le__', '__lt__', '__module__', '__ne__', '__new__', '__reduce__', '__reduce_ex__', '__repr__', '__setattr__', '__sizeof__', '__str__', '__subclasshook__', '__weakref__', '_args', '_bootstrap', '_bootstrap_inner', '_daemonic', '_delete', '_ident', '_initialized', '_invoke_excepthook', '_is_stopped', '_kwargs', '_name', '_native_id', '_reset_internal_locks', '_set_ident', '_set_native_id', '_set_tstate_lock', '_started', '_stderr', '_stop', '_target', '_tstate_lock', '_wait_for_tstate_lock', 'daemon', 'getName', 'ident', 'isAlive', 'isDaemon', 'is_alive', 'join', 'name', 'native_id', 'run', 'setDaemon', 'setName', 'start']\n"
     ]
    }
   ],
   "source": [
    "print(dir(threading.current_thread()))"
   ]
  },
  {
   "cell_type": "code",
   "execution_count": null,
   "metadata": {},
   "outputs": [],
   "source": []
  },
  {
   "cell_type": "code",
   "execution_count": 12,
   "metadata": {
    "ExecuteTime": {
     "end_time": "2021-01-27T08:45:42.698951Z",
     "start_time": "2021-01-27T08:45:42.696329Z"
    }
   },
   "outputs": [
    {
     "data": {
      "text/plain": [
       "'MainThread'"
      ]
     },
     "execution_count": 12,
     "metadata": {},
     "output_type": "execute_result"
    }
   ],
   "source": [
    "threading.current_thread().name\n",
    "\n",
    "# When intepreter start it create thread with name: ``MainThread``"
   ]
  },
  {
   "cell_type": "code",
   "execution_count": 10,
   "metadata": {
    "ExecuteTime": {
     "end_time": "2021-01-27T08:45:33.514271Z",
     "start_time": "2021-01-27T08:45:33.511608Z"
    }
   },
   "outputs": [
    {
     "data": {
      "text/plain": [
       "'WTF'"
      ]
     },
     "execution_count": 10,
     "metadata": {},
     "output_type": "execute_result"
    }
   ],
   "source": [
    "threading.current_thread().name = \"WTF\"\n",
    "\n",
    "threading.current_thread().name"
   ]
  },
  {
   "cell_type": "code",
   "execution_count": null,
   "metadata": {},
   "outputs": [],
   "source": []
  },
  {
   "cell_type": "code",
   "execution_count": 13,
   "metadata": {
    "ExecuteTime": {
     "end_time": "2021-01-27T08:46:04.425570Z",
     "start_time": "2021-01-27T08:46:04.423090Z"
    }
   },
   "outputs": [
    {
     "data": {
      "text/plain": [
       "140475845437248"
      ]
     },
     "execution_count": 13,
     "metadata": {},
     "output_type": "execute_result"
    }
   ],
   "source": [
    "threading.get_ident()"
   ]
  },
  {
   "cell_type": "code",
   "execution_count": null,
   "metadata": {},
   "outputs": [],
   "source": []
  },
  {
   "cell_type": "code",
   "execution_count": 15,
   "metadata": {
    "ExecuteTime": {
     "end_time": "2021-01-27T08:46:33.642605Z",
     "start_time": "2021-01-27T08:46:33.639317Z"
    }
   },
   "outputs": [
    {
     "data": {
      "text/plain": [
       "5202"
      ]
     },
     "execution_count": 15,
     "metadata": {},
     "output_type": "execute_result"
    }
   ],
   "source": [
    "threading.get_native_id()  # Python 3.8+"
   ]
  },
  {
   "cell_type": "code",
   "execution_count": null,
   "metadata": {},
   "outputs": [],
   "source": []
  },
  {
   "cell_type": "code",
   "execution_count": 18,
   "metadata": {
    "ExecuteTime": {
     "end_time": "2021-01-27T08:47:12.298297Z",
     "start_time": "2021-01-27T08:47:12.295541Z"
    }
   },
   "outputs": [
    {
     "data": {
      "text/plain": [
       "[<_MainThread(MainThread, started 140475845437248)>,\n",
       " <Thread(Thread-2, started daemon 140475761223424)>,\n",
       " <Heartbeat(Thread-3, started daemon 140475752830720)>,\n",
       " <HistorySavingThread(IPythonHistorySavingThread, started 140475727390464)>,\n",
       " <ParentPollerUnix(Thread-1, started daemon 140475718735616)>]"
      ]
     },
     "execution_count": 18,
     "metadata": {},
     "output_type": "execute_result"
    }
   ],
   "source": [
    "threading.enumerate()"
   ]
  },
  {
   "cell_type": "code",
   "execution_count": null,
   "metadata": {
    "scrolled": true
   },
   "outputs": [],
   "source": [
    "for tr in threading.enumerate():\n",
    "    print(tr.getName())"
   ]
  },
  {
   "cell_type": "code",
   "execution_count": null,
   "metadata": {},
   "outputs": [],
   "source": []
  },
  {
   "cell_type": "code",
   "execution_count": null,
   "metadata": {},
   "outputs": [],
   "source": []
  },
  {
   "cell_type": "markdown",
   "metadata": {},
   "source": [
    "## Thread Objects\n",
    "\n",
    "`threading.Thread(group=None, target=None, name=None, args=(), kwargs={}, *, daemon=None)`"
   ]
  },
  {
   "cell_type": "code",
   "execution_count": 1,
   "metadata": {
    "ExecuteTime": {
     "end_time": "2021-01-27T08:48:37.512832Z",
     "start_time": "2021-01-27T08:48:37.510843Z"
    }
   },
   "outputs": [],
   "source": [
    "from threading import Thread"
   ]
  },
  {
   "cell_type": "code",
   "execution_count": 20,
   "metadata": {
    "ExecuteTime": {
     "end_time": "2021-01-27T08:48:40.043376Z",
     "start_time": "2021-01-27T08:48:40.039444Z"
    }
   },
   "outputs": [
    {
     "name": "stdout",
     "output_type": "stream",
     "text": [
      "Help on class Thread in module threading:\n",
      "\n",
      "class Thread(builtins.object)\n",
      " |  Thread(group=None, target=None, name=None, args=(), kwargs=None, *, daemon=None)\n",
      " |  \n",
      " |  A class that represents a thread of control.\n",
      " |  \n",
      " |  This class can be safely subclassed in a limited fashion. There are two ways\n",
      " |  to specify the activity: by passing a callable object to the constructor, or\n",
      " |  by overriding the run() method in a subclass.\n",
      " |  \n",
      " |  Methods defined here:\n",
      " |  \n",
      " |  __init__(self, group=None, target=None, name=None, args=(), kwargs=None, *, daemon=None)\n",
      " |      This constructor should always be called with keyword arguments. Arguments are:\n",
      " |      \n",
      " |      *group* should be None; reserved for future extension when a ThreadGroup\n",
      " |      class is implemented.\n",
      " |      \n",
      " |      *target* is the callable object to be invoked by the run()\n",
      " |      method. Defaults to None, meaning nothing is called.\n",
      " |      \n",
      " |      *name* is the thread name. By default, a unique name is constructed of\n",
      " |      the form \"Thread-N\" where N is a small decimal number.\n",
      " |      \n",
      " |      *args* is the argument tuple for the target invocation. Defaults to ().\n",
      " |      \n",
      " |      *kwargs* is a dictionary of keyword arguments for the target\n",
      " |      invocation. Defaults to {}.\n",
      " |      \n",
      " |      If a subclass overrides the constructor, it must make sure to invoke\n",
      " |      the base class constructor (Thread.__init__()) before doing anything\n",
      " |      else to the thread.\n",
      " |  \n",
      " |  __repr__(self)\n",
      " |      Return repr(self).\n",
      " |  \n",
      " |  getName(self)\n",
      " |  \n",
      " |  isAlive(self)\n",
      " |      Return whether the thread is alive.\n",
      " |      \n",
      " |      This method is deprecated, use is_alive() instead.\n",
      " |  \n",
      " |  isDaemon(self)\n",
      " |  \n",
      " |  is_alive(self)\n",
      " |      Return whether the thread is alive.\n",
      " |      \n",
      " |      This method returns True just before the run() method starts until just\n",
      " |      after the run() method terminates. The module function enumerate()\n",
      " |      returns a list of all alive threads.\n",
      " |  \n",
      " |  join(self, timeout=None)\n",
      " |      Wait until the thread terminates.\n",
      " |      \n",
      " |      This blocks the calling thread until the thread whose join() method is\n",
      " |      called terminates -- either normally or through an unhandled exception\n",
      " |      or until the optional timeout occurs.\n",
      " |      \n",
      " |      When the timeout argument is present and not None, it should be a\n",
      " |      floating point number specifying a timeout for the operation in seconds\n",
      " |      (or fractions thereof). As join() always returns None, you must call\n",
      " |      is_alive() after join() to decide whether a timeout happened -- if the\n",
      " |      thread is still alive, the join() call timed out.\n",
      " |      \n",
      " |      When the timeout argument is not present or None, the operation will\n",
      " |      block until the thread terminates.\n",
      " |      \n",
      " |      A thread can be join()ed many times.\n",
      " |      \n",
      " |      join() raises a RuntimeError if an attempt is made to join the current\n",
      " |      thread as that would cause a deadlock. It is also an error to join() a\n",
      " |      thread before it has been started and attempts to do so raises the same\n",
      " |      exception.\n",
      " |  \n",
      " |  run(self)\n",
      " |      Method representing the thread's activity.\n",
      " |      \n",
      " |      You may override this method in a subclass. The standard run() method\n",
      " |      invokes the callable object passed to the object's constructor as the\n",
      " |      target argument, if any, with sequential and keyword arguments taken\n",
      " |      from the args and kwargs arguments, respectively.\n",
      " |  \n",
      " |  setDaemon(self, daemonic)\n",
      " |  \n",
      " |  setName(self, name)\n",
      " |  \n",
      " |  start(self)\n",
      " |      Start the thread's activity.\n",
      " |      \n",
      " |      It must be called at most once per thread object. It arranges for the\n",
      " |      object's run() method to be invoked in a separate thread of control.\n",
      " |      \n",
      " |      This method will raise a RuntimeError if called more than once on the\n",
      " |      same thread object.\n",
      " |  \n",
      " |  ----------------------------------------------------------------------\n",
      " |  Readonly properties defined here:\n",
      " |  \n",
      " |  ident\n",
      " |      Thread identifier of this thread or None if it has not been started.\n",
      " |      \n",
      " |      This is a nonzero integer. See the get_ident() function. Thread\n",
      " |      identifiers may be recycled when a thread exits and another thread is\n",
      " |      created. The identifier is available even after the thread has exited.\n",
      " |  \n",
      " |  native_id\n",
      " |      Native integral thread ID of this thread, or None if it has not been started.\n",
      " |      \n",
      " |      This is a non-negative integer. See the get_native_id() function.\n",
      " |      This represents the Thread ID as reported by the kernel.\n",
      " |  \n",
      " |  ----------------------------------------------------------------------\n",
      " |  Data descriptors defined here:\n",
      " |  \n",
      " |  __dict__\n",
      " |      dictionary for instance variables (if defined)\n",
      " |  \n",
      " |  __weakref__\n",
      " |      list of weak references to the object (if defined)\n",
      " |  \n",
      " |  daemon\n",
      " |      A boolean value indicating whether this thread is a daemon thread.\n",
      " |      \n",
      " |      This must be set before start() is called, otherwise RuntimeError is\n",
      " |      raised. Its initial value is inherited from the creating thread; the\n",
      " |      main thread is not a daemon thread and therefore all threads created in\n",
      " |      the main thread default to daemon = False.\n",
      " |      \n",
      " |      The entire Python program exits when only daemon threads are left.\n",
      " |  \n",
      " |  name\n",
      " |      A string used for identification purposes only.\n",
      " |      \n",
      " |      It has no semantics. Multiple threads may be given the same name. The\n",
      " |      initial name is set by the constructor.\n",
      "\n"
     ]
    }
   ],
   "source": [
    "help(threading.Thread)"
   ]
  },
  {
   "cell_type": "code",
   "execution_count": null,
   "metadata": {},
   "outputs": [],
   "source": []
  },
  {
   "cell_type": "code",
   "execution_count": 21,
   "metadata": {
    "ExecuteTime": {
     "end_time": "2021-01-27T08:51:26.459155Z",
     "start_time": "2021-01-27T08:51:26.456663Z"
    }
   },
   "outputs": [
    {
     "data": {
      "text/plain": [
       "<Thread(Thread-4, initial)>"
      ]
     },
     "execution_count": 21,
     "metadata": {},
     "output_type": "execute_result"
    }
   ],
   "source": [
    "Thread()"
   ]
  },
  {
   "cell_type": "code",
   "execution_count": 22,
   "metadata": {
    "ExecuteTime": {
     "end_time": "2021-01-27T08:51:30.345672Z",
     "start_time": "2021-01-27T08:51:30.343044Z"
    }
   },
   "outputs": [
    {
     "data": {
      "text/plain": [
       "[<_MainThread(MainThread, started 140475845437248)>,\n",
       " <Thread(Thread-2, started daemon 140475761223424)>,\n",
       " <Heartbeat(Thread-3, started daemon 140475752830720)>,\n",
       " <HistorySavingThread(IPythonHistorySavingThread, started 140475727390464)>,\n",
       " <ParentPollerUnix(Thread-1, started daemon 140475718735616)>]"
      ]
     },
     "execution_count": 22,
     "metadata": {},
     "output_type": "execute_result"
    }
   ],
   "source": [
    "threading.enumerate()"
   ]
  },
  {
   "cell_type": "code",
   "execution_count": null,
   "metadata": {},
   "outputs": [],
   "source": []
  },
  {
   "cell_type": "code",
   "execution_count": 25,
   "metadata": {
    "ExecuteTime": {
     "end_time": "2021-01-27T08:52:24.315114Z",
     "start_time": "2021-01-27T08:52:24.311618Z"
    }
   },
   "outputs": [
    {
     "name": "stdout",
     "output_type": "stream",
     "text": [
      "threading.current_thread().name = 'Thread-6'\n"
     ]
    }
   ],
   "source": [
    "import time\n",
    "\n",
    "def function_run_in_thread():\n",
    "    print(f\"{threading.current_thread().name = }\")\n",
    "    time.sleep(4)\n",
    "    print(\"Thats All Folks\")\n",
    "    \n",
    "thread = Thread(target=function_run_in_thread)\n",
    "thread.start()"
   ]
  },
  {
   "cell_type": "code",
   "execution_count": 26,
   "metadata": {
    "ExecuteTime": {
     "end_time": "2021-01-27T08:52:25.993828Z",
     "start_time": "2021-01-27T08:52:25.991390Z"
    }
   },
   "outputs": [
    {
     "data": {
      "text/plain": [
       "[<_MainThread(MainThread, started 140475845437248)>,\n",
       " <Thread(Thread-2, started daemon 140475761223424)>,\n",
       " <Heartbeat(Thread-3, started daemon 140475752830720)>,\n",
       " <HistorySavingThread(IPythonHistorySavingThread, started 140475727390464)>,\n",
       " <ParentPollerUnix(Thread-1, started daemon 140475718735616)>,\n",
       " <Thread(Thread-6, started 140475709556480)>]"
      ]
     },
     "execution_count": 26,
     "metadata": {},
     "output_type": "execute_result"
    },
    {
     "name": "stdout",
     "output_type": "stream",
     "text": [
      "Thats All Folks\n"
     ]
    }
   ],
   "source": [
    "threading.enumerate()"
   ]
  },
  {
   "cell_type": "code",
   "execution_count": null,
   "metadata": {},
   "outputs": [],
   "source": []
  },
  {
   "cell_type": "code",
   "execution_count": null,
   "metadata": {},
   "outputs": [],
   "source": []
  },
  {
   "cell_type": "code",
   "execution_count": null,
   "metadata": {},
   "outputs": [],
   "source": []
  },
  {
   "cell_type": "code",
   "execution_count": null,
   "metadata": {},
   "outputs": [],
   "source": []
  },
  {
   "cell_type": "code",
   "execution_count": 4,
   "metadata": {
    "ExecuteTime": {
     "end_time": "2021-01-27T08:53:07.289696Z",
     "start_time": "2021-01-27T08:53:07.287158Z"
    }
   },
   "outputs": [],
   "source": [
    "from functools import wraps\n",
    "\n",
    "\n",
    "def thread_info(fn):\n",
    "\n",
    "    @wraps(fn)\n",
    "    def wrapper(*args, **kwargs):\n",
    "        print(f\"{threading.current_thread().name}. Start function: {fn.__name__}. {args = }, {kwargs = }\")\n",
    "        try:\n",
    "            return fn(*args, **kwargs)\n",
    "        finally:\n",
    "            print(f\"{threading.current_thread().name}. End function: {fn.__name__}\")\n",
    "\n",
    "    return wrapper"
   ]
  },
  {
   "cell_type": "code",
   "execution_count": 28,
   "metadata": {
    "ExecuteTime": {
     "end_time": "2021-01-27T08:53:39.437174Z",
     "start_time": "2021-01-27T08:53:39.433623Z"
    }
   },
   "outputs": [
    {
     "name": "stdout",
     "output_type": "stream",
     "text": [
      "MainThread. Start function: add_. args = (1, 2), kwargs = {}\n",
      "MainThread. End function: add_\n"
     ]
    },
    {
     "data": {
      "text/plain": [
       "3"
      ]
     },
     "execution_count": 28,
     "metadata": {},
     "output_type": "execute_result"
    }
   ],
   "source": [
    "@thread_info\n",
    "def add_(a, b):\n",
    "    return a + b\n",
    "\n",
    "add_(1, 2)"
   ]
  },
  {
   "cell_type": "code",
   "execution_count": null,
   "metadata": {},
   "outputs": [],
   "source": []
  },
  {
   "cell_type": "code",
   "execution_count": 29,
   "metadata": {
    "ExecuteTime": {
     "end_time": "2021-01-27T08:54:22.012471Z",
     "start_time": "2021-01-27T08:54:22.009517Z"
    }
   },
   "outputs": [
    {
     "name": "stdout",
     "output_type": "stream",
     "text": [
      "Thread-7. Start function: function_run_in_thread. args = (1, 2), kwargs = {'kwarg1': 3, 'kwarg2': 4}\n",
      "arg1 = 1, arg2 = 2, kwarg1 = 3, kwarg2 = 4\n",
      "Thats All Folks\n",
      "Thread-7. End function: function_run_in_thread\n"
     ]
    }
   ],
   "source": [
    "@thread_info\n",
    "def function_run_in_thread(arg1, arg2, kwarg1=None, kwarg2=None):\n",
    "    print(f\"{arg1 = }, {arg2 = }, {kwarg1 = }, {kwarg2 = }\")\n",
    "    time.sleep(4)\n",
    "    print(\"Thats All Folks\")\n",
    "    \n",
    "thread = Thread(target=function_run_in_thread, args=(1, 2), kwargs={\"kwarg1\": 3, \"kwarg2\": 4})\n",
    "thread.start()"
   ]
  },
  {
   "cell_type": "code",
   "execution_count": null,
   "metadata": {},
   "outputs": [],
   "source": []
  },
  {
   "cell_type": "code",
   "execution_count": 30,
   "metadata": {
    "ExecuteTime": {
     "end_time": "2021-01-27T08:54:47.740755Z",
     "start_time": "2021-01-27T08:54:47.737890Z"
    }
   },
   "outputs": [
    {
     "name": "stdout",
     "output_type": "stream",
     "text": [
      "Thread-8. Start function: function_run_in_thread. args = (1, 2, 3, 4), kwargs = {}\n",
      "arg1 = 1, arg2 = 2, kwarg1 = 3, kwarg2 = 4\n",
      "Thats All Folks\n",
      "Thread-8. End function: function_run_in_thread\n"
     ]
    }
   ],
   "source": [
    "thread = Thread(target=function_run_in_thread, args=(1, 2, 3, 4))\n",
    "thread.start()"
   ]
  },
  {
   "cell_type": "code",
   "execution_count": null,
   "metadata": {},
   "outputs": [],
   "source": []
  },
  {
   "cell_type": "code",
   "execution_count": null,
   "metadata": {},
   "outputs": [],
   "source": []
  },
  {
   "cell_type": "code",
   "execution_count": 31,
   "metadata": {
    "ExecuteTime": {
     "end_time": "2021-01-27T08:54:59.370286Z",
     "start_time": "2021-01-27T08:54:59.367465Z"
    }
   },
   "outputs": [
    {
     "name": "stdout",
     "output_type": "stream",
     "text": [
      "Thread-9. Start function: function_run_in_thread. args = (), kwargs = {'kwarg1': 3, 'kwarg2': 4, 'arg1': 1, 'arg2': 2}\n",
      "arg1 = 1, arg2 = 2, kwarg1 = 3, kwarg2 = 4\n",
      "Thats All Folks\n",
      "Thread-9. End function: function_run_in_thread\n"
     ]
    }
   ],
   "source": [
    "thread = Thread(target=function_run_in_thread,kwargs={\"kwarg1\": 3, \"kwarg2\": 4, \"arg1\": 1, \"arg2\": 2})\n",
    "thread.start()"
   ]
  },
  {
   "cell_type": "code",
   "execution_count": null,
   "metadata": {},
   "outputs": [],
   "source": []
  },
  {
   "cell_type": "code",
   "execution_count": null,
   "metadata": {},
   "outputs": [],
   "source": []
  },
  {
   "cell_type": "code",
   "execution_count": null,
   "metadata": {},
   "outputs": [],
   "source": []
  },
  {
   "cell_type": "code",
   "execution_count": 34,
   "metadata": {
    "ExecuteTime": {
     "end_time": "2021-01-27T08:56:07.180767Z",
     "start_time": "2021-01-27T08:56:07.175732Z"
    }
   },
   "outputs": [
    {
     "name": "stdout",
     "output_type": "stream",
     "text": [
      "Thread-11. Start function: function_run_in_thread. args = (1, 2), kwargs = {}\n",
      "arg1 = 1, arg2 = 2, kwarg1 = None, kwarg2 = None\n"
     ]
    },
    {
     "ename": "SystemError",
     "evalue": "Let's kill MainThread",
     "output_type": "error",
     "traceback": [
      "\u001b[0;31m---------------------------------------------------------------------------\u001b[0m",
      "\u001b[0;31mSystemError\u001b[0m                               Traceback (most recent call last)",
      "\u001b[0;32m<ipython-input-34-9ff6c32e45ee>\u001b[0m in \u001b[0;36m<module>\u001b[0;34m\u001b[0m\n\u001b[1;32m      1\u001b[0m \u001b[0mthread\u001b[0m \u001b[0;34m=\u001b[0m \u001b[0mThread\u001b[0m\u001b[0;34m(\u001b[0m\u001b[0mtarget\u001b[0m\u001b[0;34m=\u001b[0m\u001b[0mfunction_run_in_thread\u001b[0m\u001b[0;34m,\u001b[0m \u001b[0margs\u001b[0m\u001b[0;34m=\u001b[0m\u001b[0;34m(\u001b[0m\u001b[0;36m1\u001b[0m\u001b[0;34m,\u001b[0m \u001b[0;36m2\u001b[0m\u001b[0;34m,\u001b[0m \u001b[0;34m)\u001b[0m\u001b[0;34m)\u001b[0m\u001b[0;34m\u001b[0m\u001b[0;34m\u001b[0m\u001b[0m\n\u001b[1;32m      2\u001b[0m \u001b[0mthread\u001b[0m\u001b[0;34m.\u001b[0m\u001b[0mstart\u001b[0m\u001b[0;34m(\u001b[0m\u001b[0;34m)\u001b[0m\u001b[0;34m\u001b[0m\u001b[0;34m\u001b[0m\u001b[0m\n\u001b[0;32m----> 3\u001b[0;31m \u001b[0;32mraise\u001b[0m \u001b[0mSystemError\u001b[0m\u001b[0;34m(\u001b[0m\u001b[0;34m\"Let's kill MainThread\"\u001b[0m\u001b[0;34m)\u001b[0m\u001b[0;34m\u001b[0m\u001b[0;34m\u001b[0m\u001b[0m\n\u001b[0m",
      "\u001b[0;31mSystemError\u001b[0m: Let's kill MainThread"
     ]
    },
    {
     "name": "stdout",
     "output_type": "stream",
     "text": [
      "Thats All Folks\n",
      "Thread-11. End function: function_run_in_thread\n"
     ]
    }
   ],
   "source": [
    "thread = Thread(target=function_run_in_thread, args=(1, 2, ))\n",
    "thread.start()\n",
    "raise SystemError(\"Let's kill MainThread\")"
   ]
  },
  {
   "cell_type": "code",
   "execution_count": null,
   "metadata": {},
   "outputs": [],
   "source": []
  },
  {
   "cell_type": "code",
   "execution_count": null,
   "metadata": {},
   "outputs": [],
   "source": []
  },
  {
   "cell_type": "code",
   "execution_count": 35,
   "metadata": {
    "ExecuteTime": {
     "end_time": "2021-01-27T08:58:42.811923Z",
     "start_time": "2021-01-27T08:58:42.807858Z"
    }
   },
   "outputs": [
    {
     "name": "stdout",
     "output_type": "stream",
     "text": [
      "Writer. Start function: add_to_storage. args = (), kwargs = {}\n",
      "Writer. End function: add_to_storage\n",
      "Reader. Start function: read_from_storage. args = (), kwargs = {}\n",
      "Reader. End function: read_from_storage\n"
     ]
    }
   ],
   "source": [
    "@thread_info\n",
    "def add_to_storage():\n",
    "    pass\n",
    "\n",
    "@thread_info\n",
    "def read_from_storage():\n",
    "    pass\n",
    "\n",
    "\n",
    "write_thread = Thread(target=add_to_storage, name=\"Writer\")\n",
    "read_thread = Thread(target=read_from_storage, name=\"Reader\")\n",
    "\n",
    "write_thread.start()\n",
    "read_thread.start()"
   ]
  },
  {
   "cell_type": "code",
   "execution_count": null,
   "metadata": {},
   "outputs": [],
   "source": []
  },
  {
   "cell_type": "code",
   "execution_count": 37,
   "metadata": {
    "ExecuteTime": {
     "end_time": "2021-01-27T08:59:24.622806Z",
     "start_time": "2021-01-27T08:59:24.615838Z"
    },
    "scrolled": true
   },
   "outputs": [
    {
     "name": "stdout",
     "output_type": "stream",
     "text": [
      "Writer-Thread. Start function: add_to_storage. args = (), kwargs = {}\n",
      "Writer-Thread. End function: add_to_storage\n",
      "Reader-Thread. Start function: read_from_storage. args = (), kwargs = {}\n",
      "0;1;2;3;4;5;6;7;8;9;10;11;12;13;14;15;16;17;18;19;20;21;22;23;24;25;26;27;28;29;30;31;32;33;34;35;36;37;38;39;40;41;42;43;44;45;46;47;48;49;50;51;52;53;54;55;56;57;58;59;60;61;62;63;64;65;66;67;68;69;70;71;72;73;74;75;76;77;78;79;80;81;82;83;84;85;86;87;88;89;90;91;92;93;94;95;96;97;98;99;Reader-Thread. End function: read_from_storage\n"
     ]
    }
   ],
   "source": [
    "storage = []\n",
    "\n",
    "\n",
    "@thread_info\n",
    "def add_to_storage():\n",
    "    for i in range(100):\n",
    "        storage.append(i)\n",
    "\n",
    "@thread_info\n",
    "def read_from_storage():\n",
    "    for i in range(100):\n",
    "        print(storage.pop(0), end=\";\")\n",
    "    \n",
    "\n",
    "write_thread = Thread(target=add_to_storage, name=\"Writer-Thread\")\n",
    "read_thread = Thread(target=read_from_storage, name=\"Reader-Thread\")\n",
    "\n",
    "write_thread.start()\n",
    "read_thread.start()"
   ]
  },
  {
   "cell_type": "code",
   "execution_count": null,
   "metadata": {},
   "outputs": [],
   "source": []
  },
  {
   "cell_type": "code",
   "execution_count": 39,
   "metadata": {
    "ExecuteTime": {
     "end_time": "2021-01-27T09:00:48.176300Z",
     "start_time": "2021-01-27T09:00:48.168637Z"
    }
   },
   "outputs": [
    {
     "name": "stdout",
     "output_type": "stream",
     "text": [
      "Writer-Thread. Start function: add_to_storage. args = (), kwargs = {}\n",
      "Writer-Thread. End function: add_to_storage\n",
      "Reader-Thread. Start function: read_from_storage. args = (), kwargs = {}\n",
      "0;1;2;3len(storage) = 96\n",
      ";4;5;6;7;8;9;10;11;12;13;14;15;16;17;18;19;20;21;22;23;24;25;26;27;28;29;30;31;32;33;34;35;36;37;38;39;40;41;42;43;44;45;46;47;48;49;50;51;52;53;54;55;56;57;58;59;60;61;62;63;64;65;66;67;68;69;70;71;72;73;74;75;76;77;78;79;80;81;82;83;84;85;86;87;88;89;90;91;92;93;94;95;96;97;98;99;Reader-Thread. End function: read_from_storage\n"
     ]
    }
   ],
   "source": [
    "storage = []\n",
    "\n",
    "\n",
    "@thread_info\n",
    "def add_to_storage():\n",
    "    for i in range(100):\n",
    "        storage.append(i)\n",
    "\n",
    "@thread_info\n",
    "def read_from_storage():\n",
    "    for i in range(100):\n",
    "        print(storage.pop(0), end=\";\")\n",
    "    \n",
    "\n",
    "write_thread = Thread(target=add_to_storage, name=\"Writer-Thread\")\n",
    "read_thread = Thread(target=read_from_storage, name=\"Reader-Thread\")\n",
    "\n",
    "write_thread.start()\n",
    "read_thread.start()\n",
    "\n",
    "print(f\"{len(storage) = }\")"
   ]
  },
  {
   "cell_type": "code",
   "execution_count": null,
   "metadata": {},
   "outputs": [],
   "source": []
  },
  {
   "cell_type": "code",
   "execution_count": null,
   "metadata": {},
   "outputs": [],
   "source": []
  },
  {
   "cell_type": "code",
   "execution_count": 40,
   "metadata": {
    "ExecuteTime": {
     "end_time": "2021-01-27T09:02:17.825634Z",
     "start_time": "2021-01-27T09:02:17.815858Z"
    }
   },
   "outputs": [
    {
     "name": "stdout",
     "output_type": "stream",
     "text": [
      "Writer-Thread. Start function: add_to_storage. args = (), kwargs = {}\n",
      "Writer-Thread. End function: add_to_storage\n",
      "Reader-Thread. Start function: read_from_storage. args = (), kwargs = {}\n",
      "0;1;2;3;4;5;6;7;8;9;10;11;12;13;14;15;16;17;18;19;20;21;22;23;24;25;26;27;28;29;30;31;32;33;34;35;36;37;38;39;40;41;42;43;44;45;46;47;48;49;50;51;52;53;54;55;56;57;58;59;60;61;62;63;64;65;66;67;68;69;70;71;72;73;74;75;76;77;78;79;80;81;82;83;84;85;86;87;88;89;90;91;92;93;94;95;96;97;98;99;Reader-Thread. End function: read_from_storage\n",
      "\n",
      "\n",
      "MainThread: len(storage) = 0\n",
      "\n",
      "\n"
     ]
    }
   ],
   "source": [
    "storage = []\n",
    "\n",
    "\n",
    "@thread_info\n",
    "def add_to_storage():\n",
    "    for i in range(100):\n",
    "        storage.append(i)\n",
    "\n",
    "@thread_info\n",
    "def read_from_storage():\n",
    "    for i in range(100):\n",
    "        print(storage.pop(0), end=\";\")\n",
    "\n",
    "\n",
    "write_thread = Thread(target=add_to_storage, name=\"Writer-Thread\")\n",
    "read_thread = Thread(target=read_from_storage, name=\"Reader-Thread\")\n",
    "\n",
    "write_thread.start()\n",
    "read_thread.start()\n",
    "\n",
    "write_thread.join()\n",
    "read_thread.join()\n",
    "\n",
    "print(f\"\\n\\n{threading.current_thread().name}: {len(storage) = }\\n\\n\", )"
   ]
  },
  {
   "cell_type": "code",
   "execution_count": null,
   "metadata": {},
   "outputs": [],
   "source": []
  },
  {
   "cell_type": "code",
   "execution_count": null,
   "metadata": {},
   "outputs": [],
   "source": []
  },
  {
   "cell_type": "code",
   "execution_count": null,
   "metadata": {},
   "outputs": [],
   "source": []
  },
  {
   "cell_type": "code",
   "execution_count": null,
   "metadata": {},
   "outputs": [],
   "source": []
  },
  {
   "cell_type": "code",
   "execution_count": null,
   "metadata": {},
   "outputs": [],
   "source": []
  },
  {
   "cell_type": "code",
   "execution_count": 41,
   "metadata": {
    "ExecuteTime": {
     "end_time": "2021-01-27T09:16:19.790595Z",
     "start_time": "2021-01-27T09:16:19.785621Z"
    }
   },
   "outputs": [
    {
     "name": "stdout",
     "output_type": "stream",
     "text": [
      "Writer-Thread. Start function: add_to_storage. args = (), kwargs = {}\n",
      "Writer-Thread. End function: add_to_storage\n",
      "Reader-Thread. Start function: read_from_storage. args = (), kwargs = {}\n",
      "Reader-Thread. End function: read_from_storage\n",
      "\n",
      "\n",
      "MainThread: squares = [0, 1, 4, 9, 16, 25, 36, 49, 64, 81, 100, 121, 144, 169, 196, 225, 256, 289, 324, 361, 400, 441, 484, 529, 576, 625, 676, 729, 784, 841, 900, 961, 1024, 1089, 1156, 1225, 1296, 1369, 1444, 1521, 1600, 1681, 1764, 1849, 1936, 2025, 2116, 2209, 2304, 2401, 2500, 2601, 2704, 2809, 2916, 3025, 3136, 3249, 3364, 3481, 3600, 3721, 3844, 3969, 4096, 4225, 4356, 4489, 4624, 4761, 4900, 5041, 5184, 5329, 5476, 5625, 5776, 5929, 6084, 6241, 6400, 6561, 6724, 6889, 7056, 7225, 7396, 7569, 7744, 7921, 8100, 8281, 8464, 8649, 8836, 9025, 9216, 9409, 9604, 9801]\n",
      "\n",
      "\n"
     ]
    }
   ],
   "source": [
    "storage = []\n",
    "squares = []\n",
    "\n",
    "@thread_info\n",
    "def add_to_storage():\n",
    "    for i in range(100):\n",
    "        storage.append(i)\n",
    "\n",
    "@thread_info\n",
    "def read_from_storage():\n",
    "    while True:\n",
    "        try:\n",
    "            squares.append(storage.pop(0) ** 2)\n",
    "        except IndexError:\n",
    "            break\n",
    "\n",
    "write_thread = Thread(target=add_to_storage, name=\"Writer-Thread\")\n",
    "read_thread = Thread(target=read_from_storage, name=\"Reader-Thread\")\n",
    "\n",
    "write_thread.start()\n",
    "read_thread.start()\n",
    "\n",
    "write_thread.join()\n",
    "read_thread.join()\n",
    "\n",
    "print(f\"\\n\\n{threading.current_thread().name}: {squares = }\\n\\n\", )"
   ]
  },
  {
   "cell_type": "code",
   "execution_count": null,
   "metadata": {},
   "outputs": [],
   "source": []
  },
  {
   "cell_type": "code",
   "execution_count": 48,
   "metadata": {
    "ExecuteTime": {
     "end_time": "2021-01-27T09:19:02.545888Z",
     "start_time": "2021-01-27T09:19:02.520233Z"
    },
    "scrolled": true
   },
   "outputs": [
    {
     "name": "stdout",
     "output_type": "stream",
     "text": [
      "Writer-Thread. Start function: add_to_storage. args = (100,), kwargs = {}\n",
      "Reader-Thread. Start function: read_from_storage. args = (), kwargs = {}\n",
      "Reader-Thread. End function: read_from_storage\n",
      "Writer-Thread. End function: add_to_storage\n",
      "\n",
      "\n",
      "MainThread: squares = [0, 1, 4]\n",
      "\n",
      "\n"
     ]
    }
   ],
   "source": [
    "storage = []\n",
    "squares = []\n",
    "\n",
    "@thread_info\n",
    "def add_to_storage(x):\n",
    "    for i in range(x):\n",
    "        storage.append(i)\n",
    "        time.sleep(0.0001)  # Let's simulate I/O operation\n",
    "\n",
    "@thread_info\n",
    "def read_from_storage():\n",
    "    while True:\n",
    "        try:\n",
    "            squares.append(storage.pop(0) ** 2)\n",
    "        except IndexError:\n",
    "            break\n",
    "\n",
    "write_thread = Thread(target=add_to_storage, name=\"Writer-Thread\", args=(100,))\n",
    "read_thread = Thread(target=read_from_storage, name=\"Reader-Thread\")\n",
    "\n",
    "write_thread.start()\n",
    "read_thread.start()\n",
    "\n",
    "write_thread.join()\n",
    "read_thread.join()\n",
    "\n",
    "print(f\"\\n\\n{threading.current_thread().name}: {squares = }\\n\\n\", )\n",
    "\n",
    "\n",
    "# Be carrefull to global variables. Do not reccomend to use global sequinces as queues"
   ]
  },
  {
   "cell_type": "code",
   "execution_count": null,
   "metadata": {},
   "outputs": [],
   "source": []
  },
  {
   "cell_type": "markdown",
   "metadata": {},
   "source": [
    "## queue — A synchronized queue class\n",
    "\n",
    "https://docs.python.org/3/library/queue.html#module-queue"
   ]
  },
  {
   "cell_type": "code",
   "execution_count": 49,
   "metadata": {
    "ExecuteTime": {
     "end_time": "2021-01-27T09:20:04.777630Z",
     "start_time": "2021-01-27T09:20:04.775638Z"
    }
   },
   "outputs": [],
   "source": [
    "from queue import Queue"
   ]
  },
  {
   "cell_type": "code",
   "execution_count": 50,
   "metadata": {
    "ExecuteTime": {
     "end_time": "2021-01-27T09:20:07.803411Z",
     "start_time": "2021-01-27T09:20:07.799927Z"
    }
   },
   "outputs": [
    {
     "name": "stdout",
     "output_type": "stream",
     "text": [
      "Help on class Queue in module queue:\n",
      "\n",
      "class Queue(builtins.object)\n",
      " |  Queue(maxsize=0)\n",
      " |  \n",
      " |  Create a queue object with a given maximum size.\n",
      " |  \n",
      " |  If maxsize is <= 0, the queue size is infinite.\n",
      " |  \n",
      " |  Methods defined here:\n",
      " |  \n",
      " |  __init__(self, maxsize=0)\n",
      " |      Initialize self.  See help(type(self)) for accurate signature.\n",
      " |  \n",
      " |  empty(self)\n",
      " |      Return True if the queue is empty, False otherwise (not reliable!).\n",
      " |      \n",
      " |      This method is likely to be removed at some point.  Use qsize() == 0\n",
      " |      as a direct substitute, but be aware that either approach risks a race\n",
      " |      condition where a queue can grow before the result of empty() or\n",
      " |      qsize() can be used.\n",
      " |      \n",
      " |      To create code that needs to wait for all queued tasks to be\n",
      " |      completed, the preferred technique is to use the join() method.\n",
      " |  \n",
      " |  full(self)\n",
      " |      Return True if the queue is full, False otherwise (not reliable!).\n",
      " |      \n",
      " |      This method is likely to be removed at some point.  Use qsize() >= n\n",
      " |      as a direct substitute, but be aware that either approach risks a race\n",
      " |      condition where a queue can shrink before the result of full() or\n",
      " |      qsize() can be used.\n",
      " |  \n",
      " |  get(self, block=True, timeout=None)\n",
      " |      Remove and return an item from the queue.\n",
      " |      \n",
      " |      If optional args 'block' is true and 'timeout' is None (the default),\n",
      " |      block if necessary until an item is available. If 'timeout' is\n",
      " |      a non-negative number, it blocks at most 'timeout' seconds and raises\n",
      " |      the Empty exception if no item was available within that time.\n",
      " |      Otherwise ('block' is false), return an item if one is immediately\n",
      " |      available, else raise the Empty exception ('timeout' is ignored\n",
      " |      in that case).\n",
      " |  \n",
      " |  get_nowait(self)\n",
      " |      Remove and return an item from the queue without blocking.\n",
      " |      \n",
      " |      Only get an item if one is immediately available. Otherwise\n",
      " |      raise the Empty exception.\n",
      " |  \n",
      " |  join(self)\n",
      " |      Blocks until all items in the Queue have been gotten and processed.\n",
      " |      \n",
      " |      The count of unfinished tasks goes up whenever an item is added to the\n",
      " |      queue. The count goes down whenever a consumer thread calls task_done()\n",
      " |      to indicate the item was retrieved and all work on it is complete.\n",
      " |      \n",
      " |      When the count of unfinished tasks drops to zero, join() unblocks.\n",
      " |  \n",
      " |  put(self, item, block=True, timeout=None)\n",
      " |      Put an item into the queue.\n",
      " |      \n",
      " |      If optional args 'block' is true and 'timeout' is None (the default),\n",
      " |      block if necessary until a free slot is available. If 'timeout' is\n",
      " |      a non-negative number, it blocks at most 'timeout' seconds and raises\n",
      " |      the Full exception if no free slot was available within that time.\n",
      " |      Otherwise ('block' is false), put an item on the queue if a free slot\n",
      " |      is immediately available, else raise the Full exception ('timeout'\n",
      " |      is ignored in that case).\n",
      " |  \n",
      " |  put_nowait(self, item)\n",
      " |      Put an item into the queue without blocking.\n",
      " |      \n",
      " |      Only enqueue the item if a free slot is immediately available.\n",
      " |      Otherwise raise the Full exception.\n",
      " |  \n",
      " |  qsize(self)\n",
      " |      Return the approximate size of the queue (not reliable!).\n",
      " |  \n",
      " |  task_done(self)\n",
      " |      Indicate that a formerly enqueued task is complete.\n",
      " |      \n",
      " |      Used by Queue consumer threads.  For each get() used to fetch a task,\n",
      " |      a subsequent call to task_done() tells the queue that the processing\n",
      " |      on the task is complete.\n",
      " |      \n",
      " |      If a join() is currently blocking, it will resume when all items\n",
      " |      have been processed (meaning that a task_done() call was received\n",
      " |      for every item that had been put() into the queue).\n",
      " |      \n",
      " |      Raises a ValueError if called more times than there were items\n",
      " |      placed in the queue.\n",
      " |  \n",
      " |  ----------------------------------------------------------------------\n",
      " |  Data descriptors defined here:\n",
      " |  \n",
      " |  __dict__\n",
      " |      dictionary for instance variables (if defined)\n",
      " |  \n",
      " |  __weakref__\n",
      " |      list of weak references to the object (if defined)\n",
      "\n"
     ]
    }
   ],
   "source": [
    "help(Queue)"
   ]
  },
  {
   "cell_type": "code",
   "execution_count": null,
   "metadata": {},
   "outputs": [],
   "source": []
  },
  {
   "cell_type": "code",
   "execution_count": null,
   "metadata": {},
   "outputs": [],
   "source": []
  },
  {
   "cell_type": "code",
   "execution_count": null,
   "metadata": {},
   "outputs": [],
   "source": []
  },
  {
   "cell_type": "code",
   "execution_count": null,
   "metadata": {},
   "outputs": [],
   "source": []
  },
  {
   "cell_type": "code",
   "execution_count": 51,
   "metadata": {
    "ExecuteTime": {
     "end_time": "2021-01-27T09:23:47.741743Z",
     "start_time": "2021-01-27T09:23:47.738872Z"
    }
   },
   "outputs": [],
   "source": [
    "q = Queue()"
   ]
  },
  {
   "cell_type": "code",
   "execution_count": 52,
   "metadata": {
    "ExecuteTime": {
     "end_time": "2021-01-27T09:23:51.033688Z",
     "start_time": "2021-01-27T09:23:51.031870Z"
    }
   },
   "outputs": [],
   "source": [
    "q.put(\"1\")"
   ]
  },
  {
   "cell_type": "code",
   "execution_count": 53,
   "metadata": {
    "ExecuteTime": {
     "end_time": "2021-01-27T09:23:57.994206Z",
     "start_time": "2021-01-27T09:23:57.991908Z"
    }
   },
   "outputs": [],
   "source": [
    "q.put(\"2\")"
   ]
  },
  {
   "cell_type": "code",
   "execution_count": 54,
   "metadata": {
    "ExecuteTime": {
     "end_time": "2021-01-27T09:24:26.015745Z",
     "start_time": "2021-01-27T09:24:03.369730Z"
    },
    "scrolled": true
   },
   "outputs": [
    {
     "name": "stdout",
     "output_type": "stream",
     "text": [
      "1\n",
      "2\n"
     ]
    },
    {
     "ename": "KeyboardInterrupt",
     "evalue": "",
     "output_type": "error",
     "traceback": [
      "\u001b[0;31m---------------------------------------------------------------------------\u001b[0m",
      "\u001b[0;31mKeyboardInterrupt\u001b[0m                         Traceback (most recent call last)",
      "\u001b[0;32m<ipython-input-54-887f52fe5b41>\u001b[0m in \u001b[0;36m<module>\u001b[0;34m\u001b[0m\n\u001b[1;32m      1\u001b[0m \u001b[0;32mwhile\u001b[0m \u001b[0;32mTrue\u001b[0m\u001b[0;34m:\u001b[0m\u001b[0;34m\u001b[0m\u001b[0;34m\u001b[0m\u001b[0m\n\u001b[0;32m----> 2\u001b[0;31m     \u001b[0mprint\u001b[0m\u001b[0;34m(\u001b[0m\u001b[0mq\u001b[0m\u001b[0;34m.\u001b[0m\u001b[0mget\u001b[0m\u001b[0;34m(\u001b[0m\u001b[0;34m)\u001b[0m\u001b[0;34m)\u001b[0m\u001b[0;34m\u001b[0m\u001b[0;34m\u001b[0m\u001b[0m\n\u001b[0m",
      "\u001b[0;32m/usr/lib/python3.8/queue.py\u001b[0m in \u001b[0;36mget\u001b[0;34m(self, block, timeout)\u001b[0m\n\u001b[1;32m    168\u001b[0m             \u001b[0;32melif\u001b[0m \u001b[0mtimeout\u001b[0m \u001b[0;32mis\u001b[0m \u001b[0;32mNone\u001b[0m\u001b[0;34m:\u001b[0m\u001b[0;34m\u001b[0m\u001b[0;34m\u001b[0m\u001b[0m\n\u001b[1;32m    169\u001b[0m                 \u001b[0;32mwhile\u001b[0m \u001b[0;32mnot\u001b[0m \u001b[0mself\u001b[0m\u001b[0;34m.\u001b[0m\u001b[0m_qsize\u001b[0m\u001b[0;34m(\u001b[0m\u001b[0;34m)\u001b[0m\u001b[0;34m:\u001b[0m\u001b[0;34m\u001b[0m\u001b[0;34m\u001b[0m\u001b[0m\n\u001b[0;32m--> 170\u001b[0;31m                     \u001b[0mself\u001b[0m\u001b[0;34m.\u001b[0m\u001b[0mnot_empty\u001b[0m\u001b[0;34m.\u001b[0m\u001b[0mwait\u001b[0m\u001b[0;34m(\u001b[0m\u001b[0;34m)\u001b[0m\u001b[0;34m\u001b[0m\u001b[0;34m\u001b[0m\u001b[0m\n\u001b[0m\u001b[1;32m    171\u001b[0m             \u001b[0;32melif\u001b[0m \u001b[0mtimeout\u001b[0m \u001b[0;34m<\u001b[0m \u001b[0;36m0\u001b[0m\u001b[0;34m:\u001b[0m\u001b[0;34m\u001b[0m\u001b[0;34m\u001b[0m\u001b[0m\n\u001b[1;32m    172\u001b[0m                 \u001b[0;32mraise\u001b[0m \u001b[0mValueError\u001b[0m\u001b[0;34m(\u001b[0m\u001b[0;34m\"'timeout' must be a non-negative number\"\u001b[0m\u001b[0;34m)\u001b[0m\u001b[0;34m\u001b[0m\u001b[0;34m\u001b[0m\u001b[0m\n",
      "\u001b[0;32m/usr/lib/python3.8/threading.py\u001b[0m in \u001b[0;36mwait\u001b[0;34m(self, timeout)\u001b[0m\n\u001b[1;32m    300\u001b[0m         \u001b[0;32mtry\u001b[0m\u001b[0;34m:\u001b[0m    \u001b[0;31m# restore state no matter what (e.g., KeyboardInterrupt)\u001b[0m\u001b[0;34m\u001b[0m\u001b[0;34m\u001b[0m\u001b[0m\n\u001b[1;32m    301\u001b[0m             \u001b[0;32mif\u001b[0m \u001b[0mtimeout\u001b[0m \u001b[0;32mis\u001b[0m \u001b[0;32mNone\u001b[0m\u001b[0;34m:\u001b[0m\u001b[0;34m\u001b[0m\u001b[0;34m\u001b[0m\u001b[0m\n\u001b[0;32m--> 302\u001b[0;31m                 \u001b[0mwaiter\u001b[0m\u001b[0;34m.\u001b[0m\u001b[0macquire\u001b[0m\u001b[0;34m(\u001b[0m\u001b[0;34m)\u001b[0m\u001b[0;34m\u001b[0m\u001b[0;34m\u001b[0m\u001b[0m\n\u001b[0m\u001b[1;32m    303\u001b[0m                 \u001b[0mgotit\u001b[0m \u001b[0;34m=\u001b[0m \u001b[0;32mTrue\u001b[0m\u001b[0;34m\u001b[0m\u001b[0;34m\u001b[0m\u001b[0m\n\u001b[1;32m    304\u001b[0m             \u001b[0;32melse\u001b[0m\u001b[0;34m:\u001b[0m\u001b[0;34m\u001b[0m\u001b[0;34m\u001b[0m\u001b[0m\n",
      "\u001b[0;31mKeyboardInterrupt\u001b[0m: "
     ]
    }
   ],
   "source": [
    "while True:\n",
    "    print(q.get())"
   ]
  },
  {
   "cell_type": "code",
   "execution_count": null,
   "metadata": {},
   "outputs": [],
   "source": []
  },
  {
   "cell_type": "code",
   "execution_count": 56,
   "metadata": {
    "ExecuteTime": {
     "end_time": "2021-01-27T09:24:49.606612Z",
     "start_time": "2021-01-27T09:24:48.600741Z"
    }
   },
   "outputs": [
    {
     "name": "stdout",
     "output_type": "stream",
     "text": [
      "v = 0\n",
      "v = 1\n",
      "v = 2\n",
      "v = 3\n",
      "v = 4\n",
      "v = 5\n",
      "v = 6\n",
      "v = 7\n",
      "v = 8\n",
      "v = 9\n"
     ]
    },
    {
     "ename": "Empty",
     "evalue": "",
     "output_type": "error",
     "traceback": [
      "\u001b[0;31m---------------------------------------------------------------------------\u001b[0m",
      "\u001b[0;31mEmpty\u001b[0m                                     Traceback (most recent call last)",
      "\u001b[0;32m<ipython-input-56-4bd3b3a63179>\u001b[0m in \u001b[0;36m<module>\u001b[0;34m\u001b[0m\n\u001b[1;32m      4\u001b[0m \u001b[0;34m\u001b[0m\u001b[0m\n\u001b[1;32m      5\u001b[0m \u001b[0;32mwhile\u001b[0m \u001b[0;32mTrue\u001b[0m\u001b[0;34m:\u001b[0m\u001b[0;34m\u001b[0m\u001b[0;34m\u001b[0m\u001b[0m\n\u001b[0;32m----> 6\u001b[0;31m     \u001b[0mv\u001b[0m \u001b[0;34m=\u001b[0m \u001b[0mq\u001b[0m\u001b[0;34m.\u001b[0m\u001b[0mget\u001b[0m\u001b[0;34m(\u001b[0m\u001b[0mtimeout\u001b[0m\u001b[0;34m=\u001b[0m\u001b[0;36m1\u001b[0m\u001b[0;34m)\u001b[0m\u001b[0;34m\u001b[0m\u001b[0;34m\u001b[0m\u001b[0m\n\u001b[0m\u001b[1;32m      7\u001b[0m     \u001b[0mprint\u001b[0m\u001b[0;34m(\u001b[0m\u001b[0;34mf\"{v = }\"\u001b[0m\u001b[0;34m)\u001b[0m\u001b[0;34m\u001b[0m\u001b[0;34m\u001b[0m\u001b[0m\n",
      "\u001b[0;32m/usr/lib/python3.8/queue.py\u001b[0m in \u001b[0;36mget\u001b[0;34m(self, block, timeout)\u001b[0m\n\u001b[1;32m    176\u001b[0m                     \u001b[0mremaining\u001b[0m \u001b[0;34m=\u001b[0m \u001b[0mendtime\u001b[0m \u001b[0;34m-\u001b[0m \u001b[0mtime\u001b[0m\u001b[0;34m(\u001b[0m\u001b[0;34m)\u001b[0m\u001b[0;34m\u001b[0m\u001b[0;34m\u001b[0m\u001b[0m\n\u001b[1;32m    177\u001b[0m                     \u001b[0;32mif\u001b[0m \u001b[0mremaining\u001b[0m \u001b[0;34m<=\u001b[0m \u001b[0;36m0.0\u001b[0m\u001b[0;34m:\u001b[0m\u001b[0;34m\u001b[0m\u001b[0;34m\u001b[0m\u001b[0m\n\u001b[0;32m--> 178\u001b[0;31m                         \u001b[0;32mraise\u001b[0m \u001b[0mEmpty\u001b[0m\u001b[0;34m\u001b[0m\u001b[0;34m\u001b[0m\u001b[0m\n\u001b[0m\u001b[1;32m    179\u001b[0m                     \u001b[0mself\u001b[0m\u001b[0;34m.\u001b[0m\u001b[0mnot_empty\u001b[0m\u001b[0;34m.\u001b[0m\u001b[0mwait\u001b[0m\u001b[0;34m(\u001b[0m\u001b[0mremaining\u001b[0m\u001b[0;34m)\u001b[0m\u001b[0;34m\u001b[0m\u001b[0;34m\u001b[0m\u001b[0m\n\u001b[1;32m    180\u001b[0m             \u001b[0mitem\u001b[0m \u001b[0;34m=\u001b[0m \u001b[0mself\u001b[0m\u001b[0;34m.\u001b[0m\u001b[0m_get\u001b[0m\u001b[0;34m(\u001b[0m\u001b[0;34m)\u001b[0m\u001b[0;34m\u001b[0m\u001b[0;34m\u001b[0m\u001b[0m\n",
      "\u001b[0;31mEmpty\u001b[0m: "
     ]
    }
   ],
   "source": [
    "q = Queue()\n",
    "for ix in range(10):\n",
    "    q.put(ix)\n",
    "    \n",
    "while True:\n",
    "    v = q.get(timeout=1)\n",
    "    print(f\"{v = }\")"
   ]
  },
  {
   "cell_type": "code",
   "execution_count": null,
   "metadata": {},
   "outputs": [],
   "source": []
  },
  {
   "cell_type": "code",
   "execution_count": 58,
   "metadata": {
    "ExecuteTime": {
     "end_time": "2021-01-27T09:25:40.036796Z",
     "start_time": "2021-01-27T09:25:39.033977Z"
    }
   },
   "outputs": [
    {
     "name": "stdout",
     "output_type": "stream",
     "text": [
      "v = 0\n",
      "v = 1\n",
      "v = 2\n",
      "v = 3\n",
      "v = 4\n",
      "v = 5\n",
      "v = 6\n",
      "v = 7\n",
      "v = 8\n",
      "v = 9\n"
     ]
    }
   ],
   "source": [
    "from queue import Queue, Empty\n",
    "\n",
    "q = Queue()\n",
    "for ix in range(10):\n",
    "    q.put(ix)\n",
    "    \n",
    "while True:\n",
    "    try:\n",
    "        v = q.get(timeout=1)\n",
    "    except Empty:\n",
    "        break\n",
    "    \n",
    "    print(f\"{v = }\")"
   ]
  },
  {
   "cell_type": "code",
   "execution_count": null,
   "metadata": {},
   "outputs": [],
   "source": []
  },
  {
   "cell_type": "code",
   "execution_count": 9,
   "metadata": {
    "ExecuteTime": {
     "end_time": "2021-01-27T09:26:56.537077Z",
     "start_time": "2021-01-27T09:26:55.512211Z"
    },
    "scrolled": true
   },
   "outputs": [
    {
     "name": "stdout",
     "output_type": "stream",
     "text": [
      "Writer-Thread. Start function: add_to_storage. args = (100,), kwargs = {}\n",
      "Reader-Thread. Start function: read_from_storage. args = (), kwargs = {}\n",
      "Writer-Thread. End function: add_to_storage\n",
      "Reader-Thread. End function: read_from_storage\n",
      "\n",
      "\n",
      "MainThread: squares = [0, 1, 2, 3, 4, 5, 6, 7, 8, 9, 10, 11, 12, 13, 14, 15, 16, 17, 18, 19, 20, 21, 22, 23, 24, 25, 26, 27, 28, 29, 30, 31, 32, 33, 34, 35, 36, 37, 38, 39, 40, 41, 42, 43, 44, 45, 46, 47, 48, 49, 50, 51, 52, 53, 54, 55, 56, 57, 58, 59, 60, 61, 62, 63, 64, 65, 66, 67, 68, 69, 70, 71, 72, 73, 74, 75, 76, 77, 78, 79, 80, 81, 82, 83, 84, 85, 86, 87, 88, 89, 90, 91, 92, 93, 94, 95, 96, 97, 98, 99, 43]\n",
      "\n",
      "\n"
     ]
    }
   ],
   "source": [
    "from queue import Queue, Empty\n",
    "import time\n",
    "\n",
    "storage = Queue()\n",
    "squares = []\n",
    "\n",
    "@thread_info\n",
    "def add_to_storage(x):\n",
    "    for i in range(x):\n",
    "        storage.put(i)\n",
    "        time.sleep(0.0001)  # Let's simulate I/O operation\n",
    "\n",
    "@thread_info\n",
    "def read_from_storage():\n",
    "    while True:\n",
    "        try:\n",
    "            squares.append(storage.get(timeout=1))\n",
    "        except Empty:\n",
    "            break\n",
    "\n",
    "write_thread = Thread(target=add_to_storage, name=\"Writer-Thread\", args=(100,))\n",
    "read_thread = Thread(target=read_from_storage, name=\"Reader-Thread\")\n",
    "\n",
    "write_thread.start()\n",
    "read_thread.start()\n",
    "\n",
    "write_thread.join()\n",
    "read_thread.join()\n",
    "\n",
    "print(f\"\\n\\n{threading.current_thread().name}: {squares = }\\n\\n\", )"
   ]
  },
  {
   "cell_type": "code",
   "execution_count": null,
   "metadata": {},
   "outputs": [],
   "source": []
  },
  {
   "cell_type": "code",
   "execution_count": 13,
   "metadata": {
    "ExecuteTime": {
     "end_time": "2021-01-27T09:28:14.989501Z",
     "start_time": "2021-01-27T09:28:04.969714Z"
    }
   },
   "outputs": [
    {
     "name": "stdout",
     "output_type": "stream",
     "text": [
      "Writer-Thread. Start function: add_to_storage. args = (5,), kwargs = {}\n",
      "Reader-Thread. Start function: read_from_storage. args = (), kwargs = {}\n",
      "Writer-Thread. End function: add_to_storage\n",
      "Reader-Thread. End function: read_from_storage\n",
      "\n",
      "\n",
      "MainThread: squares = [0, 1, 70, 2, 3, 71, 4]\n",
      "\n",
      "\n",
      "Writer-Thread. End function: add_to_storage\n"
     ]
    }
   ],
   "source": [
    "from queue import Queue, Empty\n",
    "\n",
    "\n",
    "storage = Queue()\n",
    "squares = []\n",
    "\n",
    "@thread_info\n",
    "def add_to_storage(x):\n",
    "    for i in range(x):\n",
    "        storage.put(i)\n",
    "        time.sleep(1.0001)  # Let's simulate loooooooooong I/O operation\n",
    "\n",
    "@thread_info\n",
    "def read_from_storage():\n",
    "    while True:\n",
    "        try:\n",
    "            squares.append(storage.get(timeout=1))\n",
    "        except Empty:\n",
    "            break\n",
    "\n",
    "write_thread = Thread(target=add_to_storage, name=\"Writer-Thread\", args=(5,))\n",
    "read_thread = Thread(target=read_from_storage, name=\"Reader-Thread\")\n",
    "\n",
    "write_thread.start()\n",
    "read_thread.start()\n",
    "\n",
    "write_thread.join()\n",
    "read_thread.join()\n",
    "\n",
    "print(f\"\\n\\n{threading.current_thread().name}: {squares = }\\n\\n\", )"
   ]
  },
  {
   "cell_type": "code",
   "execution_count": null,
   "metadata": {},
   "outputs": [],
   "source": []
  },
  {
   "cell_type": "code",
   "execution_count": 62,
   "metadata": {
    "ExecuteTime": {
     "end_time": "2021-01-27T09:29:15.147400Z",
     "start_time": "2021-01-27T09:29:15.144368Z"
    },
    "scrolled": true
   },
   "outputs": [
    {
     "name": "stdout",
     "output_type": "stream",
     "text": [
      "Help on class Event in module threading:\n",
      "\n",
      "class Event(builtins.object)\n",
      " |  Class implementing event objects.\n",
      " |  \n",
      " |  Events manage a flag that can be set to true with the set() method and reset\n",
      " |  to false with the clear() method. The wait() method blocks until the flag is\n",
      " |  true.  The flag is initially false.\n",
      " |  \n",
      " |  Methods defined here:\n",
      " |  \n",
      " |  __init__(self)\n",
      " |      Initialize self.  See help(type(self)) for accurate signature.\n",
      " |  \n",
      " |  clear(self)\n",
      " |      Reset the internal flag to false.\n",
      " |      \n",
      " |      Subsequently, threads calling wait() will block until set() is called to\n",
      " |      set the internal flag to true again.\n",
      " |  \n",
      " |  isSet = is_set(self)\n",
      " |  \n",
      " |  is_set(self)\n",
      " |      Return true if and only if the internal flag is true.\n",
      " |  \n",
      " |  set(self)\n",
      " |      Set the internal flag to true.\n",
      " |      \n",
      " |      All threads waiting for it to become true are awakened. Threads\n",
      " |      that call wait() once the flag is true will not block at all.\n",
      " |  \n",
      " |  wait(self, timeout=None)\n",
      " |      Block until the internal flag is true.\n",
      " |      \n",
      " |      If the internal flag is true on entry, return immediately. Otherwise,\n",
      " |      block until another thread calls set() to set the flag to true, or until\n",
      " |      the optional timeout occurs.\n",
      " |      \n",
      " |      When the timeout argument is present and not None, it should be a\n",
      " |      floating point number specifying a timeout for the operation in seconds\n",
      " |      (or fractions thereof).\n",
      " |      \n",
      " |      This method returns the internal flag on exit, so it will always return\n",
      " |      True except if a timeout is given and the operation times out.\n",
      " |  \n",
      " |  ----------------------------------------------------------------------\n",
      " |  Data descriptors defined here:\n",
      " |  \n",
      " |  __dict__\n",
      " |      dictionary for instance variables (if defined)\n",
      " |  \n",
      " |  __weakref__\n",
      " |      list of weak references to the object (if defined)\n",
      "\n"
     ]
    }
   ],
   "source": [
    "from threading import Event\n",
    "\n",
    "help(Event)"
   ]
  },
  {
   "cell_type": "code",
   "execution_count": null,
   "metadata": {},
   "outputs": [],
   "source": []
  },
  {
   "cell_type": "code",
   "execution_count": 63,
   "metadata": {
    "ExecuteTime": {
     "end_time": "2021-01-27T09:31:35.299793Z",
     "start_time": "2021-01-27T09:31:34.296550Z"
    }
   },
   "outputs": [
    {
     "name": "stdout",
     "output_type": "stream",
     "text": [
      "False\n"
     ]
    },
    {
     "data": {
      "text/plain": [
       "False"
      ]
     },
     "execution_count": 63,
     "metadata": {},
     "output_type": "execute_result"
    }
   ],
   "source": [
    "new_event = Event()\n",
    "\n",
    "print(new_event.is_set())\n",
    "\n",
    "new_event.wait(1)"
   ]
  },
  {
   "cell_type": "code",
   "execution_count": null,
   "metadata": {},
   "outputs": [],
   "source": []
  },
  {
   "cell_type": "code",
   "execution_count": 70,
   "metadata": {
    "ExecuteTime": {
     "end_time": "2021-01-27T09:36:49.264424Z",
     "start_time": "2021-01-27T09:36:47.995220Z"
    }
   },
   "outputs": [
    {
     "name": "stdout",
     "output_type": "stream",
     "text": [
      "Writer-Thread. Start function: add_to_storage. args = (100,), kwargs = {}\n",
      "Reader-Thread-00. Start function: read_from_storage. args = (), kwargs = {}\n",
      "Reader-Thread-01. Start function: read_from_storage. args = (), kwargs = {}\n",
      "Reader-Thread-02. Start function: read_from_storage. args = (), kwargs = {}\n",
      "Writer-Thread. End function: add_to_storage\n",
      "Reader-Thread-01. End function: read_from_storage\n",
      "Reader-Thread-02. End function: read_from_storage\n",
      "Reader-Thread-00. End function: read_from_storage\n",
      "\n",
      "\n",
      "MainThread: squares = [0, 1, 2, 3, 4, 5, 6, 7, 8, 9, 10, 11, 12, 13, 14, 15, 16, 17, 18, 19, 20, 21, 22, 23, 24, 25, 26, 27, 28, 29, 30, 31, 32, 33, 34, 35, 36, 37, 38, 39, 40, 41, 42, 43, 44, 45, 46, 47, 48, 49, 50, 51, 52, 53, 54, 55, 56, 57, 58, 59, 60, 61, 62, 63, 64, 65, 66, 67, 68, 69, 70, 71, 72, 73, 74, 75, 76, 77, 78, 79, 80, 81, 82, 83, 84, 85, 86, 87, 88, 89, 90, 91, 92, 93, 94, 95, 96, 97, 98, 99, 74]\n",
      "\n",
      "\n"
     ]
    }
   ],
   "source": [
    "from queue import Queue, Empty\n",
    "from threading import Event\n",
    "\n",
    "\n",
    "storage = Queue(maxsize=5)  #  IRL we do not have infinity memory. So let set some max size\n",
    "complete_storage = Event()\n",
    "squares = []\n",
    "\n",
    "@thread_info\n",
    "def add_to_storage(x):\n",
    "    for i in range(x):\n",
    "        # Without timeout we will wait until we have space to insert to queue\n",
    "        # Otherwise will raise queue.Full exception \n",
    "        time.sleep(0.001)\n",
    "        storage.put(i)  \n",
    "    \n",
    "    complete_storage.set()  # Mark Event `complete_storage` as True\n",
    "    \n",
    "@thread_info\n",
    "def read_from_storage():\n",
    "    while True:  \n",
    "        try:\n",
    "            value = storage.get(timeout=1)\n",
    "        except Empty:\n",
    "            if complete_storage.is_set():\n",
    "                break  # Do while Event `complete_storage` as False\n",
    "            continue\n",
    "        \n",
    "        time.sleep(0.001)  # Simulate some long operations\n",
    "        squares.append(value)\n",
    "\n",
    "write_thread = Thread(target=add_to_storage, name=\"Writer-Thread\", args=(100,))\n",
    "write_thread.start()\n",
    "\n",
    "read_threads = []  # storage for read threads\n",
    "for tr_no in range(3):  # Create 3 read threads\n",
    "    read_thread = Thread(target=read_from_storage, name=\"Reader-Thread-%02d\" % tr_no)\n",
    "    read_thread.start()\n",
    "    read_threads.append(read_thread)\n",
    "\n",
    "write_thread.join()\n",
    "\n",
    "for worker in read_threads:\n",
    "    worker.join()\n",
    "\n",
    "print(f\"\\n\\n{threading.current_thread().name}: {squares = }\\n\\n\", )"
   ]
  },
  {
   "cell_type": "code",
   "execution_count": null,
   "metadata": {},
   "outputs": [],
   "source": []
  },
  {
   "cell_type": "code",
   "execution_count": null,
   "metadata": {},
   "outputs": [],
   "source": []
  },
  {
   "cell_type": "code",
   "execution_count": null,
   "metadata": {},
   "outputs": [],
   "source": []
  },
  {
   "cell_type": "code",
   "execution_count": null,
   "metadata": {},
   "outputs": [],
   "source": []
  },
  {
   "cell_type": "code",
   "execution_count": null,
   "metadata": {},
   "outputs": [],
   "source": []
  },
  {
   "cell_type": "code",
   "execution_count": null,
   "metadata": {},
   "outputs": [],
   "source": []
  },
  {
   "cell_type": "code",
   "execution_count": 14,
   "metadata": {
    "ExecuteTime": {
     "end_time": "2021-01-27T09:38:34.944465Z",
     "start_time": "2021-01-27T09:37:49.881054Z"
    }
   },
   "outputs": [
    {
     "name": "stdout",
     "output_type": "stream",
     "text": [
      "Writer-Thread. Start function: add_to_storage. args = (5,), kwargs = {}\n",
      "Reader-Thread-00. Start function: read_from_storage. args = (), kwargs = {}\n",
      "Reader-Thread-01. Start function: read_from_storage. args = (), kwargs = {}\n",
      "Reader-Thread-02. Start function: read_from_storage. args = (), kwargs = {}\n",
      "Writer-Thread. End function: add_to_storage\n",
      "Block the queue for put\n",
      "Reader-Thread-02. End function: read_from_storage\n",
      "Reader-Thread-00. End function: read_from_storage\n",
      "Reader-Thread-01. End function: read_from_storage\n"
     ]
    },
    {
     "ename": "KeyboardInterrupt",
     "evalue": "",
     "output_type": "error",
     "traceback": [
      "\u001b[0;31m---------------------------------------------------------------------------\u001b[0m",
      "\u001b[0;31mKeyboardInterrupt\u001b[0m                         Traceback (most recent call last)",
      "\u001b[0;32m<ipython-input-14-b5f7f321826f>\u001b[0m in \u001b[0;36m<module>\u001b[0;34m\u001b[0m\n\u001b[1;32m     42\u001b[0m \u001b[0;34m\u001b[0m\u001b[0m\n\u001b[1;32m     43\u001b[0m \u001b[0mprint\u001b[0m\u001b[0;34m(\u001b[0m\u001b[0;34m\"Block the queue for put\"\u001b[0m\u001b[0;34m)\u001b[0m\u001b[0;34m\u001b[0m\u001b[0;34m\u001b[0m\u001b[0m\n\u001b[0;32m---> 44\u001b[0;31m \u001b[0mstorage\u001b[0m\u001b[0;34m.\u001b[0m\u001b[0mjoin\u001b[0m\u001b[0;34m(\u001b[0m\u001b[0;34m)\u001b[0m\u001b[0;34m\u001b[0m\u001b[0;34m\u001b[0m\u001b[0m\n\u001b[0m\u001b[1;32m     45\u001b[0m \u001b[0;34m\u001b[0m\u001b[0m\n\u001b[1;32m     46\u001b[0m \u001b[0;32mfor\u001b[0m \u001b[0mworker\u001b[0m \u001b[0;32min\u001b[0m \u001b[0mread_threads\u001b[0m\u001b[0;34m:\u001b[0m\u001b[0;34m\u001b[0m\u001b[0;34m\u001b[0m\u001b[0m\n",
      "\u001b[0;32m~/anaconda3/lib/python3.8/queue.py\u001b[0m in \u001b[0;36mjoin\u001b[0;34m(self)\u001b[0m\n\u001b[1;32m     87\u001b[0m         \u001b[0;32mwith\u001b[0m \u001b[0mself\u001b[0m\u001b[0;34m.\u001b[0m\u001b[0mall_tasks_done\u001b[0m\u001b[0;34m:\u001b[0m\u001b[0;34m\u001b[0m\u001b[0;34m\u001b[0m\u001b[0m\n\u001b[1;32m     88\u001b[0m             \u001b[0;32mwhile\u001b[0m \u001b[0mself\u001b[0m\u001b[0;34m.\u001b[0m\u001b[0munfinished_tasks\u001b[0m\u001b[0;34m:\u001b[0m\u001b[0;34m\u001b[0m\u001b[0;34m\u001b[0m\u001b[0m\n\u001b[0;32m---> 89\u001b[0;31m                 \u001b[0mself\u001b[0m\u001b[0;34m.\u001b[0m\u001b[0mall_tasks_done\u001b[0m\u001b[0;34m.\u001b[0m\u001b[0mwait\u001b[0m\u001b[0;34m(\u001b[0m\u001b[0;34m)\u001b[0m\u001b[0;34m\u001b[0m\u001b[0;34m\u001b[0m\u001b[0m\n\u001b[0m\u001b[1;32m     90\u001b[0m \u001b[0;34m\u001b[0m\u001b[0m\n\u001b[1;32m     91\u001b[0m     \u001b[0;32mdef\u001b[0m \u001b[0mqsize\u001b[0m\u001b[0;34m(\u001b[0m\u001b[0mself\u001b[0m\u001b[0;34m)\u001b[0m\u001b[0;34m:\u001b[0m\u001b[0;34m\u001b[0m\u001b[0;34m\u001b[0m\u001b[0m\n",
      "\u001b[0;32m~/anaconda3/lib/python3.8/threading.py\u001b[0m in \u001b[0;36mwait\u001b[0;34m(self, timeout)\u001b[0m\n\u001b[1;32m    300\u001b[0m         \u001b[0;32mtry\u001b[0m\u001b[0;34m:\u001b[0m    \u001b[0;31m# restore state no matter what (e.g., KeyboardInterrupt)\u001b[0m\u001b[0;34m\u001b[0m\u001b[0;34m\u001b[0m\u001b[0m\n\u001b[1;32m    301\u001b[0m             \u001b[0;32mif\u001b[0m \u001b[0mtimeout\u001b[0m \u001b[0;32mis\u001b[0m \u001b[0;32mNone\u001b[0m\u001b[0;34m:\u001b[0m\u001b[0;34m\u001b[0m\u001b[0;34m\u001b[0m\u001b[0m\n\u001b[0;32m--> 302\u001b[0;31m                 \u001b[0mwaiter\u001b[0m\u001b[0;34m.\u001b[0m\u001b[0macquire\u001b[0m\u001b[0;34m(\u001b[0m\u001b[0;34m)\u001b[0m\u001b[0;34m\u001b[0m\u001b[0;34m\u001b[0m\u001b[0m\n\u001b[0m\u001b[1;32m    303\u001b[0m                 \u001b[0mgotit\u001b[0m \u001b[0;34m=\u001b[0m \u001b[0;32mTrue\u001b[0m\u001b[0;34m\u001b[0m\u001b[0;34m\u001b[0m\u001b[0m\n\u001b[1;32m    304\u001b[0m             \u001b[0;32melse\u001b[0m\u001b[0;34m:\u001b[0m\u001b[0;34m\u001b[0m\u001b[0;34m\u001b[0m\u001b[0m\n",
      "\u001b[0;31mKeyboardInterrupt\u001b[0m: "
     ]
    }
   ],
   "source": [
    "from queue import Queue, Empty\n",
    "from threading import Event\n",
    "\n",
    "\n",
    "storage = Queue(maxsize=5)  #  IRL we do not have infinity memory. So let set some max size\n",
    "complete_storage = Event()\n",
    "squares = []\n",
    "\n",
    "@thread_info\n",
    "def add_to_storage(x):\n",
    "    for i in range(x):\n",
    "        # Without timeout we will wait until we have space to insert to queue\n",
    "        # Otherwise will raise queue.Full exception \n",
    "        time.sleep(0.001)\n",
    "        storage.put(i)  \n",
    "    \n",
    "    complete_storage.set()  # Mark Event `complete_storage` as True\n",
    "    \n",
    "@thread_info\n",
    "def read_from_storage():\n",
    "    while True:  # Do while Event `complete_storage` as False\n",
    "        try:\n",
    "            value = storage.get(timeout=1)\n",
    "        except Empty:\n",
    "            if complete_storage.is_set():\n",
    "                break\n",
    "            continue\n",
    "        \n",
    "        time.sleep(0.25)  # Simulate some long operations\n",
    "        squares.append(value)\n",
    "\n",
    "write_thread = Thread(target=add_to_storage, name=\"Writer-Thread\", args=(5,))\n",
    "write_thread.start()\n",
    "\n",
    "read_threads = []  # storage for read threads\n",
    "for tr_no in range(3):  # Create 3 read threads\n",
    "    read_thread = Thread(target=read_from_storage, name=\"Reader-Thread-%02d\" % tr_no)\n",
    "    read_thread.start()\n",
    "    read_threads.append(read_thread)\n",
    "\n",
    "write_thread.join()\n",
    "\n",
    "print(\"Block the queue for put\")\n",
    "storage.join()\n",
    "\n",
    "for worker in read_threads:\n",
    "    worker.join()\n",
    "\n",
    "print(f\"\\n\\n{threading.current_thread().name}: {squares = }\\n\\n\", )"
   ]
  },
  {
   "cell_type": "code",
   "execution_count": null,
   "metadata": {},
   "outputs": [],
   "source": []
  },
  {
   "cell_type": "code",
   "execution_count": null,
   "metadata": {},
   "outputs": [],
   "source": []
  },
  {
   "cell_type": "code",
   "execution_count": 73,
   "metadata": {
    "ExecuteTime": {
     "end_time": "2021-01-27T09:40:56.912698Z",
     "start_time": "2021-01-27T09:40:55.404438Z"
    }
   },
   "outputs": [
    {
     "name": "stdout",
     "output_type": "stream",
     "text": [
      "Writer-Thread. Start function: add_to_storage. args = (5,), kwargs = {}\n",
      "Reader-Thread-00. Start function: read_from_storage. args = (), kwargs = {}\n",
      "Reader-Thread-01. Start function: read_from_storage. args = (), kwargs = {}\n",
      "Reader-Thread-02. Start function: read_from_storage. args = (), kwargs = {}\n",
      "Writer-Thread. End function: add_to_storage\n",
      "Block the queue for put\n",
      "Release queue\n",
      "Reader-Thread-02. End function: read_from_storage\n",
      "Reader-Thread-00. End function: read_from_storage\n",
      "Reader-Thread-01. End function: read_from_storage\n",
      "\n",
      "\n",
      "MainThread: squares = [0, 1, 2, 3, 4]\n",
      "\n",
      "\n"
     ]
    }
   ],
   "source": [
    "from queue import Queue, Empty\n",
    "from threading import Event\n",
    "\n",
    "\n",
    "storage = Queue(maxsize=5)  #  IRL we do not have infinity memory. So let set some max size\n",
    "complete_storage = Event()\n",
    "squares = []\n",
    "\n",
    "@thread_info\n",
    "def add_to_storage(x):\n",
    "    for i in range(x):\n",
    "        # Without timeout we will wait until we have space to insert to queue\n",
    "        # Otherwise will raise queue.Full exception \n",
    "        time.sleep(0.001)\n",
    "        storage.put(i)  \n",
    "    \n",
    "    complete_storage.set()  # Mark Event `complete_storage` as True\n",
    "    \n",
    "@thread_info\n",
    "def read_from_storage():\n",
    "    while True:  # Do while Event `complete_storage` as False\n",
    "        try:\n",
    "            value = storage.get(timeout=1)\n",
    "        except Empty:\n",
    "            if complete_storage.is_set():\n",
    "                break\n",
    "            continue\n",
    "        \n",
    "        try:\n",
    "            time.sleep(0.25)  # Simulate some long operations\n",
    "            squares.append(value)\n",
    "        finally:\n",
    "            storage.task_done()  # Set task as done\n",
    "\n",
    "write_thread = Thread(target=add_to_storage, name=\"Writer-Thread\", args=(5,))\n",
    "write_thread.start()\n",
    "\n",
    "read_threads = []  # storage for read threads\n",
    "for tr_no in range(3):  # Create 3 read threads\n",
    "    read_thread = Thread(target=read_from_storage, name=\"Reader-Thread-%02d\" % tr_no)\n",
    "    read_thread.start()\n",
    "    read_threads.append(read_thread)\n",
    "\n",
    "write_thread.join()\n",
    "\n",
    "print(\"Block the queue for put\")\n",
    "storage.join()\n",
    "print(\"Release queue\")\n",
    "\n",
    "for worker in read_threads:\n",
    "    worker.join()\n",
    "\n",
    "print(f\"\\n\\n{threading.current_thread().name}: {squares = }\\n\\n\", )"
   ]
  },
  {
   "cell_type": "code",
   "execution_count": null,
   "metadata": {},
   "outputs": [],
   "source": []
  },
  {
   "cell_type": "code",
   "execution_count": null,
   "metadata": {},
   "outputs": [],
   "source": []
  },
  {
   "cell_type": "code",
   "execution_count": null,
   "metadata": {},
   "outputs": [],
   "source": []
  },
  {
   "cell_type": "code",
   "execution_count": 74,
   "metadata": {
    "ExecuteTime": {
     "end_time": "2021-01-27T09:44:24.265843Z",
     "start_time": "2021-01-27T09:44:23.753933Z"
    }
   },
   "outputs": [
    {
     "name": "stdout",
     "output_type": "stream",
     "text": [
      "Writer-Thread. Start function: add_to_storage. args = (5,), kwargs = {}\n",
      "Reader-Thread-00. Start function: read_from_storage. args = (), kwargs = {}\n",
      "Reader-Thread-01. Start function: read_from_storage. args = (), kwargs = {}\n",
      "Reader-Thread-02. Start function: read_from_storage. args = (), kwargs = {}\n",
      "Writer-Thread. End function: add_to_storage\n",
      "Block the queue for put\n",
      "Block the queue for putReader-Thread-02 got StopEvent Stop Event No: 00Reader-Thread-00 got StopEvent Stop Event No: 01\n",
      "Reader-Thread-00. End function: read_from_storage\n",
      "\n",
      "\n",
      "Reader-Thread-02. End function: read_from_storage\n",
      "Reader-Thread-01 got StopEvent Stop Event No: 02\n",
      "Reader-Thread-01. End function: read_from_storage\n",
      "\n",
      "\n",
      "MainThread: squares = [0, 1, 2, 3, 4]\n",
      "\n",
      "\n"
     ]
    }
   ],
   "source": [
    "from queue import Queue, Empty\n",
    "from threading import Event\n",
    "\n",
    "\n",
    "storage = Queue(maxsize=5)  #  IRL we do not have infinity memory. So let set some max size\n",
    "squares = []\n",
    "\n",
    "\n",
    "class StopObject:\n",
    "    # Let's create some object which notify that queue is full. Work well in FIFO Queues \n",
    "    def __init__(self, name=\"undefined\"):\n",
    "        self.name = name\n",
    "\n",
    "\n",
    "@thread_info\n",
    "def add_to_storage(x):\n",
    "    for i in range(x):\n",
    "        # Without timeout we will wait until we have space to insert to queue\n",
    "        # Otherwise will raise queue.Full exception \n",
    "        time.sleep(0.001)\n",
    "        storage.put(i)  \n",
    "    \n",
    "    complete_storage.set()  # Mark Event `complete_storage` as True\n",
    "    \n",
    "@thread_info\n",
    "def read_from_storage():\n",
    "    while True:\n",
    "        value = storage.get()\n",
    "        \n",
    "        try:\n",
    "            if isinstance(value, StopObject):\n",
    "                print(f\"{threading.current_thread().name} got StopEvent {value.name}\")\n",
    "                break\n",
    "\n",
    "            time.sleep(0.25)  # Simulate some long operations\n",
    "            squares.append(value)\n",
    "        finally:\n",
    "            storage.task_done()  # Set task as done\n",
    "        \n",
    "        \n",
    "write_thread = Thread(target=add_to_storage, name=\"Writer-Thread\", args=(5,))\n",
    "write_thread.start()\n",
    "\n",
    "read_threads = []  # storage for read threads\n",
    "for tr_no in range(3):  # Create 3 read threads\n",
    "    read_thread = Thread(target=read_from_storage, name=\"Reader-Thread-%02d\" % tr_no)\n",
    "    read_thread.start()\n",
    "    read_threads.append(read_thread)\n",
    "\n",
    "write_thread.join()\n",
    "print(\"Block the queue for put\")\n",
    "storage.join()\n",
    "\n",
    "for ix, _ in enumerate(read_threads):\n",
    "    storage.put(StopObject(name=\"Stop Event No: %02d\" % ix))\n",
    "\n",
    "print(\"Block the queue for put\")\n",
    "storage.join()\n",
    "\n",
    "for worker in read_threads:\n",
    "    worker.join()\n",
    "\n",
    "print(f\"\\n\\n{threading.current_thread().name}: {squares = }\\n\\n\", )"
   ]
  },
  {
   "cell_type": "code",
   "execution_count": null,
   "metadata": {},
   "outputs": [],
   "source": []
  },
  {
   "cell_type": "markdown",
   "metadata": {},
   "source": [
    "## Locks"
   ]
  },
  {
   "cell_type": "code",
   "execution_count": 82,
   "metadata": {
    "ExecuteTime": {
     "end_time": "2021-01-27T09:47:28.431516Z",
     "start_time": "2021-01-27T09:47:28.187229Z"
    }
   },
   "outputs": [
    {
     "name": "stdout",
     "output_type": "stream",
     "text": [
      "Counter-Worker-00. Start function: worker. args = (1000000, <__main__.DummyCounter object at 0x7fc2ee8d4880>), kwargs = {}\n",
      "Counter-Worker-01. Start function: worker. args = (1000000, <__main__.DummyCounter object at 0x7fc2ee8d4880>), kwargs = {}\n",
      "Counter-Worker-00. End function: worker\n",
      "Counter-Worker-01. End function: worker\n",
      "\n",
      "\n",
      "\n",
      "Expected counter 2000000, Actual 1725837\n"
     ]
    }
   ],
   "source": [
    "import threading\n",
    "\n",
    "\n",
    "class DummyCounter():\n",
    "    def __init__(self):\n",
    "        self.count = 0\n",
    "        \n",
    "    def increment(self):\n",
    "        self.count += 1\n",
    "\n",
    "        \n",
    "@thread_info        \n",
    "def worker(items, counter):\n",
    "    for _ in range(items):\n",
    "        counter.increment()\n",
    "        \n",
    "\n",
    "dc = DummyCounter()\n",
    "count_per_thread = 1000000\n",
    "total_workers = 2\n",
    "\n",
    "threads = []\n",
    "for tr_no in range(total_workers):  # Create thread workers\n",
    "    tr = threading.Thread(\n",
    "        target=worker, \n",
    "        name=\"Counter-Worker-%02d\" % tr_no, \n",
    "        args=(count_per_thread, dc)\n",
    "    )\n",
    "    tr.start()\n",
    "    threads.append(tr)\n",
    "\n",
    "    \n",
    "for tr in threads:\n",
    "    tr.join()\n",
    "\n",
    "print(f\"\\n\\n\\nExpected counter {total_workers * count_per_thread}, Actual {dc.count}\")"
   ]
  },
  {
   "cell_type": "code",
   "execution_count": null,
   "metadata": {},
   "outputs": [],
   "source": []
  },
  {
   "cell_type": "markdown",
   "metadata": {},
   "source": [
    "In the fact this code is not atomic operation\n",
    "\n",
    "```python\n",
    "    def increment(self):\n",
    "        self.count += 1\n",
    "```\n",
    "\n",
    "it call 3 operations\n",
    "\n",
    "\n",
    "```python\n",
    "\n",
    "    def increment(self):\n",
    "        value = getattr(self, \"count\")\n",
    "        value += 1\n",
    "        setattr(self, \"count\", value)\n",
    "        \n",
    "```\n",
    "\n",
    "GIL can switch to other thread after complete one of operation"
   ]
  },
  {
   "cell_type": "code",
   "execution_count": null,
   "metadata": {},
   "outputs": [],
   "source": []
  },
  {
   "cell_type": "code",
   "execution_count": 84,
   "metadata": {
    "ExecuteTime": {
     "end_time": "2021-01-27T09:51:15.463605Z",
     "start_time": "2021-01-27T09:51:13.947032Z"
    }
   },
   "outputs": [
    {
     "name": "stdout",
     "output_type": "stream",
     "text": [
      "Counter-Worker-00. Start function: worker. args = (1000000, <__main__.DummyCounter object at 0x7fc2ee8bcdc0>), kwargs = {}\n",
      "Counter-Worker-01. Start function: worker. args = (1000000, <__main__.DummyCounter object at 0x7fc2ee8bcdc0>), kwargs = {}\n",
      "Counter-Worker-00. End function: worker\n",
      "Counter-Worker-01. End function: worker\n",
      "\n",
      "\n",
      "\n",
      "Expected counter 2000000, Actual 2000000\n"
     ]
    }
   ],
   "source": [
    "from threading import Lock, RLock\n",
    "import threading\n",
    "\n",
    "\n",
    "class DummyCounter():\n",
    "    # Thread-safe counter \n",
    "    def __init__(self):\n",
    "        self.count = 0\n",
    "        self.lock = Lock()\n",
    "        \n",
    "    def increment(self,):\n",
    "        with self.lock:  # lock GIL switching to another thread\n",
    "            self.count += 1\n",
    "                \n",
    "        \"\"\"      \n",
    "        self.lock.acquire()\n",
    "        try:\n",
    "            count += 1    \n",
    "        finally:\n",
    "            self.lock.release()\n",
    "        \"\"\"\n",
    "        \n",
    "@thread_info        \n",
    "def worker(items, counter):\n",
    "    for _ in range(items):\n",
    "        counter.increment()\n",
    "\n",
    "\n",
    "dc = DummyCounter()\n",
    "count_per_thread = 1000000\n",
    "total_workers = 2\n",
    "threads = []\n",
    "\n",
    "\n",
    "for tr_no in range(total_workers):  # Create thread workers\n",
    "    tr = threading.Thread(\n",
    "        target=worker, \n",
    "        name=\"Counter-Worker-%02d\" % tr_no, \n",
    "        args=(count_per_thread, dc)\n",
    "    )\n",
    "    tr.start()\n",
    "    threads.append(tr)\n",
    "\n",
    "    \n",
    "for tr in threads:\n",
    "    tr.join()\n",
    "\n",
    "print(f\"\\n\\n\\nExpected counter {total_workers * count_per_thread}, Actual {dc.count}\")"
   ]
  },
  {
   "cell_type": "code",
   "execution_count": null,
   "metadata": {},
   "outputs": [],
   "source": []
  },
  {
   "cell_type": "code",
   "execution_count": null,
   "metadata": {},
   "outputs": [],
   "source": []
  },
  {
   "cell_type": "markdown",
   "metadata": {},
   "source": [
    "__Lock__: `.acquire()` can call only once before `.release()`\n",
    "\n",
    "__RLock__: `.acquire()` can call multiple times in the same Thread before `.release()`\n"
   ]
  },
  {
   "cell_type": "code",
   "execution_count": null,
   "metadata": {},
   "outputs": [],
   "source": []
  },
  {
   "cell_type": "code",
   "execution_count": 85,
   "metadata": {
    "ExecuteTime": {
     "end_time": "2021-01-27T09:53:29.879334Z",
     "start_time": "2021-01-27T09:53:21.596618Z"
    }
   },
   "outputs": [
    {
     "name": "stdout",
     "output_type": "stream",
     "text": [
      "No Lock\n",
      "Lock first time\n"
     ]
    },
    {
     "ename": "KeyboardInterrupt",
     "evalue": "",
     "output_type": "error",
     "traceback": [
      "\u001b[0;31m---------------------------------------------------------------------------\u001b[0m",
      "\u001b[0;31mKeyboardInterrupt\u001b[0m                         Traceback (most recent call last)",
      "\u001b[0;32m<ipython-input-85-f78de6d6732d>\u001b[0m in \u001b[0;36m<module>\u001b[0;34m\u001b[0m\n\u001b[1;32m      4\u001b[0m \u001b[0mlock\u001b[0m\u001b[0;34m.\u001b[0m\u001b[0macquire\u001b[0m\u001b[0;34m(\u001b[0m\u001b[0;34m)\u001b[0m\u001b[0;34m\u001b[0m\u001b[0;34m\u001b[0m\u001b[0m\n\u001b[1;32m      5\u001b[0m \u001b[0mprint\u001b[0m\u001b[0;34m(\u001b[0m\u001b[0;34m\"Lock first time\"\u001b[0m\u001b[0;34m)\u001b[0m\u001b[0;34m\u001b[0m\u001b[0;34m\u001b[0m\u001b[0m\n\u001b[0;32m----> 6\u001b[0;31m \u001b[0mlock\u001b[0m\u001b[0;34m.\u001b[0m\u001b[0macquire\u001b[0m\u001b[0;34m(\u001b[0m\u001b[0;34m)\u001b[0m\u001b[0;34m\u001b[0m\u001b[0;34m\u001b[0m\u001b[0m\n\u001b[0m\u001b[1;32m      7\u001b[0m \u001b[0mprint\u001b[0m\u001b[0;34m(\u001b[0m\u001b[0;34m\"And now we are deadlocked\"\u001b[0m\u001b[0;34m)\u001b[0m\u001b[0;34m\u001b[0m\u001b[0;34m\u001b[0m\u001b[0m\n",
      "\u001b[0;31mKeyboardInterrupt\u001b[0m: "
     ]
    }
   ],
   "source": [
    "lock = Lock()\n",
    "\n",
    "print(\"No Lock\")\n",
    "lock.acquire()\n",
    "print(\"Lock first time\")\n",
    "lock.acquire()\n",
    "print(\"And now we are deadlocked\")"
   ]
  },
  {
   "cell_type": "code",
   "execution_count": 86,
   "metadata": {
    "ExecuteTime": {
     "end_time": "2021-01-27T09:53:36.892802Z",
     "start_time": "2021-01-27T09:53:36.889676Z"
    }
   },
   "outputs": [
    {
     "name": "stdout",
     "output_type": "stream",
     "text": [
      "No Lock\n",
      "Lock first time\n",
      "Everything is OK\n"
     ]
    }
   ],
   "source": [
    "lock = RLock()\n",
    "\n",
    "print(\"No Lock\")\n",
    "lock.acquire()\n",
    "print(\"Lock first time\")\n",
    "lock.acquire()\n",
    "print(\"Everything is OK\")"
   ]
  }
 ],
 "metadata": {
  "kernelspec": {
   "display_name": "Python 3",
   "language": "python",
   "name": "python3"
  },
  "language_info": {
   "codemirror_mode": {
    "name": "ipython",
    "version": 3
   },
   "file_extension": ".py",
   "mimetype": "text/x-python",
   "name": "python",
   "nbconvert_exporter": "python",
   "pygments_lexer": "ipython3",
   "version": "3.8.5"
  }
 },
 "nbformat": 4,
 "nbformat_minor": 5
}

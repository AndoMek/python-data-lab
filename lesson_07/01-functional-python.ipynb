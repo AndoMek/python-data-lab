{
 "cells": [
  {
   "cell_type": "markdown",
   "metadata": {},
   "source": [
    "# High Overwiev: Functional Programming in Python"
   ]
  },
  {
   "cell_type": "markdown",
   "metadata": {},
   "source": [
    "## `any(iterable)` and `all(iterable)`"
   ]
  },
  {
   "cell_type": "code",
   "execution_count": null,
   "metadata": {},
   "outputs": [],
   "source": []
  },
  {
   "cell_type": "code",
   "execution_count": 1,
   "metadata": {
    "ExecuteTime": {
     "end_time": "2021-01-27T07:33:40.224578Z",
     "start_time": "2021-01-27T07:33:40.222277Z"
    }
   },
   "outputs": [],
   "source": [
    "t1 = (True, False, True, False)\n",
    "t2 = (True, True, True, True)\n",
    "t3 = (False, False, False, False)"
   ]
  },
  {
   "cell_type": "code",
   "execution_count": null,
   "metadata": {},
   "outputs": [],
   "source": []
  },
  {
   "cell_type": "code",
   "execution_count": null,
   "metadata": {},
   "outputs": [],
   "source": []
  },
  {
   "cell_type": "code",
   "execution_count": 3,
   "metadata": {
    "ExecuteTime": {
     "end_time": "2021-01-27T07:34:12.138081Z",
     "start_time": "2021-01-27T07:34:12.135142Z"
    }
   },
   "outputs": [
    {
     "data": {
      "text/plain": [
       "(True, False)"
      ]
     },
     "execution_count": 3,
     "metadata": {},
     "output_type": "execute_result"
    }
   ],
   "source": [
    "any(t1), all(t1)"
   ]
  },
  {
   "cell_type": "code",
   "execution_count": 4,
   "metadata": {
    "ExecuteTime": {
     "end_time": "2021-01-27T07:34:14.107708Z",
     "start_time": "2021-01-27T07:34:14.104557Z"
    }
   },
   "outputs": [
    {
     "data": {
      "text/plain": [
       "(True, True)"
      ]
     },
     "execution_count": 4,
     "metadata": {},
     "output_type": "execute_result"
    }
   ],
   "source": [
    "any(t2), all(t2)"
   ]
  },
  {
   "cell_type": "code",
   "execution_count": 5,
   "metadata": {
    "ExecuteTime": {
     "end_time": "2021-01-27T07:34:16.570606Z",
     "start_time": "2021-01-27T07:34:16.567875Z"
    }
   },
   "outputs": [
    {
     "data": {
      "text/plain": [
       "(False, False)"
      ]
     },
     "execution_count": 5,
     "metadata": {},
     "output_type": "execute_result"
    }
   ],
   "source": [
    "any(t3), all(t3)"
   ]
  },
  {
   "cell_type": "code",
   "execution_count": null,
   "metadata": {},
   "outputs": [],
   "source": []
  },
  {
   "cell_type": "code",
   "execution_count": 6,
   "metadata": {
    "ExecuteTime": {
     "end_time": "2021-01-27T07:35:03.756991Z",
     "start_time": "2021-01-27T07:35:03.754106Z"
    }
   },
   "outputs": [
    {
     "data": {
      "text/plain": [
       "False"
      ]
     },
     "execution_count": 6,
     "metadata": {},
     "output_type": "execute_result"
    }
   ],
   "source": [
    "any((None, 0, [], {}, (), set([]), \"\", b\"\"))"
   ]
  },
  {
   "cell_type": "code",
   "execution_count": null,
   "metadata": {},
   "outputs": [],
   "source": []
  },
  {
   "cell_type": "code",
   "execution_count": null,
   "metadata": {},
   "outputs": [],
   "source": []
  },
  {
   "cell_type": "code",
   "execution_count": 12,
   "metadata": {
    "ExecuteTime": {
     "end_time": "2021-01-27T07:36:41.179087Z",
     "start_time": "2021-01-27T07:36:41.175772Z"
    }
   },
   "outputs": [
    {
     "data": {
      "text/plain": [
       "True"
      ]
     },
     "execution_count": 12,
     "metadata": {},
     "output_type": "execute_result"
    }
   ],
   "source": [
    "t_attributes = [\"id\", \"name\", \"class\", \"property\"]\n",
    "\n",
    "all((x.isidentifier() for x in t_attributes))"
   ]
  },
  {
   "cell_type": "code",
   "execution_count": null,
   "metadata": {},
   "outputs": [],
   "source": []
  },
  {
   "cell_type": "code",
   "execution_count": 14,
   "metadata": {
    "ExecuteTime": {
     "end_time": "2021-01-27T07:36:50.652238Z",
     "start_time": "2021-01-27T07:36:50.649568Z"
    }
   },
   "outputs": [
    {
     "data": {
      "text/plain": [
       "False"
      ]
     },
     "execution_count": 14,
     "metadata": {},
     "output_type": "execute_result"
    }
   ],
   "source": [
    "t_attributes = [\"id\", \"name\", \"class\", \"property\", \"2\"]\n",
    "\n",
    "all(x.isidentifier() for x in t_attributes)"
   ]
  },
  {
   "cell_type": "code",
   "execution_count": null,
   "metadata": {},
   "outputs": [],
   "source": []
  },
  {
   "cell_type": "code",
   "execution_count": null,
   "metadata": {},
   "outputs": [],
   "source": []
  },
  {
   "cell_type": "code",
   "execution_count": null,
   "metadata": {},
   "outputs": [],
   "source": []
  },
  {
   "cell_type": "code",
   "execution_count": 15,
   "metadata": {
    "ExecuteTime": {
     "end_time": "2021-01-27T07:37:31.466193Z",
     "start_time": "2021-01-27T07:37:31.463137Z"
    }
   },
   "outputs": [
    {
     "data": {
      "text/plain": [
       "False"
      ]
     },
     "execution_count": 15,
     "metadata": {},
     "output_type": "execute_result"
    }
   ],
   "source": [
    "import keyword\n",
    "\n",
    "t_attributes = [\"id\", \"name\", \"class\", \"property\"]\n",
    "\n",
    "all((x not in keyword.kwlist for x in t_attributes))"
   ]
  },
  {
   "cell_type": "code",
   "execution_count": null,
   "metadata": {},
   "outputs": [],
   "source": []
  },
  {
   "cell_type": "code",
   "execution_count": null,
   "metadata": {},
   "outputs": [],
   "source": []
  },
  {
   "cell_type": "code",
   "execution_count": 16,
   "metadata": {
    "ExecuteTime": {
     "end_time": "2021-01-27T07:37:46.875154Z",
     "start_time": "2021-01-27T07:37:46.871655Z"
    }
   },
   "outputs": [
    {
     "data": {
      "text/plain": [
       "True"
      ]
     },
     "execution_count": 16,
     "metadata": {},
     "output_type": "execute_result"
    }
   ],
   "source": [
    "import keyword\n",
    "\n",
    "t_attributes = [\"id\", \"name\", \"klass\", \"property\"]\n",
    "\n",
    "all((x not in keyword.kwlist for x in t_attributes))"
   ]
  },
  {
   "cell_type": "code",
   "execution_count": null,
   "metadata": {},
   "outputs": [],
   "source": []
  },
  {
   "cell_type": "code",
   "execution_count": null,
   "metadata": {},
   "outputs": [],
   "source": []
  },
  {
   "cell_type": "markdown",
   "metadata": {},
   "source": [
    "### Custom Class boolean coversion"
   ]
  },
  {
   "cell_type": "code",
   "execution_count": 17,
   "metadata": {
    "ExecuteTime": {
     "end_time": "2021-01-27T07:38:27.870633Z",
     "start_time": "2021-01-27T07:38:27.868697Z"
    }
   },
   "outputs": [],
   "source": [
    "class A:\n",
    "    pass"
   ]
  },
  {
   "cell_type": "code",
   "execution_count": null,
   "metadata": {},
   "outputs": [],
   "source": []
  },
  {
   "cell_type": "code",
   "execution_count": null,
   "metadata": {},
   "outputs": [],
   "source": []
  },
  {
   "cell_type": "code",
   "execution_count": null,
   "metadata": {},
   "outputs": [],
   "source": []
  },
  {
   "cell_type": "code",
   "execution_count": null,
   "metadata": {},
   "outputs": [],
   "source": []
  },
  {
   "cell_type": "code",
   "execution_count": 18,
   "metadata": {
    "ExecuteTime": {
     "end_time": "2021-01-27T07:38:57.904106Z",
     "start_time": "2021-01-27T07:38:57.901596Z"
    }
   },
   "outputs": [
    {
     "name": "stdout",
     "output_type": "stream",
     "text": [
      "True\n"
     ]
    }
   ],
   "source": [
    "a = A()\n",
    "\n",
    "if a:\n",
    "    print(True)\n",
    "else:\n",
    "    print(False)"
   ]
  },
  {
   "cell_type": "code",
   "execution_count": null,
   "metadata": {},
   "outputs": [],
   "source": []
  },
  {
   "cell_type": "code",
   "execution_count": 25,
   "metadata": {
    "ExecuteTime": {
     "end_time": "2021-01-27T07:40:54.396406Z",
     "start_time": "2021-01-27T07:40:54.391510Z"
    }
   },
   "outputs": [
    {
     "ename": "NameError",
     "evalue": "name 'dd' is not defined",
     "output_type": "error",
     "traceback": [
      "\u001b[0;31m---------------------------------------------------------------------------\u001b[0m",
      "\u001b[0;31mNameError\u001b[0m                                 Traceback (most recent call last)",
      "\u001b[0;32m<ipython-input-25-9cdbd8e7c953>\u001b[0m in \u001b[0;36m<module>\u001b[0;34m\u001b[0m\n\u001b[1;32m      1\u001b[0m \u001b[0mdd\u001b[0m\u001b[0;34m:\u001b[0m \u001b[0mdict\u001b[0m\u001b[0;34m\u001b[0m\u001b[0;34m\u001b[0m\u001b[0m\n\u001b[1;32m      2\u001b[0m \u001b[0;34m\u001b[0m\u001b[0m\n\u001b[0;32m----> 3\u001b[0;31m \u001b[0mprint\u001b[0m\u001b[0;34m(\u001b[0m\u001b[0mdd\u001b[0m\u001b[0;34m)\u001b[0m\u001b[0;34m\u001b[0m\u001b[0;34m\u001b[0m\u001b[0m\n\u001b[0m",
      "\u001b[0;31mNameError\u001b[0m: name 'dd' is not defined"
     ]
    }
   ],
   "source": [
    "# Default value for list actuall not exists\n",
    "\n",
    "dd: dict\n",
    "    \n",
    "print(dd)"
   ]
  },
  {
   "cell_type": "code",
   "execution_count": null,
   "metadata": {},
   "outputs": [],
   "source": []
  },
  {
   "cell_type": "code",
   "execution_count": 26,
   "metadata": {
    "ExecuteTime": {
     "end_time": "2021-01-27T07:41:42.282257Z",
     "start_time": "2021-01-27T07:41:42.279428Z"
    }
   },
   "outputs": [],
   "source": [
    "class A2:\n",
    "    def __init__(self):\n",
    "        self._value = None\n",
    "        \n",
    "    @property\n",
    "    def value(self):\n",
    "        return self._value\n",
    "    \n",
    "    @value.setter\n",
    "    def value(self, value):\n",
    "        self._value = value\n",
    "    \n",
    "    def __bool__(self): # __nonzero__(self) - Python 2.7\n",
    "        return self._value is not None\n",
    "    \n",
    "    __nonzero__ = __bool__"
   ]
  },
  {
   "cell_type": "code",
   "execution_count": null,
   "metadata": {},
   "outputs": [],
   "source": []
  },
  {
   "cell_type": "code",
   "execution_count": 27,
   "metadata": {
    "ExecuteTime": {
     "end_time": "2021-01-27T07:41:48.173026Z",
     "start_time": "2021-01-27T07:41:48.170267Z"
    }
   },
   "outputs": [
    {
     "data": {
      "text/plain": [
       "False"
      ]
     },
     "execution_count": 27,
     "metadata": {},
     "output_type": "execute_result"
    }
   ],
   "source": [
    "bool(A2())"
   ]
  },
  {
   "cell_type": "code",
   "execution_count": 28,
   "metadata": {
    "ExecuteTime": {
     "end_time": "2021-01-27T07:42:28.410207Z",
     "start_time": "2021-01-27T07:42:28.407873Z"
    }
   },
   "outputs": [
    {
     "name": "stdout",
     "output_type": "stream",
     "text": [
      "False\n",
      "True\n"
     ]
    }
   ],
   "source": [
    "a2 = A2()\n",
    "print(bool(a2))\n",
    "\n",
    "a2.value = 0\n",
    "print(bool(a2))"
   ]
  },
  {
   "cell_type": "code",
   "execution_count": null,
   "metadata": {},
   "outputs": [],
   "source": []
  },
  {
   "cell_type": "code",
   "execution_count": 29,
   "metadata": {
    "ExecuteTime": {
     "end_time": "2021-01-27T07:43:14.969533Z",
     "start_time": "2021-01-27T07:43:14.967541Z"
    }
   },
   "outputs": [],
   "source": [
    "class A3:   \n",
    "    def __len__(self):\n",
    "        return 1"
   ]
  },
  {
   "cell_type": "code",
   "execution_count": 30,
   "metadata": {
    "ExecuteTime": {
     "end_time": "2021-01-27T07:43:22.490153Z",
     "start_time": "2021-01-27T07:43:22.487564Z"
    }
   },
   "outputs": [
    {
     "data": {
      "text/plain": [
       "True"
      ]
     },
     "execution_count": 30,
     "metadata": {},
     "output_type": "execute_result"
    }
   ],
   "source": [
    "bool(A3())"
   ]
  },
  {
   "cell_type": "code",
   "execution_count": 33,
   "metadata": {
    "ExecuteTime": {
     "end_time": "2021-01-27T07:43:52.075124Z",
     "start_time": "2021-01-27T07:43:52.072197Z"
    }
   },
   "outputs": [
    {
     "data": {
      "text/plain": [
       "False"
      ]
     },
     "execution_count": 33,
     "metadata": {},
     "output_type": "execute_result"
    }
   ],
   "source": [
    "class A3_2:   \n",
    "    def __len__(self):\n",
    "        return 0\n",
    "    \n",
    "bool(A3_2())"
   ]
  },
  {
   "cell_type": "code",
   "execution_count": null,
   "metadata": {},
   "outputs": [],
   "source": []
  },
  {
   "cell_type": "code",
   "execution_count": 34,
   "metadata": {
    "ExecuteTime": {
     "end_time": "2021-01-27T07:44:10.668506Z",
     "start_time": "2021-01-27T07:44:10.664877Z"
    }
   },
   "outputs": [],
   "source": [
    "class A4:\n",
    "    def __init__(self):\n",
    "        self._value = None\n",
    "        \n",
    "    @property\n",
    "    def value(self):\n",
    "        return self._value\n",
    "    \n",
    "    @value.setter\n",
    "    def value(self, value):\n",
    "        self._value = value\n",
    "    \n",
    "    def __bool__(self): # __nonzero__(self) - Python 2.7\n",
    "        return self._value is not None\n",
    "    \n",
    "    def __len__(self):\n",
    "        return 1"
   ]
  },
  {
   "cell_type": "code",
   "execution_count": null,
   "metadata": {},
   "outputs": [],
   "source": []
  },
  {
   "cell_type": "code",
   "execution_count": 37,
   "metadata": {
    "ExecuteTime": {
     "end_time": "2021-01-27T07:46:19.786805Z",
     "start_time": "2021-01-27T07:46:19.784382Z"
    }
   },
   "outputs": [
    {
     "data": {
      "text/plain": [
       "False"
      ]
     },
     "execution_count": 37,
     "metadata": {},
     "output_type": "execute_result"
    }
   ],
   "source": [
    "bool(A4())"
   ]
  },
  {
   "cell_type": "markdown",
   "metadata": {
    "ExecuteTime": {
     "end_time": "2021-01-27T07:45:52.058730Z",
     "start_time": "2021-01-27T07:45:52.056747Z"
    }
   },
   "source": [
    "__Convertation Object to boolean__\n",
    "\n",
    "\n",
    "```bool(hasattr(_object, \"__bool__\", None)) -> bool(hasattr(_object, \"__len__\", None)) -> True```\n"
   ]
  },
  {
   "cell_type": "code",
   "execution_count": 38,
   "metadata": {
    "ExecuteTime": {
     "end_time": "2021-01-27T07:46:33.674101Z",
     "start_time": "2021-01-27T07:46:33.671669Z"
    }
   },
   "outputs": [
    {
     "data": {
      "text/plain": [
       "1"
      ]
     },
     "execution_count": 38,
     "metadata": {},
     "output_type": "execute_result"
    }
   ],
   "source": [
    "A4() or 1"
   ]
  },
  {
   "cell_type": "code",
   "execution_count": null,
   "metadata": {},
   "outputs": [],
   "source": []
  },
  {
   "cell_type": "markdown",
   "metadata": {
    "ExecuteTime": {
     "end_time": "2021-01-26T14:09:20.833737Z",
     "start_time": "2021-01-26T14:09:20.831984Z"
    }
   },
   "source": [
    "## Anonymous function\n",
    "\n",
    "`lambda arguments: expression`"
   ]
  },
  {
   "cell_type": "code",
   "execution_count": 39,
   "metadata": {
    "ExecuteTime": {
     "end_time": "2021-01-27T07:47:23.049586Z",
     "start_time": "2021-01-27T07:47:23.047654Z"
    }
   },
   "outputs": [],
   "source": [
    "import inspect"
   ]
  },
  {
   "cell_type": "code",
   "execution_count": 40,
   "metadata": {
    "ExecuteTime": {
     "end_time": "2021-01-27T07:47:25.420640Z",
     "start_time": "2021-01-27T07:47:25.418646Z"
    }
   },
   "outputs": [],
   "source": [
    "from collections import defaultdict"
   ]
  },
  {
   "cell_type": "code",
   "execution_count": 41,
   "metadata": {
    "ExecuteTime": {
     "end_time": "2021-01-27T07:47:31.533678Z",
     "start_time": "2021-01-27T07:47:31.530948Z"
    }
   },
   "outputs": [],
   "source": [
    "ll_geo = [\n",
    "    (\"Minsk\", (53.893009, 27.567444)),\n",
    "    (\"London\", (51.50853, -0.12574)),\n",
    "    (\"Manchester\", (53.48095, -2.23743)),\n",
    "]"
   ]
  },
  {
   "cell_type": "code",
   "execution_count": null,
   "metadata": {},
   "outputs": [],
   "source": []
  },
  {
   "cell_type": "code",
   "execution_count": 42,
   "metadata": {
    "ExecuteTime": {
     "end_time": "2021-01-27T07:48:18.361836Z",
     "start_time": "2021-01-27T07:48:18.359782Z"
    }
   },
   "outputs": [],
   "source": [
    "def geo(default=(None, None)):\n",
    "    def inner_function():\n",
    "        return default\n",
    "    \n",
    "    return inner_function"
   ]
  },
  {
   "cell_type": "code",
   "execution_count": 43,
   "metadata": {
    "ExecuteTime": {
     "end_time": "2021-01-27T07:48:23.659169Z",
     "start_time": "2021-01-27T07:48:23.656337Z"
    }
   },
   "outputs": [
    {
     "data": {
      "text/plain": [
       "function"
      ]
     },
     "execution_count": 43,
     "metadata": {},
     "output_type": "execute_result"
    }
   ],
   "source": [
    "type(geo())"
   ]
  },
  {
   "cell_type": "code",
   "execution_count": 44,
   "metadata": {
    "ExecuteTime": {
     "end_time": "2021-01-27T07:48:35.693423Z",
     "start_time": "2021-01-27T07:48:35.691536Z"
    }
   },
   "outputs": [],
   "source": [
    "geo_dd = defaultdict(geo())\n",
    "\n",
    "for city, location in ll_geo:\n",
    "    geo_dd[city] = location"
   ]
  },
  {
   "cell_type": "code",
   "execution_count": 45,
   "metadata": {
    "ExecuteTime": {
     "end_time": "2021-01-27T07:48:39.195036Z",
     "start_time": "2021-01-27T07:48:39.192242Z"
    }
   },
   "outputs": [
    {
     "data": {
      "text/plain": [
       "(None, None)"
      ]
     },
     "execution_count": 45,
     "metadata": {},
     "output_type": "execute_result"
    }
   ],
   "source": [
    "geo_dd[\"New York\"]"
   ]
  },
  {
   "cell_type": "code",
   "execution_count": 46,
   "metadata": {
    "ExecuteTime": {
     "end_time": "2021-01-27T07:48:41.322122Z",
     "start_time": "2021-01-27T07:48:41.319397Z"
    }
   },
   "outputs": [
    {
     "data": {
      "text/plain": [
       "defaultdict(<function __main__.geo.<locals>.inner_function()>,\n",
       "            {'Minsk': (53.893009, 27.567444),\n",
       "             'London': (51.50853, -0.12574),\n",
       "             'Manchester': (53.48095, -2.23743),\n",
       "             'New York': (None, None)})"
      ]
     },
     "execution_count": 46,
     "metadata": {},
     "output_type": "execute_result"
    }
   ],
   "source": [
    "geo_dd"
   ]
  },
  {
   "cell_type": "code",
   "execution_count": null,
   "metadata": {},
   "outputs": [],
   "source": []
  },
  {
   "cell_type": "code",
   "execution_count": 47,
   "metadata": {
    "ExecuteTime": {
     "end_time": "2021-01-27T07:49:42.233996Z",
     "start_time": "2021-01-27T07:49:42.231818Z"
    }
   },
   "outputs": [],
   "source": [
    "geo_dd2 = defaultdict(geo(\"Not found\"))\n",
    "\n",
    "for city, location in ll_geo:\n",
    "    geo_dd2[city] = location"
   ]
  },
  {
   "cell_type": "code",
   "execution_count": 48,
   "metadata": {
    "ExecuteTime": {
     "end_time": "2021-01-27T07:49:44.698904Z",
     "start_time": "2021-01-27T07:49:44.695956Z"
    }
   },
   "outputs": [
    {
     "data": {
      "text/plain": [
       "'Not found'"
      ]
     },
     "execution_count": 48,
     "metadata": {},
     "output_type": "execute_result"
    }
   ],
   "source": [
    "geo_dd2[\"New York\"]"
   ]
  },
  {
   "cell_type": "code",
   "execution_count": null,
   "metadata": {},
   "outputs": [],
   "source": []
  },
  {
   "cell_type": "code",
   "execution_count": 49,
   "metadata": {
    "ExecuteTime": {
     "end_time": "2021-01-27T07:50:48.748491Z",
     "start_time": "2021-01-27T07:50:48.746572Z"
    }
   },
   "outputs": [],
   "source": [
    "def geo2(default=(None, None)):\n",
    "    return lambda: default"
   ]
  },
  {
   "cell_type": "code",
   "execution_count": null,
   "metadata": {},
   "outputs": [],
   "source": []
  },
  {
   "cell_type": "code",
   "execution_count": 50,
   "metadata": {
    "ExecuteTime": {
     "end_time": "2021-01-27T07:50:50.938030Z",
     "start_time": "2021-01-27T07:50:50.935347Z"
    }
   },
   "outputs": [
    {
     "data": {
      "text/plain": [
       "function"
      ]
     },
     "execution_count": 50,
     "metadata": {},
     "output_type": "execute_result"
    }
   ],
   "source": [
    "type(geo2())"
   ]
  },
  {
   "cell_type": "code",
   "execution_count": 51,
   "metadata": {
    "ExecuteTime": {
     "end_time": "2021-01-27T07:51:04.011449Z",
     "start_time": "2021-01-27T07:51:04.008396Z"
    }
   },
   "outputs": [
    {
     "data": {
      "text/plain": [
       "<function __main__.geo2.<locals>.<lambda>()>"
      ]
     },
     "execution_count": 51,
     "metadata": {},
     "output_type": "execute_result"
    }
   ],
   "source": [
    "geo2()"
   ]
  },
  {
   "cell_type": "code",
   "execution_count": null,
   "metadata": {},
   "outputs": [],
   "source": []
  },
  {
   "cell_type": "code",
   "execution_count": 52,
   "metadata": {
    "ExecuteTime": {
     "end_time": "2021-01-27T07:51:21.947802Z",
     "start_time": "2021-01-27T07:51:21.944295Z"
    }
   },
   "outputs": [],
   "source": [
    "geo_dd3 = defaultdict(geo2(\"???\"))\n",
    "\n",
    "for city, location in ll_geo:\n",
    "    geo_dd3[city] = location"
   ]
  },
  {
   "cell_type": "code",
   "execution_count": 53,
   "metadata": {
    "ExecuteTime": {
     "end_time": "2021-01-27T07:51:24.682776Z",
     "start_time": "2021-01-27T07:51:24.680054Z"
    }
   },
   "outputs": [
    {
     "data": {
      "text/plain": [
       "'???'"
      ]
     },
     "execution_count": 53,
     "metadata": {},
     "output_type": "execute_result"
    }
   ],
   "source": [
    "geo_dd3[\"New York\"]"
   ]
  },
  {
   "cell_type": "code",
   "execution_count": 54,
   "metadata": {
    "ExecuteTime": {
     "end_time": "2021-01-27T07:51:28.827163Z",
     "start_time": "2021-01-27T07:51:28.824078Z"
    }
   },
   "outputs": [
    {
     "data": {
      "text/plain": [
       "defaultdict(<function __main__.geo2.<locals>.<lambda>()>,\n",
       "            {'Minsk': (53.893009, 27.567444),\n",
       "             'London': (51.50853, -0.12574),\n",
       "             'Manchester': (53.48095, -2.23743),\n",
       "             'New York': '???'})"
      ]
     },
     "execution_count": 54,
     "metadata": {},
     "output_type": "execute_result"
    }
   ],
   "source": [
    "geo_dd3"
   ]
  },
  {
   "cell_type": "code",
   "execution_count": null,
   "metadata": {},
   "outputs": [],
   "source": []
  },
  {
   "cell_type": "code",
   "execution_count": null,
   "metadata": {},
   "outputs": [],
   "source": []
  },
  {
   "cell_type": "code",
   "execution_count": 55,
   "metadata": {
    "ExecuteTime": {
     "end_time": "2021-01-27T07:52:14.714668Z",
     "start_time": "2021-01-27T07:52:14.712540Z"
    }
   },
   "outputs": [],
   "source": [
    "afunc_1 = lambda: 0\n",
    "\n",
    "# def afunc_1():\n",
    "#     return 0"
   ]
  },
  {
   "cell_type": "code",
   "execution_count": 56,
   "metadata": {
    "ExecuteTime": {
     "end_time": "2021-01-27T07:52:17.213600Z",
     "start_time": "2021-01-27T07:52:17.210249Z"
    }
   },
   "outputs": [
    {
     "data": {
      "text/plain": [
       "FullArgSpec(args=[], varargs=None, varkw=None, defaults=None, kwonlyargs=[], kwonlydefaults=None, annotations={})"
      ]
     },
     "execution_count": 56,
     "metadata": {},
     "output_type": "execute_result"
    }
   ],
   "source": [
    "inspect.getfullargspec(afunc_1)"
   ]
  },
  {
   "cell_type": "code",
   "execution_count": 57,
   "metadata": {
    "ExecuteTime": {
     "end_time": "2021-01-27T07:52:25.099704Z",
     "start_time": "2021-01-27T07:52:25.096775Z"
    }
   },
   "outputs": [
    {
     "data": {
      "text/plain": [
       "0"
      ]
     },
     "execution_count": 57,
     "metadata": {},
     "output_type": "execute_result"
    }
   ],
   "source": [
    "afunc_1()"
   ]
  },
  {
   "cell_type": "code",
   "execution_count": null,
   "metadata": {},
   "outputs": [],
   "source": []
  },
  {
   "cell_type": "code",
   "execution_count": null,
   "metadata": {},
   "outputs": [],
   "source": []
  },
  {
   "cell_type": "code",
   "execution_count": null,
   "metadata": {},
   "outputs": [],
   "source": [
    "# parameters"
   ]
  },
  {
   "cell_type": "code",
   "execution_count": 58,
   "metadata": {
    "ExecuteTime": {
     "end_time": "2021-01-27T07:52:40.507391Z",
     "start_time": "2021-01-27T07:52:40.505170Z"
    }
   },
   "outputs": [],
   "source": [
    "afunc_2 = lambda arg1: arg1"
   ]
  },
  {
   "cell_type": "code",
   "execution_count": 59,
   "metadata": {
    "ExecuteTime": {
     "end_time": "2021-01-27T07:52:43.067460Z",
     "start_time": "2021-01-27T07:52:43.063850Z"
    }
   },
   "outputs": [
    {
     "data": {
      "text/plain": [
       "FullArgSpec(args=['arg1'], varargs=None, varkw=None, defaults=None, kwonlyargs=[], kwonlydefaults=None, annotations={})"
      ]
     },
     "execution_count": 59,
     "metadata": {},
     "output_type": "execute_result"
    }
   ],
   "source": [
    "inspect.getfullargspec(afunc_2)"
   ]
  },
  {
   "cell_type": "code",
   "execution_count": 60,
   "metadata": {
    "ExecuteTime": {
     "end_time": "2021-01-27T07:52:53.324385Z",
     "start_time": "2021-01-27T07:52:53.319971Z"
    }
   },
   "outputs": [
    {
     "ename": "TypeError",
     "evalue": "<lambda>() missing 1 required positional argument: 'arg1'",
     "output_type": "error",
     "traceback": [
      "\u001b[0;31m---------------------------------------------------------------------------\u001b[0m",
      "\u001b[0;31mTypeError\u001b[0m                                 Traceback (most recent call last)",
      "\u001b[0;32m<ipython-input-60-4df35ab43e2e>\u001b[0m in \u001b[0;36m<module>\u001b[0;34m\u001b[0m\n\u001b[0;32m----> 1\u001b[0;31m \u001b[0mafunc_2\u001b[0m\u001b[0;34m(\u001b[0m\u001b[0;34m)\u001b[0m\u001b[0;34m\u001b[0m\u001b[0;34m\u001b[0m\u001b[0m\n\u001b[0m",
      "\u001b[0;31mTypeError\u001b[0m: <lambda>() missing 1 required positional argument: 'arg1'"
     ]
    }
   ],
   "source": [
    "afunc_2()"
   ]
  },
  {
   "cell_type": "code",
   "execution_count": 61,
   "metadata": {
    "ExecuteTime": {
     "end_time": "2021-01-27T07:53:01.419264Z",
     "start_time": "2021-01-27T07:53:01.415933Z"
    }
   },
   "outputs": [
    {
     "data": {
      "text/plain": [
       "'Some Value'"
      ]
     },
     "execution_count": 61,
     "metadata": {},
     "output_type": "execute_result"
    }
   ],
   "source": [
    "afunc_2(\"Some Value\")"
   ]
  },
  {
   "cell_type": "code",
   "execution_count": null,
   "metadata": {},
   "outputs": [],
   "source": []
  },
  {
   "cell_type": "code",
   "execution_count": 62,
   "metadata": {
    "ExecuteTime": {
     "end_time": "2021-01-27T07:53:22.301337Z",
     "start_time": "2021-01-27T07:53:22.299525Z"
    }
   },
   "outputs": [],
   "source": [
    "afunc_3 = lambda arg1, arg2=None: f\"{arg1 = }, {arg2 = }\""
   ]
  },
  {
   "cell_type": "code",
   "execution_count": 63,
   "metadata": {
    "ExecuteTime": {
     "end_time": "2021-01-27T07:53:26.412531Z",
     "start_time": "2021-01-27T07:53:26.409386Z"
    }
   },
   "outputs": [
    {
     "data": {
      "text/plain": [
       "FullArgSpec(args=['arg1', 'arg2'], varargs=None, varkw=None, defaults=(None,), kwonlyargs=[], kwonlydefaults=None, annotations={})"
      ]
     },
     "execution_count": 63,
     "metadata": {},
     "output_type": "execute_result"
    }
   ],
   "source": [
    "inspect.getfullargspec(afunc_3)"
   ]
  },
  {
   "cell_type": "code",
   "execution_count": 64,
   "metadata": {
    "ExecuteTime": {
     "end_time": "2021-01-27T07:54:13.898191Z",
     "start_time": "2021-01-27T07:54:13.896027Z"
    }
   },
   "outputs": [],
   "source": [
    "afunc_3_py38 = lambda arg1, /, arg2=None: f\"{arg1 = }, {arg2 = }\""
   ]
  },
  {
   "cell_type": "code",
   "execution_count": 65,
   "metadata": {
    "ExecuteTime": {
     "end_time": "2021-01-27T07:54:19.563067Z",
     "start_time": "2021-01-27T07:54:19.559957Z"
    }
   },
   "outputs": [
    {
     "data": {
      "text/plain": [
       "FullArgSpec(args=['arg1', 'arg2'], varargs=None, varkw=None, defaults=(None,), kwonlyargs=[], kwonlydefaults=None, annotations={})"
      ]
     },
     "execution_count": 65,
     "metadata": {},
     "output_type": "execute_result"
    }
   ],
   "source": [
    "inspect.getfullargspec(afunc_3_py38)"
   ]
  },
  {
   "cell_type": "code",
   "execution_count": 66,
   "metadata": {
    "ExecuteTime": {
     "end_time": "2021-01-27T07:54:31.738470Z",
     "start_time": "2021-01-27T07:54:31.735984Z"
    }
   },
   "outputs": [
    {
     "data": {
      "text/plain": [
       "'arg1 = 1, arg2 = None'"
      ]
     },
     "execution_count": 66,
     "metadata": {},
     "output_type": "execute_result"
    }
   ],
   "source": [
    "afunc_3(1)"
   ]
  },
  {
   "cell_type": "code",
   "execution_count": 67,
   "metadata": {
    "ExecuteTime": {
     "end_time": "2021-01-27T07:54:38.380469Z",
     "start_time": "2021-01-27T07:54:38.376436Z"
    }
   },
   "outputs": [
    {
     "data": {
      "text/plain": [
       "'arg1 = 1, arg2 = None'"
      ]
     },
     "execution_count": 67,
     "metadata": {},
     "output_type": "execute_result"
    }
   ],
   "source": [
    "afunc_3(arg1=1)"
   ]
  },
  {
   "cell_type": "code",
   "execution_count": 68,
   "metadata": {
    "ExecuteTime": {
     "end_time": "2021-01-27T07:54:48.219109Z",
     "start_time": "2021-01-27T07:54:48.216232Z"
    }
   },
   "outputs": [
    {
     "data": {
      "text/plain": [
       "\"arg1 = 1, arg2 = 'some value'\""
      ]
     },
     "execution_count": 68,
     "metadata": {},
     "output_type": "execute_result"
    }
   ],
   "source": [
    "afunc_3(arg1=1, arg2=\"some value\")"
   ]
  },
  {
   "cell_type": "code",
   "execution_count": 69,
   "metadata": {
    "ExecuteTime": {
     "end_time": "2021-01-27T07:55:17.259696Z",
     "start_time": "2021-01-27T07:55:17.255416Z"
    }
   },
   "outputs": [
    {
     "ename": "TypeError",
     "evalue": "<lambda>() got some positional-only arguments passed as keyword arguments: 'arg1'",
     "output_type": "error",
     "traceback": [
      "\u001b[0;31m---------------------------------------------------------------------------\u001b[0m",
      "\u001b[0;31mTypeError\u001b[0m                                 Traceback (most recent call last)",
      "\u001b[0;32m<ipython-input-69-9445686edeb7>\u001b[0m in \u001b[0;36m<module>\u001b[0;34m\u001b[0m\n\u001b[0;32m----> 1\u001b[0;31m \u001b[0mafunc_3_py38\u001b[0m\u001b[0;34m(\u001b[0m\u001b[0marg1\u001b[0m\u001b[0;34m=\u001b[0m\u001b[0;36m1\u001b[0m\u001b[0;34m)\u001b[0m\u001b[0;34m\u001b[0m\u001b[0;34m\u001b[0m\u001b[0m\n\u001b[0m",
      "\u001b[0;31mTypeError\u001b[0m: <lambda>() got some positional-only arguments passed as keyword arguments: 'arg1'"
     ]
    }
   ],
   "source": [
    "afunc_3_py38(arg1=1)"
   ]
  },
  {
   "cell_type": "code",
   "execution_count": null,
   "metadata": {},
   "outputs": [],
   "source": []
  },
  {
   "cell_type": "code",
   "execution_count": null,
   "metadata": {},
   "outputs": [],
   "source": []
  },
  {
   "cell_type": "code",
   "execution_count": null,
   "metadata": {},
   "outputs": [],
   "source": []
  },
  {
   "cell_type": "code",
   "execution_count": null,
   "metadata": {},
   "outputs": [],
   "source": []
  },
  {
   "cell_type": "code",
   "execution_count": 70,
   "metadata": {
    "ExecuteTime": {
     "end_time": "2021-01-27T07:56:22.012480Z",
     "start_time": "2021-01-27T07:56:22.010414Z"
    }
   },
   "outputs": [],
   "source": [
    "afunc_4 = lambda default=(None, None): lambda: default"
   ]
  },
  {
   "cell_type": "code",
   "execution_count": 71,
   "metadata": {
    "ExecuteTime": {
     "end_time": "2021-01-27T07:56:24.249626Z",
     "start_time": "2021-01-27T07:56:24.246871Z"
    }
   },
   "outputs": [
    {
     "data": {
      "text/plain": [
       "FullArgSpec(args=['default'], varargs=None, varkw=None, defaults=((None, None),), kwonlyargs=[], kwonlydefaults=None, annotations={})"
      ]
     },
     "execution_count": 71,
     "metadata": {},
     "output_type": "execute_result"
    }
   ],
   "source": [
    "inspect.getfullargspec(afunc_4)"
   ]
  },
  {
   "cell_type": "code",
   "execution_count": null,
   "metadata": {},
   "outputs": [],
   "source": []
  },
  {
   "cell_type": "code",
   "execution_count": null,
   "metadata": {},
   "outputs": [],
   "source": []
  },
  {
   "cell_type": "code",
   "execution_count": 72,
   "metadata": {
    "ExecuteTime": {
     "end_time": "2021-01-27T07:56:47.578908Z",
     "start_time": "2021-01-27T07:56:47.575698Z"
    }
   },
   "outputs": [],
   "source": [
    "geo_dd4 = defaultdict(afunc_4(\"Better luck next time\"))\n",
    "\n",
    "for city, location in ll_geo:\n",
    "    geo_dd4[city] = location"
   ]
  },
  {
   "cell_type": "code",
   "execution_count": 73,
   "metadata": {
    "ExecuteTime": {
     "end_time": "2021-01-27T07:56:50.027935Z",
     "start_time": "2021-01-27T07:56:50.024913Z"
    }
   },
   "outputs": [
    {
     "data": {
      "text/plain": [
       "'Better luck next time'"
      ]
     },
     "execution_count": 73,
     "metadata": {},
     "output_type": "execute_result"
    }
   ],
   "source": [
    "geo_dd4[\"Ney York\"]"
   ]
  },
  {
   "cell_type": "code",
   "execution_count": 74,
   "metadata": {
    "ExecuteTime": {
     "end_time": "2021-01-27T07:57:11.594377Z",
     "start_time": "2021-01-27T07:57:11.591252Z"
    }
   },
   "outputs": [
    {
     "data": {
      "text/plain": [
       "defaultdict(<function __main__.<lambda>.<locals>.<lambda>()>,\n",
       "            {'Minsk': (53.893009, 27.567444),\n",
       "             'London': (51.50853, -0.12574),\n",
       "             'Manchester': (53.48095, -2.23743),\n",
       "             'Ney York': 'Better luck next time'})"
      ]
     },
     "execution_count": 74,
     "metadata": {},
     "output_type": "execute_result"
    }
   ],
   "source": [
    "geo_dd4"
   ]
  },
  {
   "cell_type": "code",
   "execution_count": null,
   "metadata": {},
   "outputs": [],
   "source": []
  },
  {
   "cell_type": "code",
   "execution_count": null,
   "metadata": {},
   "outputs": [],
   "source": []
  },
  {
   "cell_type": "code",
   "execution_count": 75,
   "metadata": {
    "ExecuteTime": {
     "end_time": "2021-01-27T07:57:36.889283Z",
     "start_time": "2021-01-27T07:57:36.887280Z"
    }
   },
   "outputs": [],
   "source": [
    "geo_dd5 = defaultdict(lambda: \"Probably on Mars\")\n",
    "\n",
    "for city, location in ll_geo:\n",
    "    geo_dd5[city] = location"
   ]
  },
  {
   "cell_type": "code",
   "execution_count": 76,
   "metadata": {
    "ExecuteTime": {
     "end_time": "2021-01-27T07:57:38.602145Z",
     "start_time": "2021-01-27T07:57:38.599171Z"
    }
   },
   "outputs": [
    {
     "data": {
      "text/plain": [
       "'Probably on Mars'"
      ]
     },
     "execution_count": 76,
     "metadata": {},
     "output_type": "execute_result"
    }
   ],
   "source": [
    "geo_dd5[\"Ney York\"]"
   ]
  },
  {
   "cell_type": "code",
   "execution_count": 78,
   "metadata": {
    "ExecuteTime": {
     "end_time": "2021-01-27T07:57:53.051432Z",
     "start_time": "2021-01-27T07:57:53.047794Z"
    }
   },
   "outputs": [
    {
     "data": {
      "text/plain": [
       "defaultdict(<function __main__.<lambda>()>,\n",
       "            {'Minsk': (53.893009, 27.567444),\n",
       "             'London': (51.50853, -0.12574),\n",
       "             'Manchester': (53.48095, -2.23743),\n",
       "             'Ney York': 'Probably on Mars'})"
      ]
     },
     "execution_count": 78,
     "metadata": {},
     "output_type": "execute_result"
    }
   ],
   "source": [
    "geo_dd5"
   ]
  },
  {
   "cell_type": "code",
   "execution_count": null,
   "metadata": {},
   "outputs": [],
   "source": []
  },
  {
   "cell_type": "code",
   "execution_count": null,
   "metadata": {},
   "outputs": [],
   "source": []
  },
  {
   "cell_type": "markdown",
   "metadata": {
    "ExecuteTime": {
     "end_time": "2021-01-26T15:18:01.383082Z",
     "start_time": "2021-01-26T15:18:01.380361Z"
    }
   },
   "source": [
    "### dis — Disassembler for Python bytecode\n",
    "\n",
    "https://docs.python.org/3/library/dis.html"
   ]
  },
  {
   "cell_type": "code",
   "execution_count": null,
   "metadata": {},
   "outputs": [],
   "source": []
  },
  {
   "cell_type": "code",
   "execution_count": 79,
   "metadata": {
    "ExecuteTime": {
     "end_time": "2021-01-27T07:59:27.706131Z",
     "start_time": "2021-01-27T07:59:27.703759Z"
    }
   },
   "outputs": [],
   "source": [
    "def add_(a, b):\n",
    "    return a + b"
   ]
  },
  {
   "cell_type": "code",
   "execution_count": 80,
   "metadata": {
    "ExecuteTime": {
     "end_time": "2021-01-27T08:00:06.650425Z",
     "start_time": "2021-01-27T08:00:06.647702Z"
    }
   },
   "outputs": [
    {
     "data": {
      "text/plain": [
       "<function __main__.<lambda>(a, b)>"
      ]
     },
     "execution_count": 80,
     "metadata": {},
     "output_type": "execute_result"
    }
   ],
   "source": [
    "lambda a, b: a + b"
   ]
  },
  {
   "cell_type": "code",
   "execution_count": 88,
   "metadata": {
    "ExecuteTime": {
     "end_time": "2021-01-27T08:04:55.292158Z",
     "start_time": "2021-01-27T08:04:55.288168Z"
    }
   },
   "outputs": [
    {
     "name": "stdout",
     "output_type": "stream",
     "text": [
      "Function dis\n",
      "  2           0 LOAD_FAST                0 (a)\n",
      "              2 LOAD_FAST                1 (b)\n",
      "              4 BINARY_ADD\n",
      "              6 RETURN_VALUE\n",
      "None\n",
      "Anonimous Function dis\n",
      "  7           0 LOAD_FAST                0 (a)\n",
      "              2 LOAD_FAST                1 (b)\n",
      "              4 BINARY_ADD\n",
      "              6 RETURN_VALUE\n",
      "None\n"
     ]
    }
   ],
   "source": [
    "import dis\n",
    "\n",
    "print(\"Function dis\")\n",
    "print(dis.dis(add_))\n",
    "\n",
    "print(\"Anonimous Function dis\")\n",
    "print(dis.dis(lambda a, b: a + b))"
   ]
  },
  {
   "cell_type": "code",
   "execution_count": null,
   "metadata": {},
   "outputs": [],
   "source": []
  },
  {
   "cell_type": "markdown",
   "metadata": {},
   "source": [
    "### lambda function and performance"
   ]
  },
  {
   "cell_type": "code",
   "execution_count": null,
   "metadata": {},
   "outputs": [],
   "source": [
    "# Code below to simulate different behaiviour"
   ]
  },
  {
   "cell_type": "code",
   "execution_count": 83,
   "metadata": {
    "ExecuteTime": {
     "end_time": "2021-01-27T08:02:19.118109Z",
     "start_time": "2021-01-27T08:02:19.114246Z"
    }
   },
   "outputs": [
    {
     "data": {
      "text/plain": [
       "[0, 1, 8, 27, 64, 125, 216, 343, 512, 729]"
      ]
     },
     "execution_count": 83,
     "metadata": {},
     "output_type": "execute_result"
    }
   ],
   "source": [
    "# Inside loop\n",
    "cubes = []\n",
    "\n",
    "for x in range(10):\n",
    "    cubes.append((lambda x: x ** 3)(x))\n",
    "    \n",
    "cubes"
   ]
  },
  {
   "cell_type": "code",
   "execution_count": null,
   "metadata": {},
   "outputs": [],
   "source": []
  },
  {
   "cell_type": "code",
   "execution_count": 84,
   "metadata": {
    "ExecuteTime": {
     "end_time": "2021-01-27T08:02:27.548139Z",
     "start_time": "2021-01-27T08:02:27.544969Z"
    }
   },
   "outputs": [
    {
     "data": {
      "text/plain": [
       "[0, 1, 8, 27, 64, 125, 216, 343, 512, 729]"
      ]
     },
     "execution_count": 84,
     "metadata": {},
     "output_type": "execute_result"
    }
   ],
   "source": [
    "# Outside loop\n",
    "\n",
    "cubes = []\n",
    "anonymous = lambda x: x ** 3\n",
    "\n",
    "for x in range(10):\n",
    "    cubes.append(anonymous(x))\n",
    "    \n",
    "cubes"
   ]
  },
  {
   "cell_type": "code",
   "execution_count": null,
   "metadata": {},
   "outputs": [],
   "source": []
  },
  {
   "cell_type": "code",
   "execution_count": 85,
   "metadata": {
    "ExecuteTime": {
     "end_time": "2021-01-27T08:02:35.212563Z",
     "start_time": "2021-01-27T08:02:35.210832Z"
    }
   },
   "outputs": [],
   "source": [
    "loop_iteration = 1000000"
   ]
  },
  {
   "cell_type": "code",
   "execution_count": 89,
   "metadata": {
    "ExecuteTime": {
     "end_time": "2021-01-27T08:05:56.875346Z",
     "start_time": "2021-01-27T08:05:34.951748Z"
    }
   },
   "outputs": [
    {
     "name": "stdout",
     "output_type": "stream",
     "text": [
      "312 ms ± 2.5 ms per loop (mean ± std. dev. of 7 runs, 10 loops each)\n"
     ]
    }
   ],
   "source": [
    "%%timeit -n 10\n",
    "# Inside loop\n",
    "cubes = []\n",
    "for x in range(loop_iteration):\n",
    "    cubes.append((lambda x: x ** 3)(x))\n",
    "    \n",
    "cubes"
   ]
  },
  {
   "cell_type": "code",
   "execution_count": 90,
   "metadata": {
    "ExecuteTime": {
     "end_time": "2021-01-27T08:06:16.758282Z",
     "start_time": "2021-01-27T08:05:56.876568Z"
    }
   },
   "outputs": [
    {
     "name": "stdout",
     "output_type": "stream",
     "text": [
      "283 ms ± 2.12 ms per loop (mean ± std. dev. of 7 runs, 10 loops each)\n"
     ]
    }
   ],
   "source": [
    "%%timeit -n 10\n",
    "# Outside loop\n",
    "\n",
    "cubes = []\n",
    "anonymous = lambda x: x ** 3\n",
    "\n",
    "for x in range(loop_iteration):\n",
    "    cubes.append(anonymous(x))\n",
    "    \n",
    "cubes"
   ]
  },
  {
   "cell_type": "code",
   "execution_count": 91,
   "metadata": {
    "ExecuteTime": {
     "end_time": "2021-01-27T08:06:36.570501Z",
     "start_time": "2021-01-27T08:06:16.759659Z"
    }
   },
   "outputs": [
    {
     "name": "stdout",
     "output_type": "stream",
     "text": [
      "282 ms ± 1.71 ms per loop (mean ± std. dev. of 7 runs, 10 loops each)\n"
     ]
    }
   ],
   "source": [
    "%%timeit -n 10\n",
    "# Outside loop\n",
    "def to_cube(x):\n",
    "    return x ** 3\n",
    "\n",
    "cubes = []\n",
    "for x in range(loop_iteration):\n",
    "    cubes.append(to_cube(x))\n",
    "    \n",
    "cubes"
   ]
  },
  {
   "cell_type": "code",
   "execution_count": null,
   "metadata": {},
   "outputs": [],
   "source": []
  },
  {
   "cell_type": "code",
   "execution_count": 94,
   "metadata": {
    "ExecuteTime": {
     "end_time": "2021-01-27T08:09:38.782069Z",
     "start_time": "2021-01-27T08:09:38.778453Z"
    }
   },
   "outputs": [
    {
     "data": {
      "text/plain": [
       "1"
      ]
     },
     "execution_count": 94,
     "metadata": {},
     "output_type": "execute_result"
    }
   ],
   "source": [
    "(lambda a: a)(1)"
   ]
  },
  {
   "cell_type": "code",
   "execution_count": null,
   "metadata": {},
   "outputs": [],
   "source": []
  },
  {
   "cell_type": "markdown",
   "metadata": {
    "ExecuteTime": {
     "end_time": "2021-01-26T14:42:47.013818Z",
     "start_time": "2021-01-26T14:42:47.011897Z"
    }
   },
   "source": [
    "## `map(func, *iterables) --> map object`"
   ]
  },
  {
   "cell_type": "code",
   "execution_count": 95,
   "metadata": {
    "ExecuteTime": {
     "end_time": "2021-01-27T08:10:38.169826Z",
     "start_time": "2021-01-27T08:10:38.167814Z"
    }
   },
   "outputs": [],
   "source": [
    "string_int = [\"1\", \" -1 \", \"42\", \"         90\"]"
   ]
  },
  {
   "cell_type": "code",
   "execution_count": 96,
   "metadata": {
    "ExecuteTime": {
     "end_time": "2021-01-27T08:11:23.738891Z",
     "start_time": "2021-01-27T08:11:23.735890Z"
    }
   },
   "outputs": [
    {
     "data": {
      "text/plain": [
       "[('1',), (' -1 ',), ('42',), ('         90',)]"
      ]
     },
     "execution_count": 96,
     "metadata": {},
     "output_type": "execute_result"
    }
   ],
   "source": [
    "list(zip(string_int))"
   ]
  },
  {
   "cell_type": "code",
   "execution_count": 97,
   "metadata": {
    "ExecuteTime": {
     "end_time": "2021-01-27T08:12:00.267383Z",
     "start_time": "2021-01-27T08:12:00.264133Z"
    }
   },
   "outputs": [
    {
     "name": "stdout",
     "output_type": "stream",
     "text": [
      "Init values: function = <class 'int'>, iterables = <zip object at 0x7f1a4cb5a500>\n",
      "Result: <generator object <genexpr> at 0x7f1a4c8e7900>\n"
     ]
    }
   ],
   "source": [
    "# Code to show how actually work map\n",
    "\n",
    "function = int\n",
    "iterables = zip(string_int)\n",
    "\n",
    "print(f\"Init values: {function = }, {iterables = }\")\n",
    "\n",
    "map_result = (function(*x) for x in iterables)\n",
    "\n",
    "print(f\"Result: {map_result}\")"
   ]
  },
  {
   "cell_type": "code",
   "execution_count": 98,
   "metadata": {
    "ExecuteTime": {
     "end_time": "2021-01-27T08:12:04.571325Z",
     "start_time": "2021-01-27T08:12:04.568648Z"
    }
   },
   "outputs": [
    {
     "name": "stdout",
     "output_type": "stream",
     "text": [
      "1\n",
      "-1\n",
      "42\n",
      "90\n"
     ]
    }
   ],
   "source": [
    "for item in map_result:\n",
    "    print(item)"
   ]
  },
  {
   "cell_type": "code",
   "execution_count": null,
   "metadata": {},
   "outputs": [],
   "source": []
  },
  {
   "cell_type": "code",
   "execution_count": 99,
   "metadata": {
    "ExecuteTime": {
     "end_time": "2021-01-27T08:12:29.785450Z",
     "start_time": "2021-01-27T08:12:29.783512Z"
    }
   },
   "outputs": [],
   "source": [
    "# map\n",
    "integers_map = map(int, string_int)"
   ]
  },
  {
   "cell_type": "code",
   "execution_count": 100,
   "metadata": {
    "ExecuteTime": {
     "end_time": "2021-01-27T08:12:35.706195Z",
     "start_time": "2021-01-27T08:12:35.703837Z"
    },
    "scrolled": true
   },
   "outputs": [
    {
     "name": "stdout",
     "output_type": "stream",
     "text": [
      "['__class__', '__delattr__', '__dir__', '__doc__', '__eq__', '__format__', '__ge__', '__getattribute__', '__gt__', '__hash__', '__init__', '__init_subclass__', '__iter__', '__le__', '__lt__', '__ne__', '__new__', '__next__', '__reduce__', '__reduce_ex__', '__repr__', '__setattr__', '__sizeof__', '__str__', '__subclasshook__']\n"
     ]
    }
   ],
   "source": [
    "print(dir(integers_map))"
   ]
  },
  {
   "cell_type": "code",
   "execution_count": null,
   "metadata": {},
   "outputs": [],
   "source": []
  },
  {
   "cell_type": "code",
   "execution_count": 101,
   "metadata": {
    "ExecuteTime": {
     "end_time": "2021-01-27T08:12:50.173155Z",
     "start_time": "2021-01-27T08:12:50.167628Z"
    }
   },
   "outputs": [
    {
     "data": {
      "text/plain": [
       "True"
      ]
     },
     "execution_count": 101,
     "metadata": {},
     "output_type": "execute_result"
    }
   ],
   "source": [
    "\"__next__\" in dir(integers_map) and \"__iter__\" in dir(integers_map)"
   ]
  },
  {
   "cell_type": "code",
   "execution_count": null,
   "metadata": {},
   "outputs": [],
   "source": []
  },
  {
   "cell_type": "code",
   "execution_count": 102,
   "metadata": {
    "ExecuteTime": {
     "end_time": "2021-01-27T08:12:57.274158Z",
     "start_time": "2021-01-27T08:12:57.272082Z"
    }
   },
   "outputs": [],
   "source": [
    "integers_map = list(map(int, string_int))"
   ]
  },
  {
   "cell_type": "code",
   "execution_count": 103,
   "metadata": {
    "ExecuteTime": {
     "end_time": "2021-01-27T08:13:02.622749Z",
     "start_time": "2021-01-27T08:13:02.619187Z"
    }
   },
   "outputs": [
    {
     "data": {
      "text/plain": [
       "[1, -1, 42, 90]"
      ]
     },
     "execution_count": 103,
     "metadata": {},
     "output_type": "execute_result"
    }
   ],
   "source": [
    "integers_map"
   ]
  },
  {
   "cell_type": "code",
   "execution_count": null,
   "metadata": {},
   "outputs": [],
   "source": []
  },
  {
   "cell_type": "code",
   "execution_count": 104,
   "metadata": {
    "ExecuteTime": {
     "end_time": "2021-01-27T08:13:17.628736Z",
     "start_time": "2021-01-27T08:13:17.626138Z"
    }
   },
   "outputs": [
    {
     "name": "stdout",
     "output_type": "stream",
     "text": [
      "Help on built-in function add in module _operator:\n",
      "\n",
      "add(a, b, /)\n",
      "    Same as a + b.\n",
      "\n"
     ]
    }
   ],
   "source": [
    "from operator import add\n",
    "\n",
    "help(add)"
   ]
  },
  {
   "cell_type": "code",
   "execution_count": 105,
   "metadata": {
    "ExecuteTime": {
     "end_time": "2021-01-27T08:13:43.326331Z",
     "start_time": "2021-01-27T08:13:43.323400Z"
    }
   },
   "outputs": [
    {
     "data": {
      "text/plain": [
       "[0, 1, 2, 3, 4, 5, 6, 7, 8, 9]"
      ]
     },
     "execution_count": 105,
     "metadata": {},
     "output_type": "execute_result"
    }
   ],
   "source": [
    "ll = [x for x in range(10)]\n",
    "ll"
   ]
  },
  {
   "cell_type": "code",
   "execution_count": null,
   "metadata": {},
   "outputs": [],
   "source": []
  },
  {
   "cell_type": "code",
   "execution_count": 106,
   "metadata": {
    "ExecuteTime": {
     "end_time": "2021-01-27T08:13:56.397545Z",
     "start_time": "2021-01-27T08:13:56.394090Z"
    }
   },
   "outputs": [
    {
     "data": {
      "text/plain": [
       "[1, 2, 3, 4, 5, 6, 7, 8, 9, 10]"
      ]
     },
     "execution_count": 106,
     "metadata": {},
     "output_type": "execute_result"
    }
   ],
   "source": [
    "val = 1\n",
    "\n",
    "[x + val for x in ll]"
   ]
  },
  {
   "cell_type": "code",
   "execution_count": 107,
   "metadata": {
    "ExecuteTime": {
     "end_time": "2021-01-27T08:14:38.989828Z",
     "start_time": "2021-01-27T08:14:38.984037Z"
    }
   },
   "outputs": [
    {
     "ename": "TypeError",
     "evalue": "'int' object is not iterable",
     "output_type": "error",
     "traceback": [
      "\u001b[0;31m---------------------------------------------------------------------------\u001b[0m",
      "\u001b[0;31mTypeError\u001b[0m                                 Traceback (most recent call last)",
      "\u001b[0;32m<ipython-input-107-f82251181729>\u001b[0m in \u001b[0;36m<module>\u001b[0;34m\u001b[0m\n\u001b[1;32m      1\u001b[0m \u001b[0mval\u001b[0m \u001b[0;34m=\u001b[0m \u001b[0;36m1\u001b[0m\u001b[0;34m\u001b[0m\u001b[0;34m\u001b[0m\u001b[0m\n\u001b[1;32m      2\u001b[0m \u001b[0;34m\u001b[0m\u001b[0m\n\u001b[0;32m----> 3\u001b[0;31m \u001b[0mlist\u001b[0m\u001b[0;34m(\u001b[0m\u001b[0mmap\u001b[0m\u001b[0;34m(\u001b[0m\u001b[0madd\u001b[0m\u001b[0;34m,\u001b[0m \u001b[0miter\u001b[0m\u001b[0;34m(\u001b[0m\u001b[0mll\u001b[0m\u001b[0;34m)\u001b[0m\u001b[0;34m,\u001b[0m \u001b[0;36m1\u001b[0m\u001b[0;34m)\u001b[0m\u001b[0;34m)\u001b[0m\u001b[0;34m\u001b[0m\u001b[0;34m\u001b[0m\u001b[0m\n\u001b[0m",
      "\u001b[0;31mTypeError\u001b[0m: 'int' object is not iterable"
     ]
    }
   ],
   "source": [
    "val = 1\n",
    "\n",
    "list(map(add, iter(ll), 1))"
   ]
  },
  {
   "cell_type": "code",
   "execution_count": null,
   "metadata": {},
   "outputs": [],
   "source": []
  },
  {
   "cell_type": "code",
   "execution_count": null,
   "metadata": {},
   "outputs": [],
   "source": []
  },
  {
   "cell_type": "code",
   "execution_count": 108,
   "metadata": {
    "ExecuteTime": {
     "end_time": "2021-01-27T08:15:51.516418Z",
     "start_time": "2021-01-27T08:15:51.512290Z"
    }
   },
   "outputs": [
    {
     "data": {
      "text/plain": [
       "[1, 2, 3, 4, 5, 6, 7, 8, 9, 10]"
      ]
     },
     "execution_count": 108,
     "metadata": {},
     "output_type": "execute_result"
    }
   ],
   "source": [
    "import itertools\n",
    "\n",
    "val = 1\n",
    "\n",
    "list(map(add, ll, itertools.repeat(val)))"
   ]
  },
  {
   "cell_type": "code",
   "execution_count": null,
   "metadata": {},
   "outputs": [],
   "source": []
  },
  {
   "cell_type": "code",
   "execution_count": 109,
   "metadata": {
    "ExecuteTime": {
     "end_time": "2021-01-27T08:16:24.826584Z",
     "start_time": "2021-01-27T08:16:24.823564Z"
    }
   },
   "outputs": [
    {
     "data": {
      "text/plain": [
       "[1, 2, 3, 4, 5, 6, 7, 8, 9, 10]"
      ]
     },
     "execution_count": 109,
     "metadata": {},
     "output_type": "execute_result"
    }
   ],
   "source": [
    "val = 1\n",
    "\n",
    "list(map(lambda arg: arg + val, ll))"
   ]
  },
  {
   "cell_type": "code",
   "execution_count": null,
   "metadata": {},
   "outputs": [],
   "source": []
  },
  {
   "cell_type": "code",
   "execution_count": null,
   "metadata": {},
   "outputs": [],
   "source": []
  },
  {
   "cell_type": "code",
   "execution_count": 110,
   "metadata": {
    "ExecuteTime": {
     "end_time": "2021-01-27T08:16:39.946911Z",
     "start_time": "2021-01-27T08:16:39.943666Z"
    }
   },
   "outputs": [
    {
     "data": {
      "text/plain": [
       "[0, 1, 4, 9, 16, 25, 36, 49, 64, 81]"
      ]
     },
     "execution_count": 110,
     "metadata": {},
     "output_type": "execute_result"
    }
   ],
   "source": [
    "def pow_2(i):\n",
    "    return i ** 2\n",
    "\n",
    "\n",
    "list(map(pow_2, ll))"
   ]
  },
  {
   "cell_type": "code",
   "execution_count": null,
   "metadata": {},
   "outputs": [],
   "source": []
  },
  {
   "cell_type": "code",
   "execution_count": 111,
   "metadata": {
    "ExecuteTime": {
     "end_time": "2021-01-27T08:16:46.139605Z",
     "start_time": "2021-01-27T08:16:46.135796Z"
    }
   },
   "outputs": [
    {
     "data": {
      "text/plain": [
       "[0, 1, 4, 9, 16, 25, 36, 49, 64, 81]"
      ]
     },
     "execution_count": 111,
     "metadata": {},
     "output_type": "execute_result"
    }
   ],
   "source": [
    "list(map(lambda a: a ** 2, ll))"
   ]
  },
  {
   "cell_type": "code",
   "execution_count": null,
   "metadata": {},
   "outputs": [],
   "source": []
  },
  {
   "cell_type": "markdown",
   "metadata": {},
   "source": [
    "## `functools.reduce(function, iterable[, initializer])`\n",
    "\n",
    "In Python 3 _reduce()_ move to _functools.reduce()_"
   ]
  },
  {
   "cell_type": "code",
   "execution_count": 112,
   "metadata": {
    "ExecuteTime": {
     "end_time": "2021-01-27T08:18:43.322748Z",
     "start_time": "2021-01-27T08:18:43.319857Z"
    }
   },
   "outputs": [],
   "source": [
    "from functools import reduce"
   ]
  },
  {
   "cell_type": "code",
   "execution_count": null,
   "metadata": {},
   "outputs": [],
   "source": []
  },
  {
   "cell_type": "code",
   "execution_count": 113,
   "metadata": {
    "ExecuteTime": {
     "end_time": "2021-01-27T08:19:21.915760Z",
     "start_time": "2021-01-27T08:19:21.913565Z"
    }
   },
   "outputs": [],
   "source": [
    "def summarize(accumulator, value):\n",
    "    return accumulator + value"
   ]
  },
  {
   "cell_type": "code",
   "execution_count": null,
   "metadata": {},
   "outputs": [],
   "source": []
  },
  {
   "cell_type": "code",
   "execution_count": 117,
   "metadata": {
    "ExecuteTime": {
     "end_time": "2021-01-27T08:23:40.751046Z",
     "start_time": "2021-01-27T08:23:40.747417Z"
    }
   },
   "outputs": [
    {
     "name": "stdout",
     "output_type": "stream",
     "text": [
      "Init values: function = <function summarize at 0x7f1a4ccbfc10>, iterable = range(0, 10), initializer = None\n",
      "reduce_result = 0\n",
      "reduce_result = 1,  item = 1\n",
      "reduce_result = 3,  item = 2\n",
      "reduce_result = 6,  item = 3\n",
      "reduce_result = 10,  item = 4\n",
      "reduce_result = 15,  item = 5\n",
      "reduce_result = 21,  item = 6\n",
      "reduce_result = 28,  item = 7\n",
      "reduce_result = 36,  item = 8\n",
      "reduce_result = 45,  item = 9\n",
      "Result: 45\n"
     ]
    }
   ],
   "source": [
    "# Code to show how actually work functools.reduce\n",
    "\n",
    "function = summarize\n",
    "iterable = range(10)\n",
    "initializer = None\n",
    "\n",
    "print(f\"Init values: {function = }, {iterable = }, {initializer = }\")\n",
    "\n",
    "it = iter(iterable)\n",
    "if initializer is None:\n",
    "    reduce_result = next(it)\n",
    "else:\n",
    "    reduce_result = initializer\n",
    "\n",
    "print(f\"{reduce_result = }\")\n",
    "for item in it:\n",
    "    reduce_result = function(reduce_result, item)\n",
    "    print(f\"{reduce_result = }, { item = }\")\n",
    "    \n",
    "print(f\"Result: {reduce_result}\")"
   ]
  },
  {
   "cell_type": "code",
   "execution_count": 115,
   "metadata": {
    "ExecuteTime": {
     "end_time": "2021-01-27T08:22:20.907548Z",
     "start_time": "2021-01-27T08:22:20.904598Z"
    }
   },
   "outputs": [
    {
     "data": {
      "text/plain": [
       "45"
      ]
     },
     "execution_count": 115,
     "metadata": {},
     "output_type": "execute_result"
    }
   ],
   "source": [
    "sum(range(10))"
   ]
  },
  {
   "cell_type": "code",
   "execution_count": null,
   "metadata": {},
   "outputs": [],
   "source": []
  },
  {
   "cell_type": "code",
   "execution_count": 116,
   "metadata": {
    "ExecuteTime": {
     "end_time": "2021-01-27T08:23:30.810910Z",
     "start_time": "2021-01-27T08:23:30.808105Z"
    }
   },
   "outputs": [
    {
     "data": {
      "text/plain": [
       "45"
      ]
     },
     "execution_count": 116,
     "metadata": {},
     "output_type": "execute_result"
    }
   ],
   "source": [
    "reduce(summarize, range(10))"
   ]
  },
  {
   "cell_type": "code",
   "execution_count": 118,
   "metadata": {
    "ExecuteTime": {
     "end_time": "2021-01-27T08:23:53.164374Z",
     "start_time": "2021-01-27T08:23:53.159932Z"
    }
   },
   "outputs": [
    {
     "ename": "TypeError",
     "evalue": "reduce() of empty sequence with no initial value",
     "output_type": "error",
     "traceback": [
      "\u001b[0;31m---------------------------------------------------------------------------\u001b[0m",
      "\u001b[0;31mTypeError\u001b[0m                                 Traceback (most recent call last)",
      "\u001b[0;32m<ipython-input-118-05284c940730>\u001b[0m in \u001b[0;36m<module>\u001b[0;34m\u001b[0m\n\u001b[0;32m----> 1\u001b[0;31m \u001b[0mreduce\u001b[0m\u001b[0;34m(\u001b[0m\u001b[0msummarize\u001b[0m\u001b[0;34m,\u001b[0m \u001b[0mrange\u001b[0m\u001b[0;34m(\u001b[0m\u001b[0;36m0\u001b[0m\u001b[0;34m)\u001b[0m\u001b[0;34m)\u001b[0m  \u001b[0;31m## Raise Error\u001b[0m\u001b[0;34m\u001b[0m\u001b[0;34m\u001b[0m\u001b[0m\n\u001b[0m",
      "\u001b[0;31mTypeError\u001b[0m: reduce() of empty sequence with no initial value"
     ]
    }
   ],
   "source": [
    "reduce(summarize, range(0))  ## Raise Error"
   ]
  },
  {
   "cell_type": "code",
   "execution_count": null,
   "metadata": {},
   "outputs": [],
   "source": []
  },
  {
   "cell_type": "code",
   "execution_count": 119,
   "metadata": {
    "ExecuteTime": {
     "end_time": "2021-01-27T08:24:10.796055Z",
     "start_time": "2021-01-27T08:24:10.793143Z"
    }
   },
   "outputs": [
    {
     "data": {
      "text/plain": [
       "45"
      ]
     },
     "execution_count": 119,
     "metadata": {},
     "output_type": "execute_result"
    }
   ],
   "source": [
    "import operator\n",
    "\n",
    "reduce(operator.add, range(10))"
   ]
  },
  {
   "cell_type": "code",
   "execution_count": null,
   "metadata": {},
   "outputs": [],
   "source": []
  },
  {
   "cell_type": "code",
   "execution_count": 121,
   "metadata": {
    "ExecuteTime": {
     "end_time": "2021-01-27T08:24:51.482782Z",
     "start_time": "2021-01-27T08:24:51.480388Z"
    }
   },
   "outputs": [],
   "source": [
    "def custom_join(sep=\",\"):\n",
    "    def actial_function(a, x):\n",
    "        return f\"{a}{sep}{x}\"\n",
    "        \n",
    "    return actial_function\n"
   ]
  },
  {
   "cell_type": "code",
   "execution_count": 123,
   "metadata": {
    "ExecuteTime": {
     "end_time": "2021-01-27T08:25:02.347854Z",
     "start_time": "2021-01-27T08:25:02.344878Z"
    }
   },
   "outputs": [
    {
     "data": {
      "text/plain": [
       "<function __main__.custom_join.<locals>.actial_function(a, x)>"
      ]
     },
     "execution_count": 123,
     "metadata": {},
     "output_type": "execute_result"
    }
   ],
   "source": [
    "custom_join(\" <-> \")"
   ]
  },
  {
   "cell_type": "code",
   "execution_count": 124,
   "metadata": {
    "ExecuteTime": {
     "end_time": "2021-01-27T08:25:07.915513Z",
     "start_time": "2021-01-27T08:25:07.912709Z"
    }
   },
   "outputs": [
    {
     "data": {
      "text/plain": [
       "'Lorem,ipsum,dolor,sit,amet'"
      ]
     },
     "execution_count": 124,
     "metadata": {},
     "output_type": "execute_result"
    }
   ],
   "source": [
    "reduce(custom_join(), [\"Lorem\", \"ipsum\", \"dolor\", \"sit\", \"amet\"])"
   ]
  },
  {
   "cell_type": "code",
   "execution_count": 125,
   "metadata": {
    "ExecuteTime": {
     "end_time": "2021-01-27T08:25:18.573020Z",
     "start_time": "2021-01-27T08:25:18.570352Z"
    }
   },
   "outputs": [
    {
     "data": {
      "text/plain": [
       "'Lorem<->ipsum<->dolor<->sit<->amet'"
      ]
     },
     "execution_count": 125,
     "metadata": {},
     "output_type": "execute_result"
    }
   ],
   "source": [
    "reduce(custom_join(\"<->\"), [\"Lorem\", \"ipsum\", \"dolor\", \"sit\", \"amet\"])"
   ]
  },
  {
   "cell_type": "code",
   "execution_count": null,
   "metadata": {},
   "outputs": [],
   "source": []
  },
  {
   "cell_type": "markdown",
   "metadata": {},
   "source": [
    "## `filter(function, iterable)`"
   ]
  },
  {
   "cell_type": "code",
   "execution_count": 126,
   "metadata": {
    "ExecuteTime": {
     "end_time": "2021-01-27T08:26:45.578379Z",
     "start_time": "2021-01-27T08:26:45.576440Z"
    }
   },
   "outputs": [],
   "source": [
    "ll_sample = [\"Lorem\", None, \"ipsum\", \"dolor\", None, \"sit\", \"amet\"]"
   ]
  },
  {
   "cell_type": "code",
   "execution_count": null,
   "metadata": {},
   "outputs": [],
   "source": []
  },
  {
   "cell_type": "code",
   "execution_count": 127,
   "metadata": {
    "ExecuteTime": {
     "end_time": "2021-01-27T08:27:57.258582Z",
     "start_time": "2021-01-27T08:27:57.256487Z"
    }
   },
   "outputs": [],
   "source": [
    "def is_not_none(x) -> bool:\n",
    "    return x is not None"
   ]
  },
  {
   "cell_type": "code",
   "execution_count": 128,
   "metadata": {
    "ExecuteTime": {
     "end_time": "2021-01-27T08:29:50.635694Z",
     "start_time": "2021-01-27T08:29:50.631821Z"
    }
   },
   "outputs": [
    {
     "name": "stdout",
     "output_type": "stream",
     "text": [
      "Init values: function = <function is_not_none at 0x7f1a4ccbf700>, iterable = ['Lorem', None, 'ipsum', 'dolor', None, 'sit', 'amet']\n",
      "Result: <generator object <genexpr> at 0x7f1a4c8e7660>\n"
     ]
    }
   ],
   "source": [
    "# Code to show how actually work filter\n",
    "\n",
    "function = is_not_none\n",
    "iterable = ll_sample\n",
    "\n",
    "print(f\"Init values: {function = }, {iterable = }\")\n",
    "if function is not None:\n",
    "    filter_result = (item for item in iterable if function(item))\n",
    "else:\n",
    "    filter_result = (item for item in iterable if item)\n",
    "\n",
    "print(f\"Result: {filter_result}\")\n"
   ]
  },
  {
   "cell_type": "code",
   "execution_count": 129,
   "metadata": {
    "ExecuteTime": {
     "end_time": "2021-01-27T08:30:19.162423Z",
     "start_time": "2021-01-27T08:30:19.159436Z"
    }
   },
   "outputs": [
    {
     "name": "stdout",
     "output_type": "stream",
     "text": [
      "Lorem\n",
      "ipsum\n",
      "dolor\n",
      "sit\n",
      "amet\n"
     ]
    }
   ],
   "source": [
    "for x in filter_result:\n",
    "    print(x)"
   ]
  },
  {
   "cell_type": "code",
   "execution_count": null,
   "metadata": {},
   "outputs": [],
   "source": []
  },
  {
   "cell_type": "code",
   "execution_count": 130,
   "metadata": {
    "ExecuteTime": {
     "end_time": "2021-01-27T08:30:26.731226Z",
     "start_time": "2021-01-27T08:30:26.729250Z"
    }
   },
   "outputs": [],
   "source": [
    "ll_filter = filter(is_not_none, ll_sample)"
   ]
  },
  {
   "cell_type": "code",
   "execution_count": null,
   "metadata": {},
   "outputs": [],
   "source": []
  },
  {
   "cell_type": "code",
   "execution_count": 131,
   "metadata": {
    "ExecuteTime": {
     "end_time": "2021-01-27T08:30:29.656907Z",
     "start_time": "2021-01-27T08:30:29.654739Z"
    },
    "scrolled": true
   },
   "outputs": [
    {
     "name": "stdout",
     "output_type": "stream",
     "text": [
      "['__class__', '__delattr__', '__dir__', '__doc__', '__eq__', '__format__', '__ge__', '__getattribute__', '__gt__', '__hash__', '__init__', '__init_subclass__', '__iter__', '__le__', '__lt__', '__ne__', '__new__', '__next__', '__reduce__', '__reduce_ex__', '__repr__', '__setattr__', '__sizeof__', '__str__', '__subclasshook__']\n"
     ]
    }
   ],
   "source": [
    "print(dir(ll_filter))"
   ]
  },
  {
   "cell_type": "code",
   "execution_count": null,
   "metadata": {},
   "outputs": [],
   "source": []
  },
  {
   "cell_type": "code",
   "execution_count": 132,
   "metadata": {
    "ExecuteTime": {
     "end_time": "2021-01-27T08:30:32.729820Z",
     "start_time": "2021-01-27T08:30:32.726892Z"
    }
   },
   "outputs": [
    {
     "data": {
      "text/plain": [
       "True"
      ]
     },
     "execution_count": 132,
     "metadata": {},
     "output_type": "execute_result"
    }
   ],
   "source": [
    "\"__next__\" in dir(ll_filter) and \"__iter__\" in dir(ll_filter)"
   ]
  },
  {
   "cell_type": "code",
   "execution_count": null,
   "metadata": {},
   "outputs": [],
   "source": []
  },
  {
   "cell_type": "code",
   "execution_count": 133,
   "metadata": {
    "ExecuteTime": {
     "end_time": "2021-01-27T08:31:12.969299Z",
     "start_time": "2021-01-27T08:31:12.967127Z"
    }
   },
   "outputs": [],
   "source": [
    "ll_filter = filter(lambda x: x is not None, ll_sample)"
   ]
  },
  {
   "cell_type": "code",
   "execution_count": 134,
   "metadata": {
    "ExecuteTime": {
     "end_time": "2021-01-27T08:31:15.002440Z",
     "start_time": "2021-01-27T08:31:14.999709Z"
    }
   },
   "outputs": [
    {
     "name": "stdout",
     "output_type": "stream",
     "text": [
      "Lorem\n",
      "ipsum\n",
      "dolor\n",
      "sit\n",
      "amet\n"
     ]
    }
   ],
   "source": [
    "for x in ll_filter:\n",
    "    print(x)"
   ]
  },
  {
   "cell_type": "code",
   "execution_count": null,
   "metadata": {},
   "outputs": [],
   "source": []
  },
  {
   "cell_type": "code",
   "execution_count": 135,
   "metadata": {
    "ExecuteTime": {
     "end_time": "2021-01-27T08:32:04.539145Z",
     "start_time": "2021-01-27T08:32:04.536647Z"
    }
   },
   "outputs": [
    {
     "name": "stdout",
     "output_type": "stream",
     "text": [
      "Help on built-in function is_not in module _operator:\n",
      "\n",
      "is_not(a, b, /)\n",
      "    Same as a is not b.\n",
      "\n"
     ]
    }
   ],
   "source": [
    "import operator\n",
    "\n",
    "help(operator.is_not)"
   ]
  },
  {
   "cell_type": "code",
   "execution_count": 136,
   "metadata": {
    "ExecuteTime": {
     "end_time": "2021-01-27T08:32:42.856931Z",
     "start_time": "2021-01-27T08:32:42.854991Z"
    }
   },
   "outputs": [],
   "source": [
    "import operator\n",
    "from functools import partial\n",
    "\n",
    "filter_null = partial(filter, partial(operator.is_not, None))"
   ]
  },
  {
   "cell_type": "code",
   "execution_count": null,
   "metadata": {},
   "outputs": [],
   "source": []
  },
  {
   "cell_type": "code",
   "execution_count": 137,
   "metadata": {
    "ExecuteTime": {
     "end_time": "2021-01-27T08:32:46.699007Z",
     "start_time": "2021-01-27T08:32:46.696281Z"
    }
   },
   "outputs": [
    {
     "data": {
      "text/plain": [
       "['Lorem', 'ipsum', 'dolor', 'sit', 'amet']"
      ]
     },
     "execution_count": 137,
     "metadata": {},
     "output_type": "execute_result"
    }
   ],
   "source": [
    "list(filter_null(ll_sample))"
   ]
  },
  {
   "cell_type": "code",
   "execution_count": 138,
   "metadata": {
    "ExecuteTime": {
     "end_time": "2021-01-27T08:33:10.458833Z",
     "start_time": "2021-01-27T08:33:10.455646Z"
    }
   },
   "outputs": [
    {
     "data": {
      "text/plain": [
       "<filter at 0x7f1a4c841fd0>"
      ]
     },
     "execution_count": 138,
     "metadata": {},
     "output_type": "execute_result"
    }
   ],
   "source": [
    "filter_null(ll_sample)"
   ]
  },
  {
   "cell_type": "code",
   "execution_count": null,
   "metadata": {},
   "outputs": [],
   "source": []
  },
  {
   "cell_type": "code",
   "execution_count": null,
   "metadata": {},
   "outputs": [],
   "source": []
  },
  {
   "cell_type": "markdown",
   "metadata": {},
   "source": [
    "### `itertools.filterfalse(function, iterable)`"
   ]
  },
  {
   "cell_type": "code",
   "execution_count": 145,
   "metadata": {
    "ExecuteTime": {
     "end_time": "2021-01-27T08:36:45.337764Z",
     "start_time": "2021-01-27T08:36:45.334905Z"
    }
   },
   "outputs": [],
   "source": [
    "from itertools import filterfalse"
   ]
  },
  {
   "cell_type": "code",
   "execution_count": 143,
   "metadata": {
    "ExecuteTime": {
     "end_time": "2021-01-27T08:36:31.836031Z",
     "start_time": "2021-01-27T08:36:31.833068Z"
    }
   },
   "outputs": [
    {
     "name": "stdout",
     "output_type": "stream",
     "text": [
      "Init values: function = <function is_not_none at 0x7f1a4ccbf700>, iterable = ['Lorem', None, 'ipsum', 'dolor', None, 'sit', 'amet']\n",
      "Result: <generator object <genexpr> at 0x7f1a4c884890>\n"
     ]
    }
   ],
   "source": [
    "# Code to show how actually work itertools.filterfalse\n",
    "\n",
    "function = is_not_none\n",
    "iterable = ll_sample\n",
    "\n",
    "print(f\"Init values: {function = }, {iterable = }\")\n",
    "if function is not None:\n",
    "    filterfalse_result = (item for item in iterable if not function(item))\n",
    "else:\n",
    "    filterfalse_result = (item for item in iterable if not item)\n",
    "\n",
    "print(f\"Result: {filterfalse_result}\")"
   ]
  },
  {
   "cell_type": "code",
   "execution_count": 148,
   "metadata": {
    "ExecuteTime": {
     "end_time": "2021-01-27T08:37:05.945428Z",
     "start_time": "2021-01-27T08:37:05.942885Z"
    }
   },
   "outputs": [
    {
     "name": "stdout",
     "output_type": "stream",
     "text": [
      "None\n",
      "None\n"
     ]
    }
   ],
   "source": [
    "for item in filterfalse_result:\n",
    "    print(item)"
   ]
  },
  {
   "cell_type": "code",
   "execution_count": null,
   "metadata": {},
   "outputs": [],
   "source": []
  },
  {
   "cell_type": "code",
   "execution_count": 146,
   "metadata": {
    "ExecuteTime": {
     "end_time": "2021-01-27T08:36:47.296058Z",
     "start_time": "2021-01-27T08:36:47.292673Z"
    }
   },
   "outputs": [
    {
     "data": {
      "text/plain": [
       "<itertools.filterfalse at 0x7f1a4c841d90>"
      ]
     },
     "execution_count": 146,
     "metadata": {},
     "output_type": "execute_result"
    }
   ],
   "source": [
    "filterfalse(is_not_none, ll_sample)"
   ]
  },
  {
   "cell_type": "code",
   "execution_count": 147,
   "metadata": {
    "ExecuteTime": {
     "end_time": "2021-01-27T08:36:49.289738Z",
     "start_time": "2021-01-27T08:36:49.286879Z"
    }
   },
   "outputs": [
    {
     "data": {
      "text/plain": [
       "[None, None]"
      ]
     },
     "execution_count": 147,
     "metadata": {},
     "output_type": "execute_result"
    }
   ],
   "source": [
    "list(filterfalse(is_not_none, ll_sample))"
   ]
  }
 ],
 "metadata": {
  "kernelspec": {
   "display_name": "Python 3",
   "language": "python",
   "name": "python3"
  },
  "language_info": {
   "codemirror_mode": {
    "name": "ipython",
    "version": 3
   },
   "file_extension": ".py",
   "mimetype": "text/x-python",
   "name": "python",
   "nbconvert_exporter": "python",
   "pygments_lexer": "ipython3",
   "version": "3.8.5"
  }
 },
 "nbformat": 4,
 "nbformat_minor": 4
}

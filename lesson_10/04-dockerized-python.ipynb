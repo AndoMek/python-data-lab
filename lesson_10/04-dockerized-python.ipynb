{
 "cells": [
  {
   "cell_type": "markdown",
   "metadata": {},
   "source": [
    "# Repositories\n",
    "\n",
    "* [Application (separate app, separate project package)](https://gitlab.godeltech.com/a.anshin/python-data-lab-project-sample/-/tree/project-app-docker)\n",
    "* [Application all in one](https://gitlab.godeltech.com/a.anshin/python-data-lab-project-sample/-/tree/project-app-docker-version2) - `Note: In Pycharm Mark Directory as Sources Root`"
   ]
  },
  {
   "cell_type": "markdown",
   "metadata": {
    "ExecuteTime": {
     "end_time": "2021-02-03T11:28:26.588508Z",
     "start_time": "2021-02-03T11:28:26.585318Z"
    }
   },
   "source": [
    "## Simple docker commands\n",
    "\n",
    "__Build docker image__ and add tags:\n",
    "\n",
    "```shell\n",
    "docker build . -t tag-name:tag-code -t another-tag-name:another-tag-code\n",
    "```\n",
    "        \n",
    "        \n",
    "__Run docker image__ by tag name and pass arguments:\n",
    "\n",
    "```shell\n",
    "docker run --rm tag-name:tag-code pos1 pos2 --kwarg1=value --kwarg2=value\n",
    "```"
   ]
  }
 ],
 "metadata": {
  "kernelspec": {
   "display_name": "Python 3",
   "language": "python",
   "name": "python3"
  },
  "language_info": {
   "codemirror_mode": {
    "name": "ipython",
    "version": 3
   },
   "file_extension": ".py",
   "mimetype": "text/x-python",
   "name": "python",
   "nbconvert_exporter": "python",
   "pygments_lexer": "ipython3",
   "version": "3.8.5"
  }
 },
 "nbformat": 4,
 "nbformat_minor": 4
}

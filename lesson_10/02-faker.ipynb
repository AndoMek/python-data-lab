{
 "cells": [
  {
   "cell_type": "markdown",
   "metadata": {},
   "source": [
    "# [Faker]()\n",
    "\n",
    "A Python package that generates fake data for you\n",
    "\n",
    "* [Documentation](https://faker.readthedocs.io/en/master/)\n",
    "* [GitHub](https://github.com/joke2k/faker)\n",
    "\n",
    "\n",
    "__Installation:__\n",
    "\n",
    "```py\n",
    "pip install Faker\n",
    "```"
   ]
  },
  {
   "cell_type": "code",
   "execution_count": null,
   "metadata": {},
   "outputs": [],
   "source": []
  },
  {
   "cell_type": "code",
   "execution_count": 1,
   "metadata": {
    "ExecuteTime": {
     "end_time": "2021-02-03T09:35:40.489453Z",
     "start_time": "2021-02-03T09:35:40.487137Z"
    }
   },
   "outputs": [],
   "source": [
    "import random"
   ]
  },
  {
   "cell_type": "code",
   "execution_count": 2,
   "metadata": {
    "ExecuteTime": {
     "end_time": "2021-02-03T09:35:42.110628Z",
     "start_time": "2021-02-03T09:35:42.102164Z"
    }
   },
   "outputs": [
    {
     "data": {
      "text/plain": [
       "False"
      ]
     },
     "execution_count": 2,
     "metadata": {},
     "output_type": "execute_result"
    }
   ],
   "source": [
    "random.randint(1, 4) == 1  # 25% chance"
   ]
  },
  {
   "cell_type": "code",
   "execution_count": 3,
   "metadata": {
    "ExecuteTime": {
     "end_time": "2021-02-03T09:35:43.592734Z",
     "start_time": "2021-02-03T09:35:43.589479Z"
    }
   },
   "outputs": [
    {
     "data": {
      "text/plain": [
       "'lIASGAy'"
      ]
     },
     "execution_count": 3,
     "metadata": {},
     "output_type": "execute_result"
    }
   ],
   "source": [
    "import string\n",
    "\n",
    "\"\".join(random.choice(string.ascii_letters) for _ in range(7))  # string 7 letters"
   ]
  },
  {
   "cell_type": "code",
   "execution_count": null,
   "metadata": {},
   "outputs": [],
   "source": []
  },
  {
   "cell_type": "code",
   "execution_count": 25,
   "metadata": {
    "ExecuteTime": {
     "end_time": "2021-02-03T09:41:30.152581Z",
     "start_time": "2021-02-03T09:41:30.150652Z"
    }
   },
   "outputs": [],
   "source": [
    "import uuid"
   ]
  },
  {
   "cell_type": "code",
   "execution_count": 26,
   "metadata": {
    "ExecuteTime": {
     "end_time": "2021-02-03T09:41:44.026402Z",
     "start_time": "2021-02-03T09:41:44.022803Z"
    }
   },
   "outputs": [
    {
     "data": {
      "text/plain": [
       "'2bb75ed0-45f2-44b7-a644-7016ca1af65e'"
      ]
     },
     "execution_count": 26,
     "metadata": {},
     "output_type": "execute_result"
    }
   ],
   "source": [
    "str(uuid.uuid4())"
   ]
  },
  {
   "cell_type": "code",
   "execution_count": null,
   "metadata": {},
   "outputs": [],
   "source": []
  },
  {
   "cell_type": "code",
   "execution_count": 4,
   "metadata": {
    "ExecuteTime": {
     "end_time": "2021-02-03T09:35:45.031130Z",
     "start_time": "2021-02-03T09:35:44.981749Z"
    },
    "scrolled": true
   },
   "outputs": [],
   "source": [
    "from faker import Faker\n",
    "fake = Faker()"
   ]
  },
  {
   "cell_type": "code",
   "execution_count": null,
   "metadata": {},
   "outputs": [],
   "source": []
  },
  {
   "cell_type": "code",
   "execution_count": 17,
   "metadata": {
    "ExecuteTime": {
     "end_time": "2021-02-03T09:35:53.976686Z",
     "start_time": "2021-02-03T09:35:53.973770Z"
    }
   },
   "outputs": [
    {
     "data": {
      "text/plain": [
       "'Burnsview'"
      ]
     },
     "execution_count": 17,
     "metadata": {},
     "output_type": "execute_result"
    }
   ],
   "source": [
    "fake.city()"
   ]
  },
  {
   "cell_type": "code",
   "execution_count": null,
   "metadata": {},
   "outputs": [],
   "source": []
  },
  {
   "cell_type": "code",
   "execution_count": null,
   "metadata": {},
   "outputs": [],
   "source": []
  },
  {
   "cell_type": "markdown",
   "metadata": {},
   "source": [
    "# [Faker Providers](https://faker.readthedocs.io/en/master/providers.html)"
   ]
  },
  {
   "cell_type": "code",
   "execution_count": 18,
   "metadata": {
    "ExecuteTime": {
     "end_time": "2021-02-03T09:36:57.976737Z",
     "start_time": "2021-02-03T09:36:57.973858Z"
    }
   },
   "outputs": [
    {
     "data": {
      "text/plain": [
       "<module 'faker.providers' from '/home/student/.local/lib/python3.8/site-packages/faker/providers/__init__.py'>"
      ]
     },
     "execution_count": 18,
     "metadata": {},
     "output_type": "execute_result"
    }
   ],
   "source": [
    "import faker\n",
    "\n",
    "faker.providers"
   ]
  },
  {
   "cell_type": "code",
   "execution_count": null,
   "metadata": {},
   "outputs": [],
   "source": []
  },
  {
   "cell_type": "code",
   "execution_count": 19,
   "metadata": {
    "ExecuteTime": {
     "end_time": "2021-02-03T09:37:02.298888Z",
     "start_time": "2021-02-03T09:37:02.294271Z"
    },
    "scrolled": true
   },
   "outputs": [
    {
     "name": "stdout",
     "output_type": "stream",
     "text": [
      "address\n",
      "automotive\n",
      "bank\n",
      "barcode\n",
      "choices_distribution\n",
      "choices_distribution_unique\n",
      "color\n",
      "company\n",
      "credit_card\n",
      "currency\n",
      "date_time\n",
      "file\n",
      "geo\n",
      "internet\n",
      "isbn\n",
      "job\n",
      "lorem\n",
      "misc\n",
      "person\n",
      "phone_number\n",
      "profile\n",
      "python\n",
      "re\n",
      "ssn\n",
      "string\n",
      "user_agent\n"
     ]
    }
   ],
   "source": [
    "for provider in dir(faker.providers):\n",
    "    if provider.startswith(\"_\"):\n",
    "        continue\n",
    "    if provider in (\"BaseProvider\", \"OrderedDict\"):\n",
    "        continue\n",
    "        \n",
    "    print(provider)"
   ]
  },
  {
   "cell_type": "code",
   "execution_count": null,
   "metadata": {},
   "outputs": [],
   "source": []
  },
  {
   "cell_type": "code",
   "execution_count": 20,
   "metadata": {
    "ExecuteTime": {
     "end_time": "2021-02-03T09:37:35.253787Z",
     "start_time": "2021-02-03T09:37:35.238463Z"
    }
   },
   "outputs": [],
   "source": [
    "fake = Faker(\"en_US\")"
   ]
  },
  {
   "cell_type": "code",
   "execution_count": 23,
   "metadata": {
    "ExecuteTime": {
     "end_time": "2021-02-03T09:38:38.401348Z",
     "start_time": "2021-02-03T09:38:38.310377Z"
    }
   },
   "outputs": [],
   "source": [
    "fake = Faker(\"en_GB\")"
   ]
  },
  {
   "cell_type": "code",
   "execution_count": 24,
   "metadata": {
    "ExecuteTime": {
     "end_time": "2021-02-03T09:38:48.360942Z",
     "start_time": "2021-02-03T09:38:48.348150Z"
    }
   },
   "outputs": [],
   "source": [
    "fake = Faker(\"ru_RU\")"
   ]
  },
  {
   "cell_type": "code",
   "execution_count": 22,
   "metadata": {
    "ExecuteTime": {
     "end_time": "2021-02-03T09:37:50.666879Z",
     "start_time": "2021-02-03T09:37:50.614550Z"
    },
    "scrolled": true
   },
   "outputs": [
    {
     "ename": "AttributeError",
     "evalue": "Invalid configuration for faker locale `by_BY`",
     "output_type": "error",
     "traceback": [
      "\u001b[0;31m---------------------------------------------------------------------------\u001b[0m",
      "\u001b[0;31mAttributeError\u001b[0m                            Traceback (most recent call last)",
      "\u001b[0;32m<ipython-input-22-642c5c5c7300>\u001b[0m in \u001b[0;36m<module>\u001b[0;34m\u001b[0m\n\u001b[0;32m----> 1\u001b[0;31m \u001b[0mfake\u001b[0m \u001b[0;34m=\u001b[0m \u001b[0mFaker\u001b[0m\u001b[0;34m(\u001b[0m\u001b[0;34m\"by_BY\"\u001b[0m\u001b[0;34m)\u001b[0m\u001b[0;34m\u001b[0m\u001b[0;34m\u001b[0m\u001b[0m\n\u001b[0m",
      "\u001b[0;32m~/.local/lib/python3.8/site-packages/faker/proxy.py\u001b[0m in \u001b[0;36m__init__\u001b[0;34m(self, locale, providers, generator, includes, use_weighting, **config)\u001b[0m\n\u001b[1;32m     58\u001b[0m \u001b[0;34m\u001b[0m\u001b[0m\n\u001b[1;32m     59\u001b[0m         \u001b[0;32mfor\u001b[0m \u001b[0mlocale\u001b[0m \u001b[0;32min\u001b[0m \u001b[0mlocales\u001b[0m\u001b[0;34m:\u001b[0m\u001b[0;34m\u001b[0m\u001b[0;34m\u001b[0m\u001b[0m\n\u001b[0;32m---> 60\u001b[0;31m             self._factory_map[locale] = Factory.create(locale, providers, generator, includes,\n\u001b[0m\u001b[1;32m     61\u001b[0m                                                        \u001b[0muse_weighting\u001b[0m\u001b[0;34m=\u001b[0m\u001b[0muse_weighting\u001b[0m\u001b[0;34m,\u001b[0m\u001b[0;34m\u001b[0m\u001b[0;34m\u001b[0m\u001b[0m\n\u001b[1;32m     62\u001b[0m                                                        **config)\n",
      "\u001b[0;32m~/.local/lib/python3.8/site-packages/faker/factory.py\u001b[0m in \u001b[0;36mcreate\u001b[0;34m(cls, locale, providers, generator, includes, use_weighting, **config)\u001b[0m\n\u001b[1;32m     40\u001b[0m         \u001b[0;32mif\u001b[0m \u001b[0mlocale\u001b[0m \u001b[0;32mnot\u001b[0m \u001b[0;32min\u001b[0m \u001b[0mAVAILABLE_LOCALES\u001b[0m\u001b[0;34m:\u001b[0m\u001b[0;34m\u001b[0m\u001b[0;34m\u001b[0m\u001b[0m\n\u001b[1;32m     41\u001b[0m             \u001b[0mmsg\u001b[0m \u001b[0;34m=\u001b[0m \u001b[0;34mf'Invalid configuration for faker locale `{locale}`'\u001b[0m\u001b[0;34m\u001b[0m\u001b[0;34m\u001b[0m\u001b[0m\n\u001b[0;32m---> 42\u001b[0;31m             \u001b[0;32mraise\u001b[0m \u001b[0mAttributeError\u001b[0m\u001b[0;34m(\u001b[0m\u001b[0mmsg\u001b[0m\u001b[0;34m)\u001b[0m\u001b[0;34m\u001b[0m\u001b[0;34m\u001b[0m\u001b[0m\n\u001b[0m\u001b[1;32m     43\u001b[0m \u001b[0;34m\u001b[0m\u001b[0m\n\u001b[1;32m     44\u001b[0m         \u001b[0mconfig\u001b[0m\u001b[0;34m[\u001b[0m\u001b[0;34m'locale'\u001b[0m\u001b[0;34m]\u001b[0m \u001b[0;34m=\u001b[0m \u001b[0mlocale\u001b[0m\u001b[0;34m\u001b[0m\u001b[0;34m\u001b[0m\u001b[0m\n",
      "\u001b[0;31mAttributeError\u001b[0m: Invalid configuration for faker locale `by_BY`"
     ]
    }
   ],
   "source": [
    "fake = Faker(\"by_BY\")"
   ]
  },
  {
   "cell_type": "code",
   "execution_count": 28,
   "metadata": {
    "ExecuteTime": {
     "end_time": "2021-02-03T09:42:11.050394Z",
     "start_time": "2021-02-03T09:42:11.046539Z"
    }
   },
   "outputs": [],
   "source": [
    "import random\n",
    "\n",
    "\n",
    "def fake_data_gen(length, locale=\"en_US\", seed=None):\n",
    "    fake = Faker(locale)\n",
    "    \n",
    "    if seed is not None:\n",
    "        Faker.seed(seed)\n",
    "    \n",
    "    for ix in range(1, length + 1):\n",
    "        gender = random.choice([\"Male\", \"Female\", \"Non-binary\"])\n",
    "        \n",
    "        if gender == \"Male\":\n",
    "            customer = {\n",
    "                \"first_name\": fake.first_name_male(),\n",
    "                \"last_name\": fake.last_name_male(),\n",
    "            }\n",
    "        elif gender == \"Female\":\n",
    "            customer = {\n",
    "                \"first_name\": fake.first_name_female(),\n",
    "                \"last_name\": fake.last_name_female(),\n",
    "            }\n",
    "        else:\n",
    "            customer = {\n",
    "                \"first_name\": fake.first_name_nonbinary(),\n",
    "                \"last_name\": fake.last_name_nonbinary(),\n",
    "            }\n",
    "        \n",
    "            \n",
    "        yield {\n",
    "            \"index\": ix,\n",
    "            **customer,\n",
    "            \"gender\": gender,\n",
    "            \"street\": fake.street_address(),\n",
    "            \"city\": fake.city(),\n",
    "            \"country\": fake.country(),\n",
    "            \"age\": random.randint(18, 99),\n",
    "            \"phone\": fake.phone_number()\n",
    "        }\n",
    "    "
   ]
  },
  {
   "cell_type": "code",
   "execution_count": 40,
   "metadata": {
    "ExecuteTime": {
     "end_time": "2021-02-03T09:42:29.868307Z",
     "start_time": "2021-02-03T09:42:29.847039Z"
    }
   },
   "outputs": [
    {
     "name": "stdout",
     "output_type": "stream",
     "text": [
      "{'index': 1, 'first_name': 'John', 'last_name': 'Sharp', 'gender': 'Non-binary', 'street': '193 Roberts Ports Apt. 824', 'city': 'Sharonside', 'country': 'Guatemala', 'age': 45, 'phone': '309-818-4264'}\n",
      "\n",
      "{'index': 2, 'first_name': 'Gregory', 'last_name': 'Martin', 'gender': 'Non-binary', 'street': '15441 Wolfe Fords', 'city': 'East Alicia', 'country': 'Pakistan', 'age': 32, 'phone': '+1-290-993-3961x86705'}\n",
      "\n",
      "{'index': 3, 'first_name': 'Kimberly', 'last_name': 'Carter', 'gender': 'Female', 'street': '80323 Hammond Keys', 'city': 'Garciachester', 'country': 'Guatemala', 'age': 52, 'phone': '+1-824-176-9957x19908'}\n",
      "\n",
      "{'index': 4, 'first_name': 'Kelli', 'last_name': 'Blair', 'gender': 'Non-binary', 'street': '05858 Evans Burgs', 'city': 'Garymouth', 'country': 'Aruba', 'age': 41, 'phone': '8967092138'}\n",
      "\n",
      "{'index': 5, 'first_name': 'James', 'last_name': 'Suarez', 'gender': 'Male', 'street': '647 Bauer Spurs', 'city': 'Lake Debra', 'country': 'Kazakhstan', 'age': 38, 'phone': '979-559-9372x6962'}\n",
      "\n",
      "{'index': 6, 'first_name': 'Andrew', 'last_name': 'Fox', 'gender': 'Male', 'street': '064 Sellers Mount Apt. 857', 'city': 'North Bruceville', 'country': 'Benin', 'age': 97, 'phone': '+1-807-970-5558x507'}\n",
      "\n",
      "{'index': 7, 'first_name': 'Mark', 'last_name': 'Lane', 'gender': 'Male', 'street': '52623 Ellis Passage', 'city': 'Mooreburgh', 'country': 'Hungary', 'age': 46, 'phone': '(761)364-2018x385'}\n",
      "\n",
      "{'index': 8, 'first_name': 'William', 'last_name': 'Lewis', 'gender': 'Non-binary', 'street': '592 Mark Isle Apt. 885', 'city': 'South Veronica', 'country': 'Chad', 'age': 68, 'phone': '828-986-0239'}\n",
      "\n",
      "{'index': 9, 'first_name': 'Cheryl', 'last_name': 'Hayden', 'gender': 'Female', 'street': '9649 Ian Parkway', 'city': 'South Jennifer', 'country': 'Honduras', 'age': 56, 'phone': '(983)555-6322'}\n",
      "\n",
      "{'index': 10, 'first_name': 'Martin', 'last_name': 'White', 'gender': 'Non-binary', 'street': '14282 Kent Isle Apt. 560', 'city': 'South Michaelfort', 'country': 'Croatia', 'age': 86, 'phone': '3187032555'}\n",
      "\n"
     ]
    }
   ],
   "source": [
    "for x in fake_data_gen(10):\n",
    "    print(x)\n",
    "    print()"
   ]
  },
  {
   "cell_type": "code",
   "execution_count": null,
   "metadata": {},
   "outputs": [],
   "source": []
  },
  {
   "cell_type": "code",
   "execution_count": null,
   "metadata": {},
   "outputs": [],
   "source": []
  },
  {
   "cell_type": "code",
   "execution_count": 46,
   "metadata": {
    "ExecuteTime": {
     "end_time": "2021-02-03T09:43:38.981300Z",
     "start_time": "2021-02-03T09:43:38.967249Z"
    }
   },
   "outputs": [
    {
     "name": "stdout",
     "output_type": "stream",
     "text": [
      "{'index': 1, 'first_name': 'Капитон', 'last_name': 'Щербаков', 'gender': 'Male', 'street': 'ул. Маркса, д. 489', 'city': 'ст. Баксан', 'country': 'Сальвадор', 'age': 67, 'phone': '8 (561) 963-3452'}\n",
      "\n",
      "{'index': 2, 'first_name': 'Фаина', 'last_name': 'Евсеева', 'gender': 'Female', 'street': 'ш. Свердлова, д. 1 к. 10', 'city': 'с. Анадырь', 'country': 'Сомали', 'age': 98, 'phone': '+7 430 381 3740'}\n",
      "\n",
      "{'index': 3, 'first_name': 'Федот', 'last_name': 'Шилов', 'gender': 'Male', 'street': 'ул. 30 лет Победы, д. 5/7 стр. 747', 'city': 'с. Чегем', 'country': 'Алжир', 'age': 54, 'phone': '8 288 594 14 58'}\n",
      "\n",
      "{'index': 4, 'first_name': 'Добромысл', 'last_name': 'Агафонов', 'gender': 'Male', 'street': 'бул. Ольховый, д. 6', 'city': 'ст. Саров (Морд.)', 'country': 'Камерун', 'age': 66, 'phone': '+7 (402) 334-10-86'}\n",
      "\n",
      "{'index': 5, 'first_name': 'Раиса', 'last_name': 'Морозова', 'gender': 'Non-binary', 'street': 'наб. Тукая, д. 269 стр. 39', 'city': 'д. Оренбург', 'country': 'Маршалловы Острова', 'age': 85, 'phone': '+7 (970) 056-2306'}\n",
      "\n",
      "{'index': 6, 'first_name': 'Павел', 'last_name': 'Воронцов', 'gender': 'Male', 'street': 'пр. 60 лет Октября, д. 441 к. 195', 'city': 'с. Сорочинск', 'country': 'Кипр', 'age': 59, 'phone': '+7 477 752 55 33'}\n",
      "\n",
      "{'index': 7, 'first_name': 'Лидия', 'last_name': 'Данилова', 'gender': 'Female', 'street': 'пер. Тепличный, д. 1 стр. 128', 'city': 'с. Курганинск', 'country': 'Никарагуа', 'age': 59, 'phone': '84385068753'}\n",
      "\n",
      "{'index': 8, 'first_name': 'Ульяна', 'last_name': 'Устинова', 'gender': 'Female', 'street': 'ул. Буденного, д. 276 к. 9', 'city': 'г. Кыштым', 'country': 'Катар', 'age': 42, 'phone': '8 (892) 351-3874'}\n",
      "\n",
      "{'index': 9, 'first_name': 'Октябрина', 'last_name': 'Никифорова', 'gender': 'Female', 'street': 'пр. Чехова, д. 70', 'city': 'к. Елец', 'country': 'Соломоновы Острова', 'age': 93, 'phone': '+7 (823) 464-8584'}\n",
      "\n",
      "{'index': 10, 'first_name': 'Пахом', 'last_name': 'Нестеров', 'gender': 'Non-binary', 'street': 'пер. Л.Толстого, д. 2 стр. 7/9', 'city': 'г. Северо-Курильск', 'country': 'Андорра', 'age': 79, 'phone': '8 085 309 15 77'}\n",
      "\n"
     ]
    }
   ],
   "source": [
    "for x in fake_data_gen(10, locale=\"ru_RU\"):\n",
    "    print(x)\n",
    "    print()"
   ]
  },
  {
   "cell_type": "code",
   "execution_count": null,
   "metadata": {
    "scrolled": true
   },
   "outputs": [],
   "source": []
  },
  {
   "cell_type": "code",
   "execution_count": null,
   "metadata": {},
   "outputs": [],
   "source": []
  },
  {
   "cell_type": "code",
   "execution_count": 47,
   "metadata": {
    "ExecuteTime": {
     "end_time": "2021-02-03T09:43:43.503313Z",
     "start_time": "2021-02-03T09:43:43.494799Z"
    },
    "scrolled": true
   },
   "outputs": [
    {
     "ename": "AttributeError",
     "evalue": "Invalid configuration for faker locale `by_BY`",
     "output_type": "error",
     "traceback": [
      "\u001b[0;31m---------------------------------------------------------------------------\u001b[0m",
      "\u001b[0;31mAttributeError\u001b[0m                            Traceback (most recent call last)",
      "\u001b[0;32m<ipython-input-47-6ecd2dd8ffcb>\u001b[0m in \u001b[0;36m<module>\u001b[0;34m\u001b[0m\n\u001b[0;32m----> 1\u001b[0;31m \u001b[0;32mfor\u001b[0m \u001b[0mx\u001b[0m \u001b[0;32min\u001b[0m \u001b[0mfake_data_gen\u001b[0m\u001b[0;34m(\u001b[0m\u001b[0;36m10\u001b[0m\u001b[0;34m,\u001b[0m \u001b[0mlocale\u001b[0m\u001b[0;34m=\u001b[0m\u001b[0;34m\"by_BY\"\u001b[0m\u001b[0;34m)\u001b[0m\u001b[0;34m:\u001b[0m\u001b[0;34m\u001b[0m\u001b[0;34m\u001b[0m\u001b[0m\n\u001b[0m\u001b[1;32m      2\u001b[0m     \u001b[0mprint\u001b[0m\u001b[0;34m(\u001b[0m\u001b[0mx\u001b[0m\u001b[0;34m)\u001b[0m\u001b[0;34m\u001b[0m\u001b[0;34m\u001b[0m\u001b[0m\n",
      "\u001b[0;32m<ipython-input-28-6de3d46c491e>\u001b[0m in \u001b[0;36mfake_data_gen\u001b[0;34m(length, locale, seed)\u001b[0m\n\u001b[1;32m      3\u001b[0m \u001b[0;34m\u001b[0m\u001b[0m\n\u001b[1;32m      4\u001b[0m \u001b[0;32mdef\u001b[0m \u001b[0mfake_data_gen\u001b[0m\u001b[0;34m(\u001b[0m\u001b[0mlength\u001b[0m\u001b[0;34m,\u001b[0m \u001b[0mlocale\u001b[0m\u001b[0;34m=\u001b[0m\u001b[0;34m\"en_US\"\u001b[0m\u001b[0;34m,\u001b[0m \u001b[0mseed\u001b[0m\u001b[0;34m=\u001b[0m\u001b[0;32mNone\u001b[0m\u001b[0;34m)\u001b[0m\u001b[0;34m:\u001b[0m\u001b[0;34m\u001b[0m\u001b[0;34m\u001b[0m\u001b[0m\n\u001b[0;32m----> 5\u001b[0;31m     \u001b[0mfake\u001b[0m \u001b[0;34m=\u001b[0m \u001b[0mFaker\u001b[0m\u001b[0;34m(\u001b[0m\u001b[0mlocale\u001b[0m\u001b[0;34m)\u001b[0m\u001b[0;34m\u001b[0m\u001b[0;34m\u001b[0m\u001b[0m\n\u001b[0m\u001b[1;32m      6\u001b[0m \u001b[0;34m\u001b[0m\u001b[0m\n\u001b[1;32m      7\u001b[0m     \u001b[0;32mif\u001b[0m \u001b[0mseed\u001b[0m \u001b[0;32mis\u001b[0m \u001b[0;32mnot\u001b[0m \u001b[0;32mNone\u001b[0m\u001b[0;34m:\u001b[0m\u001b[0;34m\u001b[0m\u001b[0;34m\u001b[0m\u001b[0m\n",
      "\u001b[0;32m~/.local/lib/python3.8/site-packages/faker/proxy.py\u001b[0m in \u001b[0;36m__init__\u001b[0;34m(self, locale, providers, generator, includes, use_weighting, **config)\u001b[0m\n\u001b[1;32m     58\u001b[0m \u001b[0;34m\u001b[0m\u001b[0m\n\u001b[1;32m     59\u001b[0m         \u001b[0;32mfor\u001b[0m \u001b[0mlocale\u001b[0m \u001b[0;32min\u001b[0m \u001b[0mlocales\u001b[0m\u001b[0;34m:\u001b[0m\u001b[0;34m\u001b[0m\u001b[0;34m\u001b[0m\u001b[0m\n\u001b[0;32m---> 60\u001b[0;31m             self._factory_map[locale] = Factory.create(locale, providers, generator, includes,\n\u001b[0m\u001b[1;32m     61\u001b[0m                                                        \u001b[0muse_weighting\u001b[0m\u001b[0;34m=\u001b[0m\u001b[0muse_weighting\u001b[0m\u001b[0;34m,\u001b[0m\u001b[0;34m\u001b[0m\u001b[0;34m\u001b[0m\u001b[0m\n\u001b[1;32m     62\u001b[0m                                                        **config)\n",
      "\u001b[0;32m~/.local/lib/python3.8/site-packages/faker/factory.py\u001b[0m in \u001b[0;36mcreate\u001b[0;34m(cls, locale, providers, generator, includes, use_weighting, **config)\u001b[0m\n\u001b[1;32m     40\u001b[0m         \u001b[0;32mif\u001b[0m \u001b[0mlocale\u001b[0m \u001b[0;32mnot\u001b[0m \u001b[0;32min\u001b[0m \u001b[0mAVAILABLE_LOCALES\u001b[0m\u001b[0;34m:\u001b[0m\u001b[0;34m\u001b[0m\u001b[0;34m\u001b[0m\u001b[0m\n\u001b[1;32m     41\u001b[0m             \u001b[0mmsg\u001b[0m \u001b[0;34m=\u001b[0m \u001b[0;34mf'Invalid configuration for faker locale `{locale}`'\u001b[0m\u001b[0;34m\u001b[0m\u001b[0;34m\u001b[0m\u001b[0m\n\u001b[0;32m---> 42\u001b[0;31m             \u001b[0;32mraise\u001b[0m \u001b[0mAttributeError\u001b[0m\u001b[0;34m(\u001b[0m\u001b[0mmsg\u001b[0m\u001b[0;34m)\u001b[0m\u001b[0;34m\u001b[0m\u001b[0;34m\u001b[0m\u001b[0m\n\u001b[0m\u001b[1;32m     43\u001b[0m \u001b[0;34m\u001b[0m\u001b[0m\n\u001b[1;32m     44\u001b[0m         \u001b[0mconfig\u001b[0m\u001b[0;34m[\u001b[0m\u001b[0;34m'locale'\u001b[0m\u001b[0;34m]\u001b[0m \u001b[0;34m=\u001b[0m \u001b[0mlocale\u001b[0m\u001b[0;34m\u001b[0m\u001b[0;34m\u001b[0m\u001b[0m\n",
      "\u001b[0;31mAttributeError\u001b[0m: Invalid configuration for faker locale `by_BY`"
     ]
    }
   ],
   "source": [
    "for x in fake_data_gen(10, locale=\"by_BY\"):\n",
    "    print(x)"
   ]
  },
  {
   "cell_type": "code",
   "execution_count": null,
   "metadata": {},
   "outputs": [],
   "source": []
  },
  {
   "cell_type": "code",
   "execution_count": null,
   "metadata": {},
   "outputs": [],
   "source": []
  },
  {
   "cell_type": "code",
   "execution_count": 92,
   "metadata": {
    "ExecuteTime": {
     "end_time": "2021-02-03T09:50:45.515376Z",
     "start_time": "2021-02-03T09:50:45.511599Z"
    }
   },
   "outputs": [],
   "source": [
    "import random\n",
    "\n",
    "\n",
    "def fake_data_indepontent_gen(length, locale=\"en_US\", seed=None):\n",
    "    fake = Faker(locale)\n",
    "    \n",
    "    if seed is not None:\n",
    "        Faker.seed(seed)\n",
    "        random.seed(a=seed, version=2)  # Also set seed for random\n",
    "    \n",
    "    for ix in range(1, length + 1):\n",
    "        gender = random.choice([\"Male\", \"Female\", \"Non-binary\"])\n",
    "        \n",
    "        if gender == \"Male\":\n",
    "            customer = {\n",
    "                \"first_name\": fake.first_name_male(),\n",
    "                \"last_name\": fake.last_name_male(),\n",
    "            }\n",
    "        elif gender == \"Female\":\n",
    "            customer = {\n",
    "                \"first_name\": fake.first_name_female(),\n",
    "                \"last_name\": fake.last_name_female(),\n",
    "            }\n",
    "        else:\n",
    "            customer = {\n",
    "                \"first_name\": fake.first_name_nonbinary(),\n",
    "                \"last_name\": fake.last_name_nonbinary(),\n",
    "            }\n",
    "        \n",
    "            \n",
    "        yield {\n",
    "            \"index\": ix,\n",
    "            **customer,\n",
    "            \"gender\": gender,\n",
    "            \"street\": fake.street_address(),\n",
    "            \"city\": fake.city(),\n",
    "            \"country\": fake.country(),\n",
    "            \"age\": random.randint(18, 99),\n",
    "            \"phone\": fake.phone_number()\n",
    "        }\n",
    "    "
   ]
  },
  {
   "cell_type": "code",
   "execution_count": 101,
   "metadata": {
    "ExecuteTime": {
     "end_time": "2021-02-03T09:51:09.710843Z",
     "start_time": "2021-02-03T09:51:09.689111Z"
    }
   },
   "outputs": [
    {
     "name": "stdout",
     "output_type": "stream",
     "text": [
      "{'index': 1, 'first_name': 'Danielle', 'last_name': 'Johnson', 'gender': 'Non-binary', 'street': '32181 Johnson Course Apt. 389', 'city': 'New Jamesside', 'country': 'Italy', 'age': 32, 'phone': '794.026.5423'}\n",
      "\n",
      "{'index': 2, 'first_name': 'Tyler', 'last_name': 'Rogers', 'gender': 'Male', 'street': '1559 Roman Stream', 'city': 'Herrerafurt', 'country': 'Belgium', 'age': 53, 'phone': '+1-495-931-0341'}\n",
      "\n",
      "{'index': 3, 'first_name': 'Scott', 'last_name': 'Delacruz', 'gender': 'Male', 'street': '7525 Clark Grove Apt. 928', 'city': 'East Steven', 'country': 'Faroe Islands', 'age': 46, 'phone': '+1-835-030-5641x3953'}\n",
      "\n",
      "{'index': 4, 'first_name': 'Matthew', 'last_name': 'Foster', 'gender': 'Male', 'street': '42388 Burgess Meadow Suite 532', 'city': 'Daviston', 'country': 'Tokelau', 'age': 31, 'phone': '226-916-6978'}\n",
      "\n",
      "{'index': 5, 'first_name': 'John', 'last_name': 'Tran', 'gender': 'Non-binary', 'street': '184 Rodriguez Mews', 'city': 'South Aaron', 'country': 'Saint Helena', 'age': 87, 'phone': '001-482-814-8932x5288'}\n",
      "\n",
      "{'index': 6, 'first_name': 'Thomas', 'last_name': 'George', 'gender': 'Male', 'street': '15430 Natalie Common Apt. 718', 'city': 'East Donna', 'country': 'Yemen', 'age': 93, 'phone': '+1-248-963-8346'}\n",
      "\n",
      "{'index': 7, 'first_name': 'Whitney', 'last_name': 'Santos', 'gender': 'Female', 'street': '713 Caleb Brooks Apt. 930', 'city': 'Lake Crystalbury', 'country': 'Bangladesh', 'age': 22, 'phone': '5183473829'}\n",
      "\n",
      "{'index': 8, 'first_name': 'Kenneth', 'last_name': 'Sanchez', 'gender': 'Male', 'street': '3116 Henderson Mountain Apt. 106', 'city': 'Laurenville', 'country': 'Egypt', 'age': 29, 'phone': '387.262.4731'}\n",
      "\n",
      "{'index': 9, 'first_name': 'Jeremy', 'last_name': 'Callahan', 'gender': 'Male', 'street': '80132 Tucker Forest', 'city': 'Barreraburgh', 'country': 'Hong Kong', 'age': 47, 'phone': '6474687234'}\n",
      "\n",
      "{'index': 10, 'first_name': 'Jeff', 'last_name': 'Brown', 'gender': 'Non-binary', 'street': '500 Shaw Walk', 'city': 'North Susan', 'country': 'Belgium', 'age': 95, 'phone': '(191)361-9399'}\n",
      "\n"
     ]
    }
   ],
   "source": [
    "for x in fake_data_indepontent_gen(10, seed=42):\n",
    "    print(x)\n",
    "    print()"
   ]
  },
  {
   "cell_type": "code",
   "execution_count": 102,
   "metadata": {
    "ExecuteTime": {
     "end_time": "2021-02-03T09:51:13.335131Z",
     "start_time": "2021-02-03T09:51:13.319704Z"
    }
   },
   "outputs": [
    {
     "name": "stdout",
     "output_type": "stream",
     "text": [
      "{'index': 1, 'first_name': 'Ashley', 'last_name': 'Chen', 'gender': 'Non-binary', 'street': '8829 Burch Pines Suite 741', 'city': 'Roberthaven', 'country': 'Luxembourg', 'age': 39, 'phone': '9645831054'}\n",
      "\n",
      "{'index': 2, 'first_name': 'Wanda', 'last_name': 'Mooney', 'gender': 'Non-binary', 'street': '515 William Island', 'city': 'West Aliciaport', 'country': 'Micronesia', 'age': 47, 'phone': '(621)058-1121x1500'}\n",
      "\n",
      "{'index': 3, 'first_name': 'Jennifer', 'last_name': 'Bailey', 'gender': 'Female', 'street': '679 Clarke Radial', 'city': 'Gloverport', 'country': 'Libyan Arab Jamahiriya', 'age': 79, 'phone': '076-651-3087'}\n",
      "\n",
      "{'index': 4, 'first_name': 'Jennifer', 'last_name': 'Salas', 'gender': 'Non-binary', 'street': '9701 Ford Manors', 'city': 'Greenfort', 'country': 'Iceland', 'age': 86, 'phone': '6552125949'}\n",
      "\n",
      "{'index': 5, 'first_name': 'Gerald', 'last_name': 'Ramsey', 'gender': 'Non-binary', 'street': '6559 Melissa Road Apt. 371', 'city': 'Melanieland', 'country': 'Montenegro', 'age': 41, 'phone': '333-911-0968'}\n",
      "\n",
      "{'index': 6, 'first_name': 'Erin', 'last_name': 'Smith', 'gender': 'Non-binary', 'street': '0127 Kimberly Radial', 'city': 'Port Angela', 'country': 'Philippines', 'age': 96, 'phone': '551-740-0074'}\n",
      "\n",
      "{'index': 7, 'first_name': 'Christine', 'last_name': 'Murphy', 'gender': 'Non-binary', 'street': '515 Simpson Mission', 'city': 'Jamesland', 'country': 'Malta', 'age': 59, 'phone': '241.268.2278'}\n",
      "\n",
      "{'index': 8, 'first_name': 'Steven', 'last_name': 'Nguyen', 'gender': 'Non-binary', 'street': '00125 Michael Glen', 'city': 'West Christina', 'country': 'Suriname', 'age': 85, 'phone': '7796944304'}\n",
      "\n",
      "{'index': 9, 'first_name': 'Caitlin', 'last_name': 'Good', 'gender': 'Female', 'street': '13653 Williams Freeway Apt. 826', 'city': 'Port Cindyborough', 'country': 'Slovakia (Slovak Republic)', 'age': 74, 'phone': '644.646.3967'}\n",
      "\n",
      "{'index': 10, 'first_name': 'Jill', 'last_name': 'Ross', 'gender': 'Female', 'street': '7243 Dale Ferry', 'city': 'Riveraburgh', 'country': 'Syrian Arab Republic', 'age': 99, 'phone': '(231)286-2981x61987'}\n",
      "\n"
     ]
    }
   ],
   "source": [
    "for x in fake_data_indepontent_gen(10, seed=33):\n",
    "    print(x)\n",
    "    print()"
   ]
  }
 ],
 "metadata": {
  "kernelspec": {
   "display_name": "Python 3",
   "language": "python",
   "name": "python3"
  },
  "language_info": {
   "codemirror_mode": {
    "name": "ipython",
    "version": 3
   },
   "file_extension": ".py",
   "mimetype": "text/x-python",
   "name": "python",
   "nbconvert_exporter": "python",
   "pygments_lexer": "ipython3",
   "version": "3.8.5"
  }
 },
 "nbformat": 4,
 "nbformat_minor": 4
}

{
 "cells": [
  {
   "cell_type": "markdown",
   "metadata": {},
   "source": [
    "# [Faker]()\n",
    "\n",
    "A Python package that generates fake data for you\n",
    "\n",
    "* [Documentation](https://faker.readthedocs.io/en/master/)\n",
    "* [GitHub](https://github.com/joke2k/faker)\n",
    "\n",
    "\n",
    "__Installation:__\n",
    "\n",
    "```py\n",
    "pip install Faker\n",
    "```"
   ]
  },
  {
   "cell_type": "code",
   "execution_count": null,
   "metadata": {},
   "outputs": [],
   "source": []
  },
  {
   "cell_type": "code",
   "execution_count": 1,
   "metadata": {
    "ExecuteTime": {
     "end_time": "2021-02-03T09:35:40.489453Z",
     "start_time": "2021-02-03T09:35:40.487137Z"
    }
   },
   "outputs": [],
   "source": [
    "import random"
   ]
  },
  {
   "cell_type": "code",
   "execution_count": 2,
   "metadata": {
    "ExecuteTime": {
     "end_time": "2021-02-03T09:35:42.110628Z",
     "start_time": "2021-02-03T09:35:42.102164Z"
    }
   },
   "outputs": [
    {
     "data": {
      "text/plain": [
       "False"
      ]
     },
     "execution_count": 2,
     "metadata": {},
     "output_type": "execute_result"
    }
   ],
   "source": [
    "random.randint(1, 4) == 1  # 25% chance"
   ]
  },
  {
   "cell_type": "code",
   "execution_count": 3,
   "metadata": {
    "ExecuteTime": {
     "end_time": "2021-02-03T09:35:43.592734Z",
     "start_time": "2021-02-03T09:35:43.589479Z"
    }
   },
   "outputs": [
    {
     "data": {
      "text/plain": [
       "'lIASGAy'"
      ]
     },
     "execution_count": 3,
     "metadata": {},
     "output_type": "execute_result"
    }
   ],
   "source": [
    "import string\n",
    "\n",
    "\"\".join(random.choice(string.ascii_letters) for _ in range(7))  # string 7 letters"
   ]
  },
  {
   "cell_type": "code",
   "execution_count": null,
   "metadata": {},
   "outputs": [],
   "source": []
  },
  {
   "cell_type": "code",
   "execution_count": 25,
   "metadata": {
    "ExecuteTime": {
     "end_time": "2021-02-03T09:41:30.152581Z",
     "start_time": "2021-02-03T09:41:30.150652Z"
    }
   },
   "outputs": [],
   "source": [
    "import uuid"
   ]
  },
  {
   "cell_type": "code",
   "execution_count": 26,
   "metadata": {
    "ExecuteTime": {
     "end_time": "2021-02-03T09:41:44.026402Z",
     "start_time": "2021-02-03T09:41:44.022803Z"
    }
   },
   "outputs": [
    {
     "data": {
      "text/plain": [
       "'2bb75ed0-45f2-44b7-a644-7016ca1af65e'"
      ]
     },
     "execution_count": 26,
     "metadata": {},
     "output_type": "execute_result"
    }
   ],
   "source": [
    "str(uuid.uuid4())"
   ]
  },
  {
   "cell_type": "code",
   "execution_count": null,
   "metadata": {},
   "outputs": [],
   "source": []
  },
  {
   "cell_type": "code",
   "execution_count": 4,
   "metadata": {
    "ExecuteTime": {
     "end_time": "2021-02-03T09:35:45.031130Z",
     "start_time": "2021-02-03T09:35:44.981749Z"
    },
    "scrolled": true
   },
   "outputs": [],
   "source": [
    "from faker import Faker\n",
    "fake = Faker()"
   ]
  },
  {
   "cell_type": "code",
   "execution_count": null,
   "metadata": {},
   "outputs": [],
   "source": []
  },
  {
   "cell_type": "code",
   "execution_count": 17,
   "metadata": {
    "ExecuteTime": {
     "end_time": "2021-02-03T09:35:53.976686Z",
     "start_time": "2021-02-03T09:35:53.973770Z"
    }
   },
   "outputs": [
    {
     "data": {
      "text/plain": [
       "'Burnsview'"
      ]
     },
     "execution_count": 17,
     "metadata": {},
     "output_type": "execute_result"
    }
   ],
   "source": [
    "fake.city()"
   ]
  },
  {
   "cell_type": "code",
   "execution_count": null,
   "metadata": {},
   "outputs": [],
   "source": []
  },
  {
   "cell_type": "code",
   "execution_count": null,
   "metadata": {},
   "outputs": [],
   "source": []
  },
  {
   "cell_type": "markdown",
   "metadata": {},
   "source": [
    "# [Faker Providers](https://faker.readthedocs.io/en/master/providers.html)"
   ]
  },
  {
   "cell_type": "code",
   "execution_count": 18,
   "metadata": {
    "ExecuteTime": {
     "end_time": "2021-02-03T09:36:57.976737Z",
     "start_time": "2021-02-03T09:36:57.973858Z"
    }
   },
   "outputs": [
    {
     "data": {
      "text/plain": [
       "<module 'faker.providers' from '/home/student/.local/lib/python3.8/site-packages/faker/providers/__init__.py'>"
      ]
     },
     "execution_count": 18,
     "metadata": {},
     "output_type": "execute_result"
    }
   ],
   "source": [
    "import faker\n",
    "\n",
    "faker.providers"
   ]
  },
  {
   "cell_type": "code",
   "execution_count": null,
   "metadata": {},
   "outputs": [],
   "source": []
  },
  {
   "cell_type": "code",
   "execution_count": 19,
   "metadata": {
    "ExecuteTime": {
     "end_time": "2021-02-03T09:37:02.298888Z",
     "start_time": "2021-02-03T09:37:02.294271Z"
    },
    "scrolled": true
   },
   "outputs": [
    {
     "name": "stdout",
     "output_type": "stream",
     "text": [
      "address\n",
      "automotive\n",
      "bank\n",
      "barcode\n",
      "choices_distribution\n",
      "choices_distribution_unique\n",
      "color\n",
      "company\n",
      "credit_card\n",
      "currency\n",
      "date_time\n",
      "file\n",
      "geo\n",
      "internet\n",
      "isbn\n",
      "job\n",
      "lorem\n",
      "misc\n",
      "person\n",
      "phone_number\n",
      "profile\n",
      "python\n",
      "re\n",
      "ssn\n",
      "string\n",
      "user_agent\n"
     ]
    }
   ],
   "source": [
    "for provider in dir(faker.providers):\n",
    "    if provider.startswith(\"_\"):\n",
    "        continue\n",
    "    if provider in (\"BaseProvider\", \"OrderedDict\"):\n",
    "        continue\n",
    "        \n",
    "    print(provider)"
   ]
  },
  {
   "cell_type": "code",
   "execution_count": null,
   "metadata": {},
   "outputs": [],
   "source": []
  },
  {
   "cell_type": "code",
   "execution_count": 20,
   "metadata": {
    "ExecuteTime": {
     "end_time": "2021-02-03T09:37:35.253787Z",
     "start_time": "2021-02-03T09:37:35.238463Z"
    }
   },
   "outputs": [],
   "source": [
    "fake = Faker(\"en_US\")"
   ]
  },
  {
   "cell_type": "code",
   "execution_count": 23,
   "metadata": {
    "ExecuteTime": {
     "end_time": "2021-02-03T09:38:38.401348Z",
     "start_time": "2021-02-03T09:38:38.310377Z"
    }
   },
   "outputs": [],
   "source": [
    "fake = Faker(\"en_GB\")"
   ]
  },
  {
   "cell_type": "code",
   "execution_count": 24,
   "metadata": {
    "ExecuteTime": {
     "end_time": "2021-02-03T09:38:48.360942Z",
     "start_time": "2021-02-03T09:38:48.348150Z"
    }
   },
   "outputs": [],
   "source": [
    "fake = Faker(\"ru_RU\")"
   ]
  },
  {
   "cell_type": "code",
   "execution_count": 22,
   "metadata": {
    "ExecuteTime": {
     "end_time": "2021-02-03T09:37:50.666879Z",
     "start_time": "2021-02-03T09:37:50.614550Z"
    },
    "scrolled": true
   },
   "outputs": [
    {
     "ename": "AttributeError",
     "evalue": "Invalid configuration for faker locale `by_BY`",
     "output_type": "error",
     "traceback": [
      "\u001b[0;31m---------------------------------------------------------------------------\u001b[0m",
      "\u001b[0;31mAttributeError\u001b[0m                            Traceback (most recent call last)",
      "\u001b[0;32m<ipython-input-22-642c5c5c7300>\u001b[0m in \u001b[0;36m<module>\u001b[0;34m\u001b[0m\n\u001b[0;32m----> 1\u001b[0;31m \u001b[0mfake\u001b[0m \u001b[0;34m=\u001b[0m \u001b[0mFaker\u001b[0m\u001b[0;34m(\u001b[0m\u001b[0;34m\"by_BY\"\u001b[0m\u001b[0;34m)\u001b[0m\u001b[0;34m\u001b[0m\u001b[0;34m\u001b[0m\u001b[0m\n\u001b[0m",
      "\u001b[0;32m~/.local/lib/python3.8/site-packages/faker/proxy.py\u001b[0m in \u001b[0;36m__init__\u001b[0;34m(self, locale, providers, generator, includes, use_weighting, **config)\u001b[0m\n\u001b[1;32m     58\u001b[0m \u001b[0;34m\u001b[0m\u001b[0m\n\u001b[1;32m     59\u001b[0m         \u001b[0;32mfor\u001b[0m \u001b[0mlocale\u001b[0m \u001b[0;32min\u001b[0m \u001b[0mlocales\u001b[0m\u001b[0;34m:\u001b[0m\u001b[0;34m\u001b[0m\u001b[0;34m\u001b[0m\u001b[0m\n\u001b[0;32m---> 60\u001b[0;31m             self._factory_map[locale] = Factory.create(locale, providers, generator, includes,\n\u001b[0m\u001b[1;32m     61\u001b[0m                                                        \u001b[0muse_weighting\u001b[0m\u001b[0;34m=\u001b[0m\u001b[0muse_weighting\u001b[0m\u001b[0;34m,\u001b[0m\u001b[0;34m\u001b[0m\u001b[0;34m\u001b[0m\u001b[0m\n\u001b[1;32m     62\u001b[0m                                                        **config)\n",
      "\u001b[0;32m~/.local/lib/python3.8/site-packages/faker/factory.py\u001b[0m in \u001b[0;36mcreate\u001b[0;34m(cls, locale, providers, generator, includes, use_weighting, **config)\u001b[0m\n\u001b[1;32m     40\u001b[0m         \u001b[0;32mif\u001b[0m \u001b[0mlocale\u001b[0m \u001b[0;32mnot\u001b[0m \u001b[0;32min\u001b[0m \u001b[0mAVAILABLE_LOCALES\u001b[0m\u001b[0;34m:\u001b[0m\u001b[0;34m\u001b[0m\u001b[0;34m\u001b[0m\u001b[0m\n\u001b[1;32m     41\u001b[0m             \u001b[0mmsg\u001b[0m \u001b[0;34m=\u001b[0m \u001b[0;34mf'Invalid configuration for faker locale `{locale}`'\u001b[0m\u001b[0;34m\u001b[0m\u001b[0;34m\u001b[0m\u001b[0m\n\u001b[0;32m---> 42\u001b[0;31m             \u001b[0;32mraise\u001b[0m \u001b[0mAttributeError\u001b[0m\u001b[0;34m(\u001b[0m\u001b[0mmsg\u001b[0m\u001b[0;34m)\u001b[0m\u001b[0;34m\u001b[0m\u001b[0;34m\u001b[0m\u001b[0m\n\u001b[0m\u001b[1;32m     43\u001b[0m \u001b[0;34m\u001b[0m\u001b[0m\n\u001b[1;32m     44\u001b[0m         \u001b[0mconfig\u001b[0m\u001b[0;34m[\u001b[0m\u001b[0;34m'locale'\u001b[0m\u001b[0;34m]\u001b[0m \u001b[0;34m=\u001b[0m \u001b[0mlocale\u001b[0m\u001b[0;34m\u001b[0m\u001b[0;34m\u001b[0m\u001b[0m\n",
      "\u001b[0;31mAttributeError\u001b[0m: Invalid configuration for faker locale `by_BY`"
     ]
    }
   ],
   "source": [
    "fake = Faker(\"by_BY\")"
   ]
  },
  {
   "cell_type": "code",
   "execution_count": 15,
   "metadata": {
    "ExecuteTime": {
     "end_time": "2021-02-03T09:42:11.050394Z",
     "start_time": "2021-02-03T09:42:11.046539Z"
    }
   },
   "outputs": [],
   "source": [
    "import random\n",
    "\n",
    "\n",
    "def fake_data_gen(length, locale=\"en_US\", seed=None):\n",
    "    fake = Faker(locale)\n",
    "    \n",
    "    if seed is not None:\n",
    "        Faker.seed(seed)\n",
    "    \n",
    "    for ix in range(1, length + 1):\n",
    "        gender = random.choice([\"Male\", \"Female\", \"Non-binary\"])\n",
    "        \n",
    "        if gender == \"Male\":\n",
    "            customer = {\n",
    "                \"first_name\": fake.first_name_male(),\n",
    "                \"last_name\": fake.last_name_male(),\n",
    "            }\n",
    "        elif gender == \"Female\":\n",
    "            customer = {\n",
    "                \"first_name\": fake.first_name_female(),\n",
    "                \"last_name\": fake.last_name_female(),\n",
    "            }\n",
    "        else:\n",
    "            customer = {\n",
    "                \"first_name\": fake.first_name_nonbinary(),\n",
    "                \"last_name\": fake.last_name_nonbinary(),\n",
    "            }\n",
    "        \n",
    "            \n",
    "        yield {\n",
    "            \"index\": ix,\n",
    "            **customer,\n",
    "            \"gender\": gender,\n",
    "            \"street\": fake.street_address(),\n",
    "            \"city\": fake.city(),\n",
    "            \"country\": fake.country(),\n",
    "            \"age\": random.randint(18, 99),\n",
    "            \"phone\": fake.phone_number()\n",
    "        }\n",
    "    "
   ]
  },
  {
   "cell_type": "code",
   "execution_count": 16,
   "metadata": {
    "ExecuteTime": {
     "end_time": "2021-02-03T09:42:29.868307Z",
     "start_time": "2021-02-03T09:42:29.847039Z"
    }
   },
   "outputs": [
    {
     "name": "stdout",
     "output_type": "stream",
     "text": [
      "{'index': 1, 'first_name': 'Miguel', 'last_name': 'Wagner', 'gender': 'Male', 'street': '37788 Michael Haven', 'city': 'Ortizmouth', 'country': 'Philippines', 'age': 87, 'phone': '+1-051-518-6449x251'}\n",
      "\n",
      "{'index': 2, 'first_name': 'Brandi', 'last_name': 'Thomas', 'gender': 'Non-binary', 'street': '6291 Hansen Row Suite 281', 'city': 'Romerotown', 'country': 'Guyana', 'age': 43, 'phone': '235-733-2214x1888'}\n",
      "\n",
      "{'index': 3, 'first_name': 'Benjamin', 'last_name': 'Rogers', 'gender': 'Non-binary', 'street': '622 Marie Trail', 'city': 'Lake Samuel', 'country': 'Isle of Man', 'age': 57, 'phone': '(379)473-8347x359'}\n",
      "\n",
      "{'index': 4, 'first_name': 'Victoria', 'last_name': 'Murray', 'gender': 'Female', 'street': '8862 Laurie Dam Suite 075', 'city': 'Lake Meghanville', 'country': 'Finland', 'age': 65, 'phone': '247-826-1375'}\n",
      "\n",
      "{'index': 5, 'first_name': 'Tara', 'last_name': 'Perry', 'gender': 'Female', 'street': '536 Nicholas Burgs Suite 152', 'city': 'North Justin', 'country': 'Switzerland', 'age': 84, 'phone': '277.901.0432x8986'}\n",
      "\n",
      "{'index': 6, 'first_name': 'Ashley', 'last_name': 'Roberts', 'gender': 'Female', 'street': '03697 Daniel Parks Apt. 893', 'city': 'West Ruben', 'country': 'New Zealand', 'age': 33, 'phone': '(396)218-5188x888'}\n",
      "\n",
      "{'index': 7, 'first_name': 'Alejandro', 'last_name': 'Marks', 'gender': 'Male', 'street': '654 Michael Cliff', 'city': 'Johnville', 'country': 'Sierra Leone', 'age': 46, 'phone': '001-520-585-2772'}\n",
      "\n",
      "{'index': 8, 'first_name': 'Robert', 'last_name': 'Brown', 'gender': 'Male', 'street': '43030 Mahoney Passage Suite 874', 'city': 'Port Deborahport', 'country': 'Guinea-Bissau', 'age': 61, 'phone': '001-054-156-6765x27758'}\n",
      "\n",
      "{'index': 9, 'first_name': 'Derek', 'last_name': 'Miller', 'gender': 'Male', 'street': '69284 Garcia Islands Suite 479', 'city': 'Jacksonmouth', 'country': 'Guernsey', 'age': 93, 'phone': '059.640.1658x202'}\n",
      "\n",
      "{'index': 10, 'first_name': 'Melinda', 'last_name': 'Gregory', 'gender': 'Non-binary', 'street': '21355 Herring Bypass Apt. 755', 'city': 'Hinesshire', 'country': 'Burundi', 'age': 47, 'phone': '565.431.0278x68144'}\n",
      "\n"
     ]
    }
   ],
   "source": [
    "for x in fake_data_gen(10):\n",
    "    print(x)\n",
    "    print()"
   ]
  },
  {
   "cell_type": "code",
   "execution_count": null,
   "metadata": {},
   "outputs": [],
   "source": []
  },
  {
   "cell_type": "code",
   "execution_count": null,
   "metadata": {},
   "outputs": [],
   "source": []
  },
  {
   "cell_type": "code",
   "execution_count": 46,
   "metadata": {
    "ExecuteTime": {
     "end_time": "2021-02-03T09:43:38.981300Z",
     "start_time": "2021-02-03T09:43:38.967249Z"
    }
   },
   "outputs": [
    {
     "name": "stdout",
     "output_type": "stream",
     "text": [
      "{'index': 1, 'first_name': 'Капитон', 'last_name': 'Щербаков', 'gender': 'Male', 'street': 'ул. Маркса, д. 489', 'city': 'ст. Баксан', 'country': 'Сальвадор', 'age': 67, 'phone': '8 (561) 963-3452'}\n",
      "\n",
      "{'index': 2, 'first_name': 'Фаина', 'last_name': 'Евсеева', 'gender': 'Female', 'street': 'ш. Свердлова, д. 1 к. 10', 'city': 'с. Анадырь', 'country': 'Сомали', 'age': 98, 'phone': '+7 430 381 3740'}\n",
      "\n",
      "{'index': 3, 'first_name': 'Федот', 'last_name': 'Шилов', 'gender': 'Male', 'street': 'ул. 30 лет Победы, д. 5/7 стр. 747', 'city': 'с. Чегем', 'country': 'Алжир', 'age': 54, 'phone': '8 288 594 14 58'}\n",
      "\n",
      "{'index': 4, 'first_name': 'Добромысл', 'last_name': 'Агафонов', 'gender': 'Male', 'street': 'бул. Ольховый, д. 6', 'city': 'ст. Саров (Морд.)', 'country': 'Камерун', 'age': 66, 'phone': '+7 (402) 334-10-86'}\n",
      "\n",
      "{'index': 5, 'first_name': 'Раиса', 'last_name': 'Морозова', 'gender': 'Non-binary', 'street': 'наб. Тукая, д. 269 стр. 39', 'city': 'д. Оренбург', 'country': 'Маршалловы Острова', 'age': 85, 'phone': '+7 (970) 056-2306'}\n",
      "\n",
      "{'index': 6, 'first_name': 'Павел', 'last_name': 'Воронцов', 'gender': 'Male', 'street': 'пр. 60 лет Октября, д. 441 к. 195', 'city': 'с. Сорочинск', 'country': 'Кипр', 'age': 59, 'phone': '+7 477 752 55 33'}\n",
      "\n",
      "{'index': 7, 'first_name': 'Лидия', 'last_name': 'Данилова', 'gender': 'Female', 'street': 'пер. Тепличный, д. 1 стр. 128', 'city': 'с. Курганинск', 'country': 'Никарагуа', 'age': 59, 'phone': '84385068753'}\n",
      "\n",
      "{'index': 8, 'first_name': 'Ульяна', 'last_name': 'Устинова', 'gender': 'Female', 'street': 'ул. Буденного, д. 276 к. 9', 'city': 'г. Кыштым', 'country': 'Катар', 'age': 42, 'phone': '8 (892) 351-3874'}\n",
      "\n",
      "{'index': 9, 'first_name': 'Октябрина', 'last_name': 'Никифорова', 'gender': 'Female', 'street': 'пр. Чехова, д. 70', 'city': 'к. Елец', 'country': 'Соломоновы Острова', 'age': 93, 'phone': '+7 (823) 464-8584'}\n",
      "\n",
      "{'index': 10, 'first_name': 'Пахом', 'last_name': 'Нестеров', 'gender': 'Non-binary', 'street': 'пер. Л.Толстого, д. 2 стр. 7/9', 'city': 'г. Северо-Курильск', 'country': 'Андорра', 'age': 79, 'phone': '8 085 309 15 77'}\n",
      "\n"
     ]
    }
   ],
   "source": [
    "for x in fake_data_gen(10, locale=\"ru_RU\"):\n",
    "    print(x)\n",
    "    print()"
   ]
  },
  {
   "cell_type": "code",
   "execution_count": null,
   "metadata": {
    "scrolled": true
   },
   "outputs": [],
   "source": []
  },
  {
   "cell_type": "code",
   "execution_count": null,
   "metadata": {},
   "outputs": [],
   "source": []
  },
  {
   "cell_type": "code",
   "execution_count": 47,
   "metadata": {
    "ExecuteTime": {
     "end_time": "2021-02-03T09:43:43.503313Z",
     "start_time": "2021-02-03T09:43:43.494799Z"
    },
    "scrolled": true
   },
   "outputs": [
    {
     "ename": "AttributeError",
     "evalue": "Invalid configuration for faker locale `by_BY`",
     "output_type": "error",
     "traceback": [
      "\u001b[0;31m---------------------------------------------------------------------------\u001b[0m",
      "\u001b[0;31mAttributeError\u001b[0m                            Traceback (most recent call last)",
      "\u001b[0;32m<ipython-input-47-6ecd2dd8ffcb>\u001b[0m in \u001b[0;36m<module>\u001b[0;34m\u001b[0m\n\u001b[0;32m----> 1\u001b[0;31m \u001b[0;32mfor\u001b[0m \u001b[0mx\u001b[0m \u001b[0;32min\u001b[0m \u001b[0mfake_data_gen\u001b[0m\u001b[0;34m(\u001b[0m\u001b[0;36m10\u001b[0m\u001b[0;34m,\u001b[0m \u001b[0mlocale\u001b[0m\u001b[0;34m=\u001b[0m\u001b[0;34m\"by_BY\"\u001b[0m\u001b[0;34m)\u001b[0m\u001b[0;34m:\u001b[0m\u001b[0;34m\u001b[0m\u001b[0;34m\u001b[0m\u001b[0m\n\u001b[0m\u001b[1;32m      2\u001b[0m     \u001b[0mprint\u001b[0m\u001b[0;34m(\u001b[0m\u001b[0mx\u001b[0m\u001b[0;34m)\u001b[0m\u001b[0;34m\u001b[0m\u001b[0;34m\u001b[0m\u001b[0m\n",
      "\u001b[0;32m<ipython-input-28-6de3d46c491e>\u001b[0m in \u001b[0;36mfake_data_gen\u001b[0;34m(length, locale, seed)\u001b[0m\n\u001b[1;32m      3\u001b[0m \u001b[0;34m\u001b[0m\u001b[0m\n\u001b[1;32m      4\u001b[0m \u001b[0;32mdef\u001b[0m \u001b[0mfake_data_gen\u001b[0m\u001b[0;34m(\u001b[0m\u001b[0mlength\u001b[0m\u001b[0;34m,\u001b[0m \u001b[0mlocale\u001b[0m\u001b[0;34m=\u001b[0m\u001b[0;34m\"en_US\"\u001b[0m\u001b[0;34m,\u001b[0m \u001b[0mseed\u001b[0m\u001b[0;34m=\u001b[0m\u001b[0;32mNone\u001b[0m\u001b[0;34m)\u001b[0m\u001b[0;34m:\u001b[0m\u001b[0;34m\u001b[0m\u001b[0;34m\u001b[0m\u001b[0m\n\u001b[0;32m----> 5\u001b[0;31m     \u001b[0mfake\u001b[0m \u001b[0;34m=\u001b[0m \u001b[0mFaker\u001b[0m\u001b[0;34m(\u001b[0m\u001b[0mlocale\u001b[0m\u001b[0;34m)\u001b[0m\u001b[0;34m\u001b[0m\u001b[0;34m\u001b[0m\u001b[0m\n\u001b[0m\u001b[1;32m      6\u001b[0m \u001b[0;34m\u001b[0m\u001b[0m\n\u001b[1;32m      7\u001b[0m     \u001b[0;32mif\u001b[0m \u001b[0mseed\u001b[0m \u001b[0;32mis\u001b[0m \u001b[0;32mnot\u001b[0m \u001b[0;32mNone\u001b[0m\u001b[0;34m:\u001b[0m\u001b[0;34m\u001b[0m\u001b[0;34m\u001b[0m\u001b[0m\n",
      "\u001b[0;32m~/.local/lib/python3.8/site-packages/faker/proxy.py\u001b[0m in \u001b[0;36m__init__\u001b[0;34m(self, locale, providers, generator, includes, use_weighting, **config)\u001b[0m\n\u001b[1;32m     58\u001b[0m \u001b[0;34m\u001b[0m\u001b[0m\n\u001b[1;32m     59\u001b[0m         \u001b[0;32mfor\u001b[0m \u001b[0mlocale\u001b[0m \u001b[0;32min\u001b[0m \u001b[0mlocales\u001b[0m\u001b[0;34m:\u001b[0m\u001b[0;34m\u001b[0m\u001b[0;34m\u001b[0m\u001b[0m\n\u001b[0;32m---> 60\u001b[0;31m             self._factory_map[locale] = Factory.create(locale, providers, generator, includes,\n\u001b[0m\u001b[1;32m     61\u001b[0m                                                        \u001b[0muse_weighting\u001b[0m\u001b[0;34m=\u001b[0m\u001b[0muse_weighting\u001b[0m\u001b[0;34m,\u001b[0m\u001b[0;34m\u001b[0m\u001b[0;34m\u001b[0m\u001b[0m\n\u001b[1;32m     62\u001b[0m                                                        **config)\n",
      "\u001b[0;32m~/.local/lib/python3.8/site-packages/faker/factory.py\u001b[0m in \u001b[0;36mcreate\u001b[0;34m(cls, locale, providers, generator, includes, use_weighting, **config)\u001b[0m\n\u001b[1;32m     40\u001b[0m         \u001b[0;32mif\u001b[0m \u001b[0mlocale\u001b[0m \u001b[0;32mnot\u001b[0m \u001b[0;32min\u001b[0m \u001b[0mAVAILABLE_LOCALES\u001b[0m\u001b[0;34m:\u001b[0m\u001b[0;34m\u001b[0m\u001b[0;34m\u001b[0m\u001b[0m\n\u001b[1;32m     41\u001b[0m             \u001b[0mmsg\u001b[0m \u001b[0;34m=\u001b[0m \u001b[0;34mf'Invalid configuration for faker locale `{locale}`'\u001b[0m\u001b[0;34m\u001b[0m\u001b[0;34m\u001b[0m\u001b[0m\n\u001b[0;32m---> 42\u001b[0;31m             \u001b[0;32mraise\u001b[0m \u001b[0mAttributeError\u001b[0m\u001b[0;34m(\u001b[0m\u001b[0mmsg\u001b[0m\u001b[0;34m)\u001b[0m\u001b[0;34m\u001b[0m\u001b[0;34m\u001b[0m\u001b[0m\n\u001b[0m\u001b[1;32m     43\u001b[0m \u001b[0;34m\u001b[0m\u001b[0m\n\u001b[1;32m     44\u001b[0m         \u001b[0mconfig\u001b[0m\u001b[0;34m[\u001b[0m\u001b[0;34m'locale'\u001b[0m\u001b[0;34m]\u001b[0m \u001b[0;34m=\u001b[0m \u001b[0mlocale\u001b[0m\u001b[0;34m\u001b[0m\u001b[0;34m\u001b[0m\u001b[0m\n",
      "\u001b[0;31mAttributeError\u001b[0m: Invalid configuration for faker locale `by_BY`"
     ]
    }
   ],
   "source": [
    "for x in fake_data_gen(10, locale=\"by_BY\"):\n",
    "    print(x)"
   ]
  },
  {
   "cell_type": "code",
   "execution_count": 2,
   "metadata": {},
   "outputs": [
    {
     "data": {
      "text/plain": [
       "'36.110.251.173'"
      ]
     },
     "execution_count": 2,
     "metadata": {},
     "output_type": "execute_result"
    }
   ],
   "source": [
    "from faker import Faker\n",
    "Faker().ipv4()"
   ]
  },
  {
   "cell_type": "code",
   "execution_count": 6,
   "metadata": {},
   "outputs": [
    {
     "name": "stdout",
     "output_type": "stream",
     "text": [
      "Botswana\n",
      "Seychelles\n"
     ]
    }
   ],
   "source": [
    "fake = Faker(\"en_US\")\n",
    "def a():\n",
    "    print(fake.country())\n",
    "    print(fake.country())\n",
    "a()"
   ]
  },
  {
   "cell_type": "code",
   "execution_count": 17,
   "metadata": {
    "ExecuteTime": {
     "end_time": "2021-02-03T09:50:45.515376Z",
     "start_time": "2021-02-03T09:50:45.511599Z"
    }
   },
   "outputs": [],
   "source": [
    "import random\n",
    "\n",
    "\n",
    "def fake_data_indepontent_gen(length, locale=\"en_US\", seed=None):\n",
    "    fake = Faker(locale)\n",
    "    \n",
    "    if seed is not None:\n",
    "        Faker.seed(seed)\n",
    "        random.seed(a=seed, version=2)  # Also set seed for random\n",
    "    \n",
    "    for ix in range(1, length + 1):\n",
    "        gender = random.choice([\"Male\", \"Female\", \"Non-binary\"])\n",
    "        \n",
    "        if gender == \"Male\":\n",
    "            customer = {\n",
    "                \"first_name\": fake.first_name_male(),\n",
    "                \"last_name\": fake.last_name_male(),\n",
    "            }\n",
    "        elif gender == \"Female\":\n",
    "            customer = {\n",
    "                \"first_name\": fake.first_name_female(),\n",
    "                \"last_name\": fake.last_name_female(),\n",
    "            }\n",
    "        else:\n",
    "            customer = {\n",
    "                \"first_name\": fake.first_name_nonbinary(),\n",
    "                \"last_name\": fake.last_name_nonbinary(),\n",
    "            }\n",
    "        \n",
    "            \n",
    "        yield {\n",
    "            \"index\": ix,\n",
    "            **customer,\n",
    "            \"gender\": gender,\n",
    "            \"street\": fake.street_address(),\n",
    "            \"city\": fake.city(),\n",
    "            \"country\": fake.country(),\n",
    "            \"age\": random.randint(18, 99),\n",
    "            \"phone\": fake.phone_number()\n",
    "        }\n",
    "    "
   ]
  },
  {
   "cell_type": "code",
   "execution_count": 12,
   "metadata": {
    "ExecuteTime": {
     "end_time": "2021-02-03T09:51:09.710843Z",
     "start_time": "2021-02-03T09:51:09.689111Z"
    }
   },
   "outputs": [
    {
     "name": "stdout",
     "output_type": "stream",
     "text": [
      "{'index': 1, 'first_name': 'Paul', 'last_name': 'Thompson', 'date_of_birth': ('1968-12-28',), 'email': 'PThompson@somemail.edu', 'last_login_dt': '2020-09-02', 'last_login_ip': '87.150.232.79', 'country_origin': 'Mauritania', 'home_country': 'Mauritania', 'home_city': 'Brendastad', 'home_street': '842 Sloan Orchard Suite 517', 'home_building_number': '842', 'work_country': 'Mauritania', 'work_city': 'Lake Jesustown', 'work_street': '36851 Smith Plain', 'work_building_number': '36851', 'mobile_phone': '+1-859-317-4612x004', 'home_phone': None, 'work_phone': '113.826.7586x9261'}\n",
      "{'index': 2, 'first_name': 'Paul', 'last_name': 'Thompson', 'date_of_birth': ('1968-12-28',), 'email': 'PThompson@somemail.edu', 'last_login_dt': '2020-09-02', 'last_login_ip': '175.67.210.66', 'country_origin': 'Mauritania', 'home_country': 'Mauritania', 'home_city': 'Antoniostad', 'home_street': '842 Sloan Orchard Suite 517', 'home_building_number': '842', 'work_country': 'Mauritania', 'work_city': 'South Sean', 'work_street': '36851 Smith Plain', 'work_building_number': '36851', 'mobile_phone': '515.850.6431', 'home_phone': None, 'work_phone': '139.005.3293x183'}\n",
      "{'index': 3, 'first_name': 'Paul', 'last_name': 'Thompson', 'date_of_birth': ('1968-12-28',), 'email': 'PThompson@somemail.edu', 'last_login_dt': '2020-09-02', 'last_login_ip': '142.233.115.75', 'country_origin': 'Mauritania', 'home_country': 'Mauritania', 'home_city': 'Kimtown', 'home_street': '842 Sloan Orchard Suite 517', 'home_building_number': '842', 'work_country': 'Mauritania', 'work_city': 'Micheleberg', 'work_street': '36851 Smith Plain', 'work_building_number': '36851', 'mobile_phone': '(842)102-0539', 'home_phone': '024-026-8117x75891', 'work_phone': '839.084.7007x661'}\n",
      "{'index': 4, 'first_name': 'Paul', 'last_name': 'Thompson', 'date_of_birth': ('1968-12-28',), 'email': 'PThompson@somemail.edu', 'last_login_dt': '2020-09-02', 'last_login_ip': '30.49.169.160', 'country_origin': 'Mauritania', 'home_country': 'Mauritania', 'home_city': 'North Marcberg', 'home_street': '842 Sloan Orchard Suite 517', 'home_building_number': '842', 'work_country': 'Mauritania', 'work_city': 'East Joshuashire', 'work_street': '36851 Smith Plain', 'work_building_number': '36851', 'mobile_phone': None, 'home_phone': None, 'work_phone': None}\n",
      "{'index': 5, 'first_name': 'Paul', 'last_name': 'Thompson', 'date_of_birth': ('1968-12-28',), 'email': 'PThompson@somemail.edu', 'last_login_dt': '2020-09-02', 'last_login_ip': '6.153.250.211', 'country_origin': 'Mauritania', 'home_country': 'Mauritania', 'home_city': 'Vanghaven', 'home_street': '842 Sloan Orchard Suite 517', 'home_building_number': '842', 'work_country': 'Mauritania', 'work_city': 'Shawnchester', 'work_street': '36851 Smith Plain', 'work_building_number': '36851', 'mobile_phone': '183-673-6576', 'home_phone': '(156)545-2711x11615', 'work_phone': '(809)885-1656'}\n",
      "{'index': 6, 'first_name': 'Paul', 'last_name': 'Thompson', 'date_of_birth': ('1968-12-28',), 'email': 'PThompson@somemail.edu', 'last_login_dt': '2020-09-02', 'last_login_ip': '209.165.114.61', 'country_origin': 'Mauritania', 'home_country': 'Mauritania', 'home_city': 'Carolinestad', 'home_street': '842 Sloan Orchard Suite 517', 'home_building_number': '842', 'work_country': 'Mauritania', 'work_city': 'New Williamberg', 'work_street': '36851 Smith Plain', 'work_building_number': '36851', 'mobile_phone': '+1-731-585-1493x68998', 'home_phone': None, 'work_phone': '9402445502'}\n",
      "{'index': 7, 'first_name': 'Paul', 'last_name': 'Thompson', 'date_of_birth': ('1968-12-28',), 'email': 'PThompson@somemail.edu', 'last_login_dt': '2020-09-02', 'last_login_ip': '220.211.57.179', 'country_origin': 'Mauritania', 'home_country': 'Mauritania', 'home_city': 'East Joycetown', 'home_street': '842 Sloan Orchard Suite 517', 'home_building_number': '842', 'work_country': 'Mauritania', 'work_city': 'Lake Alyssafurt', 'work_street': '36851 Smith Plain', 'work_building_number': '36851', 'mobile_phone': '(752)545-9910x22901', 'home_phone': None, 'work_phone': '767-976-4381x561'}\n",
      "{'index': 8, 'first_name': 'Paul', 'last_name': 'Thompson', 'date_of_birth': ('1968-12-28',), 'email': 'PThompson@somemail.edu', 'last_login_dt': '2020-09-02', 'last_login_ip': '63.36.253.179', 'country_origin': 'Mauritania', 'home_country': 'Mauritania', 'home_city': 'Brandonfurt', 'home_street': '842 Sloan Orchard Suite 517', 'home_building_number': '842', 'work_country': 'Mauritania', 'work_city': 'North Jamesborough', 'work_street': '36851 Smith Plain', 'work_building_number': '36851', 'mobile_phone': None, 'home_phone': '001-244-510-7622x68388', 'work_phone': '+1-516-060-7159x69664'}\n",
      "{'index': 9, 'first_name': 'Paul', 'last_name': 'Thompson', 'date_of_birth': ('1968-12-28',), 'email': 'PThompson@somemail.edu', 'last_login_dt': '2020-09-02', 'last_login_ip': '65.85.182.186', 'country_origin': 'Mauritania', 'home_country': 'Mauritania', 'home_city': 'Georgemouth', 'home_street': '842 Sloan Orchard Suite 517', 'home_building_number': '842', 'work_country': 'Mauritania', 'work_city': 'Christopherville', 'work_street': '36851 Smith Plain', 'work_building_number': '36851', 'mobile_phone': '696.816.4535', 'home_phone': None, 'work_phone': '001-218-188-3552x31243'}\n",
      "{'index': 10, 'first_name': 'Paul', 'last_name': 'Thompson', 'date_of_birth': ('1968-12-28',), 'email': 'PThompson@somemail.edu', 'last_login_dt': '2020-09-02', 'last_login_ip': '106.114.39.150', 'country_origin': 'Mauritania', 'home_country': 'Mauritania', 'home_city': 'East Stephaniefort', 'home_street': '842 Sloan Orchard Suite 517', 'home_building_number': '842', 'work_country': 'Mauritania', 'work_city': 'Webstershire', 'work_street': '36851 Smith Plain', 'work_building_number': '36851', 'mobile_phone': '995.527.1774x490', 'home_phone': '(814)770-0541x199', 'work_phone': '679.807.9359x78207'}\n"
     ]
    }
   ],
   "source": [
    "from faker import Faker\n",
    "import random\n",
    "from datetime import datetime\n",
    "import re\n",
    "\n",
    "\n",
    "def prepared(fake):\n",
    "    gender = random.choice([\"Male\", \"Female\", \"Non-binary\"])\n",
    "    mail = random.choice([\"@mail.ru\", \"@yandex.ru\", \"@gmail.com\", \"@yandex.ru\", \"@protonmail.com\", \"@somemail.edu\"])\n",
    "    if gender == \"Male\":\n",
    "        customer = {\n",
    "            \"first_name\": fake.first_name_male(),\n",
    "            \"last_name\": fake.last_name_male(),\n",
    "        }\n",
    "    elif gender == \"Female\":\n",
    "        customer = {\n",
    "            \"first_name\": fake.first_name_female(),\n",
    "            \"last_name\": fake.last_name_female(),\n",
    "        }\n",
    "    else:\n",
    "        customer = {\n",
    "            \"first_name\": fake.first_name_nonbinary(),\n",
    "            \"last_name\": fake.last_name_nonbinary(),\n",
    "        }\n",
    "    birthday = fake.date_between_dates(date_start=datetime(1960, 1, 1),\n",
    "                                       date_end=datetime(2000, 1, 1)).strftime(\n",
    "        '%Y-%m-%d') if random.random() >= 0.16 else None,\n",
    "    last_d = fake.date_between_dates(date_start=datetime(2019, 1, 1, 0, 0, 0),\n",
    "                                     date_end=datetime(2021, 1, 1, 0, 0, 0)).strftime(\n",
    "        '%Y-%m-%d') if random.random() >= 0.16 else None\n",
    "    country_origin = fake.country() if random.random() >= 0.15 else None\n",
    "    home_country = country_origin if random.random() >= 0.15 else fake.country()\n",
    "    add = fake.street_address()\n",
    "    number_add = None if re.findall(\"\\d+\", add)[0] == '' else re.findall(\"\\d+\", add)[0]\n",
    "    work_country = home_country if random.random() >= 0.15 else fake.country()\n",
    "    work_street = fake.street_address()\n",
    "    work_building_number = None if re.findall(\"\\d+\", work_street)[0] == '' else re.findall(\"\\d+\", work_street)[0]\n",
    "    return customer, mail, birthday, last_d, country_origin, home_country, add, number_add, work_country, work_street, work_building_number\n",
    "\n",
    "\n",
    "def fake_data_gen(length, locale=\"en_US\", seed=None):\n",
    "    fake = Faker(locale)\n",
    "\n",
    "    if seed is not None:\n",
    "        Faker.seed(seed)\n",
    "    customer, mail, birthday, last_d, country_origin, home_country, address, add_n, work_country, work_street, work_building_number = prepared(\n",
    "        fake)\n",
    "    for ix in range(1, length + 1):\n",
    "        yield {\n",
    "            \"index\": ix,\n",
    "            **customer,\n",
    "            \"date_of_birth\": birthday,\n",
    "            \"email\": f\"{customer['first_name'][0]}{customer['last_name']}{mail}\",\n",
    "            \"last_login_dt\": last_d,\n",
    "            \"last_login_ip\": fake.ipv4() if last_d else None,\n",
    "            \"country_origin\": country_origin,\n",
    "            \"home_country\": home_country,\n",
    "            \"home_city\": fake.city(),\n",
    "            \"home_street\": address,\n",
    "            \"home_building_number\": add_n,\n",
    "            \"work_country\": work_country,\n",
    "            \"work_city\": fake.city(),\n",
    "            \"work_street\": work_street,\n",
    "            \"work_building_number\": work_building_number,\n",
    "            \"mobile_phone\": fake.phone_number() if random.random() >= 0.1 else None,\n",
    "            \"home_phone\": fake.phone_number() if random.random() >= 0.6 else None,\n",
    "            \"work_phone\": fake.phone_number() if random.random() >= 0.23 else None,\n",
    "        }\n",
    "\n",
    "\n",
    "if __name__ == \"__main__\":\n",
    "    for i in fake_data_gen(10):\n",
    "        print(i)\n"
   ]
  },
  {
   "cell_type": "code",
   "execution_count": 18,
   "metadata": {
    "ExecuteTime": {
     "end_time": "2021-02-03T09:51:13.335131Z",
     "start_time": "2021-02-03T09:51:13.319704Z"
    }
   },
   "outputs": [
    {
     "name": "stdout",
     "output_type": "stream",
     "text": [
      "{'index': 1, 'first_name': 'Ashley', 'last_name': 'Chen', 'gender': 'Non-binary', 'street': '8829 Burch Pines Suite 741', 'city': 'Roberthaven', 'country': 'Luxembourg', 'age': 39, 'phone': '9645831054'}\n",
      "\n",
      "{'index': 2, 'first_name': 'Wanda', 'last_name': 'Mooney', 'gender': 'Non-binary', 'street': '515 William Island', 'city': 'West Aliciaport', 'country': 'Micronesia', 'age': 47, 'phone': '(621)058-1121x1500'}\n",
      "\n",
      "{'index': 3, 'first_name': 'Jennifer', 'last_name': 'Bailey', 'gender': 'Female', 'street': '679 Clarke Radial', 'city': 'Gloverport', 'country': 'Libyan Arab Jamahiriya', 'age': 79, 'phone': '076-651-3087'}\n",
      "\n",
      "{'index': 4, 'first_name': 'Jennifer', 'last_name': 'Salas', 'gender': 'Non-binary', 'street': '9701 Ford Manors', 'city': 'Greenfort', 'country': 'Iceland', 'age': 86, 'phone': '6552125949'}\n",
      "\n",
      "{'index': 5, 'first_name': 'Gerald', 'last_name': 'Ramsey', 'gender': 'Non-binary', 'street': '6559 Melissa Road Apt. 371', 'city': 'Melanieland', 'country': 'Montenegro', 'age': 41, 'phone': '333-911-0968'}\n",
      "\n",
      "{'index': 6, 'first_name': 'Erin', 'last_name': 'Smith', 'gender': 'Non-binary', 'street': '0127 Kimberly Radial', 'city': 'Port Angela', 'country': 'Philippines', 'age': 96, 'phone': '551-740-0074'}\n",
      "\n",
      "{'index': 7, 'first_name': 'Christine', 'last_name': 'Murphy', 'gender': 'Non-binary', 'street': '515 Simpson Mission', 'city': 'Jamesland', 'country': 'Malta', 'age': 59, 'phone': '241.268.2278'}\n",
      "\n",
      "{'index': 8, 'first_name': 'Steven', 'last_name': 'Nguyen', 'gender': 'Non-binary', 'street': '00125 Michael Glen', 'city': 'West Christina', 'country': 'Suriname', 'age': 85, 'phone': '7796944304'}\n",
      "\n",
      "{'index': 9, 'first_name': 'Caitlin', 'last_name': 'Good', 'gender': 'Female', 'street': '13653 Williams Freeway Apt. 826', 'city': 'Port Cindyborough', 'country': 'Slovakia (Slovak Republic)', 'age': 74, 'phone': '644.646.3967'}\n",
      "\n",
      "{'index': 10, 'first_name': 'Jill', 'last_name': 'Ross', 'gender': 'Female', 'street': '7243 Dale Ferry', 'city': 'Riveraburgh', 'country': 'Syrian Arab Republic', 'age': 99, 'phone': '(231)286-2981x61987'}\n",
      "\n"
     ]
    }
   ],
   "source": [
    "for x in fake_data_indepontent_gen(10, seed=33):\n",
    "    print(x)\n",
    "    \n",
    "    print()"
   ]
  },
  {
   "cell_type": "code",
   "execution_count": 14,
   "metadata": {},
   "outputs": [
    {
     "data": {
      "text/plain": [
       "'Greg'"
      ]
     },
     "execution_count": 14,
     "metadata": {},
     "output_type": "execute_result"
    }
   ],
   "source": [
    "fake.first_name_male()\n",
    "fake.first_name_male()"
   ]
  },
  {
   "cell_type": "code",
   "execution_count": null,
   "metadata": {},
   "outputs": [],
   "source": []
  }
 ],
 "metadata": {
  "kernelspec": {
   "display_name": "Python 3",
   "language": "python",
   "name": "python3"
  },
  "language_info": {
   "codemirror_mode": {
    "name": "ipython",
    "version": 3
   },
   "file_extension": ".py",
   "mimetype": "text/x-python",
   "name": "python",
   "nbconvert_exporter": "python",
   "pygments_lexer": "ipython3",
   "version": "3.8.5"
  }
 },
 "nbformat": 4,
 "nbformat_minor": 4
}

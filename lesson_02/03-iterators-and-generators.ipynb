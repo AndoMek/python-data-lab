{
 "cells": [
  {
   "cell_type": "code",
   "execution_count": 1,
   "metadata": {},
   "outputs": [],
   "source": [
    "def print_var_info(o, name=None, no_print_value=False):\n",
    "    if no_print_value:\n",
    "        if name:\n",
    "            print(\"%s id(%s) - %r\" % (name, id(o), type(o), ))\n",
    "        else:\n",
    "            print(\"id(%s) - %r\" % (id(o), type(o), ))\n",
    "    else:\n",
    "        if name:\n",
    "            print(\"%s id(%s) = %r - %r\" % (name, id(o), o, type(o), ))\n",
    "        else:\n",
    "            print(\"id(%s) = %r - %r\" % (id(o), o, type(o), ))"
   ]
  },
  {
   "cell_type": "code",
   "execution_count": 2,
   "metadata": {},
   "outputs": [],
   "source": [
    "from typing import Iterator, Generator, Iterable\n",
    "\n",
    "\n",
    "def check_types(o, name=None):\n",
    "    name = name or \"object\"\n",
    "    for t in (Iterable, Iterator, Generator):\n",
    "        print(\"Is %r %s: %s\" % (name, str(t), isinstance(o, t)))\n",
    "    \n",
    "    for m in (\"__iter__\", \"__next__\"):\n",
    "        print(\"Is %r has attribute %s: %s\" % (name, str(m), hasattr(o, m)))\n"
   ]
  },
  {
   "cell_type": "markdown",
   "metadata": {},
   "source": [
    "## Iterable Objects"
   ]
  },
  {
   "cell_type": "code",
   "execution_count": 3,
   "metadata": {},
   "outputs": [],
   "source": [
    "ll = [1, 4, 9]"
   ]
  },
  {
   "cell_type": "code",
   "execution_count": 4,
   "metadata": {},
   "outputs": [
    {
     "name": "stdout",
     "output_type": "stream",
     "text": [
      "1\n",
      "4\n",
      "9\n"
     ]
    }
   ],
   "source": [
    "for item in ll:\n",
    "    print(item)"
   ]
  },
  {
   "cell_type": "code",
   "execution_count": null,
   "metadata": {},
   "outputs": [],
   "source": []
  },
  {
   "cell_type": "code",
   "execution_count": null,
   "metadata": {},
   "outputs": [],
   "source": []
  },
  {
   "cell_type": "code",
   "execution_count": 5,
   "metadata": {},
   "outputs": [],
   "source": [
    "tt = 1, 4, 9"
   ]
  },
  {
   "cell_type": "code",
   "execution_count": 6,
   "metadata": {},
   "outputs": [
    {
     "name": "stdout",
     "output_type": "stream",
     "text": [
      "1\n",
      "4\n",
      "9\n"
     ]
    }
   ],
   "source": [
    "for item in tt:\n",
    "    print(item)"
   ]
  },
  {
   "cell_type": "code",
   "execution_count": null,
   "metadata": {},
   "outputs": [],
   "source": []
  },
  {
   "cell_type": "code",
   "execution_count": 7,
   "metadata": {},
   "outputs": [],
   "source": [
    "dd = {\"a\": 1, \"b\": 4, \"c\": 9}"
   ]
  },
  {
   "cell_type": "code",
   "execution_count": 8,
   "metadata": {},
   "outputs": [
    {
     "name": "stdout",
     "output_type": "stream",
     "text": [
      "a\n",
      "b\n",
      "c\n"
     ]
    }
   ],
   "source": [
    "for item in dd:\n",
    "    print(item)"
   ]
  },
  {
   "cell_type": "code",
   "execution_count": null,
   "metadata": {},
   "outputs": [],
   "source": []
  },
  {
   "cell_type": "code",
   "execution_count": 9,
   "metadata": {},
   "outputs": [],
   "source": [
    "ss = \"149\""
   ]
  },
  {
   "cell_type": "code",
   "execution_count": 10,
   "metadata": {},
   "outputs": [
    {
     "name": "stdout",
     "output_type": "stream",
     "text": [
      "1\n",
      "4\n",
      "9\n"
     ]
    }
   ],
   "source": [
    "for item in ss:\n",
    "    print(item)"
   ]
  },
  {
   "cell_type": "code",
   "execution_count": null,
   "metadata": {},
   "outputs": [],
   "source": []
  },
  {
   "cell_type": "code",
   "execution_count": 11,
   "metadata": {},
   "outputs": [],
   "source": [
    "bb = b\"149\""
   ]
  },
  {
   "cell_type": "code",
   "execution_count": 12,
   "metadata": {
    "scrolled": true
   },
   "outputs": [
    {
     "name": "stdout",
     "output_type": "stream",
     "text": [
      "49\n",
      "52\n",
      "57\n"
     ]
    }
   ],
   "source": [
    "for item in bb:\n",
    "    print(item)"
   ]
  },
  {
   "cell_type": "code",
   "execution_count": null,
   "metadata": {},
   "outputs": [],
   "source": []
  },
  {
   "cell_type": "code",
   "execution_count": 15,
   "metadata": {},
   "outputs": [
    {
     "name": "stdout",
     "output_type": "stream",
     "text": [
      "True\n",
      "True\n",
      "True\n",
      "True\n",
      "True\n"
     ]
    }
   ],
   "source": [
    "for o in (ll, dd, bb, ss, tt):\n",
    "#     print(dir(o))\n",
    "    print(hasattr(o, \"__iter__\"))"
   ]
  },
  {
   "cell_type": "code",
   "execution_count": 30,
   "metadata": {},
   "outputs": [
    {
     "name": "stdout",
     "output_type": "stream",
     "text": [
      "Is 'object' typing.Iterable: True\n",
      "Is 'object' typing.Iterator: False\n",
      "Is 'object' typing.Generator: False\n",
      "Is 'object' has attribute __iter__: True\n",
      "Is 'object' has attribute __next__: False\n",
      "Is 'object' typing.Iterable: True\n",
      "Is 'object' typing.Iterator: False\n",
      "Is 'object' typing.Generator: False\n",
      "Is 'object' has attribute __iter__: True\n",
      "Is 'object' has attribute __next__: False\n",
      "Is 'object' typing.Iterable: True\n",
      "Is 'object' typing.Iterator: False\n",
      "Is 'object' typing.Generator: False\n",
      "Is 'object' has attribute __iter__: True\n",
      "Is 'object' has attribute __next__: False\n",
      "Is 'object' typing.Iterable: True\n",
      "Is 'object' typing.Iterator: False\n",
      "Is 'object' typing.Generator: False\n",
      "Is 'object' has attribute __iter__: True\n",
      "Is 'object' has attribute __next__: False\n",
      "Is 'object' typing.Iterable: True\n",
      "Is 'object' typing.Iterator: False\n",
      "Is 'object' typing.Generator: False\n",
      "Is 'object' has attribute __iter__: True\n",
      "Is 'object' has attribute __next__: False\n"
     ]
    }
   ],
   "source": [
    "for o in (ll, dd, bb, ss, tt):\n",
    "    check_types(o)"
   ]
  },
  {
   "cell_type": "code",
   "execution_count": null,
   "metadata": {},
   "outputs": [],
   "source": []
  },
  {
   "cell_type": "markdown",
   "metadata": {},
   "source": [
    "# Iterators"
   ]
  },
  {
   "cell_type": "code",
   "execution_count": 17,
   "metadata": {},
   "outputs": [],
   "source": [
    "class Squares:\n",
    "    def __init__(self, start, stop):\n",
    "        self.start = start\n",
    "        self.stop = stop\n",
    "    \n",
    "    def __iter__(self): \n",
    "        return self\n",
    "    \n",
    "    def __next__(self):\n",
    "        if self.start > self.stop:\n",
    "            raise StopIteration\n",
    "        \n",
    "        current = self.start ** 2\n",
    "        self.start += 1\n",
    "\n",
    "        return current"
   ]
  },
  {
   "cell_type": "code",
   "execution_count": 18,
   "metadata": {},
   "outputs": [],
   "source": [
    "sq = Squares(1, 3)"
   ]
  },
  {
   "cell_type": "code",
   "execution_count": 19,
   "metadata": {},
   "outputs": [
    {
     "data": {
      "text/plain": [
       "['__class__',\n",
       " '__delattr__',\n",
       " '__dict__',\n",
       " '__dir__',\n",
       " '__doc__',\n",
       " '__eq__',\n",
       " '__format__',\n",
       " '__ge__',\n",
       " '__getattribute__',\n",
       " '__gt__',\n",
       " '__hash__',\n",
       " '__init__',\n",
       " '__init_subclass__',\n",
       " '__iter__',\n",
       " '__le__',\n",
       " '__lt__',\n",
       " '__module__',\n",
       " '__ne__',\n",
       " '__new__',\n",
       " '__next__',\n",
       " '__reduce__',\n",
       " '__reduce_ex__',\n",
       " '__repr__',\n",
       " '__setattr__',\n",
       " '__sizeof__',\n",
       " '__str__',\n",
       " '__subclasshook__',\n",
       " '__weakref__',\n",
       " 'start',\n",
       " 'stop']"
      ]
     },
     "execution_count": 19,
     "metadata": {},
     "output_type": "execute_result"
    }
   ],
   "source": [
    "dir(sq)"
   ]
  },
  {
   "cell_type": "code",
   "execution_count": 20,
   "metadata": {},
   "outputs": [
    {
     "name": "stdout",
     "output_type": "stream",
     "text": [
      "1\n",
      "4\n",
      "9\n"
     ]
    }
   ],
   "source": [
    "for item in Squares(1, 3):\n",
    "    print(item)"
   ]
  },
  {
   "cell_type": "code",
   "execution_count": 24,
   "metadata": {},
   "outputs": [
    {
     "data": {
      "text/plain": [
       "__main__.Squares"
      ]
     },
     "execution_count": 24,
     "metadata": {},
     "output_type": "execute_result"
    }
   ],
   "source": [
    "sq.__class__"
   ]
  },
  {
   "cell_type": "code",
   "execution_count": 31,
   "metadata": {},
   "outputs": [
    {
     "name": "stdout",
     "output_type": "stream",
     "text": [
      "Is 'object' typing.Iterable: True\n",
      "Is 'object' typing.Iterator: True\n",
      "Is 'object' typing.Generator: False\n",
      "Is 'object' has attribute __iter__: True\n",
      "Is 'object' has attribute __next__: True\n"
     ]
    }
   ],
   "source": [
    "check_types(sq)"
   ]
  },
  {
   "cell_type": "code",
   "execution_count": 32,
   "metadata": {},
   "outputs": [],
   "source": [
    "sq1 = Squares(1, 3)"
   ]
  },
  {
   "cell_type": "code",
   "execution_count": 33,
   "metadata": {},
   "outputs": [
    {
     "data": {
      "text/plain": [
       "1"
      ]
     },
     "execution_count": 33,
     "metadata": {},
     "output_type": "execute_result"
    }
   ],
   "source": [
    "next(sq1)"
   ]
  },
  {
   "cell_type": "code",
   "execution_count": 34,
   "metadata": {},
   "outputs": [
    {
     "data": {
      "text/plain": [
       "4"
      ]
     },
     "execution_count": 34,
     "metadata": {},
     "output_type": "execute_result"
    }
   ],
   "source": [
    "next(sq1)"
   ]
  },
  {
   "cell_type": "code",
   "execution_count": 35,
   "metadata": {},
   "outputs": [
    {
     "data": {
      "text/plain": [
       "9"
      ]
     },
     "execution_count": 35,
     "metadata": {},
     "output_type": "execute_result"
    }
   ],
   "source": [
    "next(sq1)"
   ]
  },
  {
   "cell_type": "code",
   "execution_count": 36,
   "metadata": {},
   "outputs": [
    {
     "ename": "StopIteration",
     "evalue": "",
     "output_type": "error",
     "traceback": [
      "\u001b[0;31m---------------------------------------------------------------------------\u001b[0m",
      "\u001b[0;31mStopIteration\u001b[0m                             Traceback (most recent call last)",
      "\u001b[0;32m<ipython-input-36-c305d775dafe>\u001b[0m in \u001b[0;36m<module>\u001b[0;34m\u001b[0m\n\u001b[0;32m----> 1\u001b[0;31m \u001b[0mnext\u001b[0m\u001b[0;34m(\u001b[0m\u001b[0msq1\u001b[0m\u001b[0;34m)\u001b[0m\u001b[0;34m\u001b[0m\u001b[0;34m\u001b[0m\u001b[0m\n\u001b[0m",
      "\u001b[0;32m<ipython-input-17-fc6349e23851>\u001b[0m in \u001b[0;36m__next__\u001b[0;34m(self)\u001b[0m\n\u001b[1;32m      9\u001b[0m     \u001b[0;32mdef\u001b[0m \u001b[0m__next__\u001b[0m\u001b[0;34m(\u001b[0m\u001b[0mself\u001b[0m\u001b[0;34m)\u001b[0m\u001b[0;34m:\u001b[0m\u001b[0;34m\u001b[0m\u001b[0;34m\u001b[0m\u001b[0m\n\u001b[1;32m     10\u001b[0m         \u001b[0;32mif\u001b[0m \u001b[0mself\u001b[0m\u001b[0;34m.\u001b[0m\u001b[0mstart\u001b[0m \u001b[0;34m>\u001b[0m \u001b[0mself\u001b[0m\u001b[0;34m.\u001b[0m\u001b[0mstop\u001b[0m\u001b[0;34m:\u001b[0m\u001b[0;34m\u001b[0m\u001b[0;34m\u001b[0m\u001b[0m\n\u001b[0;32m---> 11\u001b[0;31m             \u001b[0;32mraise\u001b[0m \u001b[0mStopIteration\u001b[0m\u001b[0;34m\u001b[0m\u001b[0;34m\u001b[0m\u001b[0m\n\u001b[0m\u001b[1;32m     12\u001b[0m \u001b[0;34m\u001b[0m\u001b[0m\n\u001b[1;32m     13\u001b[0m         \u001b[0mcurrent\u001b[0m \u001b[0;34m=\u001b[0m \u001b[0mself\u001b[0m\u001b[0;34m.\u001b[0m\u001b[0mstart\u001b[0m \u001b[0;34m**\u001b[0m \u001b[0;36m2\u001b[0m\u001b[0;34m\u001b[0m\u001b[0;34m\u001b[0m\u001b[0m\n",
      "\u001b[0;31mStopIteration\u001b[0m: "
     ]
    }
   ],
   "source": [
    "next(sq1)"
   ]
  },
  {
   "cell_type": "code",
   "execution_count": 37,
   "metadata": {},
   "outputs": [
    {
     "name": "stdout",
     "output_type": "stream",
     "text": [
      "Nope!\n"
     ]
    }
   ],
   "source": [
    "try:\n",
    "    next(sq1)\n",
    "except StopIteration:\n",
    "    print(\"Nope!\")"
   ]
  },
  {
   "cell_type": "markdown",
   "metadata": {},
   "source": [
    "# Generators"
   ]
  },
  {
   "cell_type": "code",
   "execution_count": 41,
   "metadata": {},
   "outputs": [],
   "source": [
    "import time\n",
    "\n",
    "def squares(start, stop):\n",
    "    while start <= stop:\n",
    "        yield start ** 2\n",
    "        start += 1"
   ]
  },
  {
   "cell_type": "code",
   "execution_count": 23,
   "metadata": {},
   "outputs": [
    {
     "name": "stdout",
     "output_type": "stream",
     "text": [
      "1\n",
      "4\n",
      "9\n"
     ]
    }
   ],
   "source": [
    "for item in squares(1, 3):\n",
    "    print(item)"
   ]
  },
  {
   "cell_type": "code",
   "execution_count": 28,
   "metadata": {},
   "outputs": [],
   "source": [
    "sq_gen = squares(1, 3)"
   ]
  },
  {
   "cell_type": "code",
   "execution_count": 26,
   "metadata": {},
   "outputs": [
    {
     "data": {
      "text/plain": [
       "generator"
      ]
     },
     "execution_count": 26,
     "metadata": {},
     "output_type": "execute_result"
    }
   ],
   "source": [
    "sq_gen.__class__"
   ]
  },
  {
   "cell_type": "code",
   "execution_count": 29,
   "metadata": {},
   "outputs": [
    {
     "data": {
      "text/plain": [
       "['__class__',\n",
       " '__del__',\n",
       " '__delattr__',\n",
       " '__dir__',\n",
       " '__doc__',\n",
       " '__eq__',\n",
       " '__format__',\n",
       " '__ge__',\n",
       " '__getattribute__',\n",
       " '__gt__',\n",
       " '__hash__',\n",
       " '__init__',\n",
       " '__init_subclass__',\n",
       " '__iter__',\n",
       " '__le__',\n",
       " '__lt__',\n",
       " '__name__',\n",
       " '__ne__',\n",
       " '__new__',\n",
       " '__next__',\n",
       " '__qualname__',\n",
       " '__reduce__',\n",
       " '__reduce_ex__',\n",
       " '__repr__',\n",
       " '__setattr__',\n",
       " '__sizeof__',\n",
       " '__str__',\n",
       " '__subclasshook__',\n",
       " 'close',\n",
       " 'gi_code',\n",
       " 'gi_frame',\n",
       " 'gi_running',\n",
       " 'gi_yieldfrom',\n",
       " 'send',\n",
       " 'throw']"
      ]
     },
     "execution_count": 29,
     "metadata": {},
     "output_type": "execute_result"
    }
   ],
   "source": [
    "dir(sq_gen)"
   ]
  },
  {
   "cell_type": "code",
   "execution_count": 48,
   "metadata": {},
   "outputs": [
    {
     "name": "stdout",
     "output_type": "stream",
     "text": [
      "1\n",
      "4\n",
      "9\n"
     ]
    }
   ],
   "source": [
    "sq1_gen = squares(1, 3)\n",
    "\n",
    "first_value = next(sq1_gen)\n",
    "\n",
    "if first_value < 2:\n",
    "    print(first_value)\n",
    "    for x in sq1_gen:\n",
    "        print(x)\n",
    "else:\n",
    "    print(first_value)"
   ]
  },
  {
   "cell_type": "code",
   "execution_count": 53,
   "metadata": {},
   "outputs": [
    {
     "data": {
      "text/plain": [
       "<generator object squares at 0x7f69e8131a50>"
      ]
     },
     "execution_count": 53,
     "metadata": {},
     "output_type": "execute_result"
    }
   ],
   "source": [
    "sq1_gen"
   ]
  },
  {
   "cell_type": "code",
   "execution_count": 80,
   "metadata": {},
   "outputs": [
    {
     "data": {
      "text/plain": [
       "[9, 4, 1]"
      ]
     },
     "execution_count": 80,
     "metadata": {},
     "output_type": "execute_result"
    }
   ],
   "source": [
    "sq2_gen = squares(1, 3)\n",
    "\n",
    "list(reversed(list(sq2_gen)))"
   ]
  },
  {
   "cell_type": "code",
   "execution_count": 81,
   "metadata": {},
   "outputs": [
    {
     "ename": "TypeError",
     "evalue": "'generator' object is not reversible",
     "output_type": "error",
     "traceback": [
      "\u001b[0;31m---------------------------------------------------------------------------\u001b[0m",
      "\u001b[0;31mTypeError\u001b[0m                                 Traceback (most recent call last)",
      "\u001b[0;32m<ipython-input-81-fdd2150c9315>\u001b[0m in \u001b[0;36m<module>\u001b[0;34m\u001b[0m\n\u001b[0;32m----> 1\u001b[0;31m \u001b[0mreversed\u001b[0m\u001b[0;34m(\u001b[0m\u001b[0msquares\u001b[0m\u001b[0;34m(\u001b[0m\u001b[0;36m1\u001b[0m\u001b[0;34m,\u001b[0m \u001b[0;36m3\u001b[0m\u001b[0;34m)\u001b[0m\u001b[0;34m)\u001b[0m\u001b[0;34m\u001b[0m\u001b[0;34m\u001b[0m\u001b[0m\n\u001b[0m",
      "\u001b[0;31mTypeError\u001b[0m: 'generator' object is not reversible"
     ]
    }
   ],
   "source": [
    "reversed(squares(1, 3))"
   ]
  },
  {
   "cell_type": "code",
   "execution_count": 82,
   "metadata": {},
   "outputs": [
    {
     "ename": "TypeError",
     "evalue": "'generator' object is not subscriptable",
     "output_type": "error",
     "traceback": [
      "\u001b[0;31m---------------------------------------------------------------------------\u001b[0m",
      "\u001b[0;31mTypeError\u001b[0m                                 Traceback (most recent call last)",
      "\u001b[0;32m<ipython-input-82-5c4469dfa112>\u001b[0m in \u001b[0;36m<module>\u001b[0;34m\u001b[0m\n\u001b[0;32m----> 1\u001b[0;31m \u001b[0msquares\u001b[0m\u001b[0;34m(\u001b[0m\u001b[0;36m1\u001b[0m\u001b[0;34m,\u001b[0m \u001b[0;36m3\u001b[0m\u001b[0;34m)\u001b[0m\u001b[0;34m[\u001b[0m\u001b[0;36m1\u001b[0m\u001b[0;34m:\u001b[0m\u001b[0;34m]\u001b[0m\u001b[0;34m\u001b[0m\u001b[0;34m\u001b[0m\u001b[0m\n\u001b[0m",
      "\u001b[0;31mTypeError\u001b[0m: 'generator' object is not subscriptable"
     ]
    }
   ],
   "source": [
    "squares(1, 3)[1:]"
   ]
  },
  {
   "cell_type": "markdown",
   "metadata": {},
   "source": [
    "## Generators Expressions"
   ]
  },
  {
   "cell_type": "code",
   "execution_count": 58,
   "metadata": {},
   "outputs": [],
   "source": [
    "ge1 = (x ** 2 for x in range(10) if x % 2 == 0)"
   ]
  },
  {
   "cell_type": "code",
   "execution_count": 51,
   "metadata": {},
   "outputs": [
    {
     "name": "stdout",
     "output_type": "stream",
     "text": [
      "Is 'object' typing.Iterable: True\n",
      "Is 'object' typing.Iterator: True\n",
      "Is 'object' typing.Generator: True\n",
      "Is 'object' has attribute __iter__: True\n",
      "Is 'object' has attribute __next__: True\n"
     ]
    }
   ],
   "source": [
    "check_types(ge1)"
   ]
  },
  {
   "cell_type": "code",
   "execution_count": 56,
   "metadata": {},
   "outputs": [
    {
     "data": {
      "text/plain": [
       "<generator object <genexpr> at 0x7f69e8131120>"
      ]
     },
     "execution_count": 56,
     "metadata": {},
     "output_type": "execute_result"
    }
   ],
   "source": [
    "ge1"
   ]
  },
  {
   "cell_type": "code",
   "execution_count": 59,
   "metadata": {},
   "outputs": [
    {
     "name": "stdout",
     "output_type": "stream",
     "text": [
      "0\n",
      "4\n",
      "16\n",
      "36\n",
      "64\n"
     ]
    }
   ],
   "source": [
    "for item in ge1:\n",
    "    print(item)"
   ]
  },
  {
   "cell_type": "code",
   "execution_count": 60,
   "metadata": {},
   "outputs": [],
   "source": [
    "ge2 = [x ** 2 for x in range(10) if x % 2 == 0]"
   ]
  },
  {
   "cell_type": "code",
   "execution_count": 61,
   "metadata": {},
   "outputs": [
    {
     "name": "stdout",
     "output_type": "stream",
     "text": [
      "Is 'object' typing.Iterable: True\n",
      "Is 'object' typing.Iterator: False\n",
      "Is 'object' typing.Generator: False\n",
      "Is 'object' has attribute __iter__: True\n",
      "Is 'object' has attribute __next__: False\n"
     ]
    }
   ],
   "source": [
    "check_types(ge2)"
   ]
  },
  {
   "cell_type": "code",
   "execution_count": 63,
   "metadata": {},
   "outputs": [
    {
     "data": {
      "text/plain": [
       "list"
      ]
     },
     "execution_count": 63,
     "metadata": {},
     "output_type": "execute_result"
    }
   ],
   "source": [
    "type(ge2)"
   ]
  },
  {
   "cell_type": "code",
   "execution_count": 66,
   "metadata": {},
   "outputs": [],
   "source": [
    "ge3 = list(x ** 2 for x in range(10) if x % 2 == 0)"
   ]
  },
  {
   "cell_type": "code",
   "execution_count": 67,
   "metadata": {},
   "outputs": [
    {
     "data": {
      "text/plain": [
       "[0, 4, 16, 36, 64]"
      ]
     },
     "execution_count": 67,
     "metadata": {},
     "output_type": "execute_result"
    }
   ],
   "source": [
    "ge3"
   ]
  },
  {
   "cell_type": "code",
   "execution_count": 69,
   "metadata": {},
   "outputs": [],
   "source": [
    "ge4 = tuple(x ** 2 for x in range(10) if x % 2 == 0)"
   ]
  },
  {
   "cell_type": "code",
   "execution_count": 70,
   "metadata": {},
   "outputs": [
    {
     "data": {
      "text/plain": [
       "(0, 4, 16, 36, 64)"
      ]
     },
     "execution_count": 70,
     "metadata": {},
     "output_type": "execute_result"
    }
   ],
   "source": [
    "ge4"
   ]
  },
  {
   "cell_type": "code",
   "execution_count": 73,
   "metadata": {},
   "outputs": [],
   "source": [
    "ge5 = {item[1]: item[0] for item in ((1, 2), (2, 3))}"
   ]
  },
  {
   "cell_type": "code",
   "execution_count": 74,
   "metadata": {},
   "outputs": [
    {
     "name": "stdout",
     "output_type": "stream",
     "text": [
      "id(140092852430912) = {2: 1, 3: 2} - <class 'dict'>\n"
     ]
    }
   ],
   "source": [
    "print_var_info(ge5)"
   ]
  },
  {
   "cell_type": "markdown",
   "metadata": {},
   "source": [
    "## Misc"
   ]
  },
  {
   "cell_type": "code",
   "execution_count": 83,
   "metadata": {},
   "outputs": [],
   "source": [
    "import os\n",
    "\n",
    "sample_file = os.path.join(os.getcwd(), \"../lesson_1/task_1/loreipsum.txt\")"
   ]
  },
  {
   "cell_type": "code",
   "execution_count": 84,
   "metadata": {},
   "outputs": [
    {
     "data": {
      "text/plain": [
       "'/home/student/PycharmProjects/python-data-lab/lesson_2/../lesson_1/task_1/loreipsum.txt'"
      ]
     },
     "execution_count": 84,
     "metadata": {},
     "output_type": "execute_result"
    }
   ],
   "source": [
    "sample_file"
   ]
  },
  {
   "cell_type": "code",
   "execution_count": 87,
   "metadata": {},
   "outputs": [
    {
     "name": "stdout",
     "output_type": "stream",
     "text": [
      "Is 'object' typing.Iterable: True\n",
      "Is 'object' typing.Iterator: True\n",
      "Is 'object' typing.Generator: False\n",
      "Is 'object' has attribute __iter__: True\n",
      "Is 'object' has attribute __next__: True\n"
     ]
    }
   ],
   "source": [
    "with open(sample_file, \"rb\") as fp:\n",
    "    check_types(fp)"
   ]
  },
  {
   "cell_type": "code",
   "execution_count": 89,
   "metadata": {},
   "outputs": [
    {
     "name": "stdout",
     "output_type": "stream",
     "text": [
      "Is 'object' typing.Iterable: True\n",
      "Is 'object' typing.Iterator: True\n",
      "Is 'object' typing.Generator: False\n",
      "Is 'object' has attribute __iter__: True\n",
      "Is 'object' has attribute __next__: True\n"
     ]
    }
   ],
   "source": [
    "fp = open(sample_file, \"rb\")\n",
    "check_types(fp)\n",
    "fp.close()"
   ]
  },
  {
   "cell_type": "code",
   "execution_count": 90,
   "metadata": {},
   "outputs": [
    {
     "name": "stdout",
     "output_type": "stream",
     "text": [
      "b'Lorem ipsum dolor sit amet, consectetur adipiscing elit.\\n'\n",
      "b'Fusce eget est eu elit tempor blandit nec id est.\\n'\n",
      "b'Duis fermentum augue ut euismod placerat.\\n'\n",
      "b'Pellentesque consequat ex nec velit placerat, nec gravida nunc tincidunt.\\n'\n",
      "b'Phasellus pretium nisi feugiat, tincidunt augue in, posuere metus.\\n'\n",
      "b'Vestibulum nec ipsum eleifend, fringilla justo eget, hendrerit tortor.\\n'\n",
      "b'Sed eu ligula a arcu auctor porta at non sapien.\\n'\n",
      "b'Sed mollis neque et nibh tincidunt bibendum eget eu libero.\\n'\n",
      "b'Donec sodales nibh vel vestibulum interdum.\\n'\n",
      "b'Donec at augue id felis pharetra rhoncus.\\n'\n",
      "b'Maecenas congue neque sed facilisis pretium.\\n'\n",
      "b'Phasellus venenatis nibh a dui ullamcorper dapibus.\\n'\n",
      "b'Sed posuere libero et metus pulvinar, quis bibendum arcu tincidunt.\\n'\n",
      "b'Quisque fringilla dolor eu lorem dapibus, ut rutrum tortor pharetra.\\n'\n",
      "b'Sed a dolor sit amet ipsum porta malesuada.\\n'\n",
      "b'Etiam convallis ante a nunc posuere, sit amet eleifend massa finibus.\\n'\n",
      "b'Nulla ac odio ultricies, aliquet justo eget, tempus est.\\n'\n",
      "b'Morbi eget lorem ac sem varius congue et sed nibh.\\n'\n",
      "b'Sed ut purus vitae orci aliquet tempus nec auctor dolor.\\n'\n",
      "b'Quisque rhoncus lacus sit amet dolor hendrerit commodo.\\n'\n",
      "b'Duis consequat sem id neque suscipit elementum.'\n"
     ]
    }
   ],
   "source": [
    "with open(sample_file, \"rb\") as fp:\n",
    "    for line in fp:\n",
    "        print(line)"
   ]
  },
  {
   "cell_type": "code",
   "execution_count": 91,
   "metadata": {},
   "outputs": [
    {
     "name": "stdout",
     "output_type": "stream",
     "text": [
      "Lorem ipsum dolor sit amet, consectetur adipiscing elit.\n",
      "\n",
      "Fusce eget est eu elit tempor blandit nec id est.\n",
      "\n",
      "Duis fermentum augue ut euismod placerat.\n",
      "\n",
      "Pellentesque consequat ex nec velit placerat, nec gravida nunc tincidunt.\n",
      "\n",
      "Phasellus pretium nisi feugiat, tincidunt augue in, posuere metus.\n",
      "\n",
      "Vestibulum nec ipsum eleifend, fringilla justo eget, hendrerit tortor.\n",
      "\n",
      "Sed eu ligula a arcu auctor porta at non sapien.\n",
      "\n",
      "Sed mollis neque et nibh tincidunt bibendum eget eu libero.\n",
      "\n",
      "Donec sodales nibh vel vestibulum interdum.\n",
      "\n",
      "Donec at augue id felis pharetra rhoncus.\n",
      "\n",
      "Maecenas congue neque sed facilisis pretium.\n",
      "\n",
      "Phasellus venenatis nibh a dui ullamcorper dapibus.\n",
      "\n",
      "Sed posuere libero et metus pulvinar, quis bibendum arcu tincidunt.\n",
      "\n",
      "Quisque fringilla dolor eu lorem dapibus, ut rutrum tortor pharetra.\n",
      "\n",
      "Sed a dolor sit amet ipsum porta malesuada.\n",
      "\n",
      "Etiam convallis ante a nunc posuere, sit amet eleifend massa finibus.\n",
      "\n",
      "Nulla ac odio ultricies, aliquet justo eget, tempus est.\n",
      "\n",
      "Morbi eget lorem ac sem varius congue et sed nibh.\n",
      "\n",
      "Sed ut purus vitae orci aliquet tempus nec auctor dolor.\n",
      "\n",
      "Quisque rhoncus lacus sit amet dolor hendrerit commodo.\n",
      "\n",
      "Duis consequat sem id neque suscipit elementum.\n"
     ]
    }
   ],
   "source": [
    "with open(sample_file, \"rt\") as fp:\n",
    "    for line in fp:\n",
    "        print(line)"
   ]
  },
  {
   "cell_type": "code",
   "execution_count": 93,
   "metadata": {},
   "outputs": [],
   "source": [
    "def skip_line(file, skip=0):\n",
    "    with open(file, \"rb\") as fp:\n",
    "        try:\n",
    "            for _ in range(skip):\n",
    "                next(fp)\n",
    "        except StopIteration:\n",
    "            return\n",
    "        \n",
    "        yield from fp\n",
    "#         for item in fp:\n",
    "#             yield fp"
   ]
  },
  {
   "cell_type": "code",
   "execution_count": 94,
   "metadata": {},
   "outputs": [
    {
     "name": "stdout",
     "output_type": "stream",
     "text": [
      "b'Lorem ipsum dolor sit amet, consectetur adipiscing elit.\\n'\n",
      "b'Fusce eget est eu elit tempor blandit nec id est.\\n'\n",
      "b'Duis fermentum augue ut euismod placerat.\\n'\n",
      "b'Pellentesque consequat ex nec velit placerat, nec gravida nunc tincidunt.\\n'\n",
      "b'Phasellus pretium nisi feugiat, tincidunt augue in, posuere metus.\\n'\n",
      "b'Vestibulum nec ipsum eleifend, fringilla justo eget, hendrerit tortor.\\n'\n",
      "b'Sed eu ligula a arcu auctor porta at non sapien.\\n'\n",
      "b'Sed mollis neque et nibh tincidunt bibendum eget eu libero.\\n'\n",
      "b'Donec sodales nibh vel vestibulum interdum.\\n'\n",
      "b'Donec at augue id felis pharetra rhoncus.\\n'\n",
      "b'Maecenas congue neque sed facilisis pretium.\\n'\n",
      "b'Phasellus venenatis nibh a dui ullamcorper dapibus.\\n'\n",
      "b'Sed posuere libero et metus pulvinar, quis bibendum arcu tincidunt.\\n'\n",
      "b'Quisque fringilla dolor eu lorem dapibus, ut rutrum tortor pharetra.\\n'\n",
      "b'Sed a dolor sit amet ipsum porta malesuada.\\n'\n",
      "b'Etiam convallis ante a nunc posuere, sit amet eleifend massa finibus.\\n'\n",
      "b'Nulla ac odio ultricies, aliquet justo eget, tempus est.\\n'\n",
      "b'Morbi eget lorem ac sem varius congue et sed nibh.\\n'\n",
      "b'Sed ut purus vitae orci aliquet tempus nec auctor dolor.\\n'\n",
      "b'Quisque rhoncus lacus sit amet dolor hendrerit commodo.\\n'\n",
      "b'Duis consequat sem id neque suscipit elementum.'\n"
     ]
    }
   ],
   "source": [
    "for line in skip_line(sample_file, 0):\n",
    "    print(line)"
   ]
  },
  {
   "cell_type": "code",
   "execution_count": 95,
   "metadata": {},
   "outputs": [
    {
     "name": "stdout",
     "output_type": "stream",
     "text": [
      "b'Fusce eget est eu elit tempor blandit nec id est.\\n'\n",
      "b'Duis fermentum augue ut euismod placerat.\\n'\n",
      "b'Pellentesque consequat ex nec velit placerat, nec gravida nunc tincidunt.\\n'\n",
      "b'Phasellus pretium nisi feugiat, tincidunt augue in, posuere metus.\\n'\n",
      "b'Vestibulum nec ipsum eleifend, fringilla justo eget, hendrerit tortor.\\n'\n",
      "b'Sed eu ligula a arcu auctor porta at non sapien.\\n'\n",
      "b'Sed mollis neque et nibh tincidunt bibendum eget eu libero.\\n'\n",
      "b'Donec sodales nibh vel vestibulum interdum.\\n'\n",
      "b'Donec at augue id felis pharetra rhoncus.\\n'\n",
      "b'Maecenas congue neque sed facilisis pretium.\\n'\n",
      "b'Phasellus venenatis nibh a dui ullamcorper dapibus.\\n'\n",
      "b'Sed posuere libero et metus pulvinar, quis bibendum arcu tincidunt.\\n'\n",
      "b'Quisque fringilla dolor eu lorem dapibus, ut rutrum tortor pharetra.\\n'\n",
      "b'Sed a dolor sit amet ipsum porta malesuada.\\n'\n",
      "b'Etiam convallis ante a nunc posuere, sit amet eleifend massa finibus.\\n'\n",
      "b'Nulla ac odio ultricies, aliquet justo eget, tempus est.\\n'\n",
      "b'Morbi eget lorem ac sem varius congue et sed nibh.\\n'\n",
      "b'Sed ut purus vitae orci aliquet tempus nec auctor dolor.\\n'\n",
      "b'Quisque rhoncus lacus sit amet dolor hendrerit commodo.\\n'\n",
      "b'Duis consequat sem id neque suscipit elementum.'\n"
     ]
    }
   ],
   "source": [
    "for line in skip_line(sample_file, 1):\n",
    "    print(line)"
   ]
  },
  {
   "cell_type": "code",
   "execution_count": 96,
   "metadata": {},
   "outputs": [],
   "source": [
    "for line in skip_line(sample_file, 105000):\n",
    "    print(line)"
   ]
  },
  {
   "cell_type": "code",
   "execution_count": null,
   "metadata": {},
   "outputs": [],
   "source": []
  },
  {
   "cell_type": "markdown",
   "metadata": {},
   "source": [
    "## Iter Tools\n",
    "[itertools — Functions creating iterators for efficient looping](https://docs.python.org/3/library/itertools.html)\n",
    "\n",
    "[Модуль itertools](https://pythonworld.ru/moduli/modul-itertools.html)\n",
    "    "
   ]
  }
 ],
 "metadata": {
  "kernelspec": {
   "display_name": "Python 3",
   "language": "python",
   "name": "python3"
  },
  "language_info": {
   "codemirror_mode": {
    "name": "ipython",
    "version": 3
   },
   "file_extension": ".py",
   "mimetype": "text/x-python",
   "name": "python",
   "nbconvert_exporter": "python",
   "pygments_lexer": "ipython3",
   "version": "3.8.5"
  }
 },
 "nbformat": 4,
 "nbformat_minor": 4
}

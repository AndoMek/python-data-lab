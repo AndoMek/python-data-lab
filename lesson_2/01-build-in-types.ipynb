{
 "cells": [
  {
   "cell_type": "code",
   "execution_count": 1,
   "metadata": {},
   "outputs": [],
   "source": [
    "def print_var_info(o, name=None, no_print_value=False):\n",
    "    if no_print_value:\n",
    "        if name:\n",
    "            print(\"%s id(%s) - %r\" % (name, id(o), type(o), ))\n",
    "        else:\n",
    "            print(\"id(%s) - %r\" % (id(o), type(o), ))\n",
    "    else:\n",
    "        if name:\n",
    "            print(\"%s id(%s) = %r - %r\" % (name, id(o), o, type(o), ))\n",
    "        else:\n",
    "            print(\"id(%s) = %r - %r\" % (id(o), o, type(o), ))"
   ]
  },
  {
   "cell_type": "markdown",
   "metadata": {},
   "source": [
    "# Built-in Types\n",
    "https://docs.python.org/3/library/stdtypes.html#"
   ]
  },
  {
   "cell_type": "markdown",
   "metadata": {},
   "source": [
    "## The Null Object\n",
    "https://docs.python.org/3/library/stdtypes.html#the-null-object"
   ]
  },
  {
   "cell_type": "code",
   "execution_count": 2,
   "metadata": {},
   "outputs": [],
   "source": [
    "None"
   ]
  },
  {
   "cell_type": "code",
   "execution_count": 3,
   "metadata": {},
   "outputs": [
    {
     "name": "stdout",
     "output_type": "stream",
     "text": [
      "id(9480688) = None - <class 'NoneType'>\n"
     ]
    }
   ],
   "source": [
    "n1 = None\n",
    "\n",
    "print_var_info(n1)"
   ]
  },
  {
   "cell_type": "code",
   "execution_count": 4,
   "metadata": {},
   "outputs": [
    {
     "name": "stdout",
     "output_type": "stream",
     "text": [
      "id(9480688) = None - <class 'NoneType'>\n"
     ]
    }
   ],
   "source": [
    "n2 = n1\n",
    "\n",
    "print_var_info(n2)"
   ]
  },
  {
   "cell_type": "code",
   "execution_count": 5,
   "metadata": {},
   "outputs": [
    {
     "name": "stdout",
     "output_type": "stream",
     "text": [
      "id(9480688) = None - <class 'NoneType'>\n"
     ]
    }
   ],
   "source": [
    "print_var_info(None)"
   ]
  },
  {
   "cell_type": "code",
   "execution_count": 6,
   "metadata": {},
   "outputs": [
    {
     "name": "stdout",
     "output_type": "stream",
     "text": [
      "None\n"
     ]
    }
   ],
   "source": [
    "if n2:\n",
    "    print(\"Not None\")\n",
    "else:\n",
    "    print(\"None\")"
   ]
  },
  {
   "cell_type": "code",
   "execution_count": 7,
   "metadata": {},
   "outputs": [
    {
     "data": {
      "text/plain": [
       "True"
      ]
     },
     "execution_count": 7,
     "metadata": {},
     "output_type": "execute_result"
    }
   ],
   "source": [
    "n2 is None"
   ]
  },
  {
   "cell_type": "code",
   "execution_count": 8,
   "metadata": {},
   "outputs": [
    {
     "data": {
      "text/plain": [
       "True"
      ]
     },
     "execution_count": 8,
     "metadata": {},
     "output_type": "execute_result"
    }
   ],
   "source": [
    "n2 == None"
   ]
  },
  {
   "cell_type": "markdown",
   "metadata": {},
   "source": [
    "## Boolean Type\n",
    "https://docs.python.org/3/library/stdtypes.html#boolean-operations-and-or-not"
   ]
  },
  {
   "cell_type": "markdown",
   "metadata": {},
   "source": [
    "### bool"
   ]
  },
  {
   "cell_type": "code",
   "execution_count": 9,
   "metadata": {},
   "outputs": [
    {
     "data": {
      "text/plain": [
       "True"
      ]
     },
     "execution_count": 9,
     "metadata": {},
     "output_type": "execute_result"
    }
   ],
   "source": [
    "True"
   ]
  },
  {
   "cell_type": "code",
   "execution_count": 10,
   "metadata": {},
   "outputs": [
    {
     "data": {
      "text/plain": [
       "False"
      ]
     },
     "execution_count": 10,
     "metadata": {},
     "output_type": "execute_result"
    }
   ],
   "source": [
    "False"
   ]
  },
  {
   "cell_type": "code",
   "execution_count": 11,
   "metadata": {},
   "outputs": [
    {
     "name": "stdout",
     "output_type": "stream",
     "text": [
      "id(9472320) = True - <class 'bool'>\n"
     ]
    }
   ],
   "source": [
    "print_var_info(True)"
   ]
  },
  {
   "cell_type": "code",
   "execution_count": 12,
   "metadata": {},
   "outputs": [
    {
     "name": "stdout",
     "output_type": "stream",
     "text": [
      "id(9472320) = True - <class 'bool'>\n"
     ]
    }
   ],
   "source": [
    "print_var_info(True)"
   ]
  },
  {
   "cell_type": "code",
   "execution_count": 13,
   "metadata": {},
   "outputs": [
    {
     "name": "stdout",
     "output_type": "stream",
     "text": [
      "id(9472320) = True - <class 'bool'>\n",
      "id(9469888) = False - <class 'bool'>\n"
     ]
    }
   ],
   "source": [
    "b1 = True\n",
    "b2 = b1\n",
    "b2 = False\n",
    "\n",
    "print_var_info(b1)\n",
    "print_var_info(b2)"
   ]
  },
  {
   "cell_type": "code",
   "execution_count": 24,
   "metadata": {},
   "outputs": [],
   "source": [
    "b3 = True"
   ]
  },
  {
   "cell_type": "code",
   "execution_count": 25,
   "metadata": {},
   "outputs": [
    {
     "name": "stdout",
     "output_type": "stream",
     "text": [
      "id(9472320) = True - <class 'bool'>\n"
     ]
    }
   ],
   "source": [
    "print_var_info(b3)"
   ]
  },
  {
   "cell_type": "code",
   "execution_count": 26,
   "metadata": {},
   "outputs": [],
   "source": [
    "b3 &= False"
   ]
  },
  {
   "cell_type": "code",
   "execution_count": 27,
   "metadata": {},
   "outputs": [
    {
     "name": "stdout",
     "output_type": "stream",
     "text": [
      "id(9469888) = False - <class 'bool'>\n"
     ]
    }
   ],
   "source": [
    "print_var_info(b3)"
   ]
  },
  {
   "cell_type": "markdown",
   "metadata": {},
   "source": [
    "## Numeric Types\n",
    "https://docs.python.org/3/library/stdtypes.html#numeric-types-int-float-complex"
   ]
  },
  {
   "cell_type": "markdown",
   "metadata": {},
   "source": [
    "### int\n",
    "https://docs.python.org/3/library/functions.html#int"
   ]
  },
  {
   "cell_type": "code",
   "execution_count": 30,
   "metadata": {},
   "outputs": [
    {
     "name": "stdout",
     "output_type": "stream",
     "text": [
      "id(9784864) = 1 - <class 'int'>\n",
      "id(9784928) = 3 - <class 'int'>\n",
      "id(9784768) = -2 - <class 'int'>\n",
      "id(140296129099440) = -100000000000000000000000000000000000000000000000000000000000000000000000000000000000000000000000000000000000000000000000000000000000000000000000000000000000000000000000000000000000000000000000000000002 - <class 'int'>\n"
     ]
    }
   ],
   "source": [
    "i1 = 1\n",
    "print_var_info(i1)\n",
    "\n",
    "i1 += 2\n",
    "print_var_info(i1)\n",
    "\n",
    "i1 -= 5\n",
    "print_var_info(i1)\n",
    "\n",
    "i1 -= 100 ** 100\n",
    "print_var_info(i1)"
   ]
  },
  {
   "cell_type": "markdown",
   "metadata": {},
   "source": [
    "### float\n",
    "https://docs.python.org/3/library/functions.html#float"
   ]
  },
  {
   "cell_type": "code",
   "execution_count": 31,
   "metadata": {},
   "outputs": [
    {
     "name": "stdout",
     "output_type": "stream",
     "text": [
      "id(140296146673328) = 0.01 - <class 'float'>\n",
      "id(140296129099440) = -100000000000000000000000000000000000000000000000000000000000000000000000000000000000000000000000000000000000000000000000000000000000000000000000000000000000000000000000000000000000000000000000000000002 - <class 'int'>\n",
      "id(140296129099440) = -100000000000000000000000000000000000000000000000000000000000000000000000000000000000000000000000000000000000000000000000000000000000000000000000000000000000000000000000000000000000000000000000000000002 - <class 'int'>\n"
     ]
    }
   ],
   "source": [
    "f1 = .01\n",
    "print_var_info(f1)\n",
    "\n",
    "f1 += 1.01\n",
    "print_var_info(i1)\n",
    "\n",
    "f1 -= 1.0e1\n",
    "print_var_info(i1)"
   ]
  },
  {
   "cell_type": "markdown",
   "metadata": {},
   "source": [
    "### complex\n",
    "https://docs.python.org/3/library/functions.html#complex"
   ]
  },
  {
   "cell_type": "code",
   "execution_count": 32,
   "metadata": {},
   "outputs": [
    {
     "data": {
      "text/plain": [
       "(3+6j)"
      ]
     },
     "execution_count": 32,
     "metadata": {},
     "output_type": "execute_result"
    }
   ],
   "source": [
    "c1 = (3 + 6j)\n",
    "c1"
   ]
  },
  {
   "cell_type": "code",
   "execution_count": 33,
   "metadata": {},
   "outputs": [
    {
     "name": "stdout",
     "output_type": "stream",
     "text": [
      "id(140296128619184) = (3+6j) - <class 'complex'>\n"
     ]
    }
   ],
   "source": [
    "print_var_info(c1)"
   ]
  },
  {
   "cell_type": "code",
   "execution_count": 34,
   "metadata": {},
   "outputs": [
    {
     "name": "stdout",
     "output_type": "stream",
     "text": [
      "id(140296128619760) = (4+6j) - <class 'complex'>\n"
     ]
    }
   ],
   "source": [
    "c1 += 1\n",
    "print_var_info(c1)"
   ]
  },
  {
   "cell_type": "markdown",
   "metadata": {},
   "source": [
    "## Sequence Types\n",
    "https://docs.python.org/3/library/stdtypes.html#sequence-types-list-tuple-range"
   ]
  },
  {
   "cell_type": "markdown",
   "metadata": {},
   "source": [
    "### list\n",
    "https://docs.python.org/3/library/stdtypes.html#list"
   ]
  },
  {
   "cell_type": "code",
   "execution_count": 36,
   "metadata": {},
   "outputs": [
    {
     "data": {
      "text/plain": [
       "[1, 2, 3]"
      ]
     },
     "execution_count": 36,
     "metadata": {},
     "output_type": "execute_result"
    }
   ],
   "source": [
    "list([1, 2, 3])"
   ]
  },
  {
   "cell_type": "code",
   "execution_count": 37,
   "metadata": {},
   "outputs": [
    {
     "data": {
      "text/plain": [
       "[1, 2, 3]"
      ]
     },
     "execution_count": 37,
     "metadata": {},
     "output_type": "execute_result"
    }
   ],
   "source": [
    "[1, 2, 3]"
   ]
  },
  {
   "cell_type": "code",
   "execution_count": 39,
   "metadata": {},
   "outputs": [
    {
     "name": "stdout",
     "output_type": "stream",
     "text": [
      "id(140296128949056) = [1, 2, 3] - <class 'list'>\n"
     ]
    }
   ],
   "source": [
    "l1 = [1, 2, 3]\n",
    "print_var_info(l1)"
   ]
  },
  {
   "cell_type": "code",
   "execution_count": 40,
   "metadata": {},
   "outputs": [
    {
     "name": "stdout",
     "output_type": "stream",
     "text": [
      "id(140296128949056) = [1, 2, 3, 4, 5, 6] - <class 'list'>\n"
     ]
    }
   ],
   "source": [
    "l1 += [4, 5, 6]  # .extend([4, 5, 6])\n",
    "print_var_info(l1)"
   ]
  },
  {
   "cell_type": "code",
   "execution_count": 41,
   "metadata": {},
   "outputs": [
    {
     "name": "stdout",
     "output_type": "stream",
     "text": [
      "id(140296128949056) = [1, 2, 3, 4, 5, 6] - <class 'list'>\n"
     ]
    }
   ],
   "source": [
    "l2 = l1\n",
    "print_var_info(l2)"
   ]
  },
  {
   "cell_type": "code",
   "execution_count": 42,
   "metadata": {},
   "outputs": [],
   "source": [
    "del l2[:]"
   ]
  },
  {
   "cell_type": "code",
   "execution_count": 43,
   "metadata": {},
   "outputs": [
    {
     "data": {
      "text/plain": [
       "[]"
      ]
     },
     "execution_count": 43,
     "metadata": {},
     "output_type": "execute_result"
    }
   ],
   "source": [
    "l2"
   ]
  },
  {
   "cell_type": "code",
   "execution_count": 44,
   "metadata": {},
   "outputs": [
    {
     "data": {
      "text/plain": [
       "[]"
      ]
     },
     "execution_count": 44,
     "metadata": {},
     "output_type": "execute_result"
    }
   ],
   "source": [
    "l1"
   ]
  },
  {
   "cell_type": "code",
   "execution_count": 45,
   "metadata": {},
   "outputs": [],
   "source": [
    "l1 = [1, 2, 3]"
   ]
  },
  {
   "cell_type": "code",
   "execution_count": 46,
   "metadata": {},
   "outputs": [
    {
     "name": "stdout",
     "output_type": "stream",
     "text": [
      "id(140296137792832) = [1, 2, 3] - <class 'list'>\n"
     ]
    }
   ],
   "source": [
    "print_var_info(l1)"
   ]
  },
  {
   "cell_type": "code",
   "execution_count": 47,
   "metadata": {},
   "outputs": [],
   "source": [
    "l2 = l1.copy()"
   ]
  },
  {
   "cell_type": "code",
   "execution_count": 48,
   "metadata": {},
   "outputs": [
    {
     "name": "stdout",
     "output_type": "stream",
     "text": [
      "id(140296146656000) = [1, 2, 3] - <class 'list'>\n"
     ]
    }
   ],
   "source": [
    "print_var_info(l2)"
   ]
  },
  {
   "cell_type": "code",
   "execution_count": 49,
   "metadata": {},
   "outputs": [],
   "source": [
    "del l2[:]"
   ]
  },
  {
   "cell_type": "code",
   "execution_count": 50,
   "metadata": {},
   "outputs": [
    {
     "data": {
      "text/plain": [
       "[]"
      ]
     },
     "execution_count": 50,
     "metadata": {},
     "output_type": "execute_result"
    }
   ],
   "source": [
    "l2"
   ]
  },
  {
   "cell_type": "code",
   "execution_count": 51,
   "metadata": {},
   "outputs": [
    {
     "data": {
      "text/plain": [
       "[1, 2, 3]"
      ]
     },
     "execution_count": 51,
     "metadata": {},
     "output_type": "execute_result"
    }
   ],
   "source": [
    "l1"
   ]
  },
  {
   "cell_type": "markdown",
   "metadata": {},
   "source": [
    "### tuple\n",
    "https://docs.python.org/3/library/stdtypes.html#tuple"
   ]
  },
  {
   "cell_type": "code",
   "execution_count": 53,
   "metadata": {},
   "outputs": [],
   "source": [
    "t1 = tuple([1, 2, 3])"
   ]
  },
  {
   "cell_type": "code",
   "execution_count": 56,
   "metadata": {},
   "outputs": [],
   "source": [
    "t2 = (1, 2, 3, )"
   ]
  },
  {
   "cell_type": "code",
   "execution_count": 57,
   "metadata": {},
   "outputs": [],
   "source": [
    "t3 = 1, 2, 3"
   ]
  },
  {
   "cell_type": "code",
   "execution_count": 60,
   "metadata": {},
   "outputs": [
    {
     "name": "stdout",
     "output_type": "stream",
     "text": [
      "id(140296146478080) = (1, 2, 3) - <class 'tuple'>\n"
     ]
    }
   ],
   "source": [
    "print_var_info(t1)"
   ]
  },
  {
   "cell_type": "code",
   "execution_count": 61,
   "metadata": {},
   "outputs": [
    {
     "name": "stdout",
     "output_type": "stream",
     "text": [
      "id(140296129172032) = (1, 2, 3) - <class 'tuple'>\n"
     ]
    }
   ],
   "source": [
    "print_var_info(t2)"
   ]
  },
  {
   "cell_type": "code",
   "execution_count": 62,
   "metadata": {},
   "outputs": [
    {
     "name": "stdout",
     "output_type": "stream",
     "text": [
      "id(140296146440704) = (1, 2, 3) - <class 'tuple'>\n"
     ]
    }
   ],
   "source": [
    "print_var_info(t3)"
   ]
  },
  {
   "cell_type": "code",
   "execution_count": 64,
   "metadata": {},
   "outputs": [
    {
     "name": "stdout",
     "output_type": "stream",
     "text": [
      "id(140296146440704) = (1, 2, 3) - <class 'tuple'>\n"
     ]
    }
   ],
   "source": [
    "t4 = t3\n",
    "print_var_info(t4)"
   ]
  },
  {
   "cell_type": "code",
   "execution_count": 67,
   "metadata": {},
   "outputs": [],
   "source": [
    "t4 += 1, "
   ]
  },
  {
   "cell_type": "code",
   "execution_count": 68,
   "metadata": {
    "scrolled": true
   },
   "outputs": [
    {
     "name": "stdout",
     "output_type": "stream",
     "text": [
      "id(140296128640160) = (1, 2, 3, 1) - <class 'tuple'>\n"
     ]
    }
   ],
   "source": [
    "print_var_info(t4)"
   ]
  },
  {
   "cell_type": "code",
   "execution_count": 69,
   "metadata": {},
   "outputs": [
    {
     "name": "stdout",
     "output_type": "stream",
     "text": [
      "1 2\n"
     ]
    }
   ],
   "source": [
    "i1, i2 =  1, 2\n",
    "\n",
    "print(i1, i2)"
   ]
  },
  {
   "cell_type": "code",
   "execution_count": 70,
   "metadata": {},
   "outputs": [],
   "source": [
    "i1 = 1,"
   ]
  },
  {
   "cell_type": "code",
   "execution_count": 71,
   "metadata": {},
   "outputs": [
    {
     "ename": "TypeError",
     "evalue": "can only concatenate tuple (not \"int\") to tuple",
     "output_type": "error",
     "traceback": [
      "\u001b[0;31m---------------------------------------------------------------------------\u001b[0m",
      "\u001b[0;31mTypeError\u001b[0m                                 Traceback (most recent call last)",
      "\u001b[0;32m<ipython-input-71-af8f8b6ee65a>\u001b[0m in \u001b[0;36m<module>\u001b[0;34m\u001b[0m\n\u001b[0;32m----> 1\u001b[0;31m \u001b[0mi1\u001b[0m \u001b[0;34m+=\u001b[0m \u001b[0;36m1\u001b[0m\u001b[0;34m\u001b[0m\u001b[0;34m\u001b[0m\u001b[0m\n\u001b[0m",
      "\u001b[0;31mTypeError\u001b[0m: can only concatenate tuple (not \"int\") to tuple"
     ]
    }
   ],
   "source": [
    "i1 += 1"
   ]
  },
  {
   "cell_type": "markdown",
   "metadata": {},
   "source": [
    "### range\n",
    "https://docs.python.org/3/library/stdtypes.html#ranges"
   ]
  },
  {
   "cell_type": "code",
   "execution_count": 72,
   "metadata": {},
   "outputs": [
    {
     "data": {
      "text/plain": [
       "range(0, 1)"
      ]
     },
     "execution_count": 72,
     "metadata": {},
     "output_type": "execute_result"
    }
   ],
   "source": [
    "range(1)"
   ]
  },
  {
   "cell_type": "code",
   "execution_count": 73,
   "metadata": {},
   "outputs": [
    {
     "data": {
      "text/plain": [
       "range(1, 2)"
      ]
     },
     "execution_count": 73,
     "metadata": {},
     "output_type": "execute_result"
    }
   ],
   "source": [
    "range(1, 2)"
   ]
  },
  {
   "cell_type": "code",
   "execution_count": 76,
   "metadata": {},
   "outputs": [
    {
     "data": {
      "text/plain": [
       "range(1, 10, 2)"
      ]
     },
     "execution_count": 76,
     "metadata": {},
     "output_type": "execute_result"
    }
   ],
   "source": [
    "range(1, 10, 2)"
   ]
  },
  {
   "cell_type": "markdown",
   "metadata": {},
   "source": [
    "## Text Sequence Type"
   ]
  },
  {
   "cell_type": "markdown",
   "metadata": {},
   "source": [
    "### str\n",
    "https://docs.python.org/3/library/stdtypes.html#str"
   ]
  },
  {
   "cell_type": "code",
   "execution_count": 81,
   "metadata": {},
   "outputs": [
    {
     "name": "stdout",
     "output_type": "stream",
     "text": [
      "id(140296128687920) = 'sdadasdasdad sdsadasd' - <class 'str'>\n"
     ]
    }
   ],
   "source": [
    "s1 = \"sdadasdasdad sdsadasd\"\n",
    "print_var_info(s1)"
   ]
  },
  {
   "cell_type": "code",
   "execution_count": 82,
   "metadata": {},
   "outputs": [
    {
     "name": "stdout",
     "output_type": "stream",
     "text": [
      "id(140296128738688) = 'sdadasdasdad sdsadasd!' - <class 'str'>\n"
     ]
    }
   ],
   "source": [
    "s1 += \"!\"\n",
    "print_var_info(s1)"
   ]
  },
  {
   "cell_type": "code",
   "execution_count": 84,
   "metadata": {},
   "outputs": [
    {
     "name": "stdout",
     "output_type": "stream",
     "text": [
      "id(140296128738688) = 'sdadasdasdad sdsadasd!' - <class 'str'>\n",
      "id(140296128738688) = 'sdadasdasdad sdsadasd!' - <class 'str'>\n",
      "id(140296128739968) = 'sdadasdasdad sdsadasd!<>' - <class 'str'>\n"
     ]
    }
   ],
   "source": [
    "s2 = s1\n",
    "print_var_info(s2)\n",
    "\n",
    "s2 += \"<>\"\n",
    "print_var_info(s1)\n",
    "print_var_info(s2)\n"
   ]
  },
  {
   "cell_type": "code",
   "execution_count": 85,
   "metadata": {},
   "outputs": [
    {
     "data": {
      "text/plain": [
       "'1, 2, 3'"
      ]
     },
     "execution_count": 85,
     "metadata": {},
     "output_type": "execute_result"
    }
   ],
   "source": [
    "\", \".join([\"1\", \"2\", \"3\"])"
   ]
  },
  {
   "cell_type": "code",
   "execution_count": 86,
   "metadata": {},
   "outputs": [
    {
     "data": {
      "text/plain": [
       "'<1>: 2! 3'"
      ]
     },
     "execution_count": 86,
     "metadata": {},
     "output_type": "execute_result"
    }
   ],
   "source": [
    "\"<%s>: %s! %s\" % (\"1\", \"2\", \"3\")"
   ]
  },
  {
   "cell_type": "markdown",
   "metadata": {},
   "source": [
    "## Set Types\n",
    "https://docs.python.org/3/library/stdtypes.html#set-types-set-frozenset"
   ]
  },
  {
   "cell_type": "markdown",
   "metadata": {},
   "source": [
    "### set\n",
    "https://docs.python.org/3/library/stdtypes.html#set"
   ]
  },
  {
   "cell_type": "code",
   "execution_count": 87,
   "metadata": {},
   "outputs": [
    {
     "name": "stdout",
     "output_type": "stream",
     "text": [
      "id(140296137864576) = {1, 2, 3} - <class 'set'>\n"
     ]
    }
   ],
   "source": [
    "se1 = {1, 2, 3, 1}\n",
    "print_var_info(se1)"
   ]
  },
  {
   "cell_type": "code",
   "execution_count": 89,
   "metadata": {},
   "outputs": [
    {
     "name": "stdout",
     "output_type": "stream",
     "text": [
      "id(140296137864576) = {1, 2, 3} - <class 'set'>\n"
     ]
    }
   ],
   "source": [
    "se1.add(1)\n",
    "print_var_info(se1)"
   ]
  },
  {
   "cell_type": "code",
   "execution_count": 90,
   "metadata": {},
   "outputs": [
    {
     "name": "stdout",
     "output_type": "stream",
     "text": [
      "id(140296137864576) = {'ssdsdsd', 1, 2, 3} - <class 'set'>\n"
     ]
    }
   ],
   "source": [
    "se1.add(\"ssdsdsd\")\n",
    "print_var_info(se1)"
   ]
  },
  {
   "cell_type": "markdown",
   "metadata": {},
   "source": [
    "### frozenset\n",
    "https://docs.python.org/3/library/stdtypes.html#frozenset"
   ]
  },
  {
   "cell_type": "code",
   "execution_count": 92,
   "metadata": {},
   "outputs": [
    {
     "name": "stdout",
     "output_type": "stream",
     "text": [
      "id(140296137865472) = frozenset({1, 2, 3}) - <class 'frozenset'>\n"
     ]
    }
   ],
   "source": [
    "fs1 = frozenset([1, 2, 3, 1])\n",
    "print_var_info(fs1)"
   ]
  },
  {
   "cell_type": "code",
   "execution_count": 93,
   "metadata": {},
   "outputs": [
    {
     "ename": "AttributeError",
     "evalue": "'frozenset' object has no attribute 'add'",
     "output_type": "error",
     "traceback": [
      "\u001b[0;31m---------------------------------------------------------------------------\u001b[0m",
      "\u001b[0;31mAttributeError\u001b[0m                            Traceback (most recent call last)",
      "\u001b[0;32m<ipython-input-93-f01d0a48b3cb>\u001b[0m in \u001b[0;36m<module>\u001b[0;34m\u001b[0m\n\u001b[0;32m----> 1\u001b[0;31m \u001b[0mfs1\u001b[0m\u001b[0;34m.\u001b[0m\u001b[0madd\u001b[0m\u001b[0;34m(\u001b[0m\u001b[0;36m1\u001b[0m\u001b[0;34m)\u001b[0m\u001b[0;34m\u001b[0m\u001b[0;34m\u001b[0m\u001b[0m\n\u001b[0m\u001b[1;32m      2\u001b[0m \u001b[0mprint_var_info\u001b[0m\u001b[0;34m(\u001b[0m\u001b[0mfs1\u001b[0m\u001b[0;34m)\u001b[0m\u001b[0;34m\u001b[0m\u001b[0;34m\u001b[0m\u001b[0m\n",
      "\u001b[0;31mAttributeError\u001b[0m: 'frozenset' object has no attribute 'add'"
     ]
    }
   ],
   "source": [
    "fs1.add(1)\n",
    "print_var_info(fs1)"
   ]
  },
  {
   "cell_type": "code",
   "execution_count": null,
   "metadata": {},
   "outputs": [],
   "source": []
  },
  {
   "cell_type": "markdown",
   "metadata": {},
   "source": [
    "## Binary Sequence Types\n",
    "https://docs.python.org/3/library/stdtypes.html#binary-sequence-types-bytes-bytearray-memoryview"
   ]
  },
  {
   "cell_type": "markdown",
   "metadata": {},
   "source": [
    "## bytes\n",
    "https://docs.python.org/3/library/stdtypes.html#bytes"
   ]
  },
  {
   "cell_type": "code",
   "execution_count": 94,
   "metadata": {},
   "outputs": [
    {
     "name": "stdout",
     "output_type": "stream",
     "text": [
      "id(140296128770544) = b'sadsasdsa sadsdasdasd' - <class 'bytes'>\n"
     ]
    }
   ],
   "source": [
    "print_var_info(b\"sadsasdsa sadsdasdasd\")"
   ]
  },
  {
   "cell_type": "code",
   "execution_count": 95,
   "metadata": {},
   "outputs": [
    {
     "name": "stdout",
     "output_type": "stream",
     "text": [
      "id(140296128782832) = 'sdsadas sdsds' - <class 'str'>\n"
     ]
    }
   ],
   "source": [
    "print_var_info(u\"sdsadas sdsds\")"
   ]
  },
  {
   "cell_type": "code",
   "execution_count": 96,
   "metadata": {},
   "outputs": [
    {
     "ename": "SyntaxError",
     "evalue": "bytes can only contain ASCII literal characters. (<ipython-input-96-801c8b35335d>, line 1)",
     "output_type": "error",
     "traceback": [
      "\u001b[0;36m  File \u001b[0;32m\"<ipython-input-96-801c8b35335d>\"\u001b[0;36m, line \u001b[0;32m1\u001b[0m\n\u001b[0;31m    b1 = b\"Яндекс — облегченная версия поисковой системы\"\u001b[0m\n\u001b[0m         ^\u001b[0m\n\u001b[0;31mSyntaxError\u001b[0m\u001b[0;31m:\u001b[0m bytes can only contain ASCII literal characters.\n"
     ]
    }
   ],
   "source": [
    "b1 = b\"Яндекс — облегченная версия поисковой системы\""
   ]
  },
  {
   "cell_type": "code",
   "execution_count": 99,
   "metadata": {},
   "outputs": [
    {
     "name": "stdout",
     "output_type": "stream",
     "text": [
      "id(140295765060784) = b'\\xd0\\xaf\\xd0\\xbd\\xd0\\xb4\\xd0\\xb5\\xd0\\xba\\xd1\\x81 \\xe2\\x80\\x94 \\xd0\\xbe\\xd0\\xb1\\xd0\\xbb\\xd0\\xb5\\xd0\\xb3\\xd1\\x87\\xd0\\xb5\\xd0\\xbd\\xd0\\xbd\\xd0\\xb0\\xd1\\x8f \\xd0\\xb2\\xd0\\xb5\\xd1\\x80\\xd1\\x81\\xd0\\xb8\\xd1\\x8f \\xd0\\xbf\\xd0\\xbe\\xd0\\xb8\\xd1\\x81\\xd0\\xba\\xd0\\xbe\\xd0\\xb2\\xd0\\xbe\\xd0\\xb9 \\xd1\\x81\\xd0\\xb8\\xd1\\x81\\xd1\\x82\\xd0\\xb5\\xd0\\xbc\\xd1\\x8b' - <class 'bytes'>\n"
     ]
    }
   ],
   "source": [
    "b1 = \"Яндекс — облегченная версия поисковой системы\".encode(\"utf-8\")\n",
    "print_var_info(b1)"
   ]
  },
  {
   "cell_type": "code",
   "execution_count": 100,
   "metadata": {},
   "outputs": [
    {
     "name": "stdout",
     "output_type": "stream",
     "text": [
      "id(140295763065472) = 'Яндекс — облегченная версия поисковой системы' - <class 'str'>\n"
     ]
    }
   ],
   "source": [
    "print_var_info(b1.decode(\"utf-8\"))"
   ]
  },
  {
   "cell_type": "code",
   "execution_count": 103,
   "metadata": {},
   "outputs": [],
   "source": [
    "b1 += b1"
   ]
  },
  {
   "cell_type": "code",
   "execution_count": 104,
   "metadata": {},
   "outputs": [
    {
     "name": "stdout",
     "output_type": "stream",
     "text": [
      "id(140295777800240) = b'\\xd0\\xaf\\xd0\\xbd\\xd0\\xb4\\xd0\\xb5\\xd0\\xba\\xd1\\x81 \\xe2\\x80\\x94 \\xd0\\xbe\\xd0\\xb1\\xd0\\xbb\\xd0\\xb5\\xd0\\xb3\\xd1\\x87\\xd0\\xb5\\xd0\\xbd\\xd0\\xbd\\xd0\\xb0\\xd1\\x8f \\xd0\\xb2\\xd0\\xb5\\xd1\\x80\\xd1\\x81\\xd0\\xb8\\xd1\\x8f \\xd0\\xbf\\xd0\\xbe\\xd0\\xb8\\xd1\\x81\\xd0\\xba\\xd0\\xbe\\xd0\\xb2\\xd0\\xbe\\xd0\\xb9 \\xd1\\x81\\xd0\\xb8\\xd1\\x81\\xd1\\x82\\xd0\\xb5\\xd0\\xbc\\xd1\\x8b\\xd0\\xaf\\xd0\\xbd\\xd0\\xb4\\xd0\\xb5\\xd0\\xba\\xd1\\x81 \\xe2\\x80\\x94 \\xd0\\xbe\\xd0\\xb1\\xd0\\xbb\\xd0\\xb5\\xd0\\xb3\\xd1\\x87\\xd0\\xb5\\xd0\\xbd\\xd0\\xbd\\xd0\\xb0\\xd1\\x8f \\xd0\\xb2\\xd0\\xb5\\xd1\\x80\\xd1\\x81\\xd0\\xb8\\xd1\\x8f \\xd0\\xbf\\xd0\\xbe\\xd0\\xb8\\xd1\\x81\\xd0\\xba\\xd0\\xbe\\xd0\\xb2\\xd0\\xbe\\xd0\\xb9 \\xd1\\x81\\xd0\\xb8\\xd1\\x81\\xd1\\x82\\xd0\\xb5\\xd0\\xbc\\xd1\\x8b' - <class 'bytes'>\n"
     ]
    }
   ],
   "source": [
    "print_var_info(b1)"
   ]
  },
  {
   "cell_type": "markdown",
   "metadata": {},
   "source": [
    "## bytearray\n",
    "https://docs.python.org/3/library/stdtypes.html#bytearray"
   ]
  },
  {
   "cell_type": "code",
   "execution_count": 102,
   "metadata": {},
   "outputs": [
    {
     "name": "stdout",
     "output_type": "stream",
     "text": [
      "id(140295777307440) = bytearray(b'\\xd0\\xaf\\xd0\\xbd\\xd0\\xb4\\xd0\\xb5\\xd0\\xba\\xd1\\x81 \\xe2\\x80\\x94 \\xd0\\xbe\\xd0\\xb1\\xd0\\xbb\\xd0\\xb5\\xd0\\xb3\\xd1\\x87\\xd0\\xb5\\xd0\\xbd\\xd0\\xbd\\xd0\\xb0\\xd1\\x8f \\xd0\\xb2\\xd0\\xb5\\xd1\\x80\\xd1\\x81\\xd0\\xb8\\xd1\\x8f \\xd0\\xbf\\xd0\\xbe\\xd0\\xb8\\xd1\\x81\\xd0\\xba\\xd0\\xbe\\xd0\\xb2\\xd0\\xbe\\xd0\\xb9 \\xd1\\x81\\xd0\\xb8\\xd1\\x81\\xd1\\x82\\xd0\\xb5\\xd0\\xbc\\xd1\\x8b') - <class 'bytearray'>\n",
      "id(140295777307440) = bytearray(b'\\xd0\\xaf\\xd0\\xbd\\xd0\\xb4\\xd0\\xb5\\xd0\\xba\\xd1\\x81 \\xe2\\x80\\x94 \\xd0\\xbe\\xd0\\xb1\\xd0\\xbb\\xd0\\xb5\\xd0\\xb3\\xd1\\x87\\xd0\\xb5\\xd0\\xbd\\xd0\\xbd\\xd0\\xb0\\xd1\\x8f \\xd0\\xb2\\xd0\\xb5\\xd1\\x80\\xd1\\x81\\xd0\\xb8\\xd1\\x8f \\xd0\\xbf\\xd0\\xbe\\xd0\\xb8\\xd1\\x81\\xd0\\xba\\xd0\\xbe\\xd0\\xb2\\xd0\\xbe\\xd0\\xb9 \\xd1\\x81\\xd0\\xb8\\xd1\\x81\\xd1\\x82\\xd0\\xb5\\xd0\\xbc\\xd1\\x8b1') - <class 'bytearray'>\n"
     ]
    }
   ],
   "source": [
    "ba1 = bytearray(\"Яндекс — облегченная версия поисковой системы\", \"utf-8\")\n",
    "print_var_info(ba1)\n",
    "\n",
    "ba1 += b\"1\"\n",
    "print_var_info(ba1)"
   ]
  },
  {
   "cell_type": "markdown",
   "metadata": {},
   "source": [
    "## memoryview\n",
    "https://docs.python.org/3/library/stdtypes.html#memoryview"
   ]
  },
  {
   "cell_type": "code",
   "execution_count": 105,
   "metadata": {},
   "outputs": [
    {
     "name": "stdout",
     "output_type": "stream",
     "text": [
      "id(48161872) - <class 'bytes'>\n",
      "bytes 100000 0.09521603584289551\n",
      "\n",
      "id(140296129228224) - <class 'memoryview'>\n",
      "bytes 100000 0.007601261138916016\n",
      "\n",
      "id(48403648) - <class 'bytes'>\n",
      "bytes 200000 0.3763618469238281\n",
      "\n",
      "id(140296129228416) - <class 'memoryview'>\n",
      "bytes 200000 0.014789342880249023\n",
      "\n",
      "id(48603696) - <class 'bytes'>\n",
      "bytes 300000 0.8197019100189209\n",
      "\n",
      "id(140296129228224) - <class 'memoryview'>\n",
      "bytes 300000 0.02259039878845215\n",
      "\n",
      "id(48903744) - <class 'bytes'>\n",
      "bytes 400000 1.664531946182251\n",
      "\n",
      "id(140296129228416) - <class 'memoryview'>\n",
      "bytes 400000 0.033272743225097656\n",
      "\n"
     ]
    }
   ],
   "source": [
    "import time\n",
    "\n",
    "# Remove one byte per cycle into bytes/memoryview variables\n",
    "for n in (100000, 200000, 300000, 400000):\n",
    "    data = b'x' * n\n",
    "    \n",
    "    b = data\n",
    "    print_var_info(b, no_print_value=True)\n",
    "    start = time.time()\n",
    "    while b:\n",
    "        b = b[1:]\n",
    "    print('bytes', n, (time.time() - start), end=\"\\n\\n\")\n",
    "    \n",
    "    b = memoryview(data)\n",
    "    print_var_info(b, no_print_value=True)\n",
    "    start = time.time()\n",
    "    while b:\n",
    "        b = b[1:]\n",
    "    print('bytes', n, (time.time() - start), end=\"\\n\\n\")\n"
   ]
  },
  {
   "cell_type": "markdown",
   "metadata": {},
   "source": [
    "## Mapping Types\n",
    "### dict\n",
    "https://docs.python.org/3/library/stdtypes.html#dict"
   ]
  },
  {
   "cell_type": "code",
   "execution_count": 107,
   "metadata": {},
   "outputs": [
    {
     "name": "stdout",
     "output_type": "stream",
     "text": [
      "id(140295777294464) = {'a': 1, 'b': 3, 'c': None} - <class 'dict'>\n"
     ]
    }
   ],
   "source": [
    "d1 = {\"a\": 1, \"b\": 3, \"c\": None}\n",
    "print_var_info(d1)"
   ]
  },
  {
   "cell_type": "code",
   "execution_count": 108,
   "metadata": {},
   "outputs": [
    {
     "name": "stdout",
     "output_type": "stream",
     "text": [
      "id(140295777294464) = {'a': 2, 'b': 3, 'c': None} - <class 'dict'>\n"
     ]
    }
   ],
   "source": [
    "d1[\"a\"] = 2\n",
    "print_var_info(d1)"
   ]
  },
  {
   "cell_type": "code",
   "execution_count": 109,
   "metadata": {},
   "outputs": [
    {
     "name": "stdout",
     "output_type": "stream",
     "text": [
      "id(140295777295360) = {'a': 2, 'b': 3, 'c': None} - <class 'dict'>\n"
     ]
    }
   ],
   "source": [
    "d2 = d1.copy()\n",
    "print_var_info(d2)"
   ]
  },
  {
   "cell_type": "code",
   "execution_count": 110,
   "metadata": {},
   "outputs": [],
   "source": [
    "del d2[\"a\"]"
   ]
  },
  {
   "cell_type": "code",
   "execution_count": 111,
   "metadata": {},
   "outputs": [
    {
     "name": "stdout",
     "output_type": "stream",
     "text": [
      "id(140295777294464) = {'a': 2, 'b': 3, 'c': None} - <class 'dict'>\n",
      "id(140295777295360) = {'b': 3, 'c': None} - <class 'dict'>\n"
     ]
    }
   ],
   "source": [
    "print_var_info(d1)\n",
    "print_var_info(d2)"
   ]
  }
 ],
 "metadata": {
  "kernelspec": {
   "display_name": "Python 3",
   "language": "python",
   "name": "python3"
  },
  "language_info": {
   "codemirror_mode": {
    "name": "ipython",
    "version": 3
   },
   "file_extension": ".py",
   "mimetype": "text/x-python",
   "name": "python",
   "nbconvert_exporter": "python",
   "pygments_lexer": "ipython3",
   "version": "3.8.5"
  }
 },
 "nbformat": 4,
 "nbformat_minor": 4
}

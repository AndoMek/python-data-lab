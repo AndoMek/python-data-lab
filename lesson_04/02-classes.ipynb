{
 "cells": [
  {
   "cell_type": "markdown",
   "metadata": {
    "ExecuteTime": {
     "end_time": "2021-01-19T21:57:52.640462Z",
     "start_time": "2021-01-19T21:57:52.638192Z"
    }
   },
   "source": [
    "# Classes"
   ]
  },
  {
   "cell_type": "markdown",
   "metadata": {
    "ExecuteTime": {
     "end_time": "2021-01-19T22:27:44.193906Z",
     "start_time": "2021-01-19T22:27:44.191358Z"
    }
   },
   "source": [
    "## Create new instance of class\n",
    "[object.__new__(cls[, ...])](https://docs.python.org/3/reference/datamodel.html#object.__new__)"
   ]
  },
  {
   "cell_type": "code",
   "execution_count": 5,
   "metadata": {
    "ExecuteTime": {
     "end_time": "2021-01-20T09:10:38.845731Z",
     "start_time": "2021-01-20T09:10:38.842172Z"
    }
   },
   "outputs": [],
   "source": [
    "import random\n",
    "\n",
    "\n",
    "class Singleton:\n",
    "    \n",
    "    def __new__(cls, *args, **kwargs):\n",
    "        print(f\"Run class constructor for class {cls.__class__}, args: {args}, kwargs: {kwargs}\")\n",
    "        \n",
    "        if not hasattr(cls, '_instance'):\n",
    "            print(\"Define new class instance\")\n",
    "            cls._instance = super().__new__(cls, *args, **kwargs)\n",
    "            \n",
    "        if not isinstance(cls._instance, cls):\n",
    "            raise TypeError(f\"Instance of class {cls._instance} but expected {cls.__class__}\")\n",
    "            \n",
    "        return cls._instance\n",
    "\n",
    "    def __init__(self, *args, **kwargs):\n",
    "        print(f\"Initialise class {self.__class__}, instance {self._instance}, args: {args}, kwargs: {kwargs}\")\n",
    "        self._seed = random.randint(0, 100)\n",
    "        \n",
    "    @property\n",
    "    def instance(self):\n",
    "        return self._instance\n",
    "    \n",
    "    @property\n",
    "    def seed(self):\n",
    "        return self._seed\n"
   ]
  },
  {
   "cell_type": "code",
   "execution_count": null,
   "metadata": {},
   "outputs": [],
   "source": []
  },
  {
   "cell_type": "code",
   "execution_count": 2,
   "metadata": {
    "ExecuteTime": {
     "end_time": "2021-01-20T09:07:16.112568Z",
     "start_time": "2021-01-20T09:07:16.105706Z"
    },
    "scrolled": true
   },
   "outputs": [
    {
     "name": "stdout",
     "output_type": "stream",
     "text": [
      "Run class constructor for class <class 'type'>, args: (), kwargs: {}\n",
      "Define new class instance\n",
      "Initialise class <class '__main__.Singleton'>, instance <__main__.Singleton object at 0x7fb288ac9430>, args: (), kwargs: {}\n"
     ]
    },
    {
     "data": {
      "text/plain": [
       "(140404773917744, <__main__.Singleton at 0x7fb288ac9430>, 20)"
      ]
     },
     "execution_count": 2,
     "metadata": {},
     "output_type": "execute_result"
    }
   ],
   "source": [
    "s1 = Singleton()\n",
    "\n",
    "id(s1), s1.instance, s1.seed"
   ]
  },
  {
   "cell_type": "code",
   "execution_count": 3,
   "metadata": {
    "ExecuteTime": {
     "end_time": "2021-01-20T09:07:17.997020Z",
     "start_time": "2021-01-20T09:07:17.993357Z"
    },
    "scrolled": true
   },
   "outputs": [
    {
     "name": "stdout",
     "output_type": "stream",
     "text": [
      "Run class constructor for class <class 'type'>, args: (), kwargs: {}\n",
      "Initialise class <class '__main__.Singleton'>, instance <__main__.Singleton object at 0x7fb288ac9430>, args: (), kwargs: {}\n"
     ]
    },
    {
     "data": {
      "text/plain": [
       "(140404773917744, <__main__.Singleton at 0x7fb288ac9430>, 55)"
      ]
     },
     "execution_count": 3,
     "metadata": {},
     "output_type": "execute_result"
    }
   ],
   "source": [
    "s2 = Singleton()\n",
    "\n",
    "id(s2), s2.instance, s2.seed"
   ]
  },
  {
   "cell_type": "code",
   "execution_count": 4,
   "metadata": {
    "ExecuteTime": {
     "end_time": "2021-01-20T09:09:00.045801Z",
     "start_time": "2021-01-20T09:09:00.042033Z"
    }
   },
   "outputs": [
    {
     "data": {
      "text/plain": [
       "(140404773917744, <__main__.Singleton at 0x7fb288ac9430>, 55)"
      ]
     },
     "execution_count": 4,
     "metadata": {},
     "output_type": "execute_result"
    }
   ],
   "source": [
    "id(s1), s1.instance, s1.seed"
   ]
  },
  {
   "cell_type": "code",
   "execution_count": null,
   "metadata": {},
   "outputs": [],
   "source": []
  },
  {
   "cell_type": "code",
   "execution_count": null,
   "metadata": {},
   "outputs": [],
   "source": []
  },
  {
   "cell_type": "code",
   "execution_count": null,
   "metadata": {},
   "outputs": [],
   "source": []
  },
  {
   "cell_type": "markdown",
   "metadata": {},
   "source": [
    "### object.call"
   ]
  },
  {
   "cell_type": "code",
   "execution_count": 6,
   "metadata": {
    "ExecuteTime": {
     "end_time": "2021-01-20T09:13:05.580916Z",
     "start_time": "2021-01-20T09:13:05.578418Z"
    }
   },
   "outputs": [],
   "source": [
    "class Calculation:\n",
    "    def __init__(self, op=\"+\"):\n",
    "        print(f\"Initialise class {self.__class__}\")\n",
    "        self.op = op\n",
    "        \n",
    "    def __call__(self, a, b):\n",
    "        print(f\"Call class {self.__class__}\")\n",
    "        if self.op == \"+\":\n",
    "            return a + b\n",
    "        elif self.op == \"-\":\n",
    "            return a - b\n",
    "        \n",
    "        raise TypeError"
   ]
  },
  {
   "cell_type": "code",
   "execution_count": 7,
   "metadata": {
    "ExecuteTime": {
     "end_time": "2021-01-20T09:13:07.518429Z",
     "start_time": "2021-01-20T09:13:07.515745Z"
    }
   },
   "outputs": [
    {
     "name": "stdout",
     "output_type": "stream",
     "text": [
      "Initialise class <class '__main__.Calculation'>\n"
     ]
    }
   ],
   "source": [
    "calc = Calculation()"
   ]
  },
  {
   "cell_type": "code",
   "execution_count": 8,
   "metadata": {
    "ExecuteTime": {
     "end_time": "2021-01-20T09:13:13.629573Z",
     "start_time": "2021-01-20T09:13:13.626204Z"
    }
   },
   "outputs": [
    {
     "name": "stdout",
     "output_type": "stream",
     "text": [
      "Call class <class '__main__.Calculation'>\n"
     ]
    },
    {
     "data": {
      "text/plain": [
       "3"
      ]
     },
     "execution_count": 8,
     "metadata": {},
     "output_type": "execute_result"
    }
   ],
   "source": [
    "calc.__call__(1, 2)"
   ]
  },
  {
   "cell_type": "code",
   "execution_count": 9,
   "metadata": {
    "ExecuteTime": {
     "end_time": "2021-01-20T09:13:41.710148Z",
     "start_time": "2021-01-20T09:13:41.707434Z"
    }
   },
   "outputs": [
    {
     "name": "stdout",
     "output_type": "stream",
     "text": [
      "Call class <class '__main__.Calculation'>\n"
     ]
    },
    {
     "data": {
      "text/plain": [
       "3"
      ]
     },
     "execution_count": 9,
     "metadata": {},
     "output_type": "execute_result"
    }
   ],
   "source": [
    "calc(1, 2)"
   ]
  },
  {
   "cell_type": "code",
   "execution_count": 10,
   "metadata": {
    "ExecuteTime": {
     "end_time": "2021-01-20T09:15:22.446396Z",
     "start_time": "2021-01-20T09:15:22.442948Z"
    }
   },
   "outputs": [
    {
     "name": "stdout",
     "output_type": "stream",
     "text": [
      "Initialise class <class '__main__.Calculation'>\n",
      "Call class <class '__main__.Calculation'>\n"
     ]
    },
    {
     "data": {
      "text/plain": [
       "-1"
      ]
     },
     "execution_count": 10,
     "metadata": {},
     "output_type": "execute_result"
    }
   ],
   "source": [
    "Calculation(\"-\")(1, 2)"
   ]
  },
  {
   "cell_type": "code",
   "execution_count": 11,
   "metadata": {
    "ExecuteTime": {
     "end_time": "2021-01-20T09:15:37.135165Z",
     "start_time": "2021-01-20T09:15:37.130451Z"
    }
   },
   "outputs": [
    {
     "name": "stdout",
     "output_type": "stream",
     "text": [
      "Initialise class <class '__main__.Calculation'>\n",
      "Call class <class '__main__.Calculation'>\n"
     ]
    },
    {
     "data": {
      "text/plain": [
       "-1"
      ]
     },
     "execution_count": 11,
     "metadata": {},
     "output_type": "execute_result"
    }
   ],
   "source": [
    "Calculation(\"-\").__call__(1, 2)"
   ]
  },
  {
   "cell_type": "code",
   "execution_count": null,
   "metadata": {},
   "outputs": [],
   "source": []
  },
  {
   "cell_type": "code",
   "execution_count": null,
   "metadata": {},
   "outputs": [],
   "source": []
  },
  {
   "cell_type": "markdown",
   "metadata": {
    "ExecuteTime": {
     "end_time": "2021-01-19T21:58:06.111298Z",
     "start_time": "2021-01-19T21:58:06.109281Z"
    }
   },
   "source": [
    "## Abstract classes"
   ]
  },
  {
   "cell_type": "code",
   "execution_count": 12,
   "metadata": {
    "ExecuteTime": {
     "end_time": "2021-01-20T09:17:18.686228Z",
     "start_time": "2021-01-20T09:17:18.683297Z"
    }
   },
   "outputs": [],
   "source": [
    "class Employee:\n",
    "    def __init__(self, name, age):\n",
    "        self.name = name\n",
    "        self.age = age\n",
    "        \n",
    "    def position(self):\n",
    "        raise NotImplementedError\n"
   ]
  },
  {
   "cell_type": "code",
   "execution_count": 13,
   "metadata": {
    "ExecuteTime": {
     "end_time": "2021-01-20T09:17:24.444085Z",
     "start_time": "2021-01-20T09:17:24.442104Z"
    }
   },
   "outputs": [],
   "source": [
    "emp = Employee(\"Eve\", 18)"
   ]
  },
  {
   "cell_type": "code",
   "execution_count": 14,
   "metadata": {
    "ExecuteTime": {
     "end_time": "2021-01-20T09:17:30.927801Z",
     "start_time": "2021-01-20T09:17:30.890128Z"
    }
   },
   "outputs": [
    {
     "ename": "NotImplementedError",
     "evalue": "",
     "output_type": "error",
     "traceback": [
      "\u001b[0;31m---------------------------------------------------------------------------\u001b[0m",
      "\u001b[0;31mNotImplementedError\u001b[0m                       Traceback (most recent call last)",
      "\u001b[0;32m<ipython-input-14-6da1285ce571>\u001b[0m in \u001b[0;36m<module>\u001b[0;34m\u001b[0m\n\u001b[0;32m----> 1\u001b[0;31m \u001b[0memp\u001b[0m\u001b[0;34m.\u001b[0m\u001b[0mposition\u001b[0m\u001b[0;34m(\u001b[0m\u001b[0;34m)\u001b[0m\u001b[0;34m\u001b[0m\u001b[0;34m\u001b[0m\u001b[0m\n\u001b[0m",
      "\u001b[0;32m<ipython-input-12-76cbee4ebd0b>\u001b[0m in \u001b[0;36mposition\u001b[0;34m(self)\u001b[0m\n\u001b[1;32m      5\u001b[0m \u001b[0;34m\u001b[0m\u001b[0m\n\u001b[1;32m      6\u001b[0m     \u001b[0;32mdef\u001b[0m \u001b[0mposition\u001b[0m\u001b[0;34m(\u001b[0m\u001b[0mself\u001b[0m\u001b[0;34m)\u001b[0m\u001b[0;34m:\u001b[0m\u001b[0;34m\u001b[0m\u001b[0;34m\u001b[0m\u001b[0m\n\u001b[0;32m----> 7\u001b[0;31m         \u001b[0;32mraise\u001b[0m \u001b[0mNotImplementedError\u001b[0m\u001b[0;34m\u001b[0m\u001b[0;34m\u001b[0m\u001b[0m\n\u001b[0m",
      "\u001b[0;31mNotImplementedError\u001b[0m: "
     ]
    }
   ],
   "source": [
    "emp.position()"
   ]
  },
  {
   "cell_type": "code",
   "execution_count": 15,
   "metadata": {
    "ExecuteTime": {
     "end_time": "2021-01-20T09:17:49.932844Z",
     "start_time": "2021-01-20T09:17:49.930581Z"
    }
   },
   "outputs": [],
   "source": [
    "class Manager(Employee):\n",
    "    def position(self):\n",
    "        return \"Manager\"\n",
    "    \n",
    "class Developer(Employee):\n",
    "    def position(self):\n",
    "        return \"Developer\""
   ]
  },
  {
   "cell_type": "code",
   "execution_count": 16,
   "metadata": {
    "ExecuteTime": {
     "end_time": "2021-01-20T09:17:57.037442Z",
     "start_time": "2021-01-20T09:17:57.034324Z"
    }
   },
   "outputs": [
    {
     "data": {
      "text/plain": [
       "('Alice', 22, 'Developer')"
      ]
     },
     "execution_count": 16,
     "metadata": {},
     "output_type": "execute_result"
    }
   ],
   "source": [
    "dev = Developer(\"Alice\", 22)\n",
    "dev.name, dev.age, dev.position()\n"
   ]
  },
  {
   "cell_type": "code",
   "execution_count": 17,
   "metadata": {
    "ExecuteTime": {
     "end_time": "2021-01-20T09:17:59.405626Z",
     "start_time": "2021-01-20T09:17:59.402732Z"
    }
   },
   "outputs": [
    {
     "data": {
      "text/plain": [
       "('Bob', 25, 'Manager')"
      ]
     },
     "execution_count": 17,
     "metadata": {},
     "output_type": "execute_result"
    }
   ],
   "source": [
    "manager = Manager(\"Bob\", 25)\n",
    "manager.name, manager.age, manager.position()\n"
   ]
  },
  {
   "cell_type": "code",
   "execution_count": null,
   "metadata": {},
   "outputs": [],
   "source": []
  },
  {
   "cell_type": "markdown",
   "metadata": {
    "ExecuteTime": {
     "end_time": "2021-01-19T23:28:05.988774Z",
     "start_time": "2021-01-19T23:28:05.985894Z"
    }
   },
   "source": [
    "### abc — Abstract Base Classes\n",
    "\n",
    "https://docs.python.org/3/library/abc.html#module-abc"
   ]
  },
  {
   "cell_type": "code",
   "execution_count": null,
   "metadata": {},
   "outputs": [],
   "source": []
  },
  {
   "cell_type": "code",
   "execution_count": 18,
   "metadata": {
    "ExecuteTime": {
     "end_time": "2021-01-20T09:21:01.376293Z",
     "start_time": "2021-01-20T09:21:01.372652Z"
    }
   },
   "outputs": [],
   "source": [
    "from abc import ABCMeta, abstractmethod\n",
    "\n",
    "\n",
    "class Employee(metaclass=ABCMeta):\n",
    "    def __init__(self, name, age):\n",
    "        self.name = name\n",
    "        self.age = age\n",
    "            \n",
    "    @abstractmethod\n",
    "    def position(self):\n",
    "        pass"
   ]
  },
  {
   "cell_type": "code",
   "execution_count": 19,
   "metadata": {
    "ExecuteTime": {
     "end_time": "2021-01-20T09:21:06.303308Z",
     "start_time": "2021-01-20T09:21:06.298213Z"
    }
   },
   "outputs": [
    {
     "ename": "TypeError",
     "evalue": "Can't instantiate abstract class Employee with abstract methods position",
     "output_type": "error",
     "traceback": [
      "\u001b[0;31m---------------------------------------------------------------------------\u001b[0m",
      "\u001b[0;31mTypeError\u001b[0m                                 Traceback (most recent call last)",
      "\u001b[0;32m<ipython-input-19-d633aabf2862>\u001b[0m in \u001b[0;36m<module>\u001b[0;34m\u001b[0m\n\u001b[0;32m----> 1\u001b[0;31m \u001b[0memp\u001b[0m \u001b[0;34m=\u001b[0m \u001b[0mEmployee\u001b[0m\u001b[0;34m(\u001b[0m\u001b[0;34m\"Eve\"\u001b[0m\u001b[0;34m,\u001b[0m \u001b[0;36m18\u001b[0m\u001b[0;34m)\u001b[0m\u001b[0;34m\u001b[0m\u001b[0;34m\u001b[0m\u001b[0m\n\u001b[0m",
      "\u001b[0;31mTypeError\u001b[0m: Can't instantiate abstract class Employee with abstract methods position"
     ]
    }
   ],
   "source": [
    "emp = Employee(\"Eve\", 18)"
   ]
  },
  {
   "cell_type": "code",
   "execution_count": 20,
   "metadata": {
    "ExecuteTime": {
     "end_time": "2021-01-20T09:22:23.196355Z",
     "start_time": "2021-01-20T09:22:23.194214Z"
    }
   },
   "outputs": [],
   "source": [
    "class Manager(Employee):\n",
    "    def position(self):\n",
    "        return \"Manager\"\n",
    "    \n",
    "class Developer(Employee):\n",
    "    def position(self):\n",
    "        return \"Developer\""
   ]
  },
  {
   "cell_type": "code",
   "execution_count": 21,
   "metadata": {
    "ExecuteTime": {
     "end_time": "2021-01-20T09:22:25.149951Z",
     "start_time": "2021-01-20T09:22:25.146599Z"
    }
   },
   "outputs": [
    {
     "data": {
      "text/plain": [
       "('Alice', 22, 'Developer')"
      ]
     },
     "execution_count": 21,
     "metadata": {},
     "output_type": "execute_result"
    }
   ],
   "source": [
    "dev = Developer(\"Alice\", 22)\n",
    "dev.name, dev.age, dev.position()\n"
   ]
  },
  {
   "cell_type": "code",
   "execution_count": 22,
   "metadata": {
    "ExecuteTime": {
     "end_time": "2021-01-20T09:22:28.606001Z",
     "start_time": "2021-01-20T09:22:28.602927Z"
    }
   },
   "outputs": [
    {
     "data": {
      "text/plain": [
       "('Bob', 25, 'Manager')"
      ]
     },
     "execution_count": 22,
     "metadata": {},
     "output_type": "execute_result"
    }
   ],
   "source": [
    "manager = Manager(\"Bob\", 25)\n",
    "manager.name, manager.age, manager.position()\n"
   ]
  },
  {
   "cell_type": "code",
   "execution_count": null,
   "metadata": {},
   "outputs": [],
   "source": []
  },
  {
   "cell_type": "markdown",
   "metadata": {},
   "source": [
    "### Abstract Base Classes for Containers\n",
    "\n",
    "[collections.abc](https://docs.python.org/3/library/collections.abc.html)"
   ]
  },
  {
   "cell_type": "code",
   "execution_count": 5,
   "metadata": {
    "ExecuteTime": {
     "end_time": "2021-01-20T09:26:06.780342Z",
     "start_time": "2021-01-20T09:26:06.778514Z"
    }
   },
   "outputs": [],
   "source": [
    "jd_raw = '{\"a\": 1, \"b\": \"XXX\", \"c\": [1, 2, 3]}'"
   ]
  },
  {
   "cell_type": "code",
   "execution_count": 16,
   "metadata": {},
   "outputs": [],
   "source": [
    "class ExtendedMapping(Mapping):\n",
    "    def __init__(self, m):\n",
    "        self.m = m\n",
    "        if not isinstance(m, Mapping):\n",
    "            raise TypeError\n",
    "\n",
    "    def __len__(self) -> int:\n",
    "        return len(self.m)\n",
    "\n",
    "    def __iter__(self) -> Mapping:\n",
    "        yield from self.m\n",
    "\n",
    "    def __getitem__(self, key: str) -> str:\n",
    "        print(type(key))\n",
    "        return self.m[key]"
   ]
  },
  {
   "cell_type": "code",
   "execution_count": 2,
   "metadata": {
    "ExecuteTime": {
     "end_time": "2021-01-20T09:28:55.854031Z",
     "start_time": "2021-01-20T09:28:55.850681Z"
    }
   },
   "outputs": [],
   "source": [
    "from collections.abc import Mapping\n",
    "import json\n",
    "\n",
    "\n",
    "class Json2Dict(Mapping):\n",
    "    def __init__(self, json_string):\n",
    "        j = json.loads(json_string)\n",
    "        \n",
    "        if not isinstance(j, Mapping):\n",
    "            raise ValueError(f\"Expected json-object but encoded to {type(j)}\")\n",
    "\n",
    "        self._json_object = j\n",
    "\n",
    "    def __getitem__(self, k):\n",
    "        return self._json_object[k]\n",
    "\n",
    "    def __len__(self):\n",
    "        return len(self._json_object)\n",
    "\n",
    "    def __iter__(self):\n",
    "        yield from self._json_object"
   ]
  },
  {
   "cell_type": "code",
   "execution_count": 6,
   "metadata": {
    "ExecuteTime": {
     "end_time": "2021-01-20T09:28:57.390095Z",
     "start_time": "2021-01-20T09:28:57.387307Z"
    }
   },
   "outputs": [
    {
     "data": {
      "text/plain": [
       "<__main__.Json2Dict at 0x7f1d18714d00>"
      ]
     },
     "execution_count": 6,
     "metadata": {},
     "output_type": "execute_result"
    }
   ],
   "source": [
    "jd = Json2Dict(jd_raw)\n",
    "\n",
    "jd"
   ]
  },
  {
   "cell_type": "code",
   "execution_count": 27,
   "metadata": {
    "ExecuteTime": {
     "end_time": "2021-01-20T09:28:59.885370Z",
     "start_time": "2021-01-20T09:28:59.882658Z"
    }
   },
   "outputs": [
    {
     "data": {
      "text/plain": [
       "1"
      ]
     },
     "execution_count": 27,
     "metadata": {},
     "output_type": "execute_result"
    }
   ],
   "source": [
    "jd[\"a\"]"
   ]
  },
  {
   "cell_type": "code",
   "execution_count": 7,
   "metadata": {},
   "outputs": [],
   "source": [
    "d1 = {'a': {'b': {'c': 1, 'd': 2}, 'e': 3}, 'f': 4}"
   ]
  },
  {
   "cell_type": "code",
   "execution_count": 17,
   "metadata": {},
   "outputs": [],
   "source": [
    " d=ExtendedMapping(d1)"
   ]
  },
  {
   "cell_type": "code",
   "execution_count": 18,
   "metadata": {},
   "outputs": [
    {
     "name": "stdout",
     "output_type": "stream",
     "text": [
      "<class 'str'>\n"
     ]
    },
    {
     "data": {
      "text/plain": [
       "{'b': {'c': 1, 'd': 2}, 'e': 3}"
      ]
     },
     "execution_count": 18,
     "metadata": {},
     "output_type": "execute_result"
    }
   ],
   "source": [
    "d['a']"
   ]
  },
  {
   "cell_type": "code",
   "execution_count": 21,
   "metadata": {},
   "outputs": [
    {
     "ename": "SyntaxError",
     "evalue": "invalid syntax (<ipython-input-21-6318e03728ec>, line 1)",
     "output_type": "error",
     "traceback": [
      "\u001b[0;36m  File \u001b[0;32m\"<ipython-input-21-6318e03728ec>\"\u001b[0;36m, line \u001b[0;32m1\u001b[0m\n\u001b[0;31m    d.$a\u001b[0m\n\u001b[0m      ^\u001b[0m\n\u001b[0;31mSyntaxError\u001b[0m\u001b[0;31m:\u001b[0m invalid syntax\n"
     ]
    }
   ],
   "source": [
    "d.a\n"
   ]
  },
  {
   "cell_type": "code",
   "execution_count": 28,
   "metadata": {
    "ExecuteTime": {
     "end_time": "2021-01-20T09:29:09.022849Z",
     "start_time": "2021-01-20T09:29:09.019948Z"
    }
   },
   "outputs": [
    {
     "data": {
      "text/plain": [
       "'XXX'"
      ]
     },
     "execution_count": 28,
     "metadata": {},
     "output_type": "execute_result"
    }
   ],
   "source": [
    "jd[\"b\"]"
   ]
  },
  {
   "cell_type": "code",
   "execution_count": 29,
   "metadata": {
    "ExecuteTime": {
     "end_time": "2021-01-20T09:29:10.670563Z",
     "start_time": "2021-01-20T09:29:10.666715Z"
    }
   },
   "outputs": [
    {
     "data": {
      "text/plain": [
       "[1, 2, 3]"
      ]
     },
     "execution_count": 29,
     "metadata": {},
     "output_type": "execute_result"
    }
   ],
   "source": [
    "jd[\"c\"]"
   ]
  },
  {
   "cell_type": "code",
   "execution_count": 30,
   "metadata": {
    "ExecuteTime": {
     "end_time": "2021-01-20T09:29:13.029624Z",
     "start_time": "2021-01-20T09:29:13.022992Z"
    }
   },
   "outputs": [
    {
     "ename": "KeyError",
     "evalue": "'d'",
     "output_type": "error",
     "traceback": [
      "\u001b[0;31m---------------------------------------------------------------------------\u001b[0m",
      "\u001b[0;31mKeyError\u001b[0m                                  Traceback (most recent call last)",
      "\u001b[0;32m<ipython-input-30-3bdb46b3f777>\u001b[0m in \u001b[0;36m<module>\u001b[0;34m\u001b[0m\n\u001b[0;32m----> 1\u001b[0;31m \u001b[0mjd\u001b[0m\u001b[0;34m[\u001b[0m\u001b[0;34m\"d\"\u001b[0m\u001b[0;34m]\u001b[0m\u001b[0;34m\u001b[0m\u001b[0;34m\u001b[0m\u001b[0m\n\u001b[0m",
      "\u001b[0;32m<ipython-input-25-43533c57b237>\u001b[0m in \u001b[0;36m__getitem__\u001b[0;34m(self, k)\u001b[0m\n\u001b[1;32m     13\u001b[0m \u001b[0;34m\u001b[0m\u001b[0m\n\u001b[1;32m     14\u001b[0m     \u001b[0;32mdef\u001b[0m \u001b[0m__getitem__\u001b[0m\u001b[0;34m(\u001b[0m\u001b[0mself\u001b[0m\u001b[0;34m,\u001b[0m \u001b[0mk\u001b[0m\u001b[0;34m)\u001b[0m\u001b[0;34m:\u001b[0m\u001b[0;34m\u001b[0m\u001b[0;34m\u001b[0m\u001b[0m\n\u001b[0;32m---> 15\u001b[0;31m         \u001b[0;32mreturn\u001b[0m \u001b[0mself\u001b[0m\u001b[0;34m.\u001b[0m\u001b[0m_json_object\u001b[0m\u001b[0;34m[\u001b[0m\u001b[0mk\u001b[0m\u001b[0;34m]\u001b[0m\u001b[0;34m\u001b[0m\u001b[0;34m\u001b[0m\u001b[0m\n\u001b[0m\u001b[1;32m     16\u001b[0m \u001b[0;34m\u001b[0m\u001b[0m\n\u001b[1;32m     17\u001b[0m     \u001b[0;32mdef\u001b[0m \u001b[0m__len__\u001b[0m\u001b[0;34m(\u001b[0m\u001b[0mself\u001b[0m\u001b[0;34m)\u001b[0m\u001b[0;34m:\u001b[0m\u001b[0;34m\u001b[0m\u001b[0;34m\u001b[0m\u001b[0m\n",
      "\u001b[0;31mKeyError\u001b[0m: 'd'"
     ]
    }
   ],
   "source": [
    "jd[\"d\"]"
   ]
  },
  {
   "cell_type": "code",
   "execution_count": 31,
   "metadata": {
    "ExecuteTime": {
     "end_time": "2021-01-20T09:29:21.726591Z",
     "start_time": "2021-01-20T09:29:21.723867Z"
    }
   },
   "outputs": [
    {
     "data": {
      "text/plain": [
       "3"
      ]
     },
     "execution_count": 31,
     "metadata": {},
     "output_type": "execute_result"
    }
   ],
   "source": [
    "len(jd)"
   ]
  },
  {
   "cell_type": "code",
   "execution_count": 32,
   "metadata": {
    "ExecuteTime": {
     "end_time": "2021-01-20T09:29:26.638388Z",
     "start_time": "2021-01-20T09:29:26.636239Z"
    }
   },
   "outputs": [
    {
     "name": "stdout",
     "output_type": "stream",
     "text": [
      "a\n",
      "b\n",
      "c\n"
     ]
    }
   ],
   "source": [
    "for x in jd:\n",
    "    print(x)"
   ]
  },
  {
   "cell_type": "code",
   "execution_count": 33,
   "metadata": {
    "ExecuteTime": {
     "end_time": "2021-01-20T09:29:37.261874Z",
     "start_time": "2021-01-20T09:29:37.259062Z"
    }
   },
   "outputs": [
    {
     "name": "stdout",
     "output_type": "stream",
     "text": [
      "a 1\n",
      "b XXX\n",
      "c [1, 2, 3]\n"
     ]
    }
   ],
   "source": [
    "for k, v in jd.items():\n",
    "    print(k, v)"
   ]
  },
  {
   "cell_type": "code",
   "execution_count": 34,
   "metadata": {
    "ExecuteTime": {
     "end_time": "2021-01-20T09:29:41.517420Z",
     "start_time": "2021-01-20T09:29:41.514352Z"
    }
   },
   "outputs": [
    {
     "data": {
      "text/plain": [
       "False"
      ]
     },
     "execution_count": 34,
     "metadata": {},
     "output_type": "execute_result"
    }
   ],
   "source": [
    "\"d\" in jd"
   ]
  },
  {
   "cell_type": "code",
   "execution_count": 35,
   "metadata": {
    "ExecuteTime": {
     "end_time": "2021-01-20T09:29:48.317206Z",
     "start_time": "2021-01-20T09:29:48.314492Z"
    }
   },
   "outputs": [
    {
     "data": {
      "text/plain": [
       "True"
      ]
     },
     "execution_count": 35,
     "metadata": {},
     "output_type": "execute_result"
    }
   ],
   "source": [
    "\"a\" in jd"
   ]
  },
  {
   "cell_type": "code",
   "execution_count": 36,
   "metadata": {
    "ExecuteTime": {
     "end_time": "2021-01-20T09:30:18.927183Z",
     "start_time": "2021-01-20T09:30:18.923647Z"
    }
   },
   "outputs": [
    {
     "data": {
      "text/plain": [
       "{'a': 1, 'b': 'XXX', 'c': [1, 2, 3]}"
      ]
     },
     "execution_count": 36,
     "metadata": {},
     "output_type": "execute_result"
    }
   ],
   "source": [
    "dict(jd)"
   ]
  },
  {
   "cell_type": "code",
   "execution_count": 37,
   "metadata": {
    "ExecuteTime": {
     "end_time": "2021-01-20T09:30:25.486145Z",
     "start_time": "2021-01-20T09:30:25.483226Z"
    }
   },
   "outputs": [
    {
     "data": {
      "text/plain": [
       "{'a': 1, 'b': 'XXX', 'c': [1, 2, 3]}"
      ]
     },
     "execution_count": 37,
     "metadata": {},
     "output_type": "execute_result"
    }
   ],
   "source": [
    "{**jd}"
   ]
  }
 ],
 "metadata": {
  "kernelspec": {
   "display_name": "Python 3",
   "language": "python",
   "name": "python3"
  },
  "language_info": {
   "codemirror_mode": {
    "name": "ipython",
    "version": 3
   },
   "file_extension": ".py",
   "mimetype": "text/x-python",
   "name": "python",
   "nbconvert_exporter": "python",
   "pygments_lexer": "ipython3",
   "version": "3.8.5"
  }
 },
 "nbformat": 4,
 "nbformat_minor": 4
}

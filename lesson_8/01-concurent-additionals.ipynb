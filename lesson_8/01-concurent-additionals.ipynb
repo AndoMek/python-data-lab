{
 "cells": [
  {
   "cell_type": "markdown",
   "metadata": {},
   "source": [
    "# Locks"
   ]
  },
  {
   "cell_type": "markdown",
   "metadata": {},
   "source": [
    "## Lock()"
   ]
  },
  {
   "cell_type": "code",
   "execution_count": 1,
   "metadata": {
    "ExecuteTime": {
     "end_time": "2021-01-29T07:33:21.256400Z",
     "start_time": "2021-01-29T07:33:16.252094Z"
    }
   },
   "outputs": [
    {
     "name": "stdout",
     "output_type": "stream",
     "text": [
      "Insiude with self.lock. Before sleep: current_thread().name = 'MainThread', self.lock.locked() = True\n",
      "Insiude with self.lock. After sleep: current_thread().name = 'MainThread', self.lock.locked() = True\n",
      "Outside self.lock.: current_thread().name = 'MainThread', self.lock.locked() = False\n"
     ]
    }
   ],
   "source": [
    "from threading import Lock, Thread, current_thread\n",
    "import time\n",
    "\n",
    "\n",
    "class SampleLocks:\n",
    "    def __init__(self):\n",
    "        self.value = 0\n",
    "        self.lock = Lock()\n",
    "        \n",
    "    def long_lock(self):\n",
    "        with self.lock:\n",
    "            print(f\"Insiude with self.lock. Before sleep: {current_thread().name = }, {self.lock.locked() = }\")\n",
    "            time.sleep(5) # long operation\n",
    "            print(f\"Insiude with self.lock. After sleep: {current_thread().name = }, {self.lock.locked() = }\")\n",
    "        \n",
    "        print(f\"Outside self.lock.: {current_thread().name = }, {self.lock.locked() = }\")\n",
    "\n",
    "sl = SampleLocks()\n",
    "sl.long_lock()"
   ]
  },
  {
   "cell_type": "code",
   "execution_count": null,
   "metadata": {},
   "outputs": [],
   "source": []
  },
  {
   "cell_type": "code",
   "execution_count": 2,
   "metadata": {
    "ExecuteTime": {
     "end_time": "2021-01-29T07:35:17.350274Z",
     "start_time": "2021-01-29T07:35:15.342985Z"
    }
   },
   "outputs": [
    {
     "name": "stdout",
     "output_type": "stream",
     "text": [
      "current_thread().name = 'Thread-4': Inside `with self.lock`. Before sleep. self.lock.locked() = True\n",
      "current_thread().name = 'MainThread': After lock in other thread. sl.lock.locked() = True\n",
      "current_thread().name = 'MainThread': Other Thread after release lock. sl.lock.locked() = False\n"
     ]
    },
    {
     "name": "stderr",
     "output_type": "stream",
     "text": [
      "Exception in thread Thread-4:\n",
      "Traceback (most recent call last):\n",
      "  File \"/usr/lib/python3.8/threading.py\", line 932, in _bootstrap_inner\n",
      "    self.run()\n",
      "  File \"/usr/lib/python3.8/threading.py\", line 870, in run\n",
      "    self._target(*self._args, **self._kwargs)\n",
      "  File \"<ipython-input-2-cf365705e3b7>\", line 15, in long_lock\n",
      "RuntimeError: release unlocked lock\n"
     ]
    },
    {
     "name": "stdout",
     "output_type": "stream",
     "text": [
      "current_thread().name = 'Thread-4': Inside `with self.lock`. After sleep. self.lock.locked() = False\n"
     ]
    }
   ],
   "source": [
    "from threading import Lock, Thread, current_thread\n",
    "import time\n",
    "\n",
    "\n",
    "\n",
    "class SampleLocks:\n",
    "    def __init__(self):\n",
    "        self.value = 0\n",
    "        self.lock = Lock()\n",
    "        \n",
    "    def long_lock(self):\n",
    "        with self.lock:\n",
    "            print(f\"{current_thread().name = }: Inside `with self.lock`. Before sleep. {self.lock.locked() = }\")\n",
    "            time.sleep(5)\n",
    "            print(f\"{current_thread().name = }: Inside `with self.lock`. After sleep. {self.lock.locked() = }\")\n",
    "        \n",
    "        # Andrey: Add comment\n",
    "        print(f\"{current_thread().name = }: Outside self.lock. {self.lock.locked() = }\")\n",
    "\n",
    "\n",
    "sl = SampleLocks()\n",
    "tr = Thread(target=sl.long_lock)\n",
    "tr.start()\n",
    "\n",
    "time.sleep(2)  # long operation but less than in SampleLocks.long_lock()\n",
    "print(f\"{current_thread().name = }: After lock in other thread. {sl.lock.locked() = }\")\n",
    "\n",
    "sl.lock.release()\n",
    "print(f\"{current_thread().name = }: Other Thread after release lock. {sl.lock.locked() = }\")"
   ]
  },
  {
   "cell_type": "code",
   "execution_count": null,
   "metadata": {},
   "outputs": [],
   "source": []
  },
  {
   "cell_type": "code",
   "execution_count": 3,
   "metadata": {
    "ExecuteTime": {
     "end_time": "2021-01-29T07:38:15.250390Z",
     "start_time": "2021-01-29T07:38:13.243185Z"
    }
   },
   "outputs": [
    {
     "name": "stdout",
     "output_type": "stream",
     "text": [
      "current_thread().name = 'Thread-5': First lock try acquire. self.lock.locked() = False\n",
      "current_thread().name = 'Thread-5': First lock acquired. self.lock.locked() = True\n",
      "current_thread().name = 'Thread-5': Second lock try acquire. self.lock.locked() = True\n",
      "current_thread().name = 'MainThread': Other Thread after some time. sl.lock.locked() = True\n",
      "current_thread().name = 'MainThread': Other Thread after release lock. sl.lock.locked() = False\n",
      "current_thread().name = 'Thread-5': Second lock acquired? self.lock.locked() = True\n",
      "current_thread().name = 'MainThread': Other Thread after sometime in other thread. sl.lock.locked() = True\n"
     ]
    }
   ],
   "source": [
    "from threading import Lock, Thread, current_thread\n",
    "import time\n",
    "\n",
    "\n",
    "\n",
    "class SampleLocks:\n",
    "    def __init__(self):\n",
    "        self.value = 0\n",
    "        self.lock = Lock()\n",
    "        \n",
    "    def first_lock(self):\n",
    "        print(f\"{current_thread().name = }: First lock try acquire. {self.lock.locked() = }\")\n",
    "        self.lock.acquire() # lock first time\n",
    "        print(f\"{current_thread().name = }: First lock acquired. {self.lock.locked() = }\")\n",
    "        \n",
    "        self.second_lock() # lock second time\n",
    "            \n",
    "            \n",
    "    def second_lock(self):\n",
    "        print(f\"{current_thread().name = }: Second lock try acquire. {self.lock.locked() = }\")\n",
    "        self.lock.acquire()\n",
    "        print(f\"{current_thread().name = }: Second lock acquired? {self.lock.locked() = }\")\n",
    "            \n",
    "sl = SampleLocks()\n",
    "tr = Thread(target=sl.first_lock)\n",
    "tr.start()\n",
    "\n",
    "\n",
    "time.sleep(1) # Sleep for sure that lock acquired\n",
    "print(f\"{current_thread().name = }: Other Thread after some time. {sl.lock.locked() = }\")\n",
    "sl.lock.release()\n",
    "print(f\"{current_thread().name = }: Other Thread after release lock. {sl.lock.locked() = }\")\n",
    "\n",
    "\n",
    "time.sleep(1) # Sleep for sure that lock acquired... again\n",
    "print(f\"{current_thread().name = }: Other Thread after sometime in other thread. {sl.lock.locked() = }\")"
   ]
  },
  {
   "cell_type": "code",
   "execution_count": null,
   "metadata": {},
   "outputs": [],
   "source": []
  },
  {
   "cell_type": "markdown",
   "metadata": {},
   "source": [
    "## RLock()"
   ]
  },
  {
   "cell_type": "code",
   "execution_count": 5,
   "metadata": {
    "ExecuteTime": {
     "end_time": "2021-01-29T07:43:58.354143Z",
     "start_time": "2021-01-29T07:43:48.334650Z"
    }
   },
   "outputs": [
    {
     "name": "stdout",
     "output_type": "stream",
     "text": [
      "current_thread().name = 'Thread-7': Try acquire lock. <unlocked _thread.RLock object owner=0 count=0 at 0x7f01ac278840>\n",
      "current_thread().name = 'Thread-7': Lock acquired. <locked _thread.RLock object owner=139644813436672 count=1 at 0x7f01ac278840>\n",
      "current_thread().name = 'Thread-7': Try acquire lock same lock again. <locked _thread.RLock object owner=139644813436672 count=1 at 0x7f01ac278840>\n",
      "current_thread().name = 'Thread-7': Same lock acquired again? <locked _thread.RLock object owner=139644813436672 count=2 at 0x7f01ac278840>\n",
      "current_thread().name = 'MainThread': Other Thread after some time. <locked _thread.RLock object owner=139644813436672 count=2 at 0x7f01ac278840>\n",
      "current_thread().name = 'Thread-7': Same lock released?. <locked _thread.RLock object owner=139644813436672 count=1 at 0x7f01ac278840>\n",
      "current_thread().name = 'Thread-7': Lock released?. <unlocked _thread.RLock object owner=0 count=0 at 0x7f01ac278840>current_thread().name = 'MainThread': Other Thread use lock. <locked _thread.RLock object owner=139645286893376 count=1 at 0x7f01ac278840>\n",
      "\n",
      "current_thread().name = 'MainThread': Other Thread use lock. <locked _thread.RLock object owner=139645286893376 count=1 at 0x7f01ac278840>\n"
     ]
    }
   ],
   "source": [
    "from threading import RLock, Thread, current_thread\n",
    "import time\n",
    "\n",
    "\n",
    "class SampleLocks:\n",
    "    def __init__(self):\n",
    "        self.value = 0\n",
    "        self.lock = RLock()  # Now use RLock\n",
    "        \n",
    "    def first_lock(self):\n",
    "        print(f\"{current_thread().name = }: Try acquire lock. {self.lock!r}\")\n",
    "        with self.lock:  # lock first time\n",
    "            print(f\"{current_thread().name = }: Lock acquired. {self.lock!r}\")\n",
    "            self.second_lock() # lock second time\n",
    "        print(f\"{current_thread().name = }: Lock released?. {self.lock!r}\")\n",
    "            \n",
    "    def second_lock(self):\n",
    "        print(f\"{current_thread().name = }: Try acquire lock same lock again. {self.lock!r}\")\n",
    "        with self.lock:  # lock first time\n",
    "            print(f\"{current_thread().name = }: Same lock acquired again? {self.lock!r}\")\n",
    "            time.sleep(5)\n",
    "        print(f\"{current_thread().name = }: Same lock released?. {self.lock!r}\")\n",
    "\n",
    "\n",
    "sl = SampleLocks()\n",
    "tr = Thread(target=sl.first_lock)\n",
    "tr.start()\n",
    "\n",
    "\n",
    "time.sleep(1) # Sleep for sure that lock acquired\n",
    "print(f\"{current_thread().name = }: Other Thread after some time. {sl.lock!r}\")\n",
    "\n",
    "with sl.lock:\n",
    "    print(f\"{current_thread().name = }: Other Thread use lock. {sl.lock!r}\")\n",
    "    time.sleep(5)\n",
    "    print(f\"{current_thread().name = }: Other Thread use lock. {sl.lock!r}\")\n"
   ]
  },
  {
   "cell_type": "code",
   "execution_count": null,
   "metadata": {},
   "outputs": [],
   "source": []
  },
  {
   "cell_type": "code",
   "execution_count": null,
   "metadata": {},
   "outputs": [],
   "source": []
  },
  {
   "cell_type": "code",
   "execution_count": null,
   "metadata": {},
   "outputs": [],
   "source": []
  },
  {
   "cell_type": "code",
   "execution_count": 6,
   "metadata": {
    "ExecuteTime": {
     "end_time": "2021-01-29T07:44:57.105756Z",
     "start_time": "2021-01-29T07:44:56.062620Z"
    }
   },
   "outputs": [
    {
     "name": "stdout",
     "output_type": "stream",
     "text": [
      "current_thread().name = 'Thread-8': Try acquire lock. <unlocked _thread.RLock object owner=0 count=0 at 0x7f01ac2c53f0>\n",
      "current_thread().name = 'Thread-8': Lock acquired. <locked _thread.RLock object owner=139644813436672 count=1 at 0x7f01ac2c53f0>\n",
      "current_thread().name = 'Thread-8': Try acquire lock same lock again. <locked _thread.RLock object owner=139644813436672 count=1 at 0x7f01ac2c53f0>\n",
      "current_thread().name = 'Thread-8': Same lock acquired again? <locked _thread.RLock object owner=139644813436672 count=2 at 0x7f01ac2c53f0>\n",
      "current_thread().name = 'MainThread': Other Thread after some time. <locked _thread.RLock object owner=139644813436672 count=2 at 0x7f01ac2c53f0>\n"
     ]
    },
    {
     "ename": "RuntimeError",
     "evalue": "cannot release un-acquired lock",
     "output_type": "error",
     "traceback": [
      "\u001b[0;31m---------------------------------------------------------------------------\u001b[0m",
      "\u001b[0;31mRuntimeError\u001b[0m                              Traceback (most recent call last)",
      "\u001b[0;32m<ipython-input-6-009407eed5b8>\u001b[0m in \u001b[0;36m<module>\u001b[0;34m\u001b[0m\n\u001b[1;32m     31\u001b[0m \u001b[0mprint\u001b[0m\u001b[0;34m(\u001b[0m\u001b[0;34mf\"{current_thread().name = }: Other Thread after some time. {sl.lock!r}\"\u001b[0m\u001b[0;34m)\u001b[0m\u001b[0;34m\u001b[0m\u001b[0;34m\u001b[0m\u001b[0m\n\u001b[1;32m     32\u001b[0m \u001b[0;34m\u001b[0m\u001b[0m\n\u001b[0;32m---> 33\u001b[0;31m \u001b[0msl\u001b[0m\u001b[0;34m.\u001b[0m\u001b[0mlock\u001b[0m\u001b[0;34m.\u001b[0m\u001b[0mrelease\u001b[0m\u001b[0;34m(\u001b[0m\u001b[0;34m)\u001b[0m  \u001b[0;31m#\u001b[0m\u001b[0;34m\u001b[0m\u001b[0;34m\u001b[0m\u001b[0m\n\u001b[0m",
      "\u001b[0;31mRuntimeError\u001b[0m: cannot release un-acquired lock"
     ]
    },
    {
     "name": "stdout",
     "output_type": "stream",
     "text": [
      "current_thread().name = 'Thread-8': Same lock released?. <locked _thread.RLock object owner=139644813436672 count=1 at 0x7f01ac2c53f0>\n",
      "current_thread().name = 'Thread-8': Lock released?. <unlocked _thread.RLock object owner=0 count=0 at 0x7f01ac2c53f0>\n"
     ]
    }
   ],
   "source": [
    "from threading import RLock, Thread, current_thread\n",
    "import time\n",
    "\n",
    "\n",
    "class SampleLocks:\n",
    "    def __init__(self):\n",
    "        self.value = 0\n",
    "        self.lock = RLock()  # Now use RLock\n",
    "        \n",
    "    def first_lock(self):\n",
    "        print(f\"{current_thread().name = }: Try acquire lock. {self.lock!r}\")\n",
    "        with self.lock:  # lock first time\n",
    "            print(f\"{current_thread().name = }: Lock acquired. {self.lock!r}\")\n",
    "            self.second_lock() # lock second time\n",
    "        print(f\"{current_thread().name = }: Lock released?. {self.lock!r}\")\n",
    "            \n",
    "    def second_lock(self):\n",
    "        print(f\"{current_thread().name = }: Try acquire lock same lock again. {self.lock!r}\")\n",
    "        with self.lock:  # lock first time\n",
    "            print(f\"{current_thread().name = }: Same lock acquired again? {self.lock!r}\")\n",
    "            time.sleep(5)\n",
    "        print(f\"{current_thread().name = }: Same lock released?. {self.lock!r}\")\n",
    "\n",
    "\n",
    "sl = SampleLocks()\n",
    "tr = Thread(target=sl.first_lock)\n",
    "tr.start()\n",
    "\n",
    "\n",
    "time.sleep(1) # Sleep for sure that lock acquired\n",
    "print(f\"{current_thread().name = }: Other Thread after some time. {sl.lock!r}\")\n",
    "\n",
    "sl.lock.release()  # We can't release RLock which acquired by another Thread"
   ]
  },
  {
   "cell_type": "code",
   "execution_count": null,
   "metadata": {},
   "outputs": [],
   "source": []
  },
  {
   "cell_type": "markdown",
   "metadata": {},
   "source": [
    "# multiprocessing"
   ]
  },
  {
   "cell_type": "code",
   "execution_count": null,
   "metadata": {},
   "outputs": [],
   "source": []
  },
  {
   "cell_type": "markdown",
   "metadata": {},
   "source": [
    "## `__name__ == \"__main__\"`: fork vs spawn"
   ]
  },
  {
   "cell_type": "code",
   "execution_count": null,
   "metadata": {},
   "outputs": [],
   "source": []
  },
  {
   "cell_type": "markdown",
   "metadata": {
    "ExecuteTime": {
     "end_time": "2021-01-28T12:46:48.245679Z",
     "start_time": "2021-01-28T12:46:48.239418Z"
    }
   },
   "source": [
    "__in Jupyter we can't simulate this behaviour__\n",
    "\n",
    "\n",
    "\n",
    "```python\n",
    "import multiprocessing as mp\n",
    "\n",
    "\n",
    "def dummy():\n",
    "    print(\"Dummy\")\n",
    "\n",
    "\n",
    "context = mp.get_context(\"fork\")\n",
    "process = context.Process(target=dummy)\n",
    "process.start()\n",
    "process.join()\n",
    "```"
   ]
  },
  {
   "cell_type": "markdown",
   "metadata": {
    "ExecuteTime": {
     "end_time": "2021-01-28T13:00:04.098742Z",
     "start_time": "2021-01-28T13:00:04.096354Z"
    }
   },
   "source": [
    "__Output__\n",
    "\n",
    "```shell-session\n",
    "Dummy\n",
    "```"
   ]
  },
  {
   "cell_type": "code",
   "execution_count": null,
   "metadata": {},
   "outputs": [],
   "source": []
  },
  {
   "cell_type": "code",
   "execution_count": null,
   "metadata": {},
   "outputs": [],
   "source": []
  },
  {
   "cell_type": "code",
   "execution_count": null,
   "metadata": {},
   "outputs": [],
   "source": []
  },
  {
   "cell_type": "markdown",
   "metadata": {
    "ExecuteTime": {
     "end_time": "2021-01-28T13:12:46.243237Z",
     "start_time": "2021-01-28T13:12:46.240140Z"
    }
   },
   "source": [
    "__in Jupyter we can't simulate this behaviour__\n",
    "\n",
    "\n",
    "\n",
    "```python\n",
    "import multiprocessing as mp\n",
    "\n",
    "\n",
    "def dummy():\n",
    "    print(\"Dummy\")\n",
    "\n",
    "\n",
    "context = mp.get_context(\"spawn\")\n",
    "process = context.Process(target=dummy)\n",
    "process.start()\n",
    "process.join()\n",
    "```"
   ]
  },
  {
   "cell_type": "code",
   "execution_count": null,
   "metadata": {},
   "outputs": [],
   "source": []
  },
  {
   "cell_type": "markdown",
   "metadata": {},
   "source": [
    "__Output__\n",
    "\n",
    "```py\n",
    "\n",
    "Traceback (most recent call last):\n",
    "  File \"<string>\", line 1, in <module>\n",
    "  File \"/usr/lib/python3.9/multiprocessing/spawn.py\", line 116, in spawn_main\n",
    "    exitcode = _main(fd, parent_sentinel)\n",
    "  File \"/usr/lib/python3.9/multiprocessing/spawn.py\", line 125, in _main\n",
    "    prepare(preparation_data)\n",
    "  File \"/usr/lib/python3.9/multiprocessing/spawn.py\", line 236, in prepare\n",
    "    _fixup_main_from_path(data['init_main_from_path'])\n",
    "  File \"/usr/lib/python3.9/multiprocessing/spawn.py\", line 287, in _fixup_main_from_path\n",
    "    main_content = runpy.run_path(main_path,\n",
    "  File \"/usr/lib/python3.9/runpy.py\", line 268, in run_path\n",
    "    return _run_module_code(code, init_globals, run_name,\n",
    "  File \"/usr/lib/python3.9/runpy.py\", line 97, in _run_module_code\n",
    "    _run_code(code, mod_globals, init_globals,\n",
    "  File \"/usr/lib/python3.9/runpy.py\", line 87, in _run_code\n",
    "    exec(code, run_globals)\n",
    "  File \"/home/student/.config/JetBrains/PyCharmCE2020.3/scratches/scratch.py\", line 10, in <module>\n",
    "    process.start()\n",
    "  File \"/usr/lib/python3.9/multiprocessing/process.py\", line 121, in start\n",
    "    self._popen = self._Popen(self)\n",
    "  File \"/usr/lib/python3.9/multiprocessing/context.py\", line 284, in _Popen\n",
    "    return Popen(process_obj)\n",
    "  File \"/usr/lib/python3.9/multiprocessing/popen_spawn_posix.py\", line 32, in __init__\n",
    "    super().__init__(process_obj)\n",
    "  File \"/usr/lib/python3.9/multiprocessing/popen_fork.py\", line 19, in __init__\n",
    "    self._launch(process_obj)\n",
    "  File \"/usr/lib/python3.9/multiprocessing/popen_spawn_posix.py\", line 42, in _launch\n",
    "    prep_data = spawn.get_preparation_data(process_obj._name)\n",
    "  File \"/usr/lib/python3.9/multiprocessing/spawn.py\", line 154, in get_preparation_data\n",
    "    _check_not_importing_main()\n",
    "  File \"/usr/lib/python3.9/multiprocessing/spawn.py\", line 134, in _check_not_importing_main\n",
    "    raise RuntimeError('''\n",
    "RuntimeError: \n",
    "        An attempt has been made to start a new process before the\n",
    "        current process has finished its bootstrapping phase.\n",
    "\n",
    "        This probably means that you are not using fork to start your\n",
    "        child processes and you have forgotten to use the proper idiom\n",
    "        in the main module:\n",
    "\n",
    "            if __name__ == '__main__':\n",
    "                freeze_support()\n",
    "                ...\n",
    "\n",
    "        The \"freeze_support()\" line can be omitted if the program\n",
    "        is not going to be frozen to produce an executable.\n",
    "```"
   ]
  },
  {
   "cell_type": "code",
   "execution_count": null,
   "metadata": {},
   "outputs": [],
   "source": []
  },
  {
   "cell_type": "markdown",
   "metadata": {},
   "source": [
    "__in Jupyter we can't simulate this behaviour__\n",
    "\n",
    "\n",
    "```python\n",
    "import multiprocessing as mp\n",
    "\n",
    "\n",
    "def dummy():\n",
    "    print(\"Dummy\")\n",
    "\n",
    "\n",
    "context = mp.get_context(\"forkserver\")\n",
    "process = context.Process(target=dummy)\n",
    "process.start()\n",
    "process.join()\n",
    "```"
   ]
  },
  {
   "cell_type": "markdown",
   "metadata": {
    "ExecuteTime": {
     "end_time": "2021-01-28T13:13:16.458557Z",
     "start_time": "2021-01-28T13:13:16.336191Z"
    }
   },
   "source": [
    "__Output__\n",
    "\n",
    "\n",
    "```py\n",
    "Traceback (most recent call last):\n",
    "  File \"/usr/lib/python3.9/multiprocessing/forkserver.py\", line 274, in main\n",
    "    code = _serve_one(child_r, fds,\n",
    "  File \"/usr/lib/python3.9/multiprocessing/forkserver.py\", line 313, in _serve_one\n",
    "    code = spawn._main(child_r, parent_sentinel)\n",
    "  File \"/usr/lib/python3.9/multiprocessing/spawn.py\", line 125, in _main\n",
    "    prepare(preparation_data)\n",
    "  File \"/usr/lib/python3.9/multiprocessing/spawn.py\", line 236, in prepare\n",
    "    _fixup_main_from_path(data['init_main_from_path'])\n",
    "  File \"/usr/lib/python3.9/multiprocessing/spawn.py\", line 287, in _fixup_main_from_path\n",
    "    main_content = runpy.run_path(main_path,\n",
    "  File \"/usr/lib/python3.9/runpy.py\", line 268, in run_path\n",
    "    return _run_module_code(code, init_globals, run_name,\n",
    "  File \"/usr/lib/python3.9/runpy.py\", line 97, in _run_module_code\n",
    "    _run_code(code, mod_globals, init_globals,\n",
    "  File \"/usr/lib/python3.9/runpy.py\", line 87, in _run_code\n",
    "    exec(code, run_globals)\n",
    "  File \"/home/student/.config/JetBrains/PyCharmCE2020.3/scratches/scratch.py\", line 10, in <module>\n",
    "    process.start()\n",
    "  File \"/usr/lib/python3.9/multiprocessing/process.py\", line 121, in start\n",
    "    self._popen = self._Popen(self)\n",
    "  File \"/usr/lib/python3.9/multiprocessing/context.py\", line 291, in _Popen\n",
    "    return Popen(process_obj)\n",
    "  File \"/usr/lib/python3.9/multiprocessing/popen_forkserver.py\", line 35, in __init__\n",
    "    super().__init__(process_obj)\n",
    "  File \"/usr/lib/python3.9/multiprocessing/popen_fork.py\", line 19, in __init__\n",
    "    self._launch(process_obj)\n",
    "  File \"/usr/lib/python3.9/multiprocessing/popen_forkserver.py\", line 42, in _launch\n",
    "    prep_data = spawn.get_preparation_data(process_obj._name)\n",
    "  File \"/usr/lib/python3.9/multiprocessing/spawn.py\", line 154, in get_preparation_data\n",
    "    _check_not_importing_main()\n",
    "  File \"/usr/lib/python3.9/multiprocessing/spawn.py\", line 134, in _check_not_importing_main\n",
    "    raise RuntimeError('''\n",
    "RuntimeError: \n",
    "        An attempt has been made to start a new process before the\n",
    "        current process has finished its bootstrapping phase.\n",
    "\n",
    "        This probably means that you are not using fork to start your\n",
    "        child processes and you have forgotten to use the proper idiom\n",
    "        in the main module:\n",
    "\n",
    "            if __name__ == '__main__':\n",
    "                freeze_support()\n",
    "                ...\n",
    "\n",
    "        The \"freeze_support()\" line can be omitted if the program\n",
    "        is not going to be frozen to produce an executable.\n",
    "\n",
    "Process finished with exit code 0\n",
    "\n",
    "```"
   ]
  },
  {
   "cell_type": "code",
   "execution_count": null,
   "metadata": {},
   "outputs": [],
   "source": []
  },
  {
   "cell_type": "code",
   "execution_count": null,
   "metadata": {},
   "outputs": [],
   "source": []
  },
  {
   "cell_type": "markdown",
   "metadata": {
    "ExecuteTime": {
     "end_time": "2021-01-28T12:47:01.748138Z",
     "start_time": "2021-01-28T12:47:01.615572Z"
    }
   },
   "source": [
    "__in Jupyter we can't simulate this behaviour__\n",
    "\n",
    "```python\n",
    "import multiprocessing as mp\n",
    "\n",
    "\n",
    "def dummy():\n",
    "    print(\"Dummy\")\n",
    "\n",
    "\n",
    "if __name__ == \"__main__\":\n",
    "    context = mp.get_context(\"spawn\")\n",
    "#     context = mp.get_context(\"forkserver\")\n",
    "#     context = mp.get_context(\"fork\")\n",
    "    process = context.Process(target=dummy)\n",
    "    process.start()\n",
    "    process.join()\n",
    "```"
   ]
  },
  {
   "cell_type": "markdown",
   "metadata": {
    "ExecuteTime": {
     "end_time": "2021-01-28T14:05:02.261554Z",
     "start_time": "2021-01-28T14:05:02.259161Z"
    }
   },
   "source": [
    "__Output__\n",
    "\n",
    "```shell-session\n",
    "Dummy\n",
    "```"
   ]
  },
  {
   "cell_type": "code",
   "execution_count": null,
   "metadata": {},
   "outputs": [],
   "source": []
  },
  {
   "cell_type": "markdown",
   "metadata": {},
   "source": [
    "## multiprocessing.dummy"
   ]
  },
  {
   "cell_type": "code",
   "execution_count": 1,
   "metadata": {
    "ExecuteTime": {
     "end_time": "2021-01-29T08:03:03.841832Z",
     "start_time": "2021-01-29T08:03:03.837772Z"
    }
   },
   "outputs": [],
   "source": [
    "import threading\n",
    "import os\n",
    "from functools import wraps\n",
    "import time\n",
    "\n",
    "\n",
    "def thread_info(fn):\n",
    "\n",
    "    @wraps(fn)\n",
    "    def wrapper(*args, **kwargs):\n",
    "        print(f\"{threading.current_thread().name}. Start function: {fn.__name__}. {args = }, {kwargs = }\")\n",
    "        try:\n",
    "            return fn(*args, **kwargs)\n",
    "        finally:\n",
    "            print(f\"{threading.current_thread().name}. End function: {fn.__name__}\")\n",
    "\n",
    "    return wrapper\n",
    "\n",
    "\n",
    "def process_info(fn):\n",
    "\n",
    "    @wraps(fn)\n",
    "    def wrapper(*args, **kwargs):\n",
    "        print(f\"Process ID: {os.getpid()}. Parrent Process: {os.getppid()}. {__name__ = }. Start function: {fn.__name__}. {args = }, {kwargs = }\")\n",
    "        try:\n",
    "            return fn(*args, **kwargs)\n",
    "        finally:\n",
    "            print(f\"Process ID: {os.getpid()}. End function: {fn.__name__}\")\n",
    "\n",
    "    return wrapper"
   ]
  },
  {
   "cell_type": "code",
   "execution_count": null,
   "metadata": {},
   "outputs": [],
   "source": []
  },
  {
   "cell_type": "code",
   "execution_count": null,
   "metadata": {},
   "outputs": [],
   "source": []
  },
  {
   "cell_type": "code",
   "execution_count": 8,
   "metadata": {
    "ExecuteTime": {
     "end_time": "2021-01-29T08:00:35.662585Z",
     "start_time": "2021-01-29T08:00:35.563902Z"
    }
   },
   "outputs": [],
   "source": [
    "import multiprocessing as mp\n",
    "import multiprocessing.dummy as mp_dummy"
   ]
  },
  {
   "cell_type": "code",
   "execution_count": 9,
   "metadata": {
    "ExecuteTime": {
     "end_time": "2021-01-29T08:00:39.475774Z",
     "start_time": "2021-01-29T08:00:39.467596Z"
    }
   },
   "outputs": [
    {
     "name": "stdout",
     "output_type": "stream",
     "text": [
      "Help on function Pool in module multiprocessing.dummy:\n",
      "\n",
      "Pool(processes=None, initializer=None, initargs=())\n",
      "\n"
     ]
    }
   ],
   "source": [
    "help(mp_dummy.Pool)"
   ]
  },
  {
   "cell_type": "code",
   "execution_count": null,
   "metadata": {},
   "outputs": [],
   "source": []
  },
  {
   "cell_type": "code",
   "execution_count": 10,
   "metadata": {
    "ExecuteTime": {
     "end_time": "2021-01-29T08:00:48.094445Z",
     "start_time": "2021-01-29T08:00:47.915769Z"
    }
   },
   "outputs": [],
   "source": [
    "dummy_mp_pool = mp_dummy.Pool()"
   ]
  },
  {
   "cell_type": "code",
   "execution_count": 12,
   "metadata": {
    "ExecuteTime": {
     "end_time": "2021-01-29T08:00:56.036843Z",
     "start_time": "2021-01-29T08:00:56.030911Z"
    }
   },
   "outputs": [
    {
     "data": {
      "text/plain": [
       "multiprocessing.pool.ThreadPool"
      ]
     },
     "execution_count": 12,
     "metadata": {},
     "output_type": "execute_result"
    }
   ],
   "source": [
    "type(dummy_mp_pool)"
   ]
  },
  {
   "cell_type": "code",
   "execution_count": null,
   "metadata": {},
   "outputs": [],
   "source": []
  },
  {
   "cell_type": "code",
   "execution_count": 13,
   "metadata": {
    "ExecuteTime": {
     "end_time": "2021-01-29T08:01:03.937942Z",
     "start_time": "2021-01-29T08:01:03.915681Z"
    }
   },
   "outputs": [],
   "source": [
    "mp_pool = mp.Pool()"
   ]
  },
  {
   "cell_type": "code",
   "execution_count": 14,
   "metadata": {
    "ExecuteTime": {
     "end_time": "2021-01-29T08:01:05.919284Z",
     "start_time": "2021-01-29T08:01:05.915747Z"
    }
   },
   "outputs": [
    {
     "data": {
      "text/plain": [
       "multiprocessing.pool.Pool"
      ]
     },
     "execution_count": 14,
     "metadata": {},
     "output_type": "execute_result"
    }
   ],
   "source": [
    "type(mp_pool)"
   ]
  },
  {
   "cell_type": "code",
   "execution_count": 16,
   "metadata": {
    "ExecuteTime": {
     "end_time": "2021-01-29T08:01:37.121107Z",
     "start_time": "2021-01-29T08:01:37.118372Z"
    }
   },
   "outputs": [
    {
     "data": {
      "text/plain": [
       "[multiprocessing.pool.ThreadPool, multiprocessing.pool.Pool, object]"
      ]
     },
     "execution_count": 16,
     "metadata": {},
     "output_type": "execute_result"
    }
   ],
   "source": [
    "# Print MRO of class multiprocessing.dummy.Pool\n",
    "mp.pool.ThreadPool.mro()"
   ]
  },
  {
   "cell_type": "code",
   "execution_count": 17,
   "metadata": {
    "ExecuteTime": {
     "end_time": "2021-01-29T08:01:48.495612Z",
     "start_time": "2021-01-29T08:01:48.492974Z"
    }
   },
   "outputs": [
    {
     "data": {
      "text/plain": [
       "[multiprocessing.pool.Pool, object]"
      ]
     },
     "execution_count": 17,
     "metadata": {},
     "output_type": "execute_result"
    }
   ],
   "source": [
    "# Print MRO of class multiprocessing.Pool\n",
    "mp.pool.Pool.mro()"
   ]
  },
  {
   "cell_type": "code",
   "execution_count": null,
   "metadata": {},
   "outputs": [],
   "source": []
  },
  {
   "cell_type": "code",
   "execution_count": 2,
   "metadata": {
    "ExecuteTime": {
     "end_time": "2021-01-29T08:03:07.206518Z",
     "start_time": "2021-01-29T08:03:07.133366Z"
    }
   },
   "outputs": [
    {
     "name": "stdout",
     "output_type": "stream",
     "text": [
      "Process ID: 15072. Parrent Process: 15059. __name__ = '__main__'. Start function: squares. args = (0,), kwargs = {}Process ID: 15073. Parrent Process: 15059. __name__ = '__main__'. Start function: squares. args = (1,), kwargs = {}Process ID: 15074. Parrent Process: 15059. __name__ = '__main__'. Start function: squares. args = (2,), kwargs = {}\n",
      "\n",
      "\n",
      "MainThread. Start function: squares. args = (1,), kwargs = {}MainThread. Start function: squares. args = (0,), kwargs = {}\n",
      "MainThread. End function: squares\n",
      "Process ID: 15073. End function: squares\n",
      "Process ID: 15073. Parrent Process: 15059. __name__ = '__main__'. Start function: squares. args = (3,), kwargs = {}\n",
      "MainThread. Start function: squares. args = (3,), kwargs = {}\n",
      "\n",
      "MainThread. End function: squaresMainThread. End function: squares\n",
      "\n",
      "Process ID: 15073. End function: squaresMainThread. Start function: squares. args = (2,), kwargs = {}Process ID: 15072. End function: squares\n",
      "Process ID: 15073. Parrent Process: 15059. __name__ = '__main__'. Start function: squares. args = (4,), kwargs = {}\n",
      "Process ID: 15072. Parrent Process: 15059. __name__ = '__main__'. Start function: squares. args = (5,), kwargs = {}\n",
      "\n",
      "MainThread. Start function: squares. args = (4,), kwargs = {}MainThread. Start function: squares. args = (5,), kwargs = {}\n",
      "MainThread. End function: squares\n",
      "\n",
      "\n",
      "MainThread. End function: squares\n",
      "Process ID: 15074. End function: squaresProcess ID: 15072. End function: squares\n",
      "\n",
      "Process ID: 15074. Parrent Process: 15059. __name__ = '__main__'. Start function: squares. args = (6,), kwargs = {}\n",
      "Process ID: 15072. Parrent Process: 15059. __name__ = '__main__'. Start function: squares. args = (7,), kwargs = {}MainThread. End function: squaresMainThread. Start function: squares. args = (6,), kwargs = {}\n",
      "MainThread. Start function: squares. args = (7,), kwargs = {}\n",
      "\n",
      "MainThread. End function: squaresProcess ID: 15072. End function: squares\n",
      "MainThread. End function: squares\n",
      "\n",
      "Process ID: 15072. Parrent Process: 15059. __name__ = '__main__'. Start function: squares. args = (8,), kwargs = {}\n",
      "Process ID: 15074. End function: squaresMainThread. Start function: squares. args = (8,), kwargs = {}\n",
      "\n",
      "\n",
      "MainThread. End function: squaresProcess ID: 15074. Parrent Process: 15059. __name__ = '__main__'. Start function: squares. args = (9,), kwargs = {}\n",
      "Process ID: 15073. End function: squaresProcess ID: 15072. End function: squares\n",
      "\n",
      "\n",
      "MainThread. Start function: squares. args = (9,), kwargs = {}\n",
      "MainThread. End function: squares\n",
      "Process ID: 15074. End function: squares\n",
      "\n",
      "\n",
      "Complete. PID: 15059. Result = <multiprocessing.pool.IMapUnorderedIterator object at 0x7fe9302ee9a0>, <class 'multiprocessing.pool.IMapUnorderedIterator'>\n",
      "1\n",
      "9\n",
      "0\n",
      "4\n",
      "25\n",
      "49\n",
      "36\n",
      "16\n",
      "81\n",
      "64\n"
     ]
    }
   ],
   "source": [
    "# Pool based on Processes\n",
    "\n",
    "import multiprocessing as mp\n",
    "\n",
    "\n",
    "@process_info\n",
    "@thread_info\n",
    "def squares(x):\n",
    "    return x ** 2\n",
    "\n",
    "\n",
    "if __name__ == '__main__':\n",
    "    \n",
    "    with mp.Pool(processes=3) as pool:\n",
    "        result = pool.imap_unordered(squares, range(10))  # Doesn't guaranties order\n",
    "        print(f\"\\n\\nComplete. PID: {os.getpid()}. Result = {result}, {type(result)}\")\n",
    "        \n",
    "        for x in result:\n",
    "            print(x)"
   ]
  },
  {
   "cell_type": "code",
   "execution_count": null,
   "metadata": {},
   "outputs": [],
   "source": []
  },
  {
   "cell_type": "code",
   "execution_count": null,
   "metadata": {},
   "outputs": [],
   "source": []
  },
  {
   "cell_type": "code",
   "execution_count": 3,
   "metadata": {
    "ExecuteTime": {
     "end_time": "2021-01-29T08:03:40.006596Z",
     "start_time": "2021-01-29T08:03:39.995696Z"
    }
   },
   "outputs": [
    {
     "name": "stdout",
     "output_type": "stream",
     "text": [
      "\n",
      "\n",
      "Complete. PID: 15059. Result = <multiprocessing.pool.IMapUnorderedIterator object at 0x7fe930b8af40>, <class 'multiprocessing.pool.IMapUnorderedIterator'>Process ID: 15059. Parrent Process: 3030. __name__ = '__main__'. Start function: squares. args = (0,), kwargs = {}\n",
      "Thread-7. Start function: squares. args = (0,), kwargs = {}\n",
      "Thread-7. End function: squares\n",
      "Process ID: 15059. End function: squares\n",
      "Process ID: 15059. Parrent Process: 3030. __name__ = '__main__'. Start function: squares. args = (1,), kwargs = {}\n",
      "Thread-7. Start function: squares. args = (1,), kwargs = {}\n",
      "Thread-7. End function: squares\n",
      "Process ID: 15059. End function: squares\n",
      "Process ID: 15059. Parrent Process: 3030. __name__ = '__main__'. Start function: squares. args = (2,), kwargs = {}\n",
      "Thread-7. Start function: squares. args = (2,), kwargs = {}\n",
      "Thread-7. End function: squares\n",
      "Process ID: 15059. End function: squares\n",
      "Process ID: 15059. Parrent Process: 3030. __name__ = '__main__'. Start function: squares. args = (3,), kwargs = {}\n",
      "Thread-8. Start function: squares. args = (3,), kwargs = {}\n",
      "Thread-8. End function: squares\n",
      "Process ID: 15059. End function: squares\n",
      "Process ID: 15059. Parrent Process: 3030. __name__ = '__main__'. Start function: squares. args = (4,), kwargs = {}\n",
      "Thread-8. Start function: squares. args = (4,), kwargs = {}\n",
      "Thread-8. End function: squaresProcess ID: 15059. Parrent Process: 3030. __name__ = '__main__'. Start function: squares. args = (5,), kwargs = {}\n",
      "Thread-7. Start function: squares. args = (5,), kwargs = {}\n",
      "Thread-7. End function: squares\n",
      "Process ID: 15059. End function: squares\n",
      "Process ID: 15059. Parrent Process: 3030. __name__ = '__main__'. Start function: squares. args = (6,), kwargs = {}\n",
      "Thread-7. Start function: squares. args = (6,), kwargs = {}\n",
      "Thread-7. End function: squares\n",
      "Process ID: 15059. End function: squaresProcess ID: 15059. Parrent Process: 3030. __name__ = '__main__'. Start function: squares. args = (7,), kwargs = {}\n",
      "Thread-9. Start function: squares. args = (7,), kwargs = {}\n",
      "Thread-9. End function: squares\n",
      "\n",
      "Process ID: 15059. Parrent Process: 3030. __name__ = '__main__'. Start function: squares. args = (8,), kwargs = {}\n",
      "Thread-7. Start function: squares. args = (8,), kwargs = {}\n",
      "Thread-7. End function: squares\n",
      "\n",
      "Process ID: 15059. End function: squares\n",
      "Process ID: 15059. Parrent Process: 3030. __name__ = '__main__'. Start function: squares. args = (9,), kwargs = {}\n",
      "\n",
      "Process ID: 15059. End function: squares\n",
      "Thread-7. Start function: squares. args = (9,), kwargs = {}\n",
      "Thread-7. End function: squares\n",
      "Process ID: 15059. End function: squares\n",
      "0\n",
      "1\n",
      "9\n",
      "4\n",
      "25\n",
      "36\n",
      "Process ID: 15059. End function: squares\n",
      "64\n",
      "16\n",
      "81\n",
      "49\n"
     ]
    }
   ],
   "source": [
    "# Pool based on Threads\n",
    "from multiprocessing.dummy import Pool as ThreadPool\n",
    "\n",
    "\n",
    "@process_info\n",
    "@thread_info\n",
    "def squares(x):\n",
    "    return x ** 2\n",
    "\n",
    "\n",
    "if __name__ == '__main__':\n",
    "    \n",
    "    with ThreadPool(processes=3) as pool:\n",
    "        result = pool.imap_unordered(squares, range(10))  # Doesn't guaranties order\n",
    "        print(f\"\\n\\nComplete. PID: {os.getpid()}. Result = {result}, {type(result)}\")\n",
    "        \n",
    "        for x in result:\n",
    "            print(x)\n"
   ]
  },
  {
   "cell_type": "code",
   "execution_count": null,
   "metadata": {},
   "outputs": [],
   "source": []
  },
  {
   "cell_type": "code",
   "execution_count": null,
   "metadata": {},
   "outputs": [],
   "source": []
  },
  {
   "cell_type": "code",
   "execution_count": null,
   "metadata": {},
   "outputs": [],
   "source": []
  },
  {
   "cell_type": "code",
   "execution_count": null,
   "metadata": {},
   "outputs": [],
   "source": []
  },
  {
   "cell_type": "markdown",
   "metadata": {},
   "source": [
    "## Multiprocessing Programming guidelines\n",
    "https://docs.python.org/3/library/multiprocessing.html#multiprocessing-programming"
   ]
  },
  {
   "cell_type": "code",
   "execution_count": null,
   "metadata": {},
   "outputs": [],
   "source": []
  },
  {
   "cell_type": "code",
   "execution_count": null,
   "metadata": {},
   "outputs": [],
   "source": []
  },
  {
   "cell_type": "markdown",
   "metadata": {},
   "source": [
    "## Daemon=True"
   ]
  },
  {
   "cell_type": "code",
   "execution_count": null,
   "metadata": {},
   "outputs": [],
   "source": []
  },
  {
   "cell_type": "markdown",
   "metadata": {},
   "source": [
    "__in Jupyter we can't simulate this behaviour__\n",
    "\n",
    "```python\n",
    "import threading\n",
    "import time\n",
    "\n",
    "@thread_info\n",
    "def dummy():\n",
    "    while True:\n",
    "        print(\"Dummy\")\n",
    "        time.sleep(1)\n",
    "\n",
    "\n",
    "if __name__ == \"__main__\":\n",
    "    worker = threading.Thread(target=dummy, daemon=True)\n",
    "    worker.start()\n",
    "    time.sleep(2)\n",
    "```"
   ]
  },
  {
   "cell_type": "markdown",
   "metadata": {},
   "source": [
    "__Output__\n",
    "\n",
    "```shell-session\n",
    "Dummy\n",
    "Dummy\n",
    "```"
   ]
  },
  {
   "cell_type": "code",
   "execution_count": 4,
   "metadata": {
    "ExecuteTime": {
     "end_time": "2021-01-29T08:07:25.138729Z",
     "start_time": "2021-01-29T08:07:25.132105Z"
    }
   },
   "outputs": [
    {
     "data": {
      "text/plain": [
       "[<_MainThread(MainThread, started 140639647999808)>,\n",
       " <Thread(Thread-2, started daemon 140639563785984)>,\n",
       " <Heartbeat(Thread-3, started daemon 140639555393280)>,\n",
       " <HistorySavingThread(IPythonHistorySavingThread, started 140639529953024)>,\n",
       " <ParentPollerUnix(Thread-1, started daemon 140639521298176)>]"
      ]
     },
     "execution_count": 4,
     "metadata": {},
     "output_type": "execute_result"
    }
   ],
   "source": [
    "import threading\n",
    "\n",
    "threading.enumerate()"
   ]
  }
 ],
 "metadata": {
  "kernelspec": {
   "display_name": "Python 3",
   "language": "python",
   "name": "python3"
  },
  "language_info": {
   "codemirror_mode": {
    "name": "ipython",
    "version": 3
   },
   "file_extension": ".py",
   "mimetype": "text/x-python",
   "name": "python",
   "nbconvert_exporter": "python",
   "pygments_lexer": "ipython3",
   "version": "3.8.5"
  }
 },
 "nbformat": 4,
 "nbformat_minor": 4
}

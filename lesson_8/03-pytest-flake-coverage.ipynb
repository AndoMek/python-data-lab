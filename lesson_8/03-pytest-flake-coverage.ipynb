{
 "cells": [
  {
   "cell_type": "markdown",
   "metadata": {},
   "source": [
    "# Repository Gitlab:\n",
    "\n",
    "+ [Write tests](https://gitlab.godeltech.com/a.anshin/python-data-lab-project-sample/-/tree/tests-coverage-lint)"
   ]
  },
  {
   "cell_type": "markdown",
   "metadata": {},
   "source": [
    "# pytest\n",
    "\n",
    "```\n",
    "The pytest framework makes it easy to write small tests, yet scales to support complex functional testing for applications and libraries.\n",
    "```\n",
    "\n",
    "1. [Documentation](https://docs.pytest.org/en/stable/getting-started.html)\n",
    "2. Python Testing with pytest [[Rus Translate](https://habr.com/ru/post/448782/), [Book](https://pragprog.com/titles/bopytest/python-testing-with-pytest/)]\n",
    "\n",
    "## Additional packages\n",
    "\n",
    "1. [`pytest-cov`](https://pragprog.com/titles/bopytest/python-testing-with-pytest/) wrapper for `coverage`\n",
    "2. [`pytest-subtests`](https://pypi.org/project/pytest-subtests/) subtest implementation for pytest\n",
    "3. [`pytest-env`](https://pypi.org/project/pytest-env/) plugin that allows you to add environment variables.\n",
    "4. [`pytest-cases`](https://smarie.github.io/python-pytest-cases/) Separate test code from test cases in pytest.\n",
    "5. [`requests-mock`](https://requests-mock.readthedocs.io/en/latest/) requests-mock provides a building block to stub out the HTTP requests portions of your testing code. \n",
    "6. [`responses`](https://pypi.org/project/responses/) A utility library for mocking out the requests Python library\n",
    "7. [`moto`](http://docs.getmoto.org/en/latest/) Mock AWS Services"
   ]
  },
  {
   "cell_type": "markdown",
   "metadata": {},
   "source": [
    "# flake8\n",
    "\n",
    "Tool For Style Guide Enforcement\n",
    "\n",
    "1. [Quick start](https://flake8.pycqa.org/en/latest/index.html#quickstart)\n",
    "2. [Flake8 + PyCharm integration: Tutorial (Russian)](https://tirinox.ru/flake8-pycharm/)\n"
   ]
  },
  {
   "cell_type": "markdown",
   "metadata": {},
   "source": [
    "# Coverage.py\n",
    "\n",
    "Coverage.py is a tool for measuring code coverage of Python programs.\n",
    "\n",
    "1. [Documentation](https://coverage.readthedocs.io/en/coverage-5.4/)"
   ]
  },
  {
   "cell_type": "markdown",
   "metadata": {},
   "source": [
    "# Tox\n",
    "automate and standardize testing in Python. It is part of a larger vision of easing the packaging, testing and release process of Python software.\n",
    "\n",
    "1. [Documentation](https://tox.readthedocs.io/en/latest/)"
   ]
  },
  {
   "cell_type": "markdown",
   "metadata": {},
   "source": [
    "# Additionals\n",
    "1. [Understanding Best Practice Python Tooling by Comparing Popular Project Templates](https://medium.com/better-programming/understanding-best-practice-python-tooling-by-comparing-popular-project-templates-6eba49229106)"
   ]
  }
 ],
 "metadata": {
  "kernelspec": {
   "display_name": "Python 3",
   "language": "python",
   "name": "python3"
  },
  "language_info": {
   "codemirror_mode": {
    "name": "ipython",
    "version": 3
   },
   "file_extension": ".py",
   "mimetype": "text/x-python",
   "name": "python",
   "nbconvert_exporter": "python",
   "pygments_lexer": "ipython3",
   "version": "3.8.5"
  }
 },
 "nbformat": 4,
 "nbformat_minor": 4
}

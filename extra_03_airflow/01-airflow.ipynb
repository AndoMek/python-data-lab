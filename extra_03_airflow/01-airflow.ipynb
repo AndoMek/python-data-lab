{
 "cells": [
  {
   "cell_type": "markdown",
   "metadata": {},
   "source": [
    "# Apache Airflow\n",
    "\n",
    "<img src=\"https://airflow.apache.org/docs/apache-airflow/stable/_images/pin_large.png\" />"
   ]
  },
  {
   "cell_type": "markdown",
   "metadata": {
    "ExecuteTime": {
     "end_time": "2021-02-12T07:09:24.189701Z",
     "start_time": "2021-02-12T07:09:24.187037Z"
    }
   },
   "source": [
    "* [Documentation](https://airflow.apache.org/docs/apache-airflow/stable/index.html)\n",
    "* [Github](https://github.com/apache/airflow)\n",
    "* [Changelog](https://airflow.apache.org/docs/apache-airflow/stable/changelog.html)"
   ]
  },
  {
   "cell_type": "code",
   "execution_count": null,
   "metadata": {},
   "outputs": [],
   "source": []
  },
  {
   "cell_type": "markdown",
   "metadata": {
    "ExecuteTime": {
     "end_time": "2021-02-12T07:11:43.266743Z",
     "start_time": "2021-02-12T07:11:43.263526Z"
    }
   },
   "source": [
    "## DAG\n",
    "\n",
    "* [Directed Acyclic Graph on hazelcast.com](https://hazelcast.com/glossary/directed-acyclic-graph/)\n",
    "* [Directed Acyclic Graph on wikipedia.org](https://en.wikipedia.org/wiki/Directed_acyclic_graph)\n",
    "* [From Blockchain to DAG: Getting Rid of Middlemen](https://medium.com/obyte/from-blockchain-to-dag-getting-rid-of-middlemen-28afa7563545) [(Russian Translate)](https://habr.com/ru/company/obyte/blog/477032/)"
   ]
  },
  {
   "cell_type": "markdown",
   "metadata": {},
   "source": [
    "### General\n",
    "<img src=\"https://upload.wikimedia.org/wikipedia/commons/thumb/f/fe/Tred-G.svg/220px-Tred-G.svg.png\"/>"
   ]
  },
  {
   "cell_type": "markdown",
   "metadata": {},
   "source": [
    "### Apache Spark DAG Visualisation\n",
    "<img src=\"https://image.slidesharecdn.com/apachespark-161120082402/95/apache-spark-overview-17-638.jpg?cb=1479630392\"/>"
   ]
  },
  {
   "cell_type": "markdown",
   "metadata": {},
   "source": [
    "### Apache Airflow DAG Visualisation\n",
    "\n",
    "<img src=\"https://i.stack.imgur.com/J8vtJ.png\" />"
   ]
  }
 ],
 "metadata": {
  "kernelspec": {
   "display_name": "Python 3",
   "language": "python",
   "name": "python3"
  },
  "language_info": {
   "codemirror_mode": {
    "name": "ipython",
    "version": 3
   },
   "file_extension": ".py",
   "mimetype": "text/x-python",
   "name": "python",
   "nbconvert_exporter": "python",
   "pygments_lexer": "ipython3",
   "version": "3.8.5"
  },
  "toc": {
   "base_numbering": 1,
   "nav_menu": {},
   "number_sections": true,
   "sideBar": true,
   "skip_h1_title": false,
   "title_cell": "Table of Contents",
   "title_sidebar": "Contents",
   "toc_cell": false,
   "toc_position": {},
   "toc_section_display": true,
   "toc_window_display": false
  },
  "varInspector": {
   "cols": {
    "lenName": 16,
    "lenType": 16,
    "lenVar": 40
   },
   "kernels_config": {
    "python": {
     "delete_cmd_postfix": "",
     "delete_cmd_prefix": "del ",
     "library": "var_list.py",
     "varRefreshCmd": "print(var_dic_list())"
    },
    "r": {
     "delete_cmd_postfix": ") ",
     "delete_cmd_prefix": "rm(",
     "library": "var_list.r",
     "varRefreshCmd": "cat(var_dic_list()) "
    }
   },
   "types_to_exclude": [
    "module",
    "function",
    "builtin_function_or_method",
    "instance",
    "_Feature"
   ],
   "window_display": false
  }
 },
 "nbformat": 4,
 "nbformat_minor": 4
}

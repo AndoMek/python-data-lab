{
 "cells": [
  {
   "cell_type": "code",
   "execution_count": 1,
   "metadata": {
    "ExecuteTime": {
     "end_time": "2021-01-20T07:41:12.393810Z",
     "start_time": "2021-01-20T07:41:12.391366Z"
    }
   },
   "outputs": [],
   "source": [
    "import inspect"
   ]
  },
  {
   "cell_type": "markdown",
   "metadata": {},
   "source": [
    "# Lesson 3"
   ]
  },
  {
   "cell_type": "markdown",
   "metadata": {},
   "source": [
    "## Debts"
   ]
  },
  {
   "cell_type": "markdown",
   "metadata": {},
   "source": [
    "### iter(callable, sentinel) -> iterator"
   ]
  },
  {
   "cell_type": "markdown",
   "metadata": {},
   "source": [
    "### Game simulate russian roulette"
   ]
  },
  {
   "cell_type": "code",
   "execution_count": null,
   "metadata": {},
   "outputs": [],
   "source": []
  },
  {
   "cell_type": "markdown",
   "metadata": {},
   "source": [
    "#### random — Generate pseudo-random numbers\n",
    "\n",
    "https://docs.python.org/3/library/random.html"
   ]
  },
  {
   "cell_type": "code",
   "execution_count": 2,
   "metadata": {
    "ExecuteTime": {
     "end_time": "2021-01-20T07:41:17.401181Z",
     "start_time": "2021-01-20T07:41:17.399095Z"
    }
   },
   "outputs": [],
   "source": [
    "from random import randint"
   ]
  },
  {
   "cell_type": "code",
   "execution_count": 3,
   "metadata": {
    "ExecuteTime": {
     "end_time": "2021-01-20T07:41:20.218300Z",
     "start_time": "2021-01-20T07:41:20.215544Z"
    }
   },
   "outputs": [
    {
     "name": "stdout",
     "output_type": "stream",
     "text": [
      "Help on method randint in module random:\n",
      "\n",
      "randint(a, b) method of random.Random instance\n",
      "    Return random integer in range [a, b], including both end points.\n",
      "\n"
     ]
    }
   ],
   "source": [
    "help(randint)"
   ]
  },
  {
   "cell_type": "code",
   "execution_count": 4,
   "metadata": {
    "ExecuteTime": {
     "end_time": "2021-01-20T07:42:39.355050Z",
     "start_time": "2021-01-20T07:42:39.352113Z"
    }
   },
   "outputs": [
    {
     "name": "stdout",
     "output_type": "stream",
     "text": [
      "I am still alive, selected 4\n",
      "Oops, game over, I am dead! :(\n"
     ]
    }
   ],
   "source": [
    "# Russian Roulette\n",
    "\n",
    "from functools import partial\n",
    "from random import randint\n",
    "\n",
    "def pull_trigger():\n",
    "    return randint(1, 6)\n",
    "\n",
    "for i in iter(pull_trigger, 6):\n",
    "    print('I am still alive, selected', i)\n",
    "\n",
    "print('Oops, game over, I am dead! :(')"
   ]
  },
  {
   "cell_type": "code",
   "execution_count": 6,
   "metadata": {
    "ExecuteTime": {
     "end_time": "2021-01-20T07:43:16.348597Z",
     "start_time": "2021-01-20T07:43:16.344064Z"
    }
   },
   "outputs": [
    {
     "ename": "TypeError",
     "evalue": "randint() missing 2 required positional arguments: 'a' and 'b'",
     "output_type": "error",
     "traceback": [
      "\u001b[0;31m---------------------------------------------------------------------------\u001b[0m",
      "\u001b[0;31mTypeError\u001b[0m                                 Traceback (most recent call last)",
      "\u001b[0;32m<ipython-input-6-3756ea32b603>\u001b[0m in \u001b[0;36m<module>\u001b[0;34m\u001b[0m\n\u001b[1;32m      7\u001b[0m \u001b[0;31m#     return randint(1, 6)\u001b[0m\u001b[0;34m\u001b[0m\u001b[0;34m\u001b[0m\u001b[0;34m\u001b[0m\u001b[0m\n\u001b[1;32m      8\u001b[0m \u001b[0;34m\u001b[0m\u001b[0m\n\u001b[0;32m----> 9\u001b[0;31m \u001b[0;32mfor\u001b[0m \u001b[0mi\u001b[0m \u001b[0;32min\u001b[0m \u001b[0miter\u001b[0m\u001b[0;34m(\u001b[0m\u001b[0mrandint\u001b[0m\u001b[0;34m,\u001b[0m \u001b[0;36m6\u001b[0m\u001b[0;34m)\u001b[0m\u001b[0;34m:\u001b[0m\u001b[0;34m\u001b[0m\u001b[0;34m\u001b[0m\u001b[0m\n\u001b[0m\u001b[1;32m     10\u001b[0m     \u001b[0mprint\u001b[0m\u001b[0;34m(\u001b[0m\u001b[0;34m'I am still alive, selected'\u001b[0m\u001b[0;34m,\u001b[0m \u001b[0mi\u001b[0m\u001b[0;34m)\u001b[0m\u001b[0;34m\u001b[0m\u001b[0;34m\u001b[0m\u001b[0m\n\u001b[1;32m     11\u001b[0m \u001b[0;34m\u001b[0m\u001b[0m\n",
      "\u001b[0;31mTypeError\u001b[0m: randint() missing 2 required positional arguments: 'a' and 'b'"
     ]
    }
   ],
   "source": [
    "# Russian Roulette\n",
    "\n",
    "from functools import partial\n",
    "from random import randint\n",
    "\n",
    "# def pull_trigger():\n",
    "#     return randint(1, 6)\n",
    "\n",
    "for i in iter(randint(1, 6), 6):\n",
    "    print('I am still alive, selected', i)\n",
    "\n",
    "print('Oops, game over, I am dead! :(')"
   ]
  },
  {
   "cell_type": "code",
   "execution_count": null,
   "metadata": {},
   "outputs": [],
   "source": []
  },
  {
   "cell_type": "code",
   "execution_count": 8,
   "metadata": {
    "ExecuteTime": {
     "end_time": "2021-01-20T07:44:51.803392Z",
     "start_time": "2021-01-20T07:44:51.799642Z"
    }
   },
   "outputs": [
    {
     "name": "stdout",
     "output_type": "stream",
     "text": [
      "I am still alive, selected 5\n",
      "I am still alive, selected 1\n",
      "I am still alive, selected 2\n",
      "Oops, game over, I am dead! :(\n"
     ]
    }
   ],
   "source": [
    "# Russian Roulette #2\n",
    "\n",
    "from functools import partial\n",
    "from random import randint\n",
    "\n",
    "pull_trigger_2 = partial(randint, 1, 6)\n",
    "\n",
    "for i in iter(pull_trigger_2, 6):\n",
    "    print('I am still alive, selected', i)\n",
    "\n",
    "print('Oops, game over, I am dead! :(')"
   ]
  },
  {
   "cell_type": "code",
   "execution_count": 15,
   "metadata": {
    "ExecuteTime": {
     "end_time": "2021-01-20T07:46:27.977877Z",
     "start_time": "2021-01-20T07:46:27.975158Z"
    }
   },
   "outputs": [
    {
     "data": {
      "text/plain": [
       "function"
      ]
     },
     "execution_count": 15,
     "metadata": {},
     "output_type": "execute_result"
    }
   ],
   "source": [
    "type(pull_trigger)"
   ]
  },
  {
   "cell_type": "code",
   "execution_count": 10,
   "metadata": {
    "ExecuteTime": {
     "end_time": "2021-01-20T07:45:24.078428Z",
     "start_time": "2021-01-20T07:45:24.071788Z"
    }
   },
   "outputs": [
    {
     "data": {
      "text/plain": [
       "functools.partial"
      ]
     },
     "execution_count": 10,
     "metadata": {},
     "output_type": "execute_result"
    }
   ],
   "source": [
    "type(pull_trigger_2)"
   ]
  },
  {
   "cell_type": "code",
   "execution_count": 11,
   "metadata": {
    "ExecuteTime": {
     "end_time": "2021-01-20T07:45:44.105276Z",
     "start_time": "2021-01-20T07:45:44.103167Z"
    }
   },
   "outputs": [],
   "source": [
    "from typing import Callable"
   ]
  },
  {
   "cell_type": "code",
   "execution_count": 13,
   "metadata": {
    "ExecuteTime": {
     "end_time": "2021-01-20T07:46:03.402574Z",
     "start_time": "2021-01-20T07:46:03.399599Z"
    }
   },
   "outputs": [
    {
     "data": {
      "text/plain": [
       "True"
      ]
     },
     "execution_count": 13,
     "metadata": {},
     "output_type": "execute_result"
    }
   ],
   "source": [
    "isinstance(pull_trigger, Callable)"
   ]
  },
  {
   "cell_type": "code",
   "execution_count": 14,
   "metadata": {
    "ExecuteTime": {
     "end_time": "2021-01-20T07:46:12.698216Z",
     "start_time": "2021-01-20T07:46:12.695364Z"
    }
   },
   "outputs": [
    {
     "data": {
      "text/plain": [
       "True"
      ]
     },
     "execution_count": 14,
     "metadata": {},
     "output_type": "execute_result"
    }
   ],
   "source": [
    "isinstance(pull_trigger_2, Callable)"
   ]
  },
  {
   "cell_type": "code",
   "execution_count": null,
   "metadata": {
    "scrolled": true
   },
   "outputs": [],
   "source": [
    "help(randint)"
   ]
  },
  {
   "cell_type": "code",
   "execution_count": null,
   "metadata": {},
   "outputs": [],
   "source": []
  },
  {
   "cell_type": "markdown",
   "metadata": {
    "ExecuteTime": {
     "end_time": "2021-01-20T00:06:12.932950Z",
     "start_time": "2021-01-20T00:06:12.930042Z"
    }
   },
   "source": [
    "## Forgotten: Lesson 3"
   ]
  },
  {
   "cell_type": "markdown",
   "metadata": {},
   "source": [
    "### functions\n",
    "\n",
    "#### Positional and keyword arguments"
   ]
  },
  {
   "cell_type": "code",
   "execution_count": 16,
   "metadata": {
    "ExecuteTime": {
     "end_time": "2021-01-20T07:49:14.762695Z",
     "start_time": "2021-01-20T07:49:14.760141Z"
    }
   },
   "outputs": [],
   "source": [
    "class Queue:\n",
    "    \"\"\"Initial Version\"\"\"\n",
    "    def __init__(self):\n",
    "        self.queue = []\n",
    "        \n",
    "    def add_to_queue(self, item: int):\n",
    "        self.queue.insert(-1, item)"
   ]
  },
  {
   "cell_type": "code",
   "execution_count": 18,
   "metadata": {
    "ExecuteTime": {
     "end_time": "2021-01-20T07:49:38.651550Z",
     "start_time": "2021-01-20T07:49:38.648115Z"
    }
   },
   "outputs": [
    {
     "data": {
      "text/plain": [
       "[1, 2, 3, 4, 5, 6, 7, 8, 9, 0]"
      ]
     },
     "execution_count": 18,
     "metadata": {},
     "output_type": "execute_result"
    }
   ],
   "source": [
    "q = Queue()\n",
    "\n",
    "for i in range(10):\n",
    "    q.add_to_queue(item=i)\n",
    "\n",
    "q.queue"
   ]
  },
  {
   "cell_type": "code",
   "execution_count": 20,
   "metadata": {
    "ExecuteTime": {
     "end_time": "2021-01-20T07:50:22.906790Z",
     "start_time": "2021-01-20T07:50:22.903509Z"
    }
   },
   "outputs": [],
   "source": [
    "from typing import Union, List\n",
    "\n",
    "class Queue:\n",
    "    \"\"\"New Version\"\"\"\n",
    "    def __init__(self):\n",
    "        self.queue = []\n",
    "        \n",
    "    def add_to_queue(self, integers: Union[int, List[int]]):\n",
    "        if isinstance(integers, int):\n",
    "            integers = [integers]\n",
    "            \n",
    "        for i in integers:\n",
    "            self.queue.insert(-1, i)"
   ]
  },
  {
   "cell_type": "code",
   "execution_count": 21,
   "metadata": {
    "ExecuteTime": {
     "end_time": "2021-01-20T07:50:36.908891Z",
     "start_time": "2021-01-20T07:50:36.903354Z"
    }
   },
   "outputs": [
    {
     "ename": "TypeError",
     "evalue": "add_to_queue() got an unexpected keyword argument 'item'",
     "output_type": "error",
     "traceback": [
      "\u001b[0;31m---------------------------------------------------------------------------\u001b[0m",
      "\u001b[0;31mTypeError\u001b[0m                                 Traceback (most recent call last)",
      "\u001b[0;32m<ipython-input-21-9cf463a96759>\u001b[0m in \u001b[0;36m<module>\u001b[0;34m\u001b[0m\n\u001b[1;32m      2\u001b[0m \u001b[0;34m\u001b[0m\u001b[0m\n\u001b[1;32m      3\u001b[0m \u001b[0;32mfor\u001b[0m \u001b[0mi\u001b[0m \u001b[0;32min\u001b[0m \u001b[0mrange\u001b[0m\u001b[0;34m(\u001b[0m\u001b[0;36m10\u001b[0m\u001b[0;34m)\u001b[0m\u001b[0;34m:\u001b[0m\u001b[0;34m\u001b[0m\u001b[0;34m\u001b[0m\u001b[0m\n\u001b[0;32m----> 4\u001b[0;31m     \u001b[0mq\u001b[0m\u001b[0;34m.\u001b[0m\u001b[0madd_to_queue\u001b[0m\u001b[0;34m(\u001b[0m\u001b[0mitem\u001b[0m\u001b[0;34m=\u001b[0m\u001b[0mi\u001b[0m\u001b[0;34m)\u001b[0m\u001b[0;34m\u001b[0m\u001b[0;34m\u001b[0m\u001b[0m\n\u001b[0m\u001b[1;32m      5\u001b[0m \u001b[0;34m\u001b[0m\u001b[0m\n\u001b[1;32m      6\u001b[0m \u001b[0mq\u001b[0m\u001b[0;34m.\u001b[0m\u001b[0mqueue\u001b[0m\u001b[0;34m\u001b[0m\u001b[0;34m\u001b[0m\u001b[0m\n",
      "\u001b[0;31mTypeError\u001b[0m: add_to_queue() got an unexpected keyword argument 'item'"
     ]
    }
   ],
   "source": [
    "q = Queue()\n",
    "\n",
    "for i in range(10):\n",
    "    q.add_to_queue(item=i)\n",
    "    \n",
    "q.queue"
   ]
  },
  {
   "cell_type": "code",
   "execution_count": 22,
   "metadata": {
    "ExecuteTime": {
     "end_time": "2021-01-20T07:51:31.561619Z",
     "start_time": "2021-01-20T07:51:31.559388Z"
    }
   },
   "outputs": [],
   "source": [
    "class Queue:\n",
    "    \"\"\"Initial Version\"\"\"\n",
    "    def __init__(self):\n",
    "        self.queue = []\n",
    "        \n",
    "    def add_to_queue(self, item: int, /):\n",
    "        self.queue.insert(-1, item)"
   ]
  },
  {
   "cell_type": "code",
   "execution_count": 25,
   "metadata": {
    "ExecuteTime": {
     "end_time": "2021-01-20T07:51:49.626328Z",
     "start_time": "2021-01-20T07:51:49.624210Z"
    }
   },
   "outputs": [],
   "source": [
    "q = Queue()\n",
    "\n",
    "for i in range(10):\n",
    "    q.add_to_queue(i)"
   ]
  },
  {
   "cell_type": "code",
   "execution_count": 26,
   "metadata": {
    "ExecuteTime": {
     "end_time": "2021-01-20T07:51:53.066126Z",
     "start_time": "2021-01-20T07:51:53.063371Z"
    }
   },
   "outputs": [],
   "source": [
    "from typing import Union, List\n",
    "\n",
    "class Queue:\n",
    "    \"\"\"Initial Version\"\"\"\n",
    "    def __init__(self):\n",
    "        self.queue = []\n",
    "        \n",
    "    def add_to_queue(self, integers: Union[int, List[int]], /):\n",
    "        if isinstance(integers, int):\n",
    "            integers = [integers]\n",
    "            \n",
    "        for i in integers:\n",
    "            self.queue.insert(-1, i)"
   ]
  },
  {
   "cell_type": "code",
   "execution_count": 27,
   "metadata": {
    "ExecuteTime": {
     "end_time": "2021-01-20T07:52:02.619253Z",
     "start_time": "2021-01-20T07:52:02.616975Z"
    }
   },
   "outputs": [],
   "source": [
    "q = Queue()\n",
    "\n",
    "for i in range(10):\n",
    "    q.add_to_queue(i)"
   ]
  },
  {
   "cell_type": "code",
   "execution_count": null,
   "metadata": {},
   "outputs": [],
   "source": []
  },
  {
   "cell_type": "markdown",
   "metadata": {},
   "source": [
    "#### Implicit function return"
   ]
  },
  {
   "cell_type": "code",
   "execution_count": 28,
   "metadata": {
    "ExecuteTime": {
     "end_time": "2021-01-20T07:53:14.713930Z",
     "start_time": "2021-01-20T07:53:14.712130Z"
    }
   },
   "outputs": [],
   "source": [
    "def func():\n",
    "    return None"
   ]
  },
  {
   "cell_type": "code",
   "execution_count": 30,
   "metadata": {
    "ExecuteTime": {
     "end_time": "2021-01-20T07:53:27.050626Z",
     "start_time": "2021-01-20T07:53:27.048034Z"
    }
   },
   "outputs": [
    {
     "name": "stdout",
     "output_type": "stream",
     "text": [
      "None\n"
     ]
    }
   ],
   "source": [
    "print(func())"
   ]
  },
  {
   "cell_type": "code",
   "execution_count": null,
   "metadata": {},
   "outputs": [],
   "source": []
  },
  {
   "cell_type": "code",
   "execution_count": 33,
   "metadata": {
    "ExecuteTime": {
     "end_time": "2021-01-20T07:53:48.601509Z",
     "start_time": "2021-01-20T07:53:48.599626Z"
    }
   },
   "outputs": [],
   "source": [
    "def func2():\n",
    "    return"
   ]
  },
  {
   "cell_type": "code",
   "execution_count": 34,
   "metadata": {
    "ExecuteTime": {
     "end_time": "2021-01-20T07:53:50.394856Z",
     "start_time": "2021-01-20T07:53:50.392117Z"
    }
   },
   "outputs": [
    {
     "name": "stdout",
     "output_type": "stream",
     "text": [
      "None\n"
     ]
    }
   ],
   "source": [
    "print(func2())"
   ]
  },
  {
   "cell_type": "code",
   "execution_count": null,
   "metadata": {},
   "outputs": [],
   "source": []
  },
  {
   "cell_type": "code",
   "execution_count": 35,
   "metadata": {
    "ExecuteTime": {
     "end_time": "2021-01-20T07:54:41.178047Z",
     "start_time": "2021-01-20T07:54:41.175793Z"
    }
   },
   "outputs": [],
   "source": [
    "def func3():\n",
    "    pass"
   ]
  },
  {
   "cell_type": "code",
   "execution_count": 36,
   "metadata": {
    "ExecuteTime": {
     "end_time": "2021-01-20T07:54:46.602021Z",
     "start_time": "2021-01-20T07:54:46.599514Z"
    }
   },
   "outputs": [
    {
     "name": "stdout",
     "output_type": "stream",
     "text": [
      "None\n"
     ]
    }
   ],
   "source": [
    "print(func3())"
   ]
  },
  {
   "cell_type": "code",
   "execution_count": null,
   "metadata": {},
   "outputs": [],
   "source": []
  },
  {
   "cell_type": "code",
   "execution_count": 39,
   "metadata": {
    "ExecuteTime": {
     "end_time": "2021-01-20T07:55:36.745841Z",
     "start_time": "2021-01-20T07:55:36.744116Z"
    }
   },
   "outputs": [],
   "source": [
    "def func4():\n",
    "    ''"
   ]
  },
  {
   "cell_type": "code",
   "execution_count": 38,
   "metadata": {
    "ExecuteTime": {
     "end_time": "2021-01-20T07:55:33.338204Z",
     "start_time": "2021-01-20T07:55:33.336117Z"
    },
    "scrolled": true
   },
   "outputs": [
    {
     "name": "stdout",
     "output_type": "stream",
     "text": [
      "None\n"
     ]
    }
   ],
   "source": [
    "print(func4())"
   ]
  },
  {
   "cell_type": "code",
   "execution_count": null,
   "metadata": {},
   "outputs": [],
   "source": []
  },
  {
   "cell_type": "markdown",
   "metadata": {
    "ExecuteTime": {
     "end_time": "2021-01-20T00:04:44.676160Z",
     "start_time": "2021-01-20T00:04:44.674041Z"
    }
   },
   "source": [
    "## Assignments"
   ]
  },
  {
   "cell_type": "markdown",
   "metadata": {
    "ExecuteTime": {
     "end_time": "2021-01-20T00:12:45.861159Z",
     "start_time": "2021-01-20T00:12:45.858773Z"
    }
   },
   "source": [
    "### dict"
   ]
  },
  {
   "cell_type": "code",
   "execution_count": 40,
   "metadata": {
    "ExecuteTime": {
     "end_time": "2021-01-20T07:57:06.554185Z",
     "start_time": "2021-01-20T07:57:06.552131Z"
    }
   },
   "outputs": [],
   "source": [
    "d1 = {\"a\": 1, \"b\": 2}\n",
    "d2 = {\"c\": 2, \"d\": 3}"
   ]
  },
  {
   "cell_type": "code",
   "execution_count": 41,
   "metadata": {
    "ExecuteTime": {
     "end_time": "2021-01-20T07:57:12.171127Z",
     "start_time": "2021-01-20T07:57:12.168090Z"
    }
   },
   "outputs": [
    {
     "data": {
      "text/plain": [
       "{'a': 1, 'b': 2, 'c': 2, 'd': 3}"
      ]
     },
     "execution_count": 41,
     "metadata": {},
     "output_type": "execute_result"
    }
   ],
   "source": [
    "d1.update(d2)\n",
    "\n",
    "d1  #d1 contain new values"
   ]
  },
  {
   "cell_type": "code",
   "execution_count": null,
   "metadata": {},
   "outputs": [],
   "source": []
  },
  {
   "cell_type": "code",
   "execution_count": 42,
   "metadata": {
    "ExecuteTime": {
     "end_time": "2021-01-20T07:57:27.145968Z",
     "start_time": "2021-01-20T07:57:27.143854Z"
    }
   },
   "outputs": [],
   "source": [
    "d1 = {\"a\": 1, \"b\": 2}\n",
    "d2 = {\"c\": 2, \"d\": 3}"
   ]
  },
  {
   "cell_type": "code",
   "execution_count": 43,
   "metadata": {
    "ExecuteTime": {
     "end_time": "2021-01-20T07:57:33.867361Z",
     "start_time": "2021-01-20T07:57:33.863664Z"
    }
   },
   "outputs": [
    {
     "data": {
      "text/plain": [
       "{'a': 1, 'b': 2, 'c': 2, 'd': 3}"
      ]
     },
     "execution_count": 43,
     "metadata": {},
     "output_type": "execute_result"
    }
   ],
   "source": [
    "dd = d1.copy()\n",
    "dd.update(d2)\n",
    "dd"
   ]
  },
  {
   "cell_type": "code",
   "execution_count": 44,
   "metadata": {
    "ExecuteTime": {
     "end_time": "2021-01-20T07:57:42.572585Z",
     "start_time": "2021-01-20T07:57:42.567651Z"
    }
   },
   "outputs": [
    {
     "ename": "TypeError",
     "evalue": "unsupported operand type(s) for +: 'dict' and 'dict'",
     "output_type": "error",
     "traceback": [
      "\u001b[0;31m---------------------------------------------------------------------------\u001b[0m",
      "\u001b[0;31mTypeError\u001b[0m                                 Traceback (most recent call last)",
      "\u001b[0;32m<ipython-input-44-5fdc4b12eb03>\u001b[0m in \u001b[0;36m<module>\u001b[0;34m\u001b[0m\n\u001b[0;32m----> 1\u001b[0;31m \u001b[0md1\u001b[0m \u001b[0;34m+\u001b[0m \u001b[0md2\u001b[0m\u001b[0;34m\u001b[0m\u001b[0;34m\u001b[0m\u001b[0m\n\u001b[0m",
      "\u001b[0;31mTypeError\u001b[0m: unsupported operand type(s) for +: 'dict' and 'dict'"
     ]
    }
   ],
   "source": [
    "d1 + d2"
   ]
  },
  {
   "cell_type": "code",
   "execution_count": null,
   "metadata": {},
   "outputs": [],
   "source": []
  },
  {
   "cell_type": "code",
   "execution_count": 45,
   "metadata": {
    "ExecuteTime": {
     "end_time": "2021-01-20T07:59:23.465771Z",
     "start_time": "2021-01-20T07:59:23.463383Z"
    }
   },
   "outputs": [],
   "source": [
    "d1 = {\"a\": 1, \"b\": 2}\n",
    "d2 = {\"c\": 2, \"d\": 3}\n",
    "d3 = {\"c\": 2, \"b\": 3}\n",
    "z1 = zip([\"d\", \"e\"], [5, 42])"
   ]
  },
  {
   "cell_type": "code",
   "execution_count": 49,
   "metadata": {
    "ExecuteTime": {
     "end_time": "2021-01-20T08:02:07.997063Z",
     "start_time": "2021-01-20T08:02:07.994213Z"
    }
   },
   "outputs": [
    {
     "data": {
      "text/plain": [
       "{'a': 1, 'b': 2, 'c': 2, 'd': 3}"
      ]
     },
     "execution_count": 49,
     "metadata": {},
     "output_type": "execute_result"
    }
   ],
   "source": [
    "{\n",
    "    **d1,   \n",
    "    **d2,\n",
    "}"
   ]
  },
  {
   "cell_type": "code",
   "execution_count": 55,
   "metadata": {
    "ExecuteTime": {
     "end_time": "2021-01-20T08:05:52.844211Z",
     "start_time": "2021-01-20T08:05:52.840803Z"
    }
   },
   "outputs": [
    {
     "data": {
      "text/plain": [
       "{'b': 4, 'a': 1, 'c': 2}"
      ]
     },
     "execution_count": 55,
     "metadata": {},
     "output_type": "execute_result"
    }
   ],
   "source": [
    "{\n",
    "    \"b\": 2,\n",
    "    **d1,   \n",
    "    **d3,\n",
    "    \"b\": 4,\n",
    "}"
   ]
  },
  {
   "cell_type": "code",
   "execution_count": 53,
   "metadata": {
    "ExecuteTime": {
     "end_time": "2021-01-20T08:04:48.625843Z",
     "start_time": "2021-01-20T08:04:48.617238Z"
    }
   },
   "outputs": [
    {
     "ename": "TypeError",
     "evalue": "'zip' object is not a mapping",
     "output_type": "error",
     "traceback": [
      "\u001b[0;31m---------------------------------------------------------------------------\u001b[0m",
      "\u001b[0;31mTypeError\u001b[0m                                 Traceback (most recent call last)",
      "\u001b[0;32m<ipython-input-53-d6d043e3dcf8>\u001b[0m in \u001b[0;36m<module>\u001b[0;34m\u001b[0m\n\u001b[0;32m----> 1\u001b[0;31m {\n\u001b[0m\u001b[1;32m      2\u001b[0m     \u001b[0;34m**\u001b[0m\u001b[0md1\u001b[0m\u001b[0;34m,\u001b[0m\u001b[0;34m\u001b[0m\u001b[0;34m\u001b[0m\u001b[0m\n\u001b[1;32m      3\u001b[0m     \u001b[0;34m**\u001b[0m\u001b[0mz1\u001b[0m\u001b[0;34m\u001b[0m\u001b[0;34m\u001b[0m\u001b[0m\n\u001b[1;32m      4\u001b[0m }\n",
      "\u001b[0;31mTypeError\u001b[0m: 'zip' object is not a mapping"
     ]
    }
   ],
   "source": [
    "{\n",
    "    **d1,\n",
    "    **z1\n",
    "}"
   ]
  },
  {
   "cell_type": "code",
   "execution_count": 54,
   "metadata": {
    "ExecuteTime": {
     "end_time": "2021-01-20T08:05:15.355176Z",
     "start_time": "2021-01-20T08:05:15.352331Z"
    }
   },
   "outputs": [
    {
     "data": {
      "text/plain": [
       "{'a': 1, 'b': 2, 'd': 5, 'e': 42}"
      ]
     },
     "execution_count": 54,
     "metadata": {},
     "output_type": "execute_result"
    }
   ],
   "source": [
    "{\n",
    "    **d1,\n",
    "    **dict(z1)\n",
    "}"
   ]
  },
  {
   "cell_type": "markdown",
   "metadata": {
    "ExecuteTime": {
     "end_time": "2021-01-20T00:13:08.325505Z",
     "start_time": "2021-01-20T00:13:08.323082Z"
    }
   },
   "source": [
    "### base"
   ]
  },
  {
   "cell_type": "code",
   "execution_count": null,
   "metadata": {},
   "outputs": [],
   "source": [
    "## Chained assignment"
   ]
  },
  {
   "cell_type": "code",
   "execution_count": 56,
   "metadata": {
    "ExecuteTime": {
     "end_time": "2021-01-20T08:06:20.396456Z",
     "start_time": "2021-01-20T08:06:20.394273Z"
    }
   },
   "outputs": [],
   "source": [
    "a = b = c = d = 1"
   ]
  },
  {
   "cell_type": "code",
   "execution_count": 57,
   "metadata": {
    "ExecuteTime": {
     "end_time": "2021-01-20T08:06:28.621176Z",
     "start_time": "2021-01-20T08:06:28.618211Z"
    }
   },
   "outputs": [
    {
     "data": {
      "text/plain": [
       "(1, 9784864)"
      ]
     },
     "execution_count": 57,
     "metadata": {},
     "output_type": "execute_result"
    }
   ],
   "source": [
    "a, id(a)"
   ]
  },
  {
   "cell_type": "code",
   "execution_count": 58,
   "metadata": {
    "ExecuteTime": {
     "end_time": "2021-01-20T08:06:34.875035Z",
     "start_time": "2021-01-20T08:06:34.872050Z"
    }
   },
   "outputs": [
    {
     "data": {
      "text/plain": [
       "(1, 9784864)"
      ]
     },
     "execution_count": 58,
     "metadata": {},
     "output_type": "execute_result"
    }
   ],
   "source": [
    "b, id(b)"
   ]
  },
  {
   "cell_type": "code",
   "execution_count": null,
   "metadata": {},
   "outputs": [],
   "source": []
  },
  {
   "cell_type": "code",
   "execution_count": null,
   "metadata": {},
   "outputs": [],
   "source": [
    "## Parallel assignment"
   ]
  },
  {
   "cell_type": "code",
   "execution_count": 59,
   "metadata": {
    "ExecuteTime": {
     "end_time": "2021-01-20T08:07:30.922854Z",
     "start_time": "2021-01-20T08:07:30.920322Z"
    }
   },
   "outputs": [],
   "source": [
    "a, b = 1, 0"
   ]
  },
  {
   "cell_type": "code",
   "execution_count": 60,
   "metadata": {
    "ExecuteTime": {
     "end_time": "2021-01-20T08:07:39.756638Z",
     "start_time": "2021-01-20T08:07:39.752316Z"
    }
   },
   "outputs": [
    {
     "data": {
      "text/plain": [
       "(1, 9784864, 0, 9784832)"
      ]
     },
     "execution_count": 60,
     "metadata": {},
     "output_type": "execute_result"
    }
   ],
   "source": [
    "a, id(a), b, id(b)"
   ]
  },
  {
   "cell_type": "code",
   "execution_count": 61,
   "metadata": {
    "ExecuteTime": {
     "end_time": "2021-01-20T08:08:54.957428Z",
     "start_time": "2021-01-20T08:08:54.955515Z"
    }
   },
   "outputs": [],
   "source": [
    "a, b = b, a"
   ]
  },
  {
   "cell_type": "code",
   "execution_count": 62,
   "metadata": {
    "ExecuteTime": {
     "end_time": "2021-01-20T08:09:00.796268Z",
     "start_time": "2021-01-20T08:09:00.793408Z"
    }
   },
   "outputs": [
    {
     "data": {
      "text/plain": [
       "(0, 9784832, 1, 9784864)"
      ]
     },
     "execution_count": 62,
     "metadata": {},
     "output_type": "execute_result"
    }
   ],
   "source": [
    "a, id(a), b, id(b)"
   ]
  },
  {
   "cell_type": "code",
   "execution_count": 63,
   "metadata": {
    "ExecuteTime": {
     "end_time": "2021-01-20T08:09:34.043134Z",
     "start_time": "2021-01-20T08:09:34.040522Z"
    }
   },
   "outputs": [],
   "source": [
    "a, b = a+1, a+1"
   ]
  },
  {
   "cell_type": "code",
   "execution_count": 64,
   "metadata": {
    "ExecuteTime": {
     "end_time": "2021-01-20T08:09:40.267905Z",
     "start_time": "2021-01-20T08:09:40.265049Z"
    }
   },
   "outputs": [
    {
     "data": {
      "text/plain": [
       "(1, 9784864, 1, 9784864)"
      ]
     },
     "execution_count": 64,
     "metadata": {},
     "output_type": "execute_result"
    }
   ],
   "source": [
    "a, id(a), b, id(b)"
   ]
  },
  {
   "cell_type": "code",
   "execution_count": null,
   "metadata": {},
   "outputs": [],
   "source": []
  },
  {
   "cell_type": "code",
   "execution_count": null,
   "metadata": {},
   "outputs": [],
   "source": []
  },
  {
   "cell_type": "markdown",
   "metadata": {},
   "source": [
    "## Clause"
   ]
  },
  {
   "cell_type": "code",
   "execution_count": 68,
   "metadata": {
    "ExecuteTime": {
     "end_time": "2021-01-20T08:11:56.543824Z",
     "start_time": "2021-01-20T08:11:56.540392Z"
    }
   },
   "outputs": [
    {
     "data": {
      "text/plain": [
       "42"
      ]
     },
     "execution_count": 68,
     "metadata": {},
     "output_type": "execute_result"
    }
   ],
   "source": [
    "a = None\n",
    "\n",
    "b = a or False or 0 or [] or {} or tuple() or 42 or 3.14\n",
    "\n",
    "b"
   ]
  },
  {
   "cell_type": "code",
   "execution_count": 70,
   "metadata": {
    "ExecuteTime": {
     "end_time": "2021-01-20T08:13:05.868491Z",
     "start_time": "2021-01-20T08:13:05.865997Z"
    }
   },
   "outputs": [
    {
     "name": "stdout",
     "output_type": "stream",
     "text": [
      "Else! []\n"
     ]
    }
   ],
   "source": [
    "c = []\n",
    "\n",
    "if c:\n",
    "    print(f\"IF! {c}\")\n",
    "else:\n",
    "    print(f\"Else! {c}\")"
   ]
  },
  {
   "cell_type": "code",
   "execution_count": 71,
   "metadata": {
    "ExecuteTime": {
     "end_time": "2021-01-20T08:13:58.123449Z",
     "start_time": "2021-01-20T08:13:58.121577Z"
    }
   },
   "outputs": [],
   "source": [
    "def func(value):\n",
    "    return value or 12\n"
   ]
  },
  {
   "cell_type": "code",
   "execution_count": 73,
   "metadata": {
    "ExecuteTime": {
     "end_time": "2021-01-20T08:14:30.876750Z",
     "start_time": "2021-01-20T08:14:30.874013Z"
    }
   },
   "outputs": [
    {
     "data": {
      "text/plain": [
       "12"
      ]
     },
     "execution_count": 73,
     "metadata": {},
     "output_type": "execute_result"
    }
   ],
   "source": [
    "func(0)"
   ]
  },
  {
   "cell_type": "code",
   "execution_count": 74,
   "metadata": {
    "ExecuteTime": {
     "end_time": "2021-01-20T08:14:36.140859Z",
     "start_time": "2021-01-20T08:14:36.137789Z"
    }
   },
   "outputs": [
    {
     "data": {
      "text/plain": [
       "1"
      ]
     },
     "execution_count": 74,
     "metadata": {},
     "output_type": "execute_result"
    }
   ],
   "source": [
    "func(1)"
   ]
  },
  {
   "cell_type": "code",
   "execution_count": 75,
   "metadata": {
    "ExecuteTime": {
     "end_time": "2021-01-20T08:14:45.485492Z",
     "start_time": "2021-01-20T08:14:45.482686Z"
    }
   },
   "outputs": [
    {
     "data": {
      "text/plain": [
       "12"
      ]
     },
     "execution_count": 75,
     "metadata": {},
     "output_type": "execute_result"
    }
   ],
   "source": [
    "func(False)"
   ]
  },
  {
   "cell_type": "code",
   "execution_count": 76,
   "metadata": {
    "ExecuteTime": {
     "end_time": "2021-01-20T08:14:53.244063Z",
     "start_time": "2021-01-20T08:14:53.241356Z"
    }
   },
   "outputs": [
    {
     "data": {
      "text/plain": [
       "12"
      ]
     },
     "execution_count": 76,
     "metadata": {},
     "output_type": "execute_result"
    }
   ],
   "source": [
    "func([])"
   ]
  },
  {
   "cell_type": "code",
   "execution_count": 77,
   "metadata": {
    "ExecuteTime": {
     "end_time": "2021-01-20T08:15:44.331393Z",
     "start_time": "2021-01-20T08:15:44.329390Z"
    }
   },
   "outputs": [],
   "source": [
    "def func(value: int = None):\n",
    "    value = value or 0\n",
    "    \n",
    "    return value"
   ]
  },
  {
   "cell_type": "code",
   "execution_count": 79,
   "metadata": {
    "ExecuteTime": {
     "end_time": "2021-01-20T08:15:53.277102Z",
     "start_time": "2021-01-20T08:15:53.274538Z"
    }
   },
   "outputs": [
    {
     "data": {
      "text/plain": [
       "1"
      ]
     },
     "execution_count": 79,
     "metadata": {},
     "output_type": "execute_result"
    }
   ],
   "source": [
    "func(1)"
   ]
  },
  {
   "cell_type": "code",
   "execution_count": 80,
   "metadata": {
    "ExecuteTime": {
     "end_time": "2021-01-20T08:15:58.956323Z",
     "start_time": "2021-01-20T08:15:58.953308Z"
    }
   },
   "outputs": [
    {
     "data": {
      "text/plain": [
       "0"
      ]
     },
     "execution_count": 80,
     "metadata": {},
     "output_type": "execute_result"
    }
   ],
   "source": [
    "func(None)"
   ]
  }
 ],
 "metadata": {
  "kernelspec": {
   "display_name": "Python 3",
   "language": "python",
   "name": "python3"
  },
  "language_info": {
   "codemirror_mode": {
    "name": "ipython",
    "version": 3
   },
   "file_extension": ".py",
   "mimetype": "text/x-python",
   "name": "python",
   "nbconvert_exporter": "python",
   "pygments_lexer": "ipython3",
   "version": "3.8.5"
  }
 },
 "nbformat": 4,
 "nbformat_minor": 4
}

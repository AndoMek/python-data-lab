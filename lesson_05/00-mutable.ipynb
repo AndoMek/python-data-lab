{
 "cells": [
  {
   "cell_type": "code",
   "execution_count": 1,
   "metadata": {
    "ExecuteTime": {
     "end_time": "2021-01-22T08:42:36.637182Z",
     "start_time": "2021-01-22T08:42:36.634003Z"
    }
   },
   "outputs": [],
   "source": [
    "from typing import Mapping, Sequence, ByteString\n",
    "\n",
    "def get_recursive_id(o, key=None):\n",
    "    key = key or \"root\"\n",
    "    print(f\"{key}: {o}, id={id(o)}, type={o.__class__.__name__!r}\")\n",
    "        \n",
    "    if isinstance(o, dict):\n",
    "        for k, v in o.items():\n",
    "            get_recursive_id(v, f\"{key}.{k}\")\n",
    "    elif isinstance(o, Sequence) and not isinstance(Sequence, ByteString):\n",
    "        for ix, item in enumerate(o):\n",
    "            get_recursive_id(item, f\"{key}[{ix}]\")"
   ]
  },
  {
   "cell_type": "markdown",
   "metadata": {},
   "source": [
    "# Mutable type"
   ]
  },
  {
   "cell_type": "code",
   "execution_count": 2,
   "metadata": {
    "ExecuteTime": {
     "end_time": "2021-01-22T08:42:40.314501Z",
     "start_time": "2021-01-22T08:42:40.312249Z"
    }
   },
   "outputs": [],
   "source": [
    "d = {'a': {'b': {'c': 1, 'd': 2}, 'e': 3}, 'f': 4}"
   ]
  },
  {
   "cell_type": "code",
   "execution_count": null,
   "metadata": {},
   "outputs": [],
   "source": []
  },
  {
   "cell_type": "code",
   "execution_count": 3,
   "metadata": {
    "ExecuteTime": {
     "end_time": "2021-01-22T08:44:43.712541Z",
     "start_time": "2021-01-22T08:44:43.709981Z"
    }
   },
   "outputs": [
    {
     "name": "stdout",
     "output_type": "stream",
     "text": [
      "root: {'a': {'b': {'c': 1, 'd': 2}, 'e': 3}, 'f': 4}, id=140690851363200, type='dict'\n",
      "root.a: {'b': {'c': 1, 'd': 2}, 'e': 3}, id=140690851363072, type='dict'\n",
      "root.a.b: {'c': 1, 'd': 2}, id=140690851363136, type='dict'\n",
      "root.a.b.c: 1, id=9784864, type='int'\n",
      "root.a.b.d: 2, id=9784896, type='int'\n",
      "root.a.e: 3, id=9784928, type='int'\n",
      "root.f: 4, id=9784960, type='int'\n"
     ]
    }
   ],
   "source": [
    "get_recursive_id(d)"
   ]
  },
  {
   "cell_type": "code",
   "execution_count": 4,
   "metadata": {
    "ExecuteTime": {
     "end_time": "2021-01-22T08:45:36.019826Z",
     "start_time": "2021-01-22T08:45:36.013497Z"
    }
   },
   "outputs": [
    {
     "data": {
      "text/plain": [
       "({'c': 1, 'd': 2}, 140690851363136)"
      ]
     },
     "execution_count": 4,
     "metadata": {},
     "output_type": "execute_result"
    }
   ],
   "source": [
    "some_value = d['a']['b']\n",
    "\n",
    "some_value, id(some_value)"
   ]
  },
  {
   "cell_type": "code",
   "execution_count": 5,
   "metadata": {
    "ExecuteTime": {
     "end_time": "2021-01-22T08:45:58.165818Z",
     "start_time": "2021-01-22T08:45:58.163048Z"
    }
   },
   "outputs": [
    {
     "data": {
      "text/plain": [
       "({'d': 2}, {'a': {'b': {'d': 2}, 'e': 3}, 'f': 4})"
      ]
     },
     "execution_count": 5,
     "metadata": {},
     "output_type": "execute_result"
    }
   ],
   "source": [
    "del some_value[\"c\"]\n",
    "\n",
    "some_value, d"
   ]
  },
  {
   "cell_type": "code",
   "execution_count": null,
   "metadata": {},
   "outputs": [],
   "source": []
  },
  {
   "cell_type": "code",
   "execution_count": 6,
   "metadata": {
    "ExecuteTime": {
     "end_time": "2021-01-22T08:46:39.344848Z",
     "start_time": "2021-01-22T08:46:39.341680Z"
    }
   },
   "outputs": [],
   "source": [
    "def get_dict_value(d: dict, *args, default=None, errors: str = \"ignore\"):\n",
    "    try:\n",
    "        result = d[args[0]]\n",
    "        for key in args[1:]:\n",
    "            result = result[key]\n",
    "    except KeyError:\n",
    "        if errors == \"ignore\":\n",
    "            return default\n",
    "        elif errors == \"strict\":\n",
    "            raise KeyError(f\"Key path {'.'.join(args)} not exists\")\n",
    "            \n",
    "    return result"
   ]
  },
  {
   "cell_type": "code",
   "execution_count": 7,
   "metadata": {
    "ExecuteTime": {
     "end_time": "2021-01-22T08:46:42.365985Z",
     "start_time": "2021-01-22T08:46:42.363901Z"
    }
   },
   "outputs": [],
   "source": [
    "d0 = {'a': {'b': {'c': 1, 'd': 2}, 'e': 3}, 'f': 4}"
   ]
  },
  {
   "cell_type": "code",
   "execution_count": 8,
   "metadata": {
    "ExecuteTime": {
     "end_time": "2021-01-22T08:46:47.517017Z",
     "start_time": "2021-01-22T08:46:47.514132Z"
    }
   },
   "outputs": [
    {
     "name": "stdout",
     "output_type": "stream",
     "text": [
      "root: {'a': {'b': {'c': 1, 'd': 2}, 'e': 3}, 'f': 4}, id=140690851361856, type='dict'\n",
      "root.a: {'b': {'c': 1, 'd': 2}, 'e': 3}, id=140690851361152, type='dict'\n",
      "root.a.b: {'c': 1, 'd': 2}, id=140690851361984, type='dict'\n",
      "root.a.b.c: 1, id=9784864, type='int'\n",
      "root.a.b.d: 2, id=9784896, type='int'\n",
      "root.a.e: 3, id=9784928, type='int'\n",
      "root.f: 4, id=9784960, type='int'\n"
     ]
    }
   ],
   "source": [
    "get_recursive_id(d0)"
   ]
  },
  {
   "cell_type": "code",
   "execution_count": 9,
   "metadata": {
    "ExecuteTime": {
     "end_time": "2021-01-22T08:46:59.366949Z",
     "start_time": "2021-01-22T08:46:59.363892Z"
    }
   },
   "outputs": [
    {
     "data": {
      "text/plain": [
       "({'c': 1, 'd': 2}, 140690851361984)"
      ]
     },
     "execution_count": 9,
     "metadata": {},
     "output_type": "execute_result"
    }
   ],
   "source": [
    "some_value = get_dict_value(d0, \"a\", \"b\")\n",
    "\n",
    "some_value, id(some_value)"
   ]
  },
  {
   "cell_type": "code",
   "execution_count": 10,
   "metadata": {
    "ExecuteTime": {
     "end_time": "2021-01-22T08:47:11.648353Z",
     "start_time": "2021-01-22T08:47:11.645478Z"
    }
   },
   "outputs": [
    {
     "data": {
      "text/plain": [
       "({'d': 2}, {'a': {'b': {'d': 2}, 'e': 3}, 'f': 4})"
      ]
     },
     "execution_count": 10,
     "metadata": {},
     "output_type": "execute_result"
    }
   ],
   "source": [
    "del some_value[\"c\"]\n",
    "\n",
    "some_value, d0"
   ]
  },
  {
   "cell_type": "code",
   "execution_count": 13,
   "metadata": {
    "ExecuteTime": {
     "end_time": "2021-01-22T08:49:07.624052Z",
     "start_time": "2021-01-22T08:49:07.620271Z"
    }
   },
   "outputs": [
    {
     "data": {
      "text/plain": [
       "True"
      ]
     },
     "execution_count": 13,
     "metadata": {},
     "output_type": "execute_result"
    }
   ],
   "source": [
    "\"copy\" in dir(dict)"
   ]
  },
  {
   "cell_type": "code",
   "execution_count": 14,
   "metadata": {
    "ExecuteTime": {
     "end_time": "2021-01-22T08:49:15.570640Z",
     "start_time": "2021-01-22T08:49:15.567864Z"
    }
   },
   "outputs": [
    {
     "data": {
      "text/plain": [
       "True"
      ]
     },
     "execution_count": 14,
     "metadata": {},
     "output_type": "execute_result"
    }
   ],
   "source": [
    "\"copy\" in dir(list)"
   ]
  },
  {
   "cell_type": "code",
   "execution_count": 15,
   "metadata": {
    "ExecuteTime": {
     "end_time": "2021-01-22T08:49:21.248026Z",
     "start_time": "2021-01-22T08:49:21.244784Z"
    }
   },
   "outputs": [
    {
     "data": {
      "text/plain": [
       "False"
      ]
     },
     "execution_count": 15,
     "metadata": {},
     "output_type": "execute_result"
    }
   ],
   "source": [
    "\"copy\" in dir(int)"
   ]
  },
  {
   "cell_type": "code",
   "execution_count": 16,
   "metadata": {
    "ExecuteTime": {
     "end_time": "2021-01-22T08:49:39.014885Z",
     "start_time": "2021-01-22T08:49:39.012174Z"
    }
   },
   "outputs": [
    {
     "data": {
      "text/plain": [
       "False"
      ]
     },
     "execution_count": 16,
     "metadata": {},
     "output_type": "execute_result"
    }
   ],
   "source": [
    "\"copy\" in dir(str)"
   ]
  },
  {
   "cell_type": "markdown",
   "metadata": {},
   "source": [
    "## copy — Shallow and deep copy operation\n",
    "https://docs.python.org/3/library/copy.html"
   ]
  },
  {
   "cell_type": "code",
   "execution_count": 17,
   "metadata": {
    "ExecuteTime": {
     "end_time": "2021-01-22T08:50:15.813385Z",
     "start_time": "2021-01-22T08:50:15.809950Z"
    }
   },
   "outputs": [],
   "source": [
    "import copy\n",
    "\n",
    "\n",
    "def get_dict_value(d: dict, *args, default=None, errors: str = \"ignore\"):\n",
    "    try:\n",
    "        result = d[args[0]]\n",
    "        for key in args[1:]:\n",
    "            result = result[key]\n",
    "    except KeyError:\n",
    "        if errors == \"ignore\":\n",
    "            return default\n",
    "        elif errors == \"strict\":\n",
    "            raise KeyError(f\"Key path {'.'.join(args)} not exists\")\n",
    "            \n",
    "    return copy.copy(result)"
   ]
  },
  {
   "cell_type": "code",
   "execution_count": 18,
   "metadata": {
    "ExecuteTime": {
     "end_time": "2021-01-22T08:50:20.129471Z",
     "start_time": "2021-01-22T08:50:20.127088Z"
    }
   },
   "outputs": [],
   "source": [
    "d1 = {'a': {'b': {'c': 1, 'd': 2}, 'e': 3}, 'f': 4}"
   ]
  },
  {
   "cell_type": "code",
   "execution_count": 19,
   "metadata": {
    "ExecuteTime": {
     "end_time": "2021-01-22T08:50:23.505614Z",
     "start_time": "2021-01-22T08:50:23.502726Z"
    }
   },
   "outputs": [
    {
     "name": "stdout",
     "output_type": "stream",
     "text": [
      "root: {'a': {'b': {'c': 1, 'd': 2}, 'e': 3}, 'f': 4}, id=140690605453440, type='dict'\n",
      "root.a: {'b': {'c': 1, 'd': 2}, 'e': 3}, id=140690605933312, type='dict'\n",
      "root.a.b: {'c': 1, 'd': 2}, id=140690606403328, type='dict'\n",
      "root.a.b.c: 1, id=9784864, type='int'\n",
      "root.a.b.d: 2, id=9784896, type='int'\n",
      "root.a.e: 3, id=9784928, type='int'\n",
      "root.f: 4, id=9784960, type='int'\n"
     ]
    }
   ],
   "source": [
    "get_recursive_id(d1)"
   ]
  },
  {
   "cell_type": "code",
   "execution_count": 20,
   "metadata": {
    "ExecuteTime": {
     "end_time": "2021-01-22T08:50:31.611985Z",
     "start_time": "2021-01-22T08:50:31.609272Z"
    }
   },
   "outputs": [
    {
     "data": {
      "text/plain": [
       "({'c': 1, 'd': 2}, 140690605423104)"
      ]
     },
     "execution_count": 20,
     "metadata": {},
     "output_type": "execute_result"
    }
   ],
   "source": [
    "some_value = get_dict_value(d1, \"a\", \"b\")\n",
    "\n",
    "some_value, id(some_value)"
   ]
  },
  {
   "cell_type": "code",
   "execution_count": 21,
   "metadata": {
    "ExecuteTime": {
     "end_time": "2021-01-22T08:50:36.955369Z",
     "start_time": "2021-01-22T08:50:36.950900Z"
    }
   },
   "outputs": [
    {
     "data": {
      "text/plain": [
       "({'d': 2}, {'a': {'b': {'c': 1, 'd': 2}, 'e': 3}, 'f': 4})"
      ]
     },
     "execution_count": 21,
     "metadata": {},
     "output_type": "execute_result"
    }
   ],
   "source": [
    "del some_value[\"c\"]\n",
    "\n",
    "some_value, d1"
   ]
  },
  {
   "cell_type": "code",
   "execution_count": null,
   "metadata": {},
   "outputs": [],
   "source": []
  },
  {
   "cell_type": "code",
   "execution_count": 22,
   "metadata": {
    "ExecuteTime": {
     "end_time": "2021-01-22T08:50:52.642080Z",
     "start_time": "2021-01-22T08:50:52.639237Z"
    }
   },
   "outputs": [],
   "source": [
    "d2 = {'a': {'b': {'c': 1, 'd': 2}, 'e': 3}, 'f': 4}"
   ]
  },
  {
   "cell_type": "code",
   "execution_count": 23,
   "metadata": {
    "ExecuteTime": {
     "end_time": "2021-01-22T08:50:55.407801Z",
     "start_time": "2021-01-22T08:50:55.405276Z"
    }
   },
   "outputs": [
    {
     "name": "stdout",
     "output_type": "stream",
     "text": [
      "root: {'a': {'b': {'c': 1, 'd': 2}, 'e': 3}, 'f': 4}, id=140690605467648, type='dict'\n",
      "root.a: {'b': {'c': 1, 'd': 2}, 'e': 3}, id=140690605439872, type='dict'\n",
      "root.a.b: {'c': 1, 'd': 2}, id=140690605848320, type='dict'\n",
      "root.a.b.c: 1, id=9784864, type='int'\n",
      "root.a.b.d: 2, id=9784896, type='int'\n",
      "root.a.e: 3, id=9784928, type='int'\n",
      "root.f: 4, id=9784960, type='int'\n"
     ]
    }
   ],
   "source": [
    "get_recursive_id(d2)"
   ]
  },
  {
   "cell_type": "code",
   "execution_count": 24,
   "metadata": {
    "ExecuteTime": {
     "end_time": "2021-01-22T08:51:12.279335Z",
     "start_time": "2021-01-22T08:51:12.276487Z"
    }
   },
   "outputs": [
    {
     "data": {
      "text/plain": [
       "({'b': {'c': 1, 'd': 2}, 'e': 3}, 140690605466560)"
      ]
     },
     "execution_count": 24,
     "metadata": {},
     "output_type": "execute_result"
    }
   ],
   "source": [
    "some_value = get_dict_value(d2, \"a\")\n",
    "\n",
    "some_value, id(some_value)"
   ]
  },
  {
   "cell_type": "code",
   "execution_count": 25,
   "metadata": {
    "ExecuteTime": {
     "end_time": "2021-01-22T08:51:25.634417Z",
     "start_time": "2021-01-22T08:51:25.631078Z"
    }
   },
   "outputs": [
    {
     "data": {
      "text/plain": [
       "\"some_value = {'b': {'d': 2}, 'e': 3}, d2 = {'a': {'b': {'d': 2}, 'e': 3}, 'f': 4}\""
      ]
     },
     "execution_count": 25,
     "metadata": {},
     "output_type": "execute_result"
    }
   ],
   "source": [
    "del some_value[\"b\"][\"c\"]\n",
    "\n",
    "f\"{some_value = }, {d2 = }\""
   ]
  },
  {
   "cell_type": "code",
   "execution_count": 26,
   "metadata": {
    "ExecuteTime": {
     "end_time": "2021-01-22T08:51:34.396198Z",
     "start_time": "2021-01-22T08:51:34.393390Z"
    }
   },
   "outputs": [
    {
     "data": {
      "text/plain": [
       "140690605848320"
      ]
     },
     "execution_count": 26,
     "metadata": {},
     "output_type": "execute_result"
    }
   ],
   "source": [
    "id(some_value[\"b\"])"
   ]
  },
  {
   "cell_type": "code",
   "execution_count": null,
   "metadata": {},
   "outputs": [],
   "source": []
  },
  {
   "cell_type": "markdown",
   "metadata": {},
   "source": [
    "<img style=\"float: left;\" src=\"https://miro.medium.com/max/570/0*y8AuUHSoTGRqX40h.jpeg\">"
   ]
  },
  {
   "cell_type": "code",
   "execution_count": null,
   "metadata": {},
   "outputs": [],
   "source": []
  },
  {
   "cell_type": "code",
   "execution_count": 27,
   "metadata": {
    "ExecuteTime": {
     "end_time": "2021-01-22T08:52:59.809968Z",
     "start_time": "2021-01-22T08:52:59.807062Z"
    }
   },
   "outputs": [],
   "source": [
    "import copy\n",
    "\n",
    "\n",
    "def get_dict_value(d: dict, *args, default=None, errors: str = \"ignore\"):\n",
    "    try:\n",
    "        result = d[args[0]]\n",
    "        for key in args[1:]:\n",
    "            result = result[key]\n",
    "    except KeyError:\n",
    "        if errors == \"ignore\":\n",
    "            return default\n",
    "        elif errors == \"strict\":\n",
    "            raise KeyError(f\"Key path {'.'.join(args)} not exists\")\n",
    "    \n",
    "    # We need to go deeper\n",
    "    return copy.deepcopy(result)"
   ]
  },
  {
   "cell_type": "code",
   "execution_count": 28,
   "metadata": {
    "ExecuteTime": {
     "end_time": "2021-01-22T08:53:01.839531Z",
     "start_time": "2021-01-22T08:53:01.837487Z"
    }
   },
   "outputs": [],
   "source": [
    "d3 = {'a': {'b': {'c': 1, 'd': 2}, 'e': 3}, 'f': 4}"
   ]
  },
  {
   "cell_type": "code",
   "execution_count": 29,
   "metadata": {
    "ExecuteTime": {
     "end_time": "2021-01-22T08:53:04.015829Z",
     "start_time": "2021-01-22T08:53:04.013058Z"
    }
   },
   "outputs": [
    {
     "name": "stdout",
     "output_type": "stream",
     "text": [
      "root: {'a': {'b': {'c': 1, 'd': 2}, 'e': 3}, 'f': 4}, id=140690605604608, type='dict'\n",
      "root.a: {'b': {'c': 1, 'd': 2}, 'e': 3}, id=140690605463744, type='dict'\n",
      "root.a.b: {'c': 1, 'd': 2}, id=140690605561472, type='dict'\n",
      "root.a.b.c: 1, id=9784864, type='int'\n",
      "root.a.b.d: 2, id=9784896, type='int'\n",
      "root.a.e: 3, id=9784928, type='int'\n",
      "root.f: 4, id=9784960, type='int'\n"
     ]
    }
   ],
   "source": [
    "get_recursive_id(d3)"
   ]
  },
  {
   "cell_type": "code",
   "execution_count": 30,
   "metadata": {
    "ExecuteTime": {
     "end_time": "2021-01-22T08:53:11.372061Z",
     "start_time": "2021-01-22T08:53:11.369127Z"
    }
   },
   "outputs": [
    {
     "data": {
      "text/plain": [
       "({'b': {'c': 1, 'd': 2}, 'e': 3}, 140690605603648)"
      ]
     },
     "execution_count": 30,
     "metadata": {},
     "output_type": "execute_result"
    }
   ],
   "source": [
    "some_value = get_dict_value(d3, \"a\")\n",
    "\n",
    "some_value, id(some_value)"
   ]
  },
  {
   "cell_type": "code",
   "execution_count": 31,
   "metadata": {
    "ExecuteTime": {
     "end_time": "2021-01-22T08:53:20.455479Z",
     "start_time": "2021-01-22T08:53:20.452477Z"
    }
   },
   "outputs": [
    {
     "data": {
      "text/plain": [
       "140690605491712"
      ]
     },
     "execution_count": 31,
     "metadata": {},
     "output_type": "execute_result"
    }
   ],
   "source": [
    "id(some_value[\"b\"])"
   ]
  },
  {
   "cell_type": "code",
   "execution_count": null,
   "metadata": {},
   "outputs": [],
   "source": []
  },
  {
   "cell_type": "code",
   "execution_count": 32,
   "metadata": {
    "ExecuteTime": {
     "end_time": "2021-01-22T08:53:40.494135Z",
     "start_time": "2021-01-22T08:53:40.490965Z"
    }
   },
   "outputs": [
    {
     "data": {
      "text/plain": [
       "\"some_value = {'b': {'d': 2}, 'e': 3}, d3 = {'a': {'b': {'c': 1, 'd': 2}, 'e': 3}, 'f': 4}\""
      ]
     },
     "execution_count": 32,
     "metadata": {},
     "output_type": "execute_result"
    }
   ],
   "source": [
    "del some_value[\"b\"][\"c\"]\n",
    "\n",
    "f\"{some_value = }, {d3 = }\""
   ]
  },
  {
   "cell_type": "code",
   "execution_count": null,
   "metadata": {},
   "outputs": [],
   "source": []
  },
  {
   "cell_type": "code",
   "execution_count": null,
   "metadata": {},
   "outputs": [],
   "source": []
  },
  {
   "cell_type": "code",
   "execution_count": 33,
   "metadata": {
    "ExecuteTime": {
     "end_time": "2021-01-22T08:55:46.029505Z",
     "start_time": "2021-01-22T08:55:46.027806Z"
    }
   },
   "outputs": [],
   "source": [
    "## dict.copy() method"
   ]
  },
  {
   "cell_type": "code",
   "execution_count": 34,
   "metadata": {
    "ExecuteTime": {
     "end_time": "2021-01-22T08:56:02.710754Z",
     "start_time": "2021-01-22T08:56:02.708062Z"
    }
   },
   "outputs": [
    {
     "name": "stdout",
     "output_type": "stream",
     "text": [
      "Help on method_descriptor:\n",
      "\n",
      "copy(...)\n",
      "    D.copy() -> a shallow copy of D\n",
      "\n"
     ]
    }
   ],
   "source": [
    "help(dict.copy)"
   ]
  }
 ],
 "metadata": {
  "kernelspec": {
   "display_name": "Python 3",
   "language": "python",
   "name": "python3"
  },
  "language_info": {
   "codemirror_mode": {
    "name": "ipython",
    "version": 3
   },
   "file_extension": ".py",
   "mimetype": "text/x-python",
   "name": "python",
   "nbconvert_exporter": "python",
   "pygments_lexer": "ipython3",
   "version": "3.8.5"
  }
 },
 "nbformat": 4,
 "nbformat_minor": 4
}

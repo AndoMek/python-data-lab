{
 "cells": [
  {
   "cell_type": "markdown",
   "metadata": {
    "ExecuteTime": {
     "end_time": "2021-01-21T15:00:46.579605Z",
     "start_time": "2021-01-21T15:00:46.577848Z"
    }
   },
   "source": [
    "# Classes"
   ]
  },
  {
   "cell_type": "markdown",
   "metadata": {
    "ExecuteTime": {
     "end_time": "2021-01-21T14:58:53.199209Z",
     "start_time": "2021-01-21T14:58:53.196625Z"
    }
   },
   "source": [
    "## Python Data Model\n",
    "\n",
    "[Python 3 latest: Data Model](https://docs.python.org/3/reference/datamodel.html)"
   ]
  },
  {
   "cell_type": "code",
   "execution_count": null,
   "metadata": {},
   "outputs": [],
   "source": []
  },
  {
   "cell_type": "markdown",
   "metadata": {},
   "source": [
    "### Special Method Names\n",
    "\n",
    "[Python 3 latest: Special Method Names](https://docs.python.org/3/reference/datamodel.html?#special-method-names)\n",
    "\n",
    "#### Basic customization\n",
    "\n",
    "* [`object.__new__(cls[, ...])`](https://docs.python.org/3/reference/datamodel.html?#object.__new__)\n",
    "* [`object.__init__(self[, ...])`](https://docs.python.org/3/reference/datamodel.html?#object.__init__)\n",
    "* [`object.__del__(self)`](https://docs.python.org/3/reference/datamodel.html?#object.__del__)\n",
    "* [`object.__repr__(self)`](https://docs.python.org/3/reference/datamodel.html?#object.__repr__)\n",
    "* [`object.__str__(self)`](https://docs.python.org/3/reference/datamodel.html?#object.__str__)\n",
    "* [`object.__bytes__(self)`](https://docs.python.org/3/reference/datamodel.html?#object.__bytes__)\n",
    "* [`object.__format__(self, format_spec)`](https://docs.python.org/3/reference/datamodel.html?#object.__format__)\n",
    "* [`object.__format__(x, '')`](https://docs.python.org/3/reference/datamodel.html?#object.__format__)\n",
    "* [`object.__lt__(self, other)`](https://docs.python.org/3/reference/datamodel.html?#object.__lt__)\n",
    "* [`object.__le__(self, other)`](https://docs.python.org/3/reference/datamodel.html?#object.__le__)\n",
    "* [`object.__eq__(self, other)`](https://docs.python.org/3/reference/datamodel.html?#object.__eq__)\n",
    "* [`object.__ne__(self, other)`](https://docs.python.org/3/reference/datamodel.html?#object.__ne__)\n",
    "* [`object.__gt__(self, other)`](https://docs.python.org/3/reference/datamodel.html?#object.__gt__)\n",
    "* [`object.__ge__(self, other)`](https://docs.python.org/3/reference/datamodel.html?#object.__ge__)\n",
    "* [`object.__hash__(self)`](https://docs.python.org/3/reference/datamodel.html?#object.__hash__)\n",
    "* [`object.__bool__(self)`](https://docs.python.org/3/reference/datamodel.html?#object.__bool__)\n",
    "\n",
    "\n",
    "#### Customizing attribute access\n",
    "* [`object.__getattr__(self, name)`](https://docs.python.org/3/reference/datamodel.html?#object.__getattr__)\n",
    "* [`object.__getattribute__(self, name)`](https://docs.python.org/3/reference/datamodel.html?#object.__getattribute__)\n",
    "* [`object.__setattr__(self, name, value)`](https://docs.python.org/3/reference/datamodel.html?#object.__setattr__)\n",
    "* [`object.__delattr__(self, name)`](https://docs.python.org/3/reference/datamodel.html?#object.__delattr__)\n",
    "* [`object.__dir__(self)`](https://docs.python.org/3/reference/datamodel.html?#object.__dir__)\n",
    "\n",
    "##### Implementing Descriptors\n",
    "* [`object.__get__(self, instance, owner=None)`](https://docs.python.org/3/reference/datamodel.html?#object.__get__)\n",
    "* [`object.__set__(self, instance, value)`](https://docs.python.org/3/reference/datamodel.html?#object.__set__)\n",
    "* [`object.__delete__(self, instance)`](https://docs.python.org/3/reference/datamodel.html?#object.__delete__)\n",
    "\n",
    "##### `__slots__`\n",
    "* [`object.__slots__`](https://docs.python.org/3/reference/datamodel.html?#object.__slots__)\n",
    "\n",
    "#### Customizing class creation\n",
    " classmethod object.__init_subclass__(cls)\n",
    "* [`classmethod object.__init_subclass__(cls)`](https://docs.python.org/3/reference/datamodel.html?#class.__prepare__)\n",
    "\n",
    "\n",
    "##### Preparing the class namespace \n",
    "* [`metaclass.__prepare__(name, bases, **kwds) `](https://docs.python.org/3/reference/datamodel.html#preparing-the-class-namespace)\n",
    "\n",
    "#### Customizing instance and subclass checks\n",
    "* [`class.__instancecheck__(self, instance)`](https://docs.python.org/3/reference/datamodel.html?#class.__instancecheck__)\n",
    "* [`class.__subclasscheck__(self, subclass)`](https://docs.python.org/3/reference/datamodel.html?#class.__subclasscheck__)\n",
    "\n",
    "#### Emulating generic types\n",
    "* [`classmethod object.__class_getitem__(cls, key)`](https://docs.python.org/3/reference/datamodel.html?#object.__class_getitem__)\n",
    "\n",
    "\n",
    "#### Emulating callable objects\n",
    "* [`object.__call__(self[, args...])`](https://docs.python.org/3/reference/datamodel.html?#object.__call__)\n",
    "\n",
    "#### Emulating container types\n",
    "* [`object.__len__(self)`](https://docs.python.org/3/reference/datamodel.html?#object.__len__)\n",
    "* [`object.__length_hint__(self)`](https://docs.python.org/3/reference/datamodel.html?#object.__length_hint__)\n",
    "* [`object.__getitem__(self, key)`](https://docs.python.org/3/reference/datamodel.html?#object.__getitem__)\n",
    "* [`object.__setitem__(self, key, value)`](https://docs.python.org/3/reference/datamodel.html?#object.__setitem__)\n",
    "* [`object.__delitem__(self, key)`](https://docs.python.org/3/reference/datamodel.html?#object.__delitem__)\n",
    "* [`object.__missing__(self, key)`](https://docs.python.org/3/reference/datamodel.html?#object.__missing__)\n",
    "* [`object.__iter__(self)`](https://docs.python.org/3/reference/datamodel.html?#object.__iter__)\n",
    "* [`object.__reversed__(self)`](https://docs.python.org/3/reference/datamodel.html?#object.__reversed__)\n",
    "* [`object.__contains__(self, item)`](https://docs.python.org/3/reference/datamodel.html?#object.__contains__)\n",
    "\n",
    "#### Emulating numeric types\n",
    "* [`object.__add__(self, other)`](https://docs.python.org/3/reference/datamodel.html?#object.__add__)\n",
    "* [`object.__sub__(self, other)`](https://docs.python.org/3/reference/datamodel.html?#object.__sub__)\n",
    "* [`object.__mul__(self, other)`](https://docs.python.org/3/reference/datamodel.html?#object.__mul__)\n",
    "* [`object.__matmul__(self, other)`](https://docs.python.org/3/reference/datamodel.html?#object.__matmul__)\n",
    "* [`object.__truediv__(self, other)`](https://docs.python.org/3/reference/datamodel.html?#object.__truediv__)\n",
    "* [`object.__floordiv__(self, other)`](https://docs.python.org/3/reference/datamodel.html?#object.__floordiv__)\n",
    "* [`object.__mod__(self, other)`](https://docs.python.org/3/reference/datamodel.html?#object.__mod__)\n",
    "* [`object.__divmod__(self, other)`](https://docs.python.org/3/reference/datamodel.html?#object.__divmod__)\n",
    "* [`object.__pow__(self, other[, modulo])`](https://docs.python.org/3/reference/datamodel.html?#object.__pow__)\n",
    "* [`object.__lshift__(self, other)`](https://docs.python.org/3/reference/datamodel.html?#object.__lshift__)\n",
    "* [`object.__rshift__(self, other)`](https://docs.python.org/3/reference/datamodel.html?#object.__rshift__)\n",
    "* [`object.__and__(self, other)`](https://docs.python.org/3/reference/datamodel.html?#object.__and__)\n",
    "* [`object.__xor__(self, other)`](https://docs.python.org/3/reference/datamodel.html?#object.__xor__)\n",
    "* [`object.__or__(self, other)`](https://docs.python.org/3/reference/datamodel.html?#object.__or__)\n",
    "* [`object.__radd__(self, other)`](https://docs.python.org/3/reference/datamodel.html?#object.__radd__)\n",
    "* [`object.__rsub__(self, other)`](https://docs.python.org/3/reference/datamodel.html?#object.__rsub__)\n",
    "* [`object.__rmul__(self, other)`](https://docs.python.org/3/reference/datamodel.html?#object.__rmul__)\n",
    "* [`object.__rmatmul__(self, other)`](https://docs.python.org/3/reference/datamodel.html?#object.__rmatmul__)\n",
    "* [`object.__rtruediv__(self, other)`](https://docs.python.org/3/reference/datamodel.html?#object.__rtruediv__)\n",
    "* [`object.__rfloordiv__(self, other)`](https://docs.python.org/3/reference/datamodel.html?#object.__rfloordiv__)\n",
    "* [`object.__rmod__(self, other)`](https://docs.python.org/3/reference/datamodel.html?#object.__rmod__)\n",
    "* [`object.__rdivmod__(self, other)`](https://docs.python.org/3/reference/datamodel.html?#object.__rdivmod__)\n",
    "* [`object.__rpow__(self, other[, modulo])`](https://docs.python.org/3/reference/datamodel.html?#object.__rpow__)\n",
    "* [`object.__rlshift__(self, other)`](https://docs.python.org/3/reference/datamodel.html?#object.__rlshift__)\n",
    "* [`object.__rrshift__(self, other)`](https://docs.python.org/3/reference/datamodel.html?#object.__rrshift__)\n",
    "* [`object.__rand__(self, other)`](https://docs.python.org/3/reference/datamodel.html?#object.__rand__)\n",
    "* [`object.__rxor__(self, other)`](https://docs.python.org/3/reference/datamodel.html?#object.__rxor__)\n",
    "* [`object.__ror__(self, other)`](https://docs.python.org/3/reference/datamodel.html?#object.__ror__)\n",
    "* [`object.__iadd__(self, other)`](https://docs.python.org/3/reference/datamodel.html?#object.__iadd__)\n",
    "* [`object.__isub__(self, other)`](https://docs.python.org/3/reference/datamodel.html?#object.__isub__)\n",
    "* [`object.__imul__(self, other)`](https://docs.python.org/3/reference/datamodel.html?#object.__imul__)\n",
    "* [`object.__imatmul__(self, other)`](https://docs.python.org/3/reference/datamodel.html?#object.__imatmul__)\n",
    "* [`object.__itruediv__(self, other)`](https://docs.python.org/3/reference/datamodel.html?#object.__itruediv__)\n",
    "* [`object.__ifloordiv__(self, other)`](https://docs.python.org/3/reference/datamodel.html?#object.__ifloordiv__)\n",
    "* [`object.__imod__(self, other)`](https://docs.python.org/3/reference/datamodel.html?#object.__imod__)\n",
    "* [`object.__ipow__(self, other[, modulo])`](https://docs.python.org/3/reference/datamodel.html?#object.__ipow__)\n",
    "* [`object.__ilshift__(self, other)`](https://docs.python.org/3/reference/datamodel.html?#object.__ilshift__)\n",
    "* [`object.__irshift__(self, other)`](https://docs.python.org/3/reference/datamodel.html?#object.__irshift__)\n",
    "* [`object.__iand__(self, other)`](https://docs.python.org/3/reference/datamodel.html?#object.__iand__)\n",
    "* [`object.__ixor__(self, other)`](https://docs.python.org/3/reference/datamodel.html?#object.__ixor__)\n",
    "* [`object.__ior__(self, other)`](https://docs.python.org/3/reference/datamodel.html?#object.__ior__)\n",
    "* [`object.__neg__(self)`](https://docs.python.org/3/reference/datamodel.html?#object.__neg__)\n",
    "* [`object.__pos__(self)`](https://docs.python.org/3/reference/datamodel.html?#object.__pos__)\n",
    "* [`object.__abs__(self)`](https://docs.python.org/3/reference/datamodel.html?#object.__abs__)\n",
    "* [`object.__invert__(self)`](https://docs.python.org/3/reference/datamodel.html?#object.__invert__)\n",
    "* [`object.__complex__(self)`](https://docs.python.org/3/reference/datamodel.html?#object.__complex__)\n",
    "* [`object.__int__(self)`](https://docs.python.org/3/reference/datamodel.html?#object.__int__)\n",
    "* [`object.__float__(self)`](https://docs.python.org/3/reference/datamodel.html?#object.__float__)\n",
    "* [`object.__index__(self)`](https://docs.python.org/3/reference/datamodel.html?#object.__index__)\n",
    "* [`object.__round__(self[, ndigits])`](https://docs.python.org/3/reference/datamodel.html?#object.__round__)\n",
    "* [`object.__trunc__(self)`](https://docs.python.org/3/reference/datamodel.html?#object.__trunc__)\n",
    "* [`object.__floor__(self)`](https://docs.python.org/3/reference/datamodel.html?#object.__floor__)\n",
    "* [`object.__ceil__(self)`](https://docs.python.org/3/reference/datamodel.html?#object.__ceil__)\n",
    "\n",
    "#### With Statement Context Managers\n",
    "* [`object.__enter__(self)`](https://docs.python.org/3/reference/datamodel.html?#object.__enter__)\n",
    "* [`object.__exit__(self, exc_type, exc_value, traceback)`](https://docs.python.org/3/reference/datamodel.html?#object.__exit__)"
   ]
  },
  {
   "cell_type": "code",
   "execution_count": null,
   "metadata": {},
   "outputs": [],
   "source": []
  },
  {
   "cell_type": "markdown",
   "metadata": {},
   "source": [
    "## Context Management Protocol"
   ]
  },
  {
   "cell_type": "markdown",
   "metadata": {},
   "source": [
    "[PEP 343 -- The \"with\" Statement](https://www.python.org/dev/peps/pep-0343/)\n",
    "\n",
    "[Python Documentation: The with statement](https://docs.python.org/3/reference/compound_stmts.html#the-with-statement)\n",
    "\n",
    "[Data Model: With Statement Context Managers](https://docs.python.org/3/reference/datamodel.html#with-statement-context-managers)"
   ]
  },
  {
   "cell_type": "code",
   "execution_count": null,
   "metadata": {},
   "outputs": [],
   "source": []
  },
  {
   "cell_type": "markdown",
   "metadata": {},
   "source": [
    "__The following code:__\n",
    "\n",
    "```python\n",
    "with EXPRESSION as TARGET:\n",
    "    SUITE\n",
    "```\n",
    "\n",
    "__is semantically equivalent to:__\n",
    "\n",
    "```python    \n",
    "manager = (EXPRESSION)\n",
    "enter = type(manager).__enter__\n",
    "exit = type(manager).__exit__\n",
    "value = enter(manager)\n",
    "hit_except = False\n",
    "\n",
    "try:\n",
    "    TARGET = value\n",
    "    SUITE\n",
    "except:\n",
    "    hit_except = True\n",
    "    if not exit(manager, *sys.exc_info()):\n",
    "        raise\n",
    "finally:\n",
    "    if not hit_except:\n",
    "        exit(manager, None, None, None)\n",
    "```\n"
   ]
  },
  {
   "cell_type": "markdown",
   "metadata": {},
   "source": [
    "__tl; dr__: You need implement methods\n",
    "* [`__enter__(self)`](https://docs.python.org/3/reference/datamodel.html?highlight=__enter__#object.__enter__)\n",
    "* [`__exit__(self, exc_type, exc_value, exc_traceback)`](https://docs.python.org/3/reference/datamodel.html?highlight=__enter__#object.__exit__)"
   ]
  },
  {
   "cell_type": "code",
   "execution_count": null,
   "metadata": {},
   "outputs": [],
   "source": []
  },
  {
   "cell_type": "code",
   "execution_count": 8,
   "metadata": {
    "ExecuteTime": {
     "end_time": "2021-01-22T07:53:22.702859Z",
     "start_time": "2021-01-22T07:53:22.700106Z"
    }
   },
   "outputs": [],
   "source": [
    "class ContextManagerSample:\n",
    "    def __init__(self):\n",
    "        print(\"Call __init__ method\")\n",
    "           \n",
    "    def __enter__(self):\n",
    "        print(\"Call __enter__ method\")\n",
    "        return self\n",
    "        \n",
    "    def __exit__(self, exc_type, exc_val, traceback):\n",
    "        print(\"Call __exit__ method\")\n",
    "        if exc_type:\n",
    "            print(f\"{exc_type = }, {exc_val = }, {traceback = }\")\n"
   ]
  },
  {
   "cell_type": "code",
   "execution_count": null,
   "metadata": {},
   "outputs": [],
   "source": []
  },
  {
   "cell_type": "code",
   "execution_count": 6,
   "metadata": {
    "ExecuteTime": {
     "end_time": "2021-01-22T07:51:45.121100Z",
     "start_time": "2021-01-22T07:51:45.117667Z"
    }
   },
   "outputs": [
    {
     "name": "stdout",
     "output_type": "stream",
     "text": [
      "Call __init__ method\n",
      "Call __enter__ method\n",
      "Just Do It!\n",
      "<class '__main__.ContextManagerSample'>\n",
      "Call __exit__ method\n"
     ]
    }
   ],
   "source": [
    "with ContextManagerSample() as cms:\n",
    "    print(\"Just Do It!\")\n",
    "    print(cms.__class__)\n"
   ]
  },
  {
   "cell_type": "code",
   "execution_count": 9,
   "metadata": {
    "ExecuteTime": {
     "end_time": "2021-01-22T07:53:24.896202Z",
     "start_time": "2021-01-22T07:53:24.891089Z"
    }
   },
   "outputs": [
    {
     "name": "stdout",
     "output_type": "stream",
     "text": [
      "Call __init__ method\n",
      "Call __enter__ method\n",
      "Call __exit__ method\n",
      "exc_type = <class 'ZeroDivisionError'>, exc_val = ZeroDivisionError('division by zero'), traceback = <traceback object at 0x7f735e1ce440>\n"
     ]
    },
    {
     "ename": "ZeroDivisionError",
     "evalue": "division by zero",
     "output_type": "error",
     "traceback": [
      "\u001b[0;31m---------------------------------------------------------------------------\u001b[0m",
      "\u001b[0;31mZeroDivisionError\u001b[0m                         Traceback (most recent call last)",
      "\u001b[0;32m<ipython-input-9-742c5b87fe70>\u001b[0m in \u001b[0;36m<module>\u001b[0;34m\u001b[0m\n\u001b[1;32m      1\u001b[0m \u001b[0;32mwith\u001b[0m \u001b[0mContextManagerSample\u001b[0m\u001b[0;34m(\u001b[0m\u001b[0;34m)\u001b[0m \u001b[0;32mas\u001b[0m \u001b[0mcms\u001b[0m\u001b[0;34m:\u001b[0m\u001b[0;34m\u001b[0m\u001b[0;34m\u001b[0m\u001b[0m\n\u001b[0;32m----> 2\u001b[0;31m     \u001b[0;36m1\u001b[0m \u001b[0;34m/\u001b[0m \u001b[0;36m0\u001b[0m\u001b[0;34m\u001b[0m\u001b[0;34m\u001b[0m\u001b[0m\n\u001b[0m",
      "\u001b[0;31mZeroDivisionError\u001b[0m: division by zero"
     ]
    }
   ],
   "source": [
    "with ContextManagerSample() as cms:\n",
    "    1 / 0"
   ]
  },
  {
   "cell_type": "code",
   "execution_count": null,
   "metadata": {},
   "outputs": [],
   "source": []
  },
  {
   "cell_type": "code",
   "execution_count": 11,
   "metadata": {
    "ExecuteTime": {
     "end_time": "2021-01-22T07:58:28.185266Z",
     "start_time": "2021-01-22T07:58:28.181392Z"
    }
   },
   "outputs": [],
   "source": [
    "import os\n",
    "\n",
    "\n",
    "class OpenFile:\n",
    "    def __init__(self, filename, mode):\n",
    "        filename = os.path.expanduser(filename) # ~/1.txt -> /home/user/1.txt\n",
    "        filename = os.path.expandvars(filename) # %HOME%/1.txt -> /home/user/1.txt\n",
    "        \n",
    "        self.filename = filename\n",
    "        self.name = os.path.split(filename)[0]   \n",
    "        self.mode = mode\n",
    "        \n",
    "        self.closed = None\n",
    "        self.file = None\n",
    "           \n",
    "    def __enter__(self):\n",
    "        if self.closed:\n",
    "            raise OSError(f\"File {self.file!r} closed\")\n",
    "            \n",
    "        self.file = open(self.filename, self.mode)\n",
    "        self.closed = False\n",
    "        \n",
    "        return self.file\n",
    "        \n",
    "    def __exit__(self, exc_type, exc_val, traceback):\n",
    "        if not self.closed:\n",
    "            self.close()\n",
    "\n",
    "    def close(self):\n",
    "        if self.closed:\n",
    "            raise OSError(f\"File {self.file!r} already closed\")\n",
    "        self.closed = True\n",
    "        self.file.close()"
   ]
  },
  {
   "cell_type": "code",
   "execution_count": 13,
   "metadata": {
    "ExecuteTime": {
     "end_time": "2021-01-22T07:58:36.836903Z",
     "start_time": "2021-01-22T07:58:36.833674Z"
    }
   },
   "outputs": [
    {
     "name": "stdout",
     "output_type": "stream",
     "text": [
      "b'# Generated by NetworkManager\\nsearch minsklan\\nnameserver 172.16.2.1\\n'\n",
      "True\n"
     ]
    }
   ],
   "source": [
    "with OpenFile(\"/etc/resolv.conf\", \"rb\") as of:\n",
    "    print(of.read())\n",
    "\n",
    "print(of.closed)"
   ]
  },
  {
   "cell_type": "code",
   "execution_count": 14,
   "metadata": {
    "ExecuteTime": {
     "end_time": "2021-01-22T07:59:11.027111Z",
     "start_time": "2021-01-22T07:59:11.022664Z"
    }
   },
   "outputs": [
    {
     "ename": "AttributeError",
     "evalue": "'OpenFile' object has no attribute 'read'",
     "output_type": "error",
     "traceback": [
      "\u001b[0;31m---------------------------------------------------------------------------\u001b[0m",
      "\u001b[0;31mAttributeError\u001b[0m                            Traceback (most recent call last)",
      "\u001b[0;32m<ipython-input-14-aef9c87e291f>\u001b[0m in \u001b[0;36m<module>\u001b[0;34m\u001b[0m\n\u001b[1;32m      1\u001b[0m \u001b[0mof\u001b[0m \u001b[0;34m=\u001b[0m \u001b[0mOpenFile\u001b[0m\u001b[0;34m(\u001b[0m\u001b[0;34m\"/etc/resolv.conf\"\u001b[0m\u001b[0;34m,\u001b[0m \u001b[0;34m\"rb\"\u001b[0m\u001b[0;34m)\u001b[0m\u001b[0;34m\u001b[0m\u001b[0;34m\u001b[0m\u001b[0m\n\u001b[0;32m----> 2\u001b[0;31m \u001b[0mof\u001b[0m\u001b[0;34m.\u001b[0m\u001b[0mread\u001b[0m\u001b[0;34m(\u001b[0m\u001b[0;34m)\u001b[0m\u001b[0;34m\u001b[0m\u001b[0;34m\u001b[0m\u001b[0m\n\u001b[0m\u001b[1;32m      3\u001b[0m \u001b[0mof\u001b[0m\u001b[0;34m.\u001b[0m\u001b[0mclose\u001b[0m\u001b[0;34m(\u001b[0m\u001b[0;34m)\u001b[0m\u001b[0;34m\u001b[0m\u001b[0;34m\u001b[0m\u001b[0m\n",
      "\u001b[0;31mAttributeError\u001b[0m: 'OpenFile' object has no attribute 'read'"
     ]
    }
   ],
   "source": [
    "of = OpenFile(\"/etc/resolv.conf\", \"rb\")\n",
    "of.read()\n",
    "of.close()\n"
   ]
  },
  {
   "cell_type": "code",
   "execution_count": null,
   "metadata": {},
   "outputs": [],
   "source": []
  },
  {
   "cell_type": "code",
   "execution_count": 16,
   "metadata": {
    "ExecuteTime": {
     "end_time": "2021-01-22T08:01:40.390871Z",
     "start_time": "2021-01-22T08:01:40.387341Z"
    }
   },
   "outputs": [],
   "source": [
    "import os\n",
    "\n",
    "\n",
    "class OpenFile2:\n",
    "    def __init__(self, filename, mode):\n",
    "        filename = os.path.expanduser(filename)\n",
    "        filename = os.path.expandvars(filename)\n",
    "        \n",
    "        self.filename = filename\n",
    "        self.name = os.path.split(filename)[0]   \n",
    "        self.mode = mode\n",
    "        \n",
    "        self.file = open(self.filename, self.mode)\n",
    "        self.closed = self.file.closed\n",
    "        self.read = self.file.read\n",
    "           \n",
    "    def __enter__(self):\n",
    "        if self.closed:\n",
    "            raise OSError(f\"File {self.file!r} closed\")\n",
    "        return self\n",
    "        \n",
    "    def __exit__(self, exc_type, exc_val, traceback):\n",
    "        if not self.closed:\n",
    "            self.close()\n",
    "            \n",
    "    def close(self):\n",
    "        if self.closed:\n",
    "            raise OSError(f\"File {self.file!r} already closed\")\n",
    "        self.file.close()\n"
   ]
  },
  {
   "cell_type": "code",
   "execution_count": 19,
   "metadata": {
    "ExecuteTime": {
     "end_time": "2021-01-22T08:01:51.121175Z",
     "start_time": "2021-01-22T08:01:51.118817Z"
    }
   },
   "outputs": [
    {
     "name": "stdout",
     "output_type": "stream",
     "text": [
      "# Generated by NetworkManager\n",
      "search minsklan\n",
      "nameserver 172.16.2.1\n",
      "\n"
     ]
    }
   ],
   "source": [
    "with OpenFile2(\"/etc/resolv.conf\", \"r\") as fp:\n",
    "    print(fp.read())"
   ]
  },
  {
   "cell_type": "code",
   "execution_count": 20,
   "metadata": {
    "ExecuteTime": {
     "end_time": "2021-01-22T08:01:58.478961Z",
     "start_time": "2021-01-22T08:01:58.476202Z"
    }
   },
   "outputs": [
    {
     "name": "stdout",
     "output_type": "stream",
     "text": [
      "# Generated by NetworkManager\n",
      "search minsklan\n",
      "nameserver 172.16.2.1\n",
      "\n"
     ]
    }
   ],
   "source": [
    "fp = OpenFile2(\"/etc/resolv.conf\", \"r\")\n",
    "\n",
    "print(fp.read())\n",
    "\n",
    "fp.close()"
   ]
  },
  {
   "cell_type": "code",
   "execution_count": null,
   "metadata": {},
   "outputs": [],
   "source": []
  },
  {
   "cell_type": "markdown",
   "metadata": {},
   "source": [
    "### contextlib — Utilities for with-statement contexts\n",
    "https://docs.python.org/3/library/contextlib.html"
   ]
  },
  {
   "cell_type": "code",
   "execution_count": null,
   "metadata": {},
   "outputs": [],
   "source": [
    "import contextlib"
   ]
  },
  {
   "cell_type": "code",
   "execution_count": null,
   "metadata": {},
   "outputs": [],
   "source": []
  },
  {
   "cell_type": "code",
   "execution_count": 21,
   "metadata": {
    "ExecuteTime": {
     "end_time": "2021-01-22T08:06:01.923646Z",
     "start_time": "2021-01-22T08:06:01.921337Z"
    }
   },
   "outputs": [],
   "source": [
    "from contextlib import contextmanager\n",
    "\n",
    "@contextmanager\n",
    "def open_file(filename, mode):\n",
    "    # Code to acquire resource, e.g.:\n",
    "    file = open(filename, mode)\n",
    "    try:\n",
    "        yield file\n",
    "    finally:\n",
    "        # Code to release resource, e.g.:\n",
    "        file.close()"
   ]
  },
  {
   "cell_type": "code",
   "execution_count": 22,
   "metadata": {
    "ExecuteTime": {
     "end_time": "2021-01-22T08:06:08.639969Z",
     "start_time": "2021-01-22T08:06:08.637455Z"
    }
   },
   "outputs": [
    {
     "name": "stdout",
     "output_type": "stream",
     "text": [
      "# Generated by NetworkManager\n",
      "search minsklan\n",
      "nameserver 172.16.2.1\n",
      "\n"
     ]
    }
   ],
   "source": [
    "with open_file(\"/etc/resolv.conf\", \"r\") as fp:\n",
    "    print(fp.read())"
   ]
  },
  {
   "cell_type": "code",
   "execution_count": 23,
   "metadata": {
    "ExecuteTime": {
     "end_time": "2021-01-22T08:06:40.082292Z",
     "start_time": "2021-01-22T08:06:40.078034Z"
    }
   },
   "outputs": [
    {
     "ename": "AttributeError",
     "evalue": "'_GeneratorContextManager' object has no attribute 'read'",
     "output_type": "error",
     "traceback": [
      "\u001b[0;31m---------------------------------------------------------------------------\u001b[0m",
      "\u001b[0;31mAttributeError\u001b[0m                            Traceback (most recent call last)",
      "\u001b[0;32m<ipython-input-23-f49cf488a9c3>\u001b[0m in \u001b[0;36m<module>\u001b[0;34m\u001b[0m\n\u001b[1;32m      1\u001b[0m \u001b[0mfp\u001b[0m \u001b[0;34m=\u001b[0m \u001b[0mopen_file\u001b[0m\u001b[0;34m(\u001b[0m\u001b[0;34m\"/etc/resolv.conf\"\u001b[0m\u001b[0;34m,\u001b[0m \u001b[0;34m\"r\"\u001b[0m\u001b[0;34m)\u001b[0m\u001b[0;34m\u001b[0m\u001b[0;34m\u001b[0m\u001b[0m\n\u001b[0;32m----> 2\u001b[0;31m \u001b[0mprint\u001b[0m\u001b[0;34m(\u001b[0m\u001b[0mfp\u001b[0m\u001b[0;34m.\u001b[0m\u001b[0mread\u001b[0m\u001b[0;34m(\u001b[0m\u001b[0;34m)\u001b[0m\u001b[0;34m)\u001b[0m\u001b[0;34m\u001b[0m\u001b[0;34m\u001b[0m\u001b[0m\n\u001b[0m",
      "\u001b[0;31mAttributeError\u001b[0m: '_GeneratorContextManager' object has no attribute 'read'"
     ]
    }
   ],
   "source": [
    "fp = open_file(\"/etc/resolv.conf\", \"r\")\n",
    "print(fp.read())"
   ]
  },
  {
   "cell_type": "code",
   "execution_count": 24,
   "metadata": {
    "ExecuteTime": {
     "end_time": "2021-01-22T08:07:29.933739Z",
     "start_time": "2021-01-22T08:07:29.925382Z"
    }
   },
   "outputs": [
    {
     "data": {
      "text/plain": [
       "['__abstractmethods__',\n",
       " '__call__',\n",
       " '__class__',\n",
       " '__delattr__',\n",
       " '__dict__',\n",
       " '__dir__',\n",
       " '__doc__',\n",
       " '__enter__',\n",
       " '__eq__',\n",
       " '__exit__',\n",
       " '__format__',\n",
       " '__ge__',\n",
       " '__getattribute__',\n",
       " '__gt__',\n",
       " '__hash__',\n",
       " '__init__',\n",
       " '__init_subclass__',\n",
       " '__le__',\n",
       " '__lt__',\n",
       " '__module__',\n",
       " '__ne__',\n",
       " '__new__',\n",
       " '__reduce__',\n",
       " '__reduce_ex__',\n",
       " '__repr__',\n",
       " '__setattr__',\n",
       " '__sizeof__',\n",
       " '__slots__',\n",
       " '__str__',\n",
       " '__subclasshook__',\n",
       " '__weakref__',\n",
       " '_abc_impl',\n",
       " '_recreate_cm',\n",
       " 'args',\n",
       " 'func',\n",
       " 'gen',\n",
       " 'kwds']"
      ]
     },
     "execution_count": 24,
     "metadata": {},
     "output_type": "execute_result"
    }
   ],
   "source": [
    "dir(fp)"
   ]
  },
  {
   "cell_type": "code",
   "execution_count": null,
   "metadata": {},
   "outputs": [],
   "source": []
  },
  {
   "cell_type": "markdown",
   "metadata": {},
   "source": [
    "## `object.__slots__`\n",
    "[In Python, what is the purpose of `__slots__` and what are the cases one should avoid this?](https://stackoverflow.com/a/28059785)"
   ]
  },
  {
   "cell_type": "code",
   "execution_count": 25,
   "metadata": {
    "ExecuteTime": {
     "end_time": "2021-01-22T08:11:48.261815Z",
     "start_time": "2021-01-22T08:11:48.259892Z"
    }
   },
   "outputs": [],
   "source": [
    "class WeakRefSample:\n",
    "    pass"
   ]
  },
  {
   "cell_type": "code",
   "execution_count": null,
   "metadata": {},
   "outputs": [],
   "source": []
  },
  {
   "cell_type": "code",
   "execution_count": 26,
   "metadata": {
    "ExecuteTime": {
     "end_time": "2021-01-22T08:11:53.412055Z",
     "start_time": "2021-01-22T08:11:53.409789Z"
    }
   },
   "outputs": [
    {
     "name": "stdout",
     "output_type": "stream",
     "text": [
      "['__class__', '__delattr__', '__dict__', '__dir__', '__doc__', '__eq__', '__format__', '__ge__', '__getattribute__', '__gt__', '__hash__', '__init__', '__init_subclass__', '__le__', '__lt__', '__module__', '__ne__', '__new__', '__reduce__', '__reduce_ex__', '__repr__', '__setattr__', '__sizeof__', '__str__', '__subclasshook__', '__weakref__']\n"
     ]
    }
   ],
   "source": [
    "print(dir(WeakRefSample))"
   ]
  },
  {
   "cell_type": "code",
   "execution_count": null,
   "metadata": {},
   "outputs": [],
   "source": []
  },
  {
   "cell_type": "code",
   "execution_count": null,
   "metadata": {},
   "outputs": [],
   "source": []
  },
  {
   "cell_type": "code",
   "execution_count": 27,
   "metadata": {
    "ExecuteTime": {
     "end_time": "2021-01-22T08:13:24.886489Z",
     "start_time": "2021-01-22T08:13:24.884618Z"
    }
   },
   "outputs": [],
   "source": [
    "class SlotsSample:\n",
    "    __slots__ = (\"egg\", \"spam\", )"
   ]
  },
  {
   "cell_type": "code",
   "execution_count": 28,
   "metadata": {
    "ExecuteTime": {
     "end_time": "2021-01-22T08:13:27.975412Z",
     "start_time": "2021-01-22T08:13:27.972663Z"
    }
   },
   "outputs": [
    {
     "name": "stdout",
     "output_type": "stream",
     "text": [
      "['__class__', '__delattr__', '__dir__', '__doc__', '__eq__', '__format__', '__ge__', '__getattribute__', '__gt__', '__hash__', '__init__', '__init_subclass__', '__le__', '__lt__', '__module__', '__ne__', '__new__', '__reduce__', '__reduce_ex__', '__repr__', '__setattr__', '__sizeof__', '__slots__', '__str__', '__subclasshook__', 'egg', 'spam']\n"
     ]
    }
   ],
   "source": [
    "print(dir(SlotsSample))"
   ]
  },
  {
   "cell_type": "code",
   "execution_count": 29,
   "metadata": {
    "ExecuteTime": {
     "end_time": "2021-01-22T08:13:49.291372Z",
     "start_time": "2021-01-22T08:13:49.286998Z"
    }
   },
   "outputs": [
    {
     "ename": "AttributeError",
     "evalue": "egg",
     "output_type": "error",
     "traceback": [
      "\u001b[0;31m---------------------------------------------------------------------------\u001b[0m",
      "\u001b[0;31mAttributeError\u001b[0m                            Traceback (most recent call last)",
      "\u001b[0;32m<ipython-input-29-c1cba1a6a686>\u001b[0m in \u001b[0;36m<module>\u001b[0;34m\u001b[0m\n\u001b[0;32m----> 1\u001b[0;31m \u001b[0mSlotsSample\u001b[0m\u001b[0;34m(\u001b[0m\u001b[0;34m)\u001b[0m\u001b[0;34m.\u001b[0m\u001b[0megg\u001b[0m\u001b[0;34m\u001b[0m\u001b[0;34m\u001b[0m\u001b[0m\n\u001b[0m",
      "\u001b[0;31mAttributeError\u001b[0m: egg"
     ]
    }
   ],
   "source": [
    "SlotsSample().egg"
   ]
  },
  {
   "cell_type": "code",
   "execution_count": null,
   "metadata": {},
   "outputs": [],
   "source": []
  },
  {
   "cell_type": "code",
   "execution_count": 30,
   "metadata": {
    "ExecuteTime": {
     "end_time": "2021-01-22T08:14:09.935181Z",
     "start_time": "2021-01-22T08:14:09.932734Z"
    }
   },
   "outputs": [],
   "source": [
    "class WeakRefSample:\n",
    "    def __init__(self):\n",
    "        self.egg = \"Egg\"\n",
    "        self.spam = \"Spam\"       \n",
    "\n",
    "\n",
    "class SlotsSample:\n",
    "    __slots__ = (\"egg\", \"spam\", )\n",
    "    \n",
    "    def __init__(self):\n",
    "        self.egg = \"Egg\"\n",
    "        self.spam = \"Spam\""
   ]
  },
  {
   "cell_type": "code",
   "execution_count": 31,
   "metadata": {
    "ExecuteTime": {
     "end_time": "2021-01-22T08:14:35.681174Z",
     "start_time": "2021-01-22T08:14:33.808987Z"
    }
   },
   "outputs": [
    {
     "name": "stdout",
     "output_type": "stream",
     "text": [
      "229 ns ± 1.97 ns per loop (mean ± std. dev. of 7 runs, 1000000 loops each)\n"
     ]
    }
   ],
   "source": [
    "%%timeit\n",
    "wrs = WeakRefSample()\n",
    "wrs.egg, wrs.spam"
   ]
  },
  {
   "cell_type": "code",
   "execution_count": 32,
   "metadata": {
    "ExecuteTime": {
     "end_time": "2021-01-22T08:14:50.558182Z",
     "start_time": "2021-01-22T08:14:36.143621Z"
    }
   },
   "outputs": [
    {
     "name": "stdout",
     "output_type": "stream",
     "text": [
      "178 ns ± 1.37 ns per loop (mean ± std. dev. of 7 runs, 10000000 loops each)\n"
     ]
    }
   ],
   "source": [
    "%%timeit\n",
    "ss = SlotsSample()\n",
    "ss.egg, ss.spam"
   ]
  },
  {
   "cell_type": "code",
   "execution_count": 34,
   "metadata": {
    "ExecuteTime": {
     "end_time": "2021-01-22T08:15:49.921208Z",
     "start_time": "2021-01-22T08:15:49.915528Z"
    }
   },
   "outputs": [
    {
     "ename": "AttributeError",
     "evalue": "'SlotsSample' object has no attribute 'foo'",
     "output_type": "error",
     "traceback": [
      "\u001b[0;31m---------------------------------------------------------------------------\u001b[0m",
      "\u001b[0;31mAttributeError\u001b[0m                            Traceback (most recent call last)",
      "\u001b[0;32m<ipython-input-34-7f643b654f84>\u001b[0m in \u001b[0;36m<module>\u001b[0;34m\u001b[0m\n\u001b[1;32m      7\u001b[0m         \u001b[0mself\u001b[0m\u001b[0;34m.\u001b[0m\u001b[0mfoo\u001b[0m \u001b[0;34m=\u001b[0m \u001b[0;34m\"Bar\"\u001b[0m\u001b[0;34m\u001b[0m\u001b[0;34m\u001b[0m\u001b[0m\n\u001b[1;32m      8\u001b[0m \u001b[0;34m\u001b[0m\u001b[0m\n\u001b[0;32m----> 9\u001b[0;31m \u001b[0mSlotsSample\u001b[0m\u001b[0;34m(\u001b[0m\u001b[0;34m)\u001b[0m\u001b[0;34m\u001b[0m\u001b[0;34m\u001b[0m\u001b[0m\n\u001b[0m",
      "\u001b[0;32m<ipython-input-34-7f643b654f84>\u001b[0m in \u001b[0;36m__init__\u001b[0;34m(self)\u001b[0m\n\u001b[1;32m      5\u001b[0m         \u001b[0mself\u001b[0m\u001b[0;34m.\u001b[0m\u001b[0megg\u001b[0m \u001b[0;34m=\u001b[0m \u001b[0;34m\"Egg\"\u001b[0m\u001b[0;34m\u001b[0m\u001b[0;34m\u001b[0m\u001b[0m\n\u001b[1;32m      6\u001b[0m         \u001b[0mself\u001b[0m\u001b[0;34m.\u001b[0m\u001b[0mspam\u001b[0m \u001b[0;34m=\u001b[0m \u001b[0;34m\"Spam\"\u001b[0m\u001b[0;34m\u001b[0m\u001b[0;34m\u001b[0m\u001b[0m\n\u001b[0;32m----> 7\u001b[0;31m         \u001b[0mself\u001b[0m\u001b[0;34m.\u001b[0m\u001b[0mfoo\u001b[0m \u001b[0;34m=\u001b[0m \u001b[0;34m\"Bar\"\u001b[0m\u001b[0;34m\u001b[0m\u001b[0;34m\u001b[0m\u001b[0m\n\u001b[0m\u001b[1;32m      8\u001b[0m \u001b[0;34m\u001b[0m\u001b[0m\n\u001b[1;32m      9\u001b[0m \u001b[0mSlotsSample\u001b[0m\u001b[0;34m(\u001b[0m\u001b[0;34m)\u001b[0m\u001b[0;34m\u001b[0m\u001b[0;34m\u001b[0m\u001b[0m\n",
      "\u001b[0;31mAttributeError\u001b[0m: 'SlotsSample' object has no attribute 'foo'"
     ]
    }
   ],
   "source": [
    "class SlotsSample:\n",
    "    __slots__ = (\"egg\", \"spam\", )\n",
    "    \n",
    "    def __init__(self):\n",
    "        self.egg = \"Egg\"\n",
    "        self.spam = \"Spam\"\n",
    "        self.foo = \"Bar\"\n",
    "        \n",
    "SlotsSample()"
   ]
  },
  {
   "cell_type": "code",
   "execution_count": null,
   "metadata": {},
   "outputs": [],
   "source": []
  },
  {
   "cell_type": "code",
   "execution_count": 39,
   "metadata": {
    "ExecuteTime": {
     "end_time": "2021-01-22T08:17:29.533943Z",
     "start_time": "2021-01-22T08:17:29.530981Z"
    }
   },
   "outputs": [],
   "source": [
    "class WeakRefSampleBenchmark:\n",
    "    def __init__(self):\n",
    "        for x in range(99):\n",
    "            setattr(self, f\"egg{x:02d}\", f\"SPAM\")\n",
    "\n",
    "\n",
    "class SlotsSampleBenchmark:\n",
    "    __slots__ = tuple(f\"egg{x:02d}\" for x in range(99))\n",
    "    \n",
    "    def __init__(self):\n",
    "        for a in self.__slots__:\n",
    "            setattr(self, a, f\"SPAM\")\n"
   ]
  },
  {
   "cell_type": "code",
   "execution_count": 36,
   "metadata": {
    "ExecuteTime": {
     "end_time": "2021-01-22T08:16:51.533967Z",
     "start_time": "2021-01-22T08:16:51.531986Z"
    }
   },
   "outputs": [],
   "source": [
    "import random"
   ]
  },
  {
   "cell_type": "code",
   "execution_count": 40,
   "metadata": {
    "ExecuteTime": {
     "end_time": "2021-01-22T08:17:35.150697Z",
     "start_time": "2021-01-22T08:17:32.232930Z"
    }
   },
   "outputs": [
    {
     "name": "stdout",
     "output_type": "stream",
     "text": [
      "35.7 µs ± 939 ns per loop (mean ± std. dev. of 7 runs, 10000 loops each)\n"
     ]
    }
   ],
   "source": [
    "%%timeit\n",
    "weakref_class_benchmark = WeakRefSampleBenchmark()\n",
    "\n",
    "for _ in range(5):\n",
    "    getattr(weakref_class_benchmark, \"egg%02d\" % random.randint(0, 9))"
   ]
  },
  {
   "cell_type": "code",
   "execution_count": 41,
   "metadata": {
    "ExecuteTime": {
     "end_time": "2021-01-22T08:17:43.975775Z",
     "start_time": "2021-01-22T08:17:35.151929Z"
    }
   },
   "outputs": [
    {
     "name": "stdout",
     "output_type": "stream",
     "text": [
      "10.8 µs ± 202 ns per loop (mean ± std. dev. of 7 runs, 100000 loops each)\n"
     ]
    }
   ],
   "source": [
    "%%timeit\n",
    "slots_benchmark = SlotsSampleBenchmark()\n",
    "\n",
    "for _ in range(5):\n",
    "    getattr(slots_benchmark, \"egg%02d\" % random.randint(0, 9))"
   ]
  },
  {
   "cell_type": "code",
   "execution_count": null,
   "metadata": {},
   "outputs": [],
   "source": []
  },
  {
   "cell_type": "code",
   "execution_count": 42,
   "metadata": {
    "ExecuteTime": {
     "end_time": "2021-01-22T08:18:19.858545Z",
     "start_time": "2021-01-22T08:18:19.856232Z"
    }
   },
   "outputs": [],
   "source": [
    "class SlotsSample2:\n",
    "    __slots__ = (\"egg\", \"spam\", )\n",
    "    \n",
    "    def __init__(self):\n",
    "        self.egg = \"Egg\"\n",
    "        self.spam = \"Spam\"\n",
    "        self.foo = \"Foo\""
   ]
  },
  {
   "cell_type": "code",
   "execution_count": 43,
   "metadata": {
    "ExecuteTime": {
     "end_time": "2021-01-22T08:18:22.117990Z",
     "start_time": "2021-01-22T08:18:22.111604Z"
    }
   },
   "outputs": [
    {
     "ename": "AttributeError",
     "evalue": "'SlotsSample2' object has no attribute 'foo'",
     "output_type": "error",
     "traceback": [
      "\u001b[0;31m---------------------------------------------------------------------------\u001b[0m",
      "\u001b[0;31mAttributeError\u001b[0m                            Traceback (most recent call last)",
      "\u001b[0;32m<ipython-input-43-98cf4d1e0b10>\u001b[0m in \u001b[0;36m<module>\u001b[0;34m\u001b[0m\n\u001b[0;32m----> 1\u001b[0;31m \u001b[0mSlotsSample2\u001b[0m\u001b[0;34m(\u001b[0m\u001b[0;34m)\u001b[0m\u001b[0;34m\u001b[0m\u001b[0;34m\u001b[0m\u001b[0m\n\u001b[0m",
      "\u001b[0;32m<ipython-input-42-568dfdfea890>\u001b[0m in \u001b[0;36m__init__\u001b[0;34m(self)\u001b[0m\n\u001b[1;32m      5\u001b[0m         \u001b[0mself\u001b[0m\u001b[0;34m.\u001b[0m\u001b[0megg\u001b[0m \u001b[0;34m=\u001b[0m \u001b[0;34m\"Egg\"\u001b[0m\u001b[0;34m\u001b[0m\u001b[0;34m\u001b[0m\u001b[0m\n\u001b[1;32m      6\u001b[0m         \u001b[0mself\u001b[0m\u001b[0;34m.\u001b[0m\u001b[0mspam\u001b[0m \u001b[0;34m=\u001b[0m \u001b[0;34m\"Spam\"\u001b[0m\u001b[0;34m\u001b[0m\u001b[0;34m\u001b[0m\u001b[0m\n\u001b[0;32m----> 7\u001b[0;31m         \u001b[0mself\u001b[0m\u001b[0;34m.\u001b[0m\u001b[0mfoo\u001b[0m \u001b[0;34m=\u001b[0m \u001b[0;34m\"Foo\"\u001b[0m\u001b[0;34m\u001b[0m\u001b[0;34m\u001b[0m\u001b[0m\n\u001b[0m",
      "\u001b[0;31mAttributeError\u001b[0m: 'SlotsSample2' object has no attribute 'foo'"
     ]
    }
   ],
   "source": [
    "SlotsSample2()"
   ]
  },
  {
   "cell_type": "code",
   "execution_count": null,
   "metadata": {},
   "outputs": [],
   "source": []
  },
  {
   "cell_type": "code",
   "execution_count": 44,
   "metadata": {
    "ExecuteTime": {
     "end_time": "2021-01-22T08:18:34.506858Z",
     "start_time": "2021-01-22T08:18:34.504545Z"
    }
   },
   "outputs": [],
   "source": [
    "class WeakRefParent:\n",
    "    pass\n",
    "\n",
    "class SlotsWeakRefChild(WeakRefParent):\n",
    "    __slots__ = (\"egg\", \"spam\", )"
   ]
  },
  {
   "cell_type": "code",
   "execution_count": 45,
   "metadata": {
    "ExecuteTime": {
     "end_time": "2021-01-22T08:18:36.987380Z",
     "start_time": "2021-01-22T08:18:36.984851Z"
    }
   },
   "outputs": [
    {
     "name": "stdout",
     "output_type": "stream",
     "text": [
      "['__class__', '__delattr__', '__dict__', '__dir__', '__doc__', '__eq__', '__format__', '__ge__', '__getattribute__', '__gt__', '__hash__', '__init__', '__init_subclass__', '__le__', '__lt__', '__module__', '__ne__', '__new__', '__reduce__', '__reduce_ex__', '__repr__', '__setattr__', '__sizeof__', '__slots__', '__str__', '__subclasshook__', '__weakref__', 'egg', 'spam']\n"
     ]
    }
   ],
   "source": [
    "print(dir(SlotsWeakRefChild()))"
   ]
  },
  {
   "cell_type": "code",
   "execution_count": 47,
   "metadata": {
    "ExecuteTime": {
     "end_time": "2021-01-22T08:19:26.115346Z",
     "start_time": "2021-01-22T08:19:26.111873Z"
    }
   },
   "outputs": [
    {
     "data": {
      "text/plain": [
       "'Foo'"
      ]
     },
     "execution_count": 47,
     "metadata": {},
     "output_type": "execute_result"
    }
   ],
   "source": [
    "class WeakRefParent:\n",
    "    pass\n",
    "\n",
    "class SlotsWeakRefChild(WeakRefParent):\n",
    "    __slots__ = (\"egg\", \"spam\", )\n",
    "    \n",
    "    def __init__(self):\n",
    "        self.egg = \"Egg\"\n",
    "        self.spam = \"Spam\"\n",
    "        self.foo = \"Foo\"\n",
    "        \n",
    "SlotsWeakRefChild().foo"
   ]
  },
  {
   "cell_type": "code",
   "execution_count": null,
   "metadata": {},
   "outputs": [],
   "source": []
  },
  {
   "cell_type": "code",
   "execution_count": null,
   "metadata": {},
   "outputs": [],
   "source": []
  },
  {
   "cell_type": "code",
   "execution_count": 48,
   "metadata": {
    "ExecuteTime": {
     "end_time": "2021-01-22T08:19:58.513426Z",
     "start_time": "2021-01-22T08:19:58.511105Z"
    }
   },
   "outputs": [],
   "source": [
    "class WeakRefParent:\n",
    "    def __init__(self):\n",
    "        self.foo = \"bar\"\n",
    "\n",
    "class SlotsWeakRefChild(WeakRefParent):\n",
    "    __slots__ = (\"egg\", \"spam\", )"
   ]
  },
  {
   "cell_type": "code",
   "execution_count": 49,
   "metadata": {
    "ExecuteTime": {
     "end_time": "2021-01-22T08:20:00.912978Z",
     "start_time": "2021-01-22T08:20:00.909719Z"
    }
   },
   "outputs": [
    {
     "data": {
      "text/plain": [
       "['__class__',\n",
       " '__delattr__',\n",
       " '__dict__',\n",
       " '__dir__',\n",
       " '__doc__',\n",
       " '__eq__',\n",
       " '__format__',\n",
       " '__ge__',\n",
       " '__getattribute__',\n",
       " '__gt__',\n",
       " '__hash__',\n",
       " '__init__',\n",
       " '__init_subclass__',\n",
       " '__le__',\n",
       " '__lt__',\n",
       " '__module__',\n",
       " '__ne__',\n",
       " '__new__',\n",
       " '__reduce__',\n",
       " '__reduce_ex__',\n",
       " '__repr__',\n",
       " '__setattr__',\n",
       " '__sizeof__',\n",
       " '__slots__',\n",
       " '__str__',\n",
       " '__subclasshook__',\n",
       " '__weakref__',\n",
       " 'egg',\n",
       " 'foo',\n",
       " 'spam']"
      ]
     },
     "execution_count": 49,
     "metadata": {},
     "output_type": "execute_result"
    }
   ],
   "source": [
    "dir(SlotsWeakRefChild())"
   ]
  },
  {
   "cell_type": "code",
   "execution_count": 51,
   "metadata": {
    "ExecuteTime": {
     "end_time": "2021-01-22T08:21:05.407677Z",
     "start_time": "2021-01-22T08:21:05.405374Z"
    }
   },
   "outputs": [],
   "source": [
    "class SlotsParent:\n",
    "    __slots__ = (\"egg\", \"spam\", )\n",
    "\n",
    "class SlotsSlotsChild(SlotsParent):\n",
    "    __slots__ = (\"foo\", \"bar\", )\n",
    "\n"
   ]
  },
  {
   "cell_type": "code",
   "execution_count": 52,
   "metadata": {
    "ExecuteTime": {
     "end_time": "2021-01-22T08:21:07.983264Z",
     "start_time": "2021-01-22T08:21:07.980288Z"
    },
    "scrolled": true
   },
   "outputs": [
    {
     "name": "stdout",
     "output_type": "stream",
     "text": [
      "['__class__', '__delattr__', '__dir__', '__doc__', '__eq__', '__format__', '__ge__', '__getattribute__', '__gt__', '__hash__', '__init__', '__init_subclass__', '__le__', '__lt__', '__module__', '__ne__', '__new__', '__reduce__', '__reduce_ex__', '__repr__', '__setattr__', '__sizeof__', '__slots__', '__str__', '__subclasshook__', 'bar', 'egg', 'foo', 'spam']\n"
     ]
    }
   ],
   "source": [
    "print(dir(SlotsSlotsChild()))"
   ]
  },
  {
   "cell_type": "code",
   "execution_count": null,
   "metadata": {},
   "outputs": [],
   "source": []
  },
  {
   "cell_type": "code",
   "execution_count": null,
   "metadata": {},
   "outputs": [],
   "source": []
  },
  {
   "cell_type": "code",
   "execution_count": 53,
   "metadata": {
    "ExecuteTime": {
     "end_time": "2021-01-22T08:21:35.793392Z",
     "start_time": "2021-01-22T08:21:35.790845Z"
    }
   },
   "outputs": [],
   "source": [
    "class SlotsParent:\n",
    "    __slots__ = (\"egg\", \"spam\", )\n",
    "    \n",
    "class WeakRefSlotsChild(SlotsParent):\n",
    "    def __init__(self):\n",
    "        self.foo = \"bar\""
   ]
  },
  {
   "cell_type": "code",
   "execution_count": null,
   "metadata": {},
   "outputs": [],
   "source": []
  },
  {
   "cell_type": "code",
   "execution_count": 54,
   "metadata": {
    "ExecuteTime": {
     "end_time": "2021-01-22T08:21:38.272199Z",
     "start_time": "2021-01-22T08:21:38.268784Z"
    },
    "scrolled": true
   },
   "outputs": [
    {
     "name": "stdout",
     "output_type": "stream",
     "text": [
      "['__class__', '__delattr__', '__dict__', '__dir__', '__doc__', '__eq__', '__format__', '__ge__', '__getattribute__', '__gt__', '__hash__', '__init__', '__init_subclass__', '__le__', '__lt__', '__module__', '__ne__', '__new__', '__reduce__', '__reduce_ex__', '__repr__', '__setattr__', '__sizeof__', '__slots__', '__str__', '__subclasshook__', '__weakref__', 'egg', 'foo', 'spam']\n"
     ]
    }
   ],
   "source": [
    "print(dir(WeakRefSlotsChild()))"
   ]
  },
  {
   "cell_type": "code",
   "execution_count": 58,
   "metadata": {
    "ExecuteTime": {
     "end_time": "2021-01-22T08:22:28.167963Z",
     "start_time": "2021-01-22T08:22:28.165270Z"
    }
   },
   "outputs": [
    {
     "data": {
      "text/plain": [
       "1"
      ]
     },
     "execution_count": 58,
     "metadata": {},
     "output_type": "execute_result"
    }
   ],
   "source": [
    "x = WeakRefSlotsChild()\n",
    "\n",
    "x.aaa = 1\n",
    "x.aaa"
   ]
  },
  {
   "cell_type": "code",
   "execution_count": 59,
   "metadata": {
    "ExecuteTime": {
     "end_time": "2021-01-22T08:22:44.816368Z",
     "start_time": "2021-01-22T08:22:44.811986Z"
    }
   },
   "outputs": [
    {
     "ename": "AttributeError",
     "evalue": "'SlotsParent' object has no attribute 'bbb'",
     "output_type": "error",
     "traceback": [
      "\u001b[0;31m---------------------------------------------------------------------------\u001b[0m",
      "\u001b[0;31mAttributeError\u001b[0m                            Traceback (most recent call last)",
      "\u001b[0;32m<ipython-input-59-cae7f74eb439>\u001b[0m in \u001b[0;36m<module>\u001b[0;34m\u001b[0m\n\u001b[1;32m      1\u001b[0m \u001b[0ms\u001b[0m \u001b[0;34m=\u001b[0m \u001b[0mSlotsParent\u001b[0m\u001b[0;34m(\u001b[0m\u001b[0;34m)\u001b[0m\u001b[0;34m\u001b[0m\u001b[0;34m\u001b[0m\u001b[0m\n\u001b[0;32m----> 2\u001b[0;31m \u001b[0ms\u001b[0m\u001b[0;34m.\u001b[0m\u001b[0mbbb\u001b[0m \u001b[0;34m=\u001b[0m \u001b[0;36m1\u001b[0m\u001b[0;34m\u001b[0m\u001b[0;34m\u001b[0m\u001b[0m\n\u001b[0m",
      "\u001b[0;31mAttributeError\u001b[0m: 'SlotsParent' object has no attribute 'bbb'"
     ]
    }
   ],
   "source": [
    "s = SlotsParent()\n",
    "s.bbb = 1"
   ]
  },
  {
   "cell_type": "code",
   "execution_count": null,
   "metadata": {},
   "outputs": [],
   "source": []
  },
  {
   "cell_type": "code",
   "execution_count": 60,
   "metadata": {
    "ExecuteTime": {
     "end_time": "2021-01-22T08:23:11.954949Z",
     "start_time": "2021-01-22T08:23:11.950292Z"
    }
   },
   "outputs": [
    {
     "ename": "TypeError",
     "evalue": "multiple bases have instance lay-out conflict",
     "output_type": "error",
     "traceback": [
      "\u001b[0;31m---------------------------------------------------------------------------\u001b[0m",
      "\u001b[0;31mTypeError\u001b[0m                                 Traceback (most recent call last)",
      "\u001b[0;32m<ipython-input-60-000c4ec61b53>\u001b[0m in \u001b[0;36m<module>\u001b[0;34m\u001b[0m\n\u001b[1;32m      7\u001b[0m \u001b[0;34m\u001b[0m\u001b[0m\n\u001b[1;32m      8\u001b[0m \u001b[0;34m\u001b[0m\u001b[0m\n\u001b[0;32m----> 9\u001b[0;31m \u001b[0;32mclass\u001b[0m \u001b[0mSlotsChildWithMultipleParents\u001b[0m\u001b[0;34m(\u001b[0m\u001b[0mSlotsParent1\u001b[0m\u001b[0;34m,\u001b[0m \u001b[0mSlotsParent2\u001b[0m\u001b[0;34m)\u001b[0m\u001b[0;34m:\u001b[0m\u001b[0;34m\u001b[0m\u001b[0;34m\u001b[0m\u001b[0m\n\u001b[0m\u001b[1;32m     10\u001b[0m     \u001b[0;32mpass\u001b[0m\u001b[0;34m\u001b[0m\u001b[0;34m\u001b[0m\u001b[0m\n",
      "\u001b[0;31mTypeError\u001b[0m: multiple bases have instance lay-out conflict"
     ]
    }
   ],
   "source": [
    "class SlotsParent1:\n",
    "    __slots__ = (\"egg\", \"spam\", )\n",
    "\n",
    "        \n",
    "class SlotsParent2:\n",
    "    __slots__ = (\"foo\", \"bar\", )\n",
    "        \n",
    "\n",
    "class SlotsChildWithMultipleParents(SlotsParent1, SlotsParent2):\n",
    "    pass"
   ]
  },
  {
   "cell_type": "code",
   "execution_count": 61,
   "metadata": {
    "ExecuteTime": {
     "end_time": "2021-01-22T08:23:30.263097Z",
     "start_time": "2021-01-22T08:23:30.260969Z"
    }
   },
   "outputs": [],
   "source": [
    "class SlotsParent1:\n",
    "    __slots__ = (\"egg\", \"spam\", )\n",
    "\n",
    "        \n",
    "class SlotsParent2:\n",
    "    __slots__ = ()\n",
    "        \n",
    "\n",
    "class SlotsChildWithMultipleParents(SlotsParent1, SlotsParent2):\n",
    "    pass"
   ]
  }
 ],
 "metadata": {
  "kernelspec": {
   "display_name": "Python 3",
   "language": "python",
   "name": "python3"
  },
  "language_info": {
   "codemirror_mode": {
    "name": "ipython",
    "version": 3
   },
   "file_extension": ".py",
   "mimetype": "text/x-python",
   "name": "python",
   "nbconvert_exporter": "python",
   "pygments_lexer": "ipython3",
   "version": "3.8.5"
  }
 },
 "nbformat": 4,
 "nbformat_minor": 4
}

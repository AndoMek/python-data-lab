{
 "cells": [
  {
   "cell_type": "markdown",
   "metadata": {},
   "source": [
    "# Loops\n",
    "\n",
    "[The `while` statement](https://docs.python.org/3/reference/compound_stmts.html#the-while-statement)\n",
    "\n",
    "[The `for` statement](https://docs.python.org/3/reference/compound_stmts.html#the-for-statement)"
   ]
  },
  {
   "cell_type": "code",
   "execution_count": null,
   "metadata": {},
   "outputs": [],
   "source": []
  },
  {
   "cell_type": "markdown",
   "metadata": {
    "ExecuteTime": {
     "end_time": "2021-01-21T11:46:52.008815Z",
     "start_time": "2021-01-21T11:46:52.006623Z"
    }
   },
   "source": [
    "## break and continue"
   ]
  },
  {
   "cell_type": "markdown",
   "metadata": {
    "ExecuteTime": {
     "end_time": "2021-01-21T11:47:13.350529Z",
     "start_time": "2021-01-21T11:47:13.238487Z"
    }
   },
   "source": [
    "<img style=\"float: left;\" src=\"https://musingsoftheamusingmuse.files.wordpress.com/2015/02/captain-oblivious.png\">"
   ]
  },
  {
   "cell_type": "code",
   "execution_count": null,
   "metadata": {},
   "outputs": [],
   "source": []
  },
  {
   "cell_type": "code",
   "execution_count": null,
   "metadata": {},
   "outputs": [],
   "source": []
  },
  {
   "cell_type": "code",
   "execution_count": 1,
   "metadata": {
    "ExecuteTime": {
     "end_time": "2021-01-22T07:33:49.194662Z",
     "start_time": "2021-01-22T07:33:49.190219Z"
    }
   },
   "outputs": [
    {
     "name": "stdout",
     "output_type": "stream",
     "text": [
      "1: Nice\n",
      "Skip every even element. Current 2\n",
      "3: Nice\n",
      "Skip every even element. Current 4\n",
      "5: Nice\n",
      "Skip every even element. Current 6\n",
      "7: Nice\n",
      "Skip every even element. Current 8\n",
      "9: Nice\n",
      "Skip every even element. Current 10\n",
      "Break when looped more than 10 elements. Current 11\n"
     ]
    }
   ],
   "source": [
    "import itertools\n",
    "\n",
    "for ix, item in enumerate(itertools.repeat(\"Nice\"), start=1):\n",
    "    if ix > 10:\n",
    "        print(f\"Break when looped more than 10 elements. Current {ix}\")\n",
    "        break  # terminates the loop\n",
    "    \n",
    "    if ix % 2 == 0: \n",
    "        print(f\"Skip every even element. Current {ix}\")\n",
    "        continue  # \n",
    "        \n",
    "    print(f\"{ix}: {item}\")    "
   ]
  },
  {
   "cell_type": "code",
   "execution_count": null,
   "metadata": {},
   "outputs": [],
   "source": []
  },
  {
   "cell_type": "code",
   "execution_count": 2,
   "metadata": {
    "ExecuteTime": {
     "end_time": "2021-01-22T07:34:33.827365Z",
     "start_time": "2021-01-22T07:34:33.823703Z"
    }
   },
   "outputs": [],
   "source": [
    "import itertools\n",
    "import random\n",
    "\n",
    "\n",
    "def wait_simulation():\n",
    "    yield from itertools.repeat({\"status\": \"SCHEDULED\"}, random.randint(1, 4))\n",
    "    \n",
    "    yield from itertools.repeat({\"status\": \"PENDING\"}, random.randint(2, 5))\n",
    "    \n",
    "    yield from itertools.repeat({\"status\": \"EXECUTED\"}, random.randint(3, 8))\n",
    "    \n",
    "    if 1 == random.randint(1, 3):\n",
    "        yield {\"status\": \"SUCCESS\", \"value\": random.randint(1, 10)}\n",
    "    else:\n",
    "        yield {\"status\": \"FAILURE\"}\n"
   ]
  },
  {
   "cell_type": "code",
   "execution_count": null,
   "metadata": {},
   "outputs": [],
   "source": []
  },
  {
   "cell_type": "code",
   "execution_count": 3,
   "metadata": {
    "ExecuteTime": {
     "end_time": "2021-01-22T07:37:45.469097Z",
     "start_time": "2021-01-22T07:37:38.035105Z"
    }
   },
   "outputs": [
    {
     "name": "stdout",
     "output_type": "stream",
     "text": [
      "Make some cool 'request' to some cloud web-service\n",
      "Status: SCHEDULED. Wait until next 'check request'\n",
      "Status: SCHEDULED. Wait until next 'check request'\n",
      "Status: SCHEDULED. Wait until next 'check request'\n",
      "Status: SCHEDULED. Wait until next 'check request'\n",
      "Status: PENDING. Wait until next 'check request'\n",
      "Status: PENDING. Wait until next 'check request'\n",
      "Status: PENDING. Wait until next 'check request'\n",
      "Status: PENDING. Wait until next 'check request'\n",
      "Status: PENDING. Wait until next 'check request'\n",
      "Status: EXECUTED. Wait until next 'check request'\n",
      "Status: EXECUTED. Wait until next 'check request'\n",
      "Status: EXECUTED. Wait until next 'check request'\n",
      "Status: EXECUTED. Wait until next 'check request'\n",
      "Status: EXECUTED. Wait until next 'check request'\n",
      "Status: EXECUTED. Wait until next 'check request'\n",
      "Status: FAILURE. Repeat request to some cloud web-service\n",
      "Status: SCHEDULED. Wait until next 'check request'\n",
      "Status: SCHEDULED. Wait until next 'check request'\n",
      "Status: PENDING. Wait until next 'check request'\n",
      "Status: PENDING. Wait until next 'check request'\n",
      "Status: PENDING. Wait until next 'check request'\n",
      "Status: PENDING. Wait until next 'check request'\n",
      "Status: EXECUTED. Wait until next 'check request'\n",
      "Status: EXECUTED. Wait until next 'check request'\n",
      "Status: EXECUTED. Wait until next 'check request'\n",
      "Status: FAILURE. Repeat request to some cloud web-service\n",
      "Status: SCHEDULED. Wait until next 'check request'\n",
      "Status: SCHEDULED. Wait until next 'check request'\n",
      "Status: SCHEDULED. Wait until next 'check request'\n",
      "Status: SCHEDULED. Wait until next 'check request'\n",
      "Status: PENDING. Wait until next 'check request'\n",
      "Status: PENDING. Wait until next 'check request'\n",
      "Status: PENDING. Wait until next 'check request'\n",
      "Status: PENDING. Wait until next 'check request'\n",
      "Status: PENDING. Wait until next 'check request'\n",
      "Status: EXECUTED. Wait until next 'check request'\n",
      "Status: EXECUTED. Wait until next 'check request'\n",
      "Status: EXECUTED. Wait until next 'check request'\n",
      "Status: EXECUTED. Wait until next 'check request'\n",
      "Status: SUCCESS. Terminate \n"
     ]
    }
   ],
   "source": [
    "import time\n",
    "\n",
    "\n",
    "print(f\"Make some cool 'request' to some cloud web-service\")\n",
    "responses = wait_simulation()\n",
    "response = next(responses)\n",
    "\n",
    "while True:\n",
    "    status = response[\"status\"]\n",
    "    \n",
    "    if status in (\"SCHEDULED\", \"PENDING\", \"EXECUTED\"):\n",
    "        print(f\"Status: {status}. Wait until next 'check request'\")\n",
    "        time.sleep(0.2)\n",
    "        response = next(responses)\n",
    "        continue\n",
    "        \n",
    "    if status == \"SUCCESS\":\n",
    "        print(f\"Status: {status}. Terminate \")\n",
    "        result = response[\"value\"]\n",
    "        break\n",
    "        \n",
    "    print(f\"Status: {status}. Repeat request to some cloud web-service\")\n",
    "    responses = wait_simulation()\n",
    "    response = next(responses)"
   ]
  },
  {
   "cell_type": "code",
   "execution_count": null,
   "metadata": {},
   "outputs": [],
   "source": []
  },
  {
   "cell_type": "markdown",
   "metadata": {},
   "source": [
    "<span style=\"color:red\">`continue` statement are __illigal__ inside `finally` prior Python 3.8</span>."
   ]
  },
  {
   "cell_type": "code",
   "execution_count": 4,
   "metadata": {
    "ExecuteTime": {
     "end_time": "2021-01-22T07:39:24.145575Z",
     "start_time": "2021-01-22T07:39:24.142437Z"
    }
   },
   "outputs": [
    {
     "name": "stdout",
     "output_type": "stream",
     "text": [
      "10.0\n",
      "5.0\n",
      "3.3333333333333335\n",
      "2.5\n",
      "2.0\n",
      "1.6666666666666667\n",
      "1.4285714285714286\n",
      "1.25\n",
      "1.1111111111111112\n"
     ]
    }
   ],
   "source": [
    "for x in range(10):\n",
    "    try:\n",
    "        result = 10 / x\n",
    "    except ZeroDivisionError:\n",
    "        pass\n",
    "    else:\n",
    "        print(result)\n",
    "    finally:\n",
    "        continue"
   ]
  },
  {
   "cell_type": "code",
   "execution_count": null,
   "metadata": {},
   "outputs": [],
   "source": []
  },
  {
   "cell_type": "markdown",
   "metadata": {
    "ExecuteTime": {
     "end_time": "2021-01-21T11:52:32.091034Z",
     "start_time": "2021-01-21T11:52:32.087191Z"
    }
   },
   "source": [
    "```python\n",
    "Python 3.7.9 (default, Nov 18 2020, 07:30:20) \n",
    "[GCC 10.2.0] on linux\n",
    "Type \"help\", \"copyright\", \"credits\" or \"license\" for more information.\n",
    ">>> for x in range(10):\n",
    "    try:\n",
    "        result = 10 / x\n",
    "    except ZeroDivisionError:\n",
    "        pass\n",
    "    else:\n",
    "        print(result)\n",
    "    finally:\n",
    "        continue\n",
    "  File \"<stdin>\", line 1\n",
    "SyntaxError: 'continue' not supported inside 'finally' clause\n",
    "```"
   ]
  },
  {
   "cell_type": "code",
   "execution_count": null,
   "metadata": {},
   "outputs": [],
   "source": []
  },
  {
   "cell_type": "markdown",
   "metadata": {},
   "source": [
    "```python\n",
    "Python 3.8.7 (default, Dec 24 2020, 17:03:40) \n",
    "[GCC 10.2.0] on linux\n",
    "Type \"help\", \"copyright\", \"credits\" or \"license\" for more information.\n",
    ">>> for x in range(10):\n",
    "    try:\n",
    "        result = 10 / x\n",
    "    except ZeroDivisionError:\n",
    "        pass\n",
    "    else:\n",
    "        print(result)\n",
    "    finally:\n",
    "        continue\n",
    "... \n",
    "10.0\n",
    "5.0\n",
    "3.3333333333333335\n",
    "2.5\n",
    "2.0\n",
    "1.6666666666666667\n",
    "1.4285714285714286\n",
    "1.25\n",
    "1.1111111111111112\n",
    ">>>\n",
    "```"
   ]
  },
  {
   "cell_type": "code",
   "execution_count": null,
   "metadata": {},
   "outputs": [],
   "source": []
  },
  {
   "cell_type": "markdown",
   "metadata": {},
   "source": [
    "## else statement and loops"
   ]
  },
  {
   "cell_type": "code",
   "execution_count": 6,
   "metadata": {
    "ExecuteTime": {
     "end_time": "2021-01-22T07:42:19.930321Z",
     "start_time": "2021-01-22T07:42:19.926717Z"
    }
   },
   "outputs": [
    {
     "name": "stdout",
     "output_type": "stream",
     "text": [
      "Try #1, Number: 2\n",
      "Try #2, Number: 20\n",
      "You are winner\n"
     ]
    }
   ],
   "source": [
    "# Drop d20 dice. You win if you get number more than 19\n",
    "# You have 6 tries\n",
    "\n",
    "\n",
    "gen = (random.randint(1, 20) for _ in range(6))\n",
    "\n",
    "\n",
    "win = False\n",
    "for ix, item in enumerate(gen, start=1):\n",
    "    print(f\"Try #{ix}, Number: {item}\")\n",
    "    win = item >= 19\n",
    "    if win:\n",
    "        print(\"You are winner\")\n",
    "        break\n",
    "\n",
    "if not win:\n",
    "    raise SystemError(\"You are looser\")\n"
   ]
  },
  {
   "cell_type": "code",
   "execution_count": null,
   "metadata": {},
   "outputs": [],
   "source": []
  },
  {
   "cell_type": "code",
   "execution_count": 8,
   "metadata": {
    "ExecuteTime": {
     "end_time": "2021-01-22T07:42:53.337062Z",
     "start_time": "2021-01-22T07:42:53.333595Z"
    }
   },
   "outputs": [
    {
     "name": "stdout",
     "output_type": "stream",
     "text": [
      "Try #1, Number: 5\n",
      "Try #2, Number: 19\n",
      "You are winner\n"
     ]
    }
   ],
   "source": [
    "# Drop d20 dice. You win if you get number more than 19\n",
    "# You have 6 tries\n",
    "\n",
    "\n",
    "gen = (random.randint(1, 20) for _ in range(6))\n",
    "\n",
    "\n",
    "for ix, item in enumerate(gen, start=1):\n",
    "    print(f\"Try #{ix}, Number: {item}\")\n",
    "    if item >= 19:\n",
    "        print(\"You are winner\")\n",
    "        break\n",
    "else:\n",
    "    raise SystemError(\"You unlucky\")\n",
    "\n",
    "\n"
   ]
  },
  {
   "cell_type": "code",
   "execution_count": null,
   "metadata": {},
   "outputs": [],
   "source": []
  }
 ],
 "metadata": {
  "kernelspec": {
   "display_name": "Python 3",
   "language": "python",
   "name": "python3"
  },
  "language_info": {
   "codemirror_mode": {
    "name": "ipython",
    "version": 3
   },
   "file_extension": ".py",
   "mimetype": "text/x-python",
   "name": "python",
   "nbconvert_exporter": "python",
   "pygments_lexer": "ipython3",
   "version": "3.8.5"
  }
 },
 "nbformat": 4,
 "nbformat_minor": 4
}

{
 "cells": [
  {
   "cell_type": "code",
   "execution_count": 1,
   "metadata": {
    "ExecuteTime": {
     "end_time": "2021-02-10T14:11:29.878650Z",
     "start_time": "2021-02-10T14:11:29.875703Z"
    }
   },
   "outputs": [],
   "source": [
    "import os\n",
    "\n",
    "os.environ[\"AWS_PROFILE\"] = \"awesome\"  # IRL set it before run you code"
   ]
  },
  {
   "cell_type": "markdown",
   "metadata": {
    "ExecuteTime": {
     "end_time": "2021-02-09T14:50:07.268405Z",
     "start_time": "2021-02-09T14:50:07.265932Z"
    }
   },
   "source": [
    "# AWS Simple Storage Service (S3)"
   ]
  },
  {
   "cell_type": "markdown",
   "metadata": {},
   "source": [
    "## [Amazon S3 Storage Classes](https://aws.amazon.com/s3/storage-classes/)\n",
    "\n",
    "* S3 Standard\n",
    "* S3 Intelligent-Tiering\n",
    "* S3 Standard-IA\n",
    "* S3 One Zone-IA\n",
    "* S3 Glacier\n",
    "* S3 Glacier Deep Archive"
   ]
  },
  {
   "cell_type": "code",
   "execution_count": null,
   "metadata": {},
   "outputs": [],
   "source": []
  },
  {
   "cell_type": "code",
   "execution_count": 2,
   "metadata": {
    "ExecuteTime": {
     "end_time": "2021-02-10T14:30:47.051543Z",
     "start_time": "2021-02-10T14:30:47.006456Z"
    }
   },
   "outputs": [],
   "source": [
    "import boto3"
   ]
  },
  {
   "cell_type": "code",
   "execution_count": 3,
   "metadata": {
    "ExecuteTime": {
     "end_time": "2021-02-10T14:30:49.819348Z",
     "start_time": "2021-02-10T14:30:49.774097Z"
    }
   },
   "outputs": [],
   "source": [
    "session = boto3.session.Session()\n",
    "client = session.client(\"s3\")"
   ]
  },
  {
   "cell_type": "code",
   "execution_count": 4,
   "metadata": {
    "ExecuteTime": {
     "end_time": "2021-02-10T14:30:52.490313Z",
     "start_time": "2021-02-10T14:30:51.869576Z"
    },
    "scrolled": true
   },
   "outputs": [
    {
     "ename": "ClientError",
     "evalue": "An error occurred (AccessDenied) when calling the ListBuckets operation: Access Denied",
     "output_type": "error",
     "traceback": [
      "\u001b[0;31m---------------------------------------------------------------------------\u001b[0m",
      "\u001b[0;31mClientError\u001b[0m                               Traceback (most recent call last)",
      "\u001b[0;32m<ipython-input-4-acd6d6d658a9>\u001b[0m in \u001b[0;36m<module>\u001b[0;34m\u001b[0m\n\u001b[0;32m----> 1\u001b[0;31m \u001b[0mclient\u001b[0m\u001b[0;34m.\u001b[0m\u001b[0mlist_buckets\u001b[0m\u001b[0;34m(\u001b[0m\u001b[0;34m)\u001b[0m\u001b[0;34m\u001b[0m\u001b[0;34m\u001b[0m\u001b[0m\n\u001b[0m",
      "\u001b[0;32m~/.local/lib/python3.8/site-packages/botocore/client.py\u001b[0m in \u001b[0;36m_api_call\u001b[0;34m(self, *args, **kwargs)\u001b[0m\n\u001b[1;32m    355\u001b[0m                     \"%s() only accepts keyword arguments.\" % py_operation_name)\n\u001b[1;32m    356\u001b[0m             \u001b[0;31m# The \"self\" in this scope is referring to the BaseClient.\u001b[0m\u001b[0;34m\u001b[0m\u001b[0;34m\u001b[0m\u001b[0;34m\u001b[0m\u001b[0m\n\u001b[0;32m--> 357\u001b[0;31m             \u001b[0;32mreturn\u001b[0m \u001b[0mself\u001b[0m\u001b[0;34m.\u001b[0m\u001b[0m_make_api_call\u001b[0m\u001b[0;34m(\u001b[0m\u001b[0moperation_name\u001b[0m\u001b[0;34m,\u001b[0m \u001b[0mkwargs\u001b[0m\u001b[0;34m)\u001b[0m\u001b[0;34m\u001b[0m\u001b[0;34m\u001b[0m\u001b[0m\n\u001b[0m\u001b[1;32m    358\u001b[0m \u001b[0;34m\u001b[0m\u001b[0m\n\u001b[1;32m    359\u001b[0m         \u001b[0m_api_call\u001b[0m\u001b[0;34m.\u001b[0m\u001b[0m__name__\u001b[0m \u001b[0;34m=\u001b[0m \u001b[0mstr\u001b[0m\u001b[0;34m(\u001b[0m\u001b[0mpy_operation_name\u001b[0m\u001b[0;34m)\u001b[0m\u001b[0;34m\u001b[0m\u001b[0;34m\u001b[0m\u001b[0m\n",
      "\u001b[0;32m~/.local/lib/python3.8/site-packages/botocore/client.py\u001b[0m in \u001b[0;36m_make_api_call\u001b[0;34m(self, operation_name, api_params)\u001b[0m\n\u001b[1;32m    674\u001b[0m             \u001b[0merror_code\u001b[0m \u001b[0;34m=\u001b[0m \u001b[0mparsed_response\u001b[0m\u001b[0;34m.\u001b[0m\u001b[0mget\u001b[0m\u001b[0;34m(\u001b[0m\u001b[0;34m\"Error\"\u001b[0m\u001b[0;34m,\u001b[0m \u001b[0;34m{\u001b[0m\u001b[0;34m}\u001b[0m\u001b[0;34m)\u001b[0m\u001b[0;34m.\u001b[0m\u001b[0mget\u001b[0m\u001b[0;34m(\u001b[0m\u001b[0;34m\"Code\"\u001b[0m\u001b[0;34m)\u001b[0m\u001b[0;34m\u001b[0m\u001b[0;34m\u001b[0m\u001b[0m\n\u001b[1;32m    675\u001b[0m             \u001b[0merror_class\u001b[0m \u001b[0;34m=\u001b[0m \u001b[0mself\u001b[0m\u001b[0;34m.\u001b[0m\u001b[0mexceptions\u001b[0m\u001b[0;34m.\u001b[0m\u001b[0mfrom_code\u001b[0m\u001b[0;34m(\u001b[0m\u001b[0merror_code\u001b[0m\u001b[0;34m)\u001b[0m\u001b[0;34m\u001b[0m\u001b[0;34m\u001b[0m\u001b[0m\n\u001b[0;32m--> 676\u001b[0;31m             \u001b[0;32mraise\u001b[0m \u001b[0merror_class\u001b[0m\u001b[0;34m(\u001b[0m\u001b[0mparsed_response\u001b[0m\u001b[0;34m,\u001b[0m \u001b[0moperation_name\u001b[0m\u001b[0;34m)\u001b[0m\u001b[0;34m\u001b[0m\u001b[0;34m\u001b[0m\u001b[0m\n\u001b[0m\u001b[1;32m    677\u001b[0m         \u001b[0;32melse\u001b[0m\u001b[0;34m:\u001b[0m\u001b[0;34m\u001b[0m\u001b[0;34m\u001b[0m\u001b[0m\n\u001b[1;32m    678\u001b[0m             \u001b[0;32mreturn\u001b[0m \u001b[0mparsed_response\u001b[0m\u001b[0;34m\u001b[0m\u001b[0;34m\u001b[0m\u001b[0m\n",
      "\u001b[0;31mClientError\u001b[0m: An error occurred (AccessDenied) when calling the ListBuckets operation: Access Denied"
     ]
    }
   ],
   "source": [
    "client.list_buckets()"
   ]
  },
  {
   "cell_type": "code",
   "execution_count": null,
   "metadata": {},
   "outputs": [],
   "source": []
  },
  {
   "cell_type": "code",
   "execution_count": 5,
   "metadata": {
    "ExecuteTime": {
     "end_time": "2021-02-10T14:31:21.057961Z",
     "start_time": "2021-02-10T14:31:20.448217Z"
    }
   },
   "outputs": [
    {
     "name": "stdout",
     "output_type": "stream",
     "text": [
      "<class 'botocore.exceptions.ClientError'>\n"
     ]
    }
   ],
   "source": [
    "try:\n",
    "    client.list_buckets()\n",
    "except Exception as ex:\n",
    "    print(type(ex))"
   ]
  },
  {
   "cell_type": "code",
   "execution_count": null,
   "metadata": {},
   "outputs": [],
   "source": []
  },
  {
   "cell_type": "code",
   "execution_count": null,
   "metadata": {},
   "outputs": [],
   "source": []
  },
  {
   "cell_type": "code",
   "execution_count": null,
   "metadata": {},
   "outputs": [],
   "source": []
  },
  {
   "cell_type": "code",
   "execution_count": 6,
   "metadata": {
    "ExecuteTime": {
     "end_time": "2021-02-10T14:32:06.225756Z",
     "start_time": "2021-02-10T14:32:05.630003Z"
    }
   },
   "outputs": [
    {
     "name": "stdout",
     "output_type": "stream",
     "text": [
      "Catched!\n"
     ]
    }
   ],
   "source": [
    "from botocore.exceptions import ClientError\n",
    "\n",
    "try:\n",
    "    client.list_buckets()\n",
    "except ClientError as ex:\n",
    "    print(\"Catched!\")"
   ]
  },
  {
   "cell_type": "code",
   "execution_count": null,
   "metadata": {},
   "outputs": [],
   "source": []
  },
  {
   "cell_type": "code",
   "execution_count": null,
   "metadata": {},
   "outputs": [],
   "source": []
  },
  {
   "cell_type": "code",
   "execution_count": 7,
   "metadata": {
    "ExecuteTime": {
     "end_time": "2021-02-10T14:35:20.422926Z",
     "start_time": "2021-02-10T14:35:19.839082Z"
    }
   },
   "outputs": [
    {
     "name": "stdout",
     "output_type": "stream",
     "text": [
      "['MSG_TEMPLATE', '__cause__', '__class__', '__context__', '__delattr__', '__dict__', '__dir__', '__doc__', '__eq__', '__format__', '__ge__', '__getattribute__', '__gt__', '__hash__', '__init__', '__init_subclass__', '__le__', '__lt__', '__module__', '__ne__', '__new__', '__reduce__', '__reduce_ex__', '__repr__', '__setattr__', '__setstate__', '__sizeof__', '__str__', '__subclasshook__', '__suppress_context__', '__traceback__', '__weakref__', '_get_retry_info', 'args', 'operation_name', 'response', 'with_traceback']\n"
     ]
    }
   ],
   "source": [
    "try:\n",
    "    client.list_buckets()\n",
    "except ClientError as ex:\n",
    "    print(dir(ex))"
   ]
  },
  {
   "cell_type": "code",
   "execution_count": null,
   "metadata": {},
   "outputs": [],
   "source": []
  },
  {
   "cell_type": "code",
   "execution_count": null,
   "metadata": {},
   "outputs": [],
   "source": []
  },
  {
   "cell_type": "code",
   "execution_count": 8,
   "metadata": {
    "ExecuteTime": {
     "end_time": "2021-02-10T14:35:57.120993Z",
     "start_time": "2021-02-10T14:35:56.509442Z"
    }
   },
   "outputs": [
    {
     "name": "stdout",
     "output_type": "stream",
     "text": [
      "{'Error': {'Code': 'AccessDenied', 'Message': 'Access Denied'}, 'ResponseMetadata': {'RequestId': 'AFA71F1AAA026528', 'HostId': 'GbxgM+cCmFmeLkCBgfwvvpE9+gZ6YlEtcWbvUH8iQWLcMiCIOImQqWDvW64aYKUTheq7eVrskDY=', 'HTTPStatusCode': 403, 'HTTPHeaders': {'x-amz-request-id': 'AFA71F1AAA026528', 'x-amz-id-2': 'GbxgM+cCmFmeLkCBgfwvvpE9+gZ6YlEtcWbvUH8iQWLcMiCIOImQqWDvW64aYKUTheq7eVrskDY=', 'content-type': 'application/xml', 'transfer-encoding': 'chunked', 'date': 'Wed, 10 Feb 2021 14:35:56 GMT', 'server': 'AmazonS3'}, 'RetryAttempts': 0}}\n"
     ]
    }
   ],
   "source": [
    "try:\n",
    "    client.list_buckets()\n",
    "except ClientError as ex:\n",
    "    print(ex.response)"
   ]
  },
  {
   "cell_type": "code",
   "execution_count": null,
   "metadata": {},
   "outputs": [],
   "source": []
  },
  {
   "cell_type": "code",
   "execution_count": null,
   "metadata": {},
   "outputs": [],
   "source": []
  },
  {
   "cell_type": "code",
   "execution_count": null,
   "metadata": {},
   "outputs": [],
   "source": []
  },
  {
   "cell_type": "code",
   "execution_count": 9,
   "metadata": {
    "ExecuteTime": {
     "end_time": "2021-02-10T14:36:19.626595Z",
     "start_time": "2021-02-10T14:36:19.005782Z"
    }
   },
   "outputs": [
    {
     "data": {
      "text/plain": [
       "('Who are you stranger?', 403)"
      ]
     },
     "execution_count": 9,
     "metadata": {},
     "output_type": "execute_result"
    }
   ],
   "source": [
    "def some_enpoint():\n",
    "    try:\n",
    "        client.list_buckets()\n",
    "    except ClientError as ex:\n",
    "        err = ex.response[\"Error\"]\n",
    "        if err[\"Code\"] == \"AccessDenied\":\n",
    "            return \"Who are you stranger?\", 403\n",
    "        \n",
    "        return \"I'm out!\", 500\n",
    "    \n",
    "    return \"Everything is fine\", 200\n",
    "\n",
    "some_enpoint()"
   ]
  },
  {
   "cell_type": "code",
   "execution_count": null,
   "metadata": {},
   "outputs": [],
   "source": []
  },
  {
   "cell_type": "code",
   "execution_count": null,
   "metadata": {},
   "outputs": [],
   "source": []
  },
  {
   "cell_type": "code",
   "execution_count": 14,
   "metadata": {
    "ExecuteTime": {
     "end_time": "2021-02-10T14:39:58.370613Z",
     "start_time": "2021-02-10T14:39:58.367522Z"
    }
   },
   "outputs": [
    {
     "data": {
      "text/plain": [
       "['BucketAlreadyExists',\n",
       " 'BucketAlreadyOwnedByYou',\n",
       " 'ClientError',\n",
       " 'InvalidObjectState',\n",
       " 'NoSuchBucket',\n",
       " 'NoSuchKey',\n",
       " 'NoSuchUpload',\n",
       " 'ObjectAlreadyInActiveTierError',\n",
       " 'ObjectNotInActiveTierError',\n",
       " '__class__',\n",
       " '__delattr__',\n",
       " '__dict__',\n",
       " '__dir__',\n",
       " '__doc__',\n",
       " '__eq__',\n",
       " '__format__',\n",
       " '__ge__',\n",
       " '__getattr__',\n",
       " '__getattribute__',\n",
       " '__gt__',\n",
       " '__hash__',\n",
       " '__init__',\n",
       " '__init_subclass__',\n",
       " '__le__',\n",
       " '__lt__',\n",
       " '__module__',\n",
       " '__ne__',\n",
       " '__new__',\n",
       " '__reduce__',\n",
       " '__reduce_ex__',\n",
       " '__repr__',\n",
       " '__setattr__',\n",
       " '__sizeof__',\n",
       " '__str__',\n",
       " '__subclasshook__',\n",
       " '__weakref__',\n",
       " '_code_to_exception',\n",
       " 'from_code']"
      ]
     },
     "execution_count": 14,
     "metadata": {},
     "output_type": "execute_result"
    }
   ],
   "source": [
    "dir(client.exceptions)"
   ]
  },
  {
   "cell_type": "code",
   "execution_count": null,
   "metadata": {},
   "outputs": [],
   "source": []
  },
  {
   "cell_type": "code",
   "execution_count": null,
   "metadata": {},
   "outputs": [],
   "source": []
  },
  {
   "cell_type": "code",
   "execution_count": 13,
   "metadata": {
    "ExecuteTime": {
     "end_time": "2021-02-10T14:39:44.802016Z",
     "start_time": "2021-02-10T14:39:44.207568Z"
    },
    "scrolled": false
   },
   "outputs": [
    {
     "name": "stdout",
     "output_type": "stream",
     "text": [
      "Catched!\n"
     ]
    }
   ],
   "source": [
    "try:\n",
    "    client.list_buckets()\n",
    "except client.exceptions.ClientError as ex:\n",
    "    print(\"Catched!\")\n"
   ]
  },
  {
   "cell_type": "code",
   "execution_count": 15,
   "metadata": {
    "ExecuteTime": {
     "end_time": "2021-02-10T14:40:01.569986Z",
     "start_time": "2021-02-10T14:40:01.566445Z"
    }
   },
   "outputs": [
    {
     "data": {
      "text/plain": [
       "botocore.exceptions.ClientError"
      ]
     },
     "execution_count": 15,
     "metadata": {},
     "output_type": "execute_result"
    }
   ],
   "source": [
    "client.exceptions.ClientError"
   ]
  },
  {
   "cell_type": "code",
   "execution_count": null,
   "metadata": {},
   "outputs": [],
   "source": []
  },
  {
   "cell_type": "code",
   "execution_count": null,
   "metadata": {},
   "outputs": [],
   "source": []
  },
  {
   "cell_type": "code",
   "execution_count": null,
   "metadata": {},
   "outputs": [],
   "source": []
  },
  {
   "cell_type": "code",
   "execution_count": null,
   "metadata": {},
   "outputs": [],
   "source": []
  },
  {
   "cell_type": "code",
   "execution_count": 16,
   "metadata": {
    "ExecuteTime": {
     "end_time": "2021-02-10T14:48:14.617578Z",
     "start_time": "2021-02-10T14:48:13.953908Z"
    }
   },
   "outputs": [
    {
     "data": {
      "text/plain": [
       "{'ResponseMetadata': {'RequestId': '3CD451BBC0F39225',\n",
       "  'HostId': 'irqVf14PjSaCmnTLvQh4h8jhlCZQ28+5JM3MuUj0PI4a1yujhFRVaSqi/fHU2RkeDbXhFJor/r0=',\n",
       "  'HTTPStatusCode': 200,\n",
       "  'HTTPHeaders': {'x-amz-id-2': 'irqVf14PjSaCmnTLvQh4h8jhlCZQ28+5JM3MuUj0PI4a1yujhFRVaSqi/fHU2RkeDbXhFJor/r0=',\n",
       "   'x-amz-request-id': '3CD451BBC0F39225',\n",
       "   'date': 'Wed, 10 Feb 2021 14:48:15 GMT',\n",
       "   'content-type': 'application/xml',\n",
       "   'transfer-encoding': 'chunked',\n",
       "   'server': 'AmazonS3'},\n",
       "  'RetryAttempts': 0},\n",
       " 'Buckets': [{'Name': 'andrey-anshin-certification',\n",
       "   'CreationDate': datetime.datetime(2019, 9, 20, 22, 36, 29, tzinfo=tzutc())},\n",
       "  {'Name': 'aws-athena-query-results-629977073446-eu-west-1',\n",
       "   'CreationDate': datetime.datetime(2019, 8, 5, 14, 19, 6, tzinfo=tzutc())},\n",
       "  {'Name': 'aws-logs-629977073446-eu-west-1',\n",
       "   'CreationDate': datetime.datetime(2019, 8, 7, 12, 33, 40, tzinfo=tzutc())},\n",
       "  {'Name': 'config-bucket-629977073446',\n",
       "   'CreationDate': datetime.datetime(2019, 11, 5, 13, 20, 7, tzinfo=tzutc())},\n",
       "  {'Name': 'taragolis-cloudtrail-logs',\n",
       "   'CreationDate': datetime.datetime(2019, 9, 24, 12, 0, 16, tzinfo=tzutc())},\n",
       "  {'Name': 'taragolis-education-bucket',\n",
       "   'CreationDate': datetime.datetime(2019, 8, 22, 18, 41, 51, tzinfo=tzutc())},\n",
       "  {'Name': 'taragolis-example-bucket',\n",
       "   'CreationDate': datetime.datetime(2019, 9, 16, 18, 31, 2, tzinfo=tzutc())},\n",
       "  {'Name': 'taragolis-same-region-replication-bucket',\n",
       "   'CreationDate': datetime.datetime(2019, 9, 24, 11, 49, 46, tzinfo=tzutc())}],\n",
       " 'Owner': {'DisplayName': 'taragolis',\n",
       "  'ID': 'ffeee92bda59232a7aef66f3c3dc8c0effb87bb370357f4c6ffee1b96e835077'}}"
      ]
     },
     "execution_count": 16,
     "metadata": {},
     "output_type": "execute_result"
    }
   ],
   "source": [
    "session = boto3.session.Session()\n",
    "client = session.client(\"s3\")\n",
    "\n",
    "client.list_buckets()"
   ]
  },
  {
   "cell_type": "code",
   "execution_count": null,
   "metadata": {},
   "outputs": [],
   "source": []
  },
  {
   "cell_type": "code",
   "execution_count": null,
   "metadata": {},
   "outputs": [],
   "source": []
  },
  {
   "cell_type": "code",
   "execution_count": 18,
   "metadata": {
    "ExecuteTime": {
     "end_time": "2021-02-10T14:54:05.224895Z",
     "start_time": "2021-02-10T14:54:04.783799Z"
    }
   },
   "outputs": [
    {
     "ename": "ClientError",
     "evalue": "An error occurred (AccessDenied) when calling the ListObjectsV2 operation: Access Denied",
     "output_type": "error",
     "traceback": [
      "\u001b[0;31m---------------------------------------------------------------------------\u001b[0m",
      "\u001b[0;31mClientError\u001b[0m                               Traceback (most recent call last)",
      "\u001b[0;32m<ipython-input-18-982a98a4cd04>\u001b[0m in \u001b[0;36m<module>\u001b[0;34m\u001b[0m\n\u001b[0;32m----> 1\u001b[0;31m response = client.list_objects_v2(\n\u001b[0m\u001b[1;32m      2\u001b[0m     \u001b[0mBucket\u001b[0m\u001b[0;34m=\u001b[0m\u001b[0;34m'taragolis-education-bucket'\u001b[0m\u001b[0;34m,\u001b[0m\u001b[0;34m\u001b[0m\u001b[0;34m\u001b[0m\u001b[0m\n\u001b[1;32m      3\u001b[0m     \u001b[0mPrefix\u001b[0m\u001b[0;34m=\u001b[0m\u001b[0;34m''\u001b[0m\u001b[0;34m,\u001b[0m\u001b[0;34m\u001b[0m\u001b[0;34m\u001b[0m\u001b[0m\n\u001b[1;32m      4\u001b[0m )\n",
      "\u001b[0;32m~/.local/lib/python3.8/site-packages/botocore/client.py\u001b[0m in \u001b[0;36m_api_call\u001b[0;34m(self, *args, **kwargs)\u001b[0m\n\u001b[1;32m    355\u001b[0m                     \"%s() only accepts keyword arguments.\" % py_operation_name)\n\u001b[1;32m    356\u001b[0m             \u001b[0;31m# The \"self\" in this scope is referring to the BaseClient.\u001b[0m\u001b[0;34m\u001b[0m\u001b[0;34m\u001b[0m\u001b[0;34m\u001b[0m\u001b[0m\n\u001b[0;32m--> 357\u001b[0;31m             \u001b[0;32mreturn\u001b[0m \u001b[0mself\u001b[0m\u001b[0;34m.\u001b[0m\u001b[0m_make_api_call\u001b[0m\u001b[0;34m(\u001b[0m\u001b[0moperation_name\u001b[0m\u001b[0;34m,\u001b[0m \u001b[0mkwargs\u001b[0m\u001b[0;34m)\u001b[0m\u001b[0;34m\u001b[0m\u001b[0;34m\u001b[0m\u001b[0m\n\u001b[0m\u001b[1;32m    358\u001b[0m \u001b[0;34m\u001b[0m\u001b[0m\n\u001b[1;32m    359\u001b[0m         \u001b[0m_api_call\u001b[0m\u001b[0;34m.\u001b[0m\u001b[0m__name__\u001b[0m \u001b[0;34m=\u001b[0m \u001b[0mstr\u001b[0m\u001b[0;34m(\u001b[0m\u001b[0mpy_operation_name\u001b[0m\u001b[0;34m)\u001b[0m\u001b[0;34m\u001b[0m\u001b[0;34m\u001b[0m\u001b[0m\n",
      "\u001b[0;32m~/.local/lib/python3.8/site-packages/botocore/client.py\u001b[0m in \u001b[0;36m_make_api_call\u001b[0;34m(self, operation_name, api_params)\u001b[0m\n\u001b[1;32m    674\u001b[0m             \u001b[0merror_code\u001b[0m \u001b[0;34m=\u001b[0m \u001b[0mparsed_response\u001b[0m\u001b[0;34m.\u001b[0m\u001b[0mget\u001b[0m\u001b[0;34m(\u001b[0m\u001b[0;34m\"Error\"\u001b[0m\u001b[0;34m,\u001b[0m \u001b[0;34m{\u001b[0m\u001b[0;34m}\u001b[0m\u001b[0;34m)\u001b[0m\u001b[0;34m.\u001b[0m\u001b[0mget\u001b[0m\u001b[0;34m(\u001b[0m\u001b[0;34m\"Code\"\u001b[0m\u001b[0;34m)\u001b[0m\u001b[0;34m\u001b[0m\u001b[0;34m\u001b[0m\u001b[0m\n\u001b[1;32m    675\u001b[0m             \u001b[0merror_class\u001b[0m \u001b[0;34m=\u001b[0m \u001b[0mself\u001b[0m\u001b[0;34m.\u001b[0m\u001b[0mexceptions\u001b[0m\u001b[0;34m.\u001b[0m\u001b[0mfrom_code\u001b[0m\u001b[0;34m(\u001b[0m\u001b[0merror_code\u001b[0m\u001b[0;34m)\u001b[0m\u001b[0;34m\u001b[0m\u001b[0;34m\u001b[0m\u001b[0m\n\u001b[0;32m--> 676\u001b[0;31m             \u001b[0;32mraise\u001b[0m \u001b[0merror_class\u001b[0m\u001b[0;34m(\u001b[0m\u001b[0mparsed_response\u001b[0m\u001b[0;34m,\u001b[0m \u001b[0moperation_name\u001b[0m\u001b[0;34m)\u001b[0m\u001b[0;34m\u001b[0m\u001b[0;34m\u001b[0m\u001b[0m\n\u001b[0m\u001b[1;32m    677\u001b[0m         \u001b[0;32melse\u001b[0m\u001b[0;34m:\u001b[0m\u001b[0;34m\u001b[0m\u001b[0;34m\u001b[0m\u001b[0m\n\u001b[1;32m    678\u001b[0m             \u001b[0;32mreturn\u001b[0m \u001b[0mparsed_response\u001b[0m\u001b[0;34m\u001b[0m\u001b[0;34m\u001b[0m\u001b[0m\n",
      "\u001b[0;31mClientError\u001b[0m: An error occurred (AccessDenied) when calling the ListObjectsV2 operation: Access Denied"
     ]
    }
   ],
   "source": [
    "response = client.list_objects_v2(\n",
    "    Bucket='taragolis-education-bucket',\n",
    "    Prefix='',\n",
    ")"
   ]
  },
  {
   "cell_type": "code",
   "execution_count": null,
   "metadata": {},
   "outputs": [],
   "source": []
  },
  {
   "cell_type": "code",
   "execution_count": 19,
   "metadata": {
    "ExecuteTime": {
     "end_time": "2021-02-10T14:54:23.685162Z",
     "start_time": "2021-02-10T14:54:23.278370Z"
    }
   },
   "outputs": [],
   "source": [
    "response = client.list_objects_v2(\n",
    "    Bucket='taragolis-example-bucket',\n",
    "    Prefix='', \n",
    ")"
   ]
  },
  {
   "cell_type": "code",
   "execution_count": 20,
   "metadata": {
    "ExecuteTime": {
     "end_time": "2021-02-10T14:54:38.964483Z",
     "start_time": "2021-02-10T14:54:38.959543Z"
    }
   },
   "outputs": [
    {
     "data": {
      "text/plain": [
       "{'ResponseMetadata': {'RequestId': '3DD9753C78C02C3E',\n",
       "  'HostId': '+x7E8toGuS2GJcXoSchTAhLLmL9Flj/2IuH2/5E4c/ZFvvRTSrJNpuPLcrRqexce/SRYxOBjdMc=',\n",
       "  'HTTPStatusCode': 200,\n",
       "  'HTTPHeaders': {'x-amz-id-2': '+x7E8toGuS2GJcXoSchTAhLLmL9Flj/2IuH2/5E4c/ZFvvRTSrJNpuPLcrRqexce/SRYxOBjdMc=',\n",
       "   'x-amz-request-id': '3DD9753C78C02C3E',\n",
       "   'date': 'Wed, 10 Feb 2021 14:54:24 GMT',\n",
       "   'x-amz-bucket-region': 'eu-central-1',\n",
       "   'content-type': 'application/xml',\n",
       "   'transfer-encoding': 'chunked',\n",
       "   'server': 'AmazonS3'},\n",
       "  'RetryAttempts': 1},\n",
       " 'IsTruncated': False,\n",
       " 'Contents': [{'Key': 'aws_pricing_overview.pdf',\n",
       "   'LastModified': datetime.datetime(2019, 9, 24, 12, 12, 55, tzinfo=tzutc()),\n",
       "   'ETag': '\"37b327cd6d1a295b2b8b2ae011c7b21c\"',\n",
       "   'Size': 227855,\n",
       "   'StorageClass': 'STANDARD'},\n",
       "  {'Key': 'awscloudpractitioner.jpg',\n",
       "   'LastModified': datetime.datetime(2019, 9, 24, 12, 13, 4, tzinfo=tzutc()),\n",
       "   'ETag': '\"2fb7e531eca10a2d8c76a7fec5cb8875\"',\n",
       "   'Size': 161140,\n",
       "   'StorageClass': 'STANDARD'},\n",
       "  {'Key': 'replica/Screenshot_20191113_154544.png',\n",
       "   'LastModified': datetime.datetime(2019, 11, 13, 14, 58, 11, tzinfo=tzutc()),\n",
       "   'ETag': '\"4f1527390d59396ba2305bdfc1890c33\"',\n",
       "   'Size': 85128,\n",
       "   'StorageClass': 'STANDARD'},\n",
       "  {'Key': 'replica/pip.conf',\n",
       "   'LastModified': datetime.datetime(2019, 11, 13, 15, 14, 24, tzinfo=tzutc()),\n",
       "   'ETag': '\"b51ec59e0f4bf0ba1e73f79200c2811c\"',\n",
       "   'Size': 200,\n",
       "   'StorageClass': 'STANDARD'},\n",
       "  {'Key': 'test',\n",
       "   'LastModified': datetime.datetime(2019, 11, 6, 9, 43, 53, tzinfo=tzutc()),\n",
       "   'ETag': '\"ddce269a1e3d054cae349621c198dd52\"',\n",
       "   'Size': 8,\n",
       "   'StorageClass': 'STANDARD'},\n",
       "  {'Key': 'test-bucket-owner-full-control',\n",
       "   'LastModified': datetime.datetime(2019, 11, 6, 11, 17, 20, tzinfo=tzutc()),\n",
       "   'ETag': '\"ddce269a1e3d054cae349621c198dd52\"',\n",
       "   'Size': 8,\n",
       "   'StorageClass': 'STANDARD'},\n",
       "  {'Key': 'test-bucket-owner-read',\n",
       "   'LastModified': datetime.datetime(2019, 11, 6, 11, 17, 7, tzinfo=tzutc()),\n",
       "   'ETag': '\"ddce269a1e3d054cae349621c198dd52\"',\n",
       "   'Size': 8,\n",
       "   'StorageClass': 'STANDARD'},\n",
       "  {'Key': 'test2',\n",
       "   'LastModified': datetime.datetime(2019, 11, 6, 9, 52, 47, tzinfo=tzutc()),\n",
       "   'ETag': '\"ddce269a1e3d054cae349621c198dd52\"',\n",
       "   'Size': 8,\n",
       "   'StorageClass': 'STANDARD'},\n",
       "  {'Key': 'test3',\n",
       "   'LastModified': datetime.datetime(2019, 11, 6, 9, 57, 31, tzinfo=tzutc()),\n",
       "   'ETag': '\"ddce269a1e3d054cae349621c198dd52\"',\n",
       "   'Size': 8,\n",
       "   'StorageClass': 'STANDARD'},\n",
       "  {'Key': 'test4',\n",
       "   'LastModified': datetime.datetime(2019, 11, 6, 10, 8, 48, tzinfo=tzutc()),\n",
       "   'ETag': '\"ddce269a1e3d054cae349621c198dd52\"',\n",
       "   'Size': 8,\n",
       "   'StorageClass': 'STANDARD'},\n",
       "  {'Key': 'test5',\n",
       "   'LastModified': datetime.datetime(2019, 11, 6, 10, 13, 8, tzinfo=tzutc()),\n",
       "   'ETag': '\"ddce269a1e3d054cae349621c198dd52\"',\n",
       "   'Size': 8,\n",
       "   'StorageClass': 'STANDARD'},\n",
       "  {'Key': 'test6',\n",
       "   'LastModified': datetime.datetime(2019, 11, 6, 10, 13, 41, tzinfo=tzutc()),\n",
       "   'ETag': '\"ddce269a1e3d054cae349621c198dd52\"',\n",
       "   'Size': 8,\n",
       "   'StorageClass': 'STANDARD'},\n",
       "  {'Key': 'test7',\n",
       "   'LastModified': datetime.datetime(2019, 11, 6, 10, 15, 18, tzinfo=tzutc()),\n",
       "   'ETag': '\"ddce269a1e3d054cae349621c198dd52\"',\n",
       "   'Size': 8,\n",
       "   'StorageClass': 'STANDARD'},\n",
       "  {'Key': 'test8',\n",
       "   'LastModified': datetime.datetime(2019, 11, 6, 10, 16, tzinfo=tzutc()),\n",
       "   'ETag': '\"ddce269a1e3d054cae349621c198dd52\"',\n",
       "   'Size': 8,\n",
       "   'StorageClass': 'STANDARD'},\n",
       "  {'Key': 'test9',\n",
       "   'LastModified': datetime.datetime(2019, 11, 6, 10, 17, 31, tzinfo=tzutc()),\n",
       "   'ETag': '\"ddce269a1e3d054cae349621c198dd52\"',\n",
       "   'Size': 8,\n",
       "   'StorageClass': 'STANDARD'},\n",
       "  {'Key': 'tox.ini',\n",
       "   'LastModified': datetime.datetime(2020, 2, 25, 23, 13, 17, tzinfo=tzutc()),\n",
       "   'ETag': '\"698ac1741de438fe2dff3109e79a73ff\"',\n",
       "   'Size': 140,\n",
       "   'StorageClass': 'STANDARD'},\n",
       "  {'Key': 'upload/file4',\n",
       "   'LastModified': datetime.datetime(2019, 11, 2, 12, 55, 34, tzinfo=tzutc()),\n",
       "   'ETag': '\"e20fbec6301128a76f7a981a1b6acd1b\"',\n",
       "   'Size': 57680004,\n",
       "   'StorageClass': 'STANDARD'},\n",
       "  {'Key': 'yellow_tripdata_2019-01.csv',\n",
       "   'LastModified': datetime.datetime(2019, 12, 4, 16, 14, 38, tzinfo=tzutc()),\n",
       "   'ETag': '\"2096093592bb10683fba3979de7c713f\"',\n",
       "   'Size': 38036,\n",
       "   'StorageClass': 'STANDARD'}],\n",
       " 'Name': 'taragolis-example-bucket',\n",
       " 'Prefix': '',\n",
       " 'MaxKeys': 1000,\n",
       " 'EncodingType': 'url',\n",
       " 'KeyCount': 18}"
      ]
     },
     "execution_count": 20,
     "metadata": {},
     "output_type": "execute_result"
    }
   ],
   "source": [
    "response"
   ]
  },
  {
   "cell_type": "code",
   "execution_count": null,
   "metadata": {},
   "outputs": [],
   "source": []
  },
  {
   "cell_type": "code",
   "execution_count": 21,
   "metadata": {
    "ExecuteTime": {
     "end_time": "2021-02-10T14:55:13.584427Z",
     "start_time": "2021-02-10T14:55:13.362516Z"
    },
    "scrolled": true
   },
   "outputs": [
    {
     "data": {
      "text/plain": [
       "{'ResponseMetadata': {'RequestId': '68758E75E121F64D',\n",
       "  'HostId': '8+9bkjyJ0/1hMjtNQ0p0d6E99BzQPKgHkAuyHuw1fIIZVjy0l4GTfuYaJfWJXE2rJ4es1Hs/AB8=',\n",
       "  'HTTPStatusCode': 200,\n",
       "  'HTTPHeaders': {'x-amz-id-2': '8+9bkjyJ0/1hMjtNQ0p0d6E99BzQPKgHkAuyHuw1fIIZVjy0l4GTfuYaJfWJXE2rJ4es1Hs/AB8=',\n",
       "   'x-amz-request-id': '68758E75E121F64D',\n",
       "   'date': 'Wed, 10 Feb 2021 14:55:14 GMT',\n",
       "   'x-amz-bucket-region': 'eu-central-1',\n",
       "   'content-type': 'application/xml',\n",
       "   'transfer-encoding': 'chunked',\n",
       "   'server': 'AmazonS3'},\n",
       "  'RetryAttempts': 0},\n",
       " 'IsTruncated': True,\n",
       " 'Contents': [{'Key': 'aws_pricing_overview.pdf',\n",
       "   'LastModified': datetime.datetime(2019, 9, 24, 12, 12, 55, tzinfo=tzutc()),\n",
       "   'ETag': '\"37b327cd6d1a295b2b8b2ae011c7b21c\"',\n",
       "   'Size': 227855,\n",
       "   'StorageClass': 'STANDARD'},\n",
       "  {'Key': 'awscloudpractitioner.jpg',\n",
       "   'LastModified': datetime.datetime(2019, 9, 24, 12, 13, 4, tzinfo=tzutc()),\n",
       "   'ETag': '\"2fb7e531eca10a2d8c76a7fec5cb8875\"',\n",
       "   'Size': 161140,\n",
       "   'StorageClass': 'STANDARD'},\n",
       "  {'Key': 'replica/Screenshot_20191113_154544.png',\n",
       "   'LastModified': datetime.datetime(2019, 11, 13, 14, 58, 11, tzinfo=tzutc()),\n",
       "   'ETag': '\"4f1527390d59396ba2305bdfc1890c33\"',\n",
       "   'Size': 85128,\n",
       "   'StorageClass': 'STANDARD'},\n",
       "  {'Key': 'replica/pip.conf',\n",
       "   'LastModified': datetime.datetime(2019, 11, 13, 15, 14, 24, tzinfo=tzutc()),\n",
       "   'ETag': '\"b51ec59e0f4bf0ba1e73f79200c2811c\"',\n",
       "   'Size': 200,\n",
       "   'StorageClass': 'STANDARD'},\n",
       "  {'Key': 'test',\n",
       "   'LastModified': datetime.datetime(2019, 11, 6, 9, 43, 53, tzinfo=tzutc()),\n",
       "   'ETag': '\"ddce269a1e3d054cae349621c198dd52\"',\n",
       "   'Size': 8,\n",
       "   'StorageClass': 'STANDARD'},\n",
       "  {'Key': 'test-bucket-owner-full-control',\n",
       "   'LastModified': datetime.datetime(2019, 11, 6, 11, 17, 20, tzinfo=tzutc()),\n",
       "   'ETag': '\"ddce269a1e3d054cae349621c198dd52\"',\n",
       "   'Size': 8,\n",
       "   'StorageClass': 'STANDARD'},\n",
       "  {'Key': 'test-bucket-owner-read',\n",
       "   'LastModified': datetime.datetime(2019, 11, 6, 11, 17, 7, tzinfo=tzutc()),\n",
       "   'ETag': '\"ddce269a1e3d054cae349621c198dd52\"',\n",
       "   'Size': 8,\n",
       "   'StorageClass': 'STANDARD'},\n",
       "  {'Key': 'test2',\n",
       "   'LastModified': datetime.datetime(2019, 11, 6, 9, 52, 47, tzinfo=tzutc()),\n",
       "   'ETag': '\"ddce269a1e3d054cae349621c198dd52\"',\n",
       "   'Size': 8,\n",
       "   'StorageClass': 'STANDARD'},\n",
       "  {'Key': 'test3',\n",
       "   'LastModified': datetime.datetime(2019, 11, 6, 9, 57, 31, tzinfo=tzutc()),\n",
       "   'ETag': '\"ddce269a1e3d054cae349621c198dd52\"',\n",
       "   'Size': 8,\n",
       "   'StorageClass': 'STANDARD'},\n",
       "  {'Key': 'test4',\n",
       "   'LastModified': datetime.datetime(2019, 11, 6, 10, 8, 48, tzinfo=tzutc()),\n",
       "   'ETag': '\"ddce269a1e3d054cae349621c198dd52\"',\n",
       "   'Size': 8,\n",
       "   'StorageClass': 'STANDARD'}],\n",
       " 'Name': 'taragolis-example-bucket',\n",
       " 'Prefix': '',\n",
       " 'MaxKeys': 10,\n",
       " 'EncodingType': 'url',\n",
       " 'KeyCount': 10,\n",
       " 'NextContinuationToken': '1RCqFgGdi4DtQoGF68Ua6BpB/eHBVQdFFvSqUXFyu32y28ATS9FEFUg=='}"
      ]
     },
     "execution_count": 21,
     "metadata": {},
     "output_type": "execute_result"
    }
   ],
   "source": [
    "client.list_objects_v2(\n",
    "    Bucket='taragolis-example-bucket',\n",
    "    Prefix='',\n",
    "    MaxKeys=10,  # Simulate a lot of Objects\n",
    ")"
   ]
  },
  {
   "cell_type": "code",
   "execution_count": null,
   "metadata": {},
   "outputs": [],
   "source": []
  },
  {
   "cell_type": "code",
   "execution_count": 22,
   "metadata": {
    "ExecuteTime": {
     "end_time": "2021-02-10T14:56:39.915953Z",
     "start_time": "2021-02-10T14:56:39.454776Z"
    }
   },
   "outputs": [
    {
     "name": "stdout",
     "output_type": "stream",
     "text": [
      "1 {'Key': 'aws_pricing_overview.pdf', 'LastModified': datetime.datetime(2019, 9, 24, 12, 12, 55, tzinfo=tzutc()), 'ETag': '\"37b327cd6d1a295b2b8b2ae011c7b21c\"', 'Size': 227855, 'StorageClass': 'STANDARD'}\n",
      "2 {'Key': 'awscloudpractitioner.jpg', 'LastModified': datetime.datetime(2019, 9, 24, 12, 13, 4, tzinfo=tzutc()), 'ETag': '\"2fb7e531eca10a2d8c76a7fec5cb8875\"', 'Size': 161140, 'StorageClass': 'STANDARD'}\n",
      "3 {'Key': 'replica/Screenshot_20191113_154544.png', 'LastModified': datetime.datetime(2019, 11, 13, 14, 58, 11, tzinfo=tzutc()), 'ETag': '\"4f1527390d59396ba2305bdfc1890c33\"', 'Size': 85128, 'StorageClass': 'STANDARD'}\n",
      "4 {'Key': 'replica/pip.conf', 'LastModified': datetime.datetime(2019, 11, 13, 15, 14, 24, tzinfo=tzutc()), 'ETag': '\"b51ec59e0f4bf0ba1e73f79200c2811c\"', 'Size': 200, 'StorageClass': 'STANDARD'}\n",
      "5 {'Key': 'test', 'LastModified': datetime.datetime(2019, 11, 6, 9, 43, 53, tzinfo=tzutc()), 'ETag': '\"ddce269a1e3d054cae349621c198dd52\"', 'Size': 8, 'StorageClass': 'STANDARD'}\n",
      "6 {'Key': 'test-bucket-owner-full-control', 'LastModified': datetime.datetime(2019, 11, 6, 11, 17, 20, tzinfo=tzutc()), 'ETag': '\"ddce269a1e3d054cae349621c198dd52\"', 'Size': 8, 'StorageClass': 'STANDARD'}\n",
      "7 {'Key': 'test-bucket-owner-read', 'LastModified': datetime.datetime(2019, 11, 6, 11, 17, 7, tzinfo=tzutc()), 'ETag': '\"ddce269a1e3d054cae349621c198dd52\"', 'Size': 8, 'StorageClass': 'STANDARD'}\n",
      "8 {'Key': 'test2', 'LastModified': datetime.datetime(2019, 11, 6, 9, 52, 47, tzinfo=tzutc()), 'ETag': '\"ddce269a1e3d054cae349621c198dd52\"', 'Size': 8, 'StorageClass': 'STANDARD'}\n",
      "9 {'Key': 'test3', 'LastModified': datetime.datetime(2019, 11, 6, 9, 57, 31, tzinfo=tzutc()), 'ETag': '\"ddce269a1e3d054cae349621c198dd52\"', 'Size': 8, 'StorageClass': 'STANDARD'}\n",
      "10 {'Key': 'test4', 'LastModified': datetime.datetime(2019, 11, 6, 10, 8, 48, tzinfo=tzutc()), 'ETag': '\"ddce269a1e3d054cae349621c198dd52\"', 'Size': 8, 'StorageClass': 'STANDARD'}\n",
      "Next Portion of Data\n",
      "11 {'Key': 'test5', 'LastModified': datetime.datetime(2019, 11, 6, 10, 13, 8, tzinfo=tzutc()), 'ETag': '\"ddce269a1e3d054cae349621c198dd52\"', 'Size': 8, 'StorageClass': 'STANDARD'}\n",
      "12 {'Key': 'test6', 'LastModified': datetime.datetime(2019, 11, 6, 10, 13, 41, tzinfo=tzutc()), 'ETag': '\"ddce269a1e3d054cae349621c198dd52\"', 'Size': 8, 'StorageClass': 'STANDARD'}\n",
      "13 {'Key': 'test7', 'LastModified': datetime.datetime(2019, 11, 6, 10, 15, 18, tzinfo=tzutc()), 'ETag': '\"ddce269a1e3d054cae349621c198dd52\"', 'Size': 8, 'StorageClass': 'STANDARD'}\n",
      "14 {'Key': 'test8', 'LastModified': datetime.datetime(2019, 11, 6, 10, 16, tzinfo=tzutc()), 'ETag': '\"ddce269a1e3d054cae349621c198dd52\"', 'Size': 8, 'StorageClass': 'STANDARD'}\n",
      "15 {'Key': 'test9', 'LastModified': datetime.datetime(2019, 11, 6, 10, 17, 31, tzinfo=tzutc()), 'ETag': '\"ddce269a1e3d054cae349621c198dd52\"', 'Size': 8, 'StorageClass': 'STANDARD'}\n",
      "16 {'Key': 'tox.ini', 'LastModified': datetime.datetime(2020, 2, 25, 23, 13, 17, tzinfo=tzutc()), 'ETag': '\"698ac1741de438fe2dff3109e79a73ff\"', 'Size': 140, 'StorageClass': 'STANDARD'}\n",
      "17 {'Key': 'upload/file4', 'LastModified': datetime.datetime(2019, 11, 2, 12, 55, 34, tzinfo=tzutc()), 'ETag': '\"e20fbec6301128a76f7a981a1b6acd1b\"', 'Size': 57680004, 'StorageClass': 'STANDARD'}\n",
      "18 {'Key': 'yellow_tripdata_2019-01.csv', 'LastModified': datetime.datetime(2019, 12, 4, 16, 14, 38, tzinfo=tzutc()), 'ETag': '\"2096093592bb10683fba3979de7c713f\"', 'Size': 38036, 'StorageClass': 'STANDARD'}\n"
     ]
    }
   ],
   "source": [
    "def list_objects(bucket, prefix=\"\", limit=10, s=None):\n",
    "    s = s or boto3.session.Session()\n",
    "    \n",
    "    s3_client = session.client(\"s3\")\n",
    "    \n",
    "    response = s3_client.list_objects_v2(\n",
    "        Bucket=bucket,\n",
    "        Prefix=prefix,\n",
    "        MaxKeys=limit,\n",
    "    )\n",
    "    \n",
    "    while True:\n",
    "        s3_objects = response[\"Contents\"]\n",
    "        for item in s3_objects:\n",
    "            yield item\n",
    "            \n",
    "        try:\n",
    "            next_token = response[\"NextContinuationToken\"]\n",
    "        except KeyError:\n",
    "            break\n",
    "        \n",
    "        print(\"Next Portion of Data\")\n",
    "        response = s3_client.list_objects_v2(\n",
    "            Bucket=bucket,\n",
    "            Prefix=prefix,\n",
    "            MaxKeys=limit,\n",
    "            ContinuationToken=next_token,\n",
    "        )\n",
    "        \n",
    "for ix, x in enumerate(list_objects(\"taragolis-example-bucket\"), start=1):\n",
    "    print(ix, x)"
   ]
  },
  {
   "cell_type": "code",
   "execution_count": 23,
   "metadata": {
    "ExecuteTime": {
     "end_time": "2021-02-10T14:57:43.348330Z",
     "start_time": "2021-02-10T14:57:42.722624Z"
    }
   },
   "outputs": [
    {
     "name": "stdout",
     "output_type": "stream",
     "text": [
      "{'Key': 'replica/Screenshot_20191113_154544.png', 'LastModified': datetime.datetime(2019, 11, 13, 14, 58, 11, tzinfo=tzutc()), 'ETag': '\"4f1527390d59396ba2305bdfc1890c33\"', 'Size': 85128, 'StorageClass': 'STANDARD'}\n",
      "\n",
      "{'Key': 'replica/pip.conf', 'LastModified': datetime.datetime(2019, 11, 13, 15, 14, 24, tzinfo=tzutc()), 'ETag': '\"b51ec59e0f4bf0ba1e73f79200c2811c\"', 'Size': 200, 'StorageClass': 'STANDARD'}\n",
      "\n"
     ]
    }
   ],
   "source": [
    "for x in list_objects(\"taragolis-example-bucket\", \"replica/\"):\n",
    "    print(x)\n",
    "    print()"
   ]
  },
  {
   "cell_type": "code",
   "execution_count": null,
   "metadata": {},
   "outputs": [],
   "source": []
  },
  {
   "cell_type": "code",
   "execution_count": null,
   "metadata": {},
   "outputs": [],
   "source": []
  },
  {
   "cell_type": "code",
   "execution_count": 25,
   "metadata": {
    "ExecuteTime": {
     "end_time": "2021-02-10T14:58:31.089677Z",
     "start_time": "2021-02-10T14:58:30.608978Z"
    }
   },
   "outputs": [
    {
     "name": "stdout",
     "output_type": "stream",
     "text": [
      "{'Key': 'test', 'LastModified': datetime.datetime(2019, 11, 6, 9, 43, 53, tzinfo=tzutc()), 'ETag': '\"ddce269a1e3d054cae349621c198dd52\"', 'Size': 8, 'StorageClass': 'STANDARD'}\n",
      "\n",
      "{'Key': 'test-bucket-owner-full-control', 'LastModified': datetime.datetime(2019, 11, 6, 11, 17, 20, tzinfo=tzutc()), 'ETag': '\"ddce269a1e3d054cae349621c198dd52\"', 'Size': 8, 'StorageClass': 'STANDARD'}\n",
      "\n",
      "{'Key': 'test-bucket-owner-read', 'LastModified': datetime.datetime(2019, 11, 6, 11, 17, 7, tzinfo=tzutc()), 'ETag': '\"ddce269a1e3d054cae349621c198dd52\"', 'Size': 8, 'StorageClass': 'STANDARD'}\n",
      "\n",
      "{'Key': 'test2', 'LastModified': datetime.datetime(2019, 11, 6, 9, 52, 47, tzinfo=tzutc()), 'ETag': '\"ddce269a1e3d054cae349621c198dd52\"', 'Size': 8, 'StorageClass': 'STANDARD'}\n",
      "\n",
      "{'Key': 'test3', 'LastModified': datetime.datetime(2019, 11, 6, 9, 57, 31, tzinfo=tzutc()), 'ETag': '\"ddce269a1e3d054cae349621c198dd52\"', 'Size': 8, 'StorageClass': 'STANDARD'}\n",
      "\n",
      "{'Key': 'test4', 'LastModified': datetime.datetime(2019, 11, 6, 10, 8, 48, tzinfo=tzutc()), 'ETag': '\"ddce269a1e3d054cae349621c198dd52\"', 'Size': 8, 'StorageClass': 'STANDARD'}\n",
      "\n",
      "{'Key': 'test5', 'LastModified': datetime.datetime(2019, 11, 6, 10, 13, 8, tzinfo=tzutc()), 'ETag': '\"ddce269a1e3d054cae349621c198dd52\"', 'Size': 8, 'StorageClass': 'STANDARD'}\n",
      "\n",
      "{'Key': 'test6', 'LastModified': datetime.datetime(2019, 11, 6, 10, 13, 41, tzinfo=tzutc()), 'ETag': '\"ddce269a1e3d054cae349621c198dd52\"', 'Size': 8, 'StorageClass': 'STANDARD'}\n",
      "\n",
      "{'Key': 'test7', 'LastModified': datetime.datetime(2019, 11, 6, 10, 15, 18, tzinfo=tzutc()), 'ETag': '\"ddce269a1e3d054cae349621c198dd52\"', 'Size': 8, 'StorageClass': 'STANDARD'}\n",
      "\n",
      "{'Key': 'test8', 'LastModified': datetime.datetime(2019, 11, 6, 10, 16, tzinfo=tzutc()), 'ETag': '\"ddce269a1e3d054cae349621c198dd52\"', 'Size': 8, 'StorageClass': 'STANDARD'}\n",
      "\n",
      "Next Portion of Data\n",
      "{'Key': 'test9', 'LastModified': datetime.datetime(2019, 11, 6, 10, 17, 31, tzinfo=tzutc()), 'ETag': '\"ddce269a1e3d054cae349621c198dd52\"', 'Size': 8, 'StorageClass': 'STANDARD'}\n",
      "\n",
      "{'Key': 'tox.ini', 'LastModified': datetime.datetime(2020, 2, 25, 23, 13, 17, tzinfo=tzutc()), 'ETag': '\"698ac1741de438fe2dff3109e79a73ff\"', 'Size': 140, 'StorageClass': 'STANDARD'}\n",
      "\n"
     ]
    }
   ],
   "source": [
    "for x in list_objects(\"taragolis-example-bucket\", \"t\"):\n",
    "    print(x)\n",
    "    print()"
   ]
  },
  {
   "cell_type": "code",
   "execution_count": null,
   "metadata": {},
   "outputs": [],
   "source": []
  },
  {
   "cell_type": "code",
   "execution_count": null,
   "metadata": {},
   "outputs": [],
   "source": []
  },
  {
   "cell_type": "code",
   "execution_count": 26,
   "metadata": {
    "ExecuteTime": {
     "end_time": "2021-02-10T14:58:44.339364Z",
     "start_time": "2021-02-10T14:58:44.334465Z"
    }
   },
   "outputs": [],
   "source": [
    "??client.list_objects_v2"
   ]
  },
  {
   "cell_type": "code",
   "execution_count": 27,
   "metadata": {
    "ExecuteTime": {
     "end_time": "2021-02-10T14:59:54.102592Z",
     "start_time": "2021-02-10T14:59:53.870567Z"
    }
   },
   "outputs": [
    {
     "data": {
      "text/plain": [
       "{'ResponseMetadata': {'RequestId': '8441C16D54DD8879',\n",
       "  'HostId': 'dnh00fV5el/geJeko5UAFXAnwE6gpDojAPIsiLsmRLu8DtxvGboOvkZAHN/ZVDFbb19FOu5cJy4=',\n",
       "  'HTTPStatusCode': 200,\n",
       "  'HTTPHeaders': {'x-amz-id-2': 'dnh00fV5el/geJeko5UAFXAnwE6gpDojAPIsiLsmRLu8DtxvGboOvkZAHN/ZVDFbb19FOu5cJy4=',\n",
       "   'x-amz-request-id': '8441C16D54DD8879',\n",
       "   'date': 'Wed, 10 Feb 2021 14:59:55 GMT',\n",
       "   'x-amz-bucket-region': 'eu-central-1',\n",
       "   'content-type': 'application/xml',\n",
       "   'transfer-encoding': 'chunked',\n",
       "   'server': 'AmazonS3'},\n",
       "  'RetryAttempts': 0},\n",
       " 'IsTruncated': False,\n",
       " 'Contents': [{'Key': 'replica/Screenshot_20191113_154544.png',\n",
       "   'LastModified': datetime.datetime(2019, 11, 13, 14, 58, 11, tzinfo=tzutc()),\n",
       "   'ETag': '\"4f1527390d59396ba2305bdfc1890c33\"',\n",
       "   'Size': 85128,\n",
       "   'StorageClass': 'STANDARD'},\n",
       "  {'Key': 'replica/pip.conf',\n",
       "   'LastModified': datetime.datetime(2019, 11, 13, 15, 14, 24, tzinfo=tzutc()),\n",
       "   'ETag': '\"b51ec59e0f4bf0ba1e73f79200c2811c\"',\n",
       "   'Size': 200,\n",
       "   'StorageClass': 'STANDARD'}],\n",
       " 'Name': 'taragolis-example-bucket',\n",
       " 'Prefix': 'replica/',\n",
       " 'Delimiter': '/',\n",
       " 'MaxKeys': 1000,\n",
       " 'EncodingType': 'url',\n",
       " 'KeyCount': 2}"
      ]
     },
     "execution_count": 27,
     "metadata": {},
     "output_type": "execute_result"
    }
   ],
   "source": [
    "client.list_objects_v2(\n",
    "    Bucket=\"taragolis-example-bucket\",\n",
    "    Prefix=\"replica/\",\n",
    "    Delimiter=\"/\"\n",
    ")"
   ]
  },
  {
   "cell_type": "code",
   "execution_count": null,
   "metadata": {},
   "outputs": [],
   "source": []
  },
  {
   "cell_type": "code",
   "execution_count": 28,
   "metadata": {
    "ExecuteTime": {
     "end_time": "2021-02-10T15:00:30.705029Z",
     "start_time": "2021-02-10T15:00:30.494171Z"
    }
   },
   "outputs": [
    {
     "data": {
      "text/plain": [
       "{'ResponseMetadata': {'RequestId': 'DB5930DFFCB9192A',\n",
       "  'HostId': 'DI8xqU7QLvuU60SEKDvhzoP4VnC9iJ4E0dgxyae6tzsjVKUu6YvmmUsu2pgMhXFWsvvQ3itPsbY=',\n",
       "  'HTTPStatusCode': 200,\n",
       "  'HTTPHeaders': {'x-amz-id-2': 'DI8xqU7QLvuU60SEKDvhzoP4VnC9iJ4E0dgxyae6tzsjVKUu6YvmmUsu2pgMhXFWsvvQ3itPsbY=',\n",
       "   'x-amz-request-id': 'DB5930DFFCB9192A',\n",
       "   'date': 'Wed, 10 Feb 2021 15:00:31 GMT',\n",
       "   'x-amz-bucket-region': 'eu-central-1',\n",
       "   'content-type': 'application/xml',\n",
       "   'transfer-encoding': 'chunked',\n",
       "   'server': 'AmazonS3'},\n",
       "  'RetryAttempts': 0},\n",
       " 'IsTruncated': False,\n",
       " 'Contents': [{'Key': 'aws_pricing_overview.pdf',\n",
       "   'LastModified': datetime.datetime(2019, 9, 24, 12, 12, 55, tzinfo=tzutc()),\n",
       "   'ETag': '\"37b327cd6d1a295b2b8b2ae011c7b21c\"',\n",
       "   'Size': 227855,\n",
       "   'StorageClass': 'STANDARD'},\n",
       "  {'Key': 'awscloudpractitioner.jpg',\n",
       "   'LastModified': datetime.datetime(2019, 9, 24, 12, 13, 4, tzinfo=tzutc()),\n",
       "   'ETag': '\"2fb7e531eca10a2d8c76a7fec5cb8875\"',\n",
       "   'Size': 161140,\n",
       "   'StorageClass': 'STANDARD'},\n",
       "  {'Key': 'test',\n",
       "   'LastModified': datetime.datetime(2019, 11, 6, 9, 43, 53, tzinfo=tzutc()),\n",
       "   'ETag': '\"ddce269a1e3d054cae349621c198dd52\"',\n",
       "   'Size': 8,\n",
       "   'StorageClass': 'STANDARD'},\n",
       "  {'Key': 'test-bucket-owner-full-control',\n",
       "   'LastModified': datetime.datetime(2019, 11, 6, 11, 17, 20, tzinfo=tzutc()),\n",
       "   'ETag': '\"ddce269a1e3d054cae349621c198dd52\"',\n",
       "   'Size': 8,\n",
       "   'StorageClass': 'STANDARD'},\n",
       "  {'Key': 'test-bucket-owner-read',\n",
       "   'LastModified': datetime.datetime(2019, 11, 6, 11, 17, 7, tzinfo=tzutc()),\n",
       "   'ETag': '\"ddce269a1e3d054cae349621c198dd52\"',\n",
       "   'Size': 8,\n",
       "   'StorageClass': 'STANDARD'},\n",
       "  {'Key': 'test2',\n",
       "   'LastModified': datetime.datetime(2019, 11, 6, 9, 52, 47, tzinfo=tzutc()),\n",
       "   'ETag': '\"ddce269a1e3d054cae349621c198dd52\"',\n",
       "   'Size': 8,\n",
       "   'StorageClass': 'STANDARD'},\n",
       "  {'Key': 'test3',\n",
       "   'LastModified': datetime.datetime(2019, 11, 6, 9, 57, 31, tzinfo=tzutc()),\n",
       "   'ETag': '\"ddce269a1e3d054cae349621c198dd52\"',\n",
       "   'Size': 8,\n",
       "   'StorageClass': 'STANDARD'},\n",
       "  {'Key': 'test4',\n",
       "   'LastModified': datetime.datetime(2019, 11, 6, 10, 8, 48, tzinfo=tzutc()),\n",
       "   'ETag': '\"ddce269a1e3d054cae349621c198dd52\"',\n",
       "   'Size': 8,\n",
       "   'StorageClass': 'STANDARD'},\n",
       "  {'Key': 'test5',\n",
       "   'LastModified': datetime.datetime(2019, 11, 6, 10, 13, 8, tzinfo=tzutc()),\n",
       "   'ETag': '\"ddce269a1e3d054cae349621c198dd52\"',\n",
       "   'Size': 8,\n",
       "   'StorageClass': 'STANDARD'},\n",
       "  {'Key': 'test6',\n",
       "   'LastModified': datetime.datetime(2019, 11, 6, 10, 13, 41, tzinfo=tzutc()),\n",
       "   'ETag': '\"ddce269a1e3d054cae349621c198dd52\"',\n",
       "   'Size': 8,\n",
       "   'StorageClass': 'STANDARD'},\n",
       "  {'Key': 'test7',\n",
       "   'LastModified': datetime.datetime(2019, 11, 6, 10, 15, 18, tzinfo=tzutc()),\n",
       "   'ETag': '\"ddce269a1e3d054cae349621c198dd52\"',\n",
       "   'Size': 8,\n",
       "   'StorageClass': 'STANDARD'},\n",
       "  {'Key': 'test8',\n",
       "   'LastModified': datetime.datetime(2019, 11, 6, 10, 16, tzinfo=tzutc()),\n",
       "   'ETag': '\"ddce269a1e3d054cae349621c198dd52\"',\n",
       "   'Size': 8,\n",
       "   'StorageClass': 'STANDARD'},\n",
       "  {'Key': 'test9',\n",
       "   'LastModified': datetime.datetime(2019, 11, 6, 10, 17, 31, tzinfo=tzutc()),\n",
       "   'ETag': '\"ddce269a1e3d054cae349621c198dd52\"',\n",
       "   'Size': 8,\n",
       "   'StorageClass': 'STANDARD'},\n",
       "  {'Key': 'tox.ini',\n",
       "   'LastModified': datetime.datetime(2020, 2, 25, 23, 13, 17, tzinfo=tzutc()),\n",
       "   'ETag': '\"698ac1741de438fe2dff3109e79a73ff\"',\n",
       "   'Size': 140,\n",
       "   'StorageClass': 'STANDARD'},\n",
       "  {'Key': 'yellow_tripdata_2019-01.csv',\n",
       "   'LastModified': datetime.datetime(2019, 12, 4, 16, 14, 38, tzinfo=tzutc()),\n",
       "   'ETag': '\"2096093592bb10683fba3979de7c713f\"',\n",
       "   'Size': 38036,\n",
       "   'StorageClass': 'STANDARD'}],\n",
       " 'Name': 'taragolis-example-bucket',\n",
       " 'Prefix': '',\n",
       " 'Delimiter': '/',\n",
       " 'MaxKeys': 1000,\n",
       " 'CommonPrefixes': [{'Prefix': 'replica/'}, {'Prefix': 'upload/'}],\n",
       " 'EncodingType': 'url',\n",
       " 'KeyCount': 17}"
      ]
     },
     "execution_count": 28,
     "metadata": {},
     "output_type": "execute_result"
    }
   ],
   "source": [
    "client.list_objects_v2(\n",
    "    Bucket=\"taragolis-example-bucket\",\n",
    "    Delimiter=\"/\"\n",
    ")"
   ]
  },
  {
   "cell_type": "code",
   "execution_count": null,
   "metadata": {},
   "outputs": [],
   "source": []
  },
  {
   "cell_type": "code",
   "execution_count": 29,
   "metadata": {
    "ExecuteTime": {
     "end_time": "2021-02-10T15:01:10.792031Z",
     "start_time": "2021-02-10T15:01:10.767272Z"
    }
   },
   "outputs": [],
   "source": [
    "??client.get_object"
   ]
  },
  {
   "cell_type": "code",
   "execution_count": null,
   "metadata": {},
   "outputs": [],
   "source": []
  },
  {
   "cell_type": "code",
   "execution_count": null,
   "metadata": {},
   "outputs": [],
   "source": []
  },
  {
   "cell_type": "code",
   "execution_count": null,
   "metadata": {},
   "outputs": [],
   "source": []
  },
  {
   "cell_type": "code",
   "execution_count": null,
   "metadata": {},
   "outputs": [],
   "source": []
  },
  {
   "cell_type": "code",
   "execution_count": null,
   "metadata": {},
   "outputs": [],
   "source": []
  },
  {
   "cell_type": "code",
   "execution_count": 30,
   "metadata": {
    "ExecuteTime": {
     "end_time": "2021-02-10T15:01:16.955985Z",
     "start_time": "2021-02-10T15:01:16.686907Z"
    }
   },
   "outputs": [
    {
     "data": {
      "text/plain": [
       "{'ResponseMetadata': {'RequestId': '0940E0E3F595C851',\n",
       "  'HostId': 'UOZ2oS74rDR9uKwyM+Hg/ujL7uaOmXYbj+ljObuTWhMWhv3zByoH77TrMnoFibmvU24CnHVmh/Q=',\n",
       "  'HTTPStatusCode': 200,\n",
       "  'HTTPHeaders': {'x-amz-id-2': 'UOZ2oS74rDR9uKwyM+Hg/ujL7uaOmXYbj+ljObuTWhMWhv3zByoH77TrMnoFibmvU24CnHVmh/Q=',\n",
       "   'x-amz-request-id': '0940E0E3F595C851',\n",
       "   'date': 'Wed, 10 Feb 2021 15:01:17 GMT',\n",
       "   'x-amz-replication-status': 'COMPLETED',\n",
       "   'last-modified': 'Wed, 04 Dec 2019 16:14:38 GMT',\n",
       "   'etag': '\"2096093592bb10683fba3979de7c713f\"',\n",
       "   'x-amz-version-id': '4x90IdgDVWWduwJ5c1Qme4b36R0NTIV1',\n",
       "   'accept-ranges': 'bytes',\n",
       "   'content-type': 'binary/octet-stream',\n",
       "   'content-length': '38036',\n",
       "   'server': 'AmazonS3'},\n",
       "  'RetryAttempts': 0},\n",
       " 'AcceptRanges': 'bytes',\n",
       " 'LastModified': datetime.datetime(2019, 12, 4, 16, 14, 38, tzinfo=tzutc()),\n",
       " 'ContentLength': 38036,\n",
       " 'ETag': '\"2096093592bb10683fba3979de7c713f\"',\n",
       " 'VersionId': '4x90IdgDVWWduwJ5c1Qme4b36R0NTIV1',\n",
       " 'ContentType': 'binary/octet-stream',\n",
       " 'Metadata': {},\n",
       " 'ReplicationStatus': 'COMPLETED',\n",
       " 'Body': <botocore.response.StreamingBody at 0x7fb44ee84370>}"
      ]
     },
     "execution_count": 30,
     "metadata": {},
     "output_type": "execute_result"
    }
   ],
   "source": [
    "client.get_object(\n",
    "    Bucket=\"taragolis-example-bucket\",\n",
    "    Key=\"yellow_tripdata_2019-01.csv\",\n",
    ")"
   ]
  },
  {
   "cell_type": "code",
   "execution_count": null,
   "metadata": {},
   "outputs": [],
   "source": []
  },
  {
   "cell_type": "code",
   "execution_count": null,
   "metadata": {},
   "outputs": [],
   "source": []
  },
  {
   "cell_type": "code",
   "execution_count": null,
   "metadata": {},
   "outputs": [],
   "source": []
  },
  {
   "cell_type": "code",
   "execution_count": 31,
   "metadata": {
    "ExecuteTime": {
     "end_time": "2021-02-10T15:01:52.437752Z",
     "start_time": "2021-02-10T15:01:52.190723Z"
    }
   },
   "outputs": [],
   "source": [
    "responce = client.get_object(\n",
    "    Bucket=\"taragolis-example-bucket\",\n",
    "    Key=\"yellow_tripdata_2019-01.csv\",\n",
    ")\n",
    "\n",
    "body = responce[\"Body\"]"
   ]
  },
  {
   "cell_type": "code",
   "execution_count": null,
   "metadata": {},
   "outputs": [],
   "source": []
  },
  {
   "cell_type": "code",
   "execution_count": null,
   "metadata": {},
   "outputs": [],
   "source": []
  },
  {
   "cell_type": "code",
   "execution_count": 32,
   "metadata": {
    "ExecuteTime": {
     "end_time": "2021-02-10T15:01:57.697632Z",
     "start_time": "2021-02-10T15:01:57.695124Z"
    }
   },
   "outputs": [
    {
     "data": {
      "text/plain": [
       "<botocore.response.StreamingBody at 0x7fb44ee94820>"
      ]
     },
     "execution_count": 32,
     "metadata": {},
     "output_type": "execute_result"
    }
   ],
   "source": [
    "body"
   ]
  },
  {
   "cell_type": "code",
   "execution_count": null,
   "metadata": {},
   "outputs": [],
   "source": []
  },
  {
   "cell_type": "code",
   "execution_count": 33,
   "metadata": {
    "ExecuteTime": {
     "end_time": "2021-02-10T15:02:08.012743Z",
     "start_time": "2021-02-10T15:02:07.999466Z"
    }
   },
   "outputs": [],
   "source": [
    "??body"
   ]
  },
  {
   "cell_type": "code",
   "execution_count": 34,
   "metadata": {
    "ExecuteTime": {
     "end_time": "2021-02-10T15:02:43.138831Z",
     "start_time": "2021-02-10T15:02:43.135394Z"
    }
   },
   "outputs": [
    {
     "data": {
      "text/plain": [
       "['_DEFAULT_CHUNK_SIZE',\n",
       " '__class__',\n",
       " '__delattr__',\n",
       " '__dict__',\n",
       " '__dir__',\n",
       " '__doc__',\n",
       " '__eq__',\n",
       " '__format__',\n",
       " '__ge__',\n",
       " '__getattribute__',\n",
       " '__gt__',\n",
       " '__hash__',\n",
       " '__init__',\n",
       " '__init_subclass__',\n",
       " '__iter__',\n",
       " '__le__',\n",
       " '__lt__',\n",
       " '__module__',\n",
       " '__ne__',\n",
       " '__new__',\n",
       " '__next__',\n",
       " '__reduce__',\n",
       " '__reduce_ex__',\n",
       " '__repr__',\n",
       " '__setattr__',\n",
       " '__sizeof__',\n",
       " '__str__',\n",
       " '__subclasshook__',\n",
       " '__weakref__',\n",
       " '_amount_read',\n",
       " '_content_length',\n",
       " '_raw_stream',\n",
       " '_verify_content_length',\n",
       " 'close',\n",
       " 'iter_chunks',\n",
       " 'iter_lines',\n",
       " 'next',\n",
       " 'read',\n",
       " 'set_socket_timeout']"
      ]
     },
     "execution_count": 34,
     "metadata": {},
     "output_type": "execute_result"
    }
   ],
   "source": [
    "dir(body)"
   ]
  },
  {
   "cell_type": "code",
   "execution_count": 36,
   "metadata": {
    "ExecuteTime": {
     "end_time": "2021-02-10T15:03:10.650414Z",
     "start_time": "2021-02-10T15:03:10.607055Z"
    }
   },
   "outputs": [
    {
     "name": "stdout",
     "output_type": "stream",
     "text": [
      "b'<!DOCTYPE html PUBLIC \"-//W3C//DTD XHTML 1.0 Strict//EN\" \"http://www.w3.org/TR/xhtml1/DTD/xhtml1-strict.dtd\">'\n",
      "b'<html xmlns=\"http://www.w3.org/1999/xhtml\" xml:lang=\"en\" lang=\"en\">'\n",
      "b'<!-- Generated from data/head-home.php, ../../smarty/{head.tpl} -->'\n",
      "b'<head>'\n",
      "b'<title>World Wide Web Consortium (W3C)</title>'\n",
      "b'<meta http-equiv=\"Content-Type\" content=\"text/html; charset=utf-8\" />'\n",
      "b'<link rel=\"Help\" href=\"/Help/\" />'\n",
      "b'<link rel=\"stylesheet\" href=\"/2008/site/css/minimum\" type=\"text/css\" media=\"all\" />'\n",
      "b'<style type=\"text/css\" media=\"print, screen and (min-width: 481px)\">'\n",
      "b'/*<![CDATA[*/'\n",
      "b'@import url(\"/2008/site/css/advanced\");'\n",
      "b'/*]]>*/'\n",
      "b'</style>'\n",
      "b'<link href=\"/2008/site/css/minimum\" rel=\"stylesheet\" type=\"text/css\" media=\"only screen and (max-width: 480px)\" />'\n",
      "b'<meta name=\"viewport\" content=\"width=device-width\" />'\n",
      "b'<link rel=\"stylesheet\" href=\"/2008/site/css/print\" type=\"text/css\" media=\"print\" />'\n",
      "b'<link rel=\"shortcut icon\" href=\"/2008/site/images/favicon.ico\" type=\"image/x-icon\" />'\n",
      "b'<meta name=\"description\" content=\"The World Wide Web Consortium (W3C) is an international community where Member organizations, a full-time staff, and the public work together to develop Web standards.\" />'\n",
      "b'<link rel=\"alternate\" type=\"application/atom+xml\" title=\"W3C News\" href=\"/blog/news/feed/atom\" />'\n",
      "b'</head>'\n",
      "b'<body id=\"www-w3-org\" class=\"w3c_public w3c_home\">'\n",
      "b'<div id=\"w3c_container\">'\n",
      "b'<!-- Generated from data/mast-home.php, ../../smarty/{mast.tpl} -->'\n",
      "b'<div id=\"w3c_mast\"><!-- #w3c_mast / Page top header -->'\n",
      "b'<h1 class=\"logo\"><a tabindex=\"2\" accesskey=\"1\" href=\"/\"><img src=\"/2008/site/images/logo-w3c-mobile-lg\" width=\"90\" height=\"53\" alt=\"W3C\" /></a> <span class=\"alt-logo\">W3C</span></h1>'\n",
      "b'<div id=\"w3c_nav\">'\n",
      "b'<form id=\"region_form\" action=\"https://www.w3.org/Consortium/contact\">'\n",
      "b'<div><select name=\"region\">'\n",
      "b'<option selected=\"selected\" title=\"Get Information about W3C By Region\">W3C By Region</option>'\n",
      "b'<option value=\"all\">All</option>'\n",
      "b'<option value=\"au\">Australia</option>'\n",
      "b'<option xml:lang=\"de\" lang=\"de\" value=\"de\">&#xD6;sterreich'\n",
      "b'(Austria)</option>'\n",
      "b'<option lang=\"nl\" xml:lang=\"nl\" value=\"nl\">Belgi&#xEB;'\n",
      "b'(Belgium)</option>'\n",
      "b'<option value=\"za\">Botswana</option>'\n",
      "b'<option xml:lang=\"pt-br\" value=\"br\" lang=\"pt-br\">Brasil'\n",
      "b'(Brazil)</option>'\n",
      "b'<option xml:lang=\"zh-hans\" value=\"cn\" lang=\"zh-hans\">&#x4E2D;&#x56FD;'\n",
      "b'(China)</option>'\n",
      "b'<option xml:lang=\"fi\" value=\"fi\" lang=\"fi\">Suomi (Finland)</option>'\n",
      "b'<option xml:lang=\"de\" value=\"de\" lang=\"de\">Deutschland'\n",
      "b'(Germany)</option>'\n",
      "b'<option xml:lang=\"el\" value=\"gr\" lang=\"el\">&#x395;&#x3BB;&#x3BB;&#x3AC;&#x3B4;&#x3B1; (Greece)</option>'\n",
      "b'<option xml:lang=\"fr\" value=\"fr\" lang=\"fr\">France</option>'\n",
      "b'<option xml:lang=\"hu\" value=\"hu\" lang=\"hu\">Magyarorsz&#xE1;g'\n",
      "b'(Hungary)</option>'\n",
      "b'<option xml:lang=\"hi\" value=\"in\" lang=\"hi\">&#x92D;&#x93E;&#x930;&#x924; (India)</option>'\n",
      "b'<option xml:lang=\"ga\" lang=\"ga\" value=\"gb\">&#xC9;ire (Ireland)</option>'\n",
      "b'<option xml:lang=\"it\" value=\"it\" lang=\"it\">Italia (Italy)</option>'\n",
      "b'<option xml:lang=\"ja\" value=\"jp\" lang=\"ja\">&#x65E5;&#x672C; (Japan)</option>'\n",
      "b'<option xml:lang=\"ko\" value=\"kr\" lang=\"ko\">&#xD55C;&#xAD6D; (Korea)</option>'\n",
      "b'<option value=\"za\">Lesotho</option>'\n",
      "b'<option lang=\"lb\" xml:lang=\"lb\" value=\"nl\">L&#xEB;tzebuerg'\n",
      "b'(Luxembourg)</option>'\n",
      "b'<option xml:lang=\"ar\" value=\"ma\" lang=\"ar\">&#x627;&#x644;&#x645;&#x63A;&#x631;&#x628;'\n",
      "b'(Morocco)</option>'\n",
      "b'<option value=\"za\">Namibia</option>'\n",
      "b'<option lang=\"nl\" xml:lang=\"nl\" value=\"nl\">Nederland'\n",
      "b'(Netherlands)</option>'\n",
      "b'<option xml:lang=\"ru\" value=\"ru\" lang=\"ru\">&#x420;&#x43E;&#x441;&#x441;&#x438;&#x44F; (Russia)</option>'\n",
      "b'<option xml:lang=\"es\" value=\"es\" lang=\"es\">Espa&#xF1;a (Spain)</option>'\n",
      "b'<option value=\"za\">South Africa</option>'\n",
      "b'<option lang=\"ss\" xml:lang=\"ss\" value=\"za\">Swatini'\n",
      "b'(Swaziland)</option>'\n",
      "b'<option xml:lang=\"sv\" value=\"se\" lang=\"sv\">Sverige'\n",
      "b'(Sweden)</option>'\n",
      "b'<option value=\"gb\">United Kingdom</option>'\n",
      "b'</select> <input class=\"button\" type=\"submit\" value=\"Go\" /></div>'\n",
      "b'</form>'\n",
      "b'<form action=\"https://www.w3.org/Help/search\" method=\"get\" enctype=\"application/x-www-form-urlencoded\">'\n",
      "b'<!-- w3c_sec_nav is populated through js -->'\n",
      "b'<div class=\"w3c_sec_nav\"><!-- --></div>'\n",
      "b'<ul class=\"main_nav\"><!-- Main navigation menu -->'\n",
      "b'<li class=\"first-item\"><a href=\"/standards/\">Standards</a></li>'\n",
      "b'<li><a href=\"/participate/\">Participate</a></li>'\n",
      "b'<li><a href=\"/Consortium/membership\">Membership</a></li>'\n",
      "b'<li class=\"last-item\"><a href=\"/Consortium/\">About W3C</a></li>'\n",
      "b'<li class=\"search-item\">'\n",
      "b'<div id=\"search-form\"><input tabindex=\"3\" class=\"text\" name=\"q\" value=\"\" title=\"Search\" /> <button id=\"search-submit\" name=\"search-submit\" type=\"submit\"><img class=\"submit\" src=\"/2008/site/images/search-button\" alt=\"Search\" width=\"21\" height=\"17\" /></button></div>'\n",
      "b'</li>'\n",
      "b'</ul>'\n",
      "b'</form>'\n",
      "b'</div>'\n",
      "b'</div>'\n",
      "b'<!-- /end #w3c_mast -->'\n",
      "b'<div id=\"w3c_main\">'\n",
      "b'<div id=\"w3c_logo_shadow\" class=\"w3c_leftCol\"><img height=\"32\" alt=\"\" src=\"/2008/site/images/logo-shadow\" /></div>'\n",
      "b'<div class=\"w3c_leftCol\">'\n",
      "b'<h2 class=\"offscreen\">Site Navigation</h2>'\n",
      "b'<h3 class=\"category tMargin\"><span class=\"ribbon\"><a href=\"standards\">Web and Industry <img src=\"/2008/site/images/header-link.gif\" alt=\"Header link\" width=\"13\" height=\"13\" class=\"header-link\" /></a></span></h3>'\n",
      "b'<ul class=\"theme\">'\n",
      "b'<li><a href=\"auto/\">Automotive</a></li>'\n",
      "b'<li><a href=\"tv/\">Entertainment (TV and Broadcasting)</a></li>'\n",
      "b'<li><a href=\"publishing/\">Publishing</a></li>'\n",
      "b'<li><a href=\"Payments/\">Web Payments</a></li>'\n",
      "b'<li><a href=\"2013/data/\">Web of Data</a></li>'\n",
      "b'<li><a href=\"Telco/\">Web and Telecommunications</a></li>'\n",
      "b'<li><a href=\"WoT/\">Web of Things</a></li>'\n",
      "b'</ul>'\n",
      "b'<h3 class=\"category tMargin\"><span class=\"ribbon\"><a href=\"Consortium/mission.html#principles\">Web for All <img src=\"/2008/site/images/header-link.gif\" alt=\"Header link\" width=\"13\" height=\"13\" class=\"header-link\" /></a></span></h3>'\n",
      "b'<ul class=\"theme\">'\n",
      "b'<li><a href=\"/WAI/\">Accessibility</a></li>'\n",
      "b'<li><a href=\"/International/\">Internationalization</a></li>'\n",
      "b'<li><a href=\"Security\">Web Security</a></li>'\n",
      "b'<li><a href=\"Privacy/\">Privacy</a></li>'\n",
      "b'</ul>'\n",
      "b'<h3 class=\"category tMargin\"><span class=\"ribbon\"><a href=\"Consortium/activities\">W3C Work Groups <img src=\"/2008/site/images/header-link.gif\" alt=\"Header link\" width=\"13\" height=\"13\" class=\"header-link\" /></a></span></h3>'\n",
      "b'<ul class=\"theme\">'\n",
      "b'<li><a href=\"/Consortium/cepc/\">Code of Ethics and Professional'\n",
      "b'Conduct</a></li>'\n",
      "b'<li><a href=\"/Consortium/activities\">W3C Groups</a></li>'\n",
      "b'<li><a title=\"Member-only group participant guidebook\" href=\"/Guide/\">Participant guidebook</a></li>'\n",
      "b'<li><a href=\"/community/groups/\">Current W3C Community'\n",
      "b'Groups</a></li>'\n",
      "b'<li><a href=\"/community/groups/proposed/\">Proposed W3C Community'\n",
      "b'Groups</a></li>'\n",
      "b'</ul>'\n",
      "b'<h3 class=\"category tMargin\"><span class=\"ribbon\"><a href=\"participate/\">Dev Resources <img src=\"/2008/site/images/header-link.gif\" alt=\"Header link\" width=\"13\" height=\"13\" class=\"header-link\" /></a></span></h3>'\n",
      "b'<ul class=\"theme\">'\n",
      "b'<li><a title=\"W3C Developer Avenue\" href=\"/developers/\"><img src=\"/2015/10/W3C-Developers_Assets/W3C-Developers-Dark.png\" width=\"150\" alt=\"W3C Developers\" title=\"W3C Developer Avenue\" /></a></li>'\n",
      "b'<li><a href=\"https://validator.w3.org/\">Validators</a></li>'\n",
      "b'<li><a href=\"https://www.w3.org/2009/cheatsheet/\">W3C'\n",
      "b'cheatsheet</a></li>'\n",
      "b'<li><a href=\"Status.html\">More Open Source Software</a></li>'\n",
      "b'<li><a title=\"Open Web Platform testing\" href=\"http://web-platform-tests.org/\">Web Platform Tests</a></li>'\n",
      "b'<li><a title=\"MOOCs from W3C on edX\" href=\"https://www.edx.org/school/w3cx\">W3Cx (Training)</a></li>'\n",
      "b'<li><a href=\"participate/\">More ways to participate</a></li>'\n",
      "b'</ul>'\n",
      "b'<h3 class=\"category tMargin\"><span class=\"ribbon\"><a href=\"/Member/\">Member-only Home <img src=\"/2008/site/images/header-link.gif\" alt=\"Header link\" width=\"13\" height=\"13\" class=\"header-link\" /></a></span></h3>'\n",
      "b'<ul class=\"theme\">'\n",
      "b'<li><a href=\"https://www.w3.org/Consortium/activities\">Join a'\n",
      "b'Group</a></li>'\n",
      "b'<li><a href=\"http://www.w3.org/2004/01/pp-impl/queue\">Join requests'\n",
      "b'queue</a></li>'\n",
      "b'<li><a href=\"https://www.w3.org/Help/Account/Request/Member\">Get a'\n",
      "b'Member Account</a></li>'\n",
      "b'</ul>'\n",
      "b'</div>'\n",
      "b'<div class=\"w3c_mainCol\">'\n",
      "b'<div id=\"w3c_crumbs\">'\n",
      "b'<div id=\"w3c_crumbs_frame\">'\n",
      "b'<p class=\"bct\"><span class=\"skip\"><a tabindex=\"1\" accesskey=\"2\" title=\"Skip to content (e.g., when browsing via audio)\" href=\"#w3c_most-recently\">Skip</a></span></p>'\n",
      "b'<br /></div>'\n",
      "b'</div>'\n",
      "b'<div class=\"line\">'\n",
      "b'<div class=\"unit size2on3\">'\n",
      "b'<div class=\"main-content\">'\n",
      "b'<h2 class=\"offscreen\">News</h2>'\n",
      "b'<div id=\"w3c_slideshow\"><div id=\"w3c_most-recently\" class=\"intro hierarchy vevent_list\">'\n",
      "b'   <div class=\"event w3c_topstory expand_block\">'\n",
      "b'      <div class=\"headline\">'\n",
      "b'         <h3 class=\"h4 tPadding0 bPadding0 summary\">'\n",
      "b'            <span class=\"expand_section\">W3Cx Introduction to Web Accessibility &#x2013; New Online Course</span>'\n",
      "b'         </h3>'\n",
      "b'         <p class=\"date\">'\n",
      "b'            <span class=\"dtstart published\" title=\"2019-12-03T15:51:56Z\"> 3 December 2019 </span> | <a title=\"Archive: W3Cx Introduction to Web Accessibility &#x2013; New Online Course\" href=\"https://www.w3.org/blog/news/archives/8094\">Archive</a>'\n",
      "b'         </p>'\n",
      "b'      </div>'\n",
      "b'      <div class=\"description expand_description\"><p><a class=\"imageLink\" href=\"https://www.edx.org/course/web-accessibility-introduction\"><img src=\"https://www.w3.org/comm/assets/graphics/w3cx-accessibility-intro.png\" alt=\"illustration showing two persons looking at a computer; and WAI icons\" width=\"200\" /></a>On the International Day of Persons with Disabilities, W3C and the <abbr title=\"United Nations Educational, Scientific and Cultural Organization\">UNESCO</abbr> Institute for Information Technologies in Education (UNESCO IITE) launched a new W3Cx course: &#x201C;<a href=\"https://www.edx.org/course/web-accessibility-introduction\">Introduction to Web Accessibility</a>&#x201C;.</p>'\n",
      "b'<p>The course is designed for <strong>technical and non-technical audiences</strong>, including developers, designers, content authors, project managers, people with disabilities, and others. The course will start on 28 January 2020 and is self-paced.</p>'\n",
      "b'<p>Please, read our <a href=\"https://www.w3.org/2019/12/pressrelease-intro-web-accessibility-course.html.en\">press release</a> and <a href=\"https://www.w3.org/blog/2019/12/free-online-course-introduction-to-web-accessibility/\">blog post</a>, and watch our short <a href=\"https://www.w3.org/2019/12/teaser-intro-web-accessibility-course.html\">teaser video</a> for more information about the course. <a href=\"https://www.edx.org/course/web-accessibility-introduction\">Enroll</a> now, and encourage others to, too.</p>'\n",
      "b'</div>'\n",
      "b'   </div>'\n",
      "b'   <div class=\"event closed expand_block\">'\n",
      "b'      <div class=\"headline\">'\n",
      "b'         <h3 class=\"h4 tPadding0 bPadding0 summary\">'\n",
      "b'            <span class=\"expand_section\">W3C opens Technical Architecture Group (TAG) election</span>'\n",
      "b'         </h3>'\n",
      "b'         <p class=\"date\">'\n",
      "b'            <span class=\"dtstart published\" title=\"2019-12-03T13:51:40Z\"> 3 December 2019 </span> | <a title=\"Archive: W3C opens Technical Architecture Group (TAG) election\" href=\"https://www.w3.org/blog/news/archives/8100\">Archive</a>'\n",
      "b'         </p>'\n",
      "b'      </div>'\n",
      "b'      <div class=\"description expand_description\"><p><a class=\"imageLink\" href=\"https://www.w3.org/2019/12/03-tag-nominations\"><img src=\"https://www.w3.org/blog/news/files/2017/12/w3c-tag-300x300.jpg\" alt=\"W3C TAG logo\" width=\"80\" height=\"80\" /></a>The W3C Advisory Committee having <a href=\"https://www.w3.org/2019/12/03-tag-nominations\">nominated</a> four individuals, is invited today to vote until 10 January 2020 for <strong>three seats</strong> in the <a href=\"https://www.w3.org/2001/tag/\">W3C Technical Architecture Group (TAG)</a> election.</p>'\n",
      "b'<p>The TAG is a special working group within the W3C, chartered under the <a href=\"https://www.w3.org/Consortium/Process/#TAG\">W3C Process Document</a>, with stewardship of the Web architecture. Some aspects of its mission include</p>'\n",
      "b'<ul class=\"show_items\">'\n",
      "b'<li>to document and build consensus around principles of Web architecture and'\n",
      "b'to interpret and clarify these principles when necessary;</li>'\n",
      "b'<li>to resolve issues involving general Web architecture brought to the'\n",
      "b'TAG;</li>'\n",
      "b'<li>to help coordinate cross-technology architecture developments inside and'\n",
      "b'outside W3C.</li>'\n",
      "b'</ul>'\n",
      "b'</div>'\n",
      "b'   </div>'\n",
      "b'   <div class=\"event closed expand_block\">'\n",
      "b'      <div class=\"headline\">'\n",
      "b'         <h3 class=\"h4 tPadding0 bPadding0 summary\">'\n",
      "b'            <span class=\"expand_section\">New version of the Roadmap of Web Applications on Mobile</span>'\n",
      "b'         </h3>'\n",
      "b'         <p class=\"date\">'\n",
      "b'            <span class=\"dtstart published\" title=\"2019-12-02T13:36:45Z\"> 2 December 2019 </span> | <a title=\"Archive: New version of the Roadmap of Web Applications on Mobile\" href=\"https://www.w3.org/blog/news/archives/8083\">Archive</a>'\n",
      "b'         </p>'\n",
      "b'      </div>'\n",
      "b'      <div class=\"description expand_description\"><p><a class=\"imageLink\" href=\"https://www.w3.org/2019/04/web-roadmaps/mobile/\"><img style=\"float: right;margin-left: 1em\" src=\"https://w3c.github.io/web-roadmaps/assets/img/mobile-lifecycle.svg\" alt=\"Icon representing mobile life-cycle\" width=\"100\" /></a>W3C has published a new version of its <a href=\"https://www.w3.org/2019/11/web-roadmaps/mobile/\">Roadmap of Web Applications on Mobile</a>, an overview of the various technologies developed in W3C that increase the capabilities of Web applications, and how they apply more specifically to the mobile context.</p>'\n",
      "b'<p>The November 2019 snapshot refreshes the list of technologies under incubation in Community Groups or on the standardization track in Working Groups. See the <a href=\"https://www.w3.org/2019/11/web-roadmaps/mobile/about.html#november-2019\">Change history since April 2019</a> for details. New standardization proposals have notably emerged, including:</p>'\n",
      "b'<ul class=\"show_items\">'\n",
      "b'<li>WebTransport, an API similar to WebSocket but closer to UDP and based on QUIC, described in <a href=\"https://www.w3.org/2019/11/web-roadmaps/mobile/network.html\">Network and Communications</a>;</li>'\n",
      "b'<li>WebCodecs to expose media encoders/decoders to web applications, described in <a href=\"https://www.w3.org/2019/11/web-roadmaps/mobile/media.html\">Media</a>;</li>'\n",
      "b'<li>WebGPU, described in <a href=\"https://www.w3.org/2019/11/web-roadmaps/mobile/graphics.html\">Graphics and Layout</a>, which has made significant progress in the past few months;</li>'\n",
      "b'<li>Input for workers and worklets, described in <a href=\"https://www.w3.org/2019/11/web-roadmaps/mobile/userinput.html\">User Interaction</a>;</li>'\n",
      "b'<li>Various low-level specifications for <a href=\"https://www.w3.org/2019/11/web-roadmaps/mobile/performance.html\">Performance and Tuning</a>, such as <code>isInputPending</code>, the <code>&lt;virtual-scroller&gt;</code> element, and Audio Device Client in <a href=\"https://www.w3.org/2019/11/web-roadmaps/mobile/media.html\">Media</a>.</li>'\n",
      "b'</ul>'\n",
      "b'<p>Former proposals under incubation in Community Groups have moved to the standardization track since April 2019. For instance, media specifications such as Media Capabilities, Picture-in-Picture, and Media Session are now being standardized by the Media Working Group (see <a href=\"https://www.w3.org/2019/11/web-roadmaps/mobile/media.html\">Media</a>). Similarly, the CSS Animation Worklet API has been adopted by the CSS Working Group (see <a href=\"https://www.w3.org/2019/11/web-roadmaps/mobile/performance.html\">Performance and Tuning</a>).</p>'\n",
      "b'<p>Still in the performance ballpark, WebAssembly has made quick progress on the standardization track and was moved to well-deployed technologies in <a href=\"https://www.w3.org/2019/11/web-roadmaps/mobile/performance.html\">Performance and Tuning</a>.</p>'\n",
      "b'<p>On top of specifications, the November 2019 snapshot also reflects on implementation progress. For instance, Resize Observer shipped in Firefox and Safari (see <a href=\"https://www.w3.org/2019/11/web-roadmaps/mobile/adaptation.html\">Device Adaptation</a>), Background Fetch shipped in Chrome (see <a href=\"https://www.w3.org/2019/11/web-roadmaps/mobile/lifecycle.html\">Application Lifecycle</a>) and the <code>&lt;datalist&gt;</code> element defined in HTML shipped on all main browsers (see <a href=\"https://www.w3.org/2019/11/web-roadmaps/mobile/forms.html\">Forms</a>).</p>'\n",
      "b'<p><em>Sponsored by Beihang University, this project is part of a set of roadmaps under development in a <a href=\"https://github.com/w3c/web-roadmaps/\">GitHub repository</a> to document existing standards, highlight ongoing standardization efforts, point out topics under incubation, and discuss technical gaps that may need to be addressed in the future. New versions will be published on a quarterly basis, or as needed depending on progress of key technologies of the Web platform. We encourage the community to review them and raise comments, or suggest new ones, in the repository&#x2019;s <a href=\"https://github.com/w3c/web-roadmaps/issues/\">issue tracker</a>.</em></p>'\n",
      "b'</div>'\n",
      "b'   </div>'\n",
      "b'   <div class=\"event closed expand_block\">'\n",
      "b'      <div class=\"headline\">'\n",
      "b'         <h3 class=\"h4 tPadding0 bPadding0 summary\">'\n",
      "b'            <span class=\"expand_section\">First Public Working Draft: TTML Profiles for Internet Media Subtitles and Captions 1.2</span>'\n",
      "b'         </h3>'\n",
      "b'         <p class=\"date\">'\n",
      "b'            <span class=\"dtstart published\" title=\"2019-11-28T12:08:39Z\"> 28 November 2019 </span> | <a title=\"Archive: First Public Working Draft: TTML Profiles for Internet Media Subtitles and Captions 1.2\" href=\"https://www.w3.org/blog/news/archives/8070\">Archive</a>'\n",
      "b'         </p>'\n",
      "b'      </div>'\n",
      "b'      <div class=\"description expand_description\"><p>'\n",
      "b'The <a href=\"https://www.w3.org/AudioVideo/TT/\">Timed Text Working Group</a> has published a First Public Working Draft of <a href=\"https://www.w3.org/TR/2019/WD-ttml-imsc1.2-20191128/\">TTML Profiles for Internet Media Subtitles and Captions 1.2</a>. This specification defines two profiles of [<cite><a href=\"https://www.w3.org/TR/2019/WD-ttml-imsc1.2-20191128/#bib-ttml2\">ttml2</a></cite>]: a text-only profile and an image-only profile. These profiles are intended to be used across subtitle and caption delivery applications worldwide, thereby simplifying interoperability, consistent rendering and conversion to other subtitling and captioning formats. This specification improves on [<cite><a href=\"https://www.w3.org/TR/2019/WD-ttml-imsc1.2-20191128/#bib-ttml-imsc1.1\">ttml-imsc1.1</a></cite>] by supporting contemporary practices, while retaining compatibility with [<cite>ttml-imsc1.1</cite>] documents. It provides one new feature, which permits external font files to be referenced explicitly. One existing feature has been clarified, and no features have been deprecated in this version.</p>'\n",
      "b'</div>'\n",
      "b'   </div>'\n",
      "b'   <div class=\"event closed expand_block\">'\n",
      "b'      <div class=\"headline\">'\n",
      "b'         <h3 class=\"h4 tPadding0 bPadding0 summary\">'\n",
      "b'            <span class=\"expand_section\">First Public Working Draft: Use Cases and Requirements for Decentralized Identifiers</span>'\n",
      "b'         </h3>'\n",
      "b'         <p class=\"date\">'\n",
      "b'            <span class=\"dtstart published\" title=\"2019-11-28T12:05:32Z\"> 28 November 2019 </span> | <a title=\"Archive: First Public Working Draft: Use Cases and Requirements for Decentralized Identifiers\" href=\"https://www.w3.org/blog/news/archives/8072\">Archive</a>'\n",
      "b'         </p>'\n",
      "b'      </div>'\n",
      "b'      <div class=\"description expand_description\"><p>'\n",
      "b'The <a href=\"https://www.w3.org/2019/did-wg/\">Decentralized Identifier Working Group</a> has published a First Public Working Draft of <a href=\"https://www.w3.org/TR/2019/WD-did-use-cases-20191128/\">Use Cases and Requirements for Decentralized Identifiers</a>. This document sets out use cases and requirements for a new type of identifier that has 4 essential characteristics:'\n",
      "b'</p>'\n",
      "b'<ul class=\"show_items\">'\n",
      "b'<li><strong>decentralized</strong>: there should be no central issuing agency;</li>'\n",
      "b'<li><strong>persistent</strong>: the identifier should be inherently persistent, not requiring the continued operation of an underling organization;</li>'\n",
      "b'<li><strong>cryptographically verifiable</strong>: it should be possible to prove control of the identifier cryptographically;</li>'\n",
      "b'<li><strong>resolvable</strong>: it should be possible to discover metadata about the identifier.</li>'\n",
      "b'</ul>'\n",
      "b'<p>'\n",
      "b'Although existing identifiers may display some of these characteristics, none currently displays all four.</p>'\n",
      "b'</div>'\n",
      "b'   </div>'\n",
      "b'   <div class=\"event closed expand_block\">'\n",
      "b'      <div class=\"headline\">'\n",
      "b'         <h3 class=\"h4 tPadding0 bPadding0 summary\">'\n",
      "b'            <span class=\"expand_section\">High Resolution Time Level 2 is a W3C Recommendation</span>'\n",
      "b'         </h3>'\n",
      "b'         <p class=\"date\">'\n",
      "b'            <span class=\"dtstart published\" title=\"2019-11-21T07:38:15Z\"> 21 November 2019 </span> | <a title=\"Archive: High Resolution Time Level 2 is a W3C Recommendation\" href=\"https://www.w3.org/blog/news/archives/8053\">Archive</a>'\n",
      "b'         </p>'\n",
      "b'      </div>'\n",
      "b'      <div class=\"description expand_description\"><p>'\n",
      "b'The <a href=\"https://www.w3.org/webperf/\">Web Performance Working Group</a> has published <a href=\"https://www.w3.org/TR/2019/REC-hr-time-2-20191121/\">High Resolution Time Level 2</a> as a W3C Recommendation. This specification defines an API that provides the time origin, and current time in sub-millisecond resolution, such that it is not subject to system clock skew or adjustments. High Resolution Time Level 2 replaces the <a href=\"https://www.w3.org/TR/2012/REC-hr-time-20121217/#sec-high-resolution-time\">first version of High Resolution Time</a>.</p>'\n",
      "b'</div>'\n",
      "b'   </div>'\n",
      "b'   <div class=\"event closed expand_block\">'\n",
      "b'      <div class=\"headline\">'\n",
      "b'         <h3 class=\"h4 tPadding0 bPadding0 summary\">'\n",
      "b'            <span class=\"expand_section\">CSS Containment Module Level 1 is a W3C Recommendation</span>'\n",
      "b'         </h3>'\n",
      "b'         <p class=\"date\">'\n",
      "b'            <span class=\"dtstart published\" title=\"2019-11-21T07:36:19Z\"> 21 November 2019 </span> | <a title=\"Archive: CSS Containment Module Level 1 is a W3C Recommendation\" href=\"https://www.w3.org/blog/news/archives/8056\">Archive</a>'\n",
      "b'         </p>'\n",
      "b'      </div>'\n",
      "b'      <div class=\"description expand_description\"><p>'\n",
      "b'The <a href=\"https://www.w3.org/Style/CSS/\">CSS Working Group </a> has published <a href=\"https://www.w3.org/TR/2019/REC-css-contain-1-20191121/\">CSS Containment Module Level 1</a> as a W3C Recommendation. This CSS module describes the <a href=\"https://www.w3.org/TR/2019/REC-css-contain-1-20191121/#propdef-contain\">contain</a> property, which indicates that the element&#x2019;s subtree is independent of the rest of the page. This enables heavy optimizations by user agents when used well.</p>'\n",
      "b'</div>'\n",
      "b'   </div>'\n",
      "b'   <div class=\"event closed expand_block\">'\n",
      "b'      <div class=\"headline\">'\n",
      "b'         <h3 class=\"h4 tPadding0 bPadding0 summary\">'\n",
      "b'            <span class=\"expand_section\">Verifiable Credentials Data Model 1.0 is a W3C Recommendation</span>'\n",
      "b'         </h3>'\n",
      "b'         <p class=\"date\">'\n",
      "b'            <span class=\"dtstart published\" title=\"2019-11-19T06:55:32Z\"> 19 November 2019 </span> | <a title=\"Archive: Verifiable Credentials Data Model 1.0 is a W3C Recommendation\" href=\"https://www.w3.org/blog/news/archives/8042\">Archive</a>'\n",
      "b'         </p>'\n",
      "b'      </div>'\n",
      "b'      <div class=\"description expand_description\"><p>'\n",
      "b'The <a href=\"https://www.w3.org/2017/vc/\">Verifiable Claims Working Group</a> has published <a href=\"https://www.w3.org/TR/2019/REC-vc-data-model-20191119/\">Verifiable Credentials Data Model 1.0</a> as a W3C Recommendation. <a href=\"https://www.w3.org/TR/2019/REC-vc-data-model-20191119/#dfn-credential\">Credentials</a> are a part of our daily lives; driver&#x2019;s licenses are used to assert that we are capable of operating a motor vehicle, university degrees can be used to assert our level of education, and government-issued passports enable us to travel between countries. This specification provides a mechanism to express these sorts of <a href=\"https://www.w3.org/TR/2019/REC-vc-data-model-20191119/#dfn-credential\">credentials</a> on the Web in a way that is cryptographically secure, privacy respecting, and machine-verifiable.</p>'\n",
      "b'</div>'\n",
      "b'   </div>'\n",
      "b'   <div class=\"event closed expand_block\">'\n",
      "b'      <div class=\"headline\">'\n",
      "b'         <h3 class=\"h4 tPadding0 bPadding0 summary\">'\n",
      "b'            <span class=\"expand_section\">W3C Invites Implementations of Service Workers 1</span>'\n",
      "b'         </h3>'\n",
      "b'         <p class=\"date\">'\n",
      "b'            <span class=\"dtstart published\" title=\"2019-11-19T06:51:19Z\"> 19 November 2019 </span> | <a title=\"Archive: W3C Invites Implementations of Service Workers 1\" href=\"https://www.w3.org/blog/news/archives/8038\">Archive</a>'\n",
      "b'         </p>'\n",
      "b'      </div>'\n",
      "b'      <div class=\"description expand_description\"><p>'\n",
      "b'The <a href=\"https://www.w3.org/sw/\">Service Workers Working Group</a> has published a Candidate Recommendation of <a href=\"https://www.w3.org/TR/2019/CR-service-workers-1-20191119/\">Service Workers 1</a>. This specification describes a method that enables applications to take advantage of persistent background processing, including hooks to enable bootstrapping of web applications while offline. The core of this system is an event-driven <a href=\"https://html.spec.whatwg.org/multipage/workers.html#workers\">Web Worker</a>, which responds to events dispatched from documents and other sources. A system for managing installation, versions, and upgrades is provided. The service worker is a generic entry point for event-driven background processing in the Web Platform that is <a href=\"https://www.w3.org/TR/2019/CR-service-workers-1-20191119/#extensibility\">extensible by other specifications</a>.'\n",
      "b'</p>'\n",
      "b'<p>'\n",
      "b'Comments are welcome by <strong>31 January 2020</strong>.</p>'\n",
      "b'</div>'\n",
      "b'   </div>'\n",
      "b'</div></div>'\n",
      "b'<p class=\"noprint\"><span class=\"more-news\"><a href=\"/blog/news/\" title=\"More News\">More news&#x2026;</a> <a title=\"RSS feed for W3C home page news\" href=\"/blog/news/feed\" class=\"feedlink\"><img width=\"30\" height=\"30\" alt=\"RSS\" src=\"/2008/site/images/icons/rss30\" /></a> <a title=\"Atom feed for W3C home page news\" href=\"/blog/news/feed/atom\" class=\"feedlink\"><img width=\"30\" height=\"30\" alt=\"Atom\" src=\"/2008/site/images/icons/atom30\" /></a></span></p>'\n",
      "b'<div class=\"w3c_events_talks\">'\n",
      "b'<div class=\"line\">'\n",
      "b'<div class=\"unit size1on2\">'\n",
      "b'<div id=\"w3c_home_talks\" class=\"w3c_upcoming_talks\"><div>'\n",
      "b'<h2 class=\"category\">'\n",
      "b'    <a title=\"More Talks&#x2026;\" href=\"/Talks/\">'\n",
      "b'        Talks and Appearances <img src=\"/2008/site/images/header-link\" alt=\"Header link\" width=\"13\" height=\"13\" class=\"header-link\" />'\n",
      "b'    </a>'\n",
      "b'</h2>'\n",
      "b'<p>None. See <a href=\"/Talks/\">full list of W3C Talks and Appearances</a>.</p>'\n",
      "b'</div></div>'\n",
      "b'</div>'\n",
      "b'<div class=\"unit size1on2 lastUnit\">'\n",
      "b'<div id=\"w3c_home_upcoming_events\" class=\"w3c_upcoming_events\"><h2 class=\"category\"><a title=\"More Events&#x2026;\" href=\"/participate/eventscal.html\">Events <img src=\"/2008/site/images/header-link\" alt=\"Header link\" width=\"13\" height=\"13\" class=\"header-link\" /></a></h2>'\n",
      "b'  <ul class=\"vevent_list\">'\n",
      "b'    <li class=\"vevent\">'\n",
      "b'      <div class=\"date\">'\n",
      "b'<span class=\"dtstart\"><span class=\"year\">2019</span><span class=\"mm-dd\">-12-03</span></span>'\n",
      "b'<span class=\"paren\">(</span><span class=\"dd-mmm\"> 3 DEC</span><span class=\"paren\">)</span>'\n",
      "b'<span class=\"date-separator\"> &#x2013; </span>'\n",
      "b'<span class=\"dtend\"><span class=\"year\">2019</span><span class=\"mm-dd\">-12-05</span></span>'\n",
      "b'<span class=\"paren\">(</span><span class=\"dd-mmm\"> 5 DEC</span><span class=\"paren\">)</span>'\n",
      "b'</div>'\n",
      "b'      <div class=\"info-wrap\">'\n",
      "b'      <p class=\"summary\">'\n",
      "b'              <a href=\"https://github.com/w3ctag/meetings/tree/gh-pages/2019/12-cupertino\" class=\"uri url\">Technical Architecture Group Meeting</a>'\n",
      "b'      </p>'\n",
      "b'          <p class=\"location\">Cupertino, CA, USA</p>'\n",
      "b'       <p class=\"host\">Apple</p>'\n",
      "b'  '\n",
      "b'      </div>'\n",
      "b'    </li>'\n",
      "b'    <li class=\"vevent\">'\n",
      "b'      <div class=\"date\">'\n",
      "b'<span class=\"dtstart\"><span class=\"year\">2020</span><span class=\"mm-dd\">-01-22</span></span>'\n",
      "b'<span class=\"paren\">(</span><span class=\"dd-mmm\">22 JAN</span><span class=\"paren\">)</span>'\n",
      "b'<span class=\"date-separator\"> &#x2013; </span>'\n",
      "b'<span class=\"dtend\"><span class=\"year\">2020</span><span class=\"mm-dd\">-01-24</span></span>'\n",
      "b'<span class=\"paren\">(</span><span class=\"dd-mmm\">24 JAN</span><span class=\"paren\">)</span>'\n",
      "b'</div>'\n",
      "b'      <div class=\"info-wrap\">'\n",
      "b'      <p class=\"summary\">'\n",
      "b'              <a href=\"https://wiki.csswg.org/planning/galicia-2020\" class=\"uri url\">Cascading Style Sheets (CSS) Working Group Meeting</a>'\n",
      "b'      </p>'\n",
      "b'          <p class=\"location\">A Coru&#xF1;a, Galicia, Spain</p>'\n",
      "b'       <p class=\"host\">Igalia</p>'\n",
      "b'  '\n",
      "b'      </div>'\n",
      "b'    </li>'\n",
      "b'    <li class=\"vevent\">'\n",
      "b'      <div class=\"date\">'\n",
      "b'<span class=\"dtstart\"><span class=\"year\">2020</span><span class=\"mm-dd\">-01-29</span></span>'\n",
      "b'<span class=\"paren\">(</span><span class=\"dd-mmm\">29 JAN</span><span class=\"paren\">)</span>'\n",
      "b'<span class=\"date-separator\"> &#x2013; </span>'\n",
      "b'<span class=\"dtend\"><span class=\"year\">2020</span><span class=\"mm-dd\">-01-31</span></span>'\n",
      "b'<span class=\"paren\">(</span><span class=\"dd-mmm\">31 JAN</span><span class=\"paren\">)</span>'\n",
      "b'</div>'\n",
      "b'      <div class=\"info-wrap\">'\n",
      "b'      <p class=\"summary\">'\n",
      "b'              <a href=\"https://www.w3.org/2019/did-wg/Meetings/F2F/2020.01.Amsterdam\" class=\"uri url\">DID Working Group Meeting</a>'\n",
      "b'      </p>'\n",
      "b'          <p class=\"location\">Amsterdam, the Netherlands</p>'\n",
      "b'       <p class=\"host\">Hosted by Microsoft, the Netherlands</p>'\n",
      "b'  '\n",
      "b'      </div>'\n",
      "b'    </li>'\n",
      "b'    <li class=\"vevent\">'\n",
      "b'      <div class=\"date\">'\n",
      "b'<span class=\"dtstart\"><span class=\"year\">2020</span><span class=\"mm-dd\">-03-30</span></span>'\n",
      "b'<span class=\"paren\">(</span><span class=\"dd-mmm\">30 MAR</span><span class=\"paren\">)</span>'\n",
      "b'<span class=\"date-separator\"> &#x2013; </span>'\n",
      "b'<span class=\"dtend\"><span class=\"year\">2020</span><span class=\"mm-dd\">-04-02</span></span>'\n",
      "b'<span class=\"paren\">(</span><span class=\"dd-mmm\"> 2 APR</span><span class=\"paren\">)</span>'\n",
      "b'</div>'\n",
      "b'      <div class=\"info-wrap\">'\n",
      "b'      <p class=\"summary\">'\n",
      "b'              <a href=\"https://github.com/w3c/webpayments/wiki/FTF-Mar2020\" class=\"uri url\">Web Payments Working Group</a>'\n",
      "b'      </p>'\n",
      "b'          <p class=\"location\">Dublin, Ireland</p>'\n",
      "b'       <p class=\"host\">Airbnb</p>'\n",
      "b'  '\n",
      "b'      </div>'\n",
      "b'    </li>'\n",
      "b'    <li class=\"vevent\">'\n",
      "b'      <div class=\"date\">'\n",
      "b'<span class=\"dtstart\"><span class=\"year\">2020</span><span class=\"mm-dd\">-05-17</span></span>'\n",
      "b'<span class=\"paren\">(</span><span class=\"dd-mmm\">17 MAY</span><span class=\"paren\">)</span>'\n",
      "b'<span class=\"date-separator\"> &#x2013; </span>'\n",
      "b'<span class=\"dtend\"><span class=\"year\">2020</span><span class=\"mm-dd\">-05-19</span></span>'\n",
      "b'<span class=\"paren\">(</span><span class=\"dd-mmm\">19 MAY</span><span class=\"paren\">)</span>'\n",
      "b'</div>'\n",
      "b'      <div class=\"info-wrap\">'\n",
      "b'      <p class=\"summary\">'\n",
      "b'              <a href=\"https://lists.w3.org/Archives/Member/w3c-ac-members/2019AprJun/0014.html\" class=\"uri url\">AC Seoul 2020</a>'\n",
      "b'      </p>'\n",
      "b'          <p class=\"location\">Seoul, Korea</p>'\n",
      "b'         '\n",
      "b'      </div>'\n",
      "b'    </li>'\n",
      "b'    <li class=\"vevent\">'\n",
      "b'      <div class=\"date\">'\n",
      "b'<span class=\"dtstart\"><span class=\"year\">2020</span><span class=\"mm-dd\">-10-26</span></span>'\n",
      "b'<span class=\"paren\">(</span><span class=\"dd-mmm\">26 OCT</span><span class=\"paren\">)</span>'\n",
      "b'<span class=\"date-separator\"> &#x2013; </span>'\n",
      "b'<span class=\"dtend\"><span class=\"year\">2020</span><span class=\"mm-dd\">-10-30</span></span>'\n",
      "b'<span class=\"paren\">(</span><span class=\"dd-mmm\">30 OCT</span><span class=\"paren\">)</span>'\n",
      "b'</div>'\n",
      "b'      <div class=\"info-wrap\">'\n",
      "b'      <p class=\"summary\">'\n",
      "b'              <a href=\"https://lists.w3.org/Archives/Member/w3c-ac-members/2019JulSep/0036.html\" class=\"uri url\">TPAC 2020</a>'\n",
      "b'      </p>'\n",
      "b'          <p class=\"location\">Vancouver, Canada</p>'\n",
      "b'         '\n",
      "b'      </div>'\n",
      "b'    </li>'\n",
      "b'  </ul></div>'\n",
      "b'</div>'\n",
      "b'</div>'\n",
      "b'</div>'\n",
      "b'<!-- end events talks --></div>'\n",
      "b'<!-- end main content --></div>'\n",
      "b'<div class=\"unit size1on3 lastUnit\">'\n",
      "b'<h2 class=\"category\"><a href=\"/Consortium/\">About W3C <img src=\"/2008/site/images/header-link.gif\" alt=\"Header link\" width=\"13\" height=\"13\" class=\"header-link\" /></a></h2>'\n",
      "b'<p class=\"about\">The World Wide Web Consortium (W3C) is an'\n",
      "b'international community that develops open <a href=\"/TR/\">standards</a> to ensure the long-term growth of the Web.</p>'\n",
      "b'<h2 class=\"category\"><a href=\"support/\">Donations <img src=\"/2008/site/images/header-link.gif\" alt=\"Header link\" width=\"13\" height=\"13\" class=\"header-link\" /></a></h2>'\n",
      "b'<p class=\"about\">Become a <a href=\"support/\">Friend of W3C</a>:'\n",
      "b'support the <a href=\"Consortium/mission\">W3C mission</a> and free'\n",
      "b'<a href=\"/developers/\">developer tools</a>.</p>'\n",
      "b'<div id=\"w3c_home_recent_blogs\"><h2 class=\"category\">'\n",
      "b'      <a title=\"More Blog Entries&#x2026;\" href=\"/blog/\">W3C Blog <img src=\"/2008/site/images/header-link\" alt=\"Header link\" width=\"13\" height=\"13\" class=\"header-link\" />'\n",
      "b'      </a>'\n",
      "b'   </h2><ul class=\"hentry_list\">'\n",
      "b'      <li class=\"hentry\">'\n",
      "b'         <p class=\"entry-title\">'\n",
      "b'            <a href=\"https://www.w3.org/blog/2019/12/free-online-course-introduction-to-web-accessibility/\" class=\"uri url\" rel=\"bookmark\">Free Online Course &#x201C;Introduction to Web Accessibility&#x201D;</a>'\n",
      "b'         </p>'\n",
      "b'         <p class=\"date\">'\n",
      "b'            <abbr title=\"2019-12-03\" class=\"published\">3 December 2019</abbr> by <span class=\"author vcard\">'\n",
      "b'               <a class=\"fn url\" href=\"https://www.w3.org/People/shadi/\">Shadi Abou-Zahra</a>'\n",
      "b'            </span>'\n",
      "b'         </p>'\n",
      "b'      </li>'\n",
      "b'      <li class=\"hentry\">'\n",
      "b'         <p class=\"entry-title\">'\n",
      "b'            <a href=\"https://www.w3.org/blog/2019/11/status-update-on-web-games-technologies/\" class=\"uri url\" rel=\"bookmark\">Status update on Web Games technologies</a>'\n",
      "b'         </p>'\n",
      "b'         <p class=\"date\">'\n",
      "b'            <abbr title=\"2019-11-26\" class=\"published\">26 November 2019</abbr> by <span class=\"author vcard\">Fran&#xE7;ois Daoust</span>'\n",
      "b'         </p>'\n",
      "b'      </li>'\n",
      "b'      <li class=\"hentry\">'\n",
      "b'         <p class=\"entry-title\">'\n",
      "b'            <a href=\"https://www.w3.org/blog/2019/11/w3c-distributed-tracing-working-group-workshop-in-seattle-november-2019/\" class=\"uri url\" rel=\"bookmark\">W3C Distributed Tracing Working Group Workshop in Seattle, November 2019</a>'\n",
      "b'         </p>'\n",
      "b'         <p class=\"date\">'\n",
      "b'            <abbr title=\"2019-11-16\" class=\"published\">16 November 2019</abbr> by <span class=\"author vcard\">'\n",
      "b'               <a class=\"fn url\" href=\"http://www.w3.org/People/LeHegaret/\">Philippe le Hegaret</a>'\n",
      "b'            </span>'\n",
      "b'         </p>'\n",
      "b'      </li>'\n",
      "b'   </ul></div>'\n",
      "b'<div id=\"w3c_home_new_jobs\">'\n",
      "b'<h2 class=\"category\"><a href=\"/Consortium/Recruitment/\">W3C is'\n",
      "b'hiring <img src=\"/2008/site/images/header-link.gif\" alt=\"Header link\" width=\"13\" height=\"13\" class=\"header-link\" /></a></h2>'\n",
      "b'<ul class=\"show_items\">'\n",
      "b'<li>A <a href=\"https://www.w3.org/Consortium/Recruitment/#web-dev\">Web'\n",
      "b'Developer</a></li>'\n",
      "b'</ul>'\n",
      "b'</div>'\n",
      "b'<div class=\"hpmt\" id=\"w3c_home_member_testimonials\">'\n",
      "b'<h2 class=\"category\"><a title=\"Read all Member testimonials\" href=\"/Consortium/Member/Testimonial/\">W3C Member Testimonial <img src=\"/2008/site/images/header-link\" alt=\"Header link\" width=\"13\" height=\"13\" class=\"header-link\" /></a></h2>'\n",
      "b'<div id=\"w3c_home_member_testimonials_choice\"><p class=\"tPadding0\">'\n",
      "b'         <a rel=\"nofollow\" href=\"http://www.adobe.com/\" class=\"no-border\">'\n",
      "b'            <img class=\"media\" width=\"48\" height=\"60\" alt=\"Adobe logo\" src=\"/Consortium/Member/Testimonial/Logo/2\" />'\n",
      "b'         </a>'\n",
      "b'      </p><h3>'\n",
      "b'         <a rel=\"nofollow\" href=\"http://www.adobe.com/\">Adobe</a>'\n",
      "b'      </h3><p>Adobe revolutionizes how the world engages with ideas and information - anytime, anywhere and through any medium. As a leading provider of best-in-class Web technologies, Adobe actively supports the development of W3C standards promoting global interoperability.</p></div>'\n",
      "b'</div>'\n",
      "b'<div id=\"w3c_home_video\">'\n",
      "b'<h2 class=\"category\"><a href=\"https://www.w3.org/WAI/videos/standards-and-benefits.html\">Web'\n",
      "b'Accessibility and W3C standards (Video) <img src=\"/2008/site/images/header-link.gif\" alt=\"Header link\" width=\"13\" height=\"13\" class=\"header-link\" /></a></h2>'\n",
      "b'<p style=\"text-align: center\"><a href=\"https://www.w3.org/WAI/videos/standards-and-benefits.html\"><img src=\"https://www.w3.org/blog/wp-content/uploads/2017/12/still.jpg\" width=\"233\" alt=\"Thumbnail of Web Accessibility and W3C Standards Video\" /></a></p>'\n",
      "b'<p>Watch our video on Web Accessibility and W3C standards!</p>'\n",
      "b'</div>'\n",
      "b'</div>'\n",
      "b'</div>'\n",
      "b'<!-- end main col --></div>'\n",
      "b'</div>'\n",
      "b'</div>'\n",
      "b'<!-- Generated from data/footer.php, Array{footer-block.tpl} -->'\n",
      "b'<div id=\"w3c_footer\">'\n",
      "b'<div id=\"w3c_footer-inner\">'\n",
      "b'<h2 class=\"offscreen\">Footer Navigation</h2>'\n",
      "b'<div class=\"w3c_footer-nav\">'\n",
      "b'<h3>Navigation</h3>'\n",
      "b'<ul class=\"footer_top_nav\">'\n",
      "b'<li><a href=\"/\">Home</a></li>'\n",
      "b'<li><a href=\"/standards/\">Standards</a></li>'\n",
      "b'<li><a href=\"/participate/\">Participate</a></li>'\n",
      "b'<li><a href=\"/Consortium/membership\">Membership</a></li>'\n",
      "b'<li class=\"last-item\"><a href=\"/Consortium/\">About W3C</a></li>'\n",
      "b'</ul>'\n",
      "b'</div>'\n",
      "b'<div class=\"w3c_footer-nav\">'\n",
      "b'<h3>Contact W3C</h3>'\n",
      "b'<ul class=\"footer_bottom_nav\">'\n",
      "b'<li><a href=\"/Consortium/contact\">Contact</a></li>'\n",
      "b'<li><a accesskey=\"0\" href=\"/Help/\">Help and FAQ</a></li>'\n",
      "b'<li><a href=\"/Consortium/sponsor/\">Sponsor / Donate</a></li>'\n",
      "b'<li><a href=\"/Consortium/siteindex\">Site Map</a></li>'\n",
      "b'<li>'\n",
      "b'<address id=\"w3c_signature\"><a href=\"http://lists.w3.org/Archives/Public/site-comments/\">Feedback</a></address>'\n",
      "b'</li>'\n",
      "b'</ul>'\n",
      "b'</div>'\n",
      "b'<div class=\"w3c_footer-nav\">'\n",
      "b'<h3>W3C Updates</h3>'\n",
      "b'<ul class=\"footer_follow_nav\">'\n",
      "b'<li><a href=\"http://twitter.com/W3C\" title=\"Follow W3C on Twitter\"><img src=\"/2008/site/images/Twitter_bird_logo_2012.svg\" alt=\"Twitter\" class=\"social-icon\" height=\"40\" /></a></li>'\n",
      "b'</ul>'\n",
      "b'</div>'\n",
      "b'<!-- #footer address / page signature -->'\n",
      "b'<p class=\"copyright\">Copyright &#xA9; 2019 W3C <sup>&#xAE;</sup> (<a href=\"http://www.csail.mit.edu/\"><abbr title=\"Massachusetts Institute of Technology\">MIT</abbr></a>, <a href=\"http://www.ercim.eu/\"><abbr title=\"European Research Consortium for Informatics and Mathematics\">ERCIM</abbr></a>,'\n",
      "b'<a href=\"http://www.keio.ac.jp/\">Keio</a>, <a href=\"http://ev.buaa.edu.cn/\">Beihang</a>) <a href=\"/Consortium/Legal/ipr-notice\">Usage policies apply</a>.</p>'\n",
      "b'</div>'\n",
      "b'</div>'\n",
      "b'<!-- /end #footer -->'\n",
      "b'<!-- Generated from data/scripts.php, ../../smarty/{scripts.tpl} -->'\n",
      "b'<div id=\"w3c_scripts\">'\n",
      "b'<script type=\"text/javascript\" src=\"/2008/site/js/main\">'\n",
      "b'</script></div>'\n",
      "b'</body>'\n",
      "b'</html>'\n"
     ]
    }
   ],
   "source": [
    "for x in body.iter_lines():\n",
    "    print(x)"
   ]
  },
  {
   "cell_type": "code",
   "execution_count": 37,
   "metadata": {
    "ExecuteTime": {
     "end_time": "2021-02-10T15:03:18.417067Z",
     "start_time": "2021-02-10T15:03:18.415060Z"
    }
   },
   "outputs": [],
   "source": [
    "for x in body.iter_lines():\n",
    "    print(x)"
   ]
  },
  {
   "cell_type": "code",
   "execution_count": null,
   "metadata": {},
   "outputs": [],
   "source": []
  },
  {
   "cell_type": "code",
   "execution_count": 38,
   "metadata": {
    "ExecuteTime": {
     "end_time": "2021-02-10T15:03:27.958952Z",
     "start_time": "2021-02-10T15:03:27.934590Z"
    }
   },
   "outputs": [],
   "source": [
    "??client.put_object"
   ]
  },
  {
   "cell_type": "code",
   "execution_count": null,
   "metadata": {},
   "outputs": [],
   "source": []
  },
  {
   "cell_type": "code",
   "execution_count": null,
   "metadata": {},
   "outputs": [],
   "source": []
  },
  {
   "cell_type": "code",
   "execution_count": null,
   "metadata": {},
   "outputs": [],
   "source": []
  },
  {
   "cell_type": "code",
   "execution_count": null,
   "metadata": {},
   "outputs": [],
   "source": []
  },
  {
   "cell_type": "code",
   "execution_count": 40,
   "metadata": {
    "ExecuteTime": {
     "end_time": "2021-02-10T15:04:39.772159Z",
     "start_time": "2021-02-10T15:04:39.760090Z"
    },
    "scrolled": true
   },
   "outputs": [
    {
     "ename": "TypeError",
     "evalue": "Unicode-objects must be encoded before hashing",
     "output_type": "error",
     "traceback": [
      "\u001b[0;31m---------------------------------------------------------------------------\u001b[0m",
      "\u001b[0;31mTypeError\u001b[0m                                 Traceback (most recent call last)",
      "\u001b[0;32m<ipython-input-40-609e7a036755>\u001b[0m in \u001b[0;36m<module>\u001b[0;34m\u001b[0m\n\u001b[1;32m      4\u001b[0m \u001b[0;34m\u001b[0m\u001b[0m\n\u001b[1;32m      5\u001b[0m \u001b[0;32mwith\u001b[0m \u001b[0mopen\u001b[0m\u001b[0;34m(\u001b[0m\u001b[0mfile\u001b[0m\u001b[0;34m)\u001b[0m \u001b[0;32mas\u001b[0m \u001b[0mfp\u001b[0m\u001b[0;34m:\u001b[0m  \u001b[0;31m# In Python 3 files open in text mod eby default\u001b[0m\u001b[0;34m\u001b[0m\u001b[0;34m\u001b[0m\u001b[0m\n\u001b[0;32m----> 6\u001b[0;31m     client.put_object(\n\u001b[0m\u001b[1;32m      7\u001b[0m         \u001b[0mBucket\u001b[0m\u001b[0;34m=\u001b[0m\u001b[0;34m\"taragolis-example-bucket\"\u001b[0m\u001b[0;34m,\u001b[0m\u001b[0;34m\u001b[0m\u001b[0;34m\u001b[0m\u001b[0m\n\u001b[1;32m      8\u001b[0m         \u001b[0mKey\u001b[0m\u001b[0;34m=\u001b[0m\u001b[0;34m\"awesome/file/not-uploaded/to/s3/users.csv\"\u001b[0m\u001b[0;34m,\u001b[0m\u001b[0;34m\u001b[0m\u001b[0;34m\u001b[0m\u001b[0m\n",
      "\u001b[0;32m~/.local/lib/python3.8/site-packages/botocore/client.py\u001b[0m in \u001b[0;36m_api_call\u001b[0;34m(self, *args, **kwargs)\u001b[0m\n\u001b[1;32m    355\u001b[0m                     \"%s() only accepts keyword arguments.\" % py_operation_name)\n\u001b[1;32m    356\u001b[0m             \u001b[0;31m# The \"self\" in this scope is referring to the BaseClient.\u001b[0m\u001b[0;34m\u001b[0m\u001b[0;34m\u001b[0m\u001b[0;34m\u001b[0m\u001b[0m\n\u001b[0;32m--> 357\u001b[0;31m             \u001b[0;32mreturn\u001b[0m \u001b[0mself\u001b[0m\u001b[0;34m.\u001b[0m\u001b[0m_make_api_call\u001b[0m\u001b[0;34m(\u001b[0m\u001b[0moperation_name\u001b[0m\u001b[0;34m,\u001b[0m \u001b[0mkwargs\u001b[0m\u001b[0;34m)\u001b[0m\u001b[0;34m\u001b[0m\u001b[0;34m\u001b[0m\u001b[0m\n\u001b[0m\u001b[1;32m    358\u001b[0m \u001b[0;34m\u001b[0m\u001b[0m\n\u001b[1;32m    359\u001b[0m         \u001b[0m_api_call\u001b[0m\u001b[0;34m.\u001b[0m\u001b[0m__name__\u001b[0m \u001b[0;34m=\u001b[0m \u001b[0mstr\u001b[0m\u001b[0;34m(\u001b[0m\u001b[0mpy_operation_name\u001b[0m\u001b[0;34m)\u001b[0m\u001b[0;34m\u001b[0m\u001b[0;34m\u001b[0m\u001b[0m\n",
      "\u001b[0;32m~/.local/lib/python3.8/site-packages/botocore/client.py\u001b[0m in \u001b[0;36m_make_api_call\u001b[0;34m(self, operation_name, api_params)\u001b[0m\n\u001b[1;32m    650\u001b[0m \u001b[0;34m\u001b[0m\u001b[0m\n\u001b[1;32m    651\u001b[0m         \u001b[0mservice_id\u001b[0m \u001b[0;34m=\u001b[0m \u001b[0mself\u001b[0m\u001b[0;34m.\u001b[0m\u001b[0m_service_model\u001b[0m\u001b[0;34m.\u001b[0m\u001b[0mservice_id\u001b[0m\u001b[0;34m.\u001b[0m\u001b[0mhyphenize\u001b[0m\u001b[0;34m(\u001b[0m\u001b[0;34m)\u001b[0m\u001b[0;34m\u001b[0m\u001b[0;34m\u001b[0m\u001b[0m\n\u001b[0;32m--> 652\u001b[0;31m         handler, event_response = self.meta.events.emit_until_response(\n\u001b[0m\u001b[1;32m    653\u001b[0m             'before-call.{service_id}.{operation_name}'.format(\n\u001b[1;32m    654\u001b[0m                 \u001b[0mservice_id\u001b[0m\u001b[0;34m=\u001b[0m\u001b[0mservice_id\u001b[0m\u001b[0;34m,\u001b[0m\u001b[0;34m\u001b[0m\u001b[0;34m\u001b[0m\u001b[0m\n",
      "\u001b[0;32m~/.local/lib/python3.8/site-packages/botocore/hooks.py\u001b[0m in \u001b[0;36memit_until_response\u001b[0;34m(self, event_name, **kwargs)\u001b[0m\n\u001b[1;32m    358\u001b[0m     \u001b[0;32mdef\u001b[0m \u001b[0memit_until_response\u001b[0m\u001b[0;34m(\u001b[0m\u001b[0mself\u001b[0m\u001b[0;34m,\u001b[0m \u001b[0mevent_name\u001b[0m\u001b[0;34m,\u001b[0m \u001b[0;34m**\u001b[0m\u001b[0mkwargs\u001b[0m\u001b[0;34m)\u001b[0m\u001b[0;34m:\u001b[0m\u001b[0;34m\u001b[0m\u001b[0;34m\u001b[0m\u001b[0m\n\u001b[1;32m    359\u001b[0m         \u001b[0maliased_event_name\u001b[0m \u001b[0;34m=\u001b[0m \u001b[0mself\u001b[0m\u001b[0;34m.\u001b[0m\u001b[0m_alias_event_name\u001b[0m\u001b[0;34m(\u001b[0m\u001b[0mevent_name\u001b[0m\u001b[0;34m)\u001b[0m\u001b[0;34m\u001b[0m\u001b[0;34m\u001b[0m\u001b[0m\n\u001b[0;32m--> 360\u001b[0;31m         \u001b[0;32mreturn\u001b[0m \u001b[0mself\u001b[0m\u001b[0;34m.\u001b[0m\u001b[0m_emitter\u001b[0m\u001b[0;34m.\u001b[0m\u001b[0memit_until_response\u001b[0m\u001b[0;34m(\u001b[0m\u001b[0maliased_event_name\u001b[0m\u001b[0;34m,\u001b[0m \u001b[0;34m**\u001b[0m\u001b[0mkwargs\u001b[0m\u001b[0;34m)\u001b[0m\u001b[0;34m\u001b[0m\u001b[0;34m\u001b[0m\u001b[0m\n\u001b[0m\u001b[1;32m    361\u001b[0m \u001b[0;34m\u001b[0m\u001b[0m\n\u001b[1;32m    362\u001b[0m     def register(self, event_name, handler, unique_id=None,\n",
      "\u001b[0;32m~/.local/lib/python3.8/site-packages/botocore/hooks.py\u001b[0m in \u001b[0;36memit_until_response\u001b[0;34m(self, event_name, **kwargs)\u001b[0m\n\u001b[1;32m    241\u001b[0m                  \u001b[0;32mis\u001b[0m \u001b[0;32mnot\u001b[0m\u001b[0;31m \u001b[0m\u001b[0;31m`\u001b[0m\u001b[0;31m`\u001b[0m\u001b[0;32mNone\u001b[0m\u001b[0;31m`\u001b[0m\u001b[0;31m`\u001b[0m\u001b[0;34m,\u001b[0m \u001b[0motherwise\u001b[0m \u001b[0;34m(\u001b[0m\u001b[0;31m`\u001b[0m\u001b[0;31m`\u001b[0m\u001b[0;32mNone\u001b[0m\u001b[0;31m`\u001b[0m\u001b[0;31m`\u001b[0m\u001b[0;34m,\u001b[0m\u001b[0;31m \u001b[0m\u001b[0;31m`\u001b[0m\u001b[0;31m`\u001b[0m\u001b[0;32mNone\u001b[0m\u001b[0;31m`\u001b[0m\u001b[0;31m`\u001b[0m\u001b[0;34m)\u001b[0m\u001b[0;34m.\u001b[0m\u001b[0;34m\u001b[0m\u001b[0;34m\u001b[0m\u001b[0m\n\u001b[1;32m    242\u001b[0m         \"\"\"\n\u001b[0;32m--> 243\u001b[0;31m         \u001b[0mresponses\u001b[0m \u001b[0;34m=\u001b[0m \u001b[0mself\u001b[0m\u001b[0;34m.\u001b[0m\u001b[0m_emit\u001b[0m\u001b[0;34m(\u001b[0m\u001b[0mevent_name\u001b[0m\u001b[0;34m,\u001b[0m \u001b[0mkwargs\u001b[0m\u001b[0;34m,\u001b[0m \u001b[0mstop_on_response\u001b[0m\u001b[0;34m=\u001b[0m\u001b[0;32mTrue\u001b[0m\u001b[0;34m)\u001b[0m\u001b[0;34m\u001b[0m\u001b[0;34m\u001b[0m\u001b[0m\n\u001b[0m\u001b[1;32m    244\u001b[0m         \u001b[0;32mif\u001b[0m \u001b[0mresponses\u001b[0m\u001b[0;34m:\u001b[0m\u001b[0;34m\u001b[0m\u001b[0;34m\u001b[0m\u001b[0m\n\u001b[1;32m    245\u001b[0m             \u001b[0;32mreturn\u001b[0m \u001b[0mresponses\u001b[0m\u001b[0;34m[\u001b[0m\u001b[0;34m-\u001b[0m\u001b[0;36m1\u001b[0m\u001b[0;34m]\u001b[0m\u001b[0;34m\u001b[0m\u001b[0;34m\u001b[0m\u001b[0m\n",
      "\u001b[0;32m~/.local/lib/python3.8/site-packages/botocore/hooks.py\u001b[0m in \u001b[0;36m_emit\u001b[0;34m(self, event_name, kwargs, stop_on_response)\u001b[0m\n\u001b[1;32m    209\u001b[0m         \u001b[0;32mfor\u001b[0m \u001b[0mhandler\u001b[0m \u001b[0;32min\u001b[0m \u001b[0mhandlers_to_call\u001b[0m\u001b[0;34m:\u001b[0m\u001b[0;34m\u001b[0m\u001b[0;34m\u001b[0m\u001b[0m\n\u001b[1;32m    210\u001b[0m             \u001b[0mlogger\u001b[0m\u001b[0;34m.\u001b[0m\u001b[0mdebug\u001b[0m\u001b[0;34m(\u001b[0m\u001b[0;34m'Event %s: calling handler %s'\u001b[0m\u001b[0;34m,\u001b[0m \u001b[0mevent_name\u001b[0m\u001b[0;34m,\u001b[0m \u001b[0mhandler\u001b[0m\u001b[0;34m)\u001b[0m\u001b[0;34m\u001b[0m\u001b[0;34m\u001b[0m\u001b[0m\n\u001b[0;32m--> 211\u001b[0;31m             \u001b[0mresponse\u001b[0m \u001b[0;34m=\u001b[0m \u001b[0mhandler\u001b[0m\u001b[0;34m(\u001b[0m\u001b[0;34m**\u001b[0m\u001b[0mkwargs\u001b[0m\u001b[0;34m)\u001b[0m\u001b[0;34m\u001b[0m\u001b[0;34m\u001b[0m\u001b[0m\n\u001b[0m\u001b[1;32m    212\u001b[0m             \u001b[0mresponses\u001b[0m\u001b[0;34m.\u001b[0m\u001b[0mappend\u001b[0m\u001b[0;34m(\u001b[0m\u001b[0;34m(\u001b[0m\u001b[0mhandler\u001b[0m\u001b[0;34m,\u001b[0m \u001b[0mresponse\u001b[0m\u001b[0;34m)\u001b[0m\u001b[0;34m)\u001b[0m\u001b[0;34m\u001b[0m\u001b[0;34m\u001b[0m\u001b[0m\n\u001b[1;32m    213\u001b[0m             \u001b[0;32mif\u001b[0m \u001b[0mstop_on_response\u001b[0m \u001b[0;32mand\u001b[0m \u001b[0mresponse\u001b[0m \u001b[0;32mis\u001b[0m \u001b[0;32mnot\u001b[0m \u001b[0;32mNone\u001b[0m\u001b[0;34m:\u001b[0m\u001b[0;34m\u001b[0m\u001b[0;34m\u001b[0m\u001b[0m\n",
      "\u001b[0;32m~/.local/lib/python3.8/site-packages/botocore/utils.py\u001b[0m in \u001b[0;36mconditionally_calculate_md5\u001b[0;34m(params, **kwargs)\u001b[0m\n\u001b[1;32m   2222\u001b[0m     \u001b[0mbody\u001b[0m \u001b[0;34m=\u001b[0m \u001b[0mparams\u001b[0m\u001b[0;34m[\u001b[0m\u001b[0;34m'body'\u001b[0m\u001b[0;34m]\u001b[0m\u001b[0;34m\u001b[0m\u001b[0;34m\u001b[0m\u001b[0m\n\u001b[1;32m   2223\u001b[0m     \u001b[0;32mif\u001b[0m \u001b[0mMD5_AVAILABLE\u001b[0m \u001b[0;32mand\u001b[0m \u001b[0mbody\u001b[0m \u001b[0;32mis\u001b[0m \u001b[0;32mnot\u001b[0m \u001b[0;32mNone\u001b[0m \u001b[0;32mand\u001b[0m \u001b[0;34m'Content-MD5'\u001b[0m \u001b[0;32mnot\u001b[0m \u001b[0;32min\u001b[0m \u001b[0mheaders\u001b[0m\u001b[0;34m:\u001b[0m\u001b[0;34m\u001b[0m\u001b[0;34m\u001b[0m\u001b[0m\n\u001b[0;32m-> 2224\u001b[0;31m         \u001b[0mmd5_digest\u001b[0m \u001b[0;34m=\u001b[0m \u001b[0mcalculate_md5\u001b[0m\u001b[0;34m(\u001b[0m\u001b[0mbody\u001b[0m\u001b[0;34m,\u001b[0m \u001b[0;34m**\u001b[0m\u001b[0mkwargs\u001b[0m\u001b[0;34m)\u001b[0m\u001b[0;34m\u001b[0m\u001b[0;34m\u001b[0m\u001b[0m\n\u001b[0m\u001b[1;32m   2225\u001b[0m         \u001b[0mparams\u001b[0m\u001b[0;34m[\u001b[0m\u001b[0;34m'headers'\u001b[0m\u001b[0;34m]\u001b[0m\u001b[0;34m[\u001b[0m\u001b[0;34m'Content-MD5'\u001b[0m\u001b[0;34m]\u001b[0m \u001b[0;34m=\u001b[0m \u001b[0mmd5_digest\u001b[0m\u001b[0;34m\u001b[0m\u001b[0;34m\u001b[0m\u001b[0m\n\u001b[1;32m   2226\u001b[0m \u001b[0;34m\u001b[0m\u001b[0m\n",
      "\u001b[0;32m~/.local/lib/python3.8/site-packages/botocore/utils.py\u001b[0m in \u001b[0;36mcalculate_md5\u001b[0;34m(body, **kwargs)\u001b[0m\n\u001b[1;32m   2199\u001b[0m         \u001b[0mbinary_md5\u001b[0m \u001b[0;34m=\u001b[0m \u001b[0m_calculate_md5_from_bytes\u001b[0m\u001b[0;34m(\u001b[0m\u001b[0mbody\u001b[0m\u001b[0;34m)\u001b[0m\u001b[0;34m\u001b[0m\u001b[0;34m\u001b[0m\u001b[0m\n\u001b[1;32m   2200\u001b[0m     \u001b[0;32melse\u001b[0m\u001b[0;34m:\u001b[0m\u001b[0;34m\u001b[0m\u001b[0;34m\u001b[0m\u001b[0m\n\u001b[0;32m-> 2201\u001b[0;31m         \u001b[0mbinary_md5\u001b[0m \u001b[0;34m=\u001b[0m \u001b[0m_calculate_md5_from_file\u001b[0m\u001b[0;34m(\u001b[0m\u001b[0mbody\u001b[0m\u001b[0;34m)\u001b[0m\u001b[0;34m\u001b[0m\u001b[0;34m\u001b[0m\u001b[0m\n\u001b[0m\u001b[1;32m   2202\u001b[0m     \u001b[0;32mreturn\u001b[0m \u001b[0mbase64\u001b[0m\u001b[0;34m.\u001b[0m\u001b[0mb64encode\u001b[0m\u001b[0;34m(\u001b[0m\u001b[0mbinary_md5\u001b[0m\u001b[0;34m)\u001b[0m\u001b[0;34m.\u001b[0m\u001b[0mdecode\u001b[0m\u001b[0;34m(\u001b[0m\u001b[0;34m'ascii'\u001b[0m\u001b[0;34m)\u001b[0m\u001b[0;34m\u001b[0m\u001b[0;34m\u001b[0m\u001b[0m\n\u001b[1;32m   2203\u001b[0m \u001b[0;34m\u001b[0m\u001b[0m\n",
      "\u001b[0;32m~/.local/lib/python3.8/site-packages/botocore/utils.py\u001b[0m in \u001b[0;36m_calculate_md5_from_file\u001b[0;34m(fileobj)\u001b[0m\n\u001b[1;32m   2212\u001b[0m     \u001b[0mmd5\u001b[0m \u001b[0;34m=\u001b[0m \u001b[0mget_md5\u001b[0m\u001b[0;34m(\u001b[0m\u001b[0;34m)\u001b[0m\u001b[0;34m\u001b[0m\u001b[0;34m\u001b[0m\u001b[0m\n\u001b[1;32m   2213\u001b[0m     \u001b[0;32mfor\u001b[0m \u001b[0mchunk\u001b[0m \u001b[0;32min\u001b[0m \u001b[0miter\u001b[0m\u001b[0;34m(\u001b[0m\u001b[0;32mlambda\u001b[0m\u001b[0;34m:\u001b[0m \u001b[0mfileobj\u001b[0m\u001b[0;34m.\u001b[0m\u001b[0mread\u001b[0m\u001b[0;34m(\u001b[0m\u001b[0;36m1024\u001b[0m \u001b[0;34m*\u001b[0m \u001b[0;36m1024\u001b[0m\u001b[0;34m)\u001b[0m\u001b[0;34m,\u001b[0m \u001b[0;34mb''\u001b[0m\u001b[0;34m)\u001b[0m\u001b[0;34m:\u001b[0m\u001b[0;34m\u001b[0m\u001b[0;34m\u001b[0m\u001b[0m\n\u001b[0;32m-> 2214\u001b[0;31m         \u001b[0mmd5\u001b[0m\u001b[0;34m.\u001b[0m\u001b[0mupdate\u001b[0m\u001b[0;34m(\u001b[0m\u001b[0mchunk\u001b[0m\u001b[0;34m)\u001b[0m\u001b[0;34m\u001b[0m\u001b[0;34m\u001b[0m\u001b[0m\n\u001b[0m\u001b[1;32m   2215\u001b[0m     \u001b[0mfileobj\u001b[0m\u001b[0;34m.\u001b[0m\u001b[0mseek\u001b[0m\u001b[0;34m(\u001b[0m\u001b[0mstart_position\u001b[0m\u001b[0;34m)\u001b[0m\u001b[0;34m\u001b[0m\u001b[0;34m\u001b[0m\u001b[0m\n\u001b[1;32m   2216\u001b[0m     \u001b[0;32mreturn\u001b[0m \u001b[0mmd5\u001b[0m\u001b[0;34m.\u001b[0m\u001b[0mdigest\u001b[0m\u001b[0;34m(\u001b[0m\u001b[0;34m)\u001b[0m\u001b[0;34m\u001b[0m\u001b[0;34m\u001b[0m\u001b[0m\n",
      "\u001b[0;31mTypeError\u001b[0m: Unicode-objects must be encoded before hashing"
     ]
    }
   ],
   "source": [
    "import os\n",
    "\n",
    "file = os.path.expanduser(\"~/Downloads/users.csv\")\n",
    "\n",
    "with open(file) as fp:  # In Python 3 files open in text mode by default\n",
    "    client.put_object(\n",
    "        Bucket=\"taragolis-example-bucket\",\n",
    "        Key=\"awesome/file/not-uploaded/to/s3/users.csv\",\n",
    "        Body=fp\n",
    "    )"
   ]
  },
  {
   "cell_type": "code",
   "execution_count": null,
   "metadata": {},
   "outputs": [],
   "source": []
  },
  {
   "cell_type": "code",
   "execution_count": null,
   "metadata": {},
   "outputs": [],
   "source": []
  },
  {
   "cell_type": "code",
   "execution_count": null,
   "metadata": {},
   "outputs": [],
   "source": []
  },
  {
   "cell_type": "code",
   "execution_count": 41,
   "metadata": {
    "ExecuteTime": {
     "end_time": "2021-02-10T15:05:00.223066Z",
     "start_time": "2021-02-10T15:04:49.279222Z"
    }
   },
   "outputs": [],
   "source": [
    "import os\n",
    "\n",
    "file = os.path.expanduser(\"~/Downloads/users.csv\")\n",
    "\n",
    "with open(file, \"rb\") as fp:  # \n",
    "    client.put_object(\n",
    "        Bucket=\"taragolis-example-bucket\",\n",
    "        Key=\"awesome/file/uploaded/to/s3/users.csv\",\n",
    "        Body=fp\n",
    "    )"
   ]
  },
  {
   "cell_type": "code",
   "execution_count": null,
   "metadata": {},
   "outputs": [],
   "source": []
  },
  {
   "cell_type": "code",
   "execution_count": null,
   "metadata": {},
   "outputs": [],
   "source": []
  },
  {
   "cell_type": "code",
   "execution_count": 42,
   "metadata": {
    "ExecuteTime": {
     "end_time": "2021-02-10T15:05:28.934595Z",
     "start_time": "2021-02-10T15:05:28.670461Z"
    }
   },
   "outputs": [
    {
     "data": {
      "text/plain": [
       "{'ResponseMetadata': {'RequestId': '461C5BFB30B16117',\n",
       "  'HostId': 'ZFXYvkzIZqAq700OswbhJ8vNbvhYYU5b5cQ62QMddRIwRt/Ezzll/YN07idTRQmKivb1NVEhJjg=',\n",
       "  'HTTPStatusCode': 200,\n",
       "  'HTTPHeaders': {'x-amz-id-2': 'ZFXYvkzIZqAq700OswbhJ8vNbvhYYU5b5cQ62QMddRIwRt/Ezzll/YN07idTRQmKivb1NVEhJjg=',\n",
       "   'x-amz-request-id': '461C5BFB30B16117',\n",
       "   'date': 'Wed, 10 Feb 2021 15:05:29 GMT',\n",
       "   'x-amz-version-id': 'q3IZXTof3KuNa6MKMjStoAHtRchzjdbo',\n",
       "   'etag': '\"0b52b68f8eaa0150a73e15939ff3c308\"',\n",
       "   'content-length': '0',\n",
       "   'server': 'AmazonS3'},\n",
       "  'RetryAttempts': 0},\n",
       " 'ETag': '\"0b52b68f8eaa0150a73e15939ff3c308\"',\n",
       " 'VersionId': 'q3IZXTof3KuNa6MKMjStoAHtRchzjdbo'}"
      ]
     },
     "execution_count": 42,
     "metadata": {},
     "output_type": "execute_result"
    }
   ],
   "source": [
    "import os\n",
    "\n",
    "\n",
    "client.put_object(\n",
    "    Bucket=\"taragolis-example-bucket\",\n",
    "    Key=\"awesome/file/uploaded/to/s3/xxx.txt\",\n",
    "    Body=b\"AWESOME!!!!\"\n",
    ")"
   ]
  }
 ],
 "metadata": {
  "kernelspec": {
   "display_name": "Python 3",
   "language": "python",
   "name": "python3"
  },
  "language_info": {
   "codemirror_mode": {
    "name": "ipython",
    "version": 3
   },
   "file_extension": ".py",
   "mimetype": "text/x-python",
   "name": "python",
   "nbconvert_exporter": "python",
   "pygments_lexer": "ipython3",
   "version": "3.8.5"
  },
  "toc": {
   "base_numbering": 1,
   "nav_menu": {},
   "number_sections": true,
   "sideBar": true,
   "skip_h1_title": false,
   "title_cell": "Table of Contents",
   "title_sidebar": "Contents",
   "toc_cell": false,
   "toc_position": {},
   "toc_section_display": true,
   "toc_window_display": false
  },
  "varInspector": {
   "cols": {
    "lenName": 16,
    "lenType": 16,
    "lenVar": 40
   },
   "kernels_config": {
    "python": {
     "delete_cmd_postfix": "",
     "delete_cmd_prefix": "del ",
     "library": "var_list.py",
     "varRefreshCmd": "print(var_dic_list())"
    },
    "r": {
     "delete_cmd_postfix": ") ",
     "delete_cmd_prefix": "rm(",
     "library": "var_list.r",
     "varRefreshCmd": "cat(var_dic_list()) "
    }
   },
   "types_to_exclude": [
    "module",
    "function",
    "builtin_function_or_method",
    "instance",
    "_Feature"
   ],
   "window_display": false
  }
 },
 "nbformat": 4,
 "nbformat_minor": 4
}

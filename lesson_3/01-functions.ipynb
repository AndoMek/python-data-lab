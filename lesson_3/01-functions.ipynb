{
 "cells": [
  {
   "cell_type": "code",
   "execution_count": 1,
   "metadata": {},
   "outputs": [],
   "source": [
    "import inspect"
   ]
  },
  {
   "cell_type": "markdown",
   "metadata": {},
   "source": [
    "# Functions\n",
    "\n",
    "https://docs.python.org/3/tutorial/controlflow.html#defining-functions\n"
   ]
  },
  {
   "cell_type": "markdown",
   "metadata": {},
   "source": [
    "## Function Definition"
   ]
  },
  {
   "cell_type": "code",
   "execution_count": 2,
   "metadata": {},
   "outputs": [],
   "source": [
    "def fnc1(a, b, c=None, d=1):\n",
    "    print(f\"{a = }, {b = }, {c = }, {d = }\")"
   ]
  },
  {
   "cell_type": "code",
   "execution_count": 3,
   "metadata": {},
   "outputs": [
    {
     "data": {
      "text/plain": [
       "FullArgSpec(args=['a', 'b', 'c', 'd'], varargs=None, varkw=None, defaults=(None, 1), kwonlyargs=[], kwonlydefaults=None, annotations={})"
      ]
     },
     "execution_count": 3,
     "metadata": {},
     "output_type": "execute_result"
    }
   ],
   "source": [
    "inspect.getfullargspec(fnc1)"
   ]
  },
  {
   "cell_type": "code",
   "execution_count": 4,
   "metadata": {},
   "outputs": [
    {
     "name": "stdout",
     "output_type": "stream",
     "text": [
      "a = 1, b = 2, c = 3, d = 4\n"
     ]
    }
   ],
   "source": [
    "fnc1(1, 2, 3, 4)"
   ]
  },
  {
   "cell_type": "code",
   "execution_count": 5,
   "metadata": {},
   "outputs": [
    {
     "name": "stdout",
     "output_type": "stream",
     "text": [
      "a = 1, b = 2, c = None, d = 1\n"
     ]
    }
   ],
   "source": [
    "fnc1(1, 2)"
   ]
  },
  {
   "cell_type": "code",
   "execution_count": 6,
   "metadata": {},
   "outputs": [
    {
     "name": "stdout",
     "output_type": "stream",
     "text": [
      "a = 1, b = 2, c = 3, d = 4\n"
     ]
    }
   ],
   "source": [
    "fnc1(1, 2, d=4, c=3)"
   ]
  },
  {
   "cell_type": "code",
   "execution_count": 7,
   "metadata": {},
   "outputs": [
    {
     "name": "stdout",
     "output_type": "stream",
     "text": [
      "a = 1, b = 2, c = 3, d = 4\n"
     ]
    }
   ],
   "source": [
    "fnc1(b=2, a=1, d=4, c=3)"
   ]
  },
  {
   "cell_type": "code",
   "execution_count": 8,
   "metadata": {},
   "outputs": [
    {
     "ename": "SyntaxError",
     "evalue": "non-default argument follows default argument (<ipython-input-8-604ab0339daf>, line 1)",
     "output_type": "error",
     "traceback": [
      "\u001b[0;36m  File \u001b[0;32m\"<ipython-input-8-604ab0339daf>\"\u001b[0;36m, line \u001b[0;32m1\u001b[0m\n\u001b[0;31m    def fnc2(a=None, b, c=None, d=1):  # Raise\u001b[0m\n\u001b[0m             ^\u001b[0m\n\u001b[0;31mSyntaxError\u001b[0m\u001b[0;31m:\u001b[0m non-default argument follows default argument\n"
     ]
    }
   ],
   "source": [
    "def fnc2(a=None, b, c=None, d=1):  # Raise\n",
    "    print(f\"{a = }, {b = }, {c = }, {d = }\")"
   ]
  },
  {
   "cell_type": "code",
   "execution_count": 12,
   "metadata": {},
   "outputs": [
    {
     "data": {
      "text/plain": [
       "FullArgSpec(args=['a'], varargs='arg', varkw='kwarg', defaults=None, kwonlyargs=[], kwonlydefaults=None, annotations={})"
      ]
     },
     "execution_count": 12,
     "metadata": {},
     "output_type": "execute_result"
    }
   ],
   "source": [
    "def fnc3(a, *arg, **kwarg):\n",
    "    print(f\"{a = }\")\n",
    "    print(f\"{arg}\")\n",
    "    print(f\"{kwarg}\")\n",
    "    \n",
    "inspect.getfullargspec(fnc3)"
   ]
  },
  {
   "cell_type": "code",
   "execution_count": 13,
   "metadata": {},
   "outputs": [
    {
     "name": "stdout",
     "output_type": "stream",
     "text": [
      "a = 1\n",
      "(2, 3, 4, 5, 6, 7)\n",
      "{'b': 1, 'c': 2, 'd': 3}\n"
     ]
    }
   ],
   "source": [
    "fnc3(1, 2, 3, 4, 5, 6, 7, b=1, c=2, d=3)"
   ]
  },
  {
   "cell_type": "code",
   "execution_count": 14,
   "metadata": {},
   "outputs": [
    {
     "name": "stdout",
     "output_type": "stream",
     "text": [
      "Help on class zip in module builtins:\n",
      "\n",
      "class zip(object)\n",
      " |  zip(*iterables) --> A zip object yielding tuples until an input is exhausted.\n",
      " |  \n",
      " |     >>> list(zip('abcdefg', range(3), range(4)))\n",
      " |     [('a', 0, 0), ('b', 1, 1), ('c', 2, 2)]\n",
      " |  \n",
      " |  The zip object yields n-length tuples, where n is the number of iterables\n",
      " |  passed as positional arguments to zip().  The i-th element in every tuple\n",
      " |  comes from the i-th iterable argument to zip().  This continues until the\n",
      " |  shortest argument is exhausted.\n",
      " |  \n",
      " |  Methods defined here:\n",
      " |  \n",
      " |  __getattribute__(self, name, /)\n",
      " |      Return getattr(self, name).\n",
      " |  \n",
      " |  __iter__(self, /)\n",
      " |      Implement iter(self).\n",
      " |  \n",
      " |  __next__(self, /)\n",
      " |      Implement next(self).\n",
      " |  \n",
      " |  __reduce__(...)\n",
      " |      Return state information for pickling.\n",
      " |  \n",
      " |  ----------------------------------------------------------------------\n",
      " |  Static methods defined here:\n",
      " |  \n",
      " |  __new__(*args, **kwargs) from builtins.type\n",
      " |      Create and return a new object.  See help(type) for accurate signature.\n",
      "\n"
     ]
    }
   ],
   "source": [
    "help(zip)"
   ]
  },
  {
   "cell_type": "code",
   "execution_count": 15,
   "metadata": {},
   "outputs": [
    {
     "data": {
      "text/plain": [
       "FullArgSpec(args=['a', 'b'], varargs='arg', varkw='kwarg', defaults=(1,), kwonlyargs=[], kwonlydefaults=None, annotations={})"
      ]
     },
     "execution_count": 15,
     "metadata": {},
     "output_type": "execute_result"
    }
   ],
   "source": [
    "def fnc3(a, b=1, *arg, **kwarg):\n",
    "    print(f\"{a = }\")\n",
    "    print(f\"{arg}\")\n",
    "    print(f\"{kwarg}\")\n",
    "    \n",
    "inspect.getfullargspec(fnc3)"
   ]
  },
  {
   "cell_type": "code",
   "execution_count": 17,
   "metadata": {},
   "outputs": [
    {
     "data": {
      "text/plain": [
       "FullArgSpec(args=['a', 'b'], varargs='arg', varkw='kwarg', defaults=(1,), kwonlyargs=['c'], kwonlydefaults=None, annotations={})"
      ]
     },
     "execution_count": 17,
     "metadata": {},
     "output_type": "execute_result"
    }
   ],
   "source": [
    "def fnc3(a, b=1, *arg, c, **kwarg):\n",
    "    print(f\"{a}\")\n",
    "    print(f\"{arg}\")\n",
    "    print(f\"{kwarg}\")\n",
    "    \n",
    "inspect.getfullargspec(fnc3)"
   ]
  },
  {
   "cell_type": "code",
   "execution_count": null,
   "metadata": {},
   "outputs": [],
   "source": []
  },
  {
   "cell_type": "markdown",
   "metadata": {},
   "source": [
    "## Function Definition (>= Python 3.8)\n",
    "\n",
    "```\n",
    "def f(pos1, pos2, /, pos_or_kwd, *, kwd1, kwd2):\n",
    "      -----------    ----------     ----------\n",
    "        |             |                  |\n",
    "        |        Positional or keyword   |\n",
    "        |                                - Keyword only\n",
    "         -- Positional only\n",
    "```\n"
   ]
  },
  {
   "cell_type": "code",
   "execution_count": 18,
   "metadata": {},
   "outputs": [],
   "source": [
    "def fnc4(a, b, /, c=4,  *,  d=None, e=1):\n",
    "    print(f\"{a}, {b}, {c}, {d}, {e}\")"
   ]
  },
  {
   "cell_type": "code",
   "execution_count": 19,
   "metadata": {},
   "outputs": [
    {
     "data": {
      "text/plain": [
       "FullArgSpec(args=['a', 'b', 'c'], varargs=None, varkw=None, defaults=(4,), kwonlyargs=['d', 'e'], kwonlydefaults={'d': None, 'e': 1}, annotations={})"
      ]
     },
     "execution_count": 19,
     "metadata": {},
     "output_type": "execute_result"
    }
   ],
   "source": [
    "inspect.getfullargspec(fnc4)"
   ]
  },
  {
   "cell_type": "code",
   "execution_count": 27,
   "metadata": {},
   "outputs": [],
   "source": [
    "def fnc5(a, b, z=1, /, c=4,  *,  d=None, e=1):\n",
    "    print(f\"{a = }, {b = }, {z = }, {c = }, {d = }, {e = }\")"
   ]
  },
  {
   "cell_type": "code",
   "execution_count": 28,
   "metadata": {},
   "outputs": [
    {
     "data": {
      "text/plain": [
       "FullArgSpec(args=['a', 'b', 'z', 'c'], varargs=None, varkw=None, defaults=(1, 4), kwonlyargs=['d', 'e'], kwonlydefaults={'d': None, 'e': 1}, annotations={})"
      ]
     },
     "execution_count": 28,
     "metadata": {},
     "output_type": "execute_result"
    }
   ],
   "source": [
    "inspect.getfullargspec(fnc5)"
   ]
  },
  {
   "cell_type": "markdown",
   "metadata": {},
   "source": [
    "## mandatory != positonal arg\n",
    "\n",
    "## optional != keyword arg"
   ]
  },
  {
   "cell_type": "code",
   "execution_count": 29,
   "metadata": {},
   "outputs": [
    {
     "name": "stdout",
     "output_type": "stream",
     "text": [
      "a = 1, b = 2, z = 3, c = 3, d = 1, e = 1\n"
     ]
    }
   ],
   "source": [
    "fnc5(1, 2, 3, c=3, d=1)"
   ]
  },
  {
   "cell_type": "code",
   "execution_count": 30,
   "metadata": {},
   "outputs": [
    {
     "ename": "TypeError",
     "evalue": "fnc5() got some positional-only arguments passed as keyword arguments: 'z'",
     "output_type": "error",
     "traceback": [
      "\u001b[0;31m---------------------------------------------------------------------------\u001b[0m",
      "\u001b[0;31mTypeError\u001b[0m                                 Traceback (most recent call last)",
      "\u001b[0;32m<ipython-input-30-06d302ebf146>\u001b[0m in \u001b[0;36m<module>\u001b[0;34m\u001b[0m\n\u001b[0;32m----> 1\u001b[0;31m \u001b[0mfnc5\u001b[0m\u001b[0;34m(\u001b[0m\u001b[0;36m1\u001b[0m\u001b[0;34m,\u001b[0m \u001b[0;36m2\u001b[0m\u001b[0;34m,\u001b[0m \u001b[0mz\u001b[0m\u001b[0;34m=\u001b[0m\u001b[0;36m3\u001b[0m\u001b[0;34m,\u001b[0m \u001b[0mc\u001b[0m\u001b[0;34m=\u001b[0m\u001b[0;36m3\u001b[0m\u001b[0;34m,\u001b[0m \u001b[0md\u001b[0m\u001b[0;34m=\u001b[0m\u001b[0;36m1\u001b[0m\u001b[0;34m)\u001b[0m\u001b[0;34m\u001b[0m\u001b[0;34m\u001b[0m\u001b[0m\n\u001b[0m",
      "\u001b[0;31mTypeError\u001b[0m: fnc5() got some positional-only arguments passed as keyword arguments: 'z'"
     ]
    }
   ],
   "source": [
    "fnc5(1, 2, z=3, c=3, d=1)"
   ]
  },
  {
   "cell_type": "code",
   "execution_count": 33,
   "metadata": {
    "scrolled": true
   },
   "outputs": [
    {
     "name": "stdout",
     "output_type": "stream",
     "text": [
      "Help on function dump in module json:\n",
      "\n",
      "dump(obj, fp, *, skipkeys=False, ensure_ascii=True, check_circular=True, allow_nan=True, cls=None, indent=None, separators=None, default=None, sort_keys=False, **kw)\n",
      "    Serialize ``obj`` as a JSON formatted stream to ``fp`` (a\n",
      "    ``.write()``-supporting file-like object).\n",
      "    \n",
      "    If ``skipkeys`` is true then ``dict`` keys that are not basic types\n",
      "    (``str``, ``int``, ``float``, ``bool``, ``None``) will be skipped\n",
      "    instead of raising a ``TypeError``.\n",
      "    \n",
      "    If ``ensure_ascii`` is false, then the strings written to ``fp`` can\n",
      "    contain non-ASCII characters if they appear in strings contained in\n",
      "    ``obj``. Otherwise, all such characters are escaped in JSON strings.\n",
      "    \n",
      "    If ``check_circular`` is false, then the circular reference check\n",
      "    for container types will be skipped and a circular reference will\n",
      "    result in an ``OverflowError`` (or worse).\n",
      "    \n",
      "    If ``allow_nan`` is false, then it will be a ``ValueError`` to\n",
      "    serialize out of range ``float`` values (``nan``, ``inf``, ``-inf``)\n",
      "    in strict compliance of the JSON specification, instead of using the\n",
      "    JavaScript equivalents (``NaN``, ``Infinity``, ``-Infinity``).\n",
      "    \n",
      "    If ``indent`` is a non-negative integer, then JSON array elements and\n",
      "    object members will be pretty-printed with that indent level. An indent\n",
      "    level of 0 will only insert newlines. ``None`` is the most compact\n",
      "    representation.\n",
      "    \n",
      "    If specified, ``separators`` should be an ``(item_separator, key_separator)``\n",
      "    tuple.  The default is ``(', ', ': ')`` if *indent* is ``None`` and\n",
      "    ``(',', ': ')`` otherwise.  To get the most compact JSON representation,\n",
      "    you should specify ``(',', ':')`` to eliminate whitespace.\n",
      "    \n",
      "    ``default(obj)`` is a function that should return a serializable version\n",
      "    of obj or raise TypeError. The default simply raises TypeError.\n",
      "    \n",
      "    If *sort_keys* is true (default: ``False``), then the output of\n",
      "    dictionaries will be sorted by key.\n",
      "    \n",
      "    To use a custom ``JSONEncoder`` subclass (e.g. one that overrides the\n",
      "    ``.default()`` method to serialize additional types), specify it with\n",
      "    the ``cls`` kwarg; otherwise ``JSONEncoder`` is used.\n",
      "\n"
     ]
    }
   ],
   "source": [
    "import json\n",
    "\n",
    "help(json.dump)"
   ]
  },
  {
   "cell_type": "code",
   "execution_count": 34,
   "metadata": {},
   "outputs": [
    {
     "ename": "TypeError",
     "evalue": "fnc5() takes from 2 to 4 positional arguments but 5 were given",
     "output_type": "error",
     "traceback": [
      "\u001b[0;31m---------------------------------------------------------------------------\u001b[0m",
      "\u001b[0;31mTypeError\u001b[0m                                 Traceback (most recent call last)",
      "\u001b[0;32m<ipython-input-34-c1d00c4275da>\u001b[0m in \u001b[0;36m<module>\u001b[0;34m\u001b[0m\n\u001b[0;32m----> 1\u001b[0;31m \u001b[0mfnc5\u001b[0m\u001b[0;34m(\u001b[0m\u001b[0;36m1\u001b[0m\u001b[0;34m,\u001b[0m \u001b[0;36m2\u001b[0m\u001b[0;34m,\u001b[0m \u001b[0;36m3\u001b[0m\u001b[0;34m,\u001b[0m \u001b[0;36m3\u001b[0m\u001b[0;34m,\u001b[0m \u001b[0;36m1\u001b[0m\u001b[0;34m)\u001b[0m\u001b[0;34m\u001b[0m\u001b[0;34m\u001b[0m\u001b[0m\n\u001b[0m",
      "\u001b[0;31mTypeError\u001b[0m: fnc5() takes from 2 to 4 positional arguments but 5 were given"
     ]
    }
   ],
   "source": [
    "fnc5(1, 2, 3, 3, 1)"
   ]
  },
  {
   "cell_type": "code",
   "execution_count": 35,
   "metadata": {},
   "outputs": [
    {
     "name": "stdout",
     "output_type": "stream",
     "text": [
      "a = 1, b = 2, z = 3, c = 3, d = None, e = 1\n"
     ]
    }
   ],
   "source": [
    "fnc5(1, 2, 3, 3, e=1)"
   ]
  },
  {
   "cell_type": "markdown",
   "metadata": {},
   "source": [
    "## Docstring"
   ]
  },
  {
   "cell_type": "markdown",
   "metadata": {},
   "source": [
    "### Google Style Python Docstrings\n",
    "\n",
    "https://google.github.io/styleguide/pyguide.html\n",
    "\n",
    "https://sphinxcontrib-napoleon.readthedocs.io/en/latest/example_google.html"
   ]
  },
  {
   "cell_type": "code",
   "execution_count": 36,
   "metadata": {},
   "outputs": [],
   "source": [
    "def google_docstring_function(param1, param2=None, *args, **kwargs):\n",
    "    \"\"\"This is an example of a module level function.\n",
    "\n",
    "    Function parameters should be documented in the ``Args`` section. The name\n",
    "    of each parameter is required. The type and description of each parameter\n",
    "    is optional, but should be included if not obvious.\n",
    "\n",
    "    If \\*args or \\*\\*kwargs are accepted,\n",
    "    they should be listed as ``*args`` and ``**kwargs``.\n",
    "\n",
    "    The format for a parameter is::\n",
    "\n",
    "        name (type): description\n",
    "            The description may span multiple lines. Following\n",
    "            lines should be indented. The \"(type)\" is optional.\n",
    "\n",
    "            Multiple paragraphs are supported in parameter\n",
    "            descriptions.\n",
    "\n",
    "    Args:\n",
    "        param1 (int): The first parameter.\n",
    "        param2 (:obj:`str`, optional): The second parameter. Defaults to None.\n",
    "            Second line of description should be indented.\n",
    "        *args: Variable length argument list.\n",
    "        **kwargs: Arbitrary keyword arguments.\n",
    "\n",
    "    Returns:\n",
    "        bool: True if successful, False otherwise.\n",
    "\n",
    "        The return type is optional and may be specified at the beginning of\n",
    "        the ``Returns`` section followed by a colon.\n",
    "\n",
    "        The ``Returns`` section may span multiple lines and paragraphs.\n",
    "        Following lines should be indented to match the first line.\n",
    "\n",
    "        The ``Returns`` section supports any reStructuredText formatting,\n",
    "        including literal blocks::\n",
    "\n",
    "            {\n",
    "                'param1': param1,\n",
    "                'param2': param2\n",
    "            }\n",
    "\n",
    "    Raises:\n",
    "        AttributeError: The ``Raises`` section is a list of all exceptions\n",
    "            that are relevant to the interface.\n",
    "        ValueError: If `param2` is equal to `param1`.\n",
    "\n",
    "    \"\"\"\n",
    "    if param1 == param2:\n",
    "        raise ValueError('param1 may not be equal to param2')\n",
    "    return True\n"
   ]
  },
  {
   "cell_type": "code",
   "execution_count": 38,
   "metadata": {},
   "outputs": [
    {
     "name": "stdout",
     "output_type": "stream",
     "text": [
      "This is an example of a module level function.\n",
      "\n",
      "    Function parameters should be documented in the ``Args`` section. The name\n",
      "    of each parameter is required. The type and description of each parameter\n",
      "    is optional, but should be included if not obvious.\n",
      "\n",
      "    If \\*args or \\*\\*kwargs are accepted,\n",
      "    they should be listed as ``*args`` and ``**kwargs``.\n",
      "\n",
      "    The format for a parameter is::\n",
      "\n",
      "        name (type): description\n",
      "            The description may span multiple lines. Following\n",
      "            lines should be indented. The \"(type)\" is optional.\n",
      "\n",
      "            Multiple paragraphs are supported in parameter\n",
      "            descriptions.\n",
      "\n",
      "    Args:\n",
      "        param1 (int): The first parameter.\n",
      "        param2 (:obj:`str`, optional): The second parameter. Defaults to None.\n",
      "            Second line of description should be indented.\n",
      "        *args: Variable length argument list.\n",
      "        **kwargs: Arbitrary keyword arguments.\n",
      "\n",
      "    Returns:\n",
      "        bool: True if successful, False otherwise.\n",
      "\n",
      "        The return type is optional and may be specified at the beginning of\n",
      "        the ``Returns`` section followed by a colon.\n",
      "\n",
      "        The ``Returns`` section may span multiple lines and paragraphs.\n",
      "        Following lines should be indented to match the first line.\n",
      "\n",
      "        The ``Returns`` section supports any reStructuredText formatting,\n",
      "        including literal blocks::\n",
      "\n",
      "            {\n",
      "                'param1': param1,\n",
      "                'param2': param2\n",
      "            }\n",
      "\n",
      "    Raises:\n",
      "        AttributeError: The ``Raises`` section is a list of all exceptions\n",
      "            that are relevant to the interface.\n",
      "        ValueError: If `param2` is equal to `param1`.\n",
      "\n",
      "    \n"
     ]
    }
   ],
   "source": [
    "print(google_docstring_function.__doc__)"
   ]
  },
  {
   "cell_type": "code",
   "execution_count": 41,
   "metadata": {},
   "outputs": [
    {
     "name": "stdout",
     "output_type": "stream",
     "text": [
      "Help on function google_docstring_function in module __main__:\n",
      "\n",
      "google_docstring_function(param1, param2=None, *args, **kwargs)\n",
      "    This is an example of a module level function.\n",
      "    \n",
      "    Function parameters should be documented in the ``Args`` section. The name\n",
      "    of each parameter is required. The type and description of each parameter\n",
      "    is optional, but should be included if not obvious.\n",
      "    \n",
      "    If \\*args or \\*\\*kwargs are accepted,\n",
      "    they should be listed as ``*args`` and ``**kwargs``.\n",
      "    \n",
      "    The format for a parameter is::\n",
      "    \n",
      "        name (type): description\n",
      "            The description may span multiple lines. Following\n",
      "            lines should be indented. The \"(type)\" is optional.\n",
      "    \n",
      "            Multiple paragraphs are supported in parameter\n",
      "            descriptions.\n",
      "    \n",
      "    Args:\n",
      "        param1 (int): The first parameter.\n",
      "        param2 (:obj:`str`, optional): The second parameter. Defaults to None.\n",
      "            Second line of description should be indented.\n",
      "        *args: Variable length argument list.\n",
      "        **kwargs: Arbitrary keyword arguments.\n",
      "    \n",
      "    Returns:\n",
      "        bool: True if successful, False otherwise.\n",
      "    \n",
      "        The return type is optional and may be specified at the beginning of\n",
      "        the ``Returns`` section followed by a colon.\n",
      "    \n",
      "        The ``Returns`` section may span multiple lines and paragraphs.\n",
      "        Following lines should be indented to match the first line.\n",
      "    \n",
      "        The ``Returns`` section supports any reStructuredText formatting,\n",
      "        including literal blocks::\n",
      "    \n",
      "            {\n",
      "                'param1': param1,\n",
      "                'param2': param2\n",
      "            }\n",
      "    \n",
      "    Raises:\n",
      "        AttributeError: The ``Raises`` section is a list of all exceptions\n",
      "            that are relevant to the interface.\n",
      "        ValueError: If `param2` is equal to `param1`.\n",
      "\n"
     ]
    }
   ],
   "source": [
    "help(google_docstring_function)"
   ]
  },
  {
   "cell_type": "code",
   "execution_count": 39,
   "metadata": {},
   "outputs": [
    {
     "name": "stdout",
     "output_type": "stream",
     "text": [
      "Help on function fnc5 in module __main__:\n",
      "\n",
      "fnc5(a, b, z=1, /, c=4, *, d=None, e=1)\n",
      "\n"
     ]
    }
   ],
   "source": [
    "help(fnc5)"
   ]
  },
  {
   "cell_type": "code",
   "execution_count": 40,
   "metadata": {},
   "outputs": [
    {
     "name": "stdout",
     "output_type": "stream",
     "text": [
      "None\n"
     ]
    }
   ],
   "source": [
    "print(fnc5.__doc__)"
   ]
  },
  {
   "cell_type": "code",
   "execution_count": null,
   "metadata": {},
   "outputs": [],
   "source": []
  },
  {
   "cell_type": "markdown",
   "metadata": {},
   "source": [
    "### NumPy Style Python Docstrings\n",
    "\n",
    "https://sphinxcontrib-napoleon.readthedocs.io/en/latest/example_numpy.html#example-numpy"
   ]
  },
  {
   "cell_type": "code",
   "execution_count": 42,
   "metadata": {},
   "outputs": [],
   "source": [
    "def numpy_docstring_function(param1, param2=None, *args, **kwargs):\n",
    "    \"\"\"This is an example of a module level function.\n",
    "\n",
    "    Function parameters should be documented in the ``Parameters`` section.\n",
    "    The name of each parameter is required. The type and description of each\n",
    "    parameter is optional, but should be included if not obvious.\n",
    "\n",
    "    If \\*args or \\*\\*kwargs are accepted,\n",
    "    they should be listed as ``*args`` and ``**kwargs``.\n",
    "\n",
    "    The format for a parameter is::\n",
    "\n",
    "        name : type\n",
    "            description\n",
    "\n",
    "            The description may span multiple lines. Following lines\n",
    "            should be indented to match the first line of the description.\n",
    "            The \": type\" is optional.\n",
    "\n",
    "            Multiple paragraphs are supported in parameter\n",
    "            descriptions.\n",
    "\n",
    "    Parameters\n",
    "    ----------\n",
    "    param1 : int\n",
    "        The first parameter.\n",
    "    param2 : :obj:`str`, optional\n",
    "        The second parameter.\n",
    "    *args\n",
    "        Variable length argument list.\n",
    "    **kwargs\n",
    "        Arbitrary keyword arguments.\n",
    "\n",
    "    Returns\n",
    "    -------\n",
    "    bool\n",
    "        True if successful, False otherwise.\n",
    "\n",
    "        The return type is not optional. The ``Returns`` section may span\n",
    "        multiple lines and paragraphs. Following lines should be indented to\n",
    "        match the first line of the description.\n",
    "\n",
    "        The ``Returns`` section supports any reStructuredText formatting,\n",
    "        including literal blocks::\n",
    "\n",
    "            {\n",
    "                'param1': param1,\n",
    "                'param2': param2\n",
    "            }\n",
    "\n",
    "    Raises\n",
    "    ------\n",
    "    AttributeError\n",
    "        The ``Raises`` section is a list of all exceptions\n",
    "        that are relevant to the interface.\n",
    "    ValueError\n",
    "        If `param2` is equal to `param1`.\n",
    "\n",
    "    \"\"\"\n",
    "    if param1 == param2:\n",
    "        raise ValueError('param1 may not be equal to param2')\n",
    "    return True"
   ]
  },
  {
   "cell_type": "code",
   "execution_count": 43,
   "metadata": {},
   "outputs": [
    {
     "name": "stdout",
     "output_type": "stream",
     "text": [
      "Help on function numpy_docstring_function in module __main__:\n",
      "\n",
      "numpy_docstring_function(param1, param2=None, *args, **kwargs)\n",
      "    This is an example of a module level function.\n",
      "    \n",
      "    Function parameters should be documented in the ``Parameters`` section.\n",
      "    The name of each parameter is required. The type and description of each\n",
      "    parameter is optional, but should be included if not obvious.\n",
      "    \n",
      "    If \\*args or \\*\\*kwargs are accepted,\n",
      "    they should be listed as ``*args`` and ``**kwargs``.\n",
      "    \n",
      "    The format for a parameter is::\n",
      "    \n",
      "        name : type\n",
      "            description\n",
      "    \n",
      "            The description may span multiple lines. Following lines\n",
      "            should be indented to match the first line of the description.\n",
      "            The \": type\" is optional.\n",
      "    \n",
      "            Multiple paragraphs are supported in parameter\n",
      "            descriptions.\n",
      "    \n",
      "    Parameters\n",
      "    ----------\n",
      "    param1 : int\n",
      "        The first parameter.\n",
      "    param2 : :obj:`str`, optional\n",
      "        The second parameter.\n",
      "    *args\n",
      "        Variable length argument list.\n",
      "    **kwargs\n",
      "        Arbitrary keyword arguments.\n",
      "    \n",
      "    Returns\n",
      "    -------\n",
      "    bool\n",
      "        True if successful, False otherwise.\n",
      "    \n",
      "        The return type is not optional. The ``Returns`` section may span\n",
      "        multiple lines and paragraphs. Following lines should be indented to\n",
      "        match the first line of the description.\n",
      "    \n",
      "        The ``Returns`` section supports any reStructuredText formatting,\n",
      "        including literal blocks::\n",
      "    \n",
      "            {\n",
      "                'param1': param1,\n",
      "                'param2': param2\n",
      "            }\n",
      "    \n",
      "    Raises\n",
      "    ------\n",
      "    AttributeError\n",
      "        The ``Raises`` section is a list of all exceptions\n",
      "        that are relevant to the interface.\n",
      "    ValueError\n",
      "        If `param2` is equal to `param1`.\n",
      "\n"
     ]
    }
   ],
   "source": [
    "help(numpy_docstring_function)"
   ]
  },
  {
   "cell_type": "code",
   "execution_count": null,
   "metadata": {},
   "outputs": [],
   "source": []
  },
  {
   "cell_type": "code",
   "execution_count": null,
   "metadata": {},
   "outputs": [],
   "source": []
  },
  {
   "cell_type": "code",
   "execution_count": null,
   "metadata": {},
   "outputs": [],
   "source": []
  },
  {
   "cell_type": "markdown",
   "metadata": {},
   "source": [
    "## reStructuredText Docstring Format\n",
    "\n",
    "https://www.python.org/dev/peps/pep-0287/\n",
    "\n",
    "https://thomas-cokelaer.info/tutorials/sphinx/docstring_python.html"
   ]
  },
  {
   "cell_type": "code",
   "execution_count": 44,
   "metadata": {},
   "outputs": [],
   "source": [
    "def sphinx_docstring_function(arg1, arg2, arg3):\n",
    "    \"\"\"returns (arg1 / arg2) + arg3\n",
    "\n",
    "    This is a longer explanation, which may include math with latex syntax\n",
    "    :math:`\\\\alpha`.\n",
    "    Then, you need to provide optional subsection in this order (just to be\n",
    "    consistent and have a uniform documentation. Nothing prevent you to\n",
    "    switch the order):\n",
    "\n",
    "      - parameters using ``:param <name>: <description>``\n",
    "      - type of the parameters ``:type <name>: <description>``\n",
    "      - returns using ``:returns: <description>``\n",
    "      - examples (doctest)\n",
    "      - seealso using ``.. seealso:: text``\n",
    "      - notes using ``.. note:: text``\n",
    "      - warning using ``.. warning:: text``\n",
    "      - todo ``.. todo:: text``\n",
    "\n",
    "    **Advantages**:\n",
    "     - Uses sphinx markups, which will certainly be improved in future\n",
    "       version\n",
    "     - Nice HTML output with the See Also, Note, Warnings directives\n",
    "\n",
    "\n",
    "    **Drawbacks**:\n",
    "     - Just looking at the docstring, the parameter, type and  return\n",
    "       sections do not appear nicely\n",
    "\n",
    "    :param arg1: the first value\n",
    "    :param arg2: the first value\n",
    "    :param arg3: the first value\n",
    "    :type arg1: int, float,...\n",
    "    :type arg2: int, float,...\n",
    "    :type arg3: int, float,...\n",
    "    :returns: arg1/arg2 + arg3\n",
    "    :rtype: int, float\n",
    "\n",
    "    :Example:\n",
    "\n",
    "    >>> import template\n",
    "    >>> a = template.MainClass1()\n",
    "    >>> a.function1(1,1,1)\n",
    "    2\n",
    "\n",
    "    .. note:: can be useful to emphasize\n",
    "        important feature\n",
    "    .. seealso:: :class:`MainClass2`\n",
    "    .. warning:: arg2 must be non-zero.\n",
    "    .. todo:: check that arg2 is non zero.\n",
    "    \"\"\"\n",
    "    return arg1 / arg2 + arg3"
   ]
  },
  {
   "cell_type": "code",
   "execution_count": 45,
   "metadata": {},
   "outputs": [
    {
     "name": "stdout",
     "output_type": "stream",
     "text": [
      "Help on function sphinx_docstring_function in module __main__:\n",
      "\n",
      "sphinx_docstring_function(arg1, arg2, arg3)\n",
      "    returns (arg1 / arg2) + arg3\n",
      "    \n",
      "    This is a longer explanation, which may include math with latex syntax\n",
      "    :math:`\\alpha`.\n",
      "    Then, you need to provide optional subsection in this order (just to be\n",
      "    consistent and have a uniform documentation. Nothing prevent you to\n",
      "    switch the order):\n",
      "    \n",
      "      - parameters using ``:param <name>: <description>``\n",
      "      - type of the parameters ``:type <name>: <description>``\n",
      "      - returns using ``:returns: <description>``\n",
      "      - examples (doctest)\n",
      "      - seealso using ``.. seealso:: text``\n",
      "      - notes using ``.. note:: text``\n",
      "      - warning using ``.. warning:: text``\n",
      "      - todo ``.. todo:: text``\n",
      "    \n",
      "    **Advantages**:\n",
      "     - Uses sphinx markups, which will certainly be improved in future\n",
      "       version\n",
      "     - Nice HTML output with the See Also, Note, Warnings directives\n",
      "    \n",
      "    \n",
      "    **Drawbacks**:\n",
      "     - Just looking at the docstring, the parameter, type and  return\n",
      "       sections do not appear nicely\n",
      "    \n",
      "    :param arg1: the first value\n",
      "    :param arg2: the first value\n",
      "    :param arg3: the first value\n",
      "    :type arg1: int, float,...\n",
      "    :type arg2: int, float,...\n",
      "    :type arg3: int, float,...\n",
      "    :returns: arg1/arg2 + arg3\n",
      "    :rtype: int, float\n",
      "    \n",
      "    :Example:\n",
      "    \n",
      "    >>> import template\n",
      "    >>> a = template.MainClass1()\n",
      "    >>> a.function1(1,1,1)\n",
      "    2\n",
      "    \n",
      "    .. note:: can be useful to emphasize\n",
      "        important feature\n",
      "    .. seealso:: :class:`MainClass2`\n",
      "    .. warning:: arg2 must be non-zero.\n",
      "    .. todo:: check that arg2 is non zero.\n",
      "\n"
     ]
    }
   ],
   "source": [
    "help(sphinx_docstring_function)"
   ]
  },
  {
   "cell_type": "code",
   "execution_count": null,
   "metadata": {},
   "outputs": [],
   "source": []
  },
  {
   "cell_type": "markdown",
   "metadata": {},
   "source": [
    "## functools\n",
    "\n",
    "https://docs.python.org/3/library/functools.html\n",
    "\n",
    "\n",
    "Andrey's top:\n",
    "+ [functools.partial](https://docs.python.org/3/library/functools.html#functools.partial)\n",
    "+ [@functools.wraps](https://docs.python.org/3/library/functools.html#functools.wraps)\n",
    "+ [@functools.total_ordering](https://docs.python.org/3/library/functools.html#functools.total_ordering)\n"
   ]
  },
  {
   "cell_type": "code",
   "execution_count": null,
   "metadata": {},
   "outputs": [],
   "source": []
  },
  {
   "cell_type": "markdown",
   "metadata": {},
   "source": [
    "## Decorators\n",
    "\n",
    "[PEP 318 -- Decorators for Functions and Methods](https://www.python.org/dev/peps/pep-0318/)"
   ]
  },
  {
   "cell_type": "code",
   "execution_count": 54,
   "metadata": {},
   "outputs": [],
   "source": [
    "def another_function_1(func):\n",
    "    \"\"\"\n",
    "    A function that accepts another function\n",
    "    \"\"\"\n",
    "\n",
    "    def other_func():\n",
    "        print(\"Prepare to execute function %r\" % func.__name__)\n",
    "        result = func()\n",
    "        print(\"The result is %r\" % result)\n",
    "        return result\n",
    "    \n",
    "    return other_func\n",
    "\n",
    "\n",
    "def dummy_1():\n",
    "    \"\"\"Dummy Function Version 1\"\"\"\n",
    "    return 42"
   ]
  },
  {
   "cell_type": "code",
   "execution_count": 55,
   "metadata": {},
   "outputs": [],
   "source": [
    "fn = another_function_1(dummy_1)"
   ]
  },
  {
   "cell_type": "code",
   "execution_count": 48,
   "metadata": {},
   "outputs": [
    {
     "data": {
      "text/plain": [
       "function"
      ]
     },
     "execution_count": 48,
     "metadata": {},
     "output_type": "execute_result"
    }
   ],
   "source": [
    "type(fn)"
   ]
  },
  {
   "cell_type": "code",
   "execution_count": 49,
   "metadata": {},
   "outputs": [
    {
     "name": "stdout",
     "output_type": "stream",
     "text": [
      "Prepare to execute function 'dummy_1'\n",
      "The result is 42\n"
     ]
    },
    {
     "data": {
      "text/plain": [
       "42"
      ]
     },
     "execution_count": 49,
     "metadata": {},
     "output_type": "execute_result"
    }
   ],
   "source": [
    "fn()"
   ]
  },
  {
   "cell_type": "code",
   "execution_count": 53,
   "metadata": {},
   "outputs": [],
   "source": [
    "@another_function_1  ## fn = another_function_1(dummy_1)\n",
    "def dummy_2():\n",
    "    \"\"\"Dummy Function Version 1\"\"\"\n",
    "    return 42"
   ]
  },
  {
   "cell_type": "code",
   "execution_count": 56,
   "metadata": {},
   "outputs": [
    {
     "name": "stdout",
     "output_type": "stream",
     "text": [
      "Prepare to execute function 'dummy_2'\n",
      "The result is 42\n"
     ]
    },
    {
     "data": {
      "text/plain": [
       "42"
      ]
     },
     "execution_count": 56,
     "metadata": {},
     "output_type": "execute_result"
    }
   ],
   "source": [
    "dummy_2()"
   ]
  },
  {
   "cell_type": "code",
   "execution_count": 57,
   "metadata": {},
   "outputs": [],
   "source": [
    "@another_function_1  ## fn = another_function_1(dummy_1)\n",
    "def dummy_3(result):\n",
    "    \"\"\"Dummy Function Version 1\"\"\"\n",
    "    return result"
   ]
  },
  {
   "cell_type": "code",
   "execution_count": 59,
   "metadata": {},
   "outputs": [
    {
     "ename": "TypeError",
     "evalue": "other_func() takes 0 positional arguments but 1 was given",
     "output_type": "error",
     "traceback": [
      "\u001b[0;31m---------------------------------------------------------------------------\u001b[0m",
      "\u001b[0;31mTypeError\u001b[0m                                 Traceback (most recent call last)",
      "\u001b[0;32m<ipython-input-59-f880e7716d28>\u001b[0m in \u001b[0;36m<module>\u001b[0;34m\u001b[0m\n\u001b[0;32m----> 1\u001b[0;31m \u001b[0mdummy_3\u001b[0m\u001b[0;34m(\u001b[0m\u001b[0;36m42\u001b[0m\u001b[0;34m)\u001b[0m\u001b[0;34m\u001b[0m\u001b[0;34m\u001b[0m\u001b[0m\n\u001b[0m",
      "\u001b[0;31mTypeError\u001b[0m: other_func() takes 0 positional arguments but 1 was given"
     ]
    }
   ],
   "source": [
    "dummy_3(42)"
   ]
  },
  {
   "cell_type": "code",
   "execution_count": 60,
   "metadata": {},
   "outputs": [],
   "source": [
    "def another_function_2(func):\n",
    "    \"\"\"\n",
    "    A function that accepts another function\n",
    "    \"\"\"\n",
    "\n",
    "    def other_func(result):\n",
    "        print(\"Prepare to execute function %r\" % func.__name__)\n",
    "        result = func(result)\n",
    "        print(\"The result is %r\" % result)\n",
    "        return result\n",
    "    \n",
    "    return other_func"
   ]
  },
  {
   "cell_type": "code",
   "execution_count": 61,
   "metadata": {},
   "outputs": [],
   "source": [
    "@another_function_2  ## fn = another_function_1(dummy_1)\n",
    "def dummy_3(result):\n",
    "    \"\"\"Dummy Function Version 1\"\"\"\n",
    "    return result"
   ]
  },
  {
   "cell_type": "code",
   "execution_count": 62,
   "metadata": {},
   "outputs": [
    {
     "name": "stdout",
     "output_type": "stream",
     "text": [
      "Prepare to execute function 'dummy_3'\n",
      "The result is 42\n"
     ]
    },
    {
     "data": {
      "text/plain": [
       "42"
      ]
     },
     "execution_count": 62,
     "metadata": {},
     "output_type": "execute_result"
    }
   ],
   "source": [
    "dummy_3(42)"
   ]
  },
  {
   "cell_type": "code",
   "execution_count": 63,
   "metadata": {},
   "outputs": [
    {
     "name": "stdout",
     "output_type": "stream",
     "text": [
      "Prepare to execute function 'dummy_3'\n",
      "The result is 41\n"
     ]
    },
    {
     "data": {
      "text/plain": [
       "41"
      ]
     },
     "execution_count": 63,
     "metadata": {},
     "output_type": "execute_result"
    }
   ],
   "source": [
    "dummy_3(41)"
   ]
  },
  {
   "cell_type": "code",
   "execution_count": 69,
   "metadata": {},
   "outputs": [],
   "source": [
    "def another_function_3(func):\n",
    "    \"\"\"\n",
    "    A function that accepts another function\n",
    "    \"\"\"\n",
    "\n",
    "    def wrapper(*arg, **kwarg):\n",
    "        print(\"Prepare to execute function %r\" % func.__name__)\n",
    "        result = func(*arg, **kwarg)\n",
    "        print(\"The result is %r\" % str(result))\n",
    "        return result\n",
    "    \n",
    "    return wrapper"
   ]
  },
  {
   "cell_type": "code",
   "execution_count": 70,
   "metadata": {},
   "outputs": [],
   "source": [
    "@another_function_3  ## fn = another_function_1(dummy_1)\n",
    "def dummy_4(result):\n",
    "    \"\"\"Dummy Function Version 4\"\"\"\n",
    "    return result\n",
    "\n",
    "@another_function_3\n",
    "def dummy_5(result, k=\"2\"):\n",
    "    \"\"\"Dummy Function Version 5\"\"\"\n",
    "    return result, k"
   ]
  },
  {
   "cell_type": "code",
   "execution_count": 72,
   "metadata": {},
   "outputs": [
    {
     "name": "stdout",
     "output_type": "stream",
     "text": [
      "Prepare to execute function 'dummy_4'\n",
      "The result is '1'\n"
     ]
    },
    {
     "data": {
      "text/plain": [
       "1"
      ]
     },
     "execution_count": 72,
     "metadata": {},
     "output_type": "execute_result"
    }
   ],
   "source": [
    "dummy_4(1)"
   ]
  },
  {
   "cell_type": "code",
   "execution_count": 73,
   "metadata": {},
   "outputs": [
    {
     "name": "stdout",
     "output_type": "stream",
     "text": [
      "Prepare to execute function 'dummy_5'\n",
      "The result is '(1, None)'\n"
     ]
    },
    {
     "data": {
      "text/plain": [
       "(1, None)"
      ]
     },
     "execution_count": 73,
     "metadata": {},
     "output_type": "execute_result"
    }
   ],
   "source": [
    "dummy_5(1, k=None)"
   ]
  },
  {
   "cell_type": "code",
   "execution_count": 74,
   "metadata": {},
   "outputs": [
    {
     "name": "stdout",
     "output_type": "stream",
     "text": [
      "Help on function wrapper in module __main__:\n",
      "\n",
      "wrapper(*arg, **kwarg)\n",
      "\n"
     ]
    }
   ],
   "source": [
    "help(dummy_5)"
   ]
  },
  {
   "cell_type": "code",
   "execution_count": 75,
   "metadata": {},
   "outputs": [
    {
     "data": {
      "text/plain": [
       "'wrapper'"
      ]
     },
     "execution_count": 75,
     "metadata": {},
     "output_type": "execute_result"
    }
   ],
   "source": [
    "dummy_5.__name__"
   ]
  },
  {
   "cell_type": "code",
   "execution_count": 76,
   "metadata": {},
   "outputs": [],
   "source": [
    "import functools\n",
    "\n",
    "def another_function_4(func):\n",
    "    \"\"\"\n",
    "    A function that accepts another function\n",
    "    \"\"\"\n",
    "\n",
    "    @functools.wraps(func)\n",
    "    def wrapper(*arg, **kwarg):\n",
    "        print(\"Prepare to execute function %r\" % func.__name__)\n",
    "        result = func(*arg, **kwarg)\n",
    "        print(\"The result is %r\" % str(result))\n",
    "        return result\n",
    "    \n",
    "    return wrapper"
   ]
  },
  {
   "cell_type": "code",
   "execution_count": 77,
   "metadata": {},
   "outputs": [],
   "source": [
    "@another_function_4  ## fn = another_function_4(dummy_6)\n",
    "def dummy_6(result):\n",
    "    \"\"\"Dummy Function Version 6\"\"\"\n",
    "    return result\n"
   ]
  },
  {
   "cell_type": "code",
   "execution_count": 78,
   "metadata": {},
   "outputs": [
    {
     "name": "stdout",
     "output_type": "stream",
     "text": [
      "Prepare to execute function 'dummy_6'\n",
      "The result is '1'\n"
     ]
    },
    {
     "data": {
      "text/plain": [
       "1"
      ]
     },
     "execution_count": 78,
     "metadata": {},
     "output_type": "execute_result"
    }
   ],
   "source": [
    "dummy_6(1)"
   ]
  },
  {
   "cell_type": "code",
   "execution_count": 79,
   "metadata": {},
   "outputs": [
    {
     "name": "stdout",
     "output_type": "stream",
     "text": [
      "Help on function dummy_6 in module __main__:\n",
      "\n",
      "dummy_6(result)\n",
      "    Dummy Function Version 6\n",
      "\n"
     ]
    }
   ],
   "source": [
    "help(dummy_6)"
   ]
  },
  {
   "cell_type": "code",
   "execution_count": 80,
   "metadata": {},
   "outputs": [
    {
     "data": {
      "text/plain": [
       "'dummy_6'"
      ]
     },
     "execution_count": 80,
     "metadata": {},
     "output_type": "execute_result"
    }
   ],
   "source": [
    "dummy_6.__name__"
   ]
  },
  {
   "cell_type": "code",
   "execution_count": 81,
   "metadata": {},
   "outputs": [],
   "source": [
    "def another_decorator_1(a=1):\n",
    "    \"\"\"\n",
    "    A function that accepts another function\n",
    "    \"\"\"\n",
    "    print(\"another_decorator_1: a = %s\" % a)\n",
    "    \n",
    "    def actual_decorator(func):\n",
    "        print(\"actual_decorator: a = %s\" % a)\n",
    "        \n",
    "        @functools.wraps(func)\n",
    "        def wrapper(*arg, **kwarg):\n",
    "            print(\"wrapper: a = %s\" % a)\n",
    "            \n",
    "            print(\"Prepare to execute function %r\" % func.__name__)\n",
    "            result = func(*arg, **kwarg)\n",
    "            print(\"The result is %r\" % str(result))\n",
    "            return result\n",
    "          \n",
    "        return wrapper\n",
    "    return actual_decorator"
   ]
  },
  {
   "cell_type": "code",
   "execution_count": 82,
   "metadata": {},
   "outputs": [
    {
     "name": "stdout",
     "output_type": "stream",
     "text": [
      "another_decorator_1: a = 2\n",
      "actual_decorator: a = 2\n",
      "wrapper: a = 2\n",
      "Prepare to execute function 'dummy_7'\n",
      "The result is '1'\n"
     ]
    },
    {
     "data": {
      "text/plain": [
       "1"
      ]
     },
     "execution_count": 82,
     "metadata": {},
     "output_type": "execute_result"
    }
   ],
   "source": [
    "@another_decorator_1(a=2)\n",
    "def dummy_7(result):\n",
    "    \"\"\"Dummy Function Version 7\"\"\"\n",
    "    return result\n",
    "\n",
    "dummy_7(1)"
   ]
  },
  {
   "cell_type": "code",
   "execution_count": null,
   "metadata": {},
   "outputs": [],
   "source": []
  },
  {
   "cell_type": "markdown",
   "metadata": {},
   "source": [
    "## Type Hints\n",
    "\n",
    "[PEP 484 -- Type Hints](https://www.python.org/dev/peps/pep-0484/): Python 3.5\n",
    "\n",
    "[PEP 526 -- Syntax for Variable Annotations](https://www.python.org/dev/peps/pep-0526/): Python 3.6\n",
    "\n",
    "[PEP 544 -- Protocols: Structural subtyping (static duck typing)](https://www.python.org/dev/peps/pep-0544/): Python 3.8\n",
    "\n",
    "[PEP 586 -- Literal Types](https://www.python.org/dev/peps/pep-0586/): Python 3.8\n",
    "\n",
    "[PEP 589 -- TypedDict: Type Hints for Dictionaries with a Fixed Set of Keys](https://www.python.org/dev/peps/pep-0589/): Python 3.8\n",
    "\n",
    "[PEP 591 -- Adding a final qualifier to typing](https://www.python.org/dev/peps/pep-0591/): Python 3.8\n",
    "\n",
    "    \n",
    "## tl;dr\n",
    "typing module: [Latest](https://docs.python.org/3/library/typing.html), [Python 3.6-3.8](https://docs.python.org/3.8/library/typing.html)\n",
    "\n",
    "[Type hints cheat sheet](https://mypy.readthedocs.io/en/stable/cheat_sheet_py3.html)\n"
   ]
  },
  {
   "cell_type": "code",
   "execution_count": 83,
   "metadata": {},
   "outputs": [],
   "source": [
    "age: int = 1"
   ]
  },
  {
   "cell_type": "code",
   "execution_count": 84,
   "metadata": {},
   "outputs": [],
   "source": [
    "age: int = \"s\""
   ]
  },
  {
   "cell_type": "markdown",
   "metadata": {},
   "source": [
    "```python\n",
    "## Python 3.9\n",
    "from typing import Union\n",
    "\n",
    "\n",
    "def fun(a: Union[int, str], b: str, c: str = None) -> dict:\n",
    "    return a, b, c\n",
    "\n",
    "\n",
    "\n",
    "fun(1, \"st\", \"st\")\n",
    "fun(\"str\", \"st\", \"st\")\n",
    "fun(0.1, \"st\", \"st\")\n",
    "\n",
    "# fun(1, \"st\", \"st\").items()\n",
    "\n",
    "def fun(*args: int) -> tuple[int]:\n",
    "    return args\n",
    "\n",
    "\n",
    "## Python 3.6 - 3.8\n",
    "from typing import Tuple, Union, Dict\n",
    "\n",
    "\n",
    "def fun(a: Union[int, str], b: str, c: str = None) -> dict:\n",
    "    return a, b, c\n",
    "\n",
    "fun(1, \"st\", \"st\")\n",
    "fun(\"str\", \"st\", \"st\")\n",
    "fun(0.1, \"st\", \"st\")\n",
    "\n",
    "fun(1, \"st\", \"st\")\n",
    "\n",
    "\n",
    "\n",
    "def fun(*args: int) -> Tuple[int]:\n",
    "    return args\n",
    "\n",
    "```"
   ]
  }
 ],
 "metadata": {
  "kernelspec": {
   "display_name": "Python 3",
   "language": "python",
   "name": "python3"
  },
  "language_info": {
   "codemirror_mode": {
    "name": "ipython",
    "version": 3
   },
   "file_extension": ".py",
   "mimetype": "text/x-python",
   "name": "python",
   "nbconvert_exporter": "python",
   "pygments_lexer": "ipython3",
   "version": "3.8.5"
  }
 },
 "nbformat": 4,
 "nbformat_minor": 4
}
